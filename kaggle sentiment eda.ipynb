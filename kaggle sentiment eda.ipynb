{
 "cells": [
  {
   "cell_type": "markdown",
   "id": "33d09222",
   "metadata": {},
   "source": [
    "# setup"
   ]
  },
  {
   "cell_type": "code",
   "execution_count": 1,
   "id": "d4dee6e9",
   "metadata": {
    "ExecuteTime": {
     "end_time": "2021-10-31T23:56:41.322068Z",
     "start_time": "2021-10-31T23:56:41.307314Z"
    }
   },
   "outputs": [],
   "source": [
    "%load_ext autoreload\n",
    "%autoreload 2"
   ]
  },
  {
   "cell_type": "code",
   "execution_count": 2,
   "id": "bd43ba58",
   "metadata": {
    "ExecuteTime": {
     "end_time": "2021-10-31T23:56:42.101120Z",
     "start_time": "2021-10-31T23:56:41.420246Z"
    }
   },
   "outputs": [],
   "source": [
    "import os\n",
    "import re\n",
    "import pickle\n",
    "import random\n",
    "from typing import Sequence\n",
    "from tempfile import mkdtemp\n",
    "\n",
    "import numpy as np\n",
    "import pandas as pd\n",
    "\n",
    "from sklearn.pipeline import Pipeline\n",
    "\n",
    "from src.io import csv_loader_factory, PickleLoader\n",
    "from src.preproc import RawDataCleaner, TextCleaner, SimpleTokenizer\n",
    "\n",
    "pd.set_option('display.max_rows', 100)"
   ]
  },
  {
   "cell_type": "markdown",
   "id": "2c318bda",
   "metadata": {},
   "source": [
    "# load raw data"
   ]
  },
  {
   "cell_type": "code",
   "execution_count": 3,
   "id": "cf05212c",
   "metadata": {
    "ExecuteTime": {
     "end_time": "2021-10-31T23:56:45.332211Z",
     "start_time": "2021-10-31T23:56:42.103280Z"
    }
   },
   "outputs": [
    {
     "name": "stderr",
     "output_type": "stream",
     "text": [
      "INFO:2021-11-01 00:56:42:io:loading from csv: ./data/training.1600000.processed.noemoticon.csv\n",
      "INFO:2021-11-01 00:56:45:io:loaded 1600000 rows\n"
     ]
    }
   ],
   "source": [
    "loader = csv_loader_factory('tweets')\n",
    "data = loader.load()"
   ]
  },
  {
   "cell_type": "code",
   "execution_count": 4,
   "id": "052e780a",
   "metadata": {
    "ExecuteTime": {
     "end_time": "2021-10-30T10:42:01.982020Z",
     "start_time": "2021-10-30T10:42:01.955131Z"
    }
   },
   "outputs": [
    {
     "data": {
      "text/html": [
       "<div>\n",
       "<style scoped>\n",
       "    .dataframe tbody tr th:only-of-type {\n",
       "        vertical-align: middle;\n",
       "    }\n",
       "\n",
       "    .dataframe tbody tr th {\n",
       "        vertical-align: top;\n",
       "    }\n",
       "\n",
       "    .dataframe thead th {\n",
       "        text-align: right;\n",
       "    }\n",
       "</style>\n",
       "<table border=\"1\" class=\"dataframe\">\n",
       "  <thead>\n",
       "    <tr style=\"text-align: right;\">\n",
       "      <th></th>\n",
       "      <th>target</th>\n",
       "      <th>ids</th>\n",
       "      <th>date</th>\n",
       "      <th>flag</th>\n",
       "      <th>user</th>\n",
       "      <th>text</th>\n",
       "    </tr>\n",
       "  </thead>\n",
       "  <tbody>\n",
       "    <tr>\n",
       "      <th>0</th>\n",
       "      <td>0</td>\n",
       "      <td>1467810369</td>\n",
       "      <td>Mon Apr 06 22:19:45 PDT 2009</td>\n",
       "      <td>NO_QUERY</td>\n",
       "      <td>_TheSpecialOne_</td>\n",
       "      <td>@switchfoot http://twitpic.com/2y1zl - Awww, t...</td>\n",
       "    </tr>\n",
       "    <tr>\n",
       "      <th>1</th>\n",
       "      <td>0</td>\n",
       "      <td>1467810672</td>\n",
       "      <td>Mon Apr 06 22:19:49 PDT 2009</td>\n",
       "      <td>NO_QUERY</td>\n",
       "      <td>scotthamilton</td>\n",
       "      <td>is upset that he can't update his Facebook by ...</td>\n",
       "    </tr>\n",
       "    <tr>\n",
       "      <th>2</th>\n",
       "      <td>0</td>\n",
       "      <td>1467810917</td>\n",
       "      <td>Mon Apr 06 22:19:53 PDT 2009</td>\n",
       "      <td>NO_QUERY</td>\n",
       "      <td>mattycus</td>\n",
       "      <td>@Kenichan I dived many times for the ball. Man...</td>\n",
       "    </tr>\n",
       "    <tr>\n",
       "      <th>3</th>\n",
       "      <td>0</td>\n",
       "      <td>1467811184</td>\n",
       "      <td>Mon Apr 06 22:19:57 PDT 2009</td>\n",
       "      <td>NO_QUERY</td>\n",
       "      <td>ElleCTF</td>\n",
       "      <td>my whole body feels itchy and like its on fire</td>\n",
       "    </tr>\n",
       "    <tr>\n",
       "      <th>4</th>\n",
       "      <td>0</td>\n",
       "      <td>1467811193</td>\n",
       "      <td>Mon Apr 06 22:19:57 PDT 2009</td>\n",
       "      <td>NO_QUERY</td>\n",
       "      <td>Karoli</td>\n",
       "      <td>@nationwideclass no, it's not behaving at all....</td>\n",
       "    </tr>\n",
       "  </tbody>\n",
       "</table>\n",
       "</div>"
      ],
      "text/plain": [
       "   target         ids                          date      flag  \\\n",
       "0       0  1467810369  Mon Apr 06 22:19:45 PDT 2009  NO_QUERY   \n",
       "1       0  1467810672  Mon Apr 06 22:19:49 PDT 2009  NO_QUERY   \n",
       "2       0  1467810917  Mon Apr 06 22:19:53 PDT 2009  NO_QUERY   \n",
       "3       0  1467811184  Mon Apr 06 22:19:57 PDT 2009  NO_QUERY   \n",
       "4       0  1467811193  Mon Apr 06 22:19:57 PDT 2009  NO_QUERY   \n",
       "\n",
       "              user                                               text  \n",
       "0  _TheSpecialOne_  @switchfoot http://twitpic.com/2y1zl - Awww, t...  \n",
       "1    scotthamilton  is upset that he can't update his Facebook by ...  \n",
       "2         mattycus  @Kenichan I dived many times for the ball. Man...  \n",
       "3          ElleCTF    my whole body feels itchy and like its on fire   \n",
       "4           Karoli  @nationwideclass no, it's not behaving at all....  "
      ]
     },
     "execution_count": 4,
     "metadata": {},
     "output_type": "execute_result"
    }
   ],
   "source": [
    "data.head()"
   ]
  },
  {
   "cell_type": "markdown",
   "id": "9bdb128b",
   "metadata": {},
   "source": [
    "# testing modules"
   ]
  },
  {
   "cell_type": "markdown",
   "id": "4b41aa7d",
   "metadata": {},
   "source": [
    "## user reference transformer"
   ]
  },
  {
   "cell_type": "code",
   "execution_count": 69,
   "id": "ae47f827",
   "metadata": {
    "ExecuteTime": {
     "end_time": "2021-11-01T07:20:45.361708Z",
     "start_time": "2021-11-01T07:20:45.349811Z"
    }
   },
   "outputs": [],
   "source": [
    "from src.preproc import UserReferenceProcessor, SpecialTokensRemover, ExtractorMixin"
   ]
  },
  {
   "cell_type": "code",
   "execution_count": 70,
   "id": "60c0ff7c",
   "metadata": {
    "ExecuteTime": {
     "end_time": "2021-11-01T07:20:48.012714Z",
     "start_time": "2021-11-01T07:20:48.000672Z"
    }
   },
   "outputs": [],
   "source": [
    "tr = UserReferenceProcessor()"
   ]
  },
  {
   "cell_type": "code",
   "execution_count": 71,
   "id": "865f54be",
   "metadata": {
    "ExecuteTime": {
     "end_time": "2021-11-01T07:20:48.743999Z",
     "start_time": "2021-11-01T07:20:48.652194Z"
    },
    "scrolled": true
   },
   "outputs": [
    {
     "data": {
      "text/html": [
       "<div>\n",
       "<style scoped>\n",
       "    .dataframe tbody tr th:only-of-type {\n",
       "        vertical-align: middle;\n",
       "    }\n",
       "\n",
       "    .dataframe tbody tr th {\n",
       "        vertical-align: top;\n",
       "    }\n",
       "\n",
       "    .dataframe thead th {\n",
       "        text-align: right;\n",
       "    }\n",
       "</style>\n",
       "<table border=\"1\" class=\"dataframe\">\n",
       "  <thead>\n",
       "    <tr style=\"text-align: right;\">\n",
       "      <th></th>\n",
       "      <th>users_mentioned</th>\n",
       "      <th>users_mentioned_count</th>\n",
       "    </tr>\n",
       "  </thead>\n",
       "  <tbody>\n",
       "    <tr>\n",
       "      <th>887694</th>\n",
       "      <td>[]</td>\n",
       "      <td>0</td>\n",
       "    </tr>\n",
       "    <tr>\n",
       "      <th>22716</th>\n",
       "      <td>[]</td>\n",
       "      <td>0</td>\n",
       "    </tr>\n",
       "    <tr>\n",
       "      <th>858851</th>\n",
       "      <td>[glovely]</td>\n",
       "      <td>1</td>\n",
       "    </tr>\n",
       "    <tr>\n",
       "      <th>30368</th>\n",
       "      <td>[]</td>\n",
       "      <td>0</td>\n",
       "    </tr>\n",
       "    <tr>\n",
       "      <th>1195707</th>\n",
       "      <td>[MATTHARDYBRAND]</td>\n",
       "      <td>1</td>\n",
       "    </tr>\n",
       "    <tr>\n",
       "      <th>...</th>\n",
       "      <td>...</td>\n",
       "      <td>...</td>\n",
       "    </tr>\n",
       "    <tr>\n",
       "      <th>448421</th>\n",
       "      <td>[Dave_Annable]</td>\n",
       "      <td>1</td>\n",
       "    </tr>\n",
       "    <tr>\n",
       "      <th>1032640</th>\n",
       "      <td>[Much_Respect]</td>\n",
       "      <td>1</td>\n",
       "    </tr>\n",
       "    <tr>\n",
       "      <th>297383</th>\n",
       "      <td>[]</td>\n",
       "      <td>0</td>\n",
       "    </tr>\n",
       "    <tr>\n",
       "      <th>328165</th>\n",
       "      <td>[]</td>\n",
       "      <td>0</td>\n",
       "    </tr>\n",
       "    <tr>\n",
       "      <th>707865</th>\n",
       "      <td>[TheDavidBlaise]</td>\n",
       "      <td>1</td>\n",
       "    </tr>\n",
       "  </tbody>\n",
       "</table>\n",
       "<p>10000 rows × 2 columns</p>\n",
       "</div>"
      ],
      "text/plain": [
       "          users_mentioned  users_mentioned_count\n",
       "887694                 []                      0\n",
       "22716                  []                      0\n",
       "858851          [glovely]                      1\n",
       "30368                  []                      0\n",
       "1195707  [MATTHARDYBRAND]                      1\n",
       "...                   ...                    ...\n",
       "448421     [Dave_Annable]                      1\n",
       "1032640    [Much_Respect]                      1\n",
       "297383                 []                      0\n",
       "328165                 []                      0\n",
       "707865   [TheDavidBlaise]                      1\n",
       "\n",
       "[10000 rows x 2 columns]"
      ]
     },
     "execution_count": 71,
     "metadata": {},
     "output_type": "execute_result"
    }
   ],
   "source": [
    "ee = tr.transform(data['text'].sample(10000))\n",
    "ee"
   ]
  },
  {
   "cell_type": "code",
   "execution_count": 67,
   "id": "62df3f76",
   "metadata": {
    "ExecuteTime": {
     "end_time": "2021-11-01T07:20:13.217134Z",
     "start_time": "2021-11-01T07:20:13.199388Z"
    },
    "scrolled": true
   },
   "outputs": [
    {
     "data": {
      "text/plain": [
       "769509     1\n",
       "1592711    0\n",
       "1453274    1\n",
       "1438278    1\n",
       "1131036    0\n",
       "          ..\n",
       "431399     0\n",
       "1185778    1\n",
       "1382794    0\n",
       "387469     0\n",
       "191622     0\n",
       "Name: text, Length: 10000, dtype: int64"
      ]
     },
     "execution_count": 67,
     "metadata": {},
     "output_type": "execute_result"
    }
   ],
   "source": [
    "ee.apply(len)"
   ]
  },
  {
   "cell_type": "code",
   "execution_count": 61,
   "id": "127bd778",
   "metadata": {
    "ExecuteTime": {
     "end_time": "2021-11-01T07:18:51.116363Z",
     "start_time": "2021-11-01T07:18:51.100352Z"
    }
   },
   "outputs": [
    {
     "data": {
      "text/plain": [
       "1298105                  []\n",
       "182328                   []\n",
       "394369       [Lancerman123]\n",
       "1546646        [hollymae20]\n",
       "1026485    [Christiegarcia]\n",
       "1148677           [MRS_d0t]\n",
       "208781         [garethslee]\n",
       "127526                   []\n",
       "861236            [rfhbill]\n",
       "390628         [Findafurry]\n",
       "1150038            [renu19]\n",
       "366838                   []\n",
       "244873                   []\n",
       "484893                   []\n",
       "1191270                  []\n",
       "993639       [kevin_nealon]\n",
       "1465752          [ddlovato]\n",
       "961596                   []\n",
       "251921                   []\n",
       "1201253                  []\n",
       "Name: text, dtype: object"
      ]
     },
     "execution_count": 61,
     "metadata": {},
     "output_type": "execute_result"
    }
   ],
   "source": [
    "ee.apply(lambda x: [user[1:] for user in x])"
   ]
  },
  {
   "cell_type": "code",
   "execution_count": 57,
   "id": "d4ffdaa0",
   "metadata": {
    "ExecuteTime": {
     "end_time": "2021-11-01T07:17:50.764431Z",
     "start_time": "2021-11-01T07:17:50.751380Z"
    }
   },
   "outputs": [
    {
     "name": "stdout",
     "output_type": "stream",
     "text": [
      "[]\n",
      "[]\n",
      "['@Lancerman123']\n",
      "['@hollymae20']\n",
      "['@Christiegarcia']\n",
      "['@MRS_d0t']\n",
      "['@garethslee']\n",
      "[]\n",
      "['@rfhbill']\n",
      "['@Findafurry']\n",
      "['@renu19']\n",
      "[]\n",
      "[]\n",
      "[]\n",
      "[]\n",
      "['@kevin_nealon']\n",
      "['@ddlovato']\n",
      "[]\n",
      "[]\n",
      "[]\n"
     ]
    }
   ],
   "source": [
    "for r in ee:\n",
    "    print(r)"
   ]
  },
  {
   "cell_type": "code",
   "execution_count": 37,
   "id": "13c06a83",
   "metadata": {
    "ExecuteTime": {
     "end_time": "2021-11-01T00:04:55.676652Z",
     "start_time": "2021-11-01T00:04:55.663287Z"
    }
   },
   "outputs": [
    {
     "ename": "SyntaxError",
     "evalue": "invalid syntax (944037257.py, line 1)",
     "output_type": "error",
     "traceback": [
      "\u001b[0;36m  File \u001b[0;32m\"/tmp/ipykernel_9847/944037257.py\"\u001b[0;36m, line \u001b[0;32m1\u001b[0m\n\u001b[0;31m    ee.apply(lambda users: **[user for user in users], axis=1)\u001b[0m\n\u001b[0m                           ^\u001b[0m\n\u001b[0;31mSyntaxError\u001b[0m\u001b[0;31m:\u001b[0m invalid syntax\n"
     ]
    }
   ],
   "source": [
    "ee.apply(lambda users: **[user for user in users], axis=1)"
   ]
  },
  {
   "cell_type": "code",
   "execution_count": 39,
   "id": "8278305c",
   "metadata": {
    "ExecuteTime": {
     "end_time": "2021-11-01T00:06:11.997755Z",
     "start_time": "2021-11-01T00:06:11.985399Z"
    }
   },
   "outputs": [
    {
     "ename": "SyntaxError",
     "evalue": "invalid syntax (2445295172.py, line 1)",
     "output_type": "error",
     "traceback": [
      "\u001b[0;36m  File \u001b[0;32m\"/tmp/ipykernel_9847/2445295172.py\"\u001b[0;36m, line \u001b[0;32m1\u001b[0m\n\u001b[0;31m    [u[1:] for user for users in ee.values for user in users for u in user]\u001b[0m\n\u001b[0m                    ^\u001b[0m\n\u001b[0;31mSyntaxError\u001b[0m\u001b[0;31m:\u001b[0m invalid syntax\n"
     ]
    }
   ],
   "source": [
    " [u[1:] for user for users in ee.values for user in users for u in user]"
   ]
  },
  {
   "cell_type": "code",
   "execution_count": 114,
   "id": "7f1124a9",
   "metadata": {
    "ExecuteTime": {
     "end_time": "2021-10-31T23:53:30.249493Z",
     "start_time": "2021-10-31T23:53:28.303037Z"
    }
   },
   "outputs": [],
   "source": [
    "ee = ExtractorMixin._extract(data['text'], r'@[^ ]+')"
   ]
  },
  {
   "cell_type": "code",
   "execution_count": 115,
   "id": "1787e4c7",
   "metadata": {
    "ExecuteTime": {
     "end_time": "2021-10-31T23:53:41.172934Z",
     "start_time": "2021-10-31T23:53:41.137740Z"
    }
   },
   "outputs": [
    {
     "data": {
      "text/html": [
       "<div>\n",
       "<style scoped>\n",
       "    .dataframe tbody tr th:only-of-type {\n",
       "        vertical-align: middle;\n",
       "    }\n",
       "\n",
       "    .dataframe tbody tr th {\n",
       "        vertical-align: top;\n",
       "    }\n",
       "\n",
       "    .dataframe thead th {\n",
       "        text-align: right;\n",
       "    }\n",
       "</style>\n",
       "<table border=\"1\" class=\"dataframe\">\n",
       "  <thead>\n",
       "    <tr style=\"text-align: right;\">\n",
       "      <th></th>\n",
       "      <th>user_mentions</th>\n",
       "    </tr>\n",
       "  </thead>\n",
       "  <tbody>\n",
       "    <tr>\n",
       "      <th>0</th>\n",
       "      <td>[@switchfoot]</td>\n",
       "    </tr>\n",
       "    <tr>\n",
       "      <th>1</th>\n",
       "      <td>[]</td>\n",
       "    </tr>\n",
       "    <tr>\n",
       "      <th>2</th>\n",
       "      <td>[@Kenichan]</td>\n",
       "    </tr>\n",
       "    <tr>\n",
       "      <th>3</th>\n",
       "      <td>[]</td>\n",
       "    </tr>\n",
       "    <tr>\n",
       "      <th>4</th>\n",
       "      <td>[@nationwideclass]</td>\n",
       "    </tr>\n",
       "    <tr>\n",
       "      <th>...</th>\n",
       "      <td>...</td>\n",
       "    </tr>\n",
       "    <tr>\n",
       "      <th>1599995</th>\n",
       "      <td>[]</td>\n",
       "    </tr>\n",
       "    <tr>\n",
       "      <th>1599996</th>\n",
       "      <td>[]</td>\n",
       "    </tr>\n",
       "    <tr>\n",
       "      <th>1599997</th>\n",
       "      <td>[]</td>\n",
       "    </tr>\n",
       "    <tr>\n",
       "      <th>1599998</th>\n",
       "      <td>[]</td>\n",
       "    </tr>\n",
       "    <tr>\n",
       "      <th>1599999</th>\n",
       "      <td>[@theNSPCC, @SparksCharity, @SpeakingUpH4H]</td>\n",
       "    </tr>\n",
       "  </tbody>\n",
       "</table>\n",
       "<p>1600000 rows × 1 columns</p>\n",
       "</div>"
      ],
      "text/plain": [
       "                                       user_mentions\n",
       "0                                      [@switchfoot]\n",
       "1                                                 []\n",
       "2                                        [@Kenichan]\n",
       "3                                                 []\n",
       "4                                 [@nationwideclass]\n",
       "...                                              ...\n",
       "1599995                                           []\n",
       "1599996                                           []\n",
       "1599997                                           []\n",
       "1599998                                           []\n",
       "1599999  [@theNSPCC, @SparksCharity, @SpeakingUpH4H]\n",
       "\n",
       "[1600000 rows x 1 columns]"
      ]
     },
     "execution_count": 115,
     "metadata": {},
     "output_type": "execute_result"
    }
   ],
   "source": [
    "df = pd.DataFrame(index=data.index)\n",
    "df['user_mentions'] = ee\n",
    "df"
   ]
  },
  {
   "cell_type": "markdown",
   "id": "8ff2ef88",
   "metadata": {},
   "source": [
    "## special tokens remover"
   ]
  },
  {
   "cell_type": "code",
   "execution_count": 95,
   "id": "537e3574",
   "metadata": {
    "ExecuteTime": {
     "end_time": "2021-10-31T23:45:14.685256Z",
     "start_time": "2021-10-31T23:45:11.677613Z"
    }
   },
   "outputs": [],
   "source": [
    "rr = SpecialTokensRemover()"
   ]
  },
  {
   "cell_type": "code",
   "execution_count": 96,
   "id": "550c0372",
   "metadata": {
    "ExecuteTime": {
     "end_time": "2021-10-31T23:45:23.619473Z",
     "start_time": "2021-10-31T23:45:14.687381Z"
    }
   },
   "outputs": [],
   "source": [
    "text_clean = rr.transform(data['text'])"
   ]
  },
  {
   "cell_type": "code",
   "execution_count": 98,
   "id": "f75adc43",
   "metadata": {
    "ExecuteTime": {
     "end_time": "2021-10-31T23:45:39.646190Z",
     "start_time": "2021-10-31T23:45:39.632416Z"
    }
   },
   "outputs": [
    {
     "data": {
      "text/plain": [
       "0          @switchfoot http://twitpic.com/2y1zl - Awww, t...\n",
       "1          is upset that he can't update his Facebook by ...\n",
       "2          @Kenichan I dived many times for the ball. Man...\n",
       "3            my whole body feels itchy and like its on fire \n",
       "4          @nationwideclass no, it's not behaving at all....\n",
       "                                 ...                        \n",
       "1599995    Just woke up. Having no school is the best fee...\n",
       "1599996    TheWDB.com - Very cool to hear old Walt interv...\n",
       "1599997    Are you ready for your MoJo Makeover? Ask me f...\n",
       "1599998    Happy 38th Birthday to my boo of alll time!!! ...\n",
       "1599999    happy #charitytuesday @theNSPCC @SparksCharity...\n",
       "Name: text, Length: 1600000, dtype: object"
      ]
     },
     "execution_count": 98,
     "metadata": {},
     "output_type": "execute_result"
    }
   ],
   "source": [
    "data['text']"
   ]
  },
  {
   "cell_type": "code",
   "execution_count": 97,
   "id": "05c0f2bd",
   "metadata": {
    "ExecuteTime": {
     "end_time": "2021-10-31T23:45:25.306567Z",
     "start_time": "2021-10-31T23:45:25.293017Z"
    }
   },
   "outputs": [
    {
     "data": {
      "text/plain": [
       "0          user_reference link - Awww, that's a bummer.  ...\n",
       "1          is upset that he can't update his Facebook by ...\n",
       "2          user_reference I dived many times for the ball...\n",
       "3            my whole body feels itchy and like its on fire \n",
       "4          user_reference no, it's not behaving at all. i...\n",
       "                                 ...                        \n",
       "1599995    Just woke up. Having no school is the best fee...\n",
       "1599996    TheWDB.com - Very cool to hear old Walt interv...\n",
       "1599997    Are you ready for your MoJo Makeover? Ask me f...\n",
       "1599998    Happy 38th Birthday to my boo of alll time!!! ...\n",
       "1599999    happy hashtag user_reference user_reference us...\n",
       "Name: text, Length: 1600000, dtype: object"
      ]
     },
     "execution_count": 97,
     "metadata": {},
     "output_type": "execute_result"
    }
   ],
   "source": [
    "text_clean"
   ]
  },
  {
   "cell_type": "markdown",
   "id": "84576d8d",
   "metadata": {},
   "source": [
    "## pipeline"
   ]
  },
  {
   "cell_type": "code",
   "execution_count": 127,
   "id": "88b0ed7a",
   "metadata": {
    "ExecuteTime": {
     "end_time": "2021-11-01T07:57:22.468679Z",
     "start_time": "2021-11-01T07:57:22.446646Z"
    }
   },
   "outputs": [],
   "source": [
    "from sklearn.pipeline import Pipeline\n",
    "from sklearn.compose import ColumnTransformer, make_column_transformer\n",
    "from sklearn.preprocessing import FunctionTransformer\n",
    "\n",
    "from src.sklearn_wrappers import CustomColumnTransformer"
   ]
  },
  {
   "cell_type": "code",
   "execution_count": 149,
   "id": "361630bf",
   "metadata": {
    "ExecuteTime": {
     "end_time": "2021-11-01T08:06:17.139070Z",
     "start_time": "2021-11-01T08:06:17.121851Z"
    }
   },
   "outputs": [
    {
     "data": {
      "text/html": [
       "<div>\n",
       "<style scoped>\n",
       "    .dataframe tbody tr th:only-of-type {\n",
       "        vertical-align: middle;\n",
       "    }\n",
       "\n",
       "    .dataframe tbody tr th {\n",
       "        vertical-align: top;\n",
       "    }\n",
       "\n",
       "    .dataframe thead th {\n",
       "        text-align: right;\n",
       "    }\n",
       "</style>\n",
       "<table border=\"1\" class=\"dataframe\">\n",
       "  <thead>\n",
       "    <tr style=\"text-align: right;\">\n",
       "      <th></th>\n",
       "      <th>target</th>\n",
       "      <th>ids</th>\n",
       "      <th>date</th>\n",
       "      <th>flag</th>\n",
       "      <th>user</th>\n",
       "      <th>text</th>\n",
       "    </tr>\n",
       "  </thead>\n",
       "  <tbody>\n",
       "    <tr>\n",
       "      <th>0</th>\n",
       "      <td>0</td>\n",
       "      <td>1467810369</td>\n",
       "      <td>Mon Apr 06 22:19:45 PDT 2009</td>\n",
       "      <td>NO_QUERY</td>\n",
       "      <td>_TheSpecialOne_</td>\n",
       "      <td>@switchfoot http://twitpic.com/2y1zl - Awww, t...</td>\n",
       "    </tr>\n",
       "    <tr>\n",
       "      <th>1</th>\n",
       "      <td>0</td>\n",
       "      <td>1467810672</td>\n",
       "      <td>Mon Apr 06 22:19:49 PDT 2009</td>\n",
       "      <td>NO_QUERY</td>\n",
       "      <td>scotthamilton</td>\n",
       "      <td>is upset that he can't update his Facebook by ...</td>\n",
       "    </tr>\n",
       "    <tr>\n",
       "      <th>2</th>\n",
       "      <td>0</td>\n",
       "      <td>1467810917</td>\n",
       "      <td>Mon Apr 06 22:19:53 PDT 2009</td>\n",
       "      <td>NO_QUERY</td>\n",
       "      <td>mattycus</td>\n",
       "      <td>@Kenichan I dived many times for the ball. Man...</td>\n",
       "    </tr>\n",
       "    <tr>\n",
       "      <th>3</th>\n",
       "      <td>0</td>\n",
       "      <td>1467811184</td>\n",
       "      <td>Mon Apr 06 22:19:57 PDT 2009</td>\n",
       "      <td>NO_QUERY</td>\n",
       "      <td>ElleCTF</td>\n",
       "      <td>my whole body feels itchy and like its on fire</td>\n",
       "    </tr>\n",
       "    <tr>\n",
       "      <th>4</th>\n",
       "      <td>0</td>\n",
       "      <td>1467811193</td>\n",
       "      <td>Mon Apr 06 22:19:57 PDT 2009</td>\n",
       "      <td>NO_QUERY</td>\n",
       "      <td>Karoli</td>\n",
       "      <td>@nationwideclass no, it's not behaving at all....</td>\n",
       "    </tr>\n",
       "  </tbody>\n",
       "</table>\n",
       "</div>"
      ],
      "text/plain": [
       "   target         ids                          date      flag  \\\n",
       "0       0  1467810369  Mon Apr 06 22:19:45 PDT 2009  NO_QUERY   \n",
       "1       0  1467810672  Mon Apr 06 22:19:49 PDT 2009  NO_QUERY   \n",
       "2       0  1467810917  Mon Apr 06 22:19:53 PDT 2009  NO_QUERY   \n",
       "3       0  1467811184  Mon Apr 06 22:19:57 PDT 2009  NO_QUERY   \n",
       "4       0  1467811193  Mon Apr 06 22:19:57 PDT 2009  NO_QUERY   \n",
       "\n",
       "              user                                               text  \n",
       "0  _TheSpecialOne_  @switchfoot http://twitpic.com/2y1zl - Awww, t...  \n",
       "1    scotthamilton  is upset that he can't update his Facebook by ...  \n",
       "2         mattycus  @Kenichan I dived many times for the ball. Man...  \n",
       "3          ElleCTF    my whole body feels itchy and like its on fire   \n",
       "4           Karoli  @nationwideclass no, it's not behaving at all....  "
      ]
     },
     "execution_count": 149,
     "metadata": {},
     "output_type": "execute_result"
    }
   ],
   "source": [
    "data.head()"
   ]
  },
  {
   "cell_type": "code",
   "execution_count": 162,
   "id": "1702eaf2",
   "metadata": {
    "ExecuteTime": {
     "end_time": "2021-11-01T08:16:52.631861Z",
     "start_time": "2021-11-01T08:16:52.498125Z"
    }
   },
   "outputs": [
    {
     "name": "stdout",
     "output_type": "stream",
     "text": [
      "['target', 'ids', 'date', 'flag', 'user', 'text']\n",
      "['target', 'ids', 'date', 'flag', 'user', 'text']\n"
     ]
    },
    {
     "data": {
      "text/html": [
       "<div>\n",
       "<style scoped>\n",
       "    .dataframe tbody tr th:only-of-type {\n",
       "        vertical-align: middle;\n",
       "    }\n",
       "\n",
       "    .dataframe tbody tr th {\n",
       "        vertical-align: top;\n",
       "    }\n",
       "\n",
       "    .dataframe thead th {\n",
       "        text-align: right;\n",
       "    }\n",
       "</style>\n",
       "<table border=\"1\" class=\"dataframe\">\n",
       "  <thead>\n",
       "    <tr style=\"text-align: right;\">\n",
       "      <th></th>\n",
       "      <th>target</th>\n",
       "      <th>ids</th>\n",
       "      <th>date</th>\n",
       "      <th>flag</th>\n",
       "      <th>user</th>\n",
       "      <th>text</th>\n",
       "    </tr>\n",
       "  </thead>\n",
       "  <tbody>\n",
       "    <tr>\n",
       "      <th>741411</th>\n",
       "      <td>@mmaritza haha. i doubt she'll come to k-town....</td>\n",
       "      <td>gracemcewen</td>\n",
       "      <td>0</td>\n",
       "      <td>2266254148</td>\n",
       "      <td>Sun Jun 21 08:10:54 PDT 2009</td>\n",
       "      <td>NO_QUERY</td>\n",
       "    </tr>\n",
       "    <tr>\n",
       "      <th>715661</th>\n",
       "      <td>::::...lookn foward to makn mii pa n dad happi...</td>\n",
       "      <td>jmayo90</td>\n",
       "      <td>0</td>\n",
       "      <td>2259484102</td>\n",
       "      <td>Sat Jun 20 17:39:36 PDT 2009</td>\n",
       "      <td>NO_QUERY</td>\n",
       "    </tr>\n",
       "    <tr>\n",
       "      <th>180164</th>\n",
       "      <td>lets play a game: couple, couple, ashley! yay</td>\n",
       "      <td>ashbaybay172</td>\n",
       "      <td>0</td>\n",
       "      <td>1966483782</td>\n",
       "      <td>Fri May 29 17:51:05 PDT 2009</td>\n",
       "      <td>NO_QUERY</td>\n",
       "    </tr>\n",
       "    <tr>\n",
       "      <th>50635</th>\n",
       "      <td>laptop dead...we had a good 6 year run...</td>\n",
       "      <td>themicruz</td>\n",
       "      <td>0</td>\n",
       "      <td>1678573280</td>\n",
       "      <td>Sat May 02 07:07:29 PDT 2009</td>\n",
       "      <td>NO_QUERY</td>\n",
       "    </tr>\n",
       "    <tr>\n",
       "      <th>1055524</th>\n",
       "      <td>@christinamerk i ? this shot (and do this too)...</td>\n",
       "      <td>heather_gray</td>\n",
       "      <td>4</td>\n",
       "      <td>1962244978</td>\n",
       "      <td>Fri May 29 10:44:55 PDT 2009</td>\n",
       "      <td>NO_QUERY</td>\n",
       "    </tr>\n",
       "    <tr>\n",
       "      <th>858915</th>\n",
       "      <td>obsessed? you think i am obsessed? maybe it wo...</td>\n",
       "      <td>megtafel</td>\n",
       "      <td>4</td>\n",
       "      <td>1675896106</td>\n",
       "      <td>Fri May 01 20:35:20 PDT 2009</td>\n",
       "      <td>NO_QUERY</td>\n",
       "    </tr>\n",
       "    <tr>\n",
       "      <th>657515</th>\n",
       "      <td>@etani1 9 more days in the office...the end ca...</td>\n",
       "      <td>k8sb</td>\n",
       "      <td>0</td>\n",
       "      <td>2241056107</td>\n",
       "      <td>Fri Jun 19 10:29:18 PDT 2009</td>\n",
       "      <td>NO_QUERY</td>\n",
       "    </tr>\n",
       "    <tr>\n",
       "      <th>393909</th>\n",
       "      <td>@catherinedream i want it either!!!!!!!!!!  bu...</td>\n",
       "      <td>emem92</td>\n",
       "      <td>0</td>\n",
       "      <td>2055510431</td>\n",
       "      <td>Sat Jun 06 09:26:58 PDT 2009</td>\n",
       "      <td>NO_QUERY</td>\n",
       "    </tr>\n",
       "    <tr>\n",
       "      <th>14100</th>\n",
       "      <td>the guys are back - gone is the quiet.</td>\n",
       "      <td>dejavumom</td>\n",
       "      <td>0</td>\n",
       "      <td>1553549135</td>\n",
       "      <td>Sat Apr 18 14:34:01 PDT 2009</td>\n",
       "      <td>NO_QUERY</td>\n",
       "    </tr>\n",
       "    <tr>\n",
       "      <th>450015</th>\n",
       "      <td>@xstineeee hey! interview went well, but i hav...</td>\n",
       "      <td>frenchhugz</td>\n",
       "      <td>0</td>\n",
       "      <td>2069390868</td>\n",
       "      <td>Sun Jun 07 15:47:28 PDT 2009</td>\n",
       "      <td>NO_QUERY</td>\n",
       "    </tr>\n",
       "    <tr>\n",
       "      <th>1401303</th>\n",
       "      <td>@sanya29 he seems to have women. and jews :s. ...</td>\n",
       "      <td>gemmagemo</td>\n",
       "      <td>4</td>\n",
       "      <td>2054531400</td>\n",
       "      <td>Sat Jun 06 07:33:21 PDT 2009</td>\n",
       "      <td>NO_QUERY</td>\n",
       "    </tr>\n",
       "    <tr>\n",
       "      <th>730933</th>\n",
       "      <td>@oktet8 yeah, don't expect too much out of it</td>\n",
       "      <td>dguido</td>\n",
       "      <td>0</td>\n",
       "      <td>2263697350</td>\n",
       "      <td>Sun Jun 21 01:32:52 PDT 2009</td>\n",
       "      <td>NO_QUERY</td>\n",
       "    </tr>\n",
       "    <tr>\n",
       "      <th>1098557</th>\n",
       "      <td>is watching prue sing</td>\n",
       "      <td>rana83</td>\n",
       "      <td>4</td>\n",
       "      <td>1970495172</td>\n",
       "      <td>Sat May 30 04:05:42 PDT 2009</td>\n",
       "      <td>NO_QUERY</td>\n",
       "    </tr>\n",
       "    <tr>\n",
       "      <th>1239287</th>\n",
       "      <td>@brian_____ everything theme i have released w...</td>\n",
       "      <td>tehkseven</td>\n",
       "      <td>4</td>\n",
       "      <td>1993519007</td>\n",
       "      <td>Mon Jun 01 10:30:27 PDT 2009</td>\n",
       "      <td>NO_QUERY</td>\n",
       "    </tr>\n",
       "    <tr>\n",
       "      <th>131111</th>\n",
       "      <td>afternoon everyone, hate the rain here in glos...</td>\n",
       "      <td>vesperv11</td>\n",
       "      <td>0</td>\n",
       "      <td>1835455993</td>\n",
       "      <td>Mon May 18 06:01:57 PDT 2009</td>\n",
       "      <td>NO_QUERY</td>\n",
       "    </tr>\n",
       "    <tr>\n",
       "      <th>1329075</th>\n",
       "      <td>yay for waking up early haha.  everyone be sur...</td>\n",
       "      <td>wescallahan</td>\n",
       "      <td>4</td>\n",
       "      <td>2015611914</td>\n",
       "      <td>Wed Jun 03 05:06:18 PDT 2009</td>\n",
       "      <td>NO_QUERY</td>\n",
       "    </tr>\n",
       "    <tr>\n",
       "      <th>1215971</th>\n",
       "      <td>@elavrov it' s not in russia but in latvia  ex...</td>\n",
       "      <td>edubag</td>\n",
       "      <td>4</td>\n",
       "      <td>1989594280</td>\n",
       "      <td>Mon Jun 01 02:06:29 PDT 2009</td>\n",
       "      <td>NO_QUERY</td>\n",
       "    </tr>\n",
       "    <tr>\n",
       "      <th>440902</th>\n",
       "      <td>every sunday is boring  my friends are not hom...</td>\n",
       "      <td>juli96</td>\n",
       "      <td>0</td>\n",
       "      <td>2066864484</td>\n",
       "      <td>Sun Jun 07 11:18:47 PDT 2009</td>\n",
       "      <td>NO_QUERY</td>\n",
       "    </tr>\n",
       "    <tr>\n",
       "      <th>478303</th>\n",
       "      <td>just dropped off my hubby  won't see him for a...</td>\n",
       "      <td>p_trujillo</td>\n",
       "      <td>0</td>\n",
       "      <td>2178497492</td>\n",
       "      <td>Mon Jun 15 07:47:20 PDT 2009</td>\n",
       "      <td>NO_QUERY</td>\n",
       "    </tr>\n",
       "    <tr>\n",
       "      <th>220508</th>\n",
       "      <td>hanging out with derek who leaves tomorrow</td>\n",
       "      <td>kcollins720</td>\n",
       "      <td>0</td>\n",
       "      <td>1976639470</td>\n",
       "      <td>Sat May 30 18:38:57 PDT 2009</td>\n",
       "      <td>NO_QUERY</td>\n",
       "    </tr>\n",
       "    <tr>\n",
       "      <th>929499</th>\n",
       "      <td>@justice_king awww thx boo..</td>\n",
       "      <td>queenb_kd</td>\n",
       "      <td>4</td>\n",
       "      <td>1760005744</td>\n",
       "      <td>Sun May 10 20:26:47 PDT 2009</td>\n",
       "      <td>NO_QUERY</td>\n",
       "    </tr>\n",
       "    <tr>\n",
       "      <th>703400</th>\n",
       "      <td>merceyamore: to: king.... ouch, i'm sorry...  ...</td>\n",
       "      <td>whereonpre</td>\n",
       "      <td>0</td>\n",
       "      <td>2255695625</td>\n",
       "      <td>Sat Jun 20 11:39:04 PDT 2009</td>\n",
       "      <td>NO_QUERY</td>\n",
       "    </tr>\n",
       "    <tr>\n",
       "      <th>613200</th>\n",
       "      <td>has a headache</td>\n",
       "      <td>irvman08</td>\n",
       "      <td>0</td>\n",
       "      <td>2225278165</td>\n",
       "      <td>Thu Jun 18 10:31:34 PDT 2009</td>\n",
       "      <td>NO_QUERY</td>\n",
       "    </tr>\n",
       "    <tr>\n",
       "      <th>571663</th>\n",
       "      <td>stupid local cvs didn't have the latest people...</td>\n",
       "      <td>ilovedemiselena</td>\n",
       "      <td>0</td>\n",
       "      <td>2208934682</td>\n",
       "      <td>Wed Jun 17 09:48:36 PDT 2009</td>\n",
       "      <td>NO_QUERY</td>\n",
       "    </tr>\n",
       "    <tr>\n",
       "      <th>452611</th>\n",
       "      <td>back in wilkes-barre. plus lots of flowers. mi...</td>\n",
       "      <td>valben</td>\n",
       "      <td>0</td>\n",
       "      <td>2070086903</td>\n",
       "      <td>Sun Jun 07 17:04:21 PDT 2009</td>\n",
       "      <td>NO_QUERY</td>\n",
       "    </tr>\n",
       "    <tr>\n",
       "      <th>303755</th>\n",
       "      <td>bad day  at  least my phone is working for the...</td>\n",
       "      <td>lacefacee</td>\n",
       "      <td>0</td>\n",
       "      <td>1999558770</td>\n",
       "      <td>Mon Jun 01 20:25:46 PDT 2009</td>\n",
       "      <td>NO_QUERY</td>\n",
       "    </tr>\n",
       "    <tr>\n",
       "      <th>1363957</th>\n",
       "      <td>this summer is gonna rock, you have no idea</td>\n",
       "      <td>sarah1x</td>\n",
       "      <td>4</td>\n",
       "      <td>2049616036</td>\n",
       "      <td>Fri Jun 05 17:11:32 PDT 2009</td>\n",
       "      <td>NO_QUERY</td>\n",
       "    </tr>\n",
       "    <tr>\n",
       "      <th>4426</th>\n",
       "      <td>feelin sick.  can't slow down though...school,...</td>\n",
       "      <td>ashtontaylor</td>\n",
       "      <td>0</td>\n",
       "      <td>1468820544</td>\n",
       "      <td>Tue Apr 07 03:54:32 PDT 2009</td>\n",
       "      <td>NO_QUERY</td>\n",
       "    </tr>\n",
       "    <tr>\n",
       "      <th>546908</th>\n",
       "      <td>woke up at 3.20am and still awake, boy this is...</td>\n",
       "      <td>chefshoes</td>\n",
       "      <td>0</td>\n",
       "      <td>2201907340</td>\n",
       "      <td>Tue Jun 16 20:57:04 PDT 2009</td>\n",
       "      <td>NO_QUERY</td>\n",
       "    </tr>\n",
       "    <tr>\n",
       "      <th>123325</th>\n",
       "      <td>i would hate goin 2 the store right now like ....</td>\n",
       "      <td>remembermeninab</td>\n",
       "      <td>0</td>\n",
       "      <td>1833888447</td>\n",
       "      <td>Mon May 18 00:49:27 PDT 2009</td>\n",
       "      <td>NO_QUERY</td>\n",
       "    </tr>\n",
       "    <tr>\n",
       "      <th>373848</th>\n",
       "      <td>- i'm getting irritated @ this &amp;quot;brittany ...</td>\n",
       "      <td>katjrobertson</td>\n",
       "      <td>0</td>\n",
       "      <td>2051114673</td>\n",
       "      <td>Fri Jun 05 19:53:24 PDT 2009</td>\n",
       "      <td>NO_QUERY</td>\n",
       "    </tr>\n",
       "    <tr>\n",
       "      <th>1342150</th>\n",
       "      <td>@ian_watkins you know that we all care much mo...</td>\n",
       "      <td>ell_bel</td>\n",
       "      <td>4</td>\n",
       "      <td>2032605712</td>\n",
       "      <td>Thu Jun 04 11:30:09 PDT 2009</td>\n",
       "      <td>NO_QUERY</td>\n",
       "    </tr>\n",
       "    <tr>\n",
       "      <th>1147672</th>\n",
       "      <td>i just drew a cute unicorn for my @violinistli...</td>\n",
       "      <td>javajunky</td>\n",
       "      <td>4</td>\n",
       "      <td>1978106305</td>\n",
       "      <td>Sat May 30 22:27:30 PDT 2009</td>\n",
       "      <td>NO_QUERY</td>\n",
       "    </tr>\n",
       "    <tr>\n",
       "      <th>1077716</th>\n",
       "      <td>someone complimented me on my docs today. nice</td>\n",
       "      <td>ivsies</td>\n",
       "      <td>4</td>\n",
       "      <td>1967718552</td>\n",
       "      <td>Fri May 29 20:05:24 PDT 2009</td>\n",
       "      <td>NO_QUERY</td>\n",
       "    </tr>\n",
       "    <tr>\n",
       "      <th>215757</th>\n",
       "      <td>i need to learn how to spell..im soo gona fail...</td>\n",
       "      <td>leahfitzz</td>\n",
       "      <td>0</td>\n",
       "      <td>1975557434</td>\n",
       "      <td>Sat May 30 15:24:41 PDT 2009</td>\n",
       "      <td>NO_QUERY</td>\n",
       "    </tr>\n",
       "    <tr>\n",
       "      <th>1324212</th>\n",
       "      <td>@dayewalker hello you! have you woken up in a ...</td>\n",
       "      <td>acemas21</td>\n",
       "      <td>4</td>\n",
       "      <td>2014987291</td>\n",
       "      <td>Wed Jun 03 03:20:39 PDT 2009</td>\n",
       "      <td>NO_QUERY</td>\n",
       "    </tr>\n",
       "    <tr>\n",
       "      <th>1029709</th>\n",
       "      <td>@ameliaghostie good, even better now that your...</td>\n",
       "      <td>ruberman</td>\n",
       "      <td>4</td>\n",
       "      <td>1932817426</td>\n",
       "      <td>Tue May 26 22:17:21 PDT 2009</td>\n",
       "      <td>NO_QUERY</td>\n",
       "    </tr>\n",
       "    <tr>\n",
       "      <th>1039861</th>\n",
       "      <td>@mishisherbert um i bet not lmao. his was hard...</td>\n",
       "      <td>linkaxo</td>\n",
       "      <td>4</td>\n",
       "      <td>1956872930</td>\n",
       "      <td>Thu May 28 22:54:38 PDT 2009</td>\n",
       "      <td>NO_QUERY</td>\n",
       "    </tr>\n",
       "    <tr>\n",
       "      <th>738141</th>\n",
       "      <td>hope to see you, even if you have forgotten me</td>\n",
       "      <td>gglobe</td>\n",
       "      <td>0</td>\n",
       "      <td>2265395429</td>\n",
       "      <td>Sun Jun 21 06:29:20 PDT 2009</td>\n",
       "      <td>NO_QUERY</td>\n",
       "    </tr>\n",
       "    <tr>\n",
       "      <th>749469</th>\n",
       "      <td>man i want some gumbo 2!</td>\n",
       "      <td>kyleleiblein</td>\n",
       "      <td>0</td>\n",
       "      <td>2285086673</td>\n",
       "      <td>Mon Jun 22 14:41:27 PDT 2009</td>\n",
       "      <td>NO_QUERY</td>\n",
       "    </tr>\n",
       "    <tr>\n",
       "      <th>1267910</th>\n",
       "      <td>@peterfacinelli ohmigosh! i absolutely looove ...</td>\n",
       "      <td>vlvalle</td>\n",
       "      <td>4</td>\n",
       "      <td>1999947880</td>\n",
       "      <td>Mon Jun 01 21:07:02 PDT 2009</td>\n",
       "      <td>NO_QUERY</td>\n",
       "    </tr>\n",
       "    <tr>\n",
       "      <th>15556</th>\n",
       "      <td>the drive in the convertible was great! my fre...</td>\n",
       "      <td>kylaworld</td>\n",
       "      <td>0</td>\n",
       "      <td>1554398041</td>\n",
       "      <td>Sat Apr 18 16:53:16 PDT 2009</td>\n",
       "      <td>NO_QUERY</td>\n",
       "    </tr>\n",
       "    <tr>\n",
       "      <th>1304590</th>\n",
       "      <td>@so_chi8 heyyy christian</td>\n",
       "      <td>lilmizsunshyne</td>\n",
       "      <td>4</td>\n",
       "      <td>2010538427</td>\n",
       "      <td>Tue Jun 02 17:33:03 PDT 2009</td>\n",
       "      <td>NO_QUERY</td>\n",
       "    </tr>\n",
       "    <tr>\n",
       "      <th>990105</th>\n",
       "      <td>back to designing the wind energy conference b...</td>\n",
       "      <td>rubio_janet</td>\n",
       "      <td>4</td>\n",
       "      <td>1834952399</td>\n",
       "      <td>Mon May 18 04:42:49 PDT 2009</td>\n",
       "      <td>NO_QUERY</td>\n",
       "    </tr>\n",
       "    <tr>\n",
       "      <th>1072590</th>\n",
       "      <td>the job is done! yea...and it wasn't nearly as...</td>\n",
       "      <td>smbluvsnkotb</td>\n",
       "      <td>4</td>\n",
       "      <td>1966598043</td>\n",
       "      <td>Fri May 29 18:03:30 PDT 2009</td>\n",
       "      <td>NO_QUERY</td>\n",
       "    </tr>\n",
       "    <tr>\n",
       "      <th>881763</th>\n",
       "      <td>@kkozmic @tehlike because they *are* watching ...</td>\n",
       "      <td>srstrong</td>\n",
       "      <td>4</td>\n",
       "      <td>1685856843</td>\n",
       "      <td>Sun May 03 02:26:57 PDT 2009</td>\n",
       "      <td>NO_QUERY</td>\n",
       "    </tr>\n",
       "    <tr>\n",
       "      <th>1295244</th>\n",
       "      <td>@emm_jay woot! jem! i'd totally see that!</td>\n",
       "      <td>omg_dj_judy</td>\n",
       "      <td>4</td>\n",
       "      <td>2003657868</td>\n",
       "      <td>Tue Jun 02 06:55:38 PDT 2009</td>\n",
       "      <td>NO_QUERY</td>\n",
       "    </tr>\n",
       "    <tr>\n",
       "      <th>1475024</th>\n",
       "      <td>had soooo much fun tonight  http://myloc.me/2vkb</td>\n",
       "      <td>tasjaa</td>\n",
       "      <td>4</td>\n",
       "      <td>2065835668</td>\n",
       "      <td>Sun Jun 07 09:23:08 PDT 2009</td>\n",
       "      <td>NO_QUERY</td>\n",
       "    </tr>\n",
       "    <tr>\n",
       "      <th>1156998</th>\n",
       "      <td>@greggrunberg cant wait for season 4  when wil...</td>\n",
       "      <td>dsrouji2000</td>\n",
       "      <td>4</td>\n",
       "      <td>1979141882</td>\n",
       "      <td>Sun May 31 01:48:28 PDT 2009</td>\n",
       "      <td>NO_QUERY</td>\n",
       "    </tr>\n",
       "    <tr>\n",
       "      <th>482001</th>\n",
       "      <td>waaaa my hair dye is almost faded</td>\n",
       "      <td>cjlover1994</td>\n",
       "      <td>0</td>\n",
       "      <td>2179863944</td>\n",
       "      <td>Mon Jun 15 09:41:17 PDT 2009</td>\n",
       "      <td>NO_QUERY</td>\n",
       "    </tr>\n",
       "    <tr>\n",
       "      <th>1487152</th>\n",
       "      <td>sir shnukcums  love him</td>\n",
       "      <td>abbygilmourr</td>\n",
       "      <td>4</td>\n",
       "      <td>2068219435</td>\n",
       "      <td>Sun Jun 07 13:42:18 PDT 2009</td>\n",
       "      <td>NO_QUERY</td>\n",
       "    </tr>\n",
       "    <tr>\n",
       "      <th>1218865</th>\n",
       "      <td>i guess some people really believe they're doi...</td>\n",
       "      <td>jasongorman</td>\n",
       "      <td>4</td>\n",
       "      <td>1989881033</td>\n",
       "      <td>Mon Jun 01 03:08:04 PDT 2009</td>\n",
       "      <td>NO_QUERY</td>\n",
       "    </tr>\n",
       "    <tr>\n",
       "      <th>1093857</th>\n",
       "      <td>yesterday was gr8</td>\n",
       "      <td>nutterhtowse</td>\n",
       "      <td>4</td>\n",
       "      <td>1970098904</td>\n",
       "      <td>Sat May 30 02:27:00 PDT 2009</td>\n",
       "      <td>NO_QUERY</td>\n",
       "    </tr>\n",
       "    <tr>\n",
       "      <th>1208466</th>\n",
       "      <td>@toshamakia  twitter addiction is rampant!!</td>\n",
       "      <td>dpros</td>\n",
       "      <td>4</td>\n",
       "      <td>1988819155</td>\n",
       "      <td>Sun May 31 23:28:02 PDT 2009</td>\n",
       "      <td>NO_QUERY</td>\n",
       "    </tr>\n",
       "    <tr>\n",
       "      <th>5648</th>\n",
       "      <td>work all day long</td>\n",
       "      <td>xociucio</td>\n",
       "      <td>0</td>\n",
       "      <td>1469147907</td>\n",
       "      <td>Tue Apr 07 05:23:21 PDT 2009</td>\n",
       "      <td>NO_QUERY</td>\n",
       "    </tr>\n",
       "    <tr>\n",
       "      <th>608898</th>\n",
       "      <td>@thestaciesutra yes, unfortunately i think he ...</td>\n",
       "      <td>christinesixx</td>\n",
       "      <td>0</td>\n",
       "      <td>2223520905</td>\n",
       "      <td>Thu Jun 18 08:22:41 PDT 2009</td>\n",
       "      <td>NO_QUERY</td>\n",
       "    </tr>\n",
       "    <tr>\n",
       "      <th>6943</th>\n",
       "      <td>stitchin up some sweet woodgrain print jeans t...</td>\n",
       "      <td>dr3w_b</td>\n",
       "      <td>0</td>\n",
       "      <td>1469618222</td>\n",
       "      <td>Tue Apr 07 06:55:16 PDT 2009</td>\n",
       "      <td>NO_QUERY</td>\n",
       "    </tr>\n",
       "    <tr>\n",
       "      <th>393149</th>\n",
       "      <td>@alexaherra imm sorry  i have my family hear.....</td>\n",
       "      <td>andrea150695</td>\n",
       "      <td>0</td>\n",
       "      <td>2055329966</td>\n",
       "      <td>Sat Jun 06 09:07:09 PDT 2009</td>\n",
       "      <td>NO_QUERY</td>\n",
       "    </tr>\n",
       "    <tr>\n",
       "      <th>17967</th>\n",
       "      <td>watching the very last episode of the fresh pr...</td>\n",
       "      <td>april_fierce</td>\n",
       "      <td>0</td>\n",
       "      <td>1556459956</td>\n",
       "      <td>Sat Apr 18 22:55:24 PDT 2009</td>\n",
       "      <td>NO_QUERY</td>\n",
       "    </tr>\n",
       "    <tr>\n",
       "      <th>1497758</th>\n",
       "      <td>going to the golfing rangee.</td>\n",
       "      <td>maddii33</td>\n",
       "      <td>4</td>\n",
       "      <td>2070447246</td>\n",
       "      <td>Sun Jun 07 17:42:41 PDT 2009</td>\n",
       "      <td>NO_QUERY</td>\n",
       "    </tr>\n",
       "    <tr>\n",
       "      <th>196289</th>\n",
       "      <td>doh, work today</td>\n",
       "      <td>digghodor</td>\n",
       "      <td>0</td>\n",
       "      <td>1970688345</td>\n",
       "      <td>Sat May 30 04:51:06 PDT 2009</td>\n",
       "      <td>NO_QUERY</td>\n",
       "    </tr>\n",
       "    <tr>\n",
       "      <th>757504</th>\n",
       "      <td>i am hotter than the sun!</td>\n",
       "      <td>ajprice</td>\n",
       "      <td>0</td>\n",
       "      <td>2295348768</td>\n",
       "      <td>Tue Jun 23 07:48:43 PDT 2009</td>\n",
       "      <td>NO_QUERY</td>\n",
       "    </tr>\n",
       "    <tr>\n",
       "      <th>1236771</th>\n",
       "      <td>is absolutely loving all of this sunshine  and...</td>\n",
       "      <td>loveableukangel</td>\n",
       "      <td>4</td>\n",
       "      <td>1992893390</td>\n",
       "      <td>Mon Jun 01 09:29:43 PDT 2009</td>\n",
       "      <td>NO_QUERY</td>\n",
       "    </tr>\n",
       "    <tr>\n",
       "      <th>15733</th>\n",
       "      <td>@jim_brown it's still very early in the season...</td>\n",
       "      <td>jessicalhansen</td>\n",
       "      <td>0</td>\n",
       "      <td>1554485869</td>\n",
       "      <td>Sat Apr 18 17:07:34 PDT 2009</td>\n",
       "      <td>NO_QUERY</td>\n",
       "    </tr>\n",
       "    <tr>\n",
       "      <th>58258</th>\n",
       "      <td>@lfctv is fernando out of the game today?</td>\n",
       "      <td>iantchase</td>\n",
       "      <td>0</td>\n",
       "      <td>1685855556</td>\n",
       "      <td>Sun May 03 02:26:32 PDT 2009</td>\n",
       "      <td>NO_QUERY</td>\n",
       "    </tr>\n",
       "    <tr>\n",
       "      <th>1332401</th>\n",
       "      <td>just came home fro tagaytay..</td>\n",
       "      <td>leaarevalo</td>\n",
       "      <td>4</td>\n",
       "      <td>2016176582</td>\n",
       "      <td>Wed Jun 03 06:18:42 PDT 2009</td>\n",
       "      <td>NO_QUERY</td>\n",
       "    </tr>\n",
       "    <tr>\n",
       "      <th>847018</th>\n",
       "      <td>good morning and happy monday</td>\n",
       "      <td>dylancombs</td>\n",
       "      <td>4</td>\n",
       "      <td>1564504807</td>\n",
       "      <td>Mon Apr 20 03:48:25 PDT 2009</td>\n",
       "      <td>NO_QUERY</td>\n",
       "    </tr>\n",
       "    <tr>\n",
       "      <th>1537835</th>\n",
       "      <td>sun and rain now - but no sign of the rainbow ...</td>\n",
       "      <td>felicityfuller</td>\n",
       "      <td>4</td>\n",
       "      <td>2179724739</td>\n",
       "      <td>Mon Jun 15 09:29:51 PDT 2009</td>\n",
       "      <td>NO_QUERY</td>\n",
       "    </tr>\n",
       "    <tr>\n",
       "      <th>796456</th>\n",
       "      <td>@charlene9905 they all are! lol..bad attitude ...</td>\n",
       "      <td>raenbowpony</td>\n",
       "      <td>0</td>\n",
       "      <td>2327759966</td>\n",
       "      <td>Thu Jun 25 08:45:09 PDT 2009</td>\n",
       "      <td>NO_QUERY</td>\n",
       "    </tr>\n",
       "    <tr>\n",
       "      <th>529890</th>\n",
       "      <td>@tylercyrus i hope you feel better  &amp;lt;3</td>\n",
       "      <td>juztinxcore</td>\n",
       "      <td>0</td>\n",
       "      <td>2195678305</td>\n",
       "      <td>Tue Jun 16 11:27:22 PDT 2009</td>\n",
       "      <td>NO_QUERY</td>\n",
       "    </tr>\n",
       "    <tr>\n",
       "      <th>1184997</th>\n",
       "      <td>@dirtyred38 hey</td>\n",
       "      <td>empressjazzy1</td>\n",
       "      <td>4</td>\n",
       "      <td>1982701273</td>\n",
       "      <td>Sun May 31 11:43:56 PDT 2009</td>\n",
       "      <td>NO_QUERY</td>\n",
       "    </tr>\n",
       "    <tr>\n",
       "      <th>147604</th>\n",
       "      <td>@spacekiddo  i wanna go with you! i knew you w...</td>\n",
       "      <td>catasphere</td>\n",
       "      <td>0</td>\n",
       "      <td>1882849647</td>\n",
       "      <td>Fri May 22 07:35:27 PDT 2009</td>\n",
       "      <td>NO_QUERY</td>\n",
       "    </tr>\n",
       "    <tr>\n",
       "      <th>81034</th>\n",
       "      <td>not happy that the qld boys didn't win !</td>\n",
       "      <td>anitarimoni</td>\n",
       "      <td>0</td>\n",
       "      <td>1752559235</td>\n",
       "      <td>Sat May 09 22:15:52 PDT 2009</td>\n",
       "      <td>NO_QUERY</td>\n",
       "    </tr>\n",
       "    <tr>\n",
       "      <th>1144149</th>\n",
       "      <td>at the tattoo parlor with kristine</td>\n",
       "      <td>jaaaninejorge</td>\n",
       "      <td>4</td>\n",
       "      <td>1977575271</td>\n",
       "      <td>Sat May 30 21:15:02 PDT 2009</td>\n",
       "      <td>NO_QUERY</td>\n",
       "    </tr>\n",
       "    <tr>\n",
       "      <th>1364594</th>\n",
       "      <td>@trendebarbie7 #ff: 2 my dc/ vip crew @trendeb...</td>\n",
       "      <td>irv25</td>\n",
       "      <td>4</td>\n",
       "      <td>2049782293</td>\n",
       "      <td>Fri Jun 05 17:29:28 PDT 2009</td>\n",
       "      <td>NO_QUERY</td>\n",
       "    </tr>\n",
       "    <tr>\n",
       "      <th>1414689</th>\n",
       "      <td>not much longer till my 900th update now</td>\n",
       "      <td>wlxboxrox56</td>\n",
       "      <td>4</td>\n",
       "      <td>2057082838</td>\n",
       "      <td>Sat Jun 06 12:20:20 PDT 2009</td>\n",
       "      <td>NO_QUERY</td>\n",
       "    </tr>\n",
       "    <tr>\n",
       "      <th>820363</th>\n",
       "      <td>watching dirt turn to soil.</td>\n",
       "      <td>surrizzle</td>\n",
       "      <td>4</td>\n",
       "      <td>1553706480</td>\n",
       "      <td>Sat Apr 18 14:59:44 PDT 2009</td>\n",
       "      <td>NO_QUERY</td>\n",
       "    </tr>\n",
       "    <tr>\n",
       "      <th>447457</th>\n",
       "      <td>inpacking and doing errands...boooo...vigil to...</td>\n",
       "      <td>vizsla_lover</td>\n",
       "      <td>0</td>\n",
       "      <td>2068705457</td>\n",
       "      <td>Sun Jun 07 14:33:04 PDT 2009</td>\n",
       "      <td>NO_QUERY</td>\n",
       "    </tr>\n",
       "    <tr>\n",
       "      <th>47306</th>\n",
       "      <td>@r2thaedgy this guy came up to my friend for m...</td>\n",
       "      <td>grassking913</td>\n",
       "      <td>0</td>\n",
       "      <td>1677607273</td>\n",
       "      <td>Sat May 02 03:00:19 PDT 2009</td>\n",
       "      <td>NO_QUERY</td>\n",
       "    </tr>\n",
       "    <tr>\n",
       "      <th>733224</th>\n",
       "      <td>@saurabh16 can't make it bro today. too much s...</td>\n",
       "      <td>vishalgangawane</td>\n",
       "      <td>0</td>\n",
       "      <td>2264265595</td>\n",
       "      <td>Sun Jun 21 03:18:41 PDT 2009</td>\n",
       "      <td>NO_QUERY</td>\n",
       "    </tr>\n",
       "    <tr>\n",
       "      <th>803780</th>\n",
       "      <td>me and joy, mostly joy, just made a family tre...</td>\n",
       "      <td>pr3ciousedz</td>\n",
       "      <td>4</td>\n",
       "      <td>1468431839</td>\n",
       "      <td>Tue Apr 07 01:37:49 PDT 2009</td>\n",
       "      <td>NO_QUERY</td>\n",
       "    </tr>\n",
       "    <tr>\n",
       "      <th>1026028</th>\n",
       "      <td>@masscontrolkern love the work song</td>\n",
       "      <td>isworkingonit</td>\n",
       "      <td>4</td>\n",
       "      <td>1883641435</td>\n",
       "      <td>Fri May 22 08:52:36 PDT 2009</td>\n",
       "      <td>NO_QUERY</td>\n",
       "    </tr>\n",
       "    <tr>\n",
       "      <th>1006652</th>\n",
       "      <td>i'm packin meh nomnom and then i go to johnny</td>\n",
       "      <td>alextheguinea</td>\n",
       "      <td>4</td>\n",
       "      <td>1880627710</td>\n",
       "      <td>Fri May 22 01:55:23 PDT 2009</td>\n",
       "      <td>NO_QUERY</td>\n",
       "    </tr>\n",
       "    <tr>\n",
       "      <th>1127642</th>\n",
       "      <td>uuuh so damn hot, clock is almost 1am and it's...</td>\n",
       "      <td>fysaen</td>\n",
       "      <td>4</td>\n",
       "      <td>1975231961</td>\n",
       "      <td>Sat May 30 14:43:27 PDT 2009</td>\n",
       "      <td>NO_QUERY</td>\n",
       "    </tr>\n",
       "    <tr>\n",
       "      <th>852273</th>\n",
       "      <td>sleep time...picking up my college graduation ...</td>\n",
       "      <td>jerzygrllys</td>\n",
       "      <td>4</td>\n",
       "      <td>1572915439</td>\n",
       "      <td>Mon Apr 20 23:00:49 PDT 2009</td>\n",
       "      <td>NO_QUERY</td>\n",
       "    </tr>\n",
       "    <tr>\n",
       "      <th>516473</th>\n",
       "      <td>another day of school</td>\n",
       "      <td>marissa_couch</td>\n",
       "      <td>0</td>\n",
       "      <td>2191076347</td>\n",
       "      <td>Tue Jun 16 04:27:53 PDT 2009</td>\n",
       "      <td>NO_QUERY</td>\n",
       "    </tr>\n",
       "    <tr>\n",
       "      <th>1472219</th>\n",
       "      <td>in just a few days time, i'll be eating everyt...</td>\n",
       "      <td>tweetingmama</td>\n",
       "      <td>4</td>\n",
       "      <td>2065346780</td>\n",
       "      <td>Sun Jun 07 08:24:27 PDT 2009</td>\n",
       "      <td>NO_QUERY</td>\n",
       "    </tr>\n",
       "    <tr>\n",
       "      <th>1114426</th>\n",
       "      <td>myspace, listening to jedi mind tricks</td>\n",
       "      <td>chanceson</td>\n",
       "      <td>4</td>\n",
       "      <td>1972773520</td>\n",
       "      <td>Sat May 30 09:51:38 PDT 2009</td>\n",
       "      <td>NO_QUERY</td>\n",
       "    </tr>\n",
       "    <tr>\n",
       "      <th>210704</th>\n",
       "      <td>well,slept my saturday away.didn't get what i ...</td>\n",
       "      <td>andynotlp</td>\n",
       "      <td>0</td>\n",
       "      <td>1974307435</td>\n",
       "      <td>Sat May 30 12:51:42 PDT 2009</td>\n",
       "      <td>NO_QUERY</td>\n",
       "    </tr>\n",
       "    <tr>\n",
       "      <th>487293</th>\n",
       "      <td>scattered thunderstorms??  . . .</td>\n",
       "      <td>xjennyoh</td>\n",
       "      <td>0</td>\n",
       "      <td>2182037080</td>\n",
       "      <td>Mon Jun 15 12:38:08 PDT 2009</td>\n",
       "      <td>NO_QUERY</td>\n",
       "    </tr>\n",
       "    <tr>\n",
       "      <th>1020264</th>\n",
       "      <td>@iammod btw, congrats on bein vegeterian for l...</td>\n",
       "      <td>nicole107</td>\n",
       "      <td>4</td>\n",
       "      <td>1882339521</td>\n",
       "      <td>Fri May 22 06:41:35 PDT 2009</td>\n",
       "      <td>NO_QUERY</td>\n",
       "    </tr>\n",
       "    <tr>\n",
       "      <th>320789</th>\n",
       "      <td>going to work.</td>\n",
       "      <td>jessjoyeduh</td>\n",
       "      <td>0</td>\n",
       "      <td>2003508931</td>\n",
       "      <td>Tue Jun 02 06:39:47 PDT 2009</td>\n",
       "      <td>NO_QUERY</td>\n",
       "    </tr>\n",
       "    <tr>\n",
       "      <th>136006</th>\n",
       "      <td>@alexorman1 something in the air - i feel one ...</td>\n",
       "      <td>cherylh77</td>\n",
       "      <td>0</td>\n",
       "      <td>1880010529</td>\n",
       "      <td>Thu May 21 23:49:17 PDT 2009</td>\n",
       "      <td>NO_QUERY</td>\n",
       "    </tr>\n",
       "    <tr>\n",
       "      <th>151026</th>\n",
       "      <td>made a bear bento out of jade china leftovers....</td>\n",
       "      <td>hannahrmoore</td>\n",
       "      <td>0</td>\n",
       "      <td>1932411438</td>\n",
       "      <td>Tue May 26 21:24:52 PDT 2009</td>\n",
       "      <td>NO_QUERY</td>\n",
       "    </tr>\n",
       "    <tr>\n",
       "      <th>1151974</th>\n",
       "      <td>getting sick of reading internet posts using t...</td>\n",
       "      <td>nullage</td>\n",
       "      <td>4</td>\n",
       "      <td>1978665487</td>\n",
       "      <td>Sun May 31 00:04:06 PDT 2009</td>\n",
       "      <td>NO_QUERY</td>\n",
       "    </tr>\n",
       "    <tr>\n",
       "      <th>267281</th>\n",
       "      <td>waiting for will to get home  starting to feel...</td>\n",
       "      <td>gummidge</td>\n",
       "      <td>0</td>\n",
       "      <td>1989162443</td>\n",
       "      <td>Mon Jun 01 00:33:18 PDT 2009</td>\n",
       "      <td>NO_QUERY</td>\n",
       "    </tr>\n",
       "    <tr>\n",
       "      <th>1075920</th>\n",
       "      <td>st petersburg, ru over new years? we'll see.</td>\n",
       "      <td>pcookie</td>\n",
       "      <td>4</td>\n",
       "      <td>1967324492</td>\n",
       "      <td>Fri May 29 19:22:25 PDT 2009</td>\n",
       "      <td>NO_QUERY</td>\n",
       "    </tr>\n",
       "    <tr>\n",
       "      <th>241308</th>\n",
       "      <td>needs to make money fast. but how ?</td>\n",
       "      <td>sferrazzaxo</td>\n",
       "      <td>0</td>\n",
       "      <td>1981067160</td>\n",
       "      <td>Sun May 31 08:20:25 PDT 2009</td>\n",
       "      <td>NO_QUERY</td>\n",
       "    </tr>\n",
       "    <tr>\n",
       "      <th>456792</th>\n",
       "      <td>@gadbaby i was all excited, changed to cable t...</td>\n",
       "      <td>dittany</td>\n",
       "      <td>0</td>\n",
       "      <td>2071380364</td>\n",
       "      <td>Sun Jun 07 19:18:09 PDT 2009</td>\n",
       "      <td>NO_QUERY</td>\n",
       "    </tr>\n",
       "    <tr>\n",
       "      <th>1120689</th>\n",
       "      <td>loved diversity's performance! still don't kno...</td>\n",
       "      <td>keraia</td>\n",
       "      <td>4</td>\n",
       "      <td>1974000380</td>\n",
       "      <td>Sat May 30 12:14:41 PDT 2009</td>\n",
       "      <td>NO_QUERY</td>\n",
       "    </tr>\n",
       "  </tbody>\n",
       "</table>\n",
       "</div>"
      ],
      "text/plain": [
       "                                                    target              ids  \\\n",
       "741411   @mmaritza haha. i doubt she'll come to k-town....      gracemcewen   \n",
       "715661   ::::...lookn foward to makn mii pa n dad happi...          jmayo90   \n",
       "180164      lets play a game: couple, couple, ashley! yay      ashbaybay172   \n",
       "50635            laptop dead...we had a good 6 year run...        themicruz   \n",
       "1055524  @christinamerk i ? this shot (and do this too)...     heather_gray   \n",
       "858915   obsessed? you think i am obsessed? maybe it wo...         megtafel   \n",
       "657515   @etani1 9 more days in the office...the end ca...             k8sb   \n",
       "393909   @catherinedream i want it either!!!!!!!!!!  bu...           emem92   \n",
       "14100             the guys are back - gone is the quiet.          dejavumom   \n",
       "450015   @xstineeee hey! interview went well, but i hav...       frenchhugz   \n",
       "1401303  @sanya29 he seems to have women. and jews :s. ...        gemmagemo   \n",
       "730933      @oktet8 yeah, don't expect too much out of it            dguido   \n",
       "1098557                             is watching prue sing            rana83   \n",
       "1239287  @brian_____ everything theme i have released w...        tehkseven   \n",
       "131111   afternoon everyone, hate the rain here in glos...        vesperv11   \n",
       "1329075  yay for waking up early haha.  everyone be sur...      wescallahan   \n",
       "1215971  @elavrov it' s not in russia but in latvia  ex...           edubag   \n",
       "440902   every sunday is boring  my friends are not hom...           juli96   \n",
       "478303   just dropped off my hubby  won't see him for a...       p_trujillo   \n",
       "220508         hanging out with derek who leaves tomorrow       kcollins720   \n",
       "929499                       @justice_king awww thx boo..         queenb_kd   \n",
       "703400   merceyamore: to: king.... ouch, i'm sorry...  ...       whereonpre   \n",
       "613200                                     has a headache          irvman08   \n",
       "571663   stupid local cvs didn't have the latest people...  ilovedemiselena   \n",
       "452611   back in wilkes-barre. plus lots of flowers. mi...           valben   \n",
       "303755   bad day  at  least my phone is working for the...        lacefacee   \n",
       "1363957       this summer is gonna rock, you have no idea           sarah1x   \n",
       "4426     feelin sick.  can't slow down though...school,...     ashtontaylor   \n",
       "546908   woke up at 3.20am and still awake, boy this is...        chefshoes   \n",
       "123325   i would hate goin 2 the store right now like ....  remembermeninab   \n",
       "373848   - i'm getting irritated @ this &quot;brittany ...    katjrobertson   \n",
       "1342150  @ian_watkins you know that we all care much mo...          ell_bel   \n",
       "1147672  i just drew a cute unicorn for my @violinistli...        javajunky   \n",
       "1077716    someone complimented me on my docs today. nice            ivsies   \n",
       "215757   i need to learn how to spell..im soo gona fail...        leahfitzz   \n",
       "1324212  @dayewalker hello you! have you woken up in a ...         acemas21   \n",
       "1029709  @ameliaghostie good, even better now that your...         ruberman   \n",
       "1039861  @mishisherbert um i bet not lmao. his was hard...          linkaxo   \n",
       "738141     hope to see you, even if you have forgotten me            gglobe   \n",
       "749469                           man i want some gumbo 2!      kyleleiblein   \n",
       "1267910  @peterfacinelli ohmigosh! i absolutely looove ...          vlvalle   \n",
       "15556    the drive in the convertible was great! my fre...        kylaworld   \n",
       "1304590                          @so_chi8 heyyy christian    lilmizsunshyne   \n",
       "990105   back to designing the wind energy conference b...      rubio_janet   \n",
       "1072590  the job is done! yea...and it wasn't nearly as...     smbluvsnkotb   \n",
       "881763   @kkozmic @tehlike because they *are* watching ...         srstrong   \n",
       "1295244         @emm_jay woot! jem! i'd totally see that!       omg_dj_judy   \n",
       "1475024   had soooo much fun tonight  http://myloc.me/2vkb           tasjaa   \n",
       "1156998  @greggrunberg cant wait for season 4  when wil...      dsrouji2000   \n",
       "482001                  waaaa my hair dye is almost faded       cjlover1994   \n",
       "1487152                           sir shnukcums  love him      abbygilmourr   \n",
       "1218865  i guess some people really believe they're doi...      jasongorman   \n",
       "1093857                                 yesterday was gr8      nutterhtowse   \n",
       "1208466       @toshamakia  twitter addiction is rampant!!             dpros   \n",
       "5648                                    work all day long          xociucio   \n",
       "608898   @thestaciesutra yes, unfortunately i think he ...    christinesixx   \n",
       "6943     stitchin up some sweet woodgrain print jeans t...           dr3w_b   \n",
       "393149   @alexaherra imm sorry  i have my family hear.....     andrea150695   \n",
       "17967    watching the very last episode of the fresh pr...     april_fierce   \n",
       "1497758                      going to the golfing rangee.          maddii33   \n",
       "196289                                    doh, work today         digghodor   \n",
       "757504                          i am hotter than the sun!           ajprice   \n",
       "1236771  is absolutely loving all of this sunshine  and...  loveableukangel   \n",
       "15733    @jim_brown it's still very early in the season...   jessicalhansen   \n",
       "58258           @lfctv is fernando out of the game today?         iantchase   \n",
       "1332401                     just came home fro tagaytay..        leaarevalo   \n",
       "847018                      good morning and happy monday        dylancombs   \n",
       "1537835  sun and rain now - but no sign of the rainbow ...   felicityfuller   \n",
       "796456   @charlene9905 they all are! lol..bad attitude ...      raenbowpony   \n",
       "529890           @tylercyrus i hope you feel better  &lt;3      juztinxcore   \n",
       "1184997                                   @dirtyred38 hey     empressjazzy1   \n",
       "147604   @spacekiddo  i wanna go with you! i knew you w...       catasphere   \n",
       "81034            not happy that the qld boys didn't win !       anitarimoni   \n",
       "1144149                at the tattoo parlor with kristine     jaaaninejorge   \n",
       "1364594  @trendebarbie7 #ff: 2 my dc/ vip crew @trendeb...            irv25   \n",
       "1414689          not much longer till my 900th update now       wlxboxrox56   \n",
       "820363                        watching dirt turn to soil.         surrizzle   \n",
       "447457   inpacking and doing errands...boooo...vigil to...     vizsla_lover   \n",
       "47306    @r2thaedgy this guy came up to my friend for m...     grassking913   \n",
       "733224   @saurabh16 can't make it bro today. too much s...  vishalgangawane   \n",
       "803780   me and joy, mostly joy, just made a family tre...      pr3ciousedz   \n",
       "1026028               @masscontrolkern love the work song     isworkingonit   \n",
       "1006652     i'm packin meh nomnom and then i go to johnny     alextheguinea   \n",
       "1127642  uuuh so damn hot, clock is almost 1am and it's...           fysaen   \n",
       "852273   sleep time...picking up my college graduation ...      jerzygrllys   \n",
       "516473                              another day of school     marissa_couch   \n",
       "1472219  in just a few days time, i'll be eating everyt...     tweetingmama   \n",
       "1114426            myspace, listening to jedi mind tricks         chanceson   \n",
       "210704   well,slept my saturday away.didn't get what i ...        andynotlp   \n",
       "487293                    scattered thunderstorms??  . . .         xjennyoh   \n",
       "1020264  @iammod btw, congrats on bein vegeterian for l...        nicole107   \n",
       "320789                                     going to work.       jessjoyeduh   \n",
       "136006   @alexorman1 something in the air - i feel one ...        cherylh77   \n",
       "151026   made a bear bento out of jade china leftovers....     hannahrmoore   \n",
       "1151974  getting sick of reading internet posts using t...          nullage   \n",
       "267281   waiting for will to get home  starting to feel...         gummidge   \n",
       "1075920      st petersburg, ru over new years? we'll see.           pcookie   \n",
       "241308                needs to make money fast. but how ?       sferrazzaxo   \n",
       "456792   @gadbaby i was all excited, changed to cable t...          dittany   \n",
       "1120689  loved diversity's performance! still don't kno...           keraia   \n",
       "\n",
       "        date        flag                          user      text  \n",
       "741411     0  2266254148  Sun Jun 21 08:10:54 PDT 2009  NO_QUERY  \n",
       "715661     0  2259484102  Sat Jun 20 17:39:36 PDT 2009  NO_QUERY  \n",
       "180164     0  1966483782  Fri May 29 17:51:05 PDT 2009  NO_QUERY  \n",
       "50635      0  1678573280  Sat May 02 07:07:29 PDT 2009  NO_QUERY  \n",
       "1055524    4  1962244978  Fri May 29 10:44:55 PDT 2009  NO_QUERY  \n",
       "858915     4  1675896106  Fri May 01 20:35:20 PDT 2009  NO_QUERY  \n",
       "657515     0  2241056107  Fri Jun 19 10:29:18 PDT 2009  NO_QUERY  \n",
       "393909     0  2055510431  Sat Jun 06 09:26:58 PDT 2009  NO_QUERY  \n",
       "14100      0  1553549135  Sat Apr 18 14:34:01 PDT 2009  NO_QUERY  \n",
       "450015     0  2069390868  Sun Jun 07 15:47:28 PDT 2009  NO_QUERY  \n",
       "1401303    4  2054531400  Sat Jun 06 07:33:21 PDT 2009  NO_QUERY  \n",
       "730933     0  2263697350  Sun Jun 21 01:32:52 PDT 2009  NO_QUERY  \n",
       "1098557    4  1970495172  Sat May 30 04:05:42 PDT 2009  NO_QUERY  \n",
       "1239287    4  1993519007  Mon Jun 01 10:30:27 PDT 2009  NO_QUERY  \n",
       "131111     0  1835455993  Mon May 18 06:01:57 PDT 2009  NO_QUERY  \n",
       "1329075    4  2015611914  Wed Jun 03 05:06:18 PDT 2009  NO_QUERY  \n",
       "1215971    4  1989594280  Mon Jun 01 02:06:29 PDT 2009  NO_QUERY  \n",
       "440902     0  2066864484  Sun Jun 07 11:18:47 PDT 2009  NO_QUERY  \n",
       "478303     0  2178497492  Mon Jun 15 07:47:20 PDT 2009  NO_QUERY  \n",
       "220508     0  1976639470  Sat May 30 18:38:57 PDT 2009  NO_QUERY  \n",
       "929499     4  1760005744  Sun May 10 20:26:47 PDT 2009  NO_QUERY  \n",
       "703400     0  2255695625  Sat Jun 20 11:39:04 PDT 2009  NO_QUERY  \n",
       "613200     0  2225278165  Thu Jun 18 10:31:34 PDT 2009  NO_QUERY  \n",
       "571663     0  2208934682  Wed Jun 17 09:48:36 PDT 2009  NO_QUERY  \n",
       "452611     0  2070086903  Sun Jun 07 17:04:21 PDT 2009  NO_QUERY  \n",
       "303755     0  1999558770  Mon Jun 01 20:25:46 PDT 2009  NO_QUERY  \n",
       "1363957    4  2049616036  Fri Jun 05 17:11:32 PDT 2009  NO_QUERY  \n",
       "4426       0  1468820544  Tue Apr 07 03:54:32 PDT 2009  NO_QUERY  \n",
       "546908     0  2201907340  Tue Jun 16 20:57:04 PDT 2009  NO_QUERY  \n",
       "123325     0  1833888447  Mon May 18 00:49:27 PDT 2009  NO_QUERY  \n",
       "373848     0  2051114673  Fri Jun 05 19:53:24 PDT 2009  NO_QUERY  \n",
       "1342150    4  2032605712  Thu Jun 04 11:30:09 PDT 2009  NO_QUERY  \n",
       "1147672    4  1978106305  Sat May 30 22:27:30 PDT 2009  NO_QUERY  \n",
       "1077716    4  1967718552  Fri May 29 20:05:24 PDT 2009  NO_QUERY  \n",
       "215757     0  1975557434  Sat May 30 15:24:41 PDT 2009  NO_QUERY  \n",
       "1324212    4  2014987291  Wed Jun 03 03:20:39 PDT 2009  NO_QUERY  \n",
       "1029709    4  1932817426  Tue May 26 22:17:21 PDT 2009  NO_QUERY  \n",
       "1039861    4  1956872930  Thu May 28 22:54:38 PDT 2009  NO_QUERY  \n",
       "738141     0  2265395429  Sun Jun 21 06:29:20 PDT 2009  NO_QUERY  \n",
       "749469     0  2285086673  Mon Jun 22 14:41:27 PDT 2009  NO_QUERY  \n",
       "1267910    4  1999947880  Mon Jun 01 21:07:02 PDT 2009  NO_QUERY  \n",
       "15556      0  1554398041  Sat Apr 18 16:53:16 PDT 2009  NO_QUERY  \n",
       "1304590    4  2010538427  Tue Jun 02 17:33:03 PDT 2009  NO_QUERY  \n",
       "990105     4  1834952399  Mon May 18 04:42:49 PDT 2009  NO_QUERY  \n",
       "1072590    4  1966598043  Fri May 29 18:03:30 PDT 2009  NO_QUERY  \n",
       "881763     4  1685856843  Sun May 03 02:26:57 PDT 2009  NO_QUERY  \n",
       "1295244    4  2003657868  Tue Jun 02 06:55:38 PDT 2009  NO_QUERY  \n",
       "1475024    4  2065835668  Sun Jun 07 09:23:08 PDT 2009  NO_QUERY  \n",
       "1156998    4  1979141882  Sun May 31 01:48:28 PDT 2009  NO_QUERY  \n",
       "482001     0  2179863944  Mon Jun 15 09:41:17 PDT 2009  NO_QUERY  \n",
       "1487152    4  2068219435  Sun Jun 07 13:42:18 PDT 2009  NO_QUERY  \n",
       "1218865    4  1989881033  Mon Jun 01 03:08:04 PDT 2009  NO_QUERY  \n",
       "1093857    4  1970098904  Sat May 30 02:27:00 PDT 2009  NO_QUERY  \n",
       "1208466    4  1988819155  Sun May 31 23:28:02 PDT 2009  NO_QUERY  \n",
       "5648       0  1469147907  Tue Apr 07 05:23:21 PDT 2009  NO_QUERY  \n",
       "608898     0  2223520905  Thu Jun 18 08:22:41 PDT 2009  NO_QUERY  \n",
       "6943       0  1469618222  Tue Apr 07 06:55:16 PDT 2009  NO_QUERY  \n",
       "393149     0  2055329966  Sat Jun 06 09:07:09 PDT 2009  NO_QUERY  \n",
       "17967      0  1556459956  Sat Apr 18 22:55:24 PDT 2009  NO_QUERY  \n",
       "1497758    4  2070447246  Sun Jun 07 17:42:41 PDT 2009  NO_QUERY  \n",
       "196289     0  1970688345  Sat May 30 04:51:06 PDT 2009  NO_QUERY  \n",
       "757504     0  2295348768  Tue Jun 23 07:48:43 PDT 2009  NO_QUERY  \n",
       "1236771    4  1992893390  Mon Jun 01 09:29:43 PDT 2009  NO_QUERY  \n",
       "15733      0  1554485869  Sat Apr 18 17:07:34 PDT 2009  NO_QUERY  \n",
       "58258      0  1685855556  Sun May 03 02:26:32 PDT 2009  NO_QUERY  \n",
       "1332401    4  2016176582  Wed Jun 03 06:18:42 PDT 2009  NO_QUERY  \n",
       "847018     4  1564504807  Mon Apr 20 03:48:25 PDT 2009  NO_QUERY  \n",
       "1537835    4  2179724739  Mon Jun 15 09:29:51 PDT 2009  NO_QUERY  \n",
       "796456     0  2327759966  Thu Jun 25 08:45:09 PDT 2009  NO_QUERY  \n",
       "529890     0  2195678305  Tue Jun 16 11:27:22 PDT 2009  NO_QUERY  \n",
       "1184997    4  1982701273  Sun May 31 11:43:56 PDT 2009  NO_QUERY  \n",
       "147604     0  1882849647  Fri May 22 07:35:27 PDT 2009  NO_QUERY  \n",
       "81034      0  1752559235  Sat May 09 22:15:52 PDT 2009  NO_QUERY  \n",
       "1144149    4  1977575271  Sat May 30 21:15:02 PDT 2009  NO_QUERY  \n",
       "1364594    4  2049782293  Fri Jun 05 17:29:28 PDT 2009  NO_QUERY  \n",
       "1414689    4  2057082838  Sat Jun 06 12:20:20 PDT 2009  NO_QUERY  \n",
       "820363     4  1553706480  Sat Apr 18 14:59:44 PDT 2009  NO_QUERY  \n",
       "447457     0  2068705457  Sun Jun 07 14:33:04 PDT 2009  NO_QUERY  \n",
       "47306      0  1677607273  Sat May 02 03:00:19 PDT 2009  NO_QUERY  \n",
       "733224     0  2264265595  Sun Jun 21 03:18:41 PDT 2009  NO_QUERY  \n",
       "803780     4  1468431839  Tue Apr 07 01:37:49 PDT 2009  NO_QUERY  \n",
       "1026028    4  1883641435  Fri May 22 08:52:36 PDT 2009  NO_QUERY  \n",
       "1006652    4  1880627710  Fri May 22 01:55:23 PDT 2009  NO_QUERY  \n",
       "1127642    4  1975231961  Sat May 30 14:43:27 PDT 2009  NO_QUERY  \n",
       "852273     4  1572915439  Mon Apr 20 23:00:49 PDT 2009  NO_QUERY  \n",
       "516473     0  2191076347  Tue Jun 16 04:27:53 PDT 2009  NO_QUERY  \n",
       "1472219    4  2065346780  Sun Jun 07 08:24:27 PDT 2009  NO_QUERY  \n",
       "1114426    4  1972773520  Sat May 30 09:51:38 PDT 2009  NO_QUERY  \n",
       "210704     0  1974307435  Sat May 30 12:51:42 PDT 2009  NO_QUERY  \n",
       "487293     0  2182037080  Mon Jun 15 12:38:08 PDT 2009  NO_QUERY  \n",
       "1020264    4  1882339521  Fri May 22 06:41:35 PDT 2009  NO_QUERY  \n",
       "320789     0  2003508931  Tue Jun 02 06:39:47 PDT 2009  NO_QUERY  \n",
       "136006     0  1880010529  Thu May 21 23:49:17 PDT 2009  NO_QUERY  \n",
       "151026     0  1932411438  Tue May 26 21:24:52 PDT 2009  NO_QUERY  \n",
       "1151974    4  1978665487  Sun May 31 00:04:06 PDT 2009  NO_QUERY  \n",
       "267281     0  1989162443  Mon Jun 01 00:33:18 PDT 2009  NO_QUERY  \n",
       "1075920    4  1967324492  Fri May 29 19:22:25 PDT 2009  NO_QUERY  \n",
       "241308     0  1981067160  Sun May 31 08:20:25 PDT 2009  NO_QUERY  \n",
       "456792     0  2071380364  Sun Jun 07 19:18:09 PDT 2009  NO_QUERY  \n",
       "1120689    4  1974000380  Sat May 30 12:14:41 PDT 2009  NO_QUERY  "
      ]
     },
     "execution_count": 162,
     "metadata": {},
     "output_type": "execute_result"
    }
   ],
   "source": [
    "from src.sklearn_wrappers import CustomColumnTransformer\n",
    "\n",
    "tr = CustomColumnTransformer([\n",
    "    ('to_lower', make_lower, ['text', 'user'])\n",
    "],\n",
    "    remainder = 'passthrough')\n",
    "\n",
    "tr.fit(data.sample(100))\n",
    "tr.transform(data.sample(100))\n"
   ]
  },
  {
   "cell_type": "code",
   "execution_count": 160,
   "id": "c852339f",
   "metadata": {
    "ExecuteTime": {
     "end_time": "2021-11-01T08:13:42.049017Z",
     "start_time": "2021-11-01T08:13:42.024450Z"
    }
   },
   "outputs": [
    {
     "data": {
      "text/plain": [
       "['target', 'ids', 'date', 'flag', 'user', 'text']"
      ]
     },
     "execution_count": 160,
     "metadata": {},
     "output_type": "execute_result"
    }
   ],
   "source": [
    "tr._feature_names_in"
   ]
  },
  {
   "cell_type": "code",
   "execution_count": null,
   "id": "7c70dac4",
   "metadata": {},
   "outputs": [],
   "source": []
  },
  {
   "cell_type": "code",
   "execution_count": 163,
   "id": "d3e82fc6",
   "metadata": {
    "ExecuteTime": {
     "end_time": "2021-11-01T08:30:43.828550Z",
     "start_time": "2021-11-01T08:30:43.755514Z"
    }
   },
   "outputs": [
    {
     "data": {
      "text/plain": [
       "array([['@chaitanya_gupta a hand-rickshaw is even worse, cant help not feeling sorry for the poor guy, rather not go anywhere, unpractical though ',\n",
       "        'rajatpandit', 0, 2002157850, 'Tue Jun 02 03:20:10 PDT 2009',\n",
       "        'NO_QUERY'],\n",
       "       ['hot night in sigillo.....the temperature is very high! ',\n",
       "        'pirusdj', 0, 2183615622, 'Mon Jun 15 14:45:03 PDT 2009',\n",
       "        'NO_QUERY'],\n",
       "       ['@tonyrobbins &quot;paradise is where i am.&quot; he also said ',\n",
       "        'annaelvira', 4, 1753484044, 'Sun May 10 01:52:14 PDT 2009',\n",
       "        'NO_QUERY'],\n",
       "       ['@jessicaveronica - it was awsome meeting you last night  you looked like you were having a good time.',\n",
       "        'anntyant', 4, 1968822450, 'Fri May 29 22:18:08 PDT 2009',\n",
       "        'NO_QUERY'],\n",
       "       [\"@theitfactor i hope you can get another soon...  i'm really sorry about what happened to yours.\",\n",
       "        'nikkipenguin', 0, 1977615815, 'Sat May 30 21:20:02 PDT 2009',\n",
       "        'NO_QUERY'],\n",
       "       ['up bright and early for church after that the day will unfold on its onw i just kno that studyin is a part of my day as usual. go xula  ',\n",
       "        'immisstee', 4, 1558450042, 'Sun Apr 19 08:24:49 PDT 2009',\n",
       "        'NO_QUERY'],\n",
       "       ['@chrisbosh which recipe? please share ', 'fonnerberry', 4,\n",
       "        1685029661, 'Sat May 02 22:49:12 PDT 2009', 'NO_QUERY'],\n",
       "       [\"@koball thanks for the idea, but this time of year, i am lucky if i see my hubby at all. work doesn't let him play for awhile. \",\n",
       "        'sbsbea', 0, 2225495087, 'Thu Jun 18 10:47:25 PDT 2009',\n",
       "        'NO_QUERY'],\n",
       "       [\"@donmarwarehouse actually, ticket office just wasn't bothering to look -  have managed to find two tickets for dolls' house for june 22. \",\n",
       "        'webcowgirl', 4, 1834191238, 'Mon May 18 01:59:06 PDT 2009',\n",
       "        'NO_QUERY'],\n",
       "       ['http://twitpic.com/6afze - nyrrclub held their half marathon @ coney island and @rbbbconeyisland was there to join in ',\n",
       "        'ballyhoo', 4, 1975342169, 'Sat May 30 14:57:29 PDT 2009',\n",
       "        'NO_QUERY'],\n",
       "       ['darn it! i forgot our gspm youtube password. no upload of the @almacy class video tonight.  ',\n",
       "        'julieg', 0, 2010262332, 'Tue Jun 02 17:05:12 PDT 2009',\n",
       "        'NO_QUERY'],\n",
       "       ['jamie is being such a jerk right now. everyone text her and tell her to stop  4802722887',\n",
       "        'joowang', 0, 2058796937, 'Sat Jun 06 15:38:45 PDT 2009',\n",
       "        'NO_QUERY'],\n",
       "       [\"is dumb tite i can't fine my headscarf... i can't go to sleep w/out it! my hair is gonna look madd scruffy tomorrow \",\n",
       "        'foreverfame25', 0, 1824299614, 'Sun May 17 00:48:12 PDT 2009',\n",
       "        'NO_QUERY'],\n",
       "       ['so gloomy out again   i think its a good day to go home and visit the fam in ep',\n",
       "        'elbeck', 0, 2065245826, 'Sun Jun 07 08:11:54 PDT 2009',\n",
       "        'NO_QUERY'],\n",
       "       ['i gotta get going.  it was a pleasure twittering as always.  good day everyone and god bless! ',\n",
       "        'tiffiany1', 4, 1826527123, 'Sun May 17 08:43:03 PDT 2009',\n",
       "        'NO_QUERY'],\n",
       "       ['choking on special k!!!!!!! ', 'randie_nicole', 0, 1882872528,\n",
       "        'Fri May 22 07:37:48 PDT 2009', 'NO_QUERY'],\n",
       "       ['@jewles622 http://www.fanfiction.net/s/4958898/1/ there you go ',\n",
       "        'tby789', 4, 2058914879, 'Sat Jun 06 15:52:52 PDT 2009',\n",
       "        'NO_QUERY'],\n",
       "       [\"is cleaning and doing laundry. while trying to adapt to having a husband who works pt overnights. i'm lonely and sad.  &lt;t.c.&gt;\",\n",
       "        'cocodink', 0, 1976549189, 'Sat May 30 18:24:57 PDT 2009',\n",
       "        'NO_QUERY'],\n",
       "       ['thinks that this sun is really really nice. ', 'ohmycharl', 4,\n",
       "        1557900234, 'Sun Apr 19 06:29:41 PDT 2009', 'NO_QUERY'],\n",
       "       [\"the school year flew. i'm starting to get sad about saying goodbye to a lot of them. \",\n",
       "        'bayounger', 0, 2002175060, 'Tue Jun 02 03:23:42 PDT 2009',\n",
       "        'NO_QUERY'],\n",
       "       ['back from milan...dead tired ', 'cominu', 0, 2264292859,\n",
       "        'Sun Jun 21 03:24:04 PDT 2009', 'NO_QUERY'],\n",
       "       ['immaa too poor foaa clothes  being so cheap.. buying clothes on sale for like $1o! needa save///',\n",
       "        'tanyarhh', 0, 2013901078, 'Tue Jun 02 23:53:43 PDT 2009',\n",
       "        'NO_QUERY'],\n",
       "       ['wishing i could watch lost right now... that would be nice. ',\n",
       "        'vanishingflower', 0, 1692210537, 'Sun May 03 19:30:36 PDT 2009',\n",
       "        'NO_QUERY'],\n",
       "       ['@mattbentomhill i need to get you into emarosa and dance gavin dance  want to borrow their albums?',\n",
       "        'marccerretti', 4, 1679144423, 'Sat May 02 08:38:34 PDT 2009',\n",
       "        'NO_QUERY'],\n",
       "       [\"@annlinny  i'll try to get back to your e-mail as soon as i can! i won't forget!! even if it might take me a little longer!!! miss you \",\n",
       "        'corina24', 0, 1793541281, 'Thu May 14 03:05:17 PDT 2009',\n",
       "        'NO_QUERY'],\n",
       "       ['@bdav unfortunately not, just checked ', 'davideggleton', 0,\n",
       "        1825503385, 'Sun May 17 05:56:00 PDT 2009', 'NO_QUERY'],\n",
       "       ['thanks all new followers.  ', 'pietari_', 4, 2176326852,\n",
       "        'Mon Jun 15 03:34:03 PDT 2009', 'NO_QUERY'],\n",
       "       [\"i kinda miss my long hair ;/ ok, i should stop whineing.. but it's the barbers fault \",\n",
       "        'inesdr', 0, 2058441765, 'Sat Jun 06 14:57:02 PDT 2009',\n",
       "        'NO_QUERY'],\n",
       "       ['alan loves nicole. yes he does. he started crying when she and cc left. ',\n",
       "        'syntheticrose', 0, 1998216628, 'Mon Jun 01 18:11:08 PDT 2009',\n",
       "        'NO_QUERY'],\n",
       "       ['going home.  ', 'karj', 4, 1983675327,\n",
       "        'Sun May 31 13:36:51 PDT 2009', 'NO_QUERY'],\n",
       "       ['exercise finished! i learnt the beginning to 3 songs today on guitar. ',\n",
       "        'pansy___x', 4, 1980310725, 'Sun May 31 06:21:55 PDT 2009',\n",
       "        'NO_QUERY'],\n",
       "       ['i feel so sick after eating that ', 'lanulove', 0, 2200369108,\n",
       "        'Tue Jun 16 18:48:17 PDT 2009', 'NO_QUERY'],\n",
       "       ['needs a new leg ', 'ctinaaa', 0, 2225285524,\n",
       "        'Thu Jun 18 10:32:07 PDT 2009', 'NO_QUERY'],\n",
       "       [\"@nitch79 that's not funny  lol i'm alright x\", 'karen230683', 0,\n",
       "        2229219424, 'Thu Jun 18 15:26:20 PDT 2009', 'NO_QUERY'],\n",
       "       ['@toreo i agree. i am guilty of it from time to time, though ',\n",
       "        'thetoughsams', 0, 2211220662, 'Wed Jun 17 12:35:13 PDT 2009',\n",
       "        'NO_QUERY'],\n",
       "       ['@iamsneezy you are slowly crossing over.  once you get a mac, you never go back.  ',\n",
       "        'sharks12rw', 4, 1999948564, 'Mon Jun 01 21:07:07 PDT 2009',\n",
       "        'NO_QUERY'],\n",
       "       ['@b_schmidt i will get to reading this soon after finals ',\n",
       "        'chevycarter', 4, 1687899864, 'Sun May 03 09:51:56 PDT 2009',\n",
       "        'NO_QUERY'],\n",
       "       [\"@viaaubrey ewww this 'hottie anna' chick was following me, and i went to her twitter, clicked on the link, sooooo saw her nudes. \",\n",
       "        'toriirae', 0, 1881542151, 'Fri May 22 04:56:39 PDT 2009',\n",
       "        'NO_QUERY'],\n",
       "       ['making plans to meet up with people at tnna is fun -- sometimes it feels like summer camp reunion or something.  ',\n",
       "        'erdufylla', 4, 1998780478, 'Mon Jun 01 19:06:45 PDT 2009',\n",
       "        'NO_QUERY'],\n",
       "       [\"@levrone2000 thx kevin. i used your plan againl. i think my shoulders getting bigger n' bigger \",\n",
       "        'zoobear000', 4, 2180100059, 'Mon Jun 15 10:00:39 PDT 2009',\n",
       "        'NO_QUERY'],\n",
       "       ['hey tweeps  hows everyone doing on this monday?',\n",
       "        'schattenwolf', 4, 2177967160, 'Mon Jun 15 06:59:39 PDT 2009',\n",
       "        'NO_QUERY'],\n",
       "       ['#thingsmummysaid no siblings for you... you are quite enough ',\n",
       "        'mrpixar', 4, 1962139569, 'Fri May 29 10:35:02 PDT 2009',\n",
       "        'NO_QUERY'],\n",
       "       ['@kardia for a lesbian beth ditto sure likes making a dick of herself?  (also, there may be a new black minion in the &quot;family&quot; )',\n",
       "        'mythor', 4, 2190244002, 'Tue Jun 16 02:10:29 PDT 2009',\n",
       "        'NO_QUERY'],\n",
       "       ['morning everyone!!!!!! ', 'traceyhewins', 4, 1970363547,\n",
       "        'Sat May 30 03:33:42 PDT 2009', 'NO_QUERY'],\n",
       "       ['had a good time at the game tonight. only in the minor leagues can you have guys close to jail bait playing with old men... and hotties ',\n",
       "        'thatswhtshesaid', 4, 1969386506, 'Fri May 29 23:52:32 PDT 2009',\n",
       "        'NO_QUERY'],\n",
       "       ['i love michael cera &amp; jack black.... but year one was not so good. ',\n",
       "        'evangenitals', 0, 2263330427, 'Sun Jun 21 00:31:45 PDT 2009',\n",
       "        'NO_QUERY'],\n",
       "       ['got high, without getting drunk. i know how it feels to be on a &quot;high&quot; now ',\n",
       "        'shayanc1985', 4, 1559130932, 'Sun Apr 19 10:20:27 PDT 2009',\n",
       "        'NO_QUERY'],\n",
       "       ['coool, pp is chilling like two hours awayy. awww pooo.. i miss steven. ',\n",
       "        'jessicachambers', 0, 2247008586, 'Fri Jun 19 18:27:11 PDT 2009',\n",
       "        'NO_QUERY'],\n",
       "       ['im sitting in a chair listenin to sum of my music ... and shaking ... idk why im shaking tho .... i had cofee ',\n",
       "        'crizzzy', 4, 1880112839, 'Fri May 22 00:08:21 PDT 2009',\n",
       "        'NO_QUERY'],\n",
       "       ['is so happy piper finally slept thru the night, but hates that i didnt sleep cause i was worried about her ',\n",
       "        'jessm1012', 4, 1993328971, 'Mon Jun 01 10:12:08 PDT 2009',\n",
       "        'NO_QUERY'],\n",
       "       ['firstt commmentt! imm boreeddd ', 'chriss_s', 0, 2055284521,\n",
       "        'Sat Jun 06 09:02:17 PDT 2009', 'NO_QUERY'],\n",
       "       ['ate too much  no more food for the day.', 'dear_marla', 0,\n",
       "        2196894721, 'Tue Jun 16 13:04:15 PDT 2009', 'NO_QUERY'],\n",
       "       ['@whopootedday26 hey mike ', 'brezzie1', 4, 2191190001,\n",
       "        'Tue Jun 16 04:43:53 PDT 2009', 'NO_QUERY'],\n",
       "       ['hate tha h3at {but} lov3 bik3 s3ason. ', 'bkajuicy', 4,\n",
       "        2057332903, 'Sat Jun 06 12:48:25 PDT 2009', 'NO_QUERY'],\n",
       "       ['im really tired,  just want to go see my boyfriend ',\n",
       "        'kateg0r3', 0, 1998833124, 'Mon Jun 01 19:11:54 PDT 2009',\n",
       "        'NO_QUERY'],\n",
       "       ['cooking! ', 'niariley', 4, 1958068036,\n",
       "        'Fri May 29 02:33:02 PDT 2009', 'NO_QUERY'],\n",
       "       ['my thirst is sorted  thanks to my sister. who is reading this right now,greetings amigo! you should probarly get ready for bed.',\n",
       "        'krishma_', 4, 2068294036, 'Sun Jun 07 13:50:12 PDT 2009',\n",
       "        'NO_QUERY'],\n",
       "       ['http://twitpic.com/6iyzy - what a drunk face ', 'yokimu', 4,\n",
       "        2015641124, 'Wed Jun 03 05:10:30 PDT 2009', 'NO_QUERY'],\n",
       "       [\"baking croissants - the only reason why i'd be up at 6 in the morning \",\n",
       "        'garoutteju', 4, 1932528344, 'Tue May 26 21:39:10 PDT 2009',\n",
       "        'NO_QUERY'],\n",
       "       ['@bebiv a magazine, im gonna try and get a placement in one and get more experiance  xxx',\n",
       "        'allthatglitt3rs', 4, 1975425949, 'Sat May 30 15:07:52 PDT 2009',\n",
       "        'NO_QUERY'],\n",
       "       ['@n00tz clif bar didnt hold? ', 'eyera', 4, 1965985499,\n",
       "        'Fri May 29 16:54:38 PDT 2009', 'NO_QUERY'],\n",
       "       ['@lostjello i broke your twit pic ', 'itsgasolgood', 0,\n",
       "        2249039447, 'Fri Jun 19 21:36:51 PDT 2009', 'NO_QUERY'],\n",
       "       ['setting an alarm for morning time cause i know my ass is gonna wanna sleep in. ',\n",
       "        'pollitahaha', 4, 1833939573, 'Mon May 18 01:01:00 PDT 2009',\n",
       "        'NO_QUERY'],\n",
       "       [\"@steventmeyer i am so sad that i didn't get to see you while you were here in boston!! \",\n",
       "        'christie430', 0, 1984558263, 'Sun May 31 15:20:39 PDT 2009',\n",
       "        'NO_QUERY'],\n",
       "       [\"twitterlulu peeps: help! anybody know where i can locally service an hp color laser printer? i've got color registration issues. \",\n",
       "        'chunlum', 0, 1759575347, 'Sun May 10 19:31:03 PDT 2009',\n",
       "        'NO_QUERY'],\n",
       "       ['@luddsson i had to micro teach for 30 mins while being evaluated ',\n",
       "        'craigjeaton', 0, 2016421318, 'Wed Jun 03 06:44:56 PDT 2009',\n",
       "        'NO_QUERY'],\n",
       "       [\"@redheaddreams you are a young'un! jay tries not to act old because he still hates the fact that he's a vampire. hasn't accepted it yet. \",\n",
       "        'stina8753', 0, 2071378429, 'Sun Jun 07 19:17:57 PDT 2009',\n",
       "        'NO_QUERY'],\n",
       "       ['has a stuffy nose  misery.', 'snailer', 0, 1558824201,\n",
       "        'Sun Apr 19 09:30:15 PDT 2009', 'NO_QUERY'],\n",
       "       ['@theprint gratz on 5000  you might also like these ones from a comedy legend: http://bit.ly/filthywords ',\n",
       "        'bobbigmac', 4, 2185101103, 'Mon Jun 15 16:53:15 PDT 2009',\n",
       "        'NO_QUERY'],\n",
       "       [\"@over40something am having 3 days too. a flex day on monday. that's flexible working hours. nice, isn't it \",\n",
       "        'wollemipine', 4, 1880205304, 'Fri May 22 00:26:34 PDT 2009',\n",
       "        'NO_QUERY'],\n",
       "       [\"i went and flexed it down the park but it's gone all limp now...  it was great whilst it lasted though.\",\n",
       "        'entershikari', 0, 1973793143, 'Sat May 30 11:50:43 PDT 2009',\n",
       "        'NO_QUERY'],\n",
       "       ['@carolinaxoxo aha , idk if i can get it. i hope so , cause im really in the mood some.  i should have just replied 2 both of you at th ...',\n",
       "        'lauralxox', 4, 2069122439, 'Sun Jun 07 15:18:08 PDT 2009',\n",
       "        'NO_QUERY'],\n",
       "       ['damn its quiet at work mite go for a smoko out in the cold ',\n",
       "        'becdiva7', 0, 2202931761, 'Tue Jun 16 22:41:21 PDT 2009',\n",
       "        'NO_QUERY'],\n",
       "       ['@hotlittlepony ', 'thomasriddle', 0, 2177702330,\n",
       "        'Mon Jun 15 06:33:35 PDT 2009', 'NO_QUERY'],\n",
       "       [\"@javs52 hi that's a bad news javs, we got a bad treatment from epic. make sure we don't but any dlc's and future products from epic \",\n",
       "        'hordecore', 0, 2323811050, 'Thu Jun 25 01:32:36 PDT 2009',\n",
       "        'NO_QUERY'],\n",
       "       [\"@espinoza_ it's cause some of the random posts i make, people follow key words...its odd, but i dont mind followers \",\n",
       "        'jeffdahl', 4, 2000136196, 'Mon Jun 01 21:29:04 PDT 2009',\n",
       "        'NO_QUERY'],\n",
       "       ['missed home ', 'gabybai', 0, 1969434385,\n",
       "        'Sat May 30 00:01:36 PDT 2009', 'NO_QUERY'],\n",
       "       ['i wanna talk wit sum1 ', 'liaq', 0, 2000699661,\n",
       "        'Mon Jun 01 22:44:11 PDT 2009', 'NO_QUERY'],\n",
       "       ['second to last sunday in minnesota!!! ', 'dmb41ny', 4,\n",
       "        1825976378, 'Sun May 17 07:22:47 PDT 2009', 'NO_QUERY'],\n",
       "       [\"great, doing overtime and there's no holiday on friday. even better  i don't know when i should do my application? 2day life sucks (((((\",\n",
       "        'dasghost', 0, 2192938823, 'Tue Jun 16 07:46:09 PDT 2009',\n",
       "        'NO_QUERY'],\n",
       "       [\"@rachelroyanne it's so confusing. \", 'sarahbelle47', 0,\n",
       "        2265558278, 'Sun Jun 21 06:50:41 PDT 2009', 'NO_QUERY'],\n",
       "       ['have some instant noodles as dinner again. ', 'pluto0932', 0,\n",
       "        2264703663, 'Sun Jun 21 04:41:46 PDT 2009', 'NO_QUERY'],\n",
       "       ['@emperornorton feeling any better? i have allergies now...grrr always  something. other than that i am a-ok! my mood is a lot better ',\n",
       "        'manicangel77', 4, 2060048331, 'Sat Jun 06 18:09:28 PDT 2009',\n",
       "        'NO_QUERY'],\n",
       "       ['i wish i was still at the beach! ', 'racheluv', 4, 2179007284,\n",
       "        'Mon Jun 15 08:30:53 PDT 2009', 'NO_QUERY'],\n",
       "       ['@jnew17 haha yea!! swag fully charged  you know sometimes you have to put your swag on hibernate mode. lol. how have you been?',\n",
       "        'angeliquebates', 4, 1827853739, 'Sun May 17 11:35:05 PDT 2009',\n",
       "        'NO_QUERY'],\n",
       "       ['2,400 updates  should defs be studying for my exam tomoro oh well haha',\n",
       "        'bbrriittttyy', 4, 2002514486, 'Tue Jun 02 04:26:07 PDT 2009',\n",
       "        'NO_QUERY'],\n",
       "       ['just watched gran torino.....a clint eastwood movie is not supposed to end like that!!! ',\n",
       "        'adioneda', 0, 2200386024, 'Tue Jun 16 18:49:43 PDT 2009',\n",
       "        'NO_QUERY'],\n",
       "       [\" that's all i have to say\", 'cbear4444', 0, 1997161189,\n",
       "        'Mon Jun 01 16:21:43 PDT 2009', 'NO_QUERY'],\n",
       "       [\"cheating on my music for a 9 to 5 doesn't sound like fun!...ewww id be a downgrade cheater those are the worst! ill just get a 12 to 4 \",\n",
       "        'sonyateclai', 4, 2057369914, 'Sat Jun 06 12:52:39 PDT 2009',\n",
       "        'NO_QUERY'],\n",
       "       ['@delustre nah i havent had the chance. lifes suddenly gotten rather busy  hopefully once the semester is over i can go',\n",
       "        'flockmaster', 0, 1695046412, 'Mon May 04 05:01:51 PDT 2009',\n",
       "        'NO_QUERY'],\n",
       "       ['@autumnbouk you should browse in firefox, it spell-checks everything you type automatically ',\n",
       "        'autumnelayne', 4, 1759857016, 'Sun May 10 20:06:51 PDT 2009',\n",
       "        'NO_QUERY'],\n",
       "       ['@stephorton haha ya but what is that supposed to mean. lol we have no chance  i wish. . . .',\n",
       "        'jblover1494', 0, 2000245792, 'Mon Jun 01 21:42:23 PDT 2009',\n",
       "        'NO_QUERY'],\n",
       "       ['time to sleep now.. good nite everyone  hope you had a blessed sunday ',\n",
       "        'acidlive', 4, 1687276493, 'Sun May 03 08:15:32 PDT 2009',\n",
       "        'NO_QUERY'],\n",
       "       [\"@benjmestrallet okie dokie, what a pity  i'll see with @tgrall what he's doing then.\",\n",
       "        'glaforge', 4, 1826452644, 'Sun May 17 08:32:46 PDT 2009',\n",
       "        'NO_QUERY'],\n",
       "       ['i miss my puppy  http://mypict.me/2vpb', 'yayeezy', 0,\n",
       "        2065971978, 'Sun Jun 07 09:38:45 PDT 2009', 'NO_QUERY'],\n",
       "       ['pugs the pain of the unfuilded ', 'dishwater', 0, 1751240394,\n",
       "        'Sat May 09 18:59:31 PDT 2009', 'NO_QUERY'],\n",
       "       [\"we raced through the highways and the byways to make it home safely  i don't like night driving but no traffic is greatness.\",\n",
       "        'leeshbeesh', 4, 1978777767, 'Sun May 31 00:26:05 PDT 2009',\n",
       "        'NO_QUERY'],\n",
       "       ['got up at 5:45 to work out and all of the machines in the hotel are busy...   gonna try again shortly...',\n",
       "        'tom_tracey', 0, 2206381968, 'Wed Jun 17 06:27:24 PDT 2009',\n",
       "        'NO_QUERY'],\n",
       "       [\"@ladygaga  hopefully you'll play in victoria bc or vancouver again one day!!\",\n",
       "        'jongirard', 0, 1693023049, 'Sun May 03 21:21:45 PDT 2009',\n",
       "        'NO_QUERY'],\n",
       "       [\"@altivo why not just say the letters: h&amp;l, h&amp;d, etc.  (it's lucky she's heard of ranganathan!).  \",\n",
       "        'lrts', 4, 1996275902, 'Mon Jun 01 14:49:01 PDT 2009',\n",
       "        'NO_QUERY']], dtype=object)"
      ]
     },
     "execution_count": 163,
     "metadata": {},
     "output_type": "execute_result"
    }
   ],
   "source": [
    "tr = ColumnTransformer([\n",
    "    ('to_lower', make_lower, ['text', 'user'])\n",
    "],\n",
    "    remainder = 'passthrough')\n",
    "\n",
    "tr.fit_transform(data.sample(100))\n",
    "# tr.fit_transform(data['text'].sample(100))"
   ]
  },
  {
   "cell_type": "code",
   "execution_count": 166,
   "id": "f3f32bf5",
   "metadata": {
    "ExecuteTime": {
     "end_time": "2021-11-01T08:31:18.418022Z",
     "start_time": "2021-11-01T08:31:18.390901Z"
    }
   },
   "outputs": [],
   "source": [
    "import warnings\n",
    "import sklearn\n",
    "import pandas as pd\n",
    "\n",
    "\n",
    "\n",
    "def get_feature_names(column_transformer):\n",
    "    \"\"\"Get feature names from all transformers.\n",
    "    Returns\n",
    "    -------\n",
    "    feature_names : list of strings\n",
    "        Names of the features produced by transform.\n",
    "    \"\"\"\n",
    "    # Remove the internal helper function\n",
    "    #check_is_fitted(column_transformer)\n",
    "    \n",
    "    # Turn loopkup into function for better handling with pipeline later\n",
    "    def get_names(trans):\n",
    "        # >> Original get_feature_names() method\n",
    "        if trans == 'drop' or (\n",
    "                hasattr(column, '__len__') and not len(column)):\n",
    "            return []\n",
    "        if trans == 'passthrough':\n",
    "            if hasattr(column_transformer, '_df_columns'):\n",
    "                if ((not isinstance(column, slice))\n",
    "                        and all(isinstance(col, str) for col in column)):\n",
    "                    return column\n",
    "                else:\n",
    "                    return column_transformer._df_columns[column]\n",
    "            else:\n",
    "                indices = np.arange(column_transformer._n_features)\n",
    "                return ['x%d' % i for i in indices[column]]\n",
    "        if not hasattr(trans, 'get_feature_names'):\n",
    "        # >>> Change: Return input column names if no method avaiable\n",
    "            # Turn error into a warning\n",
    "            warnings.warn(\"Transformer %s (type %s) does not \"\n",
    "                                 \"provide get_feature_names. \"\n",
    "                                 \"Will return input column names if available\"\n",
    "                                 % (str(name), type(trans).__name__))\n",
    "            # For transformers without a get_features_names method, use the input\n",
    "            # names to the column transformer\n",
    "            if column is None:\n",
    "                return []\n",
    "            else:\n",
    "                return [name + \"__\" + f for f in column]\n",
    "\n",
    "        return [name + \"__\" + f for f in trans.get_feature_names()]\n",
    "    \n",
    "    ### Start of processing\n",
    "    feature_names = []\n",
    "    \n",
    "    # Allow transformers to be pipelines. Pipeline steps are named differently, so preprocessing is needed\n",
    "    if type(column_transformer) == sklearn.pipeline.Pipeline:\n",
    "        l_transformers = [(name, trans, None, None) for step, name, trans in column_transformer._iter()]\n",
    "    else:\n",
    "        # For column transformers, follow the original method\n",
    "        l_transformers = list(column_transformer._iter(fitted=True))\n",
    "    \n",
    "    \n",
    "    for name, trans, column, _ in l_transformers: \n",
    "        if type(trans) == sklearn.pipeline.Pipeline:\n",
    "            # Recursive call on pipeline\n",
    "            _names = get_feature_names(trans)\n",
    "            # if pipeline has no transformer that returns names\n",
    "            if len(_names)==0:\n",
    "                _names = [name + \"__\" + f for f in column]\n",
    "            feature_names.extend(_names)\n",
    "        else:\n",
    "            feature_names.extend(get_names(trans))\n",
    "    \n",
    "    return feature_names\n"
   ]
  },
  {
   "cell_type": "code",
   "execution_count": 167,
   "id": "1a2dddd3",
   "metadata": {
    "ExecuteTime": {
     "end_time": "2021-11-01T08:31:22.263226Z",
     "start_time": "2021-11-01T08:31:22.247991Z"
    }
   },
   "outputs": [
    {
     "name": "stderr",
     "output_type": "stream",
     "text": [
      "/tmp/ipykernel_9847/3460832318.py:36: UserWarning: Transformer to_lower (type FunctionTransformer) does not provide get_feature_names. Will return input column names if available\n",
      "  warnings.warn(\"Transformer %s (type %s) does not \"\n"
     ]
    },
    {
     "data": {
      "text/plain": [
       "['to_lower__text', 'to_lower__user', 'x0', 'x1', 'x2', 'x3']"
      ]
     },
     "execution_count": 167,
     "metadata": {},
     "output_type": "execute_result"
    }
   ],
   "source": [
    "get_feature_names(tr)"
   ]
  },
  {
   "cell_type": "code",
   "execution_count": 126,
   "id": "3f17cc39",
   "metadata": {
    "ExecuteTime": {
     "end_time": "2021-11-01T07:48:24.278989Z",
     "start_time": "2021-11-01T07:48:24.260823Z"
    }
   },
   "outputs": [
    {
     "ename": "AttributeError",
     "evalue": "Transformer to_lower (type FunctionTransformer) does not provide get_feature_names_out.",
     "output_type": "error",
     "traceback": [
      "\u001b[0;31m---------------------------------------------------------------------------\u001b[0m",
      "\u001b[0;31mAttributeError\u001b[0m                            Traceback (most recent call last)",
      "\u001b[0;32m/tmp/ipykernel_9847/1412589371.py\u001b[0m in \u001b[0;36m<module>\u001b[0;34m\u001b[0m\n\u001b[0;32m----> 1\u001b[0;31m \u001b[0mtr\u001b[0m\u001b[0;34m.\u001b[0m\u001b[0mget_feature_names_out\u001b[0m\u001b[0;34m(\u001b[0m\u001b[0;34m)\u001b[0m\u001b[0;34m\u001b[0m\u001b[0;34m\u001b[0m\u001b[0m\n\u001b[0m",
      "\u001b[0;32m~/Pulpit/pyProj/gensim/venv/lib/python3.8/site-packages/sklearn/compose/_column_transformer.py\u001b[0m in \u001b[0;36mget_feature_names_out\u001b[0;34m(self, input_features)\u001b[0m\n\u001b[1;32m    479\u001b[0m         \u001b[0mtransformer_with_feature_names_out\u001b[0m \u001b[0;34m=\u001b[0m \u001b[0;34m[\u001b[0m\u001b[0;34m]\u001b[0m\u001b[0;34m\u001b[0m\u001b[0;34m\u001b[0m\u001b[0m\n\u001b[1;32m    480\u001b[0m         \u001b[0;32mfor\u001b[0m \u001b[0mname\u001b[0m\u001b[0;34m,\u001b[0m \u001b[0mtrans\u001b[0m\u001b[0;34m,\u001b[0m \u001b[0mcolumn\u001b[0m\u001b[0;34m,\u001b[0m \u001b[0m_\u001b[0m \u001b[0;32min\u001b[0m \u001b[0mself\u001b[0m\u001b[0;34m.\u001b[0m\u001b[0m_iter\u001b[0m\u001b[0;34m(\u001b[0m\u001b[0mfitted\u001b[0m\u001b[0;34m=\u001b[0m\u001b[0;32mTrue\u001b[0m\u001b[0;34m)\u001b[0m\u001b[0;34m:\u001b[0m\u001b[0;34m\u001b[0m\u001b[0;34m\u001b[0m\u001b[0m\n\u001b[0;32m--> 481\u001b[0;31m             feature_names_out = self._get_feature_name_out_for_transformer(\n\u001b[0m\u001b[1;32m    482\u001b[0m                 \u001b[0mname\u001b[0m\u001b[0;34m,\u001b[0m \u001b[0mtrans\u001b[0m\u001b[0;34m,\u001b[0m \u001b[0mcolumn\u001b[0m\u001b[0;34m,\u001b[0m \u001b[0minput_features\u001b[0m\u001b[0;34m\u001b[0m\u001b[0;34m\u001b[0m\u001b[0m\n\u001b[1;32m    483\u001b[0m             )\n",
      "\u001b[0;32m~/Pulpit/pyProj/gensim/venv/lib/python3.8/site-packages/sklearn/compose/_column_transformer.py\u001b[0m in \u001b[0;36m_get_feature_name_out_for_transformer\u001b[0;34m(self, name, trans, column, feature_names_in)\u001b[0m\n\u001b[1;32m    444\u001b[0m         \u001b[0;31m# An actual transformer\u001b[0m\u001b[0;34m\u001b[0m\u001b[0;34m\u001b[0m\u001b[0;34m\u001b[0m\u001b[0m\n\u001b[1;32m    445\u001b[0m         \u001b[0;32mif\u001b[0m \u001b[0;32mnot\u001b[0m \u001b[0mhasattr\u001b[0m\u001b[0;34m(\u001b[0m\u001b[0mtrans\u001b[0m\u001b[0;34m,\u001b[0m \u001b[0;34m\"get_feature_names_out\"\u001b[0m\u001b[0;34m)\u001b[0m\u001b[0;34m:\u001b[0m\u001b[0;34m\u001b[0m\u001b[0;34m\u001b[0m\u001b[0m\n\u001b[0;32m--> 446\u001b[0;31m             raise AttributeError(\n\u001b[0m\u001b[1;32m    447\u001b[0m                 \u001b[0;34mf\"Transformer {name} (type {type(trans).__name__}) does \"\u001b[0m\u001b[0;34m\u001b[0m\u001b[0;34m\u001b[0m\u001b[0m\n\u001b[1;32m    448\u001b[0m                 \u001b[0;34m\"not provide get_feature_names_out.\"\u001b[0m\u001b[0;34m\u001b[0m\u001b[0;34m\u001b[0m\u001b[0m\n",
      "\u001b[0;31mAttributeError\u001b[0m: Transformer to_lower (type FunctionTransformer) does not provide get_feature_names_out."
     ]
    }
   ],
   "source": [
    "tr.get_feature_names_out()"
   ]
  },
  {
   "cell_type": "code",
   "execution_count": null,
   "id": "1839ec5d",
   "metadata": {},
   "outputs": [],
   "source": []
  },
  {
   "cell_type": "code",
   "execution_count": 89,
   "id": "5d49166d",
   "metadata": {
    "ExecuteTime": {
     "end_time": "2021-11-01T07:31:27.413732Z",
     "start_time": "2021-11-01T07:31:27.399484Z"
    }
   },
   "outputs": [],
   "source": [
    "pipe = Pipeline([\n",
    "    ('to_lower', ))\n",
    "])"
   ]
  },
  {
   "cell_type": "code",
   "execution_count": 90,
   "id": "3d0f45d2",
   "metadata": {
    "ExecuteTime": {
     "end_time": "2021-11-01T07:31:38.942073Z",
     "start_time": "2021-11-01T07:31:38.848450Z"
    }
   },
   "outputs": [
    {
     "ename": "TypeError",
     "evalue": "type object argument after * must be an iterable, not ColumnTransformer",
     "output_type": "error",
     "traceback": [
      "\u001b[0;31m---------------------------------------------------------------------------\u001b[0m",
      "\u001b[0;31mTypeError\u001b[0m                                 Traceback (most recent call last)",
      "\u001b[0;32m/tmp/ipykernel_9847/3370232563.py\u001b[0m in \u001b[0;36m<module>\u001b[0;34m\u001b[0m\n\u001b[0;32m----> 1\u001b[0;31m \u001b[0mpipe\u001b[0m\u001b[0;34m.\u001b[0m\u001b[0mfit_transform\u001b[0m\u001b[0;34m(\u001b[0m\u001b[0mdata\u001b[0m\u001b[0;34m)\u001b[0m\u001b[0;34m\u001b[0m\u001b[0;34m\u001b[0m\u001b[0m\n\u001b[0m",
      "\u001b[0;32m~/Pulpit/pyProj/gensim/venv/lib/python3.8/site-packages/sklearn/pipeline.py\u001b[0m in \u001b[0;36mfit_transform\u001b[0;34m(self, X, y, **fit_params)\u001b[0m\n\u001b[1;32m    432\u001b[0m             \u001b[0mfit_params_last_step\u001b[0m \u001b[0;34m=\u001b[0m \u001b[0mfit_params_steps\u001b[0m\u001b[0;34m[\u001b[0m\u001b[0mself\u001b[0m\u001b[0;34m.\u001b[0m\u001b[0msteps\u001b[0m\u001b[0;34m[\u001b[0m\u001b[0;34m-\u001b[0m\u001b[0;36m1\u001b[0m\u001b[0;34m]\u001b[0m\u001b[0;34m[\u001b[0m\u001b[0;36m0\u001b[0m\u001b[0;34m]\u001b[0m\u001b[0;34m]\u001b[0m\u001b[0;34m\u001b[0m\u001b[0;34m\u001b[0m\u001b[0m\n\u001b[1;32m    433\u001b[0m             \u001b[0;32mif\u001b[0m \u001b[0mhasattr\u001b[0m\u001b[0;34m(\u001b[0m\u001b[0mlast_step\u001b[0m\u001b[0;34m,\u001b[0m \u001b[0;34m\"fit_transform\"\u001b[0m\u001b[0;34m)\u001b[0m\u001b[0;34m:\u001b[0m\u001b[0;34m\u001b[0m\u001b[0;34m\u001b[0m\u001b[0m\n\u001b[0;32m--> 434\u001b[0;31m                 \u001b[0;32mreturn\u001b[0m \u001b[0mlast_step\u001b[0m\u001b[0;34m.\u001b[0m\u001b[0mfit_transform\u001b[0m\u001b[0;34m(\u001b[0m\u001b[0mXt\u001b[0m\u001b[0;34m,\u001b[0m \u001b[0my\u001b[0m\u001b[0;34m,\u001b[0m \u001b[0;34m**\u001b[0m\u001b[0mfit_params_last_step\u001b[0m\u001b[0;34m)\u001b[0m\u001b[0;34m\u001b[0m\u001b[0;34m\u001b[0m\u001b[0m\n\u001b[0m\u001b[1;32m    435\u001b[0m             \u001b[0;32melse\u001b[0m\u001b[0;34m:\u001b[0m\u001b[0;34m\u001b[0m\u001b[0;34m\u001b[0m\u001b[0m\n\u001b[1;32m    436\u001b[0m                 \u001b[0;32mreturn\u001b[0m \u001b[0mlast_step\u001b[0m\u001b[0;34m.\u001b[0m\u001b[0mfit\u001b[0m\u001b[0;34m(\u001b[0m\u001b[0mXt\u001b[0m\u001b[0;34m,\u001b[0m \u001b[0my\u001b[0m\u001b[0;34m,\u001b[0m \u001b[0;34m**\u001b[0m\u001b[0mfit_params_last_step\u001b[0m\u001b[0;34m)\u001b[0m\u001b[0;34m.\u001b[0m\u001b[0mtransform\u001b[0m\u001b[0;34m(\u001b[0m\u001b[0mXt\u001b[0m\u001b[0;34m)\u001b[0m\u001b[0;34m\u001b[0m\u001b[0;34m\u001b[0m\u001b[0m\n",
      "\u001b[0;32m~/Pulpit/pyProj/gensim/venv/lib/python3.8/site-packages/sklearn/compose/_column_transformer.py\u001b[0m in \u001b[0;36mfit_transform\u001b[0;34m(self, X, y)\u001b[0m\n\u001b[1;32m    669\u001b[0m         \u001b[0;31m# set n_features_in_ attribute\u001b[0m\u001b[0;34m\u001b[0m\u001b[0;34m\u001b[0m\u001b[0;34m\u001b[0m\u001b[0m\n\u001b[1;32m    670\u001b[0m         \u001b[0mself\u001b[0m\u001b[0;34m.\u001b[0m\u001b[0m_check_n_features\u001b[0m\u001b[0;34m(\u001b[0m\u001b[0mX\u001b[0m\u001b[0;34m,\u001b[0m \u001b[0mreset\u001b[0m\u001b[0;34m=\u001b[0m\u001b[0;32mTrue\u001b[0m\u001b[0;34m)\u001b[0m\u001b[0;34m\u001b[0m\u001b[0;34m\u001b[0m\u001b[0m\n\u001b[0;32m--> 671\u001b[0;31m         \u001b[0mself\u001b[0m\u001b[0;34m.\u001b[0m\u001b[0m_validate_transformers\u001b[0m\u001b[0;34m(\u001b[0m\u001b[0;34m)\u001b[0m\u001b[0;34m\u001b[0m\u001b[0;34m\u001b[0m\u001b[0m\n\u001b[0m\u001b[1;32m    672\u001b[0m         \u001b[0mself\u001b[0m\u001b[0;34m.\u001b[0m\u001b[0m_validate_column_callables\u001b[0m\u001b[0;34m(\u001b[0m\u001b[0mX\u001b[0m\u001b[0;34m)\u001b[0m\u001b[0;34m\u001b[0m\u001b[0;34m\u001b[0m\u001b[0m\n\u001b[1;32m    673\u001b[0m         \u001b[0mself\u001b[0m\u001b[0;34m.\u001b[0m\u001b[0m_validate_remainder\u001b[0m\u001b[0;34m(\u001b[0m\u001b[0mX\u001b[0m\u001b[0;34m)\u001b[0m\u001b[0;34m\u001b[0m\u001b[0;34m\u001b[0m\u001b[0m\n",
      "\u001b[0;32m~/Pulpit/pyProj/gensim/venv/lib/python3.8/site-packages/sklearn/compose/_column_transformer.py\u001b[0m in \u001b[0;36m_validate_transformers\u001b[0;34m(self)\u001b[0m\n\u001b[1;32m    322\u001b[0m             \u001b[0;32mreturn\u001b[0m\u001b[0;34m\u001b[0m\u001b[0;34m\u001b[0m\u001b[0m\n\u001b[1;32m    323\u001b[0m \u001b[0;34m\u001b[0m\u001b[0m\n\u001b[0;32m--> 324\u001b[0;31m         \u001b[0mnames\u001b[0m\u001b[0;34m,\u001b[0m \u001b[0mtransformers\u001b[0m\u001b[0;34m,\u001b[0m \u001b[0m_\u001b[0m \u001b[0;34m=\u001b[0m \u001b[0mzip\u001b[0m\u001b[0;34m(\u001b[0m\u001b[0;34m*\u001b[0m\u001b[0mself\u001b[0m\u001b[0;34m.\u001b[0m\u001b[0mtransformers\u001b[0m\u001b[0;34m)\u001b[0m\u001b[0;34m\u001b[0m\u001b[0;34m\u001b[0m\u001b[0m\n\u001b[0m\u001b[1;32m    325\u001b[0m \u001b[0;34m\u001b[0m\u001b[0m\n\u001b[1;32m    326\u001b[0m         \u001b[0;31m# validate names\u001b[0m\u001b[0;34m\u001b[0m\u001b[0;34m\u001b[0m\u001b[0;34m\u001b[0m\u001b[0m\n",
      "\u001b[0;31mTypeError\u001b[0m: type object argument after * must be an iterable, not ColumnTransformer"
     ]
    }
   ],
   "source": [
    "\n",
    "pipe.fit_transform(data)"
   ]
  },
  {
   "cell_type": "markdown",
   "id": "57f82950",
   "metadata": {},
   "source": [
    "# eda"
   ]
  },
  {
   "cell_type": "markdown",
   "id": "7980f8b2",
   "metadata": {},
   "source": [
    "## base"
   ]
  },
  {
   "cell_type": "code",
   "execution_count": 5,
   "id": "c0750fb9",
   "metadata": {
    "ExecuteTime": {
     "end_time": "2021-10-30T10:43:20.543907Z",
     "start_time": "2021-10-30T10:43:20.529924Z"
    }
   },
   "outputs": [
    {
     "data": {
      "text/plain": [
       "(1600000, 6)"
      ]
     },
     "execution_count": 5,
     "metadata": {},
     "output_type": "execute_result"
    }
   ],
   "source": [
    "data.shape"
   ]
  },
  {
   "cell_type": "code",
   "execution_count": 6,
   "id": "ef93d692",
   "metadata": {
    "ExecuteTime": {
     "end_time": "2021-10-30T10:43:31.499848Z",
     "start_time": "2021-10-30T10:43:31.485842Z"
    }
   },
   "outputs": [
    {
     "data": {
      "text/plain": [
       "target     int64\n",
       "ids        int64\n",
       "date      object\n",
       "flag      object\n",
       "user      object\n",
       "text      object\n",
       "dtype: object"
      ]
     },
     "execution_count": 6,
     "metadata": {},
     "output_type": "execute_result"
    }
   ],
   "source": [
    "data.dtypes"
   ]
  },
  {
   "cell_type": "code",
   "execution_count": 11,
   "id": "dc0108f2",
   "metadata": {
    "ExecuteTime": {
     "end_time": "2021-10-30T10:45:04.906229Z",
     "start_time": "2021-10-30T10:45:04.884581Z"
    }
   },
   "outputs": [
    {
     "data": {
      "text/plain": [
       "0    800000\n",
       "4    800000\n",
       "Name: target, dtype: int64"
      ]
     },
     "execution_count": 11,
     "metadata": {},
     "output_type": "execute_result"
    }
   ],
   "source": [
    "data['target'].value_counts(dropna=False)"
   ]
  },
  {
   "cell_type": "code",
   "execution_count": 53,
   "id": "2a595e7b",
   "metadata": {
    "ExecuteTime": {
     "end_time": "2021-10-30T10:52:02.942480Z",
     "start_time": "2021-10-30T10:52:02.920088Z"
    }
   },
   "outputs": [
    {
     "name": "stdout",
     "output_type": "stream",
     "text": [
      "4: @angieODT girl! life is good! i'm so excited about everyone going to shows! and everyone meeting! its awesome!! \n"
     ]
    }
   ],
   "source": [
    "tw_no = random.randint(0, len(data))\n",
    "\n",
    "sent = data.iloc[tw_no, 0]\n",
    "text = data.iloc[tw_no, 5]\n",
    "print(f\"{sent}: {text}\")"
   ]
  },
  {
   "cell_type": "code",
   "execution_count": 54,
   "id": "6954bea9",
   "metadata": {
    "ExecuteTime": {
     "end_time": "2021-10-30T10:58:09.526552Z",
     "start_time": "2021-10-30T10:58:09.439143Z"
    }
   },
   "outputs": [
    {
     "data": {
      "text/plain": [
       "NO_QUERY    1600000\n",
       "Name: flag, dtype: int64"
      ]
     },
     "execution_count": 54,
     "metadata": {},
     "output_type": "execute_result"
    }
   ],
   "source": [
    "data['flag'].value_counts(dropna=False)"
   ]
  },
  {
   "cell_type": "markdown",
   "id": "70d11fdf",
   "metadata": {},
   "source": [
    "## text"
   ]
  },
  {
   "cell_type": "code",
   "execution_count": 55,
   "id": "28cf9ad7",
   "metadata": {
    "ExecuteTime": {
     "end_time": "2021-10-30T10:58:41.578037Z",
     "start_time": "2021-10-30T10:58:41.236708Z"
    }
   },
   "outputs": [],
   "source": [
    "text_len = data['text'].apply(len)"
   ]
  },
  {
   "cell_type": "code",
   "execution_count": 125,
   "id": "f10c575b",
   "metadata": {
    "ExecuteTime": {
     "end_time": "2021-10-30T13:15:08.997520Z",
     "start_time": "2021-10-30T13:15:08.665363Z"
    }
   },
   "outputs": [
    {
     "data": {
      "text/plain": [
       "<AxesSubplot:ylabel='Frequency'>"
      ]
     },
     "execution_count": 125,
     "metadata": {},
     "output_type": "execute_result"
    },
    {
     "data": {
      "image/png": "[encoded data removed]",
      "text/plain": [
       "<Figure size 432x288 with 1 Axes>"
      ]
     },
     "metadata": {
      "needs_background": "light"
     },
     "output_type": "display_data"
    }
   ],
   "source": [
    "text_len.plot.hist(bins=50)"
   ]
  },
  {
   "cell_type": "code",
   "execution_count": 58,
   "id": "b4c220af",
   "metadata": {
    "ExecuteTime": {
     "end_time": "2021-10-30T10:59:54.551096Z",
     "start_time": "2021-10-30T10:59:54.501390Z"
    }
   },
   "outputs": [
    {
     "data": {
      "text/plain": [
       "6         6\n",
       "7        77\n",
       "8      1182\n",
       "9      1870\n",
       "10     1863\n",
       "       ... \n",
       "328       1\n",
       "348       1\n",
       "359       2\n",
       "369       1\n",
       "374       1\n",
       "Name: text, Length: 257, dtype: int64"
      ]
     },
     "execution_count": 58,
     "metadata": {},
     "output_type": "execute_result"
    }
   ],
   "source": [
    "text_len.value_counts(dropna=False).sort_index()"
   ]
  },
  {
   "cell_type": "code",
   "execution_count": 65,
   "id": "a90b939d",
   "metadata": {
    "ExecuteTime": {
     "end_time": "2021-10-30T11:01:10.859664Z",
     "start_time": "2021-10-30T11:01:10.843460Z"
    }
   },
   "outputs": [
    {
     "data": {
      "text/plain": [
       "array(['@catfish_ohm à¹\\x80à¸\\x84à¹\\x89à¸²à¹\\x83à¸«à¹\\x89à¸?à¸²à¸£à¹\\x8cà¸\\x95à¸¹à¸\\x99à¸?à¸¸à¹\\x82à¸£à¸°(à¸ªà¸±à¸ªà¹\\x86+à¸¢à¸¹à¸£à¸´à¹?à¸?à¹\\x84à¸\\x94à¹\\x89à¹?à¸\\x97à¸\\x99à¸\\x99à¸°à¸\\x9eà¸\\xadà¸\\x94à¸µà¸¡à¸´à¹\\x82à¸?à¸°à¸«à¸§à¸\\x87(à¸\\x82à¸\\x99à¸²à¸\\x94à¹\\x80à¸\\x9fà¸´à¸\\x99à¹?à¸?à¸¢à¸±à¸\\x87à¹\\x80à¸\\x84à¸¢à¹\\x83à¸«à¹\\x89à¹\\x84à¸¡à¹\\x88à¹\\x83à¸\\x8aà¹\\x88à¹\\x80à¸«à¸£à¸\\xad.à¹?à¸\\x95à¹\\x88à¸\\x8aà¹\\x88à¸²à¸\\x87à¹\\x80à¸«à¸\\xadà¸°à¸£à¸²à¸¢à¸\\x99à¸±à¹\\x89à¸\\x99à¹\\x80à¸\\x82à¸²à¹\\x82à¸¡à¹\\x80à¸\\xadà¸°à¸?à¸§à¹\\x88à¸²à¸\\x9bà¸¥à¸²à¹?à¸¡à¸§à¹\\x80à¸¢à¸\\xadà¸° = '],\n",
       "      dtype=object)"
      ]
     },
     "execution_count": 65,
     "metadata": {},
     "output_type": "execute_result"
    }
   ],
   "source": [
    "data.loc[text_len==374, 'text'].values"
   ]
  },
  {
   "cell_type": "markdown",
   "id": "8ca334bb",
   "metadata": {},
   "source": [
    "## date"
   ]
  },
  {
   "cell_type": "code",
   "execution_count": 69,
   "id": "13efaae9",
   "metadata": {
    "ExecuteTime": {
     "end_time": "2021-10-30T11:06:27.077648Z",
     "start_time": "2021-10-30T11:06:27.062647Z"
    }
   },
   "outputs": [
    {
     "data": {
      "text/plain": [
       "0          Mon Apr 06 22:19:45 PDT 2009\n",
       "1          Mon Apr 06 22:19:49 PDT 2009\n",
       "2          Mon Apr 06 22:19:53 PDT 2009\n",
       "3          Mon Apr 06 22:19:57 PDT 2009\n",
       "4          Mon Apr 06 22:19:57 PDT 2009\n",
       "                       ...             \n",
       "1599995    Tue Jun 16 08:40:49 PDT 2009\n",
       "1599996    Tue Jun 16 08:40:49 PDT 2009\n",
       "1599997    Tue Jun 16 08:40:49 PDT 2009\n",
       "1599998    Tue Jun 16 08:40:49 PDT 2009\n",
       "1599999    Tue Jun 16 08:40:50 PDT 2009\n",
       "Name: date, Length: 1600000, dtype: object"
      ]
     },
     "execution_count": 69,
     "metadata": {},
     "output_type": "execute_result"
    }
   ],
   "source": [
    "data['date']"
   ]
  },
  {
   "cell_type": "code",
   "execution_count": 85,
   "id": "49f1bb8f",
   "metadata": {
    "ExecuteTime": {
     "end_time": "2021-10-30T11:13:06.692165Z",
     "start_time": "2021-10-30T11:12:53.771071Z"
    }
   },
   "outputs": [
    {
     "data": {
      "text/plain": [
       "0         2009-04-06 22:19:45\n",
       "1         2009-04-06 22:19:45\n",
       "2         2009-04-06 22:19:45\n",
       "3         2009-04-06 22:19:45\n",
       "4         2009-04-06 22:19:45\n",
       "                  ...        \n",
       "1599995   2009-04-06 22:19:45\n",
       "1599996   2009-04-06 22:19:45\n",
       "1599997   2009-04-06 22:19:45\n",
       "1599998   2009-04-06 22:19:45\n",
       "1599999   2009-04-06 22:19:45\n",
       "Name: date, Length: 1600000, dtype: datetime64[ns]"
      ]
     },
     "execution_count": 85,
     "metadata": {},
     "output_type": "execute_result"
    }
   ],
   "source": [
    "data['date'].apply(lambda s: datetime.strptime(s.replace('PDT ', ''), '%a %b %d %H:%M:%S %Y'))"
   ]
  },
  {
   "cell_type": "markdown",
   "id": "eb427cbd",
   "metadata": {},
   "source": [
    "**features**:\n",
    "* standard datetime features"
   ]
  },
  {
   "cell_type": "markdown",
   "id": "3844e4ac",
   "metadata": {},
   "source": [
    "## user"
   ]
  },
  {
   "cell_type": "code",
   "execution_count": 94,
   "id": "e50390ef",
   "metadata": {
    "ExecuteTime": {
     "end_time": "2021-10-30T11:24:21.275793Z",
     "start_time": "2021-10-30T11:24:19.657399Z"
    }
   },
   "outputs": [],
   "source": [
    "users = data.groupby('user').agg(\n",
    "    tweets=('user', 'size'),\n",
    "    ratio=('target', 'mean')\n",
    ")"
   ]
  },
  {
   "cell_type": "code",
   "execution_count": 96,
   "id": "d79d325e",
   "metadata": {
    "ExecuteTime": {
     "end_time": "2021-10-30T11:24:54.993560Z",
     "start_time": "2021-10-30T11:24:54.725240Z"
    }
   },
   "outputs": [
    {
     "data": {
      "text/plain": [
       "<AxesSubplot:ylabel='Frequency'>"
      ]
     },
     "execution_count": 96,
     "metadata": {},
     "output_type": "execute_result"
    },
    {
     "data": {
      "image/png": "[encoded data removed]",
      "text/plain": [
       "<Figure size 432x288 with 1 Axes>"
      ]
     },
     "metadata": {
      "needs_background": "light"
     },
     "output_type": "display_data"
    }
   ],
   "source": [
    "users['tweets'].clip(upper=10).plot.hist(bins=50)"
   ]
  },
  {
   "cell_type": "code",
   "execution_count": 97,
   "id": "1a98d923",
   "metadata": {
    "ExecuteTime": {
     "end_time": "2021-10-30T11:25:38.237000Z",
     "start_time": "2021-10-30T11:25:37.922685Z"
    }
   },
   "outputs": [
    {
     "data": {
      "text/plain": [
       "<AxesSubplot:ylabel='Frequency'>"
      ]
     },
     "execution_count": 97,
     "metadata": {},
     "output_type": "execute_result"
    },
    {
     "data": {
      "image/png": "[encoded data removed]",
      "text/plain": [
       "<Figure size 432x288 with 1 Axes>"
      ]
     },
     "metadata": {
      "needs_background": "light"
     },
     "output_type": "display_data"
    }
   ],
   "source": [
    "users['ratio'].plot.hist(bins=50)"
   ]
  },
  {
   "cell_type": "code",
   "execution_count": 100,
   "id": "a45bad79",
   "metadata": {
    "ExecuteTime": {
     "end_time": "2021-10-30T11:27:15.333045Z",
     "start_time": "2021-10-30T11:27:15.083740Z"
    }
   },
   "outputs": [
    {
     "data": {
      "text/plain": [
       "<AxesSubplot:ylabel='Frequency'>"
      ]
     },
     "execution_count": 100,
     "metadata": {},
     "output_type": "execute_result"
    },
    {
     "data": {
      "image/png": "[encoded data removed]",
      "text/plain": [
       "<Figure size 432x288 with 1 Axes>"
      ]
     },
     "metadata": {
      "needs_background": "light"
     },
     "output_type": "display_data"
    }
   ],
   "source": [
    "users[users['tweets']>2]['ratio'].plot.hist(bins=50)"
   ]
  },
  {
   "cell_type": "markdown",
   "id": "964267d1",
   "metadata": {},
   "source": [
    "**features**:\n",
    "* number of tweets\n",
    "* avg user_tweet_sentiment\n",
    "* **!run cv by user**"
   ]
  },
  {
   "cell_type": "markdown",
   "id": "54c68f31",
   "metadata": {},
   "source": [
    "## users in text"
   ]
  },
  {
   "cell_type": "code",
   "execution_count": 72,
   "id": "e289d5e2",
   "metadata": {
    "ExecuteTime": {
     "end_time": "2021-10-31T23:08:19.604496Z",
     "start_time": "2021-10-31T23:08:15.039921Z"
    }
   },
   "outputs": [],
   "source": [
    "users_referenced = data['text'].apply(lambda s: re.findall(r'@[^ ]+', s))\n",
    "users_referenced_count = users_referenced.apply(len)"
   ]
  },
  {
   "cell_type": "code",
   "execution_count": 77,
   "id": "5f548391",
   "metadata": {
    "ExecuteTime": {
     "end_time": "2021-10-31T23:11:49.834638Z",
     "start_time": "2021-10-31T23:11:48.898464Z"
    }
   },
   "outputs": [
    {
     "data": {
      "text/html": [
       "<div>\n",
       "<style scoped>\n",
       "    .dataframe tbody tr th:only-of-type {\n",
       "        vertical-align: middle;\n",
       "    }\n",
       "\n",
       "    .dataframe tbody tr th {\n",
       "        vertical-align: top;\n",
       "    }\n",
       "\n",
       "    .dataframe thead th {\n",
       "        text-align: right;\n",
       "    }\n",
       "</style>\n",
       "<table border=\"1\" class=\"dataframe\">\n",
       "  <thead>\n",
       "    <tr style=\"text-align: right;\">\n",
       "      <th></th>\n",
       "      <th>docs</th>\n",
       "      <th>target</th>\n",
       "    </tr>\n",
       "    <tr>\n",
       "      <th>count</th>\n",
       "      <th></th>\n",
       "      <th></th>\n",
       "    </tr>\n",
       "  </thead>\n",
       "  <tbody>\n",
       "    <tr>\n",
       "      <th>0</th>\n",
       "      <td>861177</td>\n",
       "      <td>1.682562</td>\n",
       "    </tr>\n",
       "    <tr>\n",
       "      <th>1</th>\n",
       "      <td>704558</td>\n",
       "      <td>2.356405</td>\n",
       "    </tr>\n",
       "    <tr>\n",
       "      <th>2</th>\n",
       "      <td>27201</td>\n",
       "      <td>2.582552</td>\n",
       "    </tr>\n",
       "    <tr>\n",
       "      <th>3</th>\n",
       "      <td>4000</td>\n",
       "      <td>2.714000</td>\n",
       "    </tr>\n",
       "    <tr>\n",
       "      <th>4</th>\n",
       "      <td>1470</td>\n",
       "      <td>2.982313</td>\n",
       "    </tr>\n",
       "    <tr>\n",
       "      <th>5</th>\n",
       "      <td>652</td>\n",
       "      <td>3.067485</td>\n",
       "    </tr>\n",
       "    <tr>\n",
       "      <th>6</th>\n",
       "      <td>388</td>\n",
       "      <td>3.319588</td>\n",
       "    </tr>\n",
       "    <tr>\n",
       "      <th>7</th>\n",
       "      <td>230</td>\n",
       "      <td>3.547826</td>\n",
       "    </tr>\n",
       "    <tr>\n",
       "      <th>8</th>\n",
       "      <td>170</td>\n",
       "      <td>3.647059</td>\n",
       "    </tr>\n",
       "    <tr>\n",
       "      <th>9</th>\n",
       "      <td>96</td>\n",
       "      <td>3.791667</td>\n",
       "    </tr>\n",
       "    <tr>\n",
       "      <th>10</th>\n",
       "      <td>44</td>\n",
       "      <td>3.727273</td>\n",
       "    </tr>\n",
       "    <tr>\n",
       "      <th>11</th>\n",
       "      <td>9</td>\n",
       "      <td>4.000000</td>\n",
       "    </tr>\n",
       "    <tr>\n",
       "      <th>12</th>\n",
       "      <td>5</td>\n",
       "      <td>3.200000</td>\n",
       "    </tr>\n",
       "  </tbody>\n",
       "</table>\n",
       "</div>"
      ],
      "text/plain": [
       "         docs    target\n",
       "count                  \n",
       "0      861177  1.682562\n",
       "1      704558  2.356405\n",
       "2       27201  2.582552\n",
       "3        4000  2.714000\n",
       "4        1470  2.982313\n",
       "5         652  3.067485\n",
       "6         388  3.319588\n",
       "7         230  3.547826\n",
       "8         170  3.647059\n",
       "9          96  3.791667\n",
       "10         44  3.727273\n",
       "11          9  4.000000\n",
       "12          5  3.200000"
      ]
     },
     "execution_count": 77,
     "metadata": {},
     "output_type": "execute_result"
    }
   ],
   "source": [
    "pd.DataFrame(zip(users_referenced_count, data['target']), columns=['count', 'target']).groupby('count').agg(\n",
    "    docs=('count', 'size'),\n",
    "    target=('target', 'mean')\n",
    ")"
   ]
  },
  {
   "cell_type": "code",
   "execution_count": 48,
   "id": "dc92a36c",
   "metadata": {
    "ExecuteTime": {
     "end_time": "2021-10-31T22:28:26.999370Z",
     "start_time": "2021-10-31T22:28:26.391558Z"
    }
   },
   "outputs": [],
   "source": [
    "users_mentioned = sorted(set([user[1:] for users in users_in_text for user in users]))"
   ]
  },
  {
   "cell_type": "code",
   "execution_count": 47,
   "id": "3088a229",
   "metadata": {
    "ExecuteTime": {
     "end_time": "2021-10-31T22:28:18.330001Z",
     "start_time": "2021-10-31T22:28:18.317213Z"
    }
   },
   "outputs": [
    {
     "data": {
      "text/plain": [
       "365893"
      ]
     },
     "execution_count": 47,
     "metadata": {},
     "output_type": "execute_result"
    }
   ],
   "source": [
    "len(users_mentioned)"
   ]
  },
  {
   "cell_type": "code",
   "execution_count": 56,
   "id": "0fe2fe52",
   "metadata": {
    "ExecuteTime": {
     "end_time": "2021-10-31T22:31:43.057337Z",
     "start_time": "2021-10-31T22:31:42.517726Z"
    }
   },
   "outputs": [
    {
     "data": {
      "text/plain": [
       "132384"
      ]
     },
     "execution_count": 56,
     "metadata": {},
     "output_type": "execute_result"
    }
   ],
   "source": [
    "len(set(users_mentioned).intersection(set(data['user'])))"
   ]
  },
  {
   "cell_type": "markdown",
   "id": "97cee866",
   "metadata": {},
   "source": [
    "**features**:\n",
    "* number of user references in text\n",
    "* avg user_tweet sentiment for user in text"
   ]
  },
  {
   "cell_type": "code",
   "execution_count": null,
   "id": "bc0a0583",
   "metadata": {},
   "outputs": [],
   "source": []
  },
  {
   "cell_type": "code",
   "execution_count": null,
   "id": "63afcc3c",
   "metadata": {},
   "outputs": [],
   "source": []
  },
  {
   "cell_type": "markdown",
   "id": "e26065a5",
   "metadata": {},
   "source": [
    "## link in text"
   ]
  },
  {
   "cell_type": "code",
   "execution_count": 119,
   "id": "49297901",
   "metadata": {
    "ExecuteTime": {
     "end_time": "2021-10-30T11:41:40.244439Z",
     "start_time": "2021-10-30T11:41:38.463618Z"
    }
   },
   "outputs": [],
   "source": [
    "links_in_text = data['text'].apply(lambda s: re.findall(r'http[s]*://[^ ]+', s))"
   ]
  },
  {
   "cell_type": "code",
   "execution_count": 121,
   "id": "e1c4df36",
   "metadata": {
    "ExecuteTime": {
     "end_time": "2021-10-30T11:41:59.001557Z",
     "start_time": "2021-10-30T11:41:58.661602Z"
    }
   },
   "outputs": [
    {
     "data": {
      "text/plain": [
       "0    1529889\n",
       "1      68832\n",
       "2       1159\n",
       "3         96\n",
       "4         17\n",
       "5          7\n",
       "Name: text, dtype: int64"
      ]
     },
     "execution_count": 121,
     "metadata": {},
     "output_type": "execute_result"
    }
   ],
   "source": [
    "links_in_text.apply(len).value_counts().sort_index()"
   ]
  },
  {
   "cell_type": "markdown",
   "id": "ca723bf6",
   "metadata": {},
   "source": [
    "**features**\n",
    "* replace link with special token\n",
    "* binary flag `has_link`"
   ]
  },
  {
   "cell_type": "markdown",
   "id": "7beac83a",
   "metadata": {},
   "source": [
    "## hashtags in text"
   ]
  },
  {
   "cell_type": "code",
   "execution_count": 126,
   "id": "24ee51ec",
   "metadata": {
    "ExecuteTime": {
     "end_time": "2021-10-30T13:18:54.251905Z",
     "start_time": "2021-10-30T13:18:54.236594Z"
    },
    "scrolled": true
   },
   "outputs": [
    {
     "data": {
      "text/plain": [
       "0     @switchfoot http://twitpic.com/2y1zl - Awww, t...\n",
       "1     is upset that he can't update his Facebook by ...\n",
       "2     @Kenichan I dived many times for the ball. Man...\n",
       "3       my whole body feels itchy and like its on fire \n",
       "4     @nationwideclass no, it's not behaving at all....\n",
       "5                         @Kwesidei not the whole crew \n",
       "6                                           Need a hug \n",
       "7     @LOLTrish hey  long time no see! Yes.. Rains a...\n",
       "8                  @Tatiana_K nope they didn't have it \n",
       "9                             @twittera que me muera ? \n",
       "10          spring break in plain city... it's snowing \n",
       "11                           I just re-pierced my ears \n",
       "12    @caregiving I couldn't bear to watch it.  And ...\n",
       "13    @octolinz16 It it counts, idk why I did either...\n",
       "14    @smarrison i would've been the first, but i di...\n",
       "15    @iamjazzyfizzle I wish I got to watch it with ...\n",
       "16    Hollis' death scene will hurt me severely to w...\n",
       "17                                 about to file taxes \n",
       "18    @LettyA ahh ive always wanted to see rent  lov...\n",
       "19    @FakerPattyPattz Oh dear. Were you drinking ou...\n",
       "20    @alydesigns i was out most of the day so didn'...\n",
       "21    one of my friend called me, and asked to meet ...\n",
       "22     @angry_barista I baked you a cake but I ated it \n",
       "23               this week is not going as i had hoped \n",
       "24                           blagh class at 8 tomorrow \n",
       "25       I hate when I have to call and wake people up \n",
       "26    Just going to cry myself to sleep after watchi...\n",
       "27                               im sad now  Miss.Lilly\n",
       "28    ooooh.... LOL  that leslie.... and ok I won't ...\n",
       "29    Meh... Almost Lover is the exception... this t...\n",
       "30    some1 hacked my account on aim  now i have to ...\n",
       "31    @alielayus I want to go to promote GEAR AND GR...\n",
       "32    thought sleeping in was an option tomorrow but...\n",
       "33    @julieebaby awe i love you too!!!! 1 am here  ...\n",
       "34    @HumpNinja I cry my asian eyes to sleep at night \n",
       "35    ok I'm sick and spent an hour sitting in the s...\n",
       "36    @cocomix04 ill tell ya the story later  not a ...\n",
       "37    @MissXu sorry! bed time came here (GMT+1)   ht...\n",
       "38    @fleurylis I don't either. Its depressing. I d...\n",
       "39    Bed. Class 8-12. Work 12-3. Gym 3-5 or 6. Then...\n",
       "40    really don't feel like getting up today... but...\n",
       "41    He's the reason for the teardrops on my guitar...\n",
       "42    Sad, sad, sad. I don't know why but I hate thi...\n",
       "43    @JonathanRKnight Awww I soo wish I was there t...\n",
       "44    Falling asleep. Just heard about that Tracy gi...\n",
       "45    @Viennah Yay! I'm happy for you with your job!...\n",
       "46    Just checked my user timeline on my blackberry...\n",
       "47    Oh man...was ironing @jeancjumbe's fave top to...\n",
       "48    is strangely sad about LiLo and SamRo breaking...\n",
       "49    @tea oh! i'm so sorry  i didn't think about th...\n",
       "50    Broadband plan 'a massive broken promise' http...\n",
       "51    @localtweeps Wow, tons of replies from you, ma...\n",
       "52    our duck and chicken are taking wayyy too long...\n",
       "53    Put vacation photos online a few yrs ago. PC c...\n",
       "54                                        I need a hug \n",
       "55    @andywana Not sure what they are, only that th...\n",
       "56               @oanhLove I hate when that happens... \n",
       "57    I have a sad feeling that Dallas is not going ...\n",
       "58                          Ugh....92 degrees tomorrow \n",
       "59    Where did u move to?  I thought u were already...\n",
       "60    @BatManYNG I miss my ps3, it's out of commissi...\n",
       "61               just leaving the parking lot of work! \n",
       "62                   The Life is cool. But not for Me. \n",
       "63    Sadly though, I've never gotten to experience ...\n",
       "64    I had such a nice day. Too bad the rain comes ...\n",
       "65    @Starrbby too bad I won't be around I lost my ...\n",
       "66                        Damm back to school tomorrow \n",
       "67    Mo jobs, no money.  how in the hell is min wag...\n",
       "68              @katortiz  Not forever... See you soon!\n",
       "69    @Lt_Algonquin agreed, I saw the failwhale alll...\n",
       "70    @jdarter Oh! Haha... dude I dont really look a...\n",
       "71    @ninjen I'm sure you're right...    I need to ...\n",
       "72    i really hate how people diss my bands!  Trace...\n",
       "73    Gym attire today was: Puma singlet, Adidas sho...\n",
       "74    Why won't you show my location?!   http://twit...\n",
       "75              No picnic  my phone smells like citrus.\n",
       "76    @ashleyac My donkey is sensitive about such co...\n",
       "77                             No new csi tonight.  FML\n",
       "78                i think my arms are sore from tennis \n",
       "79    wonders why someone that u like so much can ma...\n",
       "80    sleep soon... i just hate saying bye and see y...\n",
       "81    @statravelAU just got ur newsletter, those far...\n",
       "82                                     missin' the boo \n",
       "83                          @markhardy1974 Me too  #itm\n",
       "84    Damn... I don't have any chalk! MY CHALKBOARD ...\n",
       "85    had a blast at the Getty Villa, but hates that...\n",
       "86      @msdrama hey missed ya at the meeting  sup mama\n",
       "87    My tummy hurts.  I wonder if the hypnosis has ...\n",
       "88                     why is it always the fat ones?! \n",
       "89    @januarycrimson Sorry, babe!!  My fam annoys m...\n",
       "90    @Hollywoodheat I should have paid more attenti...\n",
       "91          wednesday my b-day! don't know what 2 do!! \n",
       "92                            Poor cameron (the hills) \n",
       "93    pray for me please, the ex is threatening to s...\n",
       "94    @makeherfamous hmm  , do u really enjoy being ...\n",
       "95    Strider is a sick little puppy  http://apps.fa...\n",
       "96    so rylee,grace...wana go steve's party or not?...\n",
       "97    hey, I actually won one of my bracket pools! T...\n",
       "98    @stark YOU don't follow me, either  and i work...\n",
       "99    A bad nite for the favorite teams: Astros and ...\n",
       "Name: text, dtype: object"
      ]
     },
     "execution_count": 126,
     "metadata": {},
     "output_type": "execute_result"
    }
   ],
   "source": [
    "data['text'].head(100)"
   ]
  },
  {
   "cell_type": "code",
   "execution_count": 127,
   "id": "d7041c99",
   "metadata": {
    "ExecuteTime": {
     "end_time": "2021-10-30T13:20:45.282159Z",
     "start_time": "2021-10-30T13:20:43.800556Z"
    }
   },
   "outputs": [],
   "source": [
    "hashtags = data['text'].apply(lambda s: re.findall(r'#[^ ]+', s))"
   ]
  },
  {
   "cell_type": "code",
   "execution_count": 130,
   "id": "7d2e59af",
   "metadata": {
    "ExecuteTime": {
     "end_time": "2021-10-30T13:21:54.042486Z",
     "start_time": "2021-10-30T13:21:53.382869Z"
    }
   },
   "outputs": [
    {
     "data": {
      "text/plain": [
       "<AxesSubplot:ylabel='Frequency'>"
      ]
     },
     "execution_count": 130,
     "metadata": {},
     "output_type": "execute_result"
    },
    {
     "data": {
      "image/png": "[encoded data removed]",
      "text/plain": [
       "<Figure size 432x288 with 1 Axes>"
      ]
     },
     "metadata": {
      "needs_background": "light"
     },
     "output_type": "display_data"
    }
   ],
   "source": [
    "hashtags.apply(len).clip(upper=10).plot.hist(bins=50)"
   ]
  },
  {
   "cell_type": "code",
   "execution_count": 131,
   "id": "b815835f",
   "metadata": {
    "ExecuteTime": {
     "end_time": "2021-10-30T13:22:22.002289Z",
     "start_time": "2021-10-30T13:22:21.663124Z"
    }
   },
   "outputs": [
    {
     "data": {
      "text/plain": [
       "0     1563742\n",
       "1       31484\n",
       "2        3390\n",
       "3         790\n",
       "4         239\n",
       "5          77\n",
       "6          63\n",
       "7          59\n",
       "8          49\n",
       "9          29\n",
       "10         30\n",
       "11         10\n",
       "12          7\n",
       "14         11\n",
       "15         19\n",
       "24          1\n",
       "Name: text, dtype: int64"
      ]
     },
     "execution_count": 131,
     "metadata": {},
     "output_type": "execute_result"
    }
   ],
   "source": [
    "hashtags.apply(len).value_counts().sort_index()"
   ]
  },
  {
   "cell_type": "code",
   "execution_count": 142,
   "id": "828e2185",
   "metadata": {
    "ExecuteTime": {
     "end_time": "2021-10-30T13:27:12.279396Z",
     "start_time": "2021-10-30T13:27:12.107473Z"
    }
   },
   "outputs": [],
   "source": [
    "hashtags_u = [t.lower() for ts in hashtags for t in ts]"
   ]
  },
  {
   "cell_type": "code",
   "execution_count": 143,
   "id": "a3dee7bc",
   "metadata": {
    "ExecuteTime": {
     "end_time": "2021-10-30T13:27:13.076240Z",
     "start_time": "2021-10-30T13:27:12.994812Z"
    }
   },
   "outputs": [
    {
     "data": {
      "text/plain": [
       "[('#followfriday', 2299),\n",
       " ('#fb', 1778),\n",
       " ('#squarespace', 872),\n",
       " ('#ff', 826),\n",
       " ('#seb-day', 498),\n",
       " ('#iranelection', 489),\n",
       " ('#1', 405),\n",
       " ('#musicmonday', 398),\n",
       " ('#fail', 344),\n",
       " ('#asot400', 328),\n",
       " ('#iphone', 299),\n",
       " ('#iremember', 295),\n",
       " ('#bsb', 291),\n",
       " ('#myweakness', 264),\n",
       " ('#marsiscoming', 256),\n",
       " ('#f1', 244),\n",
       " ('#bgt', 237),\n",
       " ('#e3', 234),\n",
       " ('#mcflyforgermany', 230),\n",
       " ('#2', 229),\n",
       " ('#andyhurleyday', 187),\n",
       " ('#inaperfectworld', 173),\n",
       " ('#haveyouever', 168),\n",
       " ('#delongeday', 164),\n",
       " ('#mileymonday', 160),\n",
       " ('#spymaster', 156),\n",
       " ('#tcot', 155),\n",
       " ('#trackle', 155),\n",
       " ('#followfriday!', 141),\n",
       " ('#goodsex', 120),\n",
       " ('#chuckmemondays', 110),\n",
       " ('#hhrs', 105),\n",
       " ('#dontyouhate', 105),\n",
       " ('#twitter', 104),\n",
       " ('#xboxe3', 104),\n",
       " ('#mmwanted', 103),\n",
       " ('#bradiewebb', 102),\n",
       " ('#clothdiapers', 102),\n",
       " ('#flylady', 96),\n",
       " ('#follow', 93),\n",
       " ('#asylm', 93),\n",
       " (\"#tag'\", 92),\n",
       " ('#chesterday', 92),\n",
       " ('#eu09', 90),\n",
       " ('#bts', 88),\n",
       " ('#tweetdeck', 87),\n",
       " ('#shortstack', 86),\n",
       " ('#3', 85),\n",
       " ('#andyclemmensen', 85),\n",
       " ('#nascar', 84),\n",
       " ('#hoppusday', 84),\n",
       " ('#ontd', 84),\n",
       " ('#140conf', 82),\n",
       " ('#pakcricket', 80),\n",
       " ('#kevinjonas', 79),\n",
       " ('#chuck', 77),\n",
       " ('#shaundiviney', 77),\n",
       " ('#followfriday.', 76),\n",
       " ('#3hotwords', 73),\n",
       " ('#peterfacinelli', 73),\n",
       " ('#apprentice', 71),\n",
       " ('#bb10', 71),\n",
       " ('#happybdaykrisallen', 70),\n",
       " ('#music', 69),\n",
       " ('#zenjar', 68),\n",
       " ('#lost', 65),\n",
       " ('#30secondstomars', 65),\n",
       " ('#sytycd', 65),\n",
       " ('#shaunjumpnow', 63),\n",
       " ('#apple', 60),\n",
       " ('#lvatt', 60),\n",
       " ('#20boysummer', 58),\n",
       " ('#whatsmysection', 56),\n",
       " ('#lofnotc', 55),\n",
       " ('#4', 55),\n",
       " ('#bing', 55),\n",
       " ('#jtv', 54),\n",
       " ('#usawantsmcfly', 54),\n",
       " ('#cgft', 54),\n",
       " ('#ff!', 54),\n",
       " ('#twittertakeover', 53),\n",
       " ('#3turnoffwords', 53),\n",
       " ('#robotpickuplines', 52),\n",
       " ('#imisscath', 52),\n",
       " ('#masterchef', 51),\n",
       " ('#iloveyou', 51),\n",
       " ('#lions', 50),\n",
       " ('#wordpress', 48),\n",
       " ('#fixreplies', 48),\n",
       " ('#pens', 47),\n",
       " ('#jonaskevin', 47),\n",
       " ('#mcfly', 46),\n",
       " ('#iran', 46),\n",
       " ('#phish', 45),\n",
       " ('#t20', 45),\n",
       " ('#ff.', 44),\n",
       " ('#mcrchat', 44),\n",
       " ('#writechat', 44),\n",
       " ('#google', 42),\n",
       " ('#jonasliveonfb', 42),\n",
       " ('#niley', 42),\n",
       " ('#ipl', 41),\n",
       " ('#followfriday,', 41),\n",
       " ('#redwings', 41),\n",
       " ('#movie', 41),\n",
       " ('#tonys', 40),\n",
       " ('#frenchieb-day', 39),\n",
       " ('#3wordsaftersex', 39),\n",
       " ('#wwdc', 39),\n",
       " ('#ac', 39),\n",
       " ('#mw2', 38),\n",
       " ('#2.', 38),\n",
       " ('#barakatday', 38),\n",
       " ('#wow', 37),\n",
       " ('#5', 37),\n",
       " ('#eric', 37),\n",
       " ('#wordcamp', 37),\n",
       " ('#nba', 36),\n",
       " ('#awaresg', 36),\n",
       " ('#eurovision', 36),\n",
       " ('#elevensestime', 36),\n",
       " ('#drupal', 35),\n",
       " ('#tweetie', 35),\n",
       " ('#annoying', 35),\n",
       " ('#canucks', 34),\n",
       " ('#glasto', 34),\n",
       " ('#twpp', 34),\n",
       " ('#redsox', 33),\n",
       " ('#noundiessunday', 33),\n",
       " ('#javaone', 33),\n",
       " ('#familyforce5', 32),\n",
       " ('#jaljeera', 32),\n",
       " ('#startrek', 31),\n",
       " ('#otalia', 31),\n",
       " ('#swineflu', 31),\n",
       " ('#militarymon', 31),\n",
       " ('#sanctuarysunday', 30),\n",
       " ('#twitterfail', 30),\n",
       " ('#whyitweet', 30),\n",
       " ('#rugby', 30),\n",
       " ('#firstrecord', 30),\n",
       " ('#unfollowdiddy', 30),\n",
       " ('#alltimelow', 30),\n",
       " ('#wcchicago', 30),\n",
       " ('#s', 29),\n",
       " ('#votemcfly', 29),\n",
       " ('#facebook', 29),\n",
       " ('#gokeyisadouche', 29),\n",
       " ('#dannygokeyislove', 29),\n",
       " ('#idiot', 29),\n",
       " ('#charitytuesday', 28),\n",
       " ('#tehran', 28),\n",
       " ('#ecomonday', 28),\n",
       " ('#gr88', 28),\n",
       " ('#android', 27),\n",
       " ('#p2', 27),\n",
       " ('#facup', 27),\n",
       " ('#squarespace,', 27),\n",
       " ('#neda', 27),\n",
       " ('#readathon', 26),\n",
       " ('#blackberry', 26),\n",
       " ('#lakers', 26),\n",
       " ('#maxout', 26),\n",
       " ('#twtrcon', 26),\n",
       " ('#mtvmovieawards', 26),\n",
       " ('#fml', 25),\n",
       " ('#cricket', 25),\n",
       " ('#vegas', 25),\n",
       " ('#.', 25),\n",
       " ('#saveearl', 25),\n",
       " ('#gno', 25),\n",
       " ('#nhl', 25),\n",
       " ('#sarmy', 25),\n",
       " ('#dmb', 25),\n",
       " ('#spotify', 24),\n",
       " ('#microsoft', 24),\n",
       " ('#mac', 24),\n",
       " ('#tlot', 24),\n",
       " ('#frenchopen', 24),\n",
       " ('#dfizzy', 24),\n",
       " ('#ubuntu', 23),\n",
       " ('#magic', 23),\n",
       " ('#palmpre', 23),\n",
       " ('#up', 23),\n",
       " ('#php', 22),\n",
       " ('#yeg', 22),\n",
       " ('#photography', 22),\n",
       " ('#beatwittyparty', 22),\n",
       " ('#1:', 22),\n",
       " ('#sims3', 22),\n",
       " ('#battleground', 22),\n",
       " ('#threadless', 22),\n",
       " ('#tokiohotel', 22),\n",
       " ('#petewentzday', 22),\n",
       " ('#souljaboytellem', 22),\n",
       " ('#echelonday', 22),\n",
       " ('#24', 21),\n",
       " ('#mets', 21),\n",
       " ('#pawpawty', 21),\n",
       " ('#bck5', 21),\n",
       " ('#1.', 21),\n",
       " ('#woofwednesday', 21),\n",
       " ('#thingsmummysaid', 21),\n",
       " ('#googlewave', 21),\n",
       " ('#jonaslive', 20),\n",
       " ('#youtube', 20),\n",
       " ('#bluebox', 20),\n",
       " ('#6', 20),\n",
       " ('#followfridays', 20),\n",
       " ('#bcleeds09', 20),\n",
       " ('#ohnotheydidnt', 20),\n",
       " ('#fullservice', 20),\n",
       " ('#etsy', 20),\n",
       " ('#squarespace.', 20),\n",
       " ('#shaunjumpnow#shaunjumpnow#shaunjumpnow#shaunjumpnow', 20),\n",
       " ('#dollhouse', 19),\n",
       " ('#quote', 19),\n",
       " ('#indiavotes09', 19),\n",
       " ('#news', 19),\n",
       " ('#1!', 19),\n",
       " ('#9', 19),\n",
       " ('#sharepoint', 19),\n",
       " ('#tscc', 19),\n",
       " (\"#'s\", 19),\n",
       " ('#momoams', 19),\n",
       " ('#chuckeu', 19),\n",
       " ('#awesome', 19),\n",
       " ('#jbyoutubesuspended', 19),\n",
       " ('#blogchat', 19),\n",
       " ('#weirdal', 19),\n",
       " ('#whocangetit', 19),\n",
       " ('#wolframalpha', 18),\n",
       " ('#gmail', 18),\n",
       " ('#8', 18),\n",
       " ('#,', 18),\n",
       " ('#pussycatisland', 18),\n",
       " ('#sgtweetup', 18),\n",
       " ('#firefox', 18),\n",
       " ('#greenday', 18),\n",
       " ('#tennis', 18),\n",
       " ('#smx', 18),\n",
       " ('#bea09', 18),\n",
       " ('#hcb', 18),\n",
       " ('#fuqtwitter', 18),\n",
       " ('#rsc2009', 18),\n",
       " ('#conan', 18),\n",
       " ('#jessicaveronica', 18),\n",
       " ('#samesexsunday', 18),\n",
       " ('#harpersglobe', 17),\n",
       " ('#linux', 17),\n",
       " ('#jonasparanoid', 17),\n",
       " ('#trueblood', 17),\n",
       " ('#fnwc', 17),\n",
       " ('#gimmefailwhale', 17),\n",
       " ('#alc8', 17),\n",
       " ('#brazillovesmcfly', 17),\n",
       " ('#iconfess', 17),\n",
       " ('#obama', 17),\n",
       " ('#followfriday:', 17),\n",
       " ('#joomla', 16),\n",
       " ('#nambu', 16),\n",
       " ('#dnd', 16),\n",
       " ('#savechuck', 16),\n",
       " ('#bacon', 16),\n",
       " ('#twtvite', 16),\n",
       " ('#2,', 16),\n",
       " ('#maternalhealth', 16),\n",
       " ('#liesgirlstell', 16),\n",
       " ('#love', 16),\n",
       " ('#blamedrewscancer', 16),\n",
       " ('#fitfam', 16),\n",
       " ('#mrtweet', 16),\n",
       " ('#jizzersforlife', 16),\n",
       " ('#votediversity', 16),\n",
       " ('#wnbaopeningday', 16),\n",
       " ('#fiestamovement', 15),\n",
       " ('#win7', 15),\n",
       " ('#gnw', 15),\n",
       " ('#chicago', 15),\n",
       " ('#jquery', 15),\n",
       " ('#fowa', 15),\n",
       " ('#jonaswebcast', 15),\n",
       " ('#gqmf', 15),\n",
       " ('#coffee', 15),\n",
       " ('#cws', 15),\n",
       " ('#bones', 15),\n",
       " ('#mcflyinmanila', 15),\n",
       " ('#howarewe', 15),\n",
       " ('#wine', 15),\n",
       " ('#sgp', 15),\n",
       " ('#bigbrother', 15),\n",
       " ('#pre', 15),\n",
       " ('#genesis', 15),\n",
       " ('#iran9', 15),\n",
       " ('#travel', 15),\n",
       " ('#iphone3.0', 15),\n",
       " ('#ff,', 15),\n",
       " ('#shaheenftw', 15),\n",
       " ('#heroes', 14),\n",
       " ('#g1', 14),\n",
       " ('#geocaching', 14),\n",
       " ('#football', 14),\n",
       " ('#?', 14),\n",
       " ('#weather', 14),\n",
       " ('#!', 14),\n",
       " ('#starwarsday', 14),\n",
       " ('#sigjeans', 14),\n",
       " ('#windows', 14),\n",
       " ('#wtf', 14),\n",
       " ('#stargirlinspace', 14),\n",
       " ('#rip', 14),\n",
       " ('#haiku', 14),\n",
       " ('#pp09', 14),\n",
       " ('#btub', 14),\n",
       " ('#fail.', 14),\n",
       " ('#loveeverybody', 14),\n",
       " ('#nokia', 14),\n",
       " ('#xbox', 14),\n",
       " ('#cliqueoftwitter', 14),\n",
       " ('#2:', 14),\n",
       " ('#iranelections', 14),\n",
       " ('#bookieb', 14),\n",
       " ('#gratitude', 14),\n",
       " ('#tellmrtweet', 14),\n",
       " ('#photog', 13),\n",
       " ('#itunes', 13),\n",
       " ('#work', 13),\n",
       " ('#sad', 13),\n",
       " ('#windows7', 13),\n",
       " ('#python', 13),\n",
       " ('#cubs', 13),\n",
       " ('#7', 13),\n",
       " ('#goodnight', 13),\n",
       " ('#tweetup', 13),\n",
       " ('#forourhero', 13),\n",
       " ('#tek09', 13),\n",
       " ('#liesboystell', 13),\n",
       " ('#metal', 13),\n",
       " ('#itsucks', 13),\n",
       " ('#golf', 13),\n",
       " ('#scrm', 13),\n",
       " ('#doyourememberwhen', 13),\n",
       " ('#sla2009', 13),\n",
       " ('#green', 13),\n",
       " ('#aion', 13),\n",
       " ('#origin', 13),\n",
       " ('#12', 13),\n",
       " ('#le09', 13),\n",
       " ('#140conf.', 13),\n",
       " ('#design', 13),\n",
       " ('#jobs', 13),\n",
       " ('#fletcherday', 13),\n",
       " ('#mikeywayday', 13),\n",
       " ('#charliecuntskies', 13),\n",
       " ('#egypt', 13),\n",
       " ('#art', 12),\n",
       " ('#epicfail', 12),\n",
       " ('#house', 12),\n",
       " ('#lol', 12),\n",
       " ('#caps', 12),\n",
       " ('#1,', 12),\n",
       " ('#java', 12),\n",
       " ('#brighton', 12),\n",
       " ('#flickr', 12),\n",
       " ('#yyc', 12),\n",
       " ('#geek', 12),\n",
       " ('#doctorwho', 12),\n",
       " ('#gonzpiration', 12),\n",
       " ('#simpleplan', 12),\n",
       " ('#wii', 12),\n",
       " ('#coffeeclub', 12),\n",
       " ('#easactive', 12),\n",
       " ('#geekcamp', 12),\n",
       " ('#pixar', 12),\n",
       " ('#air', 12),\n",
       " ('#ihate', 12),\n",
       " ('#yorly?', 12),\n",
       " ('#feliciadayrumors', 12),\n",
       " ('#poker', 12),\n",
       " ('#journchat', 12),\n",
       " ('#banditleeway', 12),\n",
       " ('#nobitchassnessfriday', 12),\n",
       " ('#hbdandyhurley', 12),\n",
       " ('#babealert', 12),\n",
       " ('#yaymen', 11),\n",
       " ('#420', 11),\n",
       " ('#newo', 11),\n",
       " ('#13', 11),\n",
       " ('#penguins', 11),\n",
       " ('#poynterday', 11),\n",
       " ('#gtd', 11),\n",
       " ('#wossybookclub', 11),\n",
       " ('#motogp', 11),\n",
       " ('#digg', 11),\n",
       " ('#sf4', 11),\n",
       " ('#starwars', 11),\n",
       " ('#nightshift', 11),\n",
       " ('#twedding', 11),\n",
       " ('#evernote_eyefi', 11),\n",
       " ('#wave', 11),\n",
       " ('#)', 11),\n",
       " ('#rove', 11),\n",
       " ('#mtv', 11),\n",
       " ('#n97', 11),\n",
       " ('#music4good', 11),\n",
       " ('#opera', 11),\n",
       " ('#happy', 11),\n",
       " ('#theapprentice', 11),\n",
       " ('#hateperez', 11),\n",
       " ('#golakers', 11),\n",
       " ('#iranelection.', 11),\n",
       " ('#imu', 11),\n",
       " ('#uxlondon', 11),\n",
       " ('#os', 11),\n",
       " ('#video', 11),\n",
       " ('#newmoon', 11),\n",
       " ('#ykyat', 11),\n",
       " ('#hollywelch', 11),\n",
       " ('#2!', 11),\n",
       " ('#levywedding', 11),\n",
       " ('#the', 10),\n",
       " ('#pman', 10),\n",
       " ('#lahore', 10),\n",
       " ('#new', 10),\n",
       " ('#herebeforeoprah', 10),\n",
       " ('#india', 10),\n",
       " ('#spam', 10),\n",
       " ('#help', 10),\n",
       " ('#harpersisland', 10),\n",
       " ('#twohandsfletcher', 10),\n",
       " ('#20', 10),\n",
       " ('#dc', 10),\n",
       " ('#netprophet', 10),\n",
       " ('#dell', 10),\n",
       " ('#supernatural', 10),\n",
       " ('#nhltweetup', 10),\n",
       " ('#food', 10),\n",
       " ('#ps3', 10),\n",
       " ('#gfree', 10),\n",
       " ('#terminator', 10),\n",
       " ('#justsayin', 10),\n",
       " ('#rejectprop8', 10),\n",
       " ('#cavs', 10),\n",
       " ('#tonightshow', 10),\n",
       " ('#ttl', 10),\n",
       " ('#followfriday!!', 10),\n",
       " ('#ohyeswedid', 10),\n",
       " ('#imperfectangel', 10),\n",
       " ('#robsten', 10),\n",
       " ('#wiebe', 10),\n",
       " ('#wftb', 10),\n",
       " (\"#ff's\", 10),\n",
       " ('#prelaunch', 10),\n",
       " ('#bfd', 10),\n",
       " ('#monstervegastweetup', 10),\n",
       " ('#photo', 10),\n",
       " ('#web', 10),\n",
       " ('#os3', 10),\n",
       " ('#saveontd', 10),\n",
       " ('#transformers', 10),\n",
       " ('#goodpussy', 10),\n",
       " ('#smtb', 10),\n",
       " ('#webdesign', 10),\n",
       " ('#homepartyger', 10),\n",
       " ('#hcsm', 10),\n",
       " ('#tweetbump', 10),\n",
       " ('#ohhushfornewmoon', 10),\n",
       " ('#earthquake', 9),\n",
       " ('#$', 9),\n",
       " ('#afl', 9),\n",
       " ('#zensursula', 9),\n",
       " ('#openhacklondon', 9),\n",
       " ('#mothersday', 9),\n",
       " ('#climb', 9),\n",
       " ('#bringbacklife', 9),\n",
       " ('#cycling', 9),\n",
       " ('#primal', 9),\n",
       " ('#gr8conf', 9),\n",
       " ('#dcth', 9),\n",
       " ('#beer', 9),\n",
       " ('#makerfaire', 9),\n",
       " ('#3!', 9),\n",
       " ('#thegreenteen', 9),\n",
       " ('#fullmooncrazy', 9),\n",
       " ('#mitm4e', 9),\n",
       " ('#openspacecode', 9),\n",
       " ('#stuffwotimadeup', 9),\n",
       " ('#15', 9),\n",
       " ('#clap', 9),\n",
       " ('#destroytwitter', 9),\n",
       " ('#confession', 9),\n",
       " ('#oscarmayer', 9),\n",
       " ('#twitfit', 9),\n",
       " ('#e3.', 9),\n",
       " ('#ncis', 9),\n",
       " ('#10yearsofenema', 9),\n",
       " ('#seo', 9),\n",
       " ('#bonnaroo', 9),\n",
       " ('#sfn', 9),\n",
       " ('#gop', 9),\n",
       " ('#sotr09', 9),\n",
       " ('#federer', 9),\n",
       " ('#wt20', 9),\n",
       " ('#11', 9),\n",
       " ('#militarymonday', 9),\n",
       " ('#true', 9),\n",
       " ('#unite', 9),\n",
       " ('#ignitephx', 9),\n",
       " ('#wimbledon', 9),\n",
       " ('#gilbirmingham', 9),\n",
       " ('#jailbreak', 9),\n",
       " ('#creativetechs', 9),\n",
       " ('#followsaturday', 9),\n",
       " ('#sobcon', 9),\n",
       " ('#coffeetime', 9),\n",
       " ('#shaunjumpnow#shaunjumpnow', 9),\n",
       " ('#coolshite', 9),\n",
       " ('#rxmorningrush', 9),\n",
       " ('#projectnahal', 9),\n",
       " ('#holiday', 9),\n",
       " ('#captions', 9),\n",
       " ('#frinightfever', 8),\n",
       " ('#tuttle', 8),\n",
       " ('#14', 8),\n",
       " ('#bsg', 8),\n",
       " ('#formula1', 8),\n",
       " ('#iphone.', 8),\n",
       " ('#blog', 8),\n",
       " ('#twitterfon', 8),\n",
       " ('#19', 8),\n",
       " ('#t', 8),\n",
       " ('#gravity', 8),\n",
       " ('#logies', 8),\n",
       " ('#giro', 8),\n",
       " ('#wheniwerealad', 8),\n",
       " ('#twitterpornnames', 8),\n",
       " ('#redeye', 8),\n",
       " ('#vancouver', 8),\n",
       " ('#photofollows', 8),\n",
       " ('#10', 8),\n",
       " ('#tech', 8),\n",
       " ('#tv', 8),\n",
       " ('#asot', 8),\n",
       " ('#yam', 8),\n",
       " ('#nintendo', 8),\n",
       " ('#140tc', 8),\n",
       " ('#rangers', 8),\n",
       " ('#3breakupwords', 8),\n",
       " ('#friday', 8),\n",
       " ('#jonasnewsongs', 8),\n",
       " ('#pakistan', 8),\n",
       " ('#mmot', 8),\n",
       " ('#100', 8),\n",
       " ('#secondlife', 8),\n",
       " ('#wish27', 8),\n",
       " ('#feedly', 8),\n",
       " ('#unsuspendhisgoldeneyes', 8),\n",
       " ('#getgibackinthelead', 8),\n",
       " ('#andyhurley', 8),\n",
       " ('#asylum', 8),\n",
       " ('#followers', 8),\n",
       " ('#mallu', 8),\n",
       " ('#communityone', 8),\n",
       " ('#endo', 8),\n",
       " ('#splogin', 8),\n",
       " ('#habs', 8),\n",
       " ('#bill44', 8),\n",
       " ('#inappropriatemovies', 8),\n",
       " ('#io2009', 8),\n",
       " ('#p90x', 8),\n",
       " ('#mcflyinamerica', 8),\n",
       " ('#tedxkl', 8),\n",
       " ('#nasa', 8),\n",
       " ('#seesmic', 8),\n",
       " ('#twenty20', 8),\n",
       " ('#ptu2', 8),\n",
       " ('#followfirday', 8),\n",
       " ('#palm', 8),\n",
       " ('#semtech2009', 8),\n",
       " ('#kettlebell', 8),\n",
       " ('#usmnt', 8),\n",
       " ('#48hbc', 8),\n",
       " ('#3.', 8),\n",
       " ('#twitprentice', 8),\n",
       " ('#southamericalovesmcfly', 8),\n",
       " ('#twitterfox', 8),\n",
       " ('#squarespace?', 8),\n",
       " ('#irce', 8),\n",
       " ('#bachelorette', 8),\n",
       " ('#iranians', 8),\n",
       " ('#twitterbongs', 8),\n",
       " ('#groovy', 8),\n",
       " ('#3.0', 8),\n",
       " ('#nxne', 8),\n",
       " ('#buzz140', 8),\n",
       " ('#theonlinemom', 8),\n",
       " ('#meowmonday', 8),\n",
       " ('#smilesaturday', 8),\n",
       " ('#everyonebutton,', 8),\n",
       " ('#bellybuttons', 8),\n",
       " ('#tgif', 8),\n",
       " ('#followsouljaboytellem', 8),\n",
       " ('#pseudowrimo', 8),\n",
       " ('#rails', 7),\n",
       " ('#poken', 7),\n",
       " ('#berlin', 7),\n",
       " ('#twilight', 7),\n",
       " ('#spbpuk', 7),\n",
       " ('#failwhale', 7),\n",
       " ('#barcamphanoi', 7),\n",
       " ('#tfe', 7),\n",
       " ('#gadgetshowlive', 7),\n",
       " ('#weekend', 7),\n",
       " ('#oracle', 7),\n",
       " ('#sun', 7),\n",
       " ('#mysql', 7),\n",
       " ('#photos', 7),\n",
       " ('#1up', 7),\n",
       " ('#revision', 7),\n",
       " ('#insomnia', 7),\n",
       " ('#sambradley', 7),\n",
       " ('#lt', 7),\n",
       " ('#uk', 7),\n",
       " ('#manutd', 7),\n",
       " ('#i', 7),\n",
       " ('#ebay', 7),\n",
       " ('#teaparty', 7),\n",
       " ('#running', 7),\n",
       " ('#chrome', 7),\n",
       " ('#lastfm', 7),\n",
       " ('#monday', 7),\n",
       " ('#futuresummit', 7),\n",
       " ('#fotb', 7),\n",
       " ('#webdu', 7),\n",
       " ('#jazz', 7),\n",
       " ('#3stalkerwords', 7),\n",
       " ('#business', 7),\n",
       " ('#marketing', 7),\n",
       " ('#2wkfilm', 7),\n",
       " ('#ferber', 7),\n",
       " ('#bigfanfriday', 7),\n",
       " ('#canada', 7),\n",
       " ('#flashcamp', 7),\n",
       " ('#jealous', 7),\n",
       " ('#hashtags', 7),\n",
       " ('#bangalore', 7),\n",
       " ('#magento', 7),\n",
       " ('#spymaster.', 7),\n",
       " ('#chelsea', 7),\n",
       " ('#playspymaster', 7),\n",
       " ('#japan', 7),\n",
       " ('#onroad', 7),\n",
       " ('#favmoviequote', 7),\n",
       " ('#run', 7),\n",
       " ('#glee', 7),\n",
       " ('#weeds', 7),\n",
       " ('#wgt', 7),\n",
       " ('#wethekings', 7),\n",
       " ('#airfrance', 7),\n",
       " ('#447', 7),\n",
       " ('#af447', 7),\n",
       " ('#internetweek', 7),\n",
       " ('#hockey', 7),\n",
       " ('#atlassiansummit', 7),\n",
       " ('#nc', 7),\n",
       " ('#musicmondays', 7),\n",
       " ('#starstrukk', 7),\n",
       " ('#badsex', 7),\n",
       " ('#fitness', 7),\n",
       " ('#chaser', 7),\n",
       " ('#kevin', 7),\n",
       " ('#wwe', 7),\n",
       " ('#coffeetu', 7),\n",
       " ('#silkfair', 7),\n",
       " ('#tweetgrade', 7),\n",
       " ('#lebanonelections', 7),\n",
       " ('#tony', 7),\n",
       " ('#tea', 7),\n",
       " ('#smcsyd', 7),\n",
       " ('#life', 7),\n",
       " ('#hashtag', 7),\n",
       " ('#m20eu', 7),\n",
       " ('#ndc09', 7),\n",
       " ('#nicerfilmtitles', 7),\n",
       " ('#swagbucks', 7),\n",
       " ('#inaperfectworld,', 7),\n",
       " ('#3gs', 7),\n",
       " ('#openvideo', 7),\n",
       " ('#followfriday?', 7),\n",
       " ('#reboot11', 7),\n",
       " ('#free', 7),\n",
       " ('#fetchmp3', 7),\n",
       " ('#sharingthelove', 7),\n",
       " ('#twitterqueens', 7),\n",
       " ('#anoop', 7),\n",
       " ('#blackradio', 7),\n",
       " ('#funny', 7),\n",
       " ('#tweetlord', 7),\n",
       " ('#timtams', 7),\n",
       " ('#miguelrequests', 7),\n",
       " ('#nothingpersonal', 7),\n",
       " ('#tweetfakes', 7),\n",
       " ('#cnn', 6),\n",
       " ('#ichc', 6),\n",
       " ('#coktup', 6),\n",
       " ('#$%^', 6),\n",
       " ('#twit', 6),\n",
       " ('#btv', 6),\n",
       " ('#chrisflu', 6),\n",
       " ('#wolverine', 6),\n",
       " ('#twins', 6),\n",
       " ('#nyc', 6),\n",
       " ('#kelloggs', 6),\n",
       " ('#fiestamovement:', 6),\n",
       " ('#soccer', 6),\n",
       " ('#4.', 6),\n",
       " ('#snl', 6),\n",
       " ('#euruko', 6),\n",
       " ('#arsenal', 6),\n",
       " ('#fun', 6),\n",
       " ('#zf', 6),\n",
       " ('#rpattz', 6),\n",
       " ('#peoplebrowsr', 6),\n",
       " ('#h1n1', 6),\n",
       " ('#sfa', 6),\n",
       " ('#safari', 6),\n",
       " ('#traffic', 6),\n",
       " ('#cakephp', 6),\n",
       " ('#togs', 6),\n",
       " ('#socialmedia', 6),\n",
       " ('#mashlib09', 6),\n",
       " ('#fff', 6),\n",
       " ('#twhirl', 6),\n",
       " ('#vfth', 6),\n",
       " ('#optus', 6),\n",
       " ('#dongle', 6),\n",
       " ('#everton', 6),\n",
       " ('#dsaa09', 6),\n",
       " ('#fibromyalgia', 6),\n",
       " ('#..', 6),\n",
       " ('#flyinglushes', 6),\n",
       " ('#randomfact', 6),\n",
       " ('#poetry', 6),\n",
       " ('#ipod', 6),\n",
       " ('#eswc2009', 6),\n",
       " ('#btvsmb', 6),\n",
       " ('#susanboyle', 6),\n",
       " ('#djangodash', 6),\n",
       " ('#barcampnyc4', 6),\n",
       " ('#wings', 6),\n",
       " ('#twitpic', 6),\n",
       " ('#astd09', 6),\n",
       " ('#vacation', 6),\n",
       " ('#rolandgarros', 6),\n",
       " ('#621621621', 6),\n",
       " ('#moviemisquotes', 6),\n",
       " ('#whereisjoeymcintyre', 6),\n",
       " ('#sfgiants', 6),\n",
       " ('#bcc3', 6),\n",
       " ('#ea', 6),\n",
       " ('#trvsdjam', 6),\n",
       " ('#eveonline', 6),\n",
       " ('#att', 6),\n",
       " ('#ep09', 6),\n",
       " ('#gfw', 6),\n",
       " ('#ie6', 6),\n",
       " ('#honorvets', 6),\n",
       " ('#good', 6),\n",
       " ('#babywearing', 6),\n",
       " ('#sony', 6),\n",
       " ('#worldrecord', 6),\n",
       " ('#fashion', 6),\n",
       " ('#brazilwillmissmcfly', 6),\n",
       " ('#idol', 6),\n",
       " ('#stateoforigin', 6),\n",
       " ('#thebnparetwats', 6),\n",
       " ('#mlb', 6),\n",
       " ('#opensolaris', 6),\n",
       " ('#wct20', 6),\n",
       " ('#rebcchi', 6),\n",
       " ('#seattle', 6),\n",
       " ('#zombie', 6),\n",
       " ('#yatrivia', 6),\n",
       " ('#vista', 6),\n",
       " ('#t20wc', 6),\n",
       " ('#artfire', 6),\n",
       " ('#bnp', 6),\n",
       " ('#tedxsh', 6),\n",
       " ('#cnnfail', 6),\n",
       " ('#twitterific', 6),\n",
       " ('#applertc', 6),\n",
       " ('#linesvinestryingtimes', 6),\n",
       " ('#css', 6),\n",
       " ('#cg09', 6),\n",
       " ('#zombieninja', 6),\n",
       " ('#win', 6),\n",
       " ('#fathersday', 6),\n",
       " ('#uncubicled', 6),\n",
       " ('#iphone3gs', 6),\n",
       " ('#mixero', 6),\n",
       " ('#tweetni', 6),\n",
       " ('#stl', 6),\n",
       " ('#e2conf', 6),\n",
       " ('#jonas-turnright', 6),\n",
       " ('#gokeyisabigot', 6),\n",
       " ('#localgovcamp', 6),\n",
       " ('#ftw', 6),\n",
       " ('#nadal', 6),\n",
       " ('#smbmsp', 6),\n",
       " ('#triathlon', 6),\n",
       " ('#uns1', 6),\n",
       " ('#gilad', 6),\n",
       " ('#rsg', 6),\n",
       " ('#humor', 6),\n",
       " ('#mp3', 6),\n",
       " ('#app', 6),\n",
       " ('#freemusic', 6),\n",
       " ('#bbq', 6),\n",
       " ('#promocodes:', 6),\n",
       " ('#awesomeupdater', 6),\n",
       " ('#beijing', 6),\n",
       " ('#juddday', 6),\n",
       " ('#firefly', 6),\n",
       " ('#togsfollow', 6),\n",
       " ('#blisstwits', 6),\n",
       " ('#cressferriera', 6),\n",
       " ('#ff!!', 6),\n",
       " (\"#followfriday's\", 6),\n",
       " ('#eminem', 6),\n",
       " ('#ilove', 6),\n",
       " ('#goodsex:', 6),\n",
       " ('#dhempe', 6),\n",
       " ('#phpkonferenca', 6),\n",
       " ('#nextmedia', 6),\n",
       " ('#bongodibosh', 6),\n",
       " ('#webtech', 6),\n",
       " ('#italy', 5),\n",
       " ('#mmuk09', 5),\n",
       " ('#search', 5),\n",
       " ('#smc_mcr', 5),\n",
       " ('#cloudforce', 5),\n",
       " ('#ufc', 5),\n",
       " ('#macbook', 5),\n",
       " ('#spectrial', 5),\n",
       " ('#autism', 5),\n",
       " ('#brewers', 5),\n",
       " ('#f1.', 5),\n",
       " ('#barcampbkk3', 5),\n",
       " ('#waketraining', 5),\n",
       " ('#french', 5),\n",
       " ('#indycar', 5),\n",
       " ('#skeptwiit', 5),\n",
       " ('#adobe', 5),\n",
       " ('#opensource', 5),\n",
       " ('#xa', 5),\n",
       " ('#amazon', 5),\n",
       " ('#twitterrific', 5),\n",
       " ('#karachi', 5),\n",
       " ('#mwc', 5),\n",
       " ('#radio', 5),\n",
       " ('#umbraco', 5),\n",
       " ('#fedora', 5),\n",
       " ('#dating', 5),\n",
       " ('#-football', 5),\n",
       " ('#lostthegame', 5),\n",
       " ('#bouvierb-day', 5),\n",
       " ('#melo', 5),\n",
       " ('#dog', 5),\n",
       " ('#twithelp', 5),\n",
       " ('#finals', 5),\n",
       " ('#big', 5),\n",
       " ('#theatre', 5),\n",
       " ('#mtb', 5),\n",
       " ('#it', 5),\n",
       " ('#applefail', 5),\n",
       " ('#mavs', 5),\n",
       " ('#twiparty', 5),\n",
       " ('#tdc', 5),\n",
       " ('#arduino', 5),\n",
       " ('#loa', 5),\n",
       " ('#bbc', 5),\n",
       " ('#cannes', 5),\n",
       " ('#@', 5),\n",
       " ('#scrubs', 5),\n",
       " ('#lost.', 5),\n",
       " ('#unfollow', 5),\n",
       " ('#last.fm', 5),\n",
       " ('#iphonedev', 5),\n",
       " ('#ravelry', 5),\n",
       " ('#lunch', 5),\n",
       " ('#hosteurope', 5),\n",
       " ('#tf2', 5),\n",
       " ('#yankees', 5),\n",
       " ('#amsterdam', 5),\n",
       " ('#hulu', 5),\n",
       " ('#pughug', 5),\n",
       " ('#flash', 5),\n",
       " ('#aptw', 5),\n",
       " ('#bea', 5),\n",
       " ('#eq2', 5),\n",
       " ('#geocache', 5),\n",
       " ('#rrtheatre', 5),\n",
       " ('#fieldnotes', 5),\n",
       " ('#frehleyfriday', 5),\n",
       " ('#endometriosis', 5),\n",
       " ('#reds', 5),\n",
       " ('#ictev09', 5),\n",
       " ('#health', 5),\n",
       " ('#ddth', 5),\n",
       " ('#fbmia', 5),\n",
       " ('#susan', 5),\n",
       " ('#comics', 5),\n",
       " ('#warcraft', 5),\n",
       " ('#diversity', 5),\n",
       " ('#bigd09', 5),\n",
       " ('#stanleycup', 5),\n",
       " ('#livelocal', 5),\n",
       " ('#diabetes', 5),\n",
       " ('#bcsd5', 5),\n",
       " ('#pushingdaisies', 5),\n",
       " ('#reading', 5),\n",
       " ('#kobe', 5),\n",
       " ('#followme', 5),\n",
       " ('#21', 5),\n",
       " ('#wsop', 5),\n",
       " ('#shredheads', 5),\n",
       " ('#puddingsunday', 5),\n",
       " ('#codwaw', 5),\n",
       " ('#australia', 5),\n",
       " ('#o2fail', 5),\n",
       " ('#searchforn', 5),\n",
       " ('#ruby', 5),\n",
       " ('#hawaiihta', 5),\n",
       " ('#homebrew', 5),\n",
       " ('#maureenjohnson', 5),\n",
       " ('#boston', 5),\n",
       " ('#shoutout', 5),\n",
       " ('#wiimoms', 5),\n",
       " ('#e3,', 5),\n",
       " ('#neogaf', 5),\n",
       " ('#lr', 5),\n",
       " ('#gay', 5),\n",
       " ('#natal', 5),\n",
       " ('#monkeyisland', 5),\n",
       " ('#ashestoashes', 5),\n",
       " ('#dodgers', 5),\n",
       " ('#thailand', 5),\n",
       " ('#china', 5),\n",
       " ('#iomtt', 5),\n",
       " ('#conass', 5),\n",
       " ('#mcflyforwales', 5),\n",
       " ('#reaper', 5),\n",
       " ('#flightcontrol', 5),\n",
       " ('#eclipse', 5),\n",
       " ('#pmqs', 5),\n",
       " ('#twalk', 5),\n",
       " ('#...', 5),\n",
       " ('#family', 5),\n",
       " ('#torchsong', 5),\n",
       " ('#boarding', 5),\n",
       " ('#goap', 5),\n",
       " ('#glastonbury', 5),\n",
       " ('#home', 5),\n",
       " ('#hangover', 5),\n",
       " ('#tetris', 5),\n",
       " ('#aionbeta', 5),\n",
       " ('#himym', 5),\n",
       " ('#babealertceo', 5),\n",
       " ('#barkhunt', 5),\n",
       " ('#smile', 5),\n",
       " ('#jonasbrothersbackonyoutube', 5),\n",
       " ('#ussoccer', 5),\n",
       " ('#britney', 5),\n",
       " ('#f1,', 5),\n",
       " ('#thesims3', 5),\n",
       " ('#novelrace', 5),\n",
       " ('#websoup', 5),\n",
       " ('#sustagchat', 5),\n",
       " ('#craftym4', 5),\n",
       " ('#dontyouhateitwhen', 5),\n",
       " ('#mp2', 5),\n",
       " ('#teamftsk', 5),\n",
       " ('#echelon', 5),\n",
       " ('#maduk', 5),\n",
       " ('#listeningto', 5),\n",
       " ('#baby', 5),\n",
       " ('#enigma', 5),\n",
       " ('#amazeballs', 5),\n",
       " ('#weekofwin', 5),\n",
       " ('#chuckmemonday', 5),\n",
       " ('#4yourhealth', 5),\n",
       " ('#ghacksg', 5),\n",
       " ('#sltc09', 5),\n",
       " ('#sotd', 5),\n",
       " ('#onthelow', 5),\n",
       " ('#obsessed', 5),\n",
       " ('#traveltuesday', 5),\n",
       " ('#myspace', 5),\n",
       " ('#abq', 5),\n",
       " ('#happybirthdaydrewryanscott', 5),\n",
       " ...]"
      ]
     },
     "execution_count": 143,
     "metadata": {},
     "output_type": "execute_result"
    }
   ],
   "source": [
    "from collections import Counter\n",
    "\n",
    "sorted([(k, v) for k, v in Counter(hashtags_u).items()], key = lambda x: x[1], reverse=True)"
   ]
  },
  {
   "cell_type": "markdown",
   "id": "accffa5c",
   "metadata": {},
   "source": [
    "## emain in text"
   ]
  },
  {
   "cell_type": "code",
   "execution_count": 85,
   "id": "8ca3f9c9",
   "metadata": {
    "ExecuteTime": {
     "end_time": "2021-10-31T23:20:01.829913Z",
     "start_time": "2021-10-31T23:19:56.864489Z"
    }
   },
   "outputs": [],
   "source": [
    "emails = data['text'].apply(lambda s: re.findall(r'[a-zA-z0-9.-_]+@[a-zA-z0-9.-_]+', s))"
   ]
  },
  {
   "cell_type": "code",
   "execution_count": 86,
   "id": "c593d49e",
   "metadata": {
    "ExecuteTime": {
     "end_time": "2021-10-31T23:20:03.052478Z",
     "start_time": "2021-10-31T23:20:02.719991Z"
    }
   },
   "outputs": [
    {
     "data": {
      "text/plain": [
       "0    1597458\n",
       "1       2480\n",
       "2         52\n",
       "3          9\n",
       "4          1\n",
       "Name: text, dtype: int64"
      ]
     },
     "execution_count": 86,
     "metadata": {},
     "output_type": "execute_result"
    }
   ],
   "source": [
    "emails.apply(len).value_counts()"
   ]
  },
  {
   "cell_type": "code",
   "execution_count": 87,
   "id": "ec78d5e9",
   "metadata": {
    "ExecuteTime": {
     "end_time": "2021-10-31T23:20:11.607218Z",
     "start_time": "2021-10-31T23:20:11.280117Z"
    }
   },
   "outputs": [
    {
     "data": {
      "text/plain": [
       "'who stole elledell@gmail.com?  '"
      ]
     },
     "execution_count": 87,
     "metadata": {},
     "output_type": "execute_result"
    }
   ],
   "source": [
    "data[emails.apply(len)>0]['text'].values[1]"
   ]
  },
  {
   "cell_type": "markdown",
   "id": "cb418009",
   "metadata": {},
   "source": [
    "# testing preprocessors"
   ]
  },
  {
   "cell_type": "code",
   "execution_count": 6,
   "id": "6b204f37",
   "metadata": {
    "ExecuteTime": {
     "end_time": "2021-10-31T10:52:06.026082Z",
     "start_time": "2021-10-31T10:52:06.012260Z"
    }
   },
   "outputs": [],
   "source": [
    "from src.preproc import UserReferenceProcessor"
   ]
  },
  {
   "cell_type": "code",
   "execution_count": 7,
   "id": "98934c59",
   "metadata": {
    "ExecuteTime": {
     "end_time": "2021-10-31T10:52:12.057457Z",
     "start_time": "2021-10-31T10:52:11.992738Z"
    }
   },
   "outputs": [
    {
     "ename": "TypeError",
     "evalue": "_extract() missing 1 required positional argument: 'pattern'",
     "output_type": "error",
     "traceback": [
      "\u001b[0;31m---------------------------------------------------------------------------\u001b[0m",
      "\u001b[0;31mTypeError\u001b[0m                                 Traceback (most recent call last)",
      "\u001b[0;32m/tmp/ipykernel_76176/3417804553.py\u001b[0m in \u001b[0;36m<module>\u001b[0;34m\u001b[0m\n\u001b[0;32m----> 1\u001b[0;31m \u001b[0mUserReferenceProcessor\u001b[0m\u001b[0;34m(\u001b[0m\u001b[0;34m)\u001b[0m\u001b[0;34m.\u001b[0m\u001b[0mfit_transform\u001b[0m\u001b[0;34m(\u001b[0m\u001b[0mdata\u001b[0m\u001b[0;34m[\u001b[0m\u001b[0;34m'text'\u001b[0m\u001b[0;34m]\u001b[0m\u001b[0;34m)\u001b[0m\u001b[0;34m\u001b[0m\u001b[0;34m\u001b[0m\u001b[0m\n\u001b[0m",
      "\u001b[0;32m~/Pulpit/pyProj/gensim/venv/lib/python3.8/site-packages/sklearn/base.py\u001b[0m in \u001b[0;36mfit_transform\u001b[0;34m(self, X, y, **fit_params)\u001b[0m\n\u001b[1;32m    842\u001b[0m         \u001b[0;32mif\u001b[0m \u001b[0my\u001b[0m \u001b[0;32mis\u001b[0m \u001b[0;32mNone\u001b[0m\u001b[0;34m:\u001b[0m\u001b[0;34m\u001b[0m\u001b[0;34m\u001b[0m\u001b[0m\n\u001b[1;32m    843\u001b[0m             \u001b[0;31m# fit method of arity 1 (unsupervised transformation)\u001b[0m\u001b[0;34m\u001b[0m\u001b[0;34m\u001b[0m\u001b[0;34m\u001b[0m\u001b[0m\n\u001b[0;32m--> 844\u001b[0;31m             \u001b[0;32mreturn\u001b[0m \u001b[0mself\u001b[0m\u001b[0;34m.\u001b[0m\u001b[0mfit\u001b[0m\u001b[0;34m(\u001b[0m\u001b[0mX\u001b[0m\u001b[0;34m,\u001b[0m \u001b[0;34m**\u001b[0m\u001b[0mfit_params\u001b[0m\u001b[0;34m)\u001b[0m\u001b[0;34m.\u001b[0m\u001b[0mtransform\u001b[0m\u001b[0;34m(\u001b[0m\u001b[0mX\u001b[0m\u001b[0;34m)\u001b[0m\u001b[0;34m\u001b[0m\u001b[0;34m\u001b[0m\u001b[0m\n\u001b[0m\u001b[1;32m    845\u001b[0m         \u001b[0;32melse\u001b[0m\u001b[0;34m:\u001b[0m\u001b[0;34m\u001b[0m\u001b[0;34m\u001b[0m\u001b[0m\n\u001b[1;32m    846\u001b[0m             \u001b[0;31m# fit method of arity 2 (supervised transformation)\u001b[0m\u001b[0;34m\u001b[0m\u001b[0;34m\u001b[0m\u001b[0;34m\u001b[0m\u001b[0m\n",
      "\u001b[0;32m~/Pulpit/pyProj/gensim/src/preproc.py\u001b[0m in \u001b[0;36mtransform\u001b[0;34m(self, docs)\u001b[0m\n\u001b[1;32m    158\u001b[0m \u001b[0;34m\u001b[0m\u001b[0m\n\u001b[1;32m    159\u001b[0m     \u001b[0;32mdef\u001b[0m \u001b[0mtransform\u001b[0m\u001b[0;34m(\u001b[0m\u001b[0mself\u001b[0m\u001b[0;34m,\u001b[0m \u001b[0mdocs\u001b[0m\u001b[0;34m:\u001b[0m \u001b[0mSequence\u001b[0m\u001b[0;34m[\u001b[0m\u001b[0mstr\u001b[0m\u001b[0;34m]\u001b[0m\u001b[0;34m)\u001b[0m \u001b[0;34m->\u001b[0m \u001b[0mpd\u001b[0m\u001b[0;34m.\u001b[0m\u001b[0mDataFrame\u001b[0m\u001b[0;34m:\u001b[0m\u001b[0;34m\u001b[0m\u001b[0;34m\u001b[0m\u001b[0m\n\u001b[0;32m--> 160\u001b[0;31m         \u001b[0mextracted\u001b[0m \u001b[0;34m=\u001b[0m \u001b[0mdocs\u001b[0m\u001b[0;34m.\u001b[0m\u001b[0mapply\u001b[0m\u001b[0;34m(\u001b[0m\u001b[0mself\u001b[0m\u001b[0;34m.\u001b[0m\u001b[0m_extract\u001b[0m\u001b[0;34m)\u001b[0m\u001b[0;34m\u001b[0m\u001b[0;34m\u001b[0m\u001b[0m\n\u001b[0m\u001b[1;32m    161\u001b[0m         \u001b[0mself\u001b[0m\u001b[0;34m.\u001b[0m\u001b[0mstrategy\u001b[0m\u001b[0;34m\u001b[0m\u001b[0;34m\u001b[0m\u001b[0m\n\u001b[1;32m    162\u001b[0m         \u001b[0;32mreturn\u001b[0m \u001b[0mextracted\u001b[0m\u001b[0;34m\u001b[0m\u001b[0;34m\u001b[0m\u001b[0m\n",
      "\u001b[0;32m~/Pulpit/pyProj/gensim/venv/lib/python3.8/site-packages/pandas/core/series.py\u001b[0m in \u001b[0;36mapply\u001b[0;34m(self, func, convert_dtype, args, **kwargs)\u001b[0m\n\u001b[1;32m   4355\u001b[0m         \u001b[0mdtype\u001b[0m\u001b[0;34m:\u001b[0m \u001b[0mfloat64\u001b[0m\u001b[0;34m\u001b[0m\u001b[0;34m\u001b[0m\u001b[0m\n\u001b[1;32m   4356\u001b[0m         \"\"\"\n\u001b[0;32m-> 4357\u001b[0;31m         \u001b[0;32mreturn\u001b[0m \u001b[0mSeriesApply\u001b[0m\u001b[0;34m(\u001b[0m\u001b[0mself\u001b[0m\u001b[0;34m,\u001b[0m \u001b[0mfunc\u001b[0m\u001b[0;34m,\u001b[0m \u001b[0mconvert_dtype\u001b[0m\u001b[0;34m,\u001b[0m \u001b[0margs\u001b[0m\u001b[0;34m,\u001b[0m \u001b[0mkwargs\u001b[0m\u001b[0;34m)\u001b[0m\u001b[0;34m.\u001b[0m\u001b[0mapply\u001b[0m\u001b[0;34m(\u001b[0m\u001b[0;34m)\u001b[0m\u001b[0;34m\u001b[0m\u001b[0;34m\u001b[0m\u001b[0m\n\u001b[0m\u001b[1;32m   4358\u001b[0m \u001b[0;34m\u001b[0m\u001b[0m\n\u001b[1;32m   4359\u001b[0m     def _reduce(\n",
      "\u001b[0;32m~/Pulpit/pyProj/gensim/venv/lib/python3.8/site-packages/pandas/core/apply.py\u001b[0m in \u001b[0;36mapply\u001b[0;34m(self)\u001b[0m\n\u001b[1;32m   1041\u001b[0m             \u001b[0;32mreturn\u001b[0m \u001b[0mself\u001b[0m\u001b[0;34m.\u001b[0m\u001b[0mapply_str\u001b[0m\u001b[0;34m(\u001b[0m\u001b[0;34m)\u001b[0m\u001b[0;34m\u001b[0m\u001b[0;34m\u001b[0m\u001b[0m\n\u001b[1;32m   1042\u001b[0m \u001b[0;34m\u001b[0m\u001b[0m\n\u001b[0;32m-> 1043\u001b[0;31m         \u001b[0;32mreturn\u001b[0m \u001b[0mself\u001b[0m\u001b[0;34m.\u001b[0m\u001b[0mapply_standard\u001b[0m\u001b[0;34m(\u001b[0m\u001b[0;34m)\u001b[0m\u001b[0;34m\u001b[0m\u001b[0;34m\u001b[0m\u001b[0m\n\u001b[0m\u001b[1;32m   1044\u001b[0m \u001b[0;34m\u001b[0m\u001b[0m\n\u001b[1;32m   1045\u001b[0m     \u001b[0;32mdef\u001b[0m \u001b[0magg\u001b[0m\u001b[0;34m(\u001b[0m\u001b[0mself\u001b[0m\u001b[0;34m)\u001b[0m\u001b[0;34m:\u001b[0m\u001b[0;34m\u001b[0m\u001b[0;34m\u001b[0m\u001b[0m\n",
      "\u001b[0;32m~/Pulpit/pyProj/gensim/venv/lib/python3.8/site-packages/pandas/core/apply.py\u001b[0m in \u001b[0;36mapply_standard\u001b[0;34m(self)\u001b[0m\n\u001b[1;32m   1096\u001b[0m                 \u001b[0;31m# List[Union[Callable[..., Any], str]]]]]\"; expected\u001b[0m\u001b[0;34m\u001b[0m\u001b[0;34m\u001b[0m\u001b[0;34m\u001b[0m\u001b[0m\n\u001b[1;32m   1097\u001b[0m                 \u001b[0;31m# \"Callable[[Any], Any]\"\u001b[0m\u001b[0;34m\u001b[0m\u001b[0;34m\u001b[0m\u001b[0;34m\u001b[0m\u001b[0m\n\u001b[0;32m-> 1098\u001b[0;31m                 mapped = lib.map_infer(\n\u001b[0m\u001b[1;32m   1099\u001b[0m                     \u001b[0mvalues\u001b[0m\u001b[0;34m,\u001b[0m\u001b[0;34m\u001b[0m\u001b[0;34m\u001b[0m\u001b[0m\n\u001b[1;32m   1100\u001b[0m                     \u001b[0mf\u001b[0m\u001b[0;34m,\u001b[0m  \u001b[0;31m# type: ignore[arg-type]\u001b[0m\u001b[0;34m\u001b[0m\u001b[0;34m\u001b[0m\u001b[0m\n",
      "\u001b[0;32m~/Pulpit/pyProj/gensim/venv/lib/python3.8/site-packages/pandas/_libs/lib.pyx\u001b[0m in \u001b[0;36mpandas._libs.lib.map_infer\u001b[0;34m()\u001b[0m\n",
      "\u001b[0;31mTypeError\u001b[0m: _extract() missing 1 required positional argument: 'pattern'"
     ]
    }
   ],
   "source": [
    "UserReferenceProcessor().fit_transform(data['text'])"
   ]
  },
  {
   "cell_type": "code",
   "execution_count": null,
   "id": "fa16561b",
   "metadata": {},
   "outputs": [],
   "source": []
  },
  {
   "cell_type": "code",
   "execution_count": null,
   "id": "02fe2e65",
   "metadata": {},
   "outputs": [],
   "source": []
  },
  {
   "cell_type": "code",
   "execution_count": null,
   "id": "eac531b3",
   "metadata": {},
   "outputs": [],
   "source": []
  },
  {
   "cell_type": "code",
   "execution_count": 226,
   "id": "2d1ef57c",
   "metadata": {
    "ExecuteTime": {
     "end_time": "2021-10-27T23:58:52.712555Z",
     "start_time": "2021-10-27T23:58:52.697122Z"
    }
   },
   "outputs": [
    {
     "data": {
      "text/plain": [
       "(1, 1, 1, 1, 1, 1)"
      ]
     },
     "execution_count": 226,
     "metadata": {},
     "output_type": "execute_result"
    }
   ],
   "source": [
    "data"
   ]
  },
  {
   "cell_type": "markdown",
   "id": "b45e1cc6",
   "metadata": {},
   "source": [
    "## lettes dict"
   ]
  },
  {
   "cell_type": "code",
   "execution_count": 8,
   "id": "5f2c9f28",
   "metadata": {
    "ExecuteTime": {
     "end_time": "2021-10-24T22:08:05.430018Z",
     "start_time": "2021-10-24T22:07:59.716559Z"
    }
   },
   "outputs": [],
   "source": [
    "from collections import Counter\n",
    "\n",
    "def count_chars(s, chars):\n",
    "    counter = Counter(s)\n",
    "    return {c : counter.get(c,0) for c in chars}\n",
    "\n",
    "letters_dict = Counter([c for s in data['desc'] for c in s])"
   ]
  },
  {
   "cell_type": "code",
   "execution_count": 9,
   "id": "243010cf",
   "metadata": {
    "ExecuteTime": {
     "end_time": "2021-10-24T22:08:06.191402Z",
     "start_time": "2021-10-24T22:08:06.155668Z"
    }
   },
   "outputs": [
    {
     "data": {
      "text/plain": [
       "[(' ', 11269150),\n",
       " ('a', 6918402),\n",
       " ('e', 5827493),\n",
       " ('o', 5432923),\n",
       " ('i', 4519406),\n",
       " ('z', 4060100),\n",
       " ('n', 3448487),\n",
       " ('s', 3133460),\n",
       " ('r', 2971734),\n",
       " ('k', 2774425),\n",
       " ('y', 2761594),\n",
       " ('w', 2572928),\n",
       " ('t', 2412194),\n",
       " ('p', 2306489),\n",
       " ('m', 2204999),\n",
       " ('c', 2117288),\n",
       " ('d', 2068713),\n",
       " ('l', 1826311),\n",
       " ('b', 1633695),\n",
       " ('u', 1422661),\n",
       " ('j', 1374134),\n",
       " ('.', 1076430),\n",
       " ('ł', 1008407),\n",
       " (',', 807210),\n",
       " ('g', 713406),\n",
       " ('ó', 465146),\n",
       " ('ę', 448375),\n",
       " ('ż', 416814),\n",
       " ('P', 367068),\n",
       " ('ą', 360837),\n",
       " ('h', 338778),\n",
       " ('S', 288760),\n",
       " ('!', 278291),\n",
       " ('ś', 273548),\n",
       " ('f', 228596),\n",
       " ('\\r', 219740),\n",
       " ('ć', 212443),\n",
       " ('B', 174693),\n",
       " ('A', 170350),\n",
       " ('W', 166578),\n",
       " ('O', 155386),\n",
       " ('D', 154107),\n",
       " ('T', 147638),\n",
       " ('Z', 133755),\n",
       " ('J', 133418),\n",
       " ('E', 132228),\n",
       " ('N', 122486),\n",
       " ('K', 104327),\n",
       " ('\\n', 104190),\n",
       " ('M', 102931),\n",
       " (')', 99456),\n",
       " ('C', 95883),\n",
       " ('I', 91000),\n",
       " ('-', 84443),\n",
       " ('0', 83453),\n",
       " ('R', 82176),\n",
       " (':', 75159),\n",
       " ('L', 61472),\n",
       " ('ń', 60901),\n",
       " ('1', 58551),\n",
       " ('G', 48068),\n",
       " ('Y', 40786),\n",
       " ('U', 37733),\n",
       " ('2', 36969),\n",
       " ('(', 25202),\n",
       " ('3', 21357),\n",
       " ('x', 20027),\n",
       " ('\"', 19904),\n",
       " ('%', 18506),\n",
       " ('Ś', 18219),\n",
       " ('ź', 17940),\n",
       " ('4', 17217),\n",
       " ('5', 17128),\n",
       " ('F', 15741),\n",
       " ('H', 15735),\n",
       " ('Ł', 15150),\n",
       " (';', 13097),\n",
       " ('?', 11344),\n",
       " ('Ż', 10273),\n",
       " ('6', 9644),\n",
       " ('9', 9274),\n",
       " ('8', 8372),\n",
       " ('7', 7918),\n",
       " ('X', 6848),\n",
       " ('Ę', 6120),\n",
       " ('v', 6039),\n",
       " ('\\xa0', 5411),\n",
       " ('/', 5268),\n",
       " ('Ą', 5199),\n",
       " ('Ó', 4792),\n",
       " ('V', 3828),\n",
       " ('Ć', 3362),\n",
       " ('+', 3240),\n",
       " (\"'\", 2008),\n",
       " ('…', 1991),\n",
       " ('_', 1963),\n",
       " ('\\\\', 1629),\n",
       " ('*', 1152),\n",
       " ('=', 1044),\n",
       " ('\\u3000', 925),\n",
       " (']', 794),\n",
       " ('Ń', 730),\n",
       " ('☺', 688),\n",
       " ('>', 685),\n",
       " ('q', 674),\n",
       " ('[', 600),\n",
       " ('@', 530),\n",
       " ('о', 524),\n",
       " ('–', 445),\n",
       " ('е', 413),\n",
       " ('Q', 402),\n",
       " ('а', 398),\n",
       " ('\\xad', 395),\n",
       " ('и', 378),\n",
       " ('”', 375),\n",
       " ('т', 370),\n",
       " ('„', 355),\n",
       " ('Ź', 308),\n",
       " ('н', 304),\n",
       " ('в', 261),\n",
       " ('ò', 257),\n",
       " ('р', 254),\n",
       " ('\\t', 250),\n",
       " ('с', 242),\n",
       " ('к', 211),\n",
       " ('^', 205),\n",
       " ('л', 205),\n",
       " ('ʖ', 200),\n",
       " ('~', 195),\n",
       " ('卐', 168),\n",
       " ('д', 161),\n",
       " ('м', 149),\n",
       " ('у', 131),\n",
       " ('п', 125),\n",
       " ('|', 121),\n",
       " ('&', 117),\n",
       " ('я', 114),\n",
       " ('<', 102),\n",
       " ('ы', 101),\n",
       " ('б', 99),\n",
       " ('ь', 96),\n",
       " ('`', 93),\n",
       " ('ч', 83),\n",
       " ('з', 81),\n",
       " ('$', 78),\n",
       " ('️', 76),\n",
       " ('ノ', 71),\n",
       " ('х', 69),\n",
       " ('ヽ', 64),\n",
       " ('é', 63),\n",
       " ('ゝ', 61),\n",
       " ('}', 60),\n",
       " ('ö', 59),\n",
       " ('й', 56),\n",
       " ('ل', 49),\n",
       " ('❤', 48),\n",
       " ('і', 47),\n",
       " ('ا', 46),\n",
       " ('г', 45),\n",
       " ('ж', 43),\n",
       " ('ü', 42),\n",
       " ('á', 42),\n",
       " ('ш', 41),\n",
       " ('{', 40),\n",
       " ('ｓ', 39),\n",
       " ('à', 37),\n",
       " ('#', 36),\n",
       " ('ر', 36),\n",
       " ('ｆ', 35),\n",
       " ('ю', 33),\n",
       " ('ц', 33),\n",
       " ('ｊ', 33),\n",
       " ('ن', 31),\n",
       " ('Б', 29),\n",
       " ('э', 29),\n",
       " ('А', 29),\n",
       " ('ä', 28),\n",
       " ('و', 28),\n",
       " ('ᶦ', 28),\n",
       " ('—', 27),\n",
       " ('П', 26),\n",
       " ('“', 25),\n",
       " ('ｄ', 25),\n",
       " ('ｈ', 25),\n",
       " ('ø', 24),\n",
       " ('ｇ', 24),\n",
       " ('ｌ', 23),\n",
       " ('ı', 22),\n",
       " ('ｎ', 22),\n",
       " ('Д', 21),\n",
       " ('è', 21),\n",
       " ('ة', 21),\n",
       " ('í', 20),\n",
       " ('•', 20),\n",
       " ('ž', 20),\n",
       " ('ಠ', 20),\n",
       " ('С', 19),\n",
       " ('К', 19),\n",
       " ('م', 19),\n",
       " ('В', 18),\n",
       " ('У', 18),\n",
       " ('š', 17),\n",
       " ('°', 17),\n",
       " ('’', 17),\n",
       " ('ｍ', 17),\n",
       " ('ĺ', 16),\n",
       " ('щ', 16),\n",
       " ('س', 16),\n",
       " ('ي', 16),\n",
       " ('ب', 16),\n",
       " ('อ', 16),\n",
       " ('ｔ', 16),\n",
       " ('ｋ', 16),\n",
       " ('ᵉ', 16),\n",
       " ('ᵏ', 16),\n",
       " ('ý', 15),\n",
       " ('М', 15),\n",
       " ('ｂ', 15),\n",
       " ('€', 14),\n",
       " ('Н', 14),\n",
       " ('α', 14),\n",
       " ('ت', 14),\n",
       " ('ง', 14),\n",
       " ('ｚ', 14),\n",
       " ('Р', 13),\n",
       " ('О', 13),\n",
       " ('ع', 13),\n",
       " ('ι', 13),\n",
       " ('ａ', 13),\n",
       " ('♥', 12),\n",
       " ('ß', 12),\n",
       " ('\\u200b', 12),\n",
       " ('า', 12),\n",
       " ('น', 12),\n",
       " ('ｘ', 12),\n",
       " ('ᵘ', 12),\n",
       " ('ї', 12),\n",
       " ('י', 12),\n",
       " ('ì', 11),\n",
       " ('℅', 11),\n",
       " ('ô', 11),\n",
       " ('§', 11),\n",
       " ('î', 11),\n",
       " ('ñ', 11),\n",
       " ('υ', 11),\n",
       " ('×', 11),\n",
       " ('И', 11),\n",
       " ('ق', 11),\n",
       " ('є', 11),\n",
       " ('ค', 11),\n",
       " ('ย', 11),\n",
       " ('ｉ', 11),\n",
       " ('ｕ', 11),\n",
       " ('Л', 11),\n",
       " ('σ', 10),\n",
       " ('\\ufeff', 10),\n",
       " ('ه', 10),\n",
       " ('ف', 10),\n",
       " ('ร', 10),\n",
       " ('ｒ', 10),\n",
       " ('ו', 10),\n",
       " ('З', 9),\n",
       " ('č', 9),\n",
       " ('‘', 9),\n",
       " ('บ', 9),\n",
       " ('ｃ', 9),\n",
       " ('ｅ', 9),\n",
       " ('£', 8),\n",
       " ('Т', 8),\n",
       " ('ф', 8),\n",
       " ('Я', 8),\n",
       " ('͡', 8),\n",
       " ('ك', 8),\n",
       " ('ห', 8),\n",
       " ('ก', 8),\n",
       " ('ǝ', 8),\n",
       " ('Г', 8),\n",
       " ('ಥ', 8),\n",
       " ('ʸ', 8),\n",
       " ('ⁿ', 8),\n",
       " ('ᵖ', 8),\n",
       " ('ᶜ', 8),\n",
       " ('ˡ', 8),\n",
       " ('ᵃ', 8),\n",
       " ('ʷ', 8),\n",
       " ('ˢ', 8),\n",
       " ('ל', 8),\n",
       " ('\\x7f', 7),\n",
       " ('♡', 7),\n",
       " ('ķ', 7),\n",
       " ('¡', 7),\n",
       " ('ρ', 7),\n",
       " ('«', 7),\n",
       " ('ఞ', 7),\n",
       " ('ן', 7),\n",
       " ('つ', 7),\n",
       " ('ｏ', 7),\n",
       " ('ｙ', 7),\n",
       " ('Ы', 7),\n",
       " ('©', 6),\n",
       " ('Е', 6),\n",
       " ('å', 6),\n",
       " ('ŕ', 6),\n",
       " ('ė', 6),\n",
       " ('𝐞', 6),\n",
       " ('أ', 6),\n",
       " ('ح', 6),\n",
       " ('ѕ', 6),\n",
       " ('ℓ', 6),\n",
       " ('ท', 6),\n",
       " ('ป', 6),\n",
       " ('ม', 6),\n",
       " ('ɐ', 6),\n",
       " ('ʍ', 6),\n",
       " ('ｖ', 6),\n",
       " ('𝖓', 6),\n",
       " ('𝖎', 6),\n",
       " ('𝖔', 6),\n",
       " ('𝖆', 6),\n",
       " ('א', 6),\n",
       " ('ё', 5),\n",
       " ('Ø', 5),\n",
       " ('æ', 5),\n",
       " ('Х', 5),\n",
       " ('ā', 5),\n",
       " ('⭐', 5),\n",
       " ('π', 5),\n",
       " ('ν', 5),\n",
       " ('★', 5),\n",
       " ('»', 5),\n",
       " ('Ò', 5),\n",
       " ('آ', 5),\n",
       " ('ٱ', 5),\n",
       " ('ص', 5),\n",
       " ('ج', 5),\n",
       " ('ω', 5),\n",
       " ('ด', 5),\n",
       " ('เ', 5),\n",
       " ('â', 5),\n",
       " ('ç', 5),\n",
       " ('Ш', 5),\n",
       " ('𝖟', 5),\n",
       " ('𝖊', 5),\n",
       " ('ɛ', 5),\n",
       " ('ɑ', 5),\n",
       " ('Δ', 5),\n",
       " ('ī', 4),\n",
       " ('✌', 4),\n",
       " ('➕', 4),\n",
       " ('͜', 4),\n",
       " ('η', 4),\n",
       " ('ε', 4),\n",
       " ('ř', 4),\n",
       " ('đ', 4),\n",
       " ('𝐭', 4),\n",
       " ('𝐨', 4),\n",
       " ('خ', 4),\n",
       " ('ـ', 4),\n",
       " ('ผ', 4),\n",
       " ('ɹ', 4),\n",
       " ('ʇ', 4),\n",
       " ('ｐ', 4),\n",
       " ('ም', 4),\n",
       " ('ን', 4),\n",
       " ('ደ', 4),\n",
       " ('ᴺ', 4),\n",
       " ('ᵍ', 4),\n",
       " ('ᵈ', 4),\n",
       " ('ʲ', 4),\n",
       " ('ᵗ', 4),\n",
       " ('ʳ', 4),\n",
       " ('ʰ', 4),\n",
       " ('ᵐ', 4),\n",
       " ('ʘ', 4),\n",
       " ('𝖘', 4),\n",
       " ('𝖒', 4),\n",
       " ('ヮ', 4),\n",
       " ('な', 4),\n",
       " ('ם', 4),\n",
       " ('ת', 4),\n",
       " ('Ķ', 3),\n",
       " ('ã', 3),\n",
       " ('Ч', 3),\n",
       " ('ť', 3),\n",
       " ('☹', 3),\n",
       " ('÷', 3),\n",
       " ('ù', 3),\n",
       " ('ľ', 3),\n",
       " ('ο', 3),\n",
       " ('κ', 3),\n",
       " ('·', 3),\n",
       " ('ĸ', 3),\n",
       " ('™', 3),\n",
       " ('Ü', 3),\n",
       " ('→', 3),\n",
       " ('𝐫', 3),\n",
       " ('ى', 3),\n",
       " ('د', 3),\n",
       " ('ไ', 3),\n",
       " ('ส', 3),\n",
       " ('ข', 3),\n",
       " ('ɔ', 3),\n",
       " ('二', 3),\n",
       " ('ŝ', 3),\n",
       " ('Й', 3),\n",
       " ('ﾟ', 3),\n",
       " ('の', 3),\n",
       " ('ለ', 3),\n",
       " ('ል', 3),\n",
       " ('𝖉', 3),\n",
       " ('𝖞', 3),\n",
       " ('𝖌', 3),\n",
       " ('ě', 3),\n",
       " ('い', 3),\n",
       " ('う', 3),\n",
       " ('ツ', 3),\n",
       " ('ה', 3),\n",
       " ('ז', 3),\n",
       " ('נ', 3),\n",
       " ('מ', 3),\n",
       " ('ʝ', 3),\n",
       " ('ѳ', 3),\n",
       " ('Ҝ', 3),\n",
       " ('Ψ', 3),\n",
       " ('Ω', 3),\n",
       " ('\\uf04a', 2),\n",
       " ('Ж', 2),\n",
       " ('ú', 2),\n",
       " ('γ', 2),\n",
       " ('ή', 2),\n",
       " ('έ', 2),\n",
       " ('τ', 2),\n",
       " ('λ', 2),\n",
       " ('ᶏ', 2),\n",
       " ('œ', 2),\n",
       " ('、', 2),\n",
       " ('ō', 2),\n",
       " ('☆', 2),\n",
       " ('\\u202a', 2),\n",
       " ('\\u200e', 2),\n",
       " ('\\u202c', 2),\n",
       " ('ģ', 2),\n",
       " ('¨', 2),\n",
       " ('´', 2),\n",
       " ('―', 2),\n",
       " ('𝐧', 2),\n",
       " ('𝐟', 2),\n",
       " ('ఝ', 2),\n",
       " ('ట', 2),\n",
       " ('ఠ', 2),\n",
       " ('ఛ', 2),\n",
       " ('Ì', 2),\n",
       " ('ะ', 2),\n",
       " ('ณ', 2),\n",
       " ('ᕗ', 2),\n",
       " ('ɾ', 2),\n",
       " ('ɯ', 2),\n",
       " ('Ä', 2),\n",
       " ('我', 2),\n",
       " ('Ｙ', 2),\n",
       " ('口', 2),\n",
       " ('ｗ', 2),\n",
       " ('謝', 2),\n",
       " ('ತ', 2),\n",
       " ('ū', 2),\n",
       " ('ሰ', 2),\n",
       " ('እ', 2),\n",
       " ('አ', 2),\n",
       " ('ማ', 2),\n",
       " ('ገ', 2),\n",
       " ('づ', 2),\n",
       " ('ʞ', 2),\n",
       " ('ፈ', 2),\n",
       " ('ጀ', 2),\n",
       " ('ሀ', 2),\n",
       " ('ከ', 2),\n",
       " ('𝖚', 2),\n",
       " ('𝖏', 2),\n",
       " ('ㅠ', 2),\n",
       " ('人', 2),\n",
       " ('것', 2),\n",
       " ('私', 2),\n",
       " ('は', 2),\n",
       " ('を', 2),\n",
       " ('っ', 2),\n",
       " ('て', 2),\n",
       " ('が', 2),\n",
       " ('彼', 2),\n",
       " ('女', 2),\n",
       " ('φ', 2),\n",
       " ('一', 2),\n",
       " ('É', 2),\n",
       " ('Š', 2),\n",
       " ('ϟ', 2),\n",
       " ('Ď', 2),\n",
       " ('ש', 2),\n",
       " ('פ', 2),\n",
       " ('ח', 2),\n",
       " ('ר', 2),\n",
       " ('个', 2),\n",
       " ('ɳ', 2),\n",
       " ('ɱ', 2),\n",
       " ('ʆ', 2),\n",
       " ('ﾉ', 2),\n",
       " ('º', 2),\n",
       " ('ψ', 2),\n",
       " ('ʹ', 2),\n",
       " ('õ', 1),\n",
       " ('Ĺ', 1),\n",
       " ('ξ', 1),\n",
       " ('ύ', 1),\n",
       " ('ά', 1),\n",
       " ('μ', 1),\n",
       " ('ϊ', 1),\n",
       " ('ό', 1),\n",
       " ('¶', 1),\n",
       " ('❗', 1),\n",
       " ('♣', 1),\n",
       " ('✔', 1),\n",
       " ('Ŝ', 1),\n",
       " ('¿', 1),\n",
       " ('\\uf04c', 1),\n",
       " ('µ', 1),\n",
       " ('ð', 1),\n",
       " ('∑', 1),\n",
       " ('³', 1),\n",
       " ('⏰', 1),\n",
       " ('ŋ', 1),\n",
       " ('₩', 1),\n",
       " ('\\uf0a7', 1),\n",
       " ('Ľ', 1),\n",
       " ('☞', 1),\n",
       " ('ဠ', 1),\n",
       " ('№', 1),\n",
       " ('》', 1),\n",
       " ('𝐄', 1),\n",
       " ('𝐡', 1),\n",
       " ('𝐜', 1),\n",
       " ('𝐝', 1),\n",
       " ('𝐠', 1),\n",
       " ('𝟓', 1),\n",
       " ('𝟎', 1),\n",
       " ('Ö', 1),\n",
       " ('إ', 1),\n",
       " ('ء', 1),\n",
       " ('ٲ', 1),\n",
       " ('ہ', 1),\n",
       " ('ۦ', 1),\n",
       " ('ş', 1),\n",
       " ('చ', 1),\n",
       " ('ғ', 1),\n",
       " ('ถ', 1),\n",
       " ('แ', 1),\n",
       " ('ใ', 1),\n",
       " ('ภ', 1),\n",
       " ('Ŕ', 1),\n",
       " ('ว', 1),\n",
       " ('จ', 1),\n",
       " ('โ', 1),\n",
       " ('ษ', 1),\n",
       " ('ᕕ', 1),\n",
       " ('ᐛ', 1),\n",
       " ('ƃ', 1),\n",
       " ('ʎ', 1),\n",
       " ('上', 1),\n",
       " ('帝', 1),\n",
       " ('的', 1),\n",
       " ('母', 1),\n",
       " ('親', 1),\n",
       " ('想', 1),\n",
       " ('開', 1),\n",
       " ('始', 1),\n",
       " ('說', 1),\n",
       " ('中', 1),\n",
       " ('國', 1),\n",
       " ('話', 1),\n",
       " ('ﾖ', 1),\n",
       " ('ă', 1),\n",
       " ('ï', 1),\n",
       " ('Ь', 1),\n",
       " ('Ž', 1),\n",
       " ('ಎ', 1),\n",
       " ('ᗝ', 1),\n",
       " ('ዎ', 1),\n",
       " ('ች', 1),\n",
       " ('ኔ', 1),\n",
       " ('ኝ', 1),\n",
       " ('ክ', 1),\n",
       " ('ያ', 1),\n",
       " ('ቱ', 1),\n",
       " ('ወ', 1),\n",
       " ('ጎ', 1),\n",
       " ('ጥ', 1),\n",
       " ('ና', 1),\n",
       " ('ት', 1),\n",
       " ('ኛ', 1),\n",
       " ('ᖗ', 1),\n",
       " ('ᖘ', 1),\n",
       " ('Č', 1),\n",
       " ('ዱ', 1),\n",
       " ('ቸ', 1),\n",
       " ('ዳ', 1),\n",
       " ('ነ', 1),\n",
       " ('በ', 1),\n",
       " ('ፋ', 1),\n",
       " ('ሱ', 1),\n",
       " ('ካ', 1),\n",
       " ('ز', 1),\n",
       " ('ض', 1),\n",
       " ('𝖂', 1),\n",
       " ('𝖋', 1),\n",
       " ('𝖈', 1),\n",
       " ('𝖑', 1),\n",
       " ('𝖍', 1),\n",
       " ('𝖗', 1),\n",
       " ('𝖜', 1),\n",
       " ('ů', 1),\n",
       " ('내', 1),\n",
       " ('가', 1),\n",
       " ('그', 1),\n",
       " ('을', 1),\n",
       " ('보', 1),\n",
       " ('고', 1),\n",
       " ('나', 1),\n",
       " ('는', 1),\n",
       " ('당', 1),\n",
       " ('신', 1),\n",
       " ('이', 1),\n",
       " ('폭', 1),\n",
       " ('격', 1),\n",
       " ('할', 1),\n",
       " ('입', 1),\n",
       " ('니', 1),\n",
       " ('다', 1),\n",
       " ('Ｉ', 1),\n",
       " ('迅', 1),\n",
       " ('速', 1),\n",
       " ('軽', 1),\n",
       " ('快', 1),\n",
       " ('指', 1),\n",
       " ('持', 1),\n",
       " ('る', 1),\n",
       " ('フ', 1),\n",
       " ('ク', 1),\n",
       " ('ロ', 1),\n",
       " ('ウ', 1),\n",
       " ('で', 1),\n",
       " ('入', 1),\n",
       " ('れ', 1),\n",
       " ('だ', 1),\n",
       " ('ろ', 1),\n",
       " ('È', 1),\n",
       " ('χ', 1),\n",
       " ('ί', 1),\n",
       " ('ζ', 1),\n",
       " ('ē', 1),\n",
       " ('ᕙ', 1),\n",
       " ('不', 1),\n",
       " ('是', 1),\n",
       " ('因', 1),\n",
       " ('為', 1),\n",
       " ('你', 1),\n",
       " ('把', 1),\n",
       " ('隻', 1),\n",
       " ('貓', 1),\n",
       " ('採', 1),\n",
       " ('取', 1),\n",
       " ('關', 1),\n",
       " ('注', 1),\n",
       " ('Ｕ', 1),\n",
       " ('ד', 1),\n",
       " ('ט', 1),\n",
       " ('ב', 1),\n",
       " ('כ', 1),\n",
       " ('ס', 1),\n",
       " ('ɦ', 1),\n",
       " ('ɓ', 1),\n",
       " ('ê', 1),\n",
       " ('Σ', 1),\n",
       " ('Π', 1),\n",
       " ('β', 1),\n",
       " ('あ', 1),\n",
       " ('り', 1),\n",
       " ('と', 1),\n",
       " ('さ', 1),\n",
       " ('よ', 1),\n",
       " ('ら', 1),\n",
       " ('À', 1),\n",
       " ('Â', 1),\n",
       " ('๑', 1),\n",
       " ('ᴗ', 1),\n",
       " ('ゞ', 1),\n",
       " ('ק', 1),\n",
       " ('û', 1),\n",
       " ('غ', 1),\n",
       " ('ط', 1)]"
      ]
     },
     "execution_count": 9,
     "metadata": {},
     "output_type": "execute_result"
    }
   ],
   "source": [
    "sorted(letters_dict.items(), key=lambda i: i[1], reverse=True)"
   ]
  },
  {
   "cell_type": "code",
   "execution_count": null,
   "id": "0953ba94",
   "metadata": {},
   "outputs": [],
   "source": [
    "# todo: \\r, \\n, \\xa0 to space"
   ]
  },
  {
   "cell_type": "markdown",
   "id": "51aab449",
   "metadata": {},
   "source": [
    "## filter alpha num and punctuation"
   ]
  },
  {
   "cell_type": "code",
   "execution_count": 49,
   "id": "4421712c",
   "metadata": {
    "ExecuteTime": {
     "end_time": "2021-10-27T20:46:06.389540Z",
     "start_time": "2021-10-27T20:46:06.375503Z"
    }
   },
   "outputs": [],
   "source": [
    "a = '257 najlepszy moment ψψ'\n",
    "b = 'اغلاق الكلبة العربي يمارس الجنس مع ما يصل'\n",
    "c = \"stara ''sowiecka szkola'' zaczynam sie zastanawiac czy mozna by ich legalnie zdelegalizowac ?\"\n",
    "d = 'Dobrze. Szkoda, że InPost nie precyzuje co oznacza, że dostarcza przesyłkę \"OD RANA\"'\n",
    "e = '  asd  asd  '\n",
    "f = 'łączńie ćma grzegżźółka'\n",
    "g = 'Bardzo przyjazny klientom sklep. \\\\Realizuje, wszystkie zamówienai: takie - takie '\n",
    "h = 'Szanowni Państwo, ODRADZAM !!!\\r\\r\\r\\n\\r\\r\\r\\n'\n",
    "i = 'Szanowni Państwo,\\r\\r\\r\\n\\r\\r\\r\\n ODRADZAM !!!'\n",
    "j = 'what???????!!!!!!!!!'\n",
    "\n",
    "tt = [a,b,c,d,e,f,g,h,i,j]"
   ]
  },
  {
   "cell_type": "code",
   "execution_count": 25,
   "id": "0fb8cb0e",
   "metadata": {
    "ExecuteTime": {
     "end_time": "2021-10-24T22:15:40.325398Z",
     "start_time": "2021-10-24T22:15:40.310214Z"
    }
   },
   "outputs": [
    {
     "name": "stdout",
     "output_type": "stream",
     "text": [
      "len: 20|257 najlepszy moment|\n",
      "len: 0||\n",
      "len: 93|stara ''sowiecka szkola'' zaczynam sie zastanawiac czy mozna by ich legalnie zdelegalizowac ?|\n",
      "len: 84|Dobrze. Szkoda, że InPost nie precyzuje co oznacza, że dostarcza przesyłkę \"OD RANA\"|\n",
      "len: 7|asd asd|\n",
      "len: 23|łączńie ćma grzegżźółka|\n",
      "len: 78|Bardzo przyjazny klientom sklep. Realizuje, wszystkie zamówienai takie - takie|\n",
      "len: 30|Szanowni Państwo, ODRADZAM !!!|\n",
      "len: 30|Szanowni Państwo, ODRADZAM !!!|\n",
      "len: 20|what???????!!!!!!!!!|\n"
     ]
    }
   ],
   "source": [
    "\n",
    "\n",
    "for s in tt:\n",
    "    c = re.sub(special, ' ', s)\n",
    "    c = re.sub(alpha, '', c)\n",
    "    c = re.sub('\\s+', ' ', c)\n",
    "    c = c.strip()\n",
    "    print(f\"len: {len(c)}|{c}|\")"
   ]
  },
  {
   "cell_type": "markdown",
   "id": "303a0459",
   "metadata": {},
   "source": [
    "## frequency of tokens"
   ]
  },
  {
   "cell_type": "code",
   "execution_count": 38,
   "id": "6ec02150",
   "metadata": {
    "ExecuteTime": {
     "end_time": "2021-10-26T21:52:12.889952Z",
     "start_time": "2021-10-26T21:52:12.877816Z"
    }
   },
   "outputs": [],
   "source": [
    "from collections import defaultdict"
   ]
  },
  {
   "cell_type": "code",
   "execution_count": 39,
   "id": "a7c95e09",
   "metadata": {
    "ExecuteTime": {
     "end_time": "2021-10-26T21:52:16.263266Z",
     "start_time": "2021-10-26T21:52:13.336799Z"
    }
   },
   "outputs": [],
   "source": [
    "frequency = defaultdict(int)\n",
    "for text in data['tokens']:\n",
    "    for token in text:\n",
    "        frequency[token] += 1"
   ]
  },
  {
   "cell_type": "code",
   "execution_count": 40,
   "id": "7e0b45c7",
   "metadata": {
    "ExecuteTime": {
     "end_time": "2021-10-26T21:52:20.432123Z",
     "start_time": "2021-10-26T21:52:20.359681Z"
    }
   },
   "outputs": [
    {
     "data": {
      "text/plain": [
       "defaultdict(int,\n",
       "            {'polecam': 315905,\n",
       "             'nie': 172775,\n",
       "             'pierwszy': 10598,\n",
       "             'i': 398206,\n",
       "             'ostatni': 3423,\n",
       "             'raz': 28057,\n",
       "             'bardzo': 252797,\n",
       "             'dobra': 28714,\n",
       "             'komunikacja': 3123,\n",
       "             'sms': 2372,\n",
       "             'telefoniczna': 1045,\n",
       "             'zamówiony': 4361,\n",
       "             'towar': 83812,\n",
       "             'wysłany': 1749,\n",
       "             'w': 315221,\n",
       "             'terminie': 4839,\n",
       "             'dobrze': 32991,\n",
       "             'zabezpieczony': 3448,\n",
       "             'ten': 26560,\n",
       "             'sklep': 128962,\n",
       "             'zakupy': 56549,\n",
       "             'tym': 46192,\n",
       "             'sklepie': 41588,\n",
       "             'są': 20369,\n",
       "             'dostępne': 1703,\n",
       "             'części': 5887,\n",
       "             'nawet': 13004,\n",
       "             'do': 93989,\n",
       "             'starszych': 154,\n",
       "             'modeli': 285,\n",
       "             'np': 2586,\n",
       "             'lodówek': 14,\n",
       "             'jestem': 78910,\n",
       "             'pełni': 3115,\n",
       "             'zadowolona': 51508,\n",
       "             'z': 240630,\n",
       "             'przebiegu': 1431,\n",
       "             'transakcji': 5437,\n",
       "             'transakcja': 45102,\n",
       "             'przebiegła': 25507,\n",
       "             'błyskawicznie': 7207,\n",
       "             'pełen': 8577,\n",
       "             'profesjonalizm': 12606,\n",
       "             'wszystkim': 21265,\n",
       "             'obsługa': 95065,\n",
       "             'godna': 4158,\n",
       "             'polecenia': 26495,\n",
       "             'innym': 4241,\n",
       "             'klientom': 679,\n",
       "             'tranzakcja': 1217,\n",
       "             'szybko': 132690,\n",
       "             'bezproblemowo': 14239,\n",
       "             'czas': 20572,\n",
       "             'realizacji': 22097,\n",
       "             'poziom': 2413,\n",
       "             'zapakowania': 1081,\n",
       "             'paczki': 3350,\n",
       "             'wzorcowo': 345,\n",
       "             'wszystko': 114579,\n",
       "             'sprawnie': 80236,\n",
       "             'przebiegała': 371,\n",
       "             'b': 3993,\n",
       "             'produkt': 18203,\n",
       "             'ok': 31697,\n",
       "             'przesyłka': 43729,\n",
       "             'mimo': 5415,\n",
       "             'iż': 1710,\n",
       "             'za': 48569,\n",
       "             'pierwszym': 790,\n",
       "             'razem': 7080,\n",
       "             'odebrałam': 870,\n",
       "             'przesyłki': 12104,\n",
       "             'paczkomatu': 830,\n",
       "             'wróciła': 67,\n",
       "             'ona': 2863,\n",
       "             'sprzedawcy': 1143,\n",
       "             'to': 139799,\n",
       "             'wysłał': 254,\n",
       "             'mi': 22567,\n",
       "             'ponownie': 2670,\n",
       "             'przesyłkę': 5623,\n",
       "             'bez': 62555,\n",
       "             'dodatkowych': 1122,\n",
       "             'opłat': 639,\n",
       "             'p': 2079,\n",
       "             'o': 53872,\n",
       "             'l': 584,\n",
       "             'e': 5300,\n",
       "             'c': 845,\n",
       "             'a': 62856,\n",
       "             'm': 1055,\n",
       "             'dobry': 44991,\n",
       "             'kontakt': 45036,\n",
       "             'ze': 36246,\n",
       "             'sklepem': 5722,\n",
       "             'szybka': 192250,\n",
       "             'wysyłka': 64225,\n",
       "             'następnego': 4859,\n",
       "             'dnia': 9541,\n",
       "             'po': 47569,\n",
       "             'wpłacie': 215,\n",
       "             'miałem': 3181,\n",
       "             'zamawiałem': 1413,\n",
       "             'szybę': 38,\n",
       "             'piekarnika': 127,\n",
       "             'była': 9319,\n",
       "             'dokładnie': 4062,\n",
       "             'zabezpieczona': 3101,\n",
       "             'miło': 3994,\n",
       "             'jak': 111862,\n",
       "             'zdarzy': 62,\n",
       "             'się': 93382,\n",
       "             'błąd': 1023,\n",
       "             'reklamacje': 527,\n",
       "             'załatwiają': 72,\n",
       "             'od': 31796,\n",
       "             'ręki': 1002,\n",
       "             'problemów': 22621,\n",
       "             'pomyślnie': 13298,\n",
       "             'rzetelna': 4580,\n",
       "             'konkretna': 830,\n",
       "             'elastyczna': 51,\n",
       "             'wyrozumiała': 41,\n",
       "             'dla': 24686,\n",
       "             'decyzji': 216,\n",
       "             'kupującego': 381,\n",
       "             'razie': 2938,\n",
       "             'potrzeby': 757,\n",
       "             'będę': 8983,\n",
       "             'tam': 7842,\n",
       "             'wracał': 167,\n",
       "             'zachęcam': 553,\n",
       "             'innych': 6425,\n",
       "             'dostałem': 3278,\n",
       "             'częściach': 67,\n",
       "             'złożenia': 1660,\n",
       "             'jeszcze': 22382,\n",
       "             'wybrakowany': 27,\n",
       "             'miał': 2865,\n",
       "             'być': 13472,\n",
       "             'zawór': 9,\n",
       "             'gotowy': 728,\n",
       "             'montażu': 213,\n",
       "             'reklamacji': 2098,\n",
       "             'obiecano': 105,\n",
       "             'wymianę': 283,\n",
       "             'ciągu': 3841,\n",
       "             'czterech': 158,\n",
       "             'dni': 11831,\n",
       "             'roboczych': 859,\n",
       "             'ale': 41165,\n",
       "             'tak': 36785,\n",
       "             'różowo': 8,\n",
       "             'już': 34291,\n",
       "             'było': 16715,\n",
       "             'czasie': 4462,\n",
       "             'info': 1100,\n",
       "             'że': 59991,\n",
       "             'pomylono': 51,\n",
       "             'znowu': 1361,\n",
       "             'czekam': 1814,\n",
       "             'magiczne': 7,\n",
       "             'cztery': 221,\n",
       "             'robocze': 519,\n",
       "             'tragedia': 514,\n",
       "             'co': 47237,\n",
       "             'mnie': 29082,\n",
       "             'zachwyciło': 3,\n",
       "             'przede': 2789,\n",
       "             'łatwość': 1482,\n",
       "             'wyszukiwaniu': 56,\n",
       "             'produktów': 17723,\n",
       "             'na': 173409,\n",
       "             'stronie': 7162,\n",
       "             'internetowej': 2219,\n",
       "             'mając': 240,\n",
       "             'wcześniej': 3074,\n",
       "             'żadnego': 1591,\n",
       "             'doświadczenia': 213,\n",
       "             'wybieraniu': 16,\n",
       "             'zawiasów': 23,\n",
       "             'zabudowie': 7,\n",
       "             'łatwością': 126,\n",
       "             'wyszukałem': 15,\n",
       "             'dedykowany': 6,\n",
       "             'mojego': 2943,\n",
       "             'sprzętu': 2241,\n",
       "             'nastąpiła': 357,\n",
       "             'dokonaniu': 349,\n",
       "             'przelewu': 519,\n",
       "             'zgodny': 43048,\n",
       "             'opisem': 42400,\n",
       "             'zgodnie': 16797,\n",
       "             'zamówieniem': 20727,\n",
       "             'bezproblemowa': 6895,\n",
       "             'zamówienie': 30467,\n",
       "             'zrealizowane': 11006,\n",
       "             'firma': 5531,\n",
       "             'plus': 5926,\n",
       "             'super': 73526,\n",
       "             'prawidłowo': 1268,\n",
       "             'igły': 21,\n",
       "             'dotarły': 1376,\n",
       "             'dobrej': 9892,\n",
       "             'jakości': 13231,\n",
       "             'zamienniki': 138,\n",
       "             'przystało': 51,\n",
       "             'były': 6461,\n",
       "             'bezpiecznie': 2789,\n",
       "             'zapakowane': 10956,\n",
       "             'więc': 6960,\n",
       "             'mogę': 7191,\n",
       "             'dalej': 3711,\n",
       "             'skreczować': 2,\n",
       "             'pozdrawiam': 10949,\n",
       "             'zrobiona': 156,\n",
       "             'strona': 5299,\n",
       "             'internetowa': 4678,\n",
       "             'łatwo': 2829,\n",
       "             'znaleźć': 2322,\n",
       "             'proces': 999,\n",
       "             'zamówienia': 76376,\n",
       "             'dokonania': 330,\n",
       "             'zapłaty': 847,\n",
       "             'żadnych': 13453,\n",
       "             'terminowe': 177,\n",
       "             'dostarczenie': 1456,\n",
       "             'przez': 16009,\n",
       "             'kuriera': 2529,\n",
       "             'procesjonalnie': 6,\n",
       "             'tanio': 13186,\n",
       "             'każdej': 911,\n",
       "             'postaci': 602,\n",
       "             'zainteresowanym': 535,\n",
       "             'reklamacja': 942,\n",
       "             'rowniez': 413,\n",
       "             'rozpatrzona': 162,\n",
       "             'pozytywnie': 6097,\n",
       "             'profesjonalna': 25470,\n",
       "             'najbardziej': 13035,\n",
       "             'profesjonalnie': 20452,\n",
       "             'przed': 8277,\n",
       "             'zakupem': 800,\n",
       "             'udzielono': 91,\n",
       "             'informacji': 4081,\n",
       "             'czy': 14629,\n",
       "             'płyta': 394,\n",
       "             'zasilania': 15,\n",
       "             'jest': 68724,\n",
       "             'zaprogramowana': 3,\n",
       "             'godny': 21714,\n",
       "             'plecenia': 36,\n",
       "             'błyskawiczna': 30146,\n",
       "             'kupującym': 1061,\n",
       "             'pełna': 2955,\n",
       "             'profeska': 450,\n",
       "             'zadowolony': 16069,\n",
       "             'deklaracją': 97,\n",
       "             'oczekiwaniem': 853,\n",
       "             'potwierdzeniem': 159,\n",
       "             'kupuje': 2602,\n",
       "             'potrzebje': 3,\n",
       "             'zwykle': 13756,\n",
       "             'oryginalne': 1004,\n",
       "             'cenie': 9414,\n",
       "             'wysokim': 3542,\n",
       "             'poziomie': 11184,\n",
       "             'strony': 3861,\n",
       "             'gorąco': 23833,\n",
       "             'zakupu': 11732,\n",
       "             'przebiegło': 7599,\n",
       "             'zarzutu': 8448,\n",
       "             'dotarło': 1402,\n",
       "             'niecały': 30,\n",
       "             'tydzień': 1772,\n",
       "             'tego': 27656,\n",
       "             'pisało': 61,\n",
       "             '2': 10151,\n",
       "             '3': 7874,\n",
       "             'tygodnie': 991,\n",
       "             'miłe': 1057,\n",
       "             'zaskoczenie': 625,\n",
       "             'kontrahenta': 108,\n",
       "             'realizacja': 74926,\n",
       "             'należy': 2629,\n",
       "             'zastrzeżeń': 14929,\n",
       "             'pomyliłem': 74,\n",
       "             'produkty': 19107,\n",
       "             'pozwolono': 15,\n",
       "             'je': 3645,\n",
       "             'wymienić': 370,\n",
       "             'analogicznie': 4,\n",
       "             'ustawy': 172,\n",
       "             'konsumenckiej': 14,\n",
       "             'zakup': 16756,\n",
       "             'działalność': 149,\n",
       "             'gospodarczą': 17,\n",
       "             'elastyczne': 71,\n",
       "             'podejście': 4731,\n",
       "             'sprawna': 22672,\n",
       "             'dośc': 48,\n",
       "             'długo': 2804,\n",
       "             'czekałem': 934,\n",
       "             'żaden': 511,\n",
       "             'sposób': 4857,\n",
       "             'wina': 1054,\n",
       "             'sklepu': 23957,\n",
       "             'między': 613,\n",
       "             'byłem': 1879,\n",
       "             'informowany': 822,\n",
       "             'problemach': 99,\n",
       "             'możliwości': 2944,\n",
       "             'ew': 112,\n",
       "             'rezygnacji': 107,\n",
       "             'duży': 26491,\n",
       "             'fachowa': 7170,\n",
       "             'odpowiedź': 1759,\n",
       "             'zapytanie': 396,\n",
       "             'interesujące': 276,\n",
       "             'równie': 515,\n",
       "             'dokonanej': 73,\n",
       "             'przedpłacie': 28,\n",
       "             'zabezpieczonego': 12,\n",
       "             'dostawy': 9790,\n",
       "             'towaru': 16711,\n",
       "             'przyjemnością': 3836,\n",
       "             'skorzystam': 6975,\n",
       "             'usług': 7642,\n",
       "             'opisie': 2156,\n",
       "             'pomogła': 165,\n",
       "             'wybrać': 725,\n",
       "             'odpowiedni': 287,\n",
       "             'infolinią': 239,\n",
       "             'zawsze': 35920,\n",
       "             'znajdę': 523,\n",
       "             'potrzeba': 691,\n",
       "             'pomoc': 2800,\n",
       "             'doborze': 399,\n",
       "             'odpowiedniego': 259,\n",
       "             'zadziałało': 62,\n",
       "             'problemu': 8999,\n",
       "             'miła': 20759,\n",
       "             'wyczerpująca': 235,\n",
       "             'informacja': 10218,\n",
       "             'zamówionym': 509,\n",
       "             'dostawa': 65171,\n",
       "             'czwartek': 1680,\n",
       "             'późnym': 216,\n",
       "             'wieczorem': 1650,\n",
       "             'sobotę': 1209,\n",
       "             'rano': 2126,\n",
       "             'był': 12084,\n",
       "             'u': 10568,\n",
       "             'trochę': 5731,\n",
       "             'kłopotu': 245,\n",
       "             'zapłatą': 67,\n",
       "             'przelewem': 520,\n",
       "             'terminowym': 5,\n",
       "             'jednostki': 56,\n",
       "             'samorządowej': 3,\n",
       "             'ogarnęliśmy': 2,\n",
       "             'kilku': 4126,\n",
       "             'lat': 9791,\n",
       "             'rewelacyjnie': 1799,\n",
       "             'dziekuje': 1347,\n",
       "             'przebiegla': 1158,\n",
       "             'załatwione': 1579,\n",
       "             '100': 17423,\n",
       "             'rewelacja': 9354,\n",
       "             'kupiłem': 2320,\n",
       "             'doręczenia': 257,\n",
       "             'wyszukiwarka': 602,\n",
       "             'komplikacji': 1515,\n",
       "             'najlepszym': 17395,\n",
       "             'porządku': 27399,\n",
       "             'zamiast': 1809,\n",
       "             'czekać': 1981,\n",
       "             'dostałam': 3715,\n",
       "             'ją': 3287,\n",
       "             'dniach': 3160,\n",
       "             'najważniejsze': 2282,\n",
       "             'działa': 3774,\n",
       "             'jakichkolwiek': 1623,\n",
       "             'kolejny': 16240,\n",
       "             'dokonałem': 687,\n",
       "             'mam': 19168,\n",
       "             'firmy': 2796,\n",
       "             'duże': 1735,\n",
       "             'zaufanie': 404,\n",
       "             'natychmiastowa': 1856,\n",
       "             'kilkanaście': 351,\n",
       "             'godzin': 1684,\n",
       "             'mile': 1709,\n",
       "             'zaskoczony': 1160,\n",
       "             'zarzutów': 2602,\n",
       "             'profesjonalne': 4522,\n",
       "             'klienta': 17931,\n",
       "             'szybkie': 5553,\n",
       "             'płatność': 987,\n",
       "             'skutecznie': 677,\n",
       "             'ekspresowo': 2455,\n",
       "             'paczka': 8768,\n",
       "             'dostarczona': 2545,\n",
       "             'jedynie': 2790,\n",
       "             'opakowanie': 2232,\n",
       "             'zniszczone': 225,\n",
       "             'zawartość': 674,\n",
       "             'szczęście': 1191,\n",
       "             'uszkodzona': 428,\n",
       "             'north': 1805,\n",
       "             'kilka': 5836,\n",
       "             'nigdy': 8386,\n",
       "             'rozczarowaniem': 10,\n",
       "             'jeśli': 5613,\n",
       "             'trzeba': 8104,\n",
       "             'można': 14384,\n",
       "             'przedyskutować': 2,\n",
       "             'problem': 2874,\n",
       "             'doradcą': 65,\n",
       "             'jeżeli': 2374,\n",
       "             'wiesz': 753,\n",
       "             'czym': 2203,\n",
       "             'wybór': 28371,\n",
       "             'błyskawiczne': 863,\n",
       "             'moje': 12018,\n",
       "             'ostatnie': 2815,\n",
       "             'trwało': 546,\n",
       "             '23': 538,\n",
       "             'godziny': 1637,\n",
       "             'fachowość': 282,\n",
       "             'część': 2023,\n",
       "             'zamienna': 53,\n",
       "             'idealnie': 3108,\n",
       "             'pasująca': 15,\n",
       "             'dobrana': 39,\n",
       "             'fachowo': 2143,\n",
       "             'najwyższym': 5875,\n",
       "             'sklepach': 2988,\n",
       "             'potrzebne': 869,\n",
       "             'będą': 2091,\n",
       "             'zepsuło': 29,\n",
       "             'teraz': 6596,\n",
       "             'potrzebowałem': 338,\n",
       "             'niech': 3642,\n",
       "             'pl': 10227,\n",
       "             'mieli': 1265,\n",
       "             'wysłali': 387,\n",
       "             'natychmiast': 865,\n",
       "             'przy': 14585,\n",
       "             'poprzednich': 118,\n",
       "             'transakcjach': 57,\n",
       "             'idealna': 598,\n",
       "             'porada': 247,\n",
       "             'odnośnie': 642,\n",
       "             'wyboru': 1882,\n",
       "             'artykułu': 230,\n",
       "             'serdecznie': 13671,\n",
       "             'przyjemna': 1117,\n",
       "             'śledzenie': 138,\n",
       "             'fajne': 2966,\n",
       "             'innego': 1391,\n",
       "             'punktu': 2822,\n",
       "             'odbioru': 16826,\n",
       "             'dotarła': 5506,\n",
       "             'naprawdę': 8075,\n",
       "             'sprzedawca': 4031,\n",
       "             'bo': 20842,\n",
       "             'drugi': 7677,\n",
       "             'dzień': 9286,\n",
       "             'zapakowana': 6912,\n",
       "             'kartonowe': 75,\n",
       "             'pudełko': 839,\n",
       "             'solidnie': 8003,\n",
       "             'metody': 107,\n",
       "             'płatności': 2115,\n",
       "             'oraz': 12942,\n",
       "             'aplikacji': 50,\n",
       "             'sama': 4394,\n",
       "             'podpowiada': 21,\n",
       "             'pasujące': 65,\n",
       "             'wybranego': 574,\n",
       "             'modelu': 595,\n",
       "             'dotarł': 2642,\n",
       "             'idealnym': 2135,\n",
       "             'stanie': 8633,\n",
       "             'odbyło': 1598,\n",
       "             'zgodne': 10839,\n",
       "             'dziękuję': 8651,\n",
       "             'szczerze': 7323,\n",
       "             'konrakt': 6,\n",
       "             'zostało': 4171,\n",
       "             'paczkę': 2128,\n",
       "             'czekałam': 1317,\n",
       "             'krócej': 93,\n",
       "             'niż': 13962,\n",
       "             '24': 2272,\n",
       "             'zalatwione': 118,\n",
       "             'fahowo': 4,\n",
       "             'czesc': 170,\n",
       "             'przyslana': 5,\n",
       "             'pasowala': 10,\n",
       "             'bezblednie': 15,\n",
       "             'środe': 50,\n",
       "             'nocy': 495,\n",
       "             'zrobione': 417,\n",
       "             'opłacone': 164,\n",
       "             'piatek': 242,\n",
       "             'juz': 5488,\n",
       "             'mialem': 259,\n",
       "             'siebie': 3509,\n",
       "             'doskonała': 2532,\n",
       "             'jakość': 11756,\n",
       "             'szybkości': 2170,\n",
       "             'fachowości': 52,\n",
       "             'obsługi': 13598,\n",
       "             'wzorowa': 1023,\n",
       "             'godz': 1328,\n",
       "             '15': 1901,\n",
       "             'sam': 4597,\n",
       "             'otrzymałem': 3648,\n",
       "             'oczekiwałem': 236,\n",
       "             'grzecznie': 190,\n",
       "             'zostałam': 714,\n",
       "             'poinformowana': 369,\n",
       "             'braku': 956,\n",
       "             'jednak': 6684,\n",
       "             'zrezygnowałam': 104,\n",
       "             'dostawę': 1722,\n",
       "             'niedługim': 44,\n",
       "             'dokładnym': 60,\n",
       "             'zamówione': 3373,\n",
       "             'pasują': 363,\n",
       "             'oczekiwaniami': 2681,\n",
       "             'oryginalny': 952,\n",
       "             'zgodna': 3678,\n",
       "             'świetna': 5956,\n",
       "             'wyszukiwaniem': 18,\n",
       "             'pasujących': 23,\n",
       "             'urządzenia': 361,\n",
       "             'zasługująca': 9,\n",
       "             'uznanie': 148,\n",
       "             'popracować': 184,\n",
       "             'nad': 2048,\n",
       "             'opakowaniem': 67,\n",
       "             'przyniszczone': 3,\n",
       "             'przyjemnie': 2743,\n",
       "             'zadowolenia': 1846,\n",
       "             'same': 2953,\n",
       "             'plusy': 918,\n",
       "             'sprzedawcę': 1123,\n",
       "             'zamówieniu': 4035,\n",
       "             'domówiłem': 6,\n",
       "             'telefonicznie': 928,\n",
       "             'zapomniane': 10,\n",
       "             'akcesoria': 243,\n",
       "             'funkcjonujący': 68,\n",
       "             'dział': 279,\n",
       "             'zamówień': 5959,\n",
       "             'wzór': 286,\n",
       "             'sklepów': 3168,\n",
       "             'cenowo': 955,\n",
       "             'dostępny': 1740,\n",
       "             'chociaż': 2353,\n",
       "             'zrealizowano': 934,\n",
       "             'raty': 696,\n",
       "             'chwilowego': 12,\n",
       "             'ciągła': 65,\n",
       "             'zlecenie': 410,\n",
       "             'wykonane': 787,\n",
       "             'opisana': 92,\n",
       "             'doboru': 105,\n",
       "             'częsci': 84,\n",
       "             'perfekcyjnie': 1354,\n",
       "             'brak': 8255,\n",
       "             'doradztwa': 50,\n",
       "             'reszta': 1094,\n",
       "             'pomyślna': 167,\n",
       "             'według': 1332,\n",
       "             'powinno': 4077,\n",
       "             'przebiega': 1153,\n",
       "             'potencjalnym': 101,\n",
       "             'ekspresowa': 14329,\n",
       "             'cała': 2492,\n",
       "             'szybką': 2615,\n",
       "             'podanym': 533,\n",
       "             'terminem': 1714,\n",
       "             'tyg': 229,\n",
       "             'polecał': 230,\n",
       "             'zmówieniem': 80,\n",
       "             'zdecydowalem': 9,\n",
       "             'sie': 19416,\n",
       "             'cena': 14973,\n",
       "             'plyty': 59,\n",
       "             'mogla': 84,\n",
       "             'by': 11753,\n",
       "             'byc': 1894,\n",
       "             'nizsza': 74,\n",
       "             'poszło': 1846,\n",
       "             'wg': 1259,\n",
       "             'opisu': 480,\n",
       "             'tę': 1435,\n",
       "             'firmę': 976,\n",
       "             'konkretnie': 1625,\n",
       "             'wysłana': 1562,\n",
       "             'szybciej': 2596,\n",
       "             'bym': 8068,\n",
       "             'mógł': 854,\n",
       "             'spodziewać': 257,\n",
       "             'k': 1168,\n",
       "             'szła': 188,\n",
       "             'zrzucić': 29,\n",
       "             'sprzedającego': 572,\n",
       "             'odpowiednio': 1046,\n",
       "             'zapakowany': 10997,\n",
       "             'świetny': 10295,\n",
       "             'wiedziałem': 390,\n",
       "             'każdym': 7883,\n",
       "             'kroku': 492,\n",
       "             'uwagi': 1494,\n",
       "             'jedno': 1373,\n",
       "             'pani': 3905,\n",
       "             'infolinii': 1327,\n",
       "             'mogloby': 30,\n",
       "             'milej': 63,\n",
       "             'obsłudze': 1498,\n",
       "             'one': 1906,\n",
       "             'klientów': 2194,\n",
       "             'nimi': 1252,\n",
       "             'my': 1644,\n",
       "             'mamy': 1558,\n",
       "             'pracują': 301,\n",
       "             'karę': 531,\n",
       "             'coś': 8328,\n",
       "             'zmienić': 534,\n",
       "             'szybki': 8200,\n",
       "             'termin': 3474,\n",
       "             'powinna': 1793,\n",
       "             'wyglądać': 375,\n",
       "             'internecie': 1682,\n",
       "             'prowadzę': 22,\n",
       "             'internetowy': 6685,\n",
       "             'chęcią': 508,\n",
       "             'skopiuję': 3,\n",
       "             'punktów': 901,\n",
       "             'waszej': 530,\n",
       "             'porządnie': 1535,\n",
       "             'wspaniale': 379,\n",
       "             'dzięki': 3131,\n",
       "             'wspołpracy': 8,\n",
       "             'waszym': 1052,\n",
       "             'konsultantem': 406,\n",
       "             'wysyła': 686,\n",
       "             'wybrałem': 659,\n",
       "             'pasującą': 9,\n",
       "             'grzałkę': 87,\n",
       "             'serwisie': 375,\n",
       "             'www': 758,\n",
       "             'znając': 96,\n",
       "             'częściowy': 11,\n",
       "             'symbol': 56,\n",
       "             'pralki': 790,\n",
       "             'mogłem': 1265,\n",
       "             'drogi': 411,\n",
       "             'oryginał': 106,\n",
       "             'lub': 4182,\n",
       "             'jeden': 5343,\n",
       "             'dwóch': 2210,\n",
       "             'tańszych': 154,\n",
       "             '70': 175,\n",
       "             'zamienników': 199,\n",
       "             'ponadto': 729,\n",
       "             'technicy': 2,\n",
       "             'przygotowali': 14,\n",
       "             'szczegółowy': 122,\n",
       "             'video': 176,\n",
       "             'poradnik': 31,\n",
       "             'jutubie': 14,\n",
       "             'otworzyć': 122,\n",
       "             'złożyć': 372,\n",
       "             'pralkę': 399,\n",
       "             'grząłkę': 2,\n",
       "             'no': 8573,\n",
       "             'moc': 148,\n",
       "             'kompletnie': 346,\n",
       "             'asortymentu': 2188,\n",
       "             'oczekiwania': 5949,\n",
       "             'psuje': 101,\n",
       "             'ogólne': 135,\n",
       "             'wrażenie': 1004,\n",
       "             'wysylka': 5098,\n",
       "             'sprawny': 2085,\n",
       "             'serwis': 991,\n",
       "             'problemow': 1349,\n",
       "             'zrealizowana': 1917,\n",
       "             'polecić': 3634,\n",
       "             'poszukiwania': 97,\n",
       "             'odpowiedniej': 200,\n",
       "             'starej': 141,\n",
       "             'lodówki': 600,\n",
       "             'zakończone': 47,\n",
       "             'sukcesem': 85,\n",
       "             'sprawne': 1616,\n",
       "             'pytanie': 1240,\n",
       "             'odpowiedz': 581,\n",
       "             'przejrzysty': 943,\n",
       "             'ja': 20417,\n",
       "             'kupowałam': 1484,\n",
       "             'opis': 2200,\n",
       "             'produktu': 8198,\n",
       "             'pozostawiał': 4,\n",
       "             'wątpliwości': 736,\n",
       "             'model': 554,\n",
       "             'ogromnie': 295,\n",
       "             'pomocny': 358,\n",
       "             'okazał': 516,\n",
       "             'filmik': 844,\n",
       "             'tej': 15610,\n",
       "             'temu': 2807,\n",
       "             'obyło': 76,\n",
       "             'fachowców': 37,\n",
       "             'idzie': 895,\n",
       "             'kosztów': 1586,\n",
       "             'wart': 628,\n",
       "             'obszarze': 24,\n",
       "             'działania': 692,\n",
       "             'treściwie': 19,\n",
       "             'wyświetlany': 7,\n",
       "             'fikcja': 52,\n",
       "             'opóźnione': 44,\n",
       "             'dwa': 3768,\n",
       "             'poza': 4436,\n",
       "             'napotkałem': 35,\n",
       "             'zgrabnie': 56,\n",
       "             'znaleziono': 30,\n",
       "             'zamiennik': 175,\n",
       "             'poszukiwanej': 68,\n",
       "             'poleciłbym': 108,\n",
       "             'komuś': 536,\n",
       "             'innemu': 54,\n",
       "             'uwag': 2283,\n",
       "             'niesłychanie': 15,\n",
       "             'zamowienie': 2307,\n",
       "             'chętnie': 2493,\n",
       "             'planowane': 46,\n",
       "             'rozczarowany': 81,\n",
       "             'filmem': 253,\n",
       "             'pokazującym': 2,\n",
       "             'wymiany': 841,\n",
       "             'grzałki': 51,\n",
       "             'pralce': 73,\n",
       "             'nierzetelny': 22,\n",
       "             'prowadzający': 2,\n",
       "             'zasugerowałem': 3,\n",
       "             'wymianie': 137,\n",
       "             'straciłem': 225,\n",
       "             'godzinę': 365,\n",
       "             'bzdurny': 4,\n",
       "             'film': 1684,\n",
       "             'paczkomat': 322,\n",
       "             'firmą': 638,\n",
       "             'współpracuję': 60,\n",
       "             'choć': 2785,\n",
       "             'obecnie': 523,\n",
       "             'mniej': 1475,\n",
       "             'intensywnie': 15,\n",
       "             'usługi': 2177,\n",
       "             'znajomemu': 67,\n",
       "             'byłoby': 1142,\n",
       "             'gdyby': 3165,\n",
       "             'poślizg': 62,\n",
       "             'kurierska': 585,\n",
       "             'nawaliła': 16,\n",
       "             'real': 23,\n",
       "             'foto': 579,\n",
       "             'spotkałem': 362,\n",
       "             'profesjonalną': 565,\n",
       "             'obsługą': 2732,\n",
       "             'realizacją': 666,\n",
       "             'tą': 3749,\n",
       "             'którą': 1390,\n",
       "             'potrzebowałam': 337,\n",
       "             'małą': 262,\n",
       "             'pomyłką': 31,\n",
       "             'korektura': 2,\n",
       "             'pomyłki': 389,\n",
       "             'rozwiązana': 76,\n",
       "             'sprzedawcą': 1062,\n",
       "             'miłkowska': 2,\n",
       "             'przesłany': 207,\n",
       "             'fachowe': 700,\n",
       "             'doradztwo': 1166,\n",
       "             'bylo': 1653,\n",
       "             'rzetelnie': 3115,\n",
       "             'etapie': 3093,\n",
       "             'zdecydowanie': 8489,\n",
       "             'doskonały': 2867,\n",
       "             'rozwiązanie': 408,\n",
       "             'mail': 1871,\n",
       "             'niezwłoczna': 30,\n",
       "             'uczciwie': 478,\n",
       "             'pośród': 77,\n",
       "             'wszystkich': 2914,\n",
       "             'internetowych': 2603,\n",
       "             'cóż': 1038,\n",
       "             'więcej': 7074,\n",
       "             'napisać': 632,\n",
       "             'zadiwolona': 7,\n",
       "             'pewniak': 20,\n",
       "             'zamowienia': 4605,\n",
       "             'wyeliminowało': 2,\n",
       "             'pomyłkę': 156,\n",
       "             'zaoszczędzilem': 3,\n",
       "             '150': 280,\n",
       "             'zł': 3938,\n",
       "             'firmie': 974,\n",
       "             'naprawiając': 7,\n",
       "             'podobno': 541,\n",
       "             'nienaprawialny': 2,\n",
       "             'sprzęt': 3680,\n",
       "             'czystym': 3631,\n",
       "             'sumieniem': 3463,\n",
       "             'przeprowadzona': 2948,\n",
       "             'wzorowo': 1579,\n",
       "             'cześć': 235,\n",
       "             'nowa': 507,\n",
       "             'ładnie': 1799,\n",
       "             'ekspres': 348,\n",
       "             'nowy': 1704,\n",
       "             'zdrowia': 176,\n",
       "             'szczęścia': 144,\n",
       "             'pomyślności': 9,\n",
       "             'wyników': 24,\n",
       "             'sporcie': 16,\n",
       "             'mało': 2143,\n",
       "             'pracy': 1623,\n",
       "             'dużo': 6408,\n",
       "             'kasy': 598,\n",
       "             'uśmiechu': 41,\n",
       "             'sekundzie': 55,\n",
       "             'radości': 114,\n",
       "             'minucie': 70,\n",
       "             'przyjaźni': 16,\n",
       "             'godzinie': 776,\n",
       "             'każdego': 1177,\n",
       "             'miłości': 87,\n",
       "             'całe': 1032,\n",
       "             'życie': 1141,\n",
       "             'wszystkiego': 679,\n",
       "             'najlepszego': 108,\n",
       "             'okazji': 753,\n",
       "             'urodzin': 32,\n",
       "             'życzą': 12,\n",
       "             'jan': 105,\n",
       "             'mirką': 2,\n",
       "             'obsluga': 5997,\n",
       "             'tranaskcja': 3,\n",
       "             'kilkakrotnie': 900,\n",
       "             'skorzystałam': 584,\n",
       "             'uslug': 443,\n",
       "             'najmniejszych': 2142,\n",
       "             'wysyłki': 5182,\n",
       "             'względu': 2266,\n",
       "             'szybkość': 5602,\n",
       "             'dostarczenia': 1764,\n",
       "             'trzecie': 273,\n",
       "             'konsultant': 360,\n",
       "             'pomógł': 268,\n",
       "             'wyborze': 640,\n",
       "             'właściwego': 97,\n",
       "             'sznura': 5,\n",
       "             'trazakcja': 7,\n",
       "             'wręcz': 1197,\n",
       "             'zakupiona': 207,\n",
       "             'pracuje': 389,\n",
       "             'szkoda': 6213,\n",
       "             'inpost': 484,\n",
       "             'precyzuje': 4,\n",
       "             'oznacza': 307,\n",
       "             'dostarcza': 220,\n",
       "             'rana': 238,\n",
       "             'prokuktu': 2,\n",
       "             'każda': 576,\n",
       "             'inna': 523,\n",
       "             'płace': 50,\n",
       "             'mówią': 772,\n",
       "             'wiem': 5657,\n",
       "             'czego': 5980,\n",
       "             'oczekujecie': 9,\n",
       "             'chcecie': 453,\n",
       "             'wiedzieć': 317,\n",
       "             'ile': 1972,\n",
       "             'diabłów': 3,\n",
       "             'mieści': 156,\n",
       "             'łepku': 2,\n",
       "             'szpilki': 95,\n",
       "             'teologów': 3,\n",
       "             'przybycia': 15,\n",
       "             'został': 2909,\n",
       "             'dostarczony': 4485,\n",
       "             'filtr': 89,\n",
       "             'pasował': 151,\n",
       "             'innej': 692,\n",
       "             'marki': 550,\n",
       "             'sympatyczna': 1076,\n",
       "             'kabel': 118,\n",
       "             'niestety': 6848,\n",
       "             'mojej': 2794,\n",
       "             'musiałem': 1251,\n",
       "             'zwrócić': 969,\n",
       "             'zwrot': 5232,\n",
       "             'bezproblemowy': 2843,\n",
       "             'mój': 8742,\n",
       "             'podstawowy': 29,\n",
       "             'skarbiec': 3,\n",
       "             'zamiennych': 701,\n",
       "             'długi': 2280,\n",
       "             'przyszło': 871,\n",
       "             'planowanym': 185,\n",
       "             'profesjonalnej': 317,\n",
       "             'sprzedawców': 346,\n",
       "             'tani': 1082,\n",
       "             'użytkuję': 11,\n",
       "             'krótko': 638,\n",
       "             'nadzieję': 1624,\n",
       "             'cieszyć': 192,\n",
       "             'jego': 4647,\n",
       "             'dobrą': 1377,\n",
       "             'jakością': 552,\n",
       "             'musiała': 293,\n",
       "             'sprawdzać': 179,\n",
       "             'również': 6125,\n",
       "             'też': 8490,\n",
       "             'załatwiane': 203,\n",
       "             'zamówionego': 1895,\n",
       "             'sprzedawce': 197,\n",
       "             'polecę': 912,\n",
       "             'go': 8696,\n",
       "             'nadal': 2192,\n",
       "             'kupować': 2699,\n",
       "             'miało': 901,\n",
       "             'trzy': 964,\n",
       "             'doszło': 598,\n",
       "             'spodziewałem': 530,\n",
       "             'dałbym': 97,\n",
       "             '6': 2414,\n",
       "             'szczegółową': 11,\n",
       "             'informacją': 1415,\n",
       "             'pomogli': 171,\n",
       "             'dobrać': 164,\n",
       "             'tv': 856,\n",
       "             'otrzymany': 305,\n",
       "             'sprawdzona': 161,\n",
       "             'kurierze': 107,\n",
       "             'przyjrmna': 2,\n",
       "             'pomocna': 1666,\n",
       "             'określonym': 239,\n",
       "             'rozejrzeć': 3,\n",
       "             'inną': 324,\n",
       "             'kurierską': 376,\n",
       "             'przynajmniej': 1193,\n",
       "             'bydgoszczy': 59,\n",
       "             'jakiś': 2402,\n",
       "             'jednej': 1179,\n",
       "             'sieciówek': 17,\n",
       "             'odkurzacz': 339,\n",
       "             'którego': 1819,\n",
       "             'chciałem': 1091,\n",
       "             'kupić': 2306,\n",
       "             'nowe': 1066,\n",
       "             'filtry': 96,\n",
       "             'wszyscy': 2019,\n",
       "             'rozkładali': 4,\n",
       "             'ręce': 494,\n",
       "             'ma': 20682,\n",
       "             'da': 2038,\n",
       "             'nikt': 2782,\n",
       "             'sprowadza': 46,\n",
       "             'oficjalny': 16,\n",
       "             'przedstawiciel': 48,\n",
       "             'polskę': 658,\n",
       "             'poinformował': 282,\n",
       "             'oni': 3862,\n",
       "             'wprowadzali': 10,\n",
       "             'oficjalnie': 104,\n",
       "             'sieciówce': 8,\n",
       "             'terenie': 245,\n",
       "             'polski': 2148,\n",
       "             'tylko': 26078,\n",
       "             'zły': 403,\n",
       "             'niemiec': 336,\n",
       "             'trafiłem': 301,\n",
       "             'stronę': 1097,\n",
       "             'telefon': 1901,\n",
       "             'rozmowa': 292,\n",
       "             'pasować': 55,\n",
       "             'odebrałem': 1317,\n",
       "             'paczkomacie': 950,\n",
       "             'proponuj': 3,\n",
       "             'optymalizację': 2,\n",
       "             'pakowania': 581,\n",
       "             ...})"
      ]
     },
     "execution_count": 40,
     "metadata": {},
     "output_type": "execute_result"
    }
   ],
   "source": [
    "frequency"
   ]
  },
  {
   "cell_type": "code",
   "execution_count": 41,
   "id": "0fad7a0b",
   "metadata": {
    "ExecuteTime": {
     "end_time": "2021-10-26T21:54:20.186874Z",
     "start_time": "2021-10-26T21:54:20.076751Z"
    }
   },
   "outputs": [
    {
     "data": {
      "text/plain": [
       "[('i', 398206),\n",
       " ('polecam', 315905),\n",
       " ('w', 315221),\n",
       " ('bardzo', 252797),\n",
       " ('z', 240630),\n",
       " ('szybka', 192250),\n",
       " ('na', 173409),\n",
       " ('nie', 172775),\n",
       " ('to', 139799),\n",
       " ('szybko', 132690),\n",
       " ('sklep', 128962),\n",
       " ('wszystko', 114579),\n",
       " ('jak', 111862),\n",
       " ('obsługa', 95065),\n",
       " ('do', 93989),\n",
       " ('się', 93382),\n",
       " ('towar', 83812),\n",
       " ('sprawnie', 80236),\n",
       " ('jestem', 78910),\n",
       " ('ceny', 77569),\n",
       " ('zamówienia', 76376),\n",
       " ('realizacja', 74926),\n",
       " ('super', 73526),\n",
       " ('jest', 68724),\n",
       " ('dostawa', 65171),\n",
       " ('wysyłka', 64225),\n",
       " ('a', 62856),\n",
       " ('bez', 62555),\n",
       " ('że', 59991),\n",
       " ('zakupy', 56549),\n",
       " ('o', 53872),\n",
       " ('zadowolona', 51508),\n",
       " ('za', 48569),\n",
       " ('po', 47569),\n",
       " ('co', 47237),\n",
       " ('tym', 46192),\n",
       " ('transakcja', 45102),\n",
       " ('kontakt', 45036),\n",
       " ('dobry', 44991),\n",
       " ('przesyłka', 43729),\n",
       " ('zgodny', 43048),\n",
       " ('opisem', 42400),\n",
       " ('sklepie', 41588),\n",
       " ('ale', 41165),\n",
       " ('tak', 36785),\n",
       " ('ze', 36246),\n",
       " ('zawsze', 35920),\n",
       " ('już', 34291),\n",
       " ('dobrze', 32991),\n",
       " ('od', 31796),\n",
       " ('ok', 31697),\n",
       " ('zamówienie', 30467),\n",
       " ('błyskawiczna', 30146),\n",
       " ('mnie', 29082),\n",
       " ('dobra', 28714),\n",
       " ('wybór', 28371),\n",
       " ('raz', 28057),\n",
       " ('tego', 27656),\n",
       " ('porządku', 27399),\n",
       " ('ten', 26560),\n",
       " ('polecenia', 26495),\n",
       " ('duży', 26491),\n",
       " ('tylko', 26078),\n",
       " ('przebiegła', 25507),\n",
       " ('profesjonalna', 25470),\n",
       " ('dla', 24686),\n",
       " ('sklepu', 23957),\n",
       " ('gorąco', 23833),\n",
       " ('sprawna', 22672),\n",
       " ('problemów', 22621),\n",
       " ('mi', 22567),\n",
       " ('jeszcze', 22382),\n",
       " ('realizacji', 22097),\n",
       " ('godny', 21714),\n",
       " ('wszystkim', 21265),\n",
       " ('dobre', 20849),\n",
       " ('bo', 20842),\n",
       " ('miła', 20759),\n",
       " ('zamówieniem', 20727),\n",
       " ('ma', 20682),\n",
       " ('czas', 20572),\n",
       " ('profesjonalnie', 20452),\n",
       " ('ja', 20417),\n",
       " ('są', 20369),\n",
       " ('sie', 19416),\n",
       " ('mam', 19168),\n",
       " ('produkty', 19107),\n",
       " ('produkt', 18203),\n",
       " ('zakupów', 17962),\n",
       " ('klienta', 17931),\n",
       " ('produktów', 17723),\n",
       " ('100', 17423),\n",
       " ('najlepszym', 17395),\n",
       " ('odbioru', 16826),\n",
       " ('zgodnie', 16797),\n",
       " ('zakup', 16756),\n",
       " ('było', 16715),\n",
       " ('towaru', 16711),\n",
       " ('kolejny', 16240),\n",
       " ('zadowolony', 16069),\n",
       " ('przez', 16009),\n",
       " ('tej', 15610),\n",
       " ('buty', 15071),\n",
       " ('cena', 14973),\n",
       " ('zastrzeżeń', 14929),\n",
       " ('czy', 14629),\n",
       " ('przy', 14585),\n",
       " ('można', 14384),\n",
       " ('ekspresowa', 14329),\n",
       " ('apteka', 14302),\n",
       " ('bezproblemowo', 14239),\n",
       " ('tu', 14065),\n",
       " ('niż', 13962),\n",
       " ('pewno', 13900),\n",
       " ('zwykle', 13756),\n",
       " ('serdecznie', 13671),\n",
       " ('obsługi', 13598),\n",
       " ('być', 13472),\n",
       " ('żadnych', 13453),\n",
       " ('asortyment', 13432),\n",
       " ('pomyślnie', 13298),\n",
       " ('jakości', 13231),\n",
       " ('tanio', 13186),\n",
       " ('najbardziej', 13035),\n",
       " ('nawet', 13004),\n",
       " ('oraz', 12942),\n",
       " ('konkurencyjne', 12888),\n",
       " ('profesjonalizm', 12606),\n",
       " ('przesyłki', 12104),\n",
       " ('był', 12084),\n",
       " ('moje', 12018),\n",
       " ('dni', 11831),\n",
       " ('jakość', 11756),\n",
       " ('by', 11753),\n",
       " ('zakupu', 11732),\n",
       " ('nic', 11454),\n",
       " ('ich', 11296),\n",
       " ('poziomie', 11184),\n",
       " ('aptece', 11108),\n",
       " ('zrealizowane', 11006),\n",
       " ('zapakowany', 10997),\n",
       " ('zapakowane', 10956),\n",
       " ('pozdrawiam', 10949),\n",
       " ('zgodne', 10839),\n",
       " ('pierwszy', 10598),\n",
       " ('u', 10568),\n",
       " ('świetny', 10295),\n",
       " ('pl', 10227),\n",
       " ('informacja', 10218),\n",
       " ('2', 10151),\n",
       " ('dobrej', 9892),\n",
       " ('lat', 9791),\n",
       " ('dostawy', 9790),\n",
       " ('niskie', 9621),\n",
       " ('dnia', 9541),\n",
       " ('kurwa', 9417),\n",
       " ('cenie', 9414),\n",
       " ('odbiór', 9357),\n",
       " ('rewelacja', 9354),\n",
       " ('była', 9319),\n",
       " ('dzień', 9286),\n",
       " ('te', 9223),\n",
       " ('problemu', 8999),\n",
       " ('będę', 8983),\n",
       " ('paczka', 8768),\n",
       " ('mój', 8742),\n",
       " ('go', 8696),\n",
       " ('dziękuję', 8651),\n",
       " ('atrakcyjne', 8637),\n",
       " ('stanie', 8633),\n",
       " ('pełen', 8577),\n",
       " ('no', 8573),\n",
       " ('książki', 8550),\n",
       " ('też', 8490),\n",
       " ('zdecydowanie', 8489),\n",
       " ('zarzutu', 8448),\n",
       " ('takie', 8431),\n",
       " ('nigdy', 8386),\n",
       " ('coś', 8328),\n",
       " ('przed', 8277),\n",
       " ('brak', 8255),\n",
       " ('szybki', 8200),\n",
       " ('produktu', 8198),\n",
       " ('może', 8187),\n",
       " ('trzeba', 8104),\n",
       " ('naprawdę', 8075),\n",
       " ('bym', 8068),\n",
       " ('pod', 8048),\n",
       " ('solidnie', 8003),\n",
       " ('szeroki', 7912),\n",
       " ('każdym', 7883),\n",
       " ('3', 7874),\n",
       " ('tam', 7842),\n",
       " ('cenach', 7775),\n",
       " ('drugi', 7677),\n",
       " ('usług', 7642),\n",
       " ('przebiegło', 7599),\n",
       " ('kolejne', 7540),\n",
       " ('szczerze', 7323),\n",
       " ('będzie', 7293),\n",
       " ('xd', 7225),\n",
       " ('sobie', 7221),\n",
       " ('błyskawicznie', 7207),\n",
       " ('mogę', 7191),\n",
       " ('fachowa', 7170),\n",
       " ('stronie', 7162),\n",
       " ('razem', 7080),\n",
       " ('kupuję', 7079),\n",
       " ('więcej', 7074),\n",
       " ('skorzystam', 6975),\n",
       " ('więc', 6960),\n",
       " ('zapakowana', 6912),\n",
       " ('bezproblemowa', 6895),\n",
       " ('chyba', 6865),\n",
       " ('ta', 6860),\n",
       " ('niestety', 6848),\n",
       " ('żeby', 6731),\n",
       " ('internetowy', 6685),\n",
       " ('jednak', 6684),\n",
       " ('teraz', 6596),\n",
       " ('możliwość', 6537),\n",
       " ('który', 6526),\n",
       " ('przystępne', 6509),\n",
       " ('kto', 6488),\n",
       " ('mają', 6478),\n",
       " ('były', 6461),\n",
       " ('empik', 6427),\n",
       " ('innych', 6425),\n",
       " ('dużo', 6408),\n",
       " ('wszystkie', 6381),\n",
       " ('morele', 6371),\n",
       " ('które', 6284),\n",
       " ('szkoda', 6213),\n",
       " ('10', 6129),\n",
       " ('również', 6125),\n",
       " ('im', 6111),\n",
       " ('pozytywnie', 6097),\n",
       " ('oferta', 6050),\n",
       " ('obsluga', 5997),\n",
       " ('informacje', 5994),\n",
       " ('czego', 5980),\n",
       " ('zamówień', 5959),\n",
       " ('świetna', 5956),\n",
       " ('oczekiwania', 5949),\n",
       " ('plus', 5926),\n",
       " ('części', 5887),\n",
       " ('domu', 5881),\n",
       " ('taki', 5876),\n",
       " ('najwyższym', 5875),\n",
       " ('kilka', 5836),\n",
       " ('jej', 5832),\n",
       " ('otrzymałam', 5783),\n",
       " ('trochę', 5731),\n",
       " ('sklepem', 5722),\n",
       " ('korzystam', 5701),\n",
       " ('tych', 5699),\n",
       " ('wiem', 5657),\n",
       " ('przesyłkę', 5623),\n",
       " ('jeśli', 5613),\n",
       " ('szybkość', 5602),\n",
       " ('ludzie', 5575),\n",
       " ('szybkie', 5553),\n",
       " ('gdzie', 5543),\n",
       " ('punkcie', 5533),\n",
       " ('firma', 5531),\n",
       " ('dotarła', 5506),\n",
       " ('juz', 5488),\n",
       " ('eobuwie', 5448),\n",
       " ('transakcji', 5437),\n",
       " ('mimo', 5415),\n",
       " ('5', 5385),\n",
       " ('jeden', 5343),\n",
       " ('d', 5334),\n",
       " ('1', 5331),\n",
       " ('e', 5300),\n",
       " ('strona', 5299),\n",
       " ('moim', 5281),\n",
       " ('zwrot', 5232),\n",
       " ('razy', 5211),\n",
       " ('wysyłki', 5182),\n",
       " ('klientem', 5118),\n",
       " ('nich', 5109),\n",
       " ('wysylka', 5098),\n",
       " ('oceniam', 5015),\n",
       " ('ogólnie', 4879),\n",
       " ('następnego', 4859),\n",
       " ('sposób', 4857),\n",
       " ('terminie', 4839),\n",
       " ('zamówiłam', 4773),\n",
       " ('promocje', 4770),\n",
       " ('mega', 4760),\n",
       " ('takich', 4755),\n",
       " ('podejście', 4731),\n",
       " ('ci', 4723),\n",
       " ('często', 4703),\n",
       " ('pozytywna', 4699),\n",
       " ('kiedy', 4695),\n",
       " ('internetowa', 4678),\n",
       " ('każdemu', 4667),\n",
       " ('jego', 4647),\n",
       " ('wiele', 4630),\n",
       " ('książek', 4614),\n",
       " ('zamowienia', 4605),\n",
       " ('sam', 4597),\n",
       " ('rzetelna', 4580),\n",
       " ('przyjemność', 4547),\n",
       " ('profesjonalne', 4522),\n",
       " ('was', 4514),\n",
       " ('ty', 4492),\n",
       " ('profesjonalny', 4490),\n",
       " ('net', 4486),\n",
       " ('dostarczony', 4485),\n",
       " ('bieżąco', 4485),\n",
       " ('czasie', 4462),\n",
       " ('poza', 4436),\n",
       " ('czasu', 4434),\n",
       " ('robię', 4415),\n",
       " ('zamawiam', 4402),\n",
       " ('sama', 4394),\n",
       " ('aż', 4389),\n",
       " ('moja', 4387),\n",
       " ('rewelacyjny', 4370),\n",
       " ('zamówiony', 4361),\n",
       " ('najlepszy', 4343),\n",
       " ('ktoś', 4284),\n",
       " ('apteki', 4247),\n",
       " ('innym', 4241),\n",
       " ('gemini', 4235),\n",
       " ('udane', 4220),\n",
       " ('gdy', 4187),\n",
       " ('lub', 4182),\n",
       " ('świetne', 4180),\n",
       " ('nim', 4175),\n",
       " ('zostało', 4171),\n",
       " ('godna', 4158),\n",
       " ('kilku', 4126),\n",
       " ('informacji', 4081),\n",
       " ('powinno', 4077),\n",
       " ('dokładnie', 4062),\n",
       " ('zamówieniu', 4035),\n",
       " ('sprzedawca', 4031),\n",
       " ('solidny', 4008),\n",
       " ('miło', 3994),\n",
       " ('b', 3993),\n",
       " ('tutaj', 3966),\n",
       " ('zł', 3938),\n",
       " ('we', 3936),\n",
       " ('ludzi', 3924),\n",
       " ('rzeczy', 3912),\n",
       " ('pani', 3905),\n",
       " ('oni', 3862),\n",
       " ('strony', 3861),\n",
       " ('ciągu', 3841),\n",
       " ('robić', 3838),\n",
       " ('przyjemnością', 3836),\n",
       " ('aby', 3825),\n",
       " ('dość', 3820),\n",
       " ('aptekę', 3797),\n",
       " ('warto', 3787),\n",
       " ('działa', 3774),\n",
       " ('zamówiłem', 3772),\n",
       " ('dwa', 3768),\n",
       " ('prostu', 3767),\n",
       " ('tą', 3749),\n",
       " ('mu', 3744),\n",
       " ('samo', 3744),\n",
       " ('każdy', 3730),\n",
       " ('dostałam', 3715),\n",
       " ('dalej', 3711),\n",
       " ('sprzęt', 3680),\n",
       " ('zgodna', 3678),\n",
       " ('miałam', 3669),\n",
       " ('fajny', 3657),\n",
       " ('otrzymałem', 3648),\n",
       " ('je', 3645),\n",
       " ('niech', 3642),\n",
       " ('polecić', 3634),\n",
       " ('czystym', 3631),\n",
       " ('jako', 3629),\n",
       " ('miejscu', 3627),\n",
       " ('pierwsze', 3608),\n",
       " ('świetnie', 3586),\n",
       " ('obuwie', 3576),\n",
       " ('chodzi', 3568),\n",
       " ('pozytyw', 3562),\n",
       " ('wysokim', 3542),\n",
       " ('albo', 3536),\n",
       " ('butów', 3523),\n",
       " ('on', 3512),\n",
       " ('siebie', 3509),\n",
       " ('internet', 3497),\n",
       " ('chce', 3493),\n",
       " ('com', 3491),\n",
       " ('taka', 3487),\n",
       " ('termin', 3474),\n",
       " ('ponieważ', 3465),\n",
       " ('sumieniem', 3463),\n",
       " ('zabezpieczony', 3448),\n",
       " ('rewelacyjna', 3434),\n",
       " ('ostatni', 3423),\n",
       " ('oczywiście', 3420),\n",
       " ('4', 3400),\n",
       " ('kurier', 3395),\n",
       " ('polsce', 3388),\n",
       " ('lepiej', 3386),\n",
       " ('zamówione', 3373),\n",
       " ('paczki', 3350),\n",
       " ('została', 3341),\n",
       " ('dlatego', 3338),\n",
       " ('pewnie', 3337),\n",
       " ('tyle', 3316),\n",
       " ('znajomym', 3314),\n",
       " ('ją', 3287),\n",
       " ('dostałem', 3278),\n",
       " ('rzetelny', 3262),\n",
       " ('temat', 3244),\n",
       " ('która', 3243),\n",
       " ('obuwia', 3228),\n",
       " ('lubię', 3213),\n",
       " ('towarów', 3209),\n",
       " ('jednym', 3182),\n",
       " ('miałem', 3181),\n",
       " ('najlepsza', 3179),\n",
       " ('sklepów', 3168),\n",
       " ('gdyby', 3165),\n",
       " ('dopiero', 3163),\n",
       " ('dniach', 3160),\n",
       " ('wrócę', 3154),\n",
       " ('ani', 3145),\n",
       " ('poka', 3132),\n",
       " ('dzięki', 3131),\n",
       " ('osobistego', 3124),\n",
       " ('komunikacja', 3123),\n",
       " ('pełni', 3115),\n",
       " ('rzetelnie', 3115),\n",
       " ('idealnie', 3108),\n",
       " ('bardziej', 3106),\n",
       " ('zabezpieczona', 3101),\n",
       " ('etapie', 3093),\n",
       " ('wcześniej', 3074),\n",
       " ('osobisty', 3051),\n",
       " ('agd', 3034),\n",
       " ('opinia', 3021),\n",
       " ('korzystne', 3018),\n",
       " ('odbiorze', 3016),\n",
       " ('jedyny', 3014),\n",
       " ('zwrotu', 3012),\n",
       " ('zrobić', 3010),\n",
       " ('minus', 3008),\n",
       " ('sklepach', 2988),\n",
       " ('przypadku', 2980),\n",
       " ('internetowym', 2975),\n",
       " ('fajne', 2966),\n",
       " ('zamawiałam', 2963),\n",
       " ('powinni', 2960),\n",
       " ('pełna', 2955),\n",
       " ('same', 2953),\n",
       " ('taniej', 2953),\n",
       " ('zawiodłam', 2950),\n",
       " ('przeprowadzona', 2948),\n",
       " ('możliwości', 2944),\n",
       " ('mojego', 2943),\n",
       " ('pewnością', 2942),\n",
       " ('razie', 2938),\n",
       " ('miły', 2932),\n",
       " ('wszystkich', 2914),\n",
       " ('został', 2909),\n",
       " ('statusie', 2900),\n",
       " ('dlaczego', 2893),\n",
       " ('czyli', 2878),\n",
       " ('zero', 2877),\n",
       " ('problem', 2874),\n",
       " ('doskonały', 2867),\n",
       " ('miał', 2865),\n",
       " ('byłam', 2864),\n",
       " ('ona', 2863),\n",
       " ('cały', 2852),\n",
       " ('bezproblemowy', 2843),\n",
       " ('przesylka', 2838),\n",
       " ('solidna', 2832),\n",
       " ('łatwo', 2829),\n",
       " ('takiego', 2827),\n",
       " ('także', 2824),\n",
       " ('punktu', 2822),\n",
       " ('jaki', 2820),\n",
       " ('ostatnie', 2815),\n",
       " ('temu', 2807),\n",
       " ('długo', 2804),\n",
       " ('pomoc', 2800),\n",
       " ('firmy', 2796),\n",
       " ('kurwy', 2795),\n",
       " ('mojej', 2794),\n",
       " ('jedynie', 2790),\n",
       " ('poniedziałek', 2790),\n",
       " ('wy', 2790),\n",
       " ('przede', 2789),\n",
       " ('bezpiecznie', 2789),\n",
       " ('wygodne', 2787),\n",
       " ('choć', 2785),\n",
       " ('nikt', 2782),\n",
       " ('zabezpieczone', 2778),\n",
       " ('którzy', 2770),\n",
       " ('przyjemnie', 2743),\n",
       " ('oferty', 2738),\n",
       " ('darmowa', 2733),\n",
       " ('obsługą', 2732),\n",
       " ('mall', 2707),\n",
       " ('rewelacyjne', 2706),\n",
       " ('maila', 2704),\n",
       " ('expresowa', 2701),\n",
       " ('kupować', 2699),\n",
       " ('ogromny', 2691),\n",
       " ('oczekiwaniami', 2681),\n",
       " ('ponownie', 2670),\n",
       " ('ciekawe', 2659),\n",
       " ('dotarł', 2642),\n",
       " ('sa', 2639),\n",
       " ('należy', 2629),\n",
       " ('szybką', 2615),\n",
       " ('internetowych', 2603),\n",
       " ('kupuje', 2602),\n",
       " ('zarzutów', 2602),\n",
       " ('robi', 2599),\n",
       " ('wielu', 2597),\n",
       " ('pan', 2597),\n",
       " ('szybciej', 2596),\n",
       " ('np', 2586),\n",
       " ('zarówno', 2583),\n",
       " ('realizowane', 2549),\n",
       " ('dostarczona', 2545),\n",
       " ('empiku', 2541),\n",
       " ('starannie', 2533),\n",
       " ('doskonała', 2532),\n",
       " ('kuriera', 2529),\n",
       " ('właśnie', 2524),\n",
       " ('jakie', 2524),\n",
       " ('pomimo', 2520),\n",
       " ('państwa', 2517),\n",
       " ('przejrzysta', 2501),\n",
       " ('chętnie', 2493),\n",
       " ('cała', 2492),\n",
       " ('pieniędzy', 2468),\n",
       " ('czemu', 2463),\n",
       " ('dobrych', 2457),\n",
       " ('ekspresowo', 2455),\n",
       " ('wielki', 2444),\n",
       " ('dodatkowo', 2425),\n",
       " ('napewno', 2424),\n",
       " ('nas', 2424),\n",
       " ('6', 2414),\n",
       " ('poziom', 2413),\n",
       " ('piątek', 2413),\n",
       " ('dzieci', 2406),\n",
       " ('dzieje', 2405),\n",
       " ('jakiś', 2402),\n",
       " ('bogaty', 2399),\n",
       " ('komentarze', 2394),\n",
       " ('którym', 2389),\n",
       " ('ponad', 2388),\n",
       " ('mieć', 2384),\n",
       " ('zdjęcia', 2377),\n",
       " ('jeżeli', 2374),\n",
       " ('sms', 2372),\n",
       " ('witam', 2362),\n",
       " ('oby', 2360),\n",
       " ('duzy', 2358),\n",
       " ('niego', 2355),\n",
       " ('chociaż', 2353),\n",
       " ('duża', 2340),\n",
       " ('znaleźć', 2322),\n",
       " ('kupiłem', 2320),\n",
       " ('odebrać', 2320),\n",
       " ('zamowienie', 2307),\n",
       " ('kupić', 2306),\n",
       " ('zaufania', 2297),\n",
       " ('osobiście', 2290),\n",
       " ('tempie', 2287),\n",
       " ('prawie', 2285),\n",
       " ('uwag', 2283),\n",
       " ('najważniejsze', 2282),\n",
       " ('długi', 2280),\n",
       " ('jebane', 2280),\n",
       " ('czasem', 2277),\n",
       " ('24', 2272),\n",
       " ('względu', 2266),\n",
       " ('psa', 2260),\n",
       " ('wysokiej', 2257),\n",
       " ('potem', 2245),\n",
       " ('sprzętu', 2241),\n",
       " ('kupiłam', 2238),\n",
       " ('razu', 2234),\n",
       " ('opakowanie', 2232),\n",
       " ('dobrym', 2224),\n",
       " ('których', 2221),\n",
       " ('internetowej', 2219),\n",
       " ('dostarczone', 2218),\n",
       " ('udany', 2217),\n",
       " ('polska', 2211),\n",
       " ('dwóch', 2210),\n",
       " ('czym', 2203),\n",
       " ('opis', 2200),\n",
       " ('wtorek', 2196),\n",
       " ('klientów', 2194),\n",
       " ('nadal', 2192),\n",
       " ('jedna', 2190),\n",
       " ('asortymentu', 2188),\n",
       " ('leki', 2187),\n",
       " ('wam', 2179),\n",
       " ('usługi', 2177),\n",
       " ('aros', 2175),\n",
       " ('jednego', 2174),\n",
       " ('takim', 2172),\n",
       " ('szybkości', 2170),\n",
       " ('dniu', 2167),\n",
       " ('kompetentna', 2162),\n",
       " ('regularnie', 2158),\n",
       " ('opisie', 2156),\n",
       " ('soczewki', 2153),\n",
       " ('polski', 2148),\n",
       " ('kara', 2147),\n",
       " ('fachowo', 2143),\n",
       " ('mało', 2143),\n",
       " ('ocena', 2143),\n",
       " ('najmniejszych', 2142),\n",
       " ('masz', 2139),\n",
       " ('idealnym', 2135),\n",
       " ('paczkę', 2128),\n",
       " ('przyszłości', 2127),\n",
       " ('jesteś', 2127),\n",
       " ('rano', 2126),\n",
       " ('płatności', 2115),\n",
       " ('niższe', 2110),\n",
       " ('tez', 2110),\n",
       " ('reklamacji', 2098),\n",
       " ('roku', 2095),\n",
       " ('powinien', 2093),\n",
       " ('będą', 2091),\n",
       " ('sprawny', 2085),\n",
       " ('p', 2079),\n",
       " ('względem', 2077),\n",
       " ('podoba', 2075),\n",
       " ('jakieś', 2069),\n",
       " ('korzystać', 2058),\n",
       " ('pieniądze', 2056),\n",
       " ('aptekach', 2049),\n",
       " ('nad', 2048),\n",
       " ('da', 2038),\n",
       " ('gratis', 2035),\n",
       " ('inne', 2033),\n",
       " ('łatwy', 2030),\n",
       " ('podczas', 2030),\n",
       " ('część', 2023),\n",
       " ('przecież', 2021),\n",
       " ('euro', 2021),\n",
       " ('wszyscy', 2019),\n",
       " ('widać', 2018),\n",
       " ('pierwsza', 2012),\n",
       " ('najlepsze', 1998),\n",
       " ('rozmiar', 1997),\n",
       " ('sprawa', 1985),\n",
       " ('okazało', 1983),\n",
       " ('czekać', 1981),\n",
       " ('ile', 1972),\n",
       " ('12', 1960),\n",
       " ('jakby', 1960),\n",
       " ('samego', 1957),\n",
       " ('swoje', 1957),\n",
       " ('wygodnie', 1953),\n",
       " ('doskonale', 1953),\n",
       " ('jakim', 1950),\n",
       " ('klient', 1942),\n",
       " ('korzystałam', 1937),\n",
       " ('pies', 1935),\n",
       " ('20', 1932),\n",
       " ('sowe', 1931),\n",
       " ('klasa', 1929),\n",
       " ('wysoka', 1927),\n",
       " ('dodać', 1921),\n",
       " ('zaopatrzony', 1919),\n",
       " ('zrealizowana', 1917),\n",
       " ('dostępność', 1914),\n",
       " ('porzadku', 1907),\n",
       " ('one', 1906),\n",
       " ('15', 1901),\n",
       " ('telefon', 1901),\n",
       " ('współpraca', 1901),\n",
       " ('zamówionego', 1895),\n",
       " ('byc', 1894),\n",
       " ('przyszła', 1894),\n",
       " ('księgarnia', 1894),\n",
       " ('jedyne', 1885),\n",
       " ('wyboru', 1882),\n",
       " ('byłem', 1879),\n",
       " ('tania', 1875),\n",
       " ('mail', 1871),\n",
       " ('kraju', 1866),\n",
       " ('książka', 1866),\n",
       " ('fajnie', 1863),\n",
       " ('robiłam', 1862),\n",
       " ('miejsce', 1859),\n",
       " ('natychmiastowa', 1856),\n",
       " ('rozumiem', 1853),\n",
       " ('zadowolenia', 1846),\n",
       " ('poszło', 1846),\n",
       " ('pory', 1842),\n",
       " ('obsługę', 1840),\n",
       " ('tanie', 1840),\n",
       " ('rynku', 1830),\n",
       " ('towary', 1830),\n",
       " ('moich', 1825),\n",
       " ('zakupie', 1823),\n",
       " ('chuj', 1820),\n",
       " ('którego', 1819),\n",
       " ('zaskoczona', 1819),\n",
       " ('czekam', 1814),\n",
       " ('miała', 1813),\n",
       " ('zamiast', 1809),\n",
       " ('brawo', 1809),\n",
       " ('odpowiedzi', 1807),\n",
       " ('bezproblemowe', 1806),\n",
       " ('north', 1805),\n",
       " ('promocji', 1805),\n",
       " ('rewelacyjnie', 1799),\n",
       " ('ładnie', 1799),\n",
       " ('cenę', 1799),\n",
       " ('sexmasterka', 1795),\n",
       " ('powinna', 1793),\n",
       " ('zawiodłem', 1792),\n",
       " ('prawda', 1789),\n",
       " ('zadowolenie', 1787),\n",
       " ('porównaniu', 1787),\n",
       " ('cen', 1783),\n",
       " ('bogata', 1777),\n",
       " ('później', 1773),\n",
       " ('tydzień', 1772),\n",
       " ('myślę', 1769),\n",
       " ('24h', 1768),\n",
       " ('mailowy', 1765),\n",
       " ('dostarczenia', 1764),\n",
       " ('odpowiedź', 1759),\n",
       " ('czysta', 1753),\n",
       " ('dziś', 1751),\n",
       " ('taką', 1750),\n",
       " ('mila', 1750),\n",
       " ('wysłany', 1749),\n",
       " ('dostępny', 1740),\n",
       " ('duże', 1735),\n",
       " ('szybkiej', 1733),\n",
       " ('muszę', 1732),\n",
       " ('system', 1724),\n",
       " ('fajna', 1723),\n",
       " ('dostawę', 1722),\n",
       " ('30', 1722),\n",
       " ('udana', 1717),\n",
       " ('wtedy', 1716),\n",
       " ('terminem', 1714),\n",
       " ('iż', 1710),\n",
       " ('cenami', 1710),\n",
       " ('mile', 1709),\n",
       " ('telefoniczny', 1709),\n",
       " ('policja', 1705),\n",
       " ('nowy', 1704),\n",
       " ('dostępne', 1703),\n",
       " ('której', 1699),\n",
       " ('niej', 1696),\n",
       " ('proszę', 1696),\n",
       " ('musiałam', 1693),\n",
       " ('przesyłce', 1686),\n",
       " ('godzin', 1684),\n",
       " ('film', 1684),\n",
       " ('kiedyś', 1683),\n",
       " ('internecie', 1682),\n",
       " ('czwartek', 1680),\n",
       " ('pełny', 1679),\n",
       " ('zbyt', 1675),\n",
       " ('pomocna', 1666),\n",
       " ('mozna', 1664),\n",
       " ('gdyż', 1663),\n",
       " ('złożenia', 1660),\n",
       " ('bylo', 1653),\n",
       " ('wieczorem', 1650),\n",
       " ('uwielbiam', 1650),\n",
       " ('melissa', 1649),\n",
       " ('inny', 1646),\n",
       " ('my', 1644),\n",
       " ('like', 1638),\n",
       " ('godziny', 1637),\n",
       " ('zrobił', 1635),\n",
       " ('kupowałem', 1634),\n",
       " ('leków', 1632),\n",
       " ('straż', 1632),\n",
       " ('czytelna', 1628),\n",
       " ('konkretnie', 1625),\n",
       " ('nadzieję', 1624),\n",
       " ('informację', 1624),\n",
       " ('jakichkolwiek', 1623),\n",
       " ('pracy', 1623),\n",
       " ('sprawne', 1616),\n",
       " ('sfd', 1613),\n",
       " ('terminowo', 1611),\n",
       " ('piosenka', 1610),\n",
       " ('takiej', 1608),\n",
       " ('ofertą', 1607),\n",
       " ('końcu', 1607),\n",
       " ('wielokrotnie', 1600),\n",
       " ('odbyło', 1598),\n",
       " ('wybor', 1597),\n",
       " ('zakupiony', 1595),\n",
       " ('żadnego', 1591),\n",
       " ('ciebie', 1590),\n",
       " ('kosztów', 1586),\n",
       " ('uważam', 1582),\n",
       " ('załatwione', 1579),\n",
       " ('wzorowo', 1579),\n",
       " ('szeroka', 1576),\n",
       " ('natomiast', 1569),\n",
       " ('cię', 1568),\n",
       " ('wysłana', 1562),\n",
       " ('księgarni', 1561),\n",
       " ('00', 1560),\n",
       " ('zdaniem', 1559),\n",
       " ('mamy', 1558),\n",
       " ('stacjonarnych', 1558),\n",
       " ('maja', 1555),\n",
       " ('wie', 1545),\n",
       " ('gratisy', 1542),\n",
       " ('ostatnio', 1538),\n",
       " ('robią', 1537),\n",
       " ('porządnie', 1535),\n",
       " ('dostać', 1535),\n",
       " ('pierdole', 1527),\n",
       " ('kurierem', 1526),\n",
       " ('sprzedającym', 1525),\n",
       " ('blyskawiczna', 1525),\n",
       " ('wysłane', 1524),\n",
       " ('osoby', 1524),\n",
       " ('niz', 1523),\n",
       " ('komplikacji', 1515),\n",
       " ('posiada', 1508),\n",
       " ('naprawde', 1505),\n",
       " ('wiec', 1504),\n",
       " ('wracam', 1502),\n",
       " ('obsłudze', 1498),\n",
       " ('uwagi', 1494),\n",
       " ('prezent', 1490),\n",
       " ('kupowałam', 1484),\n",
       " ('powinny', 1483),\n",
       " ('7', 1483),\n",
       " ('łatwość', 1482),\n",
       " ('odbiorem', 1479),\n",
       " ('rtv', 1478),\n",
       " ('dużym', 1478),\n",
       " ('mniej', 1475),\n",
       " ('miarę', 1474),\n",
       " ('ująć', 1467),\n",
       " ('daje', 1466),\n",
       " ('cos', 1461),\n",
       " ('atrakcyjna', 1461),\n",
       " ('godne', 1458),\n",
       " ('dostarczenie', 1456),\n",
       " ('powiedzieć', 1456),\n",
       " ('zrobię', 1455),\n",
       " ('transportu', 1454),\n",
       " ('itp', 1454),\n",
       " ('chcieć', 1453),\n",
       " ('dół', 1453),\n",
       " ('klientką', 1451),\n",
       " ('8', 1449),\n",
       " ('przeze', 1448),\n",
       " ('ważne', 1436),\n",
       " ('tę', 1435),\n",
       " ('lecz', 1434),\n",
       " ('salonie', 1433),\n",
       " ('przebiegu', 1431),\n",
       " ('zaraz', 1427),\n",
       " ('punkt', 1427),\n",
       " ('raczej', 1425),\n",
       " ('pis', 1425),\n",
       " ('złożeniu', 1420),\n",
       " ('14', 1418),\n",
       " ('magazynie', 1416),\n",
       " ('informacją', 1415),\n",
       " ('zamawiałem', 1413),\n",
       " ('łatwe', 1410),\n",
       " ('najwyższej', 1408),\n",
       " ('dotarło', 1402),\n",
       " ('końca', 1402),\n",
       " ('koniec', 1401),\n",
       " ('koszt', 1401),\n",
       " ('lepsze', 1396),\n",
       " ('buciki', 1392),\n",
       " ('innego', 1391),\n",
       " ('środę', 1391),\n",
       " ('którą', 1390),\n",
       " ('kontaktu', 1388),\n",
       " ('dzisiaj', 1386),\n",
       " ('internetowego', 1386),\n",
       " ('generalnie', 1385),\n",
       " ('realizację', 1384),\n",
       " ('bedzie', 1384),\n",
       " ('goraco', 1381),\n",
       " ('dobrą', 1377),\n",
       " ('dotarły', 1376),\n",
       " ('zgadza', 1375),\n",
       " ('jedno', 1373),\n",
       " ('atrakcyjnych', 1372),\n",
       " ('zostały', 1367),\n",
       " ('online', 1362),\n",
       " ('11', 1362),\n",
       " ('znowu', 1361),\n",
       " ('sprawy', 1356),\n",
       " ('osób', 1355),\n",
       " ('perfekcyjnie', 1354),\n",
       " ('plusem', 1353),\n",
       " ('mały', 1351),\n",
       " ('problemow', 1349),\n",
       " ('dziekuje', 1347),\n",
       " ('udało', 1341),\n",
       " ('szczególnie', 1337),\n",
       " ('słowem', 1336),\n",
       " ('cie', 1336),\n",
       " ('według', 1332),\n",
       " ('sieci', 1330),\n",
       " ('przyszedł', 1330),\n",
       " ('godz', 1328),\n",
       " ('infolinii', 1327),\n",
       " ('transakcje', 1327),\n",
       " ('zwroty', 1327),\n",
       " ('mówi', 1323),\n",
       " ('skoro', 1323),\n",
       " ('mogłam', 1322),\n",
       " ('zamowieniem', 1321),\n",
       " ('artykułów', 1320),\n",
       " ('powodu', 1320),\n",
       " ('złożone', 1319),\n",
       " ('czekałam', 1317),\n",
       " ('odebrałem', 1317),\n",
       " ('nam', 1316),\n",
       " ('trzymać', 1315),\n",
       " ('stałym', 1314),\n",
       " ('panie', 1310),\n",
       " ('sprawie', 1308),\n",
       " ('piękne', 1308),\n",
       " ('dostawą', 1307),\n",
       " ('zdjęciu', 1306),\n",
       " ('miejska', 1304),\n",
       " ('następny', 1302),\n",
       " ('zeby', 1302),\n",
       " ('gówno', 1301),\n",
       " ('dziękuje', 1300),\n",
       " ('całą', 1298),\n",
       " ('widzę', 1297),\n",
       " ('znalazłam', 1295),\n",
       " ('odebrania', 1291),\n",
       " ('koszty', 1288),\n",
       " ('boże', 1288),\n",
       " ('opinię', 1286),\n",
       " ('zamówionych', 1285),\n",
       " ('doszła', 1272),\n",
       " ('wiadomo', 1271),\n",
       " ('prawidłowo', 1268),\n",
       " ('krótki', 1267),\n",
       " ('mieli', 1265),\n",
       " ('mogłem', 1265),\n",
       " ('zdjęć', 1263),\n",
       " ('mogą', 1263),\n",
       " ('ekspresowym', 1261),\n",
       " ('netpunkcie', 1261),\n",
       " ('wg', 1259),\n",
       " ('terminowa', 1257),\n",
       " ('zwrotem', 1255),\n",
       " ('trudno', 1255),\n",
       " ('ładne', 1255),\n",
       " ('maile', 1253),\n",
       " ('nimi', 1252),\n",
       " ('przyjazny', 1252),\n",
       " ('musiałem', 1251),\n",
       " ('niska', 1251),\n",
       " ('fakt', 1250),\n",
       " ('niby', 1250),\n",
       " ('pyr', 1250),\n",
       " ('moze', 1248),\n",
       " ('drugie', 1242),\n",
       " ('pozytywne', 1242),\n",
       " ('książkę', 1241),\n",
       " ('pytanie', 1240),\n",
       " ('brakuje', 1240),\n",
       " ('wygodny', 1239),\n",
       " ('problemy', 1237),\n",
       " ('idealny', 1234),\n",
       " ('bonito', 1234),\n",
       " ('opisy', 1231),\n",
       " ('opcji', 1231),\n",
       " ('opcja', 1230),\n",
       " ('macie', 1230),\n",
       " ('ogóle', 1230),\n",
       " ('zrobili', 1227),\n",
       " ('16', 1220),\n",
       " ('dawna', 1218),\n",
       " ('człowiek', 1218),\n",
       " ...]"
      ]
     },
     "execution_count": 41,
     "metadata": {},
     "output_type": "execute_result"
    }
   ],
   "source": [
    "sorted(frequency.items(), key = lambda kv: kv[1], reverse=True)"
   ]
  },
  {
   "cell_type": "code",
   "execution_count": 43,
   "id": "19e4f2f5",
   "metadata": {
    "ExecuteTime": {
     "end_time": "2021-10-27T19:57:38.676016Z",
     "start_time": "2021-10-27T19:57:38.568604Z"
    }
   },
   "outputs": [
    {
     "data": {
      "text/plain": [
       "[('półtłusty', 1),\n",
       " ('slladnikiem', 1),\n",
       " ('wyrównano', 1),\n",
       " ('przydługawa', 1),\n",
       " ('maaasą', 1),\n",
       " ('ciogwiazdkowym', 1),\n",
       " ('długotrwała', 1),\n",
       " ('smsai', 1),\n",
       " ('szyfrowany', 1),\n",
       " ('najważniejszę', 1),\n",
       " ('regital', 1),\n",
       " ('przeterminowaniem', 1),\n",
       " ('wyprzedawany', 1),\n",
       " ('odkręciłem', 1),\n",
       " ('sklepiem', 1),\n",
       " ('abroad', 1),\n",
       " ('oczymalam', 1),\n",
       " ('pczka', 1),\n",
       " ('zakoszony', 1),\n",
       " ('zamaiwane', 1),\n",
       " ('potłukł', 1),\n",
       " ('farmaceutyku', 1),\n",
       " ('wzmiankowaną', 1),\n",
       " ('przrebiegało', 1),\n",
       " ('plasterki', 1),\n",
       " ('przyśpieszające', 1),\n",
       " ('gojenie', 1),\n",
       " ('postrzałowe', 1),\n",
       " ('zagoiły', 1),\n",
       " ('realizicji', 1),\n",
       " ('dostareczania', 1),\n",
       " ('skleu', 1),\n",
       " ('napotkały', 1),\n",
       " ('skontktowała', 1),\n",
       " ('boe', 1),\n",
       " ('wanosci', 1),\n",
       " ('agencją', 1),\n",
       " ('odnosniebproduktow', 1),\n",
       " ('poszukiwaneho', 1),\n",
       " ('zadawlający', 1),\n",
       " ('kojazyc', 1),\n",
       " ('kosmetykiempolecam', 1),\n",
       " ('kolorystyczną', 1),\n",
       " ('zafowoleni', 1),\n",
       " ('interpersonalne', 1),\n",
       " ('sptekach', 1),\n",
       " ('pełeny', 1),\n",
       " ('luteina', 1),\n",
       " ('akupuy', 1),\n",
       " ('ppierwszy', 1),\n",
       " ('niedostepnego', 1),\n",
       " ('oświadczeniach', 1),\n",
       " ('telefoncizna', 1),\n",
       " ('zrealiwoane', 1),\n",
       " ('możlliwość', 1),\n",
       " ('dziękyję', 1),\n",
       " ('wypełnie', 1),\n",
       " ('zamówwieniem', 1),\n",
       " ('zaopatrującym', 1),\n",
       " ('zaopatrzna', 1),\n",
       " ('polecammmmmmmmmmmmmmmmmmmmmmmmmmmmmmmmmmmmmmmmmmmmmmmmmmmmmmmmmmmmmmmmmmmmmmmmmmmmmmmmmmmmmmmmmmmmmmmmmmmmmmmmmmmmmmmmmmmmmmmmmmmmmmmmmmmmmmm',\n",
       "  1),\n",
       " ('gorobnco', 1),\n",
       " ('upałach', 1),\n",
       " ('zróżnicowani', 1),\n",
       " ('wspaniałae', 1),\n",
       " ('zamówieoieo', 1),\n",
       " ('przesyłą', 1),\n",
       " ('szlifierka', 1),\n",
       " ('scholla', 1),\n",
       " ('poprwanie', 1),\n",
       " ('podanai', 1),\n",
       " ('razluzacji', 1),\n",
       " ('zaopatrza', 1),\n",
       " ('areakcyjne', 1),\n",
       " ('lozylam', 1),\n",
       " ('beściarskie', 1),\n",
       " ('odbębnić', 1),\n",
       " ('abmcentrum', 1),\n",
       " ('odostarczeniu', 1),\n",
       " ('niezorganizowanie', 1),\n",
       " ('hydrohinionie', 1),\n",
       " ('rozłożeniu', 1),\n",
       " ('albin', 1),\n",
       " ('opiny', 1),\n",
       " ('pzsdrawiam', 1),\n",
       " ('przyciagnał', 1),\n",
       " ('doknam', 1),\n",
       " ('uslyszałam', 1),\n",
       " ('mydełkiem', 1),\n",
       " ('akceptowalną', 1),\n",
       " ('hurtowi', 1),\n",
       " ('dosałam', 1),\n",
       " ('odkręcony', 1),\n",
       " ('sxybks', 1),\n",
       " ('polemcam', 1),\n",
       " ('juzżkolejny', 1),\n",
       " ('daac', 1),\n",
       " ('migający', 1),\n",
       " ('disiejszych', 1),\n",
       " ('zastępowania', 1),\n",
       " ('minmiałbym', 1),\n",
       " ('aerozolu', 1),\n",
       " ('pseudoaptekach', 1),\n",
       " ('lbiotica', 1),\n",
       " ('progestella', 1),\n",
       " ('przebuegła', 1),\n",
       " ('przedwysylka', 1),\n",
       " ('radzilalabym', 1),\n",
       " ('reglamentacja', 1),\n",
       " ('optipro', 1),\n",
       " ('nokautują', 1),\n",
       " ('produtami', 1),\n",
       " ('blyskawiczka', 1),\n",
       " ('sakup', 1),\n",
       " ('wątpliości', 1),\n",
       " ('niedociągnięńcia', 1),\n",
       " ('komunikowane', 1),\n",
       " ('maseczki', 1),\n",
       " ('tajszej', 1),\n",
       " ('zygmunt49', 1),\n",
       " ('niemolwat', 1),\n",
       " ('zmieniala', 1),\n",
       " ('odstepuje', 1),\n",
       " ('wypadaly', 1),\n",
       " ('ocenilam', 1),\n",
       " ('zstrzezenia', 1),\n",
       " ('opitem', 1),\n",
       " ('podmienione', 1),\n",
       " ('przeprowadzil', 1),\n",
       " ('polozonym', 1),\n",
       " ('malowazne', 1),\n",
       " ('skraczają', 1),\n",
       " ('przepisywać', 1),\n",
       " ('wirc', 1),\n",
       " ('kirpsko', 1),\n",
       " ('zrstaw', 1),\n",
       " ('olejkoem', 1),\n",
       " ('aptyka', 1),\n",
       " ('podwyzszaja', 1),\n",
       " ('zamowienin', 1),\n",
       " ('zgpdne', 1),\n",
       " ('pewnobędę', 1),\n",
       " ('wyszczególnieniem', 1),\n",
       " ('urzytkownikom', 1),\n",
       " ('bartłomiej', 1),\n",
       " ('exprresowa', 1),\n",
       " ('odliczaniem', 1),\n",
       " ('taryfą', 1),\n",
       " ('rzegocze', 1),\n",
       " ('efakturę', 1),\n",
       " ('niedomkniete', 1),\n",
       " ('cenypolecam', 1),\n",
       " ('slimaczek', 1),\n",
       " ('rzsdnych', 1),\n",
       " ('zaskoczemie', 1),\n",
       " ('konsyltantów', 1),\n",
       " ('wycierała', 1),\n",
       " ('niekórych', 1),\n",
       " ('misieczną', 1),\n",
       " ('nc150', 1),\n",
       " ('ootrzymany', 1),\n",
       " ('dopatrzyliśmy', 1),\n",
       " ('geriavit', 1),\n",
       " ('cobtu', 1),\n",
       " ('posiadajaca', 1),\n",
       " ('zadowalące', 1),\n",
       " ('bezprobremowa', 1),\n",
       " ('apakowania', 1),\n",
       " ('rozsyłacie', 1),\n",
       " ('przejrzystego', 1),\n",
       " ('miine', 1),\n",
       " ('asorttyment', 1),\n",
       " ('oznaczane', 1),\n",
       " ('znależliście', 1),\n",
       " ('orzatku', 1),\n",
       " ('utrudniły', 1),\n",
       " ('ponyslnie', 1),\n",
       " ('niezalogowanych', 1),\n",
       " ('zamówienego', 1),\n",
       " ('niskoch', 1),\n",
       " ('jaknależy', 1),\n",
       " ('precyzyjmie', 1),\n",
       " ('żadnycg', 1),\n",
       " ('naleźytym', 1),\n",
       " ('szacunkowej', 1),\n",
       " ('9kurier', 1),\n",
       " ('oczyszczającym', 1),\n",
       " ('mikotek', 1),\n",
       " ('ealizować', 1),\n",
       " ('13nastego', 1),\n",
       " ('18nastego', 1),\n",
       " ('skorzystalabym', 1),\n",
       " ('dostarczala', 1),\n",
       " ('chcialaam', 1),\n",
       " ('serdacznie', 1),\n",
       " ('sprzesyłki', 1),\n",
       " ('znjomyma', 1),\n",
       " ('zamóieniu', 1),\n",
       " ('oszczedzajac', 1),\n",
       " ('przeterminowe', 1),\n",
       " ('wzyystkim', 1),\n",
       " ('znajonym', 1),\n",
       " ('solhdnie', 1),\n",
       " ('zadnyxh', 1),\n",
       " ('leczniczymi', 1),\n",
       " ('zerooo', 1),\n",
       " ('bezkonkurecyjne', 1),\n",
       " ('spzredawcę', 1),\n",
       " ('12016', 1),\n",
       " ('przedświteczny', 1),\n",
       " ('kuriemrem', 1),\n",
       " ('bajką', 1),\n",
       " ('glukozy', 1),\n",
       " ('rozrobienia', 1),\n",
       " ('powtarzalam', 1),\n",
       " ('odklei', 1),\n",
       " ('belfastu', 1),\n",
       " ('pieniądzorów', 1),\n",
       " ('taaaniooo', 1),\n",
       " ('doooobrej', 1),\n",
       " ('krechę', 1),\n",
       " ('chiałam', 1),\n",
       " ('16120813081583', 1),\n",
       " ('biotebal', 1),\n",
       " ('witaminowy', 1),\n",
       " ('biotebalu', 1),\n",
       " ('polecsam', 1),\n",
       " ('limitowania', 1),\n",
       " ('mollers', 1),\n",
       " ('zabezpieczina', 1),\n",
       " ('rozpieszczenia', 1),\n",
       " ('wysane', 1),\n",
       " ('pozytzwna', 1),\n",
       " ('vrny', 1),\n",
       " ('gwarantowalo', 1),\n",
       " ('skubać', 1),\n",
       " ('farmaceucie', 1),\n",
       " ('rozbiły', 1),\n",
       " ('atraktycje', 1),\n",
       " ('polecazm', 1),\n",
       " ('wptekę', 1),\n",
       " ('dostawypolecam', 1),\n",
       " ('podkategori', 1),\n",
       " ('waznowści', 1),\n",
       " ('profeskonalizm', 1),\n",
       " ('opiasmi', 1),\n",
       " ('iwokaw1', 1),\n",
       " ('skspresowa', 1),\n",
       " ('przesylanymi', 1),\n",
       " ('dlugą', 1),\n",
       " ('przesylanie', 1),\n",
       " ('temperature', 1),\n",
       " ('zpiętą', 1),\n",
       " ('zszywaczem', 1),\n",
       " ('kosmetów', 1),\n",
       " ('skłakania', 1),\n",
       " ('szeszego', 1),\n",
       " ('zamówinych', 1),\n",
       " ('rożważyć', 1),\n",
       " ('rantów', 1),\n",
       " ('24zl', 1),\n",
       " ('placiłem', 1),\n",
       " ('doczekalabym', 1),\n",
       " ('lpolecam', 1),\n",
       " ('szegółach', 1),\n",
       " ('gfy', 1),\n",
       " ('naśladowaniu', 1),\n",
       " ('rodzajowo', 1),\n",
       " ('wysyłakę', 1),\n",
       " ('piguł', 1),\n",
       " ('megga', 1),\n",
       " ('płtość', 1),\n",
       " ('otryzmywalem', 1),\n",
       " ('odwlekłej', 1),\n",
       " ('realizowaliście', 1),\n",
       " ('fantastycznia', 1),\n",
       " ('mięte', 1),\n",
       " ('dziejdzieje', 1),\n",
       " ('dziękująca', 1),\n",
       " ('carhartt', 1),\n",
       " ('workstyle', 1),\n",
       " ('fostawy', 1),\n",
       " ('przeprowdzony', 1),\n",
       " ('pirleresze', 1),\n",
       " ('najlepszymk', 1),\n",
       " ('wapteca', 1),\n",
       " ('pprzebiegła', 1),\n",
       " ('serdecznnie', 1),\n",
       " ('moa', 1),\n",
       " ('apeta', 1),\n",
       " ('kosmetycznymi', 1),\n",
       " ('zgopdny', 1),\n",
       " ('dyskrecje', 1),\n",
       " ('skladala', 1),\n",
       " ('infotmacje', 1),\n",
       " ('perturbacjami', 1),\n",
       " ('brakowaloich', 1),\n",
       " ('zamówieniae', 1),\n",
       " ('wgiete', 1),\n",
       " ('wgiecia', 1),\n",
       " ('rychliwe', 1),\n",
       " ('sfatygowała', 1),\n",
       " ('idobra', 1),\n",
       " ('głupawą', 1),\n",
       " ('miko', 1),\n",
       " ('odpowiadą', 1),\n",
       " ('ipinii', 1),\n",
       " ('szybkoni', 1),\n",
       " ('sprawnioe', 1),\n",
       " ('bardzoniskie', 1),\n",
       " ('itanio', 1),\n",
       " ('paie', 1),\n",
       " ('przywoitej', 1),\n",
       " ('wyrażamy', 1),\n",
       " ('vzystym', 1),\n",
       " ('przelany', 1),\n",
       " ('10mejli', 1),\n",
       " ('zrealiz0wane', 1),\n",
       " ('sumiennosci', 1),\n",
       " ('poniedzialem', 1),\n",
       " ('rozem', 1),\n",
       " ('przelalam', 1),\n",
       " ('transkacka', 1),\n",
       " ('dostarczpne', 1),\n",
       " ('ibede', 1),\n",
       " ('sprswna', 1),\n",
       " ('upomonek', 1),\n",
       " ('przeglądnia', 1),\n",
       " ('niefortunne', 1),\n",
       " ('wardze', 1),\n",
       " ('zg0odna', 1),\n",
       " ('prawdiłowo', 1),\n",
       " ('wqszystko', 1),\n",
       " ('zupdatowany', 1),\n",
       " ('szepnęły', 1),\n",
       " ('kulawe', 1),\n",
       " ('niezszyte', 1),\n",
       " ('doplacajac', 1),\n",
       " ('dolozony', 1),\n",
       " ('skorne', 1),\n",
       " ('tytko', 1),\n",
       " ('zgrabnym', 1),\n",
       " ('przytespne', 1),\n",
       " ('niezapłacenia', 1),\n",
       " ('termoizolacyjną', 1),\n",
       " ('ukąszenia', 1),\n",
       " ('anulującej', 1),\n",
       " ('konkurencyjn', 1),\n",
       " ('jdstem', 1),\n",
       " ('prężności', 1),\n",
       " ('znizkowych', 1),\n",
       " ('viza', 1),\n",
       " ('zarzu', 1),\n",
       " ('ktoktóra', 1),\n",
       " ('preparatem', 1),\n",
       " ('podrażnia', 1),\n",
       " ('cerze', 1),\n",
       " ('robiacym', 1),\n",
       " ('otrrzymałem', 1),\n",
       " ('apterka', 1),\n",
       " ('niepowiadomienie', 1),\n",
       " ('slonecznym', 1),\n",
       " ('reasearch', 1),\n",
       " ('zdziwnienie', 1),\n",
       " ('oddadza', 1),\n",
       " ('zrownalo', 1),\n",
       " ('nazwala', 1),\n",
       " ('standzrdzie', 1),\n",
       " ('dalszemu', 1),\n",
       " ('3minutach', 1),\n",
       " ('zajęlo', 1),\n",
       " ('produktółw', 1),\n",
       " ('zawssze', 1),\n",
       " ('supser', 1),\n",
       " ('przetargałam', 1),\n",
       " ('zwklekaja', 1),\n",
       " ('konczyl', 1),\n",
       " ('gratissy', 1),\n",
       " ('poleclam', 1),\n",
       " ('przykładania', 1),\n",
       " ('szyfrowanego', 1),\n",
       " ('podejrzeniem', 1),\n",
       " ('przechwyceniem', 1),\n",
       " ('pogniecionie', 1),\n",
       " ('ppwinny', 1),\n",
       " ('pudeleczka', 1),\n",
       " ('milabszybka', 1),\n",
       " ('ternetowa', 1),\n",
       " ('rrzetelnie', 1),\n",
       " ('dpdatkowych', 1),\n",
       " ('pozyttwny', 1),\n",
       " ('dogne', 1),\n",
       " ('parudziesięciu', 1),\n",
       " ('waqptece', 1),\n",
       " ('korystałam', 1),\n",
       " ('wsrodku', 1),\n",
       " ('ciężkomi', 1),\n",
       " ('obssuga', 1),\n",
       " ('cenz', 1),\n",
       " ('sublement', 1),\n",
       " ('abezpieczony', 1),\n",
       " ('warstwowe', 1),\n",
       " ('informecje', 1),\n",
       " ('wymuszano', 1),\n",
       " ('korowody', 1),\n",
       " ('zamawialan', 1),\n",
       " ('bratysławskiej', 1),\n",
       " ('piotrkowska', 1),\n",
       " ('błądziła', 1),\n",
       " ('wyyslka', 1),\n",
       " ('nękający', 1),\n",
       " ('dopytywanie', 1),\n",
       " ('wysylle', 1),\n",
       " ('niescisle', 1),\n",
       " ('gratosow', 1),\n",
       " ('pozostawiało', 1),\n",
       " ('waptek', 1),\n",
       " ('zamowiam', 1),\n",
       " ('proceduralnie', 1),\n",
       " ('mizdrzenia', 1),\n",
       " ('odkręcona', 1),\n",
       " ('rozlala', 1),\n",
       " ('nadapodziewanie', 1),\n",
       " ('doplacie', 1),\n",
       " ('indiwidualnie', 1),\n",
       " ('komercyjnej', 1),\n",
       " ('superfarmaceutki', 1),\n",
       " ('supermodelki', 1),\n",
       " ('trmu', 1),\n",
       " ('domowić', 1),\n",
       " ('sprzedaqqjącego', 1),\n",
       " ('sumieniemm', 1),\n",
       " ('przyjemnosciom', 1),\n",
       " ('odnaleziem', 1),\n",
       " ('pszejrzyste', 1),\n",
       " ('taowar', 1),\n",
       " ('szukąlem', 1),\n",
       " ('barrrrrdzo', 1),\n",
       " ('przestłki', 1),\n",
       " ('zagodny', 1),\n",
       " ('trusted', 1),\n",
       " ('pość', 1),\n",
       " ('centszybka', 1),\n",
       " ('wywysylka', 1),\n",
       " ('twardowskiego', 1),\n",
       " ('cześto', 1),\n",
       " ('dokręcona', 1),\n",
       " ('suep', 1),\n",
       " ('krzyknęli', 1),\n",
       " ('waapteka', 1),\n",
       " ('37zl', 1),\n",
       " ('bezprovlemowo', 1),\n",
       " ('toniki', 1),\n",
       " ('fostalam', 1),\n",
       " ('wszyskimm', 1),\n",
       " ('niewystawionej', 1),\n",
       " ('wpatece', 1),\n",
       " ('konsystencję', 1),\n",
       " ('udanepod', 1),\n",
       " ('polecammmmmmmmmmmmmmmmmmmmmmmmmmmmmmmmmmmmmmm', 1),\n",
       " ('fenyloketonurią', 1),\n",
       " ('zamówiemiu', 1),\n",
       " ('jeszcże', 1),\n",
       " ('afrozjatykow', 1),\n",
       " ('łatowsc', 1),\n",
       " ('zaawyczaj', 1),\n",
       " ('imszybka', 1),\n",
       " ('namiejscu', 1),\n",
       " ('zakończonego', 1),\n",
       " ('mozns', 1),\n",
       " ('porzadniej', 1),\n",
       " ('zawilgotniona', 1),\n",
       " ('dermatologiczne', 1),\n",
       " ('pobiewaz', 1),\n",
       " ('atopowym', 1),\n",
       " ('demsa', 1),\n",
       " ('opiniowaniem', 1),\n",
       " ('funkcjonowaniesklepu', 1),\n",
       " ('piątak', 1),\n",
       " ('asortymentow', 1),\n",
       " ('żadngo', 1),\n",
       " ('wykazana', 1),\n",
       " ('uzgadnianiu', 1),\n",
       " ('pozrywałaby', 1),\n",
       " ('prsebieglo', 1),\n",
       " ('zmyty', 1),\n",
       " ('szprzedawca', 1),\n",
       " ('potrzebwalam', 1),\n",
       " ('generanie', 1),\n",
       " ('narazilo', 1),\n",
       " ('systemow', 1),\n",
       " ('zatyczka', 1),\n",
       " ('objedn', 1),\n",
       " ('vky', 1),\n",
       " ('zapteki', 1),\n",
       " ('dotpaya', 1),\n",
       " ('wyrazimy', 1),\n",
       " ('5mca', 1),\n",
       " ('sprezyc', 1),\n",
       " ('szybkej', 1),\n",
       " ('stacojnarnej', 1),\n",
       " ('opoźnia', 1),\n",
       " ('pozbywacie', 1),\n",
       " ('p24', 1),\n",
       " ('forfleks', 1),\n",
       " ('pozytwywnie', 1),\n",
       " ('wygasała', 1),\n",
       " ('trand', 1),\n",
       " ('sakcja', 1),\n",
       " ('oczekwania', 1),\n",
       " ('przesuwało', 1),\n",
       " ('przewlekłość', 1),\n",
       " ('kupiiłam', 1),\n",
       " ('ocuvite', 1),\n",
       " ('biotyk', 1),\n",
       " ('wypija', 1),\n",
       " ('ycloprzesyłki', 1),\n",
       " ('omplikacji', 1),\n",
       " ('280zł', 1),\n",
       " ('ucieszyłby', 1),\n",
       " ('prrzystępne', 1),\n",
       " ('zufany', 1),\n",
       " ('przestłką', 1),\n",
       " ('cenao', 1),\n",
       " ('stronice', 1),\n",
       " ('terla', 1),\n",
       " ('dobrek', 1),\n",
       " ('zaspamowana', 1),\n",
       " ('fachoaw', 1),\n",
       " ('kolejnyvjestem', 1),\n",
       " ('zasugeruje', 1),\n",
       " ('wywiązywała', 1),\n",
       " ('wporządeczku', 1),\n",
       " ('ąsprzedają', 1),\n",
       " ('przesyłja', 1),\n",
       " ('żelkach', 1),\n",
       " ('napoczętych', 1),\n",
       " ('94zł', 1),\n",
       " ('specyfikami', 1),\n",
       " ('zamowienka', 1),\n",
       " ('konkurencjyjne', 1),\n",
       " ('humer', 1),\n",
       " ('aplikatora', 1),\n",
       " ('zmeczone', 1),\n",
       " ('kojelny', 1),\n",
       " ('zrobi3', 1),\n",
       " ('niemowlęciu', 1),\n",
       " ('regulowac', 1),\n",
       " ('poczt', 1),\n",
       " ('kwieciście', 1),\n",
       " ('srpawnie', 1),\n",
       " ('nieczytelnego', 1),\n",
       " ('upewnila', 1),\n",
       " ('faktue', 1),\n",
       " ('darowa', 1),\n",
       " ('cazek', 1),\n",
       " ('dosknaly', 1),\n",
       " ('wysłanny', 1),\n",
       " ('przystąpią', 1),\n",
       " ('wygdnie', 1),\n",
       " ('colladerm', 1),\n",
       " ('zkiwania', 1),\n",
       " ('rolecam', 1),\n",
       " ('dziekujee', 1),\n",
       " ('wszelaka', 1),\n",
       " ('nadplaconych', 1),\n",
       " ('ponowanie', 1),\n",
       " ('kliente', 1),\n",
       " ('pieluchomajtek', 1),\n",
       " ('parublat', 1),\n",
       " ('odkrecila', 1),\n",
       " ('szczelnosci', 1),\n",
       " ('internertowy', 1),\n",
       " ('pełnąodpowiedzialnością', 1),\n",
       " ('obłapiania', 1),\n",
       " ('dozownika', 1),\n",
       " ('przekrojowy', 1),\n",
       " ('zamówieńiem', 1),\n",
       " ('uodparniających', 1),\n",
       " ('nasercowych', 1),\n",
       " ('biocardine', 1),\n",
       " ('omega3', 1),\n",
       " ('rokitnika', 1),\n",
       " ('frm', 1),\n",
       " ('ptekach', 1),\n",
       " ('lanshion', 1),\n",
       " ('realisacja', 1),\n",
       " ('wyczerupująca', 1),\n",
       " ('bezproblemowas', 1),\n",
       " ('czytysm', 1),\n",
       " ('iliści', 1),\n",
       " ('wliczenia', 1),\n",
       " ('cwnach', 1),\n",
       " ('doraciu', 1),\n",
       " ('kostakt', 1),\n",
       " ('budzącej', 1),\n",
       " ('niniedostępnosci', 1),\n",
       " ('wydlużone', 1),\n",
       " ('całaści', 1),\n",
       " ('odżałuj', 1),\n",
       " ('zakupywał', 1),\n",
       " ('compositum', 1),\n",
       " ('b2', 1),\n",
       " ('wągrowieckich', 1),\n",
       " ('bylony', 1),\n",
       " ('wapaptece', 1),\n",
       " ('hattingen', 1),\n",
       " ('wyciekiem', 1),\n",
       " ('opiniodawców', 1),\n",
       " ('rozlanych', 1),\n",
       " ('laków', 1),\n",
       " ('ooszlo', 1),\n",
       " ('intnernetu', 1),\n",
       " ('półlitrowe', 1),\n",
       " ('jestsm', 1),\n",
       " ('przeylane', 1),\n",
       " ('krewny', 1),\n",
       " ('przesaylke', 1),\n",
       " ('opinuę', 1),\n",
       " ('forflex', 1),\n",
       " ('konkyrencyjny', 1),\n",
       " ('domostwa', 1),\n",
       " ('oczekiwaniamia', 1),\n",
       " ('pierwszty', 1),\n",
       " ('zawracano', 1),\n",
       " ('porzadkuszybka', 1),\n",
       " ('gooraco', 1),\n",
       " ('przyznań', 1),\n",
       " ('naśladowańia', 1),\n",
       " ('osięgalna', 1),\n",
       " ('zwiedziłem', 1),\n",
       " ('przepraszająco', 1),\n",
       " ('luzacka', 1),\n",
       " ('ligunin', 1),\n",
       " ('menopauzę', 1),\n",
       " ('uzo', 1),\n",
       " ('zmanie', 1),\n",
       " ('kremik', 1),\n",
       " ('zacheta', 1),\n",
       " ('wybłagałam', 1),\n",
       " ('lekarst', 1),\n",
       " ('konourencyjnych', 1),\n",
       " ('dostarczenirm', 1),\n",
       " ('korzystami', 1),\n",
       " ('przeglądanki', 1),\n",
       " ('sprawine', 1),\n",
       " ('zapłacinu', 1),\n",
       " ('zamówieniaw', 1),\n",
       " ('wysyłe', 1),\n",
       " ('nieposiadających', 1),\n",
       " ('dober', 1),\n",
       " ('atrakcyjniejdze', 1),\n",
       " ('skromniutki', 1),\n",
       " ('deugi', 1),\n",
       " ('atraktycjnych', 1),\n",
       " ('migotania', 1),\n",
       " ('odparzeniom', 1),\n",
       " ('cynkiem', 1),\n",
       " ('bejbus', 1),\n",
       " ('aloes', 1),\n",
       " ('zamoczony', 1),\n",
       " ('polelecam', 1),\n",
       " ('ślimaczyła', 1),\n",
       " ('nieznajomości', 1),\n",
       " ('bezpłatnymi', 1),\n",
       " ('zmówinie', 1),\n",
       " ('niezawysokie', 1),\n",
       " ('wyszkiwania', 1),\n",
       " ('obsługia', 1),\n",
       " ('profesionali', 1),\n",
       " ('polecamzabezpieczony', 1),\n",
       " ('polecamę', 1),\n",
       " ('dostarzono', 1),\n",
       " ('krzem', 1),\n",
       " ('opóźniał', 1),\n",
       " ('ellaone', 1),\n",
       " ('pakuła', 1),\n",
       " ('szczepy', 1),\n",
       " ('liofilizowanych', 1),\n",
       " ('mlekowego', 1),\n",
       " ('nagrzanego', 1),\n",
       " ('ieżco', 1),\n",
       " ('rzetelość', 1),\n",
       " ('uśrednione', 1),\n",
       " ('rinze', 1),\n",
       " ('wysyłkqa', 1),\n",
       " ('nocrmy', 1),\n",
       " ('allevo', 1),\n",
       " ('podk', 1),\n",
       " ('nbd', 1),\n",
       " ('kopletowaliście', 1),\n",
       " ('przepisany', 1),\n",
       " ('dermatologa', 1),\n",
       " ('26zl', 1),\n",
       " ('ponformowac', 1),\n",
       " ('ulepszeniach', 1),\n",
       " ('matusewicz', 1),\n",
       " ('cetapil', 1),\n",
       " ('mddermoprotektor', 1),\n",
       " ('swietlika', 1),\n",
       " ('bwalatka', 1),\n",
       " ('flos', 1),\n",
       " ('zobezpieczony', 1),\n",
       " ('nietanich', 1),\n",
       " ('przyjema', 1),\n",
       " ('zapaakowana', 1),\n",
       " ('ejo', 1),\n",
       " ('przyjemnoćią', 1),\n",
       " ('wyszukiwałam', 1),\n",
       " ('plain', 1),\n",
       " ('przeważały', 1),\n",
       " ('kopertami', 1),\n",
       " ('przeprwadzone', 1),\n",
       " ('bezpeoblemowa', 1),\n",
       " ('mtody', 1),\n",
       " ('sierodka', 1),\n",
       " ('przewyzsza', 1),\n",
       " ('wszastkie', 1),\n",
       " ('swiatoweo', 1),\n",
       " ('waszyc', 1),\n",
       " ('prowesjonalizm', 1),\n",
       " ('amowieniem', 1),\n",
       " ('opłącenia', 1),\n",
       " ('urzedow', 1),\n",
       " ('poinformowanomnie', 1),\n",
       " ('gorłąco', 1),\n",
       " ('onstanie', 1),\n",
       " ('kiedyś5', 1),\n",
       " ('sprawnedostarczenie', 1),\n",
       " ('przelwem', 1),\n",
       " ('sprawujacy', 1),\n",
       " ('nadzor', 1),\n",
       " ('samodzeilnego', 1),\n",
       " ('podkadegorie', 1),\n",
       " ('pozostawałam', 1),\n",
       " ('ola566', 1),\n",
       " ('zadodowlony', 1),\n",
       " ('potrfelu', 1),\n",
       " ('superpharmie', 1),\n",
       " ('dozie', 1),\n",
       " ('trapiące', 1),\n",
       " ('wywiązaniu', 1),\n",
       " ('krótkszy', 1),\n",
       " ('swzybka', 1),\n",
       " ('meycznych', 1),\n",
       " ('transskcjs', 1),\n",
       " ('niewspółmierna', 1),\n",
       " ('zkupach', 1),\n",
       " ('zniecierpliwić', 1),\n",
       " ('imunoglukan', 1),\n",
       " ('zatwierdziłam', 1),\n",
       " ('asystor', 1),\n",
       " ('uprzedzanie', 1),\n",
       " ('najbliżsżej', 1),\n",
       " ('zammówień', 1),\n",
       " ('imponującym', 1),\n",
       " ('lenili', 1),\n",
       " ('pomyslano', 1),\n",
       " ('przeczesałam', 1),\n",
       " ('jimi', 1),\n",
       " ('nawilża', 1),\n",
       " ('podraznioną', 1),\n",
       " ('dostano', 1),\n",
       " ('skorxystam', 1),\n",
       " ('otrzuymałem', 1),\n",
       " ('domowieniem', 1),\n",
       " ('sortymentem', 1),\n",
       " ('zawyżył', 1),\n",
       " ('realuzują', 1),\n",
       " ('paczaka', 1),\n",
       " ('szukąłem', 1),\n",
       " ('polecenia1', 1),\n",
       " ('zgodno', 1),\n",
       " ('uzgodnilam', 1),\n",
       " ('sięzgadzały', 1),\n",
       " ('oryginlnie', 1),\n",
       " ('uzupełniac', 1),\n",
       " ('cechować', 1),\n",
       " ('dostęponość', 1),\n",
       " ('spieprzyl', 1),\n",
       " ('60sztuk', 1),\n",
       " ('zaproponowaniu', 1),\n",
       " ('dożyła', 1),\n",
       " ('odkręcila', 1),\n",
       " ('zciagneli', 1),\n",
       " ('przestlke', 1),\n",
       " ('trasankcja', 1),\n",
       " ('zamówieiem', 1),\n",
       " ('reelacyjny', 1),\n",
       " ('obsługaszej', 1),\n",
       " ('costumer', 1),\n",
       " ('podzdrawiam', 1),\n",
       " ('stacjonarrnych', 1),\n",
       " ('waptka', 1),\n",
       " ('zzzzawsze', 1),\n",
       " ('tubce', 1),\n",
       " ('wypracowaniu', 1),\n",
       " ('poziomobsługi', 1),\n",
       " ('jakoć', 1),\n",
       " ('ślnie', 1),\n",
       " ('kooperatywny', 1),\n",
       " ('komunikacija', 1),\n",
       " ('lakarstw', 1),\n",
       " ('pochlebstw', 1),\n",
       " ('wyważonej', 1),\n",
       " ('świtanie', 1),\n",
       " ('faux', 1),\n",
       " ('dodatowego', 1),\n",
       " ('rozpatzono', 1),\n",
       " ('porówananiu', 1),\n",
       " ('wychoodzi', 1),\n",
       " ('nqstepnego', 1),\n",
       " ('notesiki', 1),\n",
       " ('szybvka', 1),\n",
       " ('acc', 1),\n",
       " ('przeoczony', 1),\n",
       " ('robiłoby', 1),\n",
       " ('współpracuja', 1),\n",
       " ('perzystepne', 1),\n",
       " ('ogolonie', 1),\n",
       " ('potczas', 1),\n",
       " ('lanym', 1),\n",
       " ('pewnio', 1),\n",
       " ('wapeka', 1),\n",
       " ('nide', 1),\n",
       " ('dolącza', 1),\n",
       " ('wsparta', 1),\n",
       " ('niezdążyłem', 1),\n",
       " ('paramedykamentów', 1),\n",
       " ('najbardzioej', 1),\n",
       " ('zalaczonej', 1),\n",
       " ('ufalam', 1),\n",
       " ('inr', 1),\n",
       " ('szeregiem', 1),\n",
       " ('oklicy', 1),\n",
       " ('zagrożoną', 1),\n",
       " ('chorowała', 1),\n",
       " ('600g', 1),\n",
       " ('sfermentowane', 1),\n",
       " ('ostarniego', 1),\n",
       " ('podrozal', 1),\n",
       " ('wplyniecie', 1),\n",
       " ('krótszej', 1),\n",
       " ('dotaryly', 1),\n",
       " ('staysfakcjonujące', 1),\n",
       " ('doręcznie', 1),\n",
       " ('78pln', 1),\n",
       " ('42pln', 1),\n",
       " ('uwielbiał', 1),\n",
       " ('niekwestionowana', 1),\n",
       " ('ostapiński', 1),\n",
       " ('wsytawic', 1),\n",
       " ('25ml', 1),\n",
       " ('apteta', 1),\n",
       " ('uszkodzrniem', 1),\n",
       " ('odnotować', 1),\n",
       " ('klucenia', 1),\n",
       " ('sklsp', 1),\n",
       " ('odpowiedznio', 1),\n",
       " ('popełnianie', 1),\n",
       " ('beaproblemowa', 1),\n",
       " ('dokłady', 1),\n",
       " ('biomarine570', 1),\n",
       " ('andrzejg22', 1),\n",
       " ('rutinoscorbinu', 1),\n",
       " ('zesprzedającym', 1),\n",
       " ('zaowolana', 1),\n",
       " ('ponie', 1),\n",
       " ('przwidywanym', 1),\n",
       " ('wykrztuśne', 1),\n",
       " ('odpornościowe', 1),\n",
       " ('zadowolanoa', 1),\n",
       " ('123456789', 1),\n",
       " ('sptrzedawca', 1),\n",
       " ('szywbka', 1),\n",
       " ('internertowych', 1),\n",
       " ('rrwelacyjne', 1),\n",
       " ('przyjemnioscia', 1),\n",
       " ('numerologicznym', 1),\n",
       " ('zakochanych', 1),\n",
       " ('leiej', 1),\n",
       " ('spoczną', 1),\n",
       " ('zzmówniena', 1),\n",
       " ('jakichkoklwiek', 1),\n",
       " ('00towar', 1),\n",
       " ('dłuzszym', 1),\n",
       " ('weluru', 1),\n",
       " ('zaczesanego', 1),\n",
       " ('imaczej', 1),\n",
       " ('zamszem', 1),\n",
       " ('profesjonalnaa', 1),\n",
       " ('centymetrem', 1),\n",
       " ('nagiął', 1),\n",
       " ('zdrapywaniem', 1),\n",
       " ('łydką', 1),\n",
       " ('realizania', 1),\n",
       " ('zaniosł', 1),\n",
       " ('szczęściepani', 1),\n",
       " ('peoblemow', 1),\n",
       " ('kopotow', 1),\n",
       " ('zufridenheit', 1),\n",
       " ('empfehlenswert', 1),\n",
       " ('zwężenia', 1),\n",
       " ('uwrażliwieniem', 1),\n",
       " ('obslusa', 1),\n",
       " ('potrzee', 1),\n",
       " ('topornie', 1),\n",
       " ('89pln', 1),\n",
       " ('lasockim', 1),\n",
       " ('stabilności', 1),\n",
       " ('okresowego', 1),\n",
       " ('obouwie', 1),\n",
       " ('automacie', 1),\n",
       " ('spełnieniajace', 1),\n",
       " ('przyjemnostka', 1),\n",
       " ('robotaaa', 1),\n",
       " ('zawszeprzebiegła', 1),\n",
       " ('produkti', 1),\n",
       " ('doraobsluga', 1),\n",
       " ('zadowolonyzadowolona', 1),\n",
       " ('nieporęczne', 1),\n",
       " ('wachaja', 1),\n",
       " ('serwsu', 1),\n",
       " ('uspójnić', 1),\n",
       " ('upraszczajcie', 1),\n",
       " ('zakpuy', 1),\n",
       " ('maxell', 1),\n",
       " ('dolączone', 1),\n",
       " ('399zl', 1),\n",
       " ('zaimpregnowaniu', 1),\n",
       " ('antiaqua', 1),\n",
       " ('jakichkoliek', 1),\n",
       " ('dokłładnie', 1),\n",
       " ('kwitów', 1),\n",
       " ('rządnych', 1),\n",
       " ('marszczenie', 1),\n",
       " ('skiry', 1),\n",
       " ('przymierzę', 1),\n",
       " ('piorunowo', 1),\n",
       " ('dogona', 1),\n",
       " ('rabatowegoa', 1),\n",
       " ('krótej', 1),\n",
       " ('wszystkoest', 1),\n",
       " ('kipowac', 1),\n",
       " ('jedakże', 1),\n",
       " ('profeskonalnie', 1),\n",
       " ('rozdarka', 1),\n",
       " ('bodki', 1),\n",
       " ('omięło', 1),\n",
       " ('filcem', 1),\n",
       " ('intrnet', 1),\n",
       " ('naliczyło', 1),\n",
       " ('bierzacym', 1),\n",
       " ('wygarbowana', 1),\n",
       " ('wieletnią', 1),\n",
       " ('trsnzakcja', 1),\n",
       " ('zazutu', 1),\n",
       " ('boots', 1),\n",
       " ('opoziomie', 1),\n",
       " ('zjęciami', 1),\n",
       " ('skomplikowałam', 1),\n",
       " ('wyrazny', 1),\n",
       " ('pomiete', 1),\n",
       " ('luksówka', 1),\n",
       " ('dużyyyy', 1),\n",
       " ('póżniejszej', 1),\n",
       " ('znaczace', 1),\n",
       " ('rozlaczajaca', 1),\n",
       " ('podcxas', 1),\n",
       " ('wykanano', 1),\n",
       " ('konserwacyjne', 1),\n",
       " ('wzrocic', 1),\n",
       " ('korzystalbym', 1),\n",
       " ('adidasach', 1),\n",
       " ('cięko', 1),\n",
       " ('wykorzystywaniu', 1),\n",
       " ('pomarańczowemu', 1),\n",
       " ('wytłoczony', 1),\n",
       " ('wskazówkach', 1),\n",
       " ('ścigano', 1),\n",
       " ('powinnny', 1),\n",
       " ('fachura', 1),\n",
       " ('transakcjas', 1),\n",
       " ('staraniom', 1),\n",
       " ('prokonsumenckie', 1),\n",
       " ('rajstopie', 1),\n",
       " ('skarpetce', 1),\n",
       " ('oczekiwaiami', 1),\n",
       " ('zakłióceń', 1),\n",
       " ('paczakomacie', 1),\n",
       " ('przyspożylo', 1),\n",
       " ('eprofesjonalnie', 1),\n",
       " ('epolecam', 1),\n",
       " ('znakomocie', 1),\n",
       " ('profesjolanla', 1),\n",
       " ('znajomity', 1),\n",
       " ('poniedziale', 1),\n",
       " ('stockholmu', 1),\n",
       " ('edę', 1),\n",
       " ('awizowaną', 1),\n",
       " ...]"
      ]
     },
     "execution_count": 43,
     "metadata": {},
     "output_type": "execute_result"
    }
   ],
   "source": [
    "sorted(frequency.items(), key = lambda kv: kv[1], reverse=False)"
   ]
  },
  {
   "cell_type": "markdown",
   "id": "6c458cfd",
   "metadata": {},
   "source": [
    "# load preprocessed pickle"
   ]
  },
  {
   "cell_type": "code",
   "execution_count": 123,
   "id": "eea98f96",
   "metadata": {
    "ExecuteTime": {
     "end_time": "2021-10-30T12:31:19.261338Z",
     "start_time": "2021-10-30T12:31:18.958435Z"
    }
   },
   "outputs": [
    {
     "name": "stderr",
     "output_type": "stream",
     "text": [
      "INFO:2021-10-30 14:31:19:io:loading from pickle: ./data/20211026_225637/df_prepro_metadata.pkl\n",
      "INFO:2021-10-30 14:31:19:io:loaded 1 rows\n"
     ]
    }
   ],
   "source": [
    "meta = PickleLoader(data_type='meta').load()"
   ]
  },
  {
   "cell_type": "code",
   "execution_count": 124,
   "id": "bf93f8cb",
   "metadata": {
    "ExecuteTime": {
     "end_time": "2021-10-30T12:31:24.176599Z",
     "start_time": "2021-10-30T12:31:24.155458Z"
    }
   },
   "outputs": [
    {
     "data": {
      "text/html": [
       "<div>\n",
       "<style scoped>\n",
       "    .dataframe tbody tr th:only-of-type {\n",
       "        vertical-align: middle;\n",
       "    }\n",
       "\n",
       "    .dataframe tbody tr th {\n",
       "        vertical-align: top;\n",
       "    }\n",
       "\n",
       "    .dataframe thead th {\n",
       "        text-align: right;\n",
       "    }\n",
       "</style>\n",
       "<table border=\"1\" class=\"dataframe\">\n",
       "  <thead>\n",
       "    <tr style=\"text-align: right;\">\n",
       "      <th></th>\n",
       "      <th>ts</th>\n",
       "      <th>params</th>\n",
       "      <th>working_dir</th>\n",
       "      <th>git_branch</th>\n",
       "      <th>git_commit</th>\n",
       "      <th>git_sha</th>\n",
       "      <th>shape</th>\n",
       "      <th>columns</th>\n",
       "    </tr>\n",
       "  </thead>\n",
       "  <tbody>\n",
       "    <tr>\n",
       "      <th>0</th>\n",
       "      <td>20211026_225637</td>\n",
       "      <td>{'text_cleaning__keep_digits': True, 'text_cle...</td>\n",
       "      <td>/home/mic/Pulpit/pyProj/gensim</td>\n",
       "      <td>master</td>\n",
       "      <td>separate load and preprocessing in prep_data.py\\n</td>\n",
       "      <td>e213422d2c827ff60027a8b5dbf8917a78822f49</td>\n",
       "      <td>(917525, 8)</td>\n",
       "      <td>[desc, len, negative, desc_clean, len_clean, l...</td>\n",
       "    </tr>\n",
       "  </tbody>\n",
       "</table>\n",
       "</div>"
      ],
      "text/plain": [
       "                ts                                             params  \\\n",
       "0  20211026_225637  {'text_cleaning__keep_digits': True, 'text_cle...   \n",
       "\n",
       "                      working_dir git_branch  \\\n",
       "0  /home/mic/Pulpit/pyProj/gensim     master   \n",
       "\n",
       "                                          git_commit  \\\n",
       "0  separate load and preprocessing in prep_data.py\\n   \n",
       "\n",
       "                                    git_sha        shape  \\\n",
       "0  e213422d2c827ff60027a8b5dbf8917a78822f49  (917525, 8)   \n",
       "\n",
       "                                             columns  \n",
       "0  [desc, len, negative, desc_clean, len_clean, l...  "
      ]
     },
     "execution_count": 124,
     "metadata": {},
     "output_type": "execute_result"
    }
   ],
   "source": [
    "meta"
   ]
  },
  {
   "cell_type": "code",
   "execution_count": 3,
   "id": "52432a1d",
   "metadata": {
    "ExecuteTime": {
     "end_time": "2021-10-28T18:40:05.693281Z",
     "start_time": "2021-10-28T18:40:00.035787Z"
    }
   },
   "outputs": [
    {
     "name": "stderr",
     "output_type": "stream",
     "text": [
      "INFO:2021-10-28 20:40:00:io:loading from pickle: ./data/20211026_225637/df_prepro.pkl\n",
      "INFO:2021-10-28 20:40:05:io:loaded 917525 rows\n"
     ]
    }
   ],
   "source": [
    "data = PickleLoader().load()"
   ]
  },
  {
   "cell_type": "code",
   "execution_count": 30,
   "id": "01219d96",
   "metadata": {
    "ExecuteTime": {
     "end_time": "2021-10-26T21:05:48.130889Z",
     "start_time": "2021-10-26T21:05:48.108223Z"
    }
   },
   "outputs": [
    {
     "data": {
      "text/html": [
       "<div>\n",
       "<style scoped>\n",
       "    .dataframe tbody tr th:only-of-type {\n",
       "        vertical-align: middle;\n",
       "    }\n",
       "\n",
       "    .dataframe tbody tr th {\n",
       "        vertical-align: top;\n",
       "    }\n",
       "\n",
       "    .dataframe thead th {\n",
       "        text-align: right;\n",
       "    }\n",
       "</style>\n",
       "<table border=\"1\" class=\"dataframe\">\n",
       "  <thead>\n",
       "    <tr style=\"text-align: right;\">\n",
       "      <th></th>\n",
       "      <th>desc</th>\n",
       "      <th>len</th>\n",
       "      <th>negative</th>\n",
       "      <th>desc_clean</th>\n",
       "      <th>len_clean</th>\n",
       "      <th>len_clean_ratio</th>\n",
       "      <th>tokens</th>\n",
       "      <th>tokens_len</th>\n",
       "    </tr>\n",
       "  </thead>\n",
       "  <tbody>\n",
       "    <tr>\n",
       "      <th>0</th>\n",
       "      <td>Polecam nie pierwszy i nie ostatni raz!</td>\n",
       "      <td>39</td>\n",
       "      <td>0.0</td>\n",
       "      <td>polecam nie pierwszy i nie ostatni raz</td>\n",
       "      <td>38</td>\n",
       "      <td>0.974359</td>\n",
       "      <td>[polecam, nie, pierwszy, i, nie, ostatni, raz]</td>\n",
       "      <td>7</td>\n",
       "    </tr>\n",
       "    <tr>\n",
       "      <th>1</th>\n",
       "      <td>Bardzo dobra komunikacja sms i telefoniczna. Z...</td>\n",
       "      <td>121</td>\n",
       "      <td>0.0</td>\n",
       "      <td>bardzo dobra komunikacja sms i telefoniczna za...</td>\n",
       "      <td>117</td>\n",
       "      <td>0.966942</td>\n",
       "      <td>[bardzo, dobra, komunikacja, sms, i, telefonic...</td>\n",
       "      <td>16</td>\n",
       "    </tr>\n",
       "    <tr>\n",
       "      <th>2</th>\n",
       "      <td>Polecam zakupy w tym sklepie. Są dostępne częś...</td>\n",
       "      <td>87</td>\n",
       "      <td>0.0</td>\n",
       "      <td>polecam zakupy w tym sklepie są dostępne częśc...</td>\n",
       "      <td>84</td>\n",
       "      <td>0.965517</td>\n",
       "      <td>[polecam, zakupy, w, tym, sklepie, są, dostępn...</td>\n",
       "      <td>14</td>\n",
       "    </tr>\n",
       "    <tr>\n",
       "      <th>3</th>\n",
       "      <td>Jestem w pełni zadowolona z przebiegu transakcji</td>\n",
       "      <td>48</td>\n",
       "      <td>0.0</td>\n",
       "      <td>jestem w pełni zadowolona z przebiegu transakcji</td>\n",
       "      <td>48</td>\n",
       "      <td>1.000000</td>\n",
       "      <td>[jestem, w, pełni, zadowolona, z, przebiegu, t...</td>\n",
       "      <td>7</td>\n",
       "    </tr>\n",
       "    <tr>\n",
       "      <th>4</th>\n",
       "      <td>Transakcja przebiegła błyskawicznie. Pełen pro...</td>\n",
       "      <td>86</td>\n",
       "      <td>0.0</td>\n",
       "      <td>transakcja przebiegła błyskawicznie pełen prof...</td>\n",
       "      <td>84</td>\n",
       "      <td>0.976744</td>\n",
       "      <td>[transakcja, przebiegła, błyskawicznie, pełen,...</td>\n",
       "      <td>9</td>\n",
       "    </tr>\n",
       "  </tbody>\n",
       "</table>\n",
       "</div>"
      ],
      "text/plain": [
       "                                                desc  len  negative  \\\n",
       "0            Polecam nie pierwszy i nie ostatni raz!   39       0.0   \n",
       "1  Bardzo dobra komunikacja sms i telefoniczna. Z...  121       0.0   \n",
       "2  Polecam zakupy w tym sklepie. Są dostępne częś...   87       0.0   \n",
       "3   Jestem w pełni zadowolona z przebiegu transakcji   48       0.0   \n",
       "4  Transakcja przebiegła błyskawicznie. Pełen pro...   86       0.0   \n",
       "\n",
       "                                          desc_clean  len_clean  \\\n",
       "0             polecam nie pierwszy i nie ostatni raz         38   \n",
       "1  bardzo dobra komunikacja sms i telefoniczna za...        117   \n",
       "2  polecam zakupy w tym sklepie są dostępne częśc...         84   \n",
       "3   jestem w pełni zadowolona z przebiegu transakcji         48   \n",
       "4  transakcja przebiegła błyskawicznie pełen prof...         84   \n",
       "\n",
       "   len_clean_ratio                                             tokens  \\\n",
       "0         0.974359     [polecam, nie, pierwszy, i, nie, ostatni, raz]   \n",
       "1         0.966942  [bardzo, dobra, komunikacja, sms, i, telefonic...   \n",
       "2         0.965517  [polecam, zakupy, w, tym, sklepie, są, dostępn...   \n",
       "3         1.000000  [jestem, w, pełni, zadowolona, z, przebiegu, t...   \n",
       "4         0.976744  [transakcja, przebiegła, błyskawicznie, pełen,...   \n",
       "\n",
       "   tokens_len  \n",
       "0           7  \n",
       "1          16  \n",
       "2          14  \n",
       "3           7  \n",
       "4           9  "
      ]
     },
     "execution_count": 30,
     "metadata": {},
     "output_type": "execute_result"
    }
   ],
   "source": [
    "data.head()"
   ]
  },
  {
   "cell_type": "markdown",
   "id": "fc36c5c2",
   "metadata": {},
   "source": [
    "# modeling"
   ]
  },
  {
   "cell_type": "markdown",
   "id": "62107800",
   "metadata": {},
   "source": [
    "## imports"
   ]
  },
  {
   "cell_type": "code",
   "execution_count": 7,
   "id": "602d5a5a",
   "metadata": {
    "ExecuteTime": {
     "end_time": "2021-10-26T20:21:19.395212Z",
     "start_time": "2021-10-26T20:21:19.107679Z"
    }
   },
   "outputs": [],
   "source": [
    "import gensim\n",
    "from gensim import corpora, models"
   ]
  },
  {
   "cell_type": "markdown",
   "id": "c669f5c5",
   "metadata": {},
   "source": [
    "## dictionary"
   ]
  },
  {
   "cell_type": "code",
   "execution_count": 8,
   "id": "b9524c3c",
   "metadata": {
    "ExecuteTime": {
     "end_time": "2021-10-26T20:21:36.923867Z",
     "start_time": "2021-10-26T20:21:22.852522Z"
    }
   },
   "outputs": [],
   "source": [
    "# Create dictionary\n",
    "dictionary = corpora.Dictionary(data['tokens'])"
   ]
  },
  {
   "cell_type": "code",
   "execution_count": 9,
   "id": "96970e15",
   "metadata": {
    "ExecuteTime": {
     "end_time": "2021-10-26T20:25:03.966841Z",
     "start_time": "2021-10-26T20:25:03.954202Z"
    }
   },
   "outputs": [
    {
     "name": "stdout",
     "output_type": "stream",
     "text": [
      "unique tokens count: 260521\n"
     ]
    }
   ],
   "source": [
    "print(f\"unique tokens count: {len(dictionary)}\")"
   ]
  },
  {
   "cell_type": "code",
   "execution_count": 94,
   "id": "11d615b8",
   "metadata": {
    "ExecuteTime": {
     "end_time": "2021-10-27T21:49:05.503150Z",
     "start_time": "2021-10-27T21:49:05.487110Z"
    }
   },
   "outputs": [
    {
     "data": {
      "text/plain": [
       "3051"
      ]
     },
     "execution_count": 94,
     "metadata": {},
     "output_type": "execute_result"
    }
   ],
   "source": [
    "dictionary.token2id['hej']"
   ]
  },
  {
   "cell_type": "code",
   "execution_count": 105,
   "id": "46d1d660",
   "metadata": {
    "ExecuteTime": {
     "end_time": "2021-10-27T21:54:20.269503Z",
     "start_time": "2021-10-27T21:54:20.185140Z"
    }
   },
   "outputs": [
    {
     "data": {
      "text/plain": [
       "'i'"
      ]
     },
     "execution_count": 105,
     "metadata": {},
     "output_type": "execute_result"
    }
   ],
   "source": [
    "dictionary[0]"
   ]
  },
  {
   "cell_type": "code",
   "execution_count": 110,
   "id": "8f6bbca2",
   "metadata": {
    "ExecuteTime": {
     "end_time": "2021-10-27T21:56:16.459722Z",
     "start_time": "2021-10-27T21:56:16.431743Z"
    }
   },
   "outputs": [
    {
     "data": {
      "text/plain": [
       "[(129, 2), (1165, 1), (2545, 1)]"
      ]
     },
     "execution_count": 110,
     "metadata": {},
     "output_type": "execute_result"
    }
   ],
   "source": [
    "dictionary.doc2bow(['takie', 'tam', 'tu', 'tam'])"
   ]
  },
  {
   "cell_type": "code",
   "execution_count": 112,
   "id": "f0f3e719",
   "metadata": {
    "ExecuteTime": {
     "end_time": "2021-10-27T21:58:08.367207Z",
     "start_time": "2021-10-27T21:58:08.349741Z"
    }
   },
   "outputs": [
    {
     "data": {
      "text/plain": [
       "[(2545, 1), (8059, 1)]"
      ]
     },
     "execution_count": 112,
     "metadata": {},
     "output_type": "execute_result"
    }
   ],
   "source": [
    "dictionary.doc2bow('takie ładne cośik'.split())"
   ]
  },
  {
   "cell_type": "code",
   "execution_count": 122,
   "id": "6bcf1b70",
   "metadata": {
    "ExecuteTime": {
     "end_time": "2021-10-27T22:04:05.267675Z",
     "start_time": "2021-10-27T22:04:05.254126Z"
    }
   },
   "outputs": [
    {
     "data": {
      "text/plain": [
       "398206"
      ]
     },
     "execution_count": 122,
     "metadata": {},
     "output_type": "execute_result"
    }
   ],
   "source": [
    "# number token occurances\n",
    "dictionary.cfs[dictionary.token2id['i']]"
   ]
  },
  {
   "cell_type": "code",
   "execution_count": 123,
   "id": "17ee147a",
   "metadata": {
    "ExecuteTime": {
     "end_time": "2021-10-27T22:04:08.948780Z",
     "start_time": "2021-10-27T22:04:08.933614Z"
    }
   },
   "outputs": [
    {
     "data": {
      "text/plain": [
       "322975"
      ]
     },
     "execution_count": 123,
     "metadata": {},
     "output_type": "execute_result"
    }
   ],
   "source": [
    "# number of documents with this token\n",
    "dictionary.dfs[dictionary.token2id['i']]"
   ]
  },
  {
   "cell_type": "code",
   "execution_count": 124,
   "id": "9a0495fb",
   "metadata": {
    "ExecuteTime": {
     "end_time": "2021-10-27T22:14:17.678033Z",
     "start_time": "2021-10-27T22:14:17.665253Z"
    }
   },
   "outputs": [],
   "source": [
    "import copy"
   ]
  },
  {
   "cell_type": "code",
   "execution_count": 205,
   "id": "d0936668",
   "metadata": {
    "ExecuteTime": {
     "end_time": "2021-10-27T23:24:31.205027Z",
     "start_time": "2021-10-27T23:24:31.190989Z"
    }
   },
   "outputs": [],
   "source": [
    "d2 = copy.copy(dictionary)"
   ]
  },
  {
   "cell_type": "code",
   "execution_count": 197,
   "id": "aa809f67",
   "metadata": {
    "ExecuteTime": {
     "end_time": "2021-10-27T23:01:13.764754Z",
     "start_time": "2021-10-27T23:01:13.464042Z"
    }
   },
   "outputs": [
    {
     "name": "stderr",
     "output_type": "stream",
     "text": [
      "INFO:2021-10-28 01:01:13:gensim.corpora.dictionary:discarding 250521 tokens: [('i', 322975), ('polecam', 311848), ('lodówek', 14), ('szybę', 36), ('elastyczna', 51), ('wyrozumiała', 41), ('magiczne', 7), ('pomylono', 51), ('różowo', 8), ('wybrakowany', 25)]...\n",
      "INFO:2021-10-28 01:01:13:gensim.corpora.dictionary:keeping 10000 tokens which were in no less than 50 and no more than 275257 (=30.0%) documents\n",
      "INFO:2021-10-28 01:01:13:gensim.corpora.dictionary:resulting dictionary: Dictionary(10000 unique tokens: ['nie', 'ostatni', 'pierwszy', 'raz', 'bardzo']...)\n"
     ]
    }
   ],
   "source": [
    "d2.filter_extremes(no_below=50, no_above=0.3, keep_n=10000, keep_tokens=None)"
   ]
  },
  {
   "cell_type": "code",
   "execution_count": 198,
   "id": "77b8e39b",
   "metadata": {
    "ExecuteTime": {
     "end_time": "2021-10-27T23:01:15.199628Z",
     "start_time": "2021-10-27T23:01:15.186040Z"
    }
   },
   "outputs": [
    {
     "data": {
      "text/plain": [
       "10000"
      ]
     },
     "execution_count": 198,
     "metadata": {},
     "output_type": "execute_result"
    }
   ],
   "source": [
    "len(d2)"
   ]
  },
  {
   "cell_type": "code",
   "execution_count": 206,
   "id": "e3053bae",
   "metadata": {
    "ExecuteTime": {
     "end_time": "2021-10-27T23:24:53.235931Z",
     "start_time": "2021-10-27T23:24:53.218304Z"
    }
   },
   "outputs": [
    {
     "ename": "TypeError",
     "evalue": "unsupported operand type(s) for *: 'NoneType' and 'int'",
     "output_type": "error",
     "traceback": [
      "\u001b[0;31m---------------------------------------------------------------------------\u001b[0m",
      "\u001b[0;31mTypeError\u001b[0m                                 Traceback (most recent call last)",
      "\u001b[0;32m/tmp/ipykernel_9332/2401437979.py\u001b[0m in \u001b[0;36m<module>\u001b[0;34m\u001b[0m\n\u001b[0;32m----> 1\u001b[0;31m \u001b[0md2\u001b[0m\u001b[0;34m.\u001b[0m\u001b[0mfilter_extremes\u001b[0m\u001b[0;34m(\u001b[0m\u001b[0mno_below\u001b[0m\u001b[0;34m=\u001b[0m\u001b[0;32mNone\u001b[0m\u001b[0;34m,\u001b[0m \u001b[0mno_above\u001b[0m\u001b[0;34m=\u001b[0m\u001b[0;32mNone\u001b[0m\u001b[0;34m,\u001b[0m \u001b[0mkeep_n\u001b[0m\u001b[0;34m=\u001b[0m\u001b[0;32mNone\u001b[0m\u001b[0;34m,\u001b[0m \u001b[0mkeep_tokens\u001b[0m\u001b[0;34m=\u001b[0m\u001b[0;32mNone\u001b[0m\u001b[0;34m)\u001b[0m\u001b[0;34m\u001b[0m\u001b[0;34m\u001b[0m\u001b[0m\n\u001b[0m",
      "\u001b[0;32m~/Pulpit/pyProj/gensim/venv/lib/python3.8/site-packages/gensim/corpora/dictionary.py\u001b[0m in \u001b[0;36mfilter_extremes\u001b[0;34m(self, no_below, no_above, keep_n, keep_tokens)\u001b[0m\n\u001b[1;32m    346\u001b[0m \u001b[0;34m\u001b[0m\u001b[0m\n\u001b[1;32m    347\u001b[0m         \"\"\"\n\u001b[0;32m--> 348\u001b[0;31m         \u001b[0mno_above_abs\u001b[0m \u001b[0;34m=\u001b[0m \u001b[0mint\u001b[0m\u001b[0;34m(\u001b[0m\u001b[0mno_above\u001b[0m \u001b[0;34m*\u001b[0m \u001b[0mself\u001b[0m\u001b[0;34m.\u001b[0m\u001b[0mnum_docs\u001b[0m\u001b[0;34m)\u001b[0m  \u001b[0;31m# convert fractional threshold to absolute threshold\u001b[0m\u001b[0;34m\u001b[0m\u001b[0;34m\u001b[0m\u001b[0m\n\u001b[0m\u001b[1;32m    349\u001b[0m \u001b[0;34m\u001b[0m\u001b[0m\n\u001b[1;32m    350\u001b[0m         \u001b[0;31m# determine which tokens to keep\u001b[0m\u001b[0;34m\u001b[0m\u001b[0;34m\u001b[0m\u001b[0;34m\u001b[0m\u001b[0m\n",
      "\u001b[0;31mTypeError\u001b[0m: unsupported operand type(s) for *: 'NoneType' and 'int'"
     ]
    }
   ],
   "source": [
    "d2.filter_extremes(no_below=None, no_above=None, keep_n=None, keep_tokens=None)"
   ]
  },
  {
   "cell_type": "code",
   "execution_count": 207,
   "id": "875023ae",
   "metadata": {
    "ExecuteTime": {
     "end_time": "2021-10-27T23:27:42.932700Z",
     "start_time": "2021-10-27T23:27:42.919247Z"
    }
   },
   "outputs": [
    {
     "data": {
      "text/plain": [
       "{'a': None, 'b': None}"
      ]
     },
     "execution_count": 207,
     "metadata": {},
     "output_type": "execute_result"
    }
   ],
   "source": [
    "dd = {'a': None, 'b': None}\n",
    "dd"
   ]
  },
  {
   "cell_type": "code",
   "execution_count": 210,
   "id": "14d5a40d",
   "metadata": {
    "ExecuteTime": {
     "end_time": "2021-10-27T23:32:04.119319Z",
     "start_time": "2021-10-27T23:32:04.105293Z"
    }
   },
   "outputs": [],
   "source": [
    "if dict():\n",
    "    print('hi')"
   ]
  },
  {
   "cell_type": "code",
   "execution_count": 211,
   "id": "6c6a32d8",
   "metadata": {
    "ExecuteTime": {
     "end_time": "2021-10-27T23:32:10.283037Z",
     "start_time": "2021-10-27T23:32:10.269782Z"
    }
   },
   "outputs": [
    {
     "data": {
      "text/plain": [
       "{}"
      ]
     },
     "execution_count": 211,
     "metadata": {},
     "output_type": "execute_result"
    }
   ],
   "source": [
    "dict()"
   ]
  },
  {
   "cell_type": "markdown",
   "id": "5e6f2e3a",
   "metadata": {},
   "source": [
    "## corpus to pd"
   ]
  },
  {
   "cell_type": "code",
   "execution_count": 152,
   "id": "e5e2e154",
   "metadata": {
    "ExecuteTime": {
     "end_time": "2021-10-27T22:30:05.772846Z",
     "start_time": "2021-10-27T22:30:05.755871Z"
    }
   },
   "outputs": [],
   "source": [
    "import scipy as sp"
   ]
  },
  {
   "cell_type": "code",
   "execution_count": 199,
   "id": "06c9b01d",
   "metadata": {
    "ExecuteTime": {
     "end_time": "2021-10-27T23:01:19.285654Z",
     "start_time": "2021-10-27T23:01:19.272084Z"
    }
   },
   "outputs": [
    {
     "data": {
      "text/plain": [
       "[[(0, 1), (3, 1), (6, 1), (11, 1)], [(5, 1), (19, 1)]]"
      ]
     },
     "execution_count": 199,
     "metadata": {},
     "output_type": "execute_result"
    }
   ],
   "source": [
    "l = [['nie', 'raz', 'dobrze', 'ten'], ['dobra', 'do']]\n",
    "# l = [['nie', 'raz', 'dobrze', 'ten']]\n",
    "\n",
    "corpus = [d2.doc2bow(t) for t in l]\n",
    "corpus"
   ]
  },
  {
   "cell_type": "code",
   "execution_count": 200,
   "id": "246c8eb4",
   "metadata": {
    "ExecuteTime": {
     "end_time": "2021-10-27T23:01:20.115456Z",
     "start_time": "2021-10-27T23:01:20.102790Z"
    }
   },
   "outputs": [],
   "source": [
    "i, j, data = zip(*((i, t[0], t[1]) for i, row in enumerate(corpus) for t in row))"
   ]
  },
  {
   "cell_type": "code",
   "execution_count": 201,
   "id": "56c5ca86",
   "metadata": {
    "ExecuteTime": {
     "end_time": "2021-10-27T23:01:22.230485Z",
     "start_time": "2021-10-27T23:01:22.205922Z"
    }
   },
   "outputs": [],
   "source": [
    "mm = sp.sparse.coo_matrix((data, (i, j)), shape=(len(corpus), len(d2)))"
   ]
  },
  {
   "cell_type": "code",
   "execution_count": 202,
   "id": "24d1de1f",
   "metadata": {
    "ExecuteTime": {
     "end_time": "2021-10-27T23:01:22.975836Z",
     "start_time": "2021-10-27T23:01:22.820096Z"
    }
   },
   "outputs": [
    {
     "data": {
      "text/html": [
       "<div>\n",
       "<style scoped>\n",
       "    .dataframe tbody tr th:only-of-type {\n",
       "        vertical-align: middle;\n",
       "    }\n",
       "\n",
       "    .dataframe tbody tr th {\n",
       "        vertical-align: top;\n",
       "    }\n",
       "\n",
       "    .dataframe thead th {\n",
       "        text-align: right;\n",
       "    }\n",
       "</style>\n",
       "<table border=\"1\" class=\"dataframe\">\n",
       "  <thead>\n",
       "    <tr style=\"text-align: right;\">\n",
       "      <th></th>\n",
       "      <th>0</th>\n",
       "      <th>1</th>\n",
       "      <th>2</th>\n",
       "      <th>3</th>\n",
       "      <th>4</th>\n",
       "      <th>5</th>\n",
       "      <th>6</th>\n",
       "      <th>7</th>\n",
       "      <th>8</th>\n",
       "      <th>9</th>\n",
       "      <th>...</th>\n",
       "      <th>9990</th>\n",
       "      <th>9991</th>\n",
       "      <th>9992</th>\n",
       "      <th>9993</th>\n",
       "      <th>9994</th>\n",
       "      <th>9995</th>\n",
       "      <th>9996</th>\n",
       "      <th>9997</th>\n",
       "      <th>9998</th>\n",
       "      <th>9999</th>\n",
       "    </tr>\n",
       "  </thead>\n",
       "  <tbody>\n",
       "    <tr>\n",
       "      <th>0</th>\n",
       "      <td>1</td>\n",
       "      <td>0</td>\n",
       "      <td>0</td>\n",
       "      <td>1</td>\n",
       "      <td>0</td>\n",
       "      <td>0</td>\n",
       "      <td>1</td>\n",
       "      <td>0</td>\n",
       "      <td>0</td>\n",
       "      <td>0</td>\n",
       "      <td>...</td>\n",
       "      <td>0</td>\n",
       "      <td>0</td>\n",
       "      <td>0</td>\n",
       "      <td>0</td>\n",
       "      <td>0</td>\n",
       "      <td>0</td>\n",
       "      <td>0</td>\n",
       "      <td>0</td>\n",
       "      <td>0</td>\n",
       "      <td>0</td>\n",
       "    </tr>\n",
       "    <tr>\n",
       "      <th>1</th>\n",
       "      <td>0</td>\n",
       "      <td>0</td>\n",
       "      <td>0</td>\n",
       "      <td>0</td>\n",
       "      <td>0</td>\n",
       "      <td>1</td>\n",
       "      <td>0</td>\n",
       "      <td>0</td>\n",
       "      <td>0</td>\n",
       "      <td>0</td>\n",
       "      <td>...</td>\n",
       "      <td>0</td>\n",
       "      <td>0</td>\n",
       "      <td>0</td>\n",
       "      <td>0</td>\n",
       "      <td>0</td>\n",
       "      <td>0</td>\n",
       "      <td>0</td>\n",
       "      <td>0</td>\n",
       "      <td>0</td>\n",
       "      <td>0</td>\n",
       "    </tr>\n",
       "  </tbody>\n",
       "</table>\n",
       "<p>2 rows × 10000 columns</p>\n",
       "</div>"
      ],
      "text/plain": [
       "   0     1     2     3     4     5     6     7     8     9     ...  9990  \\\n",
       "0     1     0     0     1     0     0     1     0     0     0  ...     0   \n",
       "1     0     0     0     0     0     1     0     0     0     0  ...     0   \n",
       "\n",
       "   9991  9992  9993  9994  9995  9996  9997  9998  9999  \n",
       "0     0     0     0     0     0     0     0     0     0  \n",
       "1     0     0     0     0     0     0     0     0     0  \n",
       "\n",
       "[2 rows x 10000 columns]"
      ]
     },
     "execution_count": 202,
     "metadata": {},
     "output_type": "execute_result"
    }
   ],
   "source": [
    "pd.DataFrame.sparse.from_spmatrix(mm)"
   ]
  },
  {
   "cell_type": "markdown",
   "id": "69c7946a",
   "metadata": {},
   "source": [
    "## corpus"
   ]
  },
  {
   "cell_type": "code",
   "execution_count": 178,
   "id": "43c05ca7",
   "metadata": {
    "ExecuteTime": {
     "end_time": "2021-10-27T22:58:24.471424Z",
     "start_time": "2021-10-27T22:58:13.356624Z"
    }
   },
   "outputs": [],
   "source": [
    "corpus = [dictionary.doc2bow(tokens) for tokens in data['tokens']]"
   ]
  },
  {
   "cell_type": "code",
   "execution_count": 14,
   "id": "865f19ea",
   "metadata": {
    "ExecuteTime": {
     "end_time": "2021-10-26T20:42:22.673042Z",
     "start_time": "2021-10-26T20:42:22.650034Z"
    }
   },
   "outputs": [
    {
     "data": {
      "text/plain": [
       "917525"
      ]
     },
     "execution_count": 14,
     "metadata": {},
     "output_type": "execute_result"
    }
   ],
   "source": [
    "len(corpus)"
   ]
  },
  {
   "cell_type": "code",
   "execution_count": 111,
   "id": "adbee240",
   "metadata": {
    "ExecuteTime": {
     "end_time": "2021-10-27T21:57:53.578183Z",
     "start_time": "2021-10-27T21:57:53.562137Z"
    }
   },
   "outputs": [
    {
     "data": {
      "text/plain": [
       "[(0, 1), (1, 2), (2, 1), (3, 1), (4, 1), (5, 1)]"
      ]
     },
     "execution_count": 111,
     "metadata": {},
     "output_type": "execute_result"
    }
   ],
   "source": [
    "corpus[0]"
   ]
  },
  {
   "cell_type": "code",
   "execution_count": 129,
   "id": "fa033503",
   "metadata": {
    "ExecuteTime": {
     "end_time": "2021-10-27T22:18:21.734658Z",
     "start_time": "2021-10-27T22:18:21.720473Z"
    }
   },
   "outputs": [
    {
     "data": {
      "text/plain": [
       "ItemsView(<gensim.corpora.dictionary.Dictionary object at 0x7f59d5407280>)"
      ]
     },
     "execution_count": 129,
     "metadata": {},
     "output_type": "execute_result"
    }
   ],
   "source": [
    "d2.items()"
   ]
  },
  {
   "cell_type": "code",
   "execution_count": null,
   "id": "ab515f92",
   "metadata": {},
   "outputs": [],
   "source": []
  },
  {
   "cell_type": "code",
   "execution_count": 219,
   "id": "d584e860",
   "metadata": {
    "ExecuteTime": {
     "end_time": "2021-10-27T23:51:03.879189Z",
     "start_time": "2021-10-27T23:51:03.860825Z"
    }
   },
   "outputs": [
    {
     "name": "stdout",
     "output_type": "stream",
     "text": [
      "[(0, 0.13595079358327705), (3, 0.5820688743040994), (6, 0.1847102734992555), (11, 0.7801251964616102)]\n",
      "[(5, 0.5519210881824143), (19, 0.8338963439298314)]\n"
     ]
    }
   ],
   "source": [
    "for x in tfidf[corpus][:20]:\n",
    "    print(x)"
   ]
  },
  {
   "cell_type": "markdown",
   "id": "387c37f1",
   "metadata": {},
   "source": [
    "# tfidf"
   ]
  },
  {
   "cell_type": "code",
   "execution_count": 179,
   "id": "edeb59ab",
   "metadata": {
    "ExecuteTime": {
     "end_time": "2021-10-27T22:58:52.798703Z",
     "start_time": "2021-10-27T22:58:49.756730Z"
    },
    "scrolled": true
   },
   "outputs": [
    {
     "name": "stderr",
     "output_type": "stream",
     "text": [
      "INFO:2021-10-28 00:58:50:gensim.models.tfidfmodel:collecting document frequencies\n",
      "INFO:2021-10-28 00:58:50:gensim.models.tfidfmodel:PROGRESS: processing document #0\n",
      "INFO:2021-10-28 00:58:50:gensim.models.tfidfmodel:PROGRESS: processing document #10000\n",
      "INFO:2021-10-28 00:58:50:gensim.models.tfidfmodel:PROGRESS: processing document #20000\n",
      "INFO:2021-10-28 00:58:50:gensim.models.tfidfmodel:PROGRESS: processing document #30000\n",
      "INFO:2021-10-28 00:58:50:gensim.models.tfidfmodel:PROGRESS: processing document #40000\n",
      "INFO:2021-10-28 00:58:50:gensim.models.tfidfmodel:PROGRESS: processing document #50000\n",
      "INFO:2021-10-28 00:58:50:gensim.models.tfidfmodel:PROGRESS: processing document #60000\n",
      "INFO:2021-10-28 00:58:50:gensim.models.tfidfmodel:PROGRESS: processing document #70000\n",
      "INFO:2021-10-28 00:58:50:gensim.models.tfidfmodel:PROGRESS: processing document #80000\n",
      "INFO:2021-10-28 00:58:50:gensim.models.tfidfmodel:PROGRESS: processing document #90000\n",
      "INFO:2021-10-28 00:58:50:gensim.models.tfidfmodel:PROGRESS: processing document #100000\n",
      "INFO:2021-10-28 00:58:50:gensim.models.tfidfmodel:PROGRESS: processing document #110000\n",
      "INFO:2021-10-28 00:58:50:gensim.models.tfidfmodel:PROGRESS: processing document #120000\n",
      "INFO:2021-10-28 00:58:50:gensim.models.tfidfmodel:PROGRESS: processing document #130000\n",
      "INFO:2021-10-28 00:58:50:gensim.models.tfidfmodel:PROGRESS: processing document #140000\n",
      "INFO:2021-10-28 00:58:50:gensim.models.tfidfmodel:PROGRESS: processing document #150000\n",
      "INFO:2021-10-28 00:58:50:gensim.models.tfidfmodel:PROGRESS: processing document #160000\n",
      "INFO:2021-10-28 00:58:50:gensim.models.tfidfmodel:PROGRESS: processing document #170000\n",
      "INFO:2021-10-28 00:58:50:gensim.models.tfidfmodel:PROGRESS: processing document #180000\n",
      "INFO:2021-10-28 00:58:50:gensim.models.tfidfmodel:PROGRESS: processing document #190000\n",
      "INFO:2021-10-28 00:58:50:gensim.models.tfidfmodel:PROGRESS: processing document #200000\n",
      "INFO:2021-10-28 00:58:50:gensim.models.tfidfmodel:PROGRESS: processing document #210000\n",
      "INFO:2021-10-28 00:58:50:gensim.models.tfidfmodel:PROGRESS: processing document #220000\n",
      "INFO:2021-10-28 00:58:50:gensim.models.tfidfmodel:PROGRESS: processing document #230000\n",
      "INFO:2021-10-28 00:58:50:gensim.models.tfidfmodel:PROGRESS: processing document #240000\n",
      "INFO:2021-10-28 00:58:50:gensim.models.tfidfmodel:PROGRESS: processing document #250000\n",
      "INFO:2021-10-28 00:58:50:gensim.models.tfidfmodel:PROGRESS: processing document #260000\n",
      "INFO:2021-10-28 00:58:50:gensim.models.tfidfmodel:PROGRESS: processing document #270000\n",
      "INFO:2021-10-28 00:58:50:gensim.models.tfidfmodel:PROGRESS: processing document #280000\n",
      "INFO:2021-10-28 00:58:50:gensim.models.tfidfmodel:PROGRESS: processing document #290000\n",
      "INFO:2021-10-28 00:58:50:gensim.models.tfidfmodel:PROGRESS: processing document #300000\n",
      "INFO:2021-10-28 00:58:50:gensim.models.tfidfmodel:PROGRESS: processing document #310000\n",
      "INFO:2021-10-28 00:58:50:gensim.models.tfidfmodel:PROGRESS: processing document #320000\n",
      "INFO:2021-10-28 00:58:50:gensim.models.tfidfmodel:PROGRESS: processing document #330000\n",
      "INFO:2021-10-28 00:58:50:gensim.models.tfidfmodel:PROGRESS: processing document #340000\n",
      "INFO:2021-10-28 00:58:50:gensim.models.tfidfmodel:PROGRESS: processing document #350000\n",
      "INFO:2021-10-28 00:58:50:gensim.models.tfidfmodel:PROGRESS: processing document #360000\n",
      "INFO:2021-10-28 00:58:50:gensim.models.tfidfmodel:PROGRESS: processing document #370000\n",
      "INFO:2021-10-28 00:58:50:gensim.models.tfidfmodel:PROGRESS: processing document #380000\n",
      "INFO:2021-10-28 00:58:50:gensim.models.tfidfmodel:PROGRESS: processing document #390000\n",
      "INFO:2021-10-28 00:58:50:gensim.models.tfidfmodel:PROGRESS: processing document #400000\n",
      "INFO:2021-10-28 00:58:51:gensim.models.tfidfmodel:PROGRESS: processing document #410000\n",
      "INFO:2021-10-28 00:58:51:gensim.models.tfidfmodel:PROGRESS: processing document #420000\n",
      "INFO:2021-10-28 00:58:51:gensim.models.tfidfmodel:PROGRESS: processing document #430000\n",
      "INFO:2021-10-28 00:58:51:gensim.models.tfidfmodel:PROGRESS: processing document #440000\n",
      "INFO:2021-10-28 00:58:51:gensim.models.tfidfmodel:PROGRESS: processing document #450000\n",
      "INFO:2021-10-28 00:58:51:gensim.models.tfidfmodel:PROGRESS: processing document #460000\n",
      "INFO:2021-10-28 00:58:51:gensim.models.tfidfmodel:PROGRESS: processing document #470000\n",
      "INFO:2021-10-28 00:58:51:gensim.models.tfidfmodel:PROGRESS: processing document #480000\n",
      "INFO:2021-10-28 00:58:51:gensim.models.tfidfmodel:PROGRESS: processing document #490000\n",
      "INFO:2021-10-28 00:58:51:gensim.models.tfidfmodel:PROGRESS: processing document #500000\n",
      "INFO:2021-10-28 00:58:51:gensim.models.tfidfmodel:PROGRESS: processing document #510000\n",
      "INFO:2021-10-28 00:58:51:gensim.models.tfidfmodel:PROGRESS: processing document #520000\n",
      "INFO:2021-10-28 00:58:51:gensim.models.tfidfmodel:PROGRESS: processing document #530000\n",
      "INFO:2021-10-28 00:58:51:gensim.models.tfidfmodel:PROGRESS: processing document #540000\n",
      "INFO:2021-10-28 00:58:51:gensim.models.tfidfmodel:PROGRESS: processing document #550000\n",
      "INFO:2021-10-28 00:58:51:gensim.models.tfidfmodel:PROGRESS: processing document #560000\n",
      "INFO:2021-10-28 00:58:51:gensim.models.tfidfmodel:PROGRESS: processing document #570000\n",
      "INFO:2021-10-28 00:58:51:gensim.models.tfidfmodel:PROGRESS: processing document #580000\n",
      "INFO:2021-10-28 00:58:51:gensim.models.tfidfmodel:PROGRESS: processing document #590000\n",
      "INFO:2021-10-28 00:58:51:gensim.models.tfidfmodel:PROGRESS: processing document #600000\n",
      "INFO:2021-10-28 00:58:51:gensim.models.tfidfmodel:PROGRESS: processing document #610000\n",
      "INFO:2021-10-28 00:58:51:gensim.models.tfidfmodel:PROGRESS: processing document #620000\n",
      "INFO:2021-10-28 00:58:51:gensim.models.tfidfmodel:PROGRESS: processing document #630000\n",
      "INFO:2021-10-28 00:58:51:gensim.models.tfidfmodel:PROGRESS: processing document #640000\n",
      "INFO:2021-10-28 00:58:51:gensim.models.tfidfmodel:PROGRESS: processing document #650000\n",
      "INFO:2021-10-28 00:58:51:gensim.models.tfidfmodel:PROGRESS: processing document #660000\n",
      "INFO:2021-10-28 00:58:51:gensim.models.tfidfmodel:PROGRESS: processing document #670000\n",
      "INFO:2021-10-28 00:58:51:gensim.models.tfidfmodel:PROGRESS: processing document #680000\n",
      "INFO:2021-10-28 00:58:51:gensim.models.tfidfmodel:PROGRESS: processing document #690000\n",
      "INFO:2021-10-28 00:58:51:gensim.models.tfidfmodel:PROGRESS: processing document #700000\n",
      "INFO:2021-10-28 00:58:51:gensim.models.tfidfmodel:PROGRESS: processing document #710000\n",
      "INFO:2021-10-28 00:58:51:gensim.models.tfidfmodel:PROGRESS: processing document #720000\n",
      "INFO:2021-10-28 00:58:51:gensim.models.tfidfmodel:PROGRESS: processing document #730000\n",
      "INFO:2021-10-28 00:58:51:gensim.models.tfidfmodel:PROGRESS: processing document #740000\n",
      "INFO:2021-10-28 00:58:51:gensim.models.tfidfmodel:PROGRESS: processing document #750000\n",
      "INFO:2021-10-28 00:58:51:gensim.models.tfidfmodel:PROGRESS: processing document #760000\n",
      "INFO:2021-10-28 00:58:51:gensim.models.tfidfmodel:PROGRESS: processing document #770000\n",
      "INFO:2021-10-28 00:58:52:gensim.models.tfidfmodel:PROGRESS: processing document #780000\n",
      "INFO:2021-10-28 00:58:52:gensim.models.tfidfmodel:PROGRESS: processing document #790000\n",
      "INFO:2021-10-28 00:58:52:gensim.models.tfidfmodel:PROGRESS: processing document #800000\n",
      "INFO:2021-10-28 00:58:52:gensim.models.tfidfmodel:PROGRESS: processing document #810000\n",
      "INFO:2021-10-28 00:58:52:gensim.models.tfidfmodel:PROGRESS: processing document #820000\n",
      "INFO:2021-10-28 00:58:52:gensim.models.tfidfmodel:PROGRESS: processing document #830000\n",
      "INFO:2021-10-28 00:58:52:gensim.models.tfidfmodel:PROGRESS: processing document #840000\n",
      "INFO:2021-10-28 00:58:52:gensim.models.tfidfmodel:PROGRESS: processing document #850000\n",
      "INFO:2021-10-28 00:58:52:gensim.models.tfidfmodel:PROGRESS: processing document #860000\n",
      "INFO:2021-10-28 00:58:52:gensim.models.tfidfmodel:PROGRESS: processing document #870000\n",
      "INFO:2021-10-28 00:58:52:gensim.models.tfidfmodel:PROGRESS: processing document #880000\n",
      "INFO:2021-10-28 00:58:52:gensim.models.tfidfmodel:PROGRESS: processing document #890000\n",
      "INFO:2021-10-28 00:58:52:gensim.models.tfidfmodel:PROGRESS: processing document #900000\n",
      "INFO:2021-10-28 00:58:52:gensim.models.tfidfmodel:PROGRESS: processing document #910000\n",
      "INFO:2021-10-28 00:58:52:gensim.utils:TfidfModel lifecycle event {'msg': 'calculated IDF weights for 917525 documents and 260521 features (11339605 matrix non-zeros)', 'datetime': '2021-10-28T00:58:52.796571', 'gensim': '4.1.2', 'python': '3.8.10 (default, Jun  2 2021, 10:49:15) \\n[GCC 9.4.0]', 'platform': 'Linux-5.11.0-27-generic-x86_64-with-glibc2.29', 'event': 'initialize'}\n"
     ]
    }
   ],
   "source": [
    "tfidf = models.TfidfModel(corpus, smartirs='ntc')"
   ]
  },
  {
   "cell_type": "code",
   "execution_count": 183,
   "id": "e8b32561",
   "metadata": {
    "ExecuteTime": {
     "end_time": "2021-10-27T22:59:48.975940Z",
     "start_time": "2021-10-27T22:59:48.514931Z"
    }
   },
   "outputs": [],
   "source": [
    "tfidf2 = models.TfidfModel(dictionary=dictionary, smartirs='ntc')"
   ]
  },
  {
   "cell_type": "code",
   "execution_count": 203,
   "id": "61591318",
   "metadata": {
    "ExecuteTime": {
     "end_time": "2021-10-27T23:01:34.733608Z",
     "start_time": "2021-10-27T23:01:34.703837Z"
    }
   },
   "outputs": [],
   "source": [
    "tfidf3 = models.TfidfModel(dictionary=d2, smartirs='ntc')"
   ]
  },
  {
   "cell_type": "code",
   "execution_count": 87,
   "id": "96ac753c",
   "metadata": {
    "ExecuteTime": {
     "end_time": "2021-10-27T21:45:09.301371Z",
     "start_time": "2021-10-27T21:45:09.289578Z"
    }
   },
   "outputs": [],
   "source": [
    "aa = [(0, 0.459457157251916), (2, 0.8881999328135463)]"
   ]
  },
  {
   "cell_type": "code",
   "execution_count": null,
   "id": "6ba92c5d",
   "metadata": {},
   "outputs": [],
   "source": []
  },
  {
   "cell_type": "code",
   "execution_count": 180,
   "id": "08798c01",
   "metadata": {
    "ExecuteTime": {
     "end_time": "2021-10-27T22:59:09.481903Z",
     "start_time": "2021-10-27T22:59:09.465592Z"
    }
   },
   "outputs": [
    {
     "data": {
      "text/plain": [
       "[(2545, 0.5834586599705951), (8059, 0.8121428397180619)]"
      ]
     },
     "execution_count": 180,
     "metadata": {},
     "output_type": "execute_result"
    }
   ],
   "source": [
    "tfidf[dictionary.doc2bow('takie ładne cośik'.split())]"
   ]
  },
  {
   "cell_type": "code",
   "execution_count": 181,
   "id": "cf4377e5",
   "metadata": {
    "ExecuteTime": {
     "end_time": "2021-10-27T22:59:18.405567Z",
     "start_time": "2021-10-27T22:59:18.391138Z"
    }
   },
   "outputs": [
    {
     "data": {
      "text/plain": [
       "[(2545, 0.5834586599705951), (8059, 0.8121428397180619)]"
      ]
     },
     "execution_count": 181,
     "metadata": {},
     "output_type": "execute_result"
    }
   ],
   "source": [
    "tfidf2[dictionary.doc2bow('takie ładne cośik'.split())]"
   ]
  },
  {
   "cell_type": "code",
   "execution_count": 204,
   "id": "05c7fe03",
   "metadata": {
    "ExecuteTime": {
     "end_time": "2021-10-27T23:01:38.412877Z",
     "start_time": "2021-10-27T23:01:38.387171Z"
    }
   },
   "outputs": [
    {
     "data": {
      "text/plain": [
       "[(1970, 0.5834586599705951), (4630, 0.8121428397180619)]"
      ]
     },
     "execution_count": 204,
     "metadata": {},
     "output_type": "execute_result"
    }
   ],
   "source": [
    "tfidf3[d2.doc2bow('takie ładne cośik'.split())]"
   ]
  },
  {
   "cell_type": "code",
   "execution_count": 86,
   "id": "c972e1d1",
   "metadata": {
    "ExecuteTime": {
     "end_time": "2021-10-27T21:42:02.083705Z",
     "start_time": "2021-10-27T21:42:02.069702Z"
    }
   },
   "outputs": [
    {
     "data": {
      "text/plain": [
       "[(0, 0.459457157251916), (1, 0.8881999328135463)]"
      ]
     },
     "execution_count": 86,
     "metadata": {},
     "output_type": "execute_result"
    }
   ],
   "source": [
    "tfidf[(0, 1), (1, 1)]"
   ]
  },
  {
   "cell_type": "code",
   "execution_count": 82,
   "id": "03c1f6b8",
   "metadata": {
    "ExecuteTime": {
     "end_time": "2021-10-27T21:40:46.289611Z",
     "start_time": "2021-10-27T21:40:46.274935Z"
    }
   },
   "outputs": [
    {
     "data": {
      "text/plain": [
       "[(619, 0.505178657383013),\n",
       " (2545, 0.5035334516797687),\n",
       " (8059, 0.7008912805593708)]"
      ]
     },
     "execution_count": 82,
     "metadata": {},
     "output_type": "execute_result"
    }
   ],
   "source": [
    "tfidf[dictionary.doc2bow('takie ładne coś'.split())]"
   ]
  },
  {
   "cell_type": "code",
   "execution_count": 81,
   "id": "ad92118e",
   "metadata": {
    "ExecuteTime": {
     "end_time": "2021-10-27T21:40:35.268678Z",
     "start_time": "2021-10-27T21:40:35.253370Z"
    }
   },
   "outputs": [
    {
     "data": {
      "text/plain": [
       "[(619, 0.7603732142847507),\n",
       " (2545, 0.3789484606664178),\n",
       " (8059, 0.5274757237606572)]"
      ]
     },
     "execution_count": 81,
     "metadata": {},
     "output_type": "execute_result"
    }
   ],
   "source": [
    "tfidf[dictionary.doc2bow('takie ładne coś coś'.split())]"
   ]
  },
  {
   "cell_type": "code",
   "execution_count": 17,
   "id": "0192a2bb",
   "metadata": {
    "ExecuteTime": {
     "end_time": "2021-10-26T20:45:01.523029Z",
     "start_time": "2021-10-26T20:45:01.509577Z"
    }
   },
   "outputs": [
    {
     "data": {
      "text/plain": [
       "[(0, 1), (1, 2), (2, 1), (3, 1), (4, 1), (5, 1)]"
      ]
     },
     "execution_count": 17,
     "metadata": {},
     "output_type": "execute_result"
    }
   ],
   "source": [
    "# count vectorizer reprezentation\n",
    "corpus[0]"
   ]
  },
  {
   "cell_type": "code",
   "execution_count": 75,
   "id": "2b67bdde",
   "metadata": {
    "ExecuteTime": {
     "end_time": "2021-10-27T21:37:19.046287Z",
     "start_time": "2021-10-27T21:37:19.030916Z"
    }
   },
   "outputs": [
    {
     "data": {
      "text/plain": [
       "[(0, 1), (1, 2), (2, 1), (3, 1), (4, 1), (5, 1)]"
      ]
     },
     "execution_count": 75,
     "metadata": {},
     "output_type": "execute_result"
    }
   ],
   "source": [
    "corpus[0]"
   ]
  },
  {
   "cell_type": "code",
   "execution_count": 74,
   "id": "31dea2f0",
   "metadata": {
    "ExecuteTime": {
     "end_time": "2021-10-27T21:37:06.816615Z",
     "start_time": "2021-10-27T21:37:06.527116Z"
    }
   },
   "outputs": [
    {
     "data": {
      "text/plain": [
       "[(0, 0.11502465340007656),\n",
       " (1, 0.4447199823065697),\n",
       " (2, 0.6162766796694312),\n",
       " (3, 0.49247428983038594),\n",
       " (4, 0.11888695562762791),\n",
       " (5, 0.3905527956380666)]"
      ]
     },
     "execution_count": 74,
     "metadata": {},
     "output_type": "execute_result"
    }
   ],
   "source": [
    "tfidf[corpus[0]]"
   ]
  },
  {
   "cell_type": "code",
   "execution_count": 310,
   "id": "991fcde8",
   "metadata": {
    "ExecuteTime": {
     "end_time": "2021-10-25T01:59:06.923831Z",
     "start_time": "2021-10-25T01:59:06.907742Z"
    }
   },
   "outputs": [
    {
     "data": {
      "text/plain": [
       "[(0, 0.11502465340007656),\n",
       " (1, 0.4447199823065697),\n",
       " (2, 0.6162766796694312),\n",
       " (3, 0.49247428983038594),\n",
       " (4, 0.11888695562762791),\n",
       " (5, 0.3905527956380666)]"
      ]
     },
     "execution_count": 310,
     "metadata": {},
     "output_type": "execute_result"
    }
   ],
   "source": [
    "# tfidf vectorizer reprezentation\n",
    "tfidf[corpus][0]"
   ]
  },
  {
   "cell_type": "code",
   "execution_count": 315,
   "id": "7aceed4a",
   "metadata": {
    "ExecuteTime": {
     "end_time": "2021-10-25T02:00:03.885919Z",
     "start_time": "2021-10-25T02:00:03.870285Z"
    }
   },
   "outputs": [
    {
     "data": {
      "text/plain": [
       "[('i', 0.11502465340007656),\n",
       " ('nie', 0.4447199823065697),\n",
       " ('ostatni', 0.6162766796694312),\n",
       " ('pierwszy', 0.49247428983038594),\n",
       " ('polecam', 0.11888695562762791),\n",
       " ('raz', 0.3905527956380666)]"
      ]
     },
     "execution_count": 315,
     "metadata": {},
     "output_type": "execute_result"
    }
   ],
   "source": [
    "[(dictionary[tok_id], tok_freq) for tok_id, tok_freq in tfidf[corpus][0]]"
   ]
  },
  {
   "cell_type": "code",
   "execution_count": 316,
   "id": "bb4f2744",
   "metadata": {
    "ExecuteTime": {
     "end_time": "2021-10-25T02:00:11.189899Z",
     "start_time": "2021-10-25T02:00:11.172650Z"
    }
   },
   "outputs": [
    {
     "data": {
      "text/plain": [
       "[('i', 0.060944159953105696),\n",
       " ('polecam', 0.06299054529559758),\n",
       " ('bardzo', 0.08280210917801677),\n",
       " ('dobra', 0.20322288487180415),\n",
       " ('dobrze', 0.19508840777884015),\n",
       " ('komunikacja', 0.3317832424818046),\n",
       " ('sklep', 0.11649578839171103),\n",
       " ('sms', 0.3497153161337092),\n",
       " ('telefoniczna', 0.39583410968622923),\n",
       " ('ten', 0.20909075076732328),\n",
       " ('terminie', 0.3069124397146287),\n",
       " ('towar', 0.1416645550082417),\n",
       " ('w', 0.07953541854259781),\n",
       " ('wysłany', 0.3676203764967229),\n",
       " ('zabezpieczony', 0.3259806243987228),\n",
       " ('zamówiony', 0.31264824437629013)]"
      ]
     },
     "execution_count": 316,
     "metadata": {},
     "output_type": "execute_result"
    }
   ],
   "source": [
    "[(dictionary[tok_id], tok_freq) for tok_id, tok_freq in tfidf[corpus][1]]"
   ]
  },
  {
   "cell_type": "markdown",
   "id": "f763b0d6",
   "metadata": {},
   "source": [
    "# tfidf transformer"
   ]
  },
  {
   "cell_type": "code",
   "execution_count": 4,
   "id": "a5892ee2",
   "metadata": {
    "ExecuteTime": {
     "end_time": "2021-10-28T18:48:38.069980Z",
     "start_time": "2021-10-28T18:48:37.130867Z"
    }
   },
   "outputs": [],
   "source": [
    "from src.nlp.tfidf import TfIdfTransformer"
   ]
  },
  {
   "cell_type": "code",
   "execution_count": 18,
   "id": "670eea2b",
   "metadata": {
    "ExecuteTime": {
     "end_time": "2021-10-28T21:54:37.605438Z",
     "start_time": "2021-10-28T21:54:37.588228Z"
    },
    "scrolled": true
   },
   "outputs": [
    {
     "ename": "TypeError",
     "evalue": "__init__() got an unexpected keyword argument 'max_df'",
     "output_type": "error",
     "traceback": [
      "\u001b[0;31m---------------------------------------------------------------------------\u001b[0m",
      "\u001b[0;31mTypeError\u001b[0m                                 Traceback (most recent call last)",
      "\u001b[0;32m/tmp/ipykernel_3717/1810566597.py\u001b[0m in \u001b[0;36m<module>\u001b[0;34m\u001b[0m\n\u001b[0;32m----> 1\u001b[0;31m \u001b[0mtfidf_model\u001b[0m \u001b[0;34m=\u001b[0m \u001b[0mTfIdfTransformer\u001b[0m\u001b[0;34m(\u001b[0m\u001b[0mmax_df\u001b[0m\u001b[0;34m=\u001b[0m\u001b[0;36m0.5\u001b[0m\u001b[0;34m,\u001b[0m \u001b[0mmin_df\u001b[0m\u001b[0;34m=\u001b[0m\u001b[0;36m5\u001b[0m\u001b[0;34m,\u001b[0m \u001b[0mmax_features\u001b[0m\u001b[0;34m=\u001b[0m\u001b[0;36m5000\u001b[0m\u001b[0;34m)\u001b[0m\u001b[0;34m\u001b[0m\u001b[0;34m\u001b[0m\u001b[0m\n\u001b[0m\u001b[1;32m      2\u001b[0m \u001b[0;34m\u001b[0m\u001b[0m\n\u001b[1;32m      3\u001b[0m \u001b[0mtfidf_model\u001b[0m\u001b[0;34m.\u001b[0m\u001b[0mfit\u001b[0m\u001b[0;34m(\u001b[0m\u001b[0mdata\u001b[0m\u001b[0;34m[\u001b[0m\u001b[0;34m'tokens'\u001b[0m\u001b[0;34m]\u001b[0m\u001b[0;34m)\u001b[0m\u001b[0;34m\u001b[0m\u001b[0;34m\u001b[0m\u001b[0m\n",
      "\u001b[0;31mTypeError\u001b[0m: __init__() got an unexpected keyword argument 'max_df'"
     ]
    }
   ],
   "source": [
    "tfidf_model = TfIdfTransformer()\n",
    "\n",
    "tfidf_model.fit(data['tokens'])"
   ]
  },
  {
   "cell_type": "code",
   "execution_count": 6,
   "id": "f2523e90",
   "metadata": {
    "ExecuteTime": {
     "end_time": "2021-10-28T18:50:27.484889Z",
     "start_time": "2021-10-28T18:49:14.704140Z"
    }
   },
   "outputs": [
    {
     "name": "stderr",
     "output_type": "stream",
     "text": [
      "INFO:2021-10-28 20:49:14:tfidf:creating corpus, mem used: 22.7\n",
      "INFO:2021-10-28 20:49:23:tfidf:vectorizing corpus with tfidf model, mem used: 27.1\n",
      "INFO:2021-10-28 20:50:08:tfidf:creating sparse corpus representation, mem used: 33.6\n",
      "INFO:2021-10-28 20:50:25:tfidf:creating sparse df, mem used: 39.0\n"
     ]
    }
   ],
   "source": [
    "tfidf_df = tfidf_model.transform(data['tokens'])"
   ]
  },
  {
   "cell_type": "code",
   "execution_count": 8,
   "id": "1c3dd166",
   "metadata": {
    "ExecuteTime": {
     "end_time": "2021-10-28T18:51:03.041980Z",
     "start_time": "2021-10-28T18:51:03.027354Z"
    }
   },
   "outputs": [
    {
     "data": {
      "text/plain": [
       "(917525, 5000)"
      ]
     },
     "execution_count": 8,
     "metadata": {},
     "output_type": "execute_result"
    }
   ],
   "source": [
    "tfidf_df.shape"
   ]
  },
  {
   "cell_type": "markdown",
   "id": "7dc07937",
   "metadata": {},
   "source": [
    "# tfidf sklearn model"
   ]
  },
  {
   "cell_type": "code",
   "execution_count": 10,
   "id": "3c62ce77",
   "metadata": {
    "ExecuteTime": {
     "end_time": "2021-10-28T18:53:08.753633Z",
     "start_time": "2021-10-28T18:53:08.434298Z"
    }
   },
   "outputs": [],
   "source": [
    "from sklearn.pipeline import Pipeline\n",
    "from sklearn.feature_extraction.text import TfidfVectorizer\n",
    "\n",
    "from src.utils import mem_used"
   ]
  },
  {
   "cell_type": "code",
   "execution_count": 19,
   "id": "0a267671",
   "metadata": {
    "ExecuteTime": {
     "end_time": "2021-10-28T21:54:59.610169Z",
     "start_time": "2021-10-28T21:54:59.596478Z"
    }
   },
   "outputs": [],
   "source": [
    "tfidf_pipe = Pipeline([('tfidf', TfidfVectorizer(max_df=0.5, min_df=5, max_features=5000))])"
   ]
  },
  {
   "cell_type": "code",
   "execution_count": 20,
   "id": "b4b5ae25",
   "metadata": {
    "ExecuteTime": {
     "end_time": "2021-10-28T21:55:11.701240Z",
     "start_time": "2021-10-28T21:55:00.898812Z"
    }
   },
   "outputs": [
    {
     "name": "stdout",
     "output_type": "stream",
     "text": [
      "tfidf vectorizer start, mem used: 28.0\n",
      "tfidf vectorizer end, mem used: 28.5\n"
     ]
    }
   ],
   "source": [
    "print(f\"tfidf vectorizer start, mem used: {mem_used()}\")\n",
    "tfidf_mtrx = tfidf_pipe.fit_transform(data['desc_clean'])\n",
    "print(f\"tfidf vectorizer end, mem used: {mem_used()}\")"
   ]
  },
  {
   "cell_type": "code",
   "execution_count": 21,
   "id": "47d80f4a",
   "metadata": {
    "ExecuteTime": {
     "end_time": "2021-10-28T21:56:10.952281Z",
     "start_time": "2021-10-28T21:56:10.441127Z"
    }
   },
   "outputs": [
    {
     "name": "stdout",
     "output_type": "stream",
     "text": [
      "sparse df start, mem used: 29.3\n",
      "sparse df end, mem used: 27.8\n"
     ]
    }
   ],
   "source": [
    "print(f\"sparse df start, mem used: {mem_used()}\")\n",
    "tfidf_df_sparse = pd.DataFrame.sparse.from_spmatrix(tfidf_mtrx, columns=tfidf_pipe.get_feature_names_out())\n",
    "print(f\"sparse df end, mem used: {mem_used()}\")"
   ]
  },
  {
   "cell_type": "code",
   "execution_count": 22,
   "id": "118457f3",
   "metadata": {
    "ExecuteTime": {
     "end_time": "2021-10-28T21:56:19.616691Z",
     "start_time": "2021-10-28T21:56:19.599380Z"
    }
   },
   "outputs": [
    {
     "data": {
      "text/plain": [
       "(917525, 5000)"
      ]
     },
     "execution_count": 22,
     "metadata": {},
     "output_type": "execute_result"
    }
   ],
   "source": [
    "tfidf_df_sparse.shape"
   ]
  },
  {
   "cell_type": "code",
   "execution_count": 23,
   "id": "6bc3c921",
   "metadata": {
    "ExecuteTime": {
     "end_time": "2021-10-28T21:56:57.495424Z",
     "start_time": "2021-10-28T21:56:57.480531Z"
    }
   },
   "outputs": [
    {
     "data": {
      "text/plain": [
       "{'memory': None,\n",
       " 'steps': [('tfidf',\n",
       "   TfidfVectorizer(max_df=0.5, max_features=5000, min_df=5))],\n",
       " 'verbose': False,\n",
       " 'tfidf': TfidfVectorizer(max_df=0.5, max_features=5000, min_df=5),\n",
       " 'tfidf__analyzer': 'word',\n",
       " 'tfidf__binary': False,\n",
       " 'tfidf__decode_error': 'strict',\n",
       " 'tfidf__dtype': numpy.float64,\n",
       " 'tfidf__encoding': 'utf-8',\n",
       " 'tfidf__input': 'content',\n",
       " 'tfidf__lowercase': True,\n",
       " 'tfidf__max_df': 0.5,\n",
       " 'tfidf__max_features': 5000,\n",
       " 'tfidf__min_df': 5,\n",
       " 'tfidf__ngram_range': (1, 1),\n",
       " 'tfidf__norm': 'l2',\n",
       " 'tfidf__preprocessor': None,\n",
       " 'tfidf__smooth_idf': True,\n",
       " 'tfidf__stop_words': None,\n",
       " 'tfidf__strip_accents': None,\n",
       " 'tfidf__sublinear_tf': False,\n",
       " 'tfidf__token_pattern': '(?u)\\\\b\\\\w\\\\w+\\\\b',\n",
       " 'tfidf__tokenizer': None,\n",
       " 'tfidf__use_idf': True,\n",
       " 'tfidf__vocabulary': None}"
      ]
     },
     "execution_count": 23,
     "metadata": {},
     "output_type": "execute_result"
    }
   ],
   "source": [
    "tfidf_pipe.get_params()"
   ]
  },
  {
   "cell_type": "code",
   "execution_count": 11,
   "id": "bbd5ed23",
   "metadata": {
    "ExecuteTime": {
     "end_time": "2021-10-28T18:24:03.032515Z",
     "start_time": "2021-10-28T18:24:02.784336Z"
    }
   },
   "outputs": [
    {
     "data": {
      "text/plain": [
       "array(['00', '000', '0000', ..., 'żłówia', 'żźe', 'żże'], dtype=object)"
      ]
     },
     "execution_count": 11,
     "metadata": {},
     "output_type": "execute_result"
    }
   ],
   "source": [
    "tfidf_sk_model.get_feature_names_out()"
   ]
  },
  {
   "cell_type": "markdown",
   "id": "ce5abef4",
   "metadata": {},
   "source": [
    "# catboost"
   ]
  },
  {
   "cell_type": "code",
   "execution_count": 26,
   "id": "f270f621",
   "metadata": {
    "ExecuteTime": {
     "end_time": "2021-10-28T22:01:31.848624Z",
     "start_time": "2021-10-28T22:01:31.835846Z"
    }
   },
   "outputs": [],
   "source": [
    "from catboost import CatBoostClassifier"
   ]
  },
  {
   "cell_type": "code",
   "execution_count": 44,
   "id": "dd602c64",
   "metadata": {
    "ExecuteTime": {
     "end_time": "2021-10-28T22:13:19.779097Z",
     "start_time": "2021-10-28T22:13:19.395227Z"
    }
   },
   "outputs": [],
   "source": [
    "from sklearn.model_selection import train_test_split"
   ]
  },
  {
   "cell_type": "code",
   "execution_count": 45,
   "id": "a305bcbe",
   "metadata": {
    "ExecuteTime": {
     "end_time": "2021-10-28T22:13:20.013783Z",
     "start_time": "2021-10-28T22:13:19.780584Z"
    }
   },
   "outputs": [],
   "source": [
    "data_train, data_test, y_train, y_test = train_test_split(\n",
    "    data[['desc_clean']], data['negative'], test_size=0.33, random_state=12345)"
   ]
  },
  {
   "cell_type": "markdown",
   "id": "a2316704",
   "metadata": {},
   "source": [
    "## catboost on clean text"
   ]
  },
  {
   "cell_type": "code",
   "execution_count": 46,
   "id": "573797b4",
   "metadata": {
    "ExecuteTime": {
     "end_time": "2021-10-28T22:14:41.257542Z",
     "start_time": "2021-10-28T22:14:41.236234Z"
    }
   },
   "outputs": [],
   "source": [
    "cb_params = {\n",
    "    'eval_metric': 'AUC',\n",
    "    'text_features': ['desc_clean'],\n",
    "    'metric_period': 10,\n",
    "    'verbose': 10,\n",
    "}"
   ]
  },
  {
   "cell_type": "code",
   "execution_count": 48,
   "id": "216d293f",
   "metadata": {
    "ExecuteTime": {
     "end_time": "2021-10-28T22:20:26.763794Z",
     "start_time": "2021-10-28T22:14:42.163525Z"
    },
    "scrolled": true
   },
   "outputs": [
    {
     "name": "stderr",
     "output_type": "stream",
     "text": [
      "Custom logger is already specified. Specify more than one logger at same time is not thread safe."
     ]
    },
    {
     "name": "stdout",
     "output_type": "stream",
     "text": [
      "Learning rate set to 0.15478\n",
      "0:\ttest: 0.9811921\tbest: 0.9811921 (0)\ttotal: 249ms\tremaining: 4m 8s\n",
      "10:\ttest: 0.9981425\tbest: 0.9981425 (10)\ttotal: 4.12s\tremaining: 6m 10s\n",
      "20:\ttest: 0.9984857\tbest: 0.9984857 (20)\ttotal: 7.21s\tremaining: 5m 36s\n",
      "30:\ttest: 0.9986127\tbest: 0.9986127 (30)\ttotal: 10s\tremaining: 5m 13s\n",
      "40:\ttest: 0.9986980\tbest: 0.9986980 (40)\ttotal: 13s\tremaining: 5m 4s\n",
      "50:\ttest: 0.9987554\tbest: 0.9987554 (50)\ttotal: 16.1s\tremaining: 4m 59s\n",
      "60:\ttest: 0.9987867\tbest: 0.9987867 (60)\ttotal: 18.8s\tremaining: 4m 49s\n",
      "70:\ttest: 0.9988311\tbest: 0.9988311 (70)\ttotal: 21.8s\tremaining: 4m 45s\n",
      "80:\ttest: 0.9988579\tbest: 0.9988579 (80)\ttotal: 24.7s\tremaining: 4m 39s\n",
      "90:\ttest: 0.9988786\tbest: 0.9988786 (90)\ttotal: 27.5s\tremaining: 4m 34s\n",
      "100:\ttest: 0.9988976\tbest: 0.9988976 (100)\ttotal: 30.4s\tremaining: 4m 30s\n",
      "110:\ttest: 0.9989246\tbest: 0.9989246 (110)\ttotal: 33.8s\tremaining: 4m 30s\n",
      "120:\ttest: 0.9989497\tbest: 0.9989497 (120)\ttotal: 37.3s\tremaining: 4m 30s\n",
      "130:\ttest: 0.9989613\tbest: 0.9989613 (130)\ttotal: 40.6s\tremaining: 4m 29s\n",
      "140:\ttest: 0.9989725\tbest: 0.9989725 (140)\ttotal: 43.9s\tremaining: 4m 27s\n",
      "150:\ttest: 0.9989837\tbest: 0.9989837 (150)\ttotal: 47.2s\tremaining: 4m 25s\n",
      "160:\ttest: 0.9989956\tbest: 0.9989956 (160)\ttotal: 50.6s\tremaining: 4m 23s\n",
      "170:\ttest: 0.9990016\tbest: 0.9990016 (170)\ttotal: 53.9s\tremaining: 4m 21s\n",
      "180:\ttest: 0.9990128\tbest: 0.9990128 (180)\ttotal: 57.3s\tremaining: 4m 19s\n",
      "190:\ttest: 0.9990178\tbest: 0.9990178 (190)\ttotal: 1m\tremaining: 4m 17s\n",
      "200:\ttest: 0.9990261\tbest: 0.9990261 (200)\ttotal: 1m 5s\tremaining: 4m 18s\n",
      "210:\ttest: 0.9990306\tbest: 0.9990306 (210)\ttotal: 1m 8s\tremaining: 4m 16s\n",
      "220:\ttest: 0.9990337\tbest: 0.9990337 (220)\ttotal: 1m 11s\tremaining: 4m 12s\n",
      "230:\ttest: 0.9990411\tbest: 0.9990411 (230)\ttotal: 1m 14s\tremaining: 4m 9s\n",
      "240:\ttest: 0.9990487\tbest: 0.9990487 (240)\ttotal: 1m 18s\tremaining: 4m 6s\n",
      "250:\ttest: 0.9990552\tbest: 0.9990552 (250)\ttotal: 1m 21s\tremaining: 4m 3s\n",
      "260:\ttest: 0.9990598\tbest: 0.9990598 (260)\ttotal: 1m 24s\tremaining: 4m\n",
      "270:\ttest: 0.9990650\tbest: 0.9990650 (270)\ttotal: 1m 27s\tremaining: 3m 56s\n",
      "280:\ttest: 0.9990696\tbest: 0.9990696 (280)\ttotal: 1m 31s\tremaining: 3m 53s\n",
      "290:\ttest: 0.9990722\tbest: 0.9990722 (290)\ttotal: 1m 34s\tremaining: 3m 50s\n",
      "300:\ttest: 0.9990749\tbest: 0.9990749 (300)\ttotal: 1m 37s\tremaining: 3m 47s\n",
      "310:\ttest: 0.9990781\tbest: 0.9990781 (310)\ttotal: 1m 41s\tremaining: 3m 43s\n",
      "320:\ttest: 0.9990821\tbest: 0.9990821 (320)\ttotal: 1m 44s\tremaining: 3m 40s\n",
      "330:\ttest: 0.9990855\tbest: 0.9990855 (330)\ttotal: 1m 47s\tremaining: 3m 37s\n",
      "340:\ttest: 0.9990867\tbest: 0.9990867 (340)\ttotal: 1m 50s\tremaining: 3m 33s\n",
      "350:\ttest: 0.9990911\tbest: 0.9990911 (350)\ttotal: 1m 54s\tremaining: 3m 30s\n",
      "360:\ttest: 0.9990958\tbest: 0.9990958 (360)\ttotal: 1m 57s\tremaining: 3m 27s\n",
      "370:\ttest: 0.9991004\tbest: 0.9991004 (370)\ttotal: 2m\tremaining: 3m 24s\n",
      "380:\ttest: 0.9991040\tbest: 0.9991040 (380)\ttotal: 2m 4s\tremaining: 3m 21s\n",
      "390:\ttest: 0.9991064\tbest: 0.9991064 (390)\ttotal: 2m 7s\tremaining: 3m 18s\n",
      "400:\ttest: 0.9991063\tbest: 0.9991064 (390)\ttotal: 2m 10s\tremaining: 3m 14s\n",
      "410:\ttest: 0.9991104\tbest: 0.9991104 (410)\ttotal: 2m 13s\tremaining: 3m 11s\n",
      "420:\ttest: 0.9991117\tbest: 0.9991117 (420)\ttotal: 2m 16s\tremaining: 3m 7s\n",
      "430:\ttest: 0.9991133\tbest: 0.9991133 (430)\ttotal: 2m 19s\tremaining: 3m 4s\n",
      "440:\ttest: 0.9991149\tbest: 0.9991149 (440)\ttotal: 2m 22s\tremaining: 3m\n",
      "450:\ttest: 0.9991184\tbest: 0.9991184 (450)\ttotal: 2m 25s\tremaining: 2m 57s\n",
      "460:\ttest: 0.9991206\tbest: 0.9991206 (460)\ttotal: 2m 29s\tremaining: 2m 54s\n",
      "470:\ttest: 0.9991232\tbest: 0.9991232 (470)\ttotal: 2m 32s\tremaining: 2m 50s\n",
      "480:\ttest: 0.9991276\tbest: 0.9991276 (480)\ttotal: 2m 35s\tremaining: 2m 47s\n",
      "490:\ttest: 0.9991291\tbest: 0.9991291 (490)\ttotal: 2m 38s\tremaining: 2m 44s\n",
      "500:\ttest: 0.9991293\tbest: 0.9991293 (500)\ttotal: 2m 41s\tremaining: 2m 41s\n",
      "510:\ttest: 0.9991326\tbest: 0.9991326 (510)\ttotal: 2m 45s\tremaining: 2m 38s\n",
      "520:\ttest: 0.9991353\tbest: 0.9991353 (520)\ttotal: 2m 48s\tremaining: 2m 34s\n",
      "530:\ttest: 0.9991397\tbest: 0.9991397 (530)\ttotal: 2m 51s\tremaining: 2m 31s\n",
      "540:\ttest: 0.9991435\tbest: 0.9991435 (540)\ttotal: 2m 55s\tremaining: 2m 28s\n",
      "550:\ttest: 0.9991444\tbest: 0.9991444 (550)\ttotal: 2m 58s\tremaining: 2m 25s\n",
      "560:\ttest: 0.9991453\tbest: 0.9991453 (560)\ttotal: 3m 2s\tremaining: 2m 22s\n",
      "570:\ttest: 0.9991461\tbest: 0.9991461 (570)\ttotal: 3m 7s\tremaining: 2m 20s\n",
      "580:\ttest: 0.9991483\tbest: 0.9991483 (580)\ttotal: 3m 10s\tremaining: 2m 17s\n",
      "590:\ttest: 0.9991507\tbest: 0.9991507 (590)\ttotal: 3m 14s\tremaining: 2m 14s\n",
      "600:\ttest: 0.9991516\tbest: 0.9991516 (600)\ttotal: 3m 17s\tremaining: 2m 11s\n",
      "610:\ttest: 0.9991519\tbest: 0.9991519 (610)\ttotal: 3m 21s\tremaining: 2m 7s\n",
      "620:\ttest: 0.9991540\tbest: 0.9991540 (620)\ttotal: 3m 24s\tremaining: 2m 4s\n",
      "630:\ttest: 0.9991550\tbest: 0.9991550 (630)\ttotal: 3m 27s\tremaining: 2m 1s\n",
      "640:\ttest: 0.9991565\tbest: 0.9991565 (640)\ttotal: 3m 31s\tremaining: 1m 58s\n",
      "650:\ttest: 0.9991579\tbest: 0.9991579 (650)\ttotal: 3m 34s\tremaining: 1m 55s\n",
      "660:\ttest: 0.9991588\tbest: 0.9991588 (660)\ttotal: 3m 38s\tremaining: 1m 51s\n",
      "670:\ttest: 0.9991599\tbest: 0.9991599 (670)\ttotal: 3m 41s\tremaining: 1m 48s\n",
      "680:\ttest: 0.9991595\tbest: 0.9991599 (670)\ttotal: 3m 45s\tremaining: 1m 45s\n",
      "690:\ttest: 0.9991618\tbest: 0.9991618 (690)\ttotal: 3m 48s\tremaining: 1m 42s\n",
      "700:\ttest: 0.9991641\tbest: 0.9991641 (700)\ttotal: 3m 52s\tremaining: 1m 39s\n",
      "710:\ttest: 0.9991650\tbest: 0.9991650 (710)\ttotal: 3m 55s\tremaining: 1m 35s\n",
      "720:\ttest: 0.9991663\tbest: 0.9991663 (720)\ttotal: 3m 59s\tremaining: 1m 32s\n",
      "730:\ttest: 0.9991674\tbest: 0.9991674 (730)\ttotal: 4m 2s\tremaining: 1m 29s\n",
      "740:\ttest: 0.9991690\tbest: 0.9991690 (740)\ttotal: 4m 6s\tremaining: 1m 25s\n",
      "750:\ttest: 0.9991690\tbest: 0.9991690 (750)\ttotal: 4m 9s\tremaining: 1m 22s\n",
      "760:\ttest: 0.9991698\tbest: 0.9991698 (760)\ttotal: 4m 12s\tremaining: 1m 19s\n",
      "770:\ttest: 0.9991707\tbest: 0.9991707 (770)\ttotal: 4m 15s\tremaining: 1m 15s\n",
      "780:\ttest: 0.9991714\tbest: 0.9991714 (780)\ttotal: 4m 18s\tremaining: 1m 12s\n",
      "790:\ttest: 0.9991735\tbest: 0.9991735 (790)\ttotal: 4m 22s\tremaining: 1m 9s\n",
      "800:\ttest: 0.9991741\tbest: 0.9991741 (800)\ttotal: 4m 25s\tremaining: 1m 6s\n",
      "810:\ttest: 0.9991739\tbest: 0.9991741 (800)\ttotal: 4m 29s\tremaining: 1m 2s\n",
      "820:\ttest: 0.9991751\tbest: 0.9991751 (820)\ttotal: 4m 32s\tremaining: 59.5s\n",
      "830:\ttest: 0.9991774\tbest: 0.9991774 (830)\ttotal: 4m 36s\tremaining: 56.1s\n",
      "840:\ttest: 0.9991788\tbest: 0.9991788 (840)\ttotal: 4m 39s\tremaining: 52.8s\n",
      "850:\ttest: 0.9991786\tbest: 0.9991788 (840)\ttotal: 4m 42s\tremaining: 49.5s\n",
      "860:\ttest: 0.9991802\tbest: 0.9991802 (860)\ttotal: 4m 46s\tremaining: 46.2s\n",
      "870:\ttest: 0.9991812\tbest: 0.9991812 (870)\ttotal: 4m 49s\tremaining: 42.9s\n",
      "880:\ttest: 0.9991819\tbest: 0.9991819 (880)\ttotal: 4m 52s\tremaining: 39.5s\n",
      "890:\ttest: 0.9991828\tbest: 0.9991828 (890)\ttotal: 4m 55s\tremaining: 36.2s\n",
      "900:\ttest: 0.9991834\tbest: 0.9991834 (900)\ttotal: 4m 59s\tremaining: 32.9s\n",
      "910:\ttest: 0.9991850\tbest: 0.9991850 (910)\ttotal: 5m 3s\tremaining: 29.6s\n",
      "920:\ttest: 0.9991852\tbest: 0.9991852 (920)\ttotal: 5m 7s\tremaining: 26.4s\n",
      "930:\ttest: 0.9991860\tbest: 0.9991860 (930)\ttotal: 5m 10s\tremaining: 23s\n",
      "940:\ttest: 0.9991863\tbest: 0.9991863 (940)\ttotal: 5m 14s\tremaining: 19.7s\n",
      "950:\ttest: 0.9991874\tbest: 0.9991874 (950)\ttotal: 5m 17s\tremaining: 16.4s\n",
      "960:\ttest: 0.9991884\tbest: 0.9991884 (960)\ttotal: 5m 21s\tremaining: 13s\n",
      "970:\ttest: 0.9991893\tbest: 0.9991893 (970)\ttotal: 5m 24s\tremaining: 9.69s\n",
      "980:\ttest: 0.9991903\tbest: 0.9991903 (980)\ttotal: 5m 27s\tremaining: 6.35s\n",
      "990:\ttest: 0.9991913\tbest: 0.9991913 (990)\ttotal: 5m 31s\tremaining: 3.01s\n",
      "999:\ttest: 0.9991926\tbest: 0.9991926 (999)\ttotal: 5m 35s\tremaining: 0us\n",
      "\n",
      "bestTest = 0.9991925562\n",
      "bestIteration = 999\n",
      "\n"
     ]
    },
    {
     "data": {
      "text/plain": [
       "<catboost.core.CatBoostClassifier at 0x7f3d9b10e9d0>"
      ]
     },
     "execution_count": 48,
     "metadata": {},
     "output_type": "execute_result"
    }
   ],
   "source": [
    "cb1 = CatBoostClassifier(**cb_params)\n",
    "cb1.fit(X=data_train, y=y_train, eval_set=(data_test, y_test))"
   ]
  },
  {
   "cell_type": "code",
   "execution_count": 66,
   "id": "ad341327",
   "metadata": {
    "ExecuteTime": {
     "end_time": "2021-10-28T22:30:13.412415Z",
     "start_time": "2021-10-28T22:30:12.315015Z"
    }
   },
   "outputs": [
    {
     "data": {
      "text/plain": [
       "<AxesSubplot:xlabel='pred_q10'>"
      ]
     },
     "execution_count": 66,
     "metadata": {},
     "output_type": "execute_result"
    },
    {
     "data": {
      "image/png": "[encoded data removed]",
      "text/plain": [
       "<Figure size 432x288 with 1 Axes>"
      ]
     },
     "metadata": {
      "needs_background": "light"
     },
     "output_type": "display_data"
    }
   ],
   "source": [
    "preds = cb1.predict_proba(data_test)\n",
    "preds = [x[1] for x in preds]\n",
    "\n",
    "X_test = pd.DataFrame(\n",
    "    zip(data_test['desc_clean'], y_test, preds), \n",
    "    columns=['desc_clean', 'negative', 'pred'],\n",
    "    index=data_test.index\n",
    ")\n",
    "X_test['pred_q10'] = pd.qcut(X_test['pred'], q=10, labels=False)\n",
    "\n",
    "X_test.groupby('pred_q10').agg(\n",
    "    act=('negative', 'mean'),\n",
    "    pred=('pred', 'mean')\n",
    ").plot()"
   ]
  },
  {
   "cell_type": "code",
   "execution_count": 70,
   "id": "ae15b740",
   "metadata": {
    "ExecuteTime": {
     "end_time": "2021-10-28T22:31:36.154511Z",
     "start_time": "2021-10-28T22:31:36.139780Z"
    }
   },
   "outputs": [
    {
     "data": {
      "text/plain": [
       "917525"
      ]
     },
     "execution_count": 70,
     "metadata": {},
     "output_type": "execute_result"
    }
   ],
   "source": [
    "len(data)"
   ]
  },
  {
   "cell_type": "code",
   "execution_count": 73,
   "id": "368d3646",
   "metadata": {
    "ExecuteTime": {
     "end_time": "2021-10-28T22:35:16.338511Z",
     "start_time": "2021-10-28T22:35:15.809541Z"
    }
   },
   "outputs": [
    {
     "data": {
      "text/plain": [
       "815161"
      ]
     },
     "execution_count": 73,
     "metadata": {},
     "output_type": "execute_result"
    }
   ],
   "source": [
    "len(pd.unique(data['desc']))"
   ]
  },
  {
   "cell_type": "code",
   "execution_count": 69,
   "id": "e6fc0903",
   "metadata": {
    "ExecuteTime": {
     "end_time": "2021-10-28T22:31:26.586350Z",
     "start_time": "2021-10-28T22:31:26.255750Z"
    }
   },
   "outputs": [
    {
     "data": {
      "text/plain": [
       "760885"
      ]
     },
     "execution_count": 69,
     "metadata": {},
     "output_type": "execute_result"
    }
   ],
   "source": [
    "len(pd.unique(data['desc_clean']))"
   ]
  },
  {
   "cell_type": "code",
   "execution_count": 74,
   "id": "2d487f6c",
   "metadata": {
    "ExecuteTime": {
     "end_time": "2021-10-28T22:35:39.299180Z",
     "start_time": "2021-10-28T22:35:38.682905Z"
    }
   },
   "outputs": [
    {
     "data": {
      "text/plain": [
       "transakcja przebiegła pomyślnie polecam       2537\n",
       "wszystko w jak najlepszym porządku            2125\n",
       "transakcja przebiegła pomyślnie               1913\n",
       "wszystko w jak najlepszym porządku polecam    1122\n",
       "wszystko w najlepszym porządku                 796\n",
       "bardzo szybka realizacja zamówienia            686\n",
       "wszystko w najlepszym porządku polecam         645\n",
       "szybka realizacja zamówienia polecam           576\n",
       "szybko sprawnie profesjonalnie                 543\n",
       "wszystko szybko i sprawnie polecam             502\n",
       "Name: desc_clean, dtype: int64"
      ]
     },
     "execution_count": 74,
     "metadata": {},
     "output_type": "execute_result"
    }
   ],
   "source": [
    "data['desc_clean'].value_counts()[:10]"
   ]
  },
  {
   "cell_type": "markdown",
   "id": "48b3a6f1",
   "metadata": {},
   "source": [
    "## catboost on deduplicated data"
   ]
  },
  {
   "cell_type": "code",
   "execution_count": 76,
   "id": "932569a1",
   "metadata": {
    "ExecuteTime": {
     "end_time": "2021-10-28T22:37:23.652922Z",
     "start_time": "2021-10-28T22:37:23.208512Z"
    }
   },
   "outputs": [],
   "source": [
    "datau = data[['desc_clean', 'negative']].drop_duplicates()"
   ]
  },
  {
   "cell_type": "code",
   "execution_count": 77,
   "id": "86c8cd6a",
   "metadata": {
    "ExecuteTime": {
     "end_time": "2021-10-28T22:37:52.062258Z",
     "start_time": "2021-10-28T22:37:51.896778Z"
    }
   },
   "outputs": [],
   "source": [
    "data_trainu, data_testu, y_trainu, y_testu = train_test_split(\n",
    "    datau[['desc_clean']], datau['negative'], test_size=0.33, random_state=12345)"
   ]
  },
  {
   "cell_type": "code",
   "execution_count": 78,
   "id": "34b14327",
   "metadata": {
    "ExecuteTime": {
     "end_time": "2021-10-28T22:43:31.433911Z",
     "start_time": "2021-10-28T22:38:28.842227Z"
    },
    "scrolled": true
   },
   "outputs": [
    {
     "name": "stdout",
     "output_type": "stream",
     "text": [
      "Learning rate set to 0.147787\n",
      "0:\ttest: 0.9783498\tbest: 0.9783498 (0)\ttotal: 212ms\tremaining: 3m 31s\n",
      "10:\ttest: 0.9977877\tbest: 0.9977877 (10)\ttotal: 2.88s\tremaining: 4m 19s\n",
      "20:\ttest: 0.9982901\tbest: 0.9982901 (20)\ttotal: 5.84s\tremaining: 4m 32s\n",
      "30:\ttest: 0.9984367\tbest: 0.9984367 (30)\ttotal: 9.17s\tremaining: 4m 46s\n",
      "40:\ttest: 0.9985372\tbest: 0.9985372 (40)\ttotal: 12s\tremaining: 4m 39s\n",
      "50:\ttest: 0.9985920\tbest: 0.9985920 (50)\ttotal: 14.4s\tremaining: 4m 28s\n",
      "60:\ttest: 0.9986588\tbest: 0.9986588 (60)\ttotal: 17.2s\tremaining: 4m 24s\n",
      "70:\ttest: 0.9987122\tbest: 0.9987122 (70)\ttotal: 19.9s\tremaining: 4m 20s\n",
      "80:\ttest: 0.9987579\tbest: 0.9987579 (80)\ttotal: 22.6s\tremaining: 4m 15s\n",
      "90:\ttest: 0.9987848\tbest: 0.9987848 (90)\ttotal: 25.2s\tremaining: 4m 11s\n",
      "100:\ttest: 0.9988103\tbest: 0.9988103 (100)\ttotal: 28s\tremaining: 4m 9s\n",
      "110:\ttest: 0.9988231\tbest: 0.9988231 (110)\ttotal: 30.7s\tremaining: 4m 6s\n",
      "120:\ttest: 0.9988459\tbest: 0.9988459 (120)\ttotal: 33.9s\tremaining: 4m 5s\n",
      "130:\ttest: 0.9988709\tbest: 0.9988709 (130)\ttotal: 37.2s\tremaining: 4m 6s\n",
      "140:\ttest: 0.9988829\tbest: 0.9988829 (140)\ttotal: 40.5s\tremaining: 4m 6s\n",
      "150:\ttest: 0.9988974\tbest: 0.9988974 (150)\ttotal: 43.7s\tremaining: 4m 5s\n",
      "160:\ttest: 0.9989127\tbest: 0.9989127 (160)\ttotal: 46.8s\tremaining: 4m 3s\n",
      "170:\ttest: 0.9989201\tbest: 0.9989201 (170)\ttotal: 49.9s\tremaining: 4m 1s\n",
      "180:\ttest: 0.9989296\tbest: 0.9989296 (180)\ttotal: 52.8s\tremaining: 3m 58s\n",
      "190:\ttest: 0.9989396\tbest: 0.9989396 (190)\ttotal: 55.7s\tremaining: 3m 55s\n",
      "200:\ttest: 0.9989469\tbest: 0.9989469 (200)\ttotal: 58.7s\tremaining: 3m 53s\n",
      "210:\ttest: 0.9989541\tbest: 0.9989541 (210)\ttotal: 1m 1s\tremaining: 3m 50s\n",
      "220:\ttest: 0.9989595\tbest: 0.9989595 (220)\ttotal: 1m 4s\tremaining: 3m 46s\n",
      "230:\ttest: 0.9989663\tbest: 0.9989663 (230)\ttotal: 1m 7s\tremaining: 3m 43s\n",
      "240:\ttest: 0.9989700\tbest: 0.9989700 (240)\ttotal: 1m 10s\tremaining: 3m 41s\n",
      "250:\ttest: 0.9989771\tbest: 0.9989771 (250)\ttotal: 1m 12s\tremaining: 3m 37s\n",
      "260:\ttest: 0.9989809\tbest: 0.9989809 (260)\ttotal: 1m 16s\tremaining: 3m 36s\n",
      "270:\ttest: 0.9989905\tbest: 0.9989905 (270)\ttotal: 1m 20s\tremaining: 3m 36s\n",
      "280:\ttest: 0.9989974\tbest: 0.9989974 (280)\ttotal: 1m 23s\tremaining: 3m 33s\n",
      "290:\ttest: 0.9990003\tbest: 0.9990003 (290)\ttotal: 1m 26s\tremaining: 3m 30s\n",
      "300:\ttest: 0.9990028\tbest: 0.9990028 (300)\ttotal: 1m 29s\tremaining: 3m 27s\n",
      "310:\ttest: 0.9990103\tbest: 0.9990103 (310)\ttotal: 1m 32s\tremaining: 3m 24s\n",
      "320:\ttest: 0.9990182\tbest: 0.9990182 (320)\ttotal: 1m 35s\tremaining: 3m 22s\n",
      "330:\ttest: 0.9990198\tbest: 0.9990198 (330)\ttotal: 1m 38s\tremaining: 3m 18s\n",
      "340:\ttest: 0.9990246\tbest: 0.9990246 (340)\ttotal: 1m 41s\tremaining: 3m 15s\n",
      "350:\ttest: 0.9990259\tbest: 0.9990259 (350)\ttotal: 1m 43s\tremaining: 3m 11s\n",
      "360:\ttest: 0.9990307\tbest: 0.9990307 (360)\ttotal: 1m 46s\tremaining: 3m 9s\n",
      "370:\ttest: 0.9990323\tbest: 0.9990323 (370)\ttotal: 1m 49s\tremaining: 3m 6s\n",
      "380:\ttest: 0.9990356\tbest: 0.9990356 (380)\ttotal: 1m 52s\tremaining: 3m 3s\n",
      "390:\ttest: 0.9990414\tbest: 0.9990414 (390)\ttotal: 1m 55s\tremaining: 3m\n",
      "400:\ttest: 0.9990447\tbest: 0.9990447 (400)\ttotal: 1m 58s\tremaining: 2m 57s\n",
      "410:\ttest: 0.9990471\tbest: 0.9990471 (410)\ttotal: 2m 1s\tremaining: 2m 54s\n",
      "420:\ttest: 0.9990513\tbest: 0.9990513 (420)\ttotal: 2m 4s\tremaining: 2m 51s\n",
      "430:\ttest: 0.9990537\tbest: 0.9990537 (430)\ttotal: 2m 7s\tremaining: 2m 47s\n",
      "440:\ttest: 0.9990546\tbest: 0.9990546 (440)\ttotal: 2m 9s\tremaining: 2m 44s\n",
      "450:\ttest: 0.9990578\tbest: 0.9990578 (450)\ttotal: 2m 12s\tremaining: 2m 41s\n",
      "460:\ttest: 0.9990599\tbest: 0.9990599 (460)\ttotal: 2m 15s\tremaining: 2m 38s\n",
      "470:\ttest: 0.9990609\tbest: 0.9990609 (470)\ttotal: 2m 18s\tremaining: 2m 35s\n",
      "480:\ttest: 0.9990620\tbest: 0.9990620 (480)\ttotal: 2m 21s\tremaining: 2m 32s\n",
      "490:\ttest: 0.9990644\tbest: 0.9990644 (490)\ttotal: 2m 24s\tremaining: 2m 29s\n",
      "500:\ttest: 0.9990679\tbest: 0.9990679 (500)\ttotal: 2m 27s\tremaining: 2m 26s\n",
      "510:\ttest: 0.9990722\tbest: 0.9990722 (510)\ttotal: 2m 30s\tremaining: 2m 23s\n",
      "520:\ttest: 0.9990749\tbest: 0.9990749 (520)\ttotal: 2m 32s\tremaining: 2m 20s\n",
      "530:\ttest: 0.9990742\tbest: 0.9990749 (520)\ttotal: 2m 35s\tremaining: 2m 17s\n",
      "540:\ttest: 0.9990764\tbest: 0.9990764 (540)\ttotal: 2m 38s\tremaining: 2m 14s\n",
      "550:\ttest: 0.9990791\tbest: 0.9990791 (550)\ttotal: 2m 41s\tremaining: 2m 11s\n",
      "560:\ttest: 0.9990802\tbest: 0.9990802 (560)\ttotal: 2m 43s\tremaining: 2m 8s\n",
      "570:\ttest: 0.9990801\tbest: 0.9990802 (560)\ttotal: 2m 46s\tremaining: 2m 5s\n",
      "580:\ttest: 0.9990798\tbest: 0.9990802 (560)\ttotal: 2m 49s\tremaining: 2m 2s\n",
      "590:\ttest: 0.9990806\tbest: 0.9990806 (590)\ttotal: 2m 52s\tremaining: 1m 59s\n",
      "600:\ttest: 0.9990853\tbest: 0.9990853 (600)\ttotal: 2m 55s\tremaining: 1m 56s\n",
      "610:\ttest: 0.9990865\tbest: 0.9990865 (610)\ttotal: 2m 58s\tremaining: 1m 53s\n",
      "620:\ttest: 0.9990877\tbest: 0.9990877 (620)\ttotal: 3m\tremaining: 1m 50s\n",
      "630:\ttest: 0.9990892\tbest: 0.9990892 (630)\ttotal: 3m 3s\tremaining: 1m 47s\n",
      "640:\ttest: 0.9990906\tbest: 0.9990906 (640)\ttotal: 3m 6s\tremaining: 1m 44s\n",
      "650:\ttest: 0.9990923\tbest: 0.9990923 (650)\ttotal: 3m 9s\tremaining: 1m 41s\n",
      "660:\ttest: 0.9990944\tbest: 0.9990944 (660)\ttotal: 3m 12s\tremaining: 1m 38s\n",
      "670:\ttest: 0.9990947\tbest: 0.9990947 (670)\ttotal: 3m 15s\tremaining: 1m 35s\n",
      "680:\ttest: 0.9990952\tbest: 0.9990952 (680)\ttotal: 3m 19s\tremaining: 1m 33s\n",
      "690:\ttest: 0.9990960\tbest: 0.9990960 (690)\ttotal: 3m 22s\tremaining: 1m 30s\n",
      "700:\ttest: 0.9990972\tbest: 0.9990972 (700)\ttotal: 3m 25s\tremaining: 1m 27s\n",
      "710:\ttest: 0.9990983\tbest: 0.9990983 (710)\ttotal: 3m 28s\tremaining: 1m 24s\n",
      "720:\ttest: 0.9990981\tbest: 0.9990983 (710)\ttotal: 3m 30s\tremaining: 1m 21s\n",
      "730:\ttest: 0.9990998\tbest: 0.9990998 (730)\ttotal: 3m 34s\tremaining: 1m 18s\n",
      "740:\ttest: 0.9991009\tbest: 0.9991009 (740)\ttotal: 3m 37s\tremaining: 1m 15s\n",
      "750:\ttest: 0.9991020\tbest: 0.9991020 (750)\ttotal: 3m 40s\tremaining: 1m 12s\n",
      "760:\ttest: 0.9991038\tbest: 0.9991038 (760)\ttotal: 3m 43s\tremaining: 1m 10s\n",
      "770:\ttest: 0.9991060\tbest: 0.9991060 (770)\ttotal: 3m 45s\tremaining: 1m 7s\n",
      "780:\ttest: 0.9991059\tbest: 0.9991060 (770)\ttotal: 3m 48s\tremaining: 1m 4s\n",
      "790:\ttest: 0.9991067\tbest: 0.9991067 (790)\ttotal: 3m 51s\tremaining: 1m 1s\n",
      "800:\ttest: 0.9991074\tbest: 0.9991074 (800)\ttotal: 3m 54s\tremaining: 58.3s\n",
      "810:\ttest: 0.9991084\tbest: 0.9991084 (810)\ttotal: 3m 57s\tremaining: 55.4s\n",
      "820:\ttest: 0.9991087\tbest: 0.9991087 (820)\ttotal: 4m\tremaining: 52.4s\n",
      "830:\ttest: 0.9991099\tbest: 0.9991099 (830)\ttotal: 4m 3s\tremaining: 49.5s\n",
      "840:\ttest: 0.9991114\tbest: 0.9991114 (840)\ttotal: 4m 6s\tremaining: 46.6s\n",
      "850:\ttest: 0.9991137\tbest: 0.9991137 (850)\ttotal: 4m 9s\tremaining: 43.7s\n",
      "860:\ttest: 0.9991155\tbest: 0.9991155 (860)\ttotal: 4m 12s\tremaining: 40.8s\n",
      "870:\ttest: 0.9991161\tbest: 0.9991161 (870)\ttotal: 4m 15s\tremaining: 37.9s\n",
      "880:\ttest: 0.9991163\tbest: 0.9991163 (880)\ttotal: 4m 18s\tremaining: 34.9s\n",
      "890:\ttest: 0.9991169\tbest: 0.9991169 (890)\ttotal: 4m 21s\tremaining: 32s\n",
      "900:\ttest: 0.9991171\tbest: 0.9991171 (900)\ttotal: 4m 24s\tremaining: 29.1s\n",
      "910:\ttest: 0.9991180\tbest: 0.9991180 (910)\ttotal: 4m 27s\tremaining: 26.1s\n",
      "920:\ttest: 0.9991178\tbest: 0.9991180 (910)\ttotal: 4m 30s\tremaining: 23.2s\n",
      "930:\ttest: 0.9991183\tbest: 0.9991183 (930)\ttotal: 4m 33s\tremaining: 20.3s\n",
      "940:\ttest: 0.9991194\tbest: 0.9991194 (940)\ttotal: 4m 36s\tremaining: 17.3s\n",
      "950:\ttest: 0.9991216\tbest: 0.9991216 (950)\ttotal: 4m 39s\tremaining: 14.4s\n",
      "960:\ttest: 0.9991250\tbest: 0.9991250 (960)\ttotal: 4m 42s\tremaining: 11.5s\n",
      "970:\ttest: 0.9991253\tbest: 0.9991253 (970)\ttotal: 4m 46s\tremaining: 8.54s\n",
      "980:\ttest: 0.9991240\tbest: 0.9991253 (970)\ttotal: 4m 49s\tremaining: 5.6s\n",
      "990:\ttest: 0.9991240\tbest: 0.9991253 (970)\ttotal: 4m 52s\tremaining: 2.65s\n",
      "999:\ttest: 0.9991252\tbest: 0.9991253 (970)\ttotal: 4m 55s\tremaining: 0us\n",
      "\n",
      "bestTest = 0.9991252857\n",
      "bestIteration = 970\n",
      "\n",
      "Shrink model to first 971 iterations.\n"
     ]
    },
    {
     "data": {
      "text/plain": [
       "<catboost.core.CatBoostClassifier at 0x7f3d4bcef1f0>"
      ]
     },
     "execution_count": 78,
     "metadata": {},
     "output_type": "execute_result"
    }
   ],
   "source": [
    "cb2 = CatBoostClassifier(**cb_params)\n",
    "cb2.fit(X=data_trainu, y=y_trainu, eval_set=(data_testu, y_testu))"
   ]
  },
  {
   "cell_type": "code",
   "execution_count": 80,
   "id": "8ee707e1",
   "metadata": {
    "ExecuteTime": {
     "end_time": "2021-10-28T22:44:06.705971Z",
     "start_time": "2021-10-28T22:44:03.532599Z"
    }
   },
   "outputs": [
    {
     "data": {
      "text/plain": [
       "<AxesSubplot:xlabel='pred_q10'>"
      ]
     },
     "execution_count": 80,
     "metadata": {},
     "output_type": "execute_result"
    },
    {
     "data": {
      "image/png": "[encoded data removed]",
      "text/plain": [
       "<Figure size 432x288 with 1 Axes>"
      ]
     },
     "metadata": {
      "needs_background": "light"
     },
     "output_type": "display_data"
    }
   ],
   "source": [
    "preds = cb2.predict_proba(data_testu)\n",
    "preds = [x[1] for x in preds]\n",
    "\n",
    "X_test = pd.DataFrame(\n",
    "    zip(data_testu['desc_clean'], y_testu, preds), \n",
    "    columns=['desc_clean', 'negative', 'pred'],\n",
    "    index=data_testu.index\n",
    ")\n",
    "X_test['pred_q10'] = pd.qcut(X_test['pred'], q=10, labels=False)\n",
    "\n",
    "X_test.groupby('pred_q10').agg(\n",
    "    act=('negative', 'mean'),\n",
    "    pred=('pred', 'mean')\n",
    ").plot()"
   ]
  },
  {
   "cell_type": "markdown",
   "id": "ee9bf9a0",
   "metadata": {},
   "source": [
    "## cat boost on dedup with holdout"
   ]
  },
  {
   "cell_type": "code",
   "execution_count": null,
   "id": "9a6e5809",
   "metadata": {},
   "outputs": [],
   "source": [
    "datau = data[['desc_clean', 'negative']].drop_duplicates()"
   ]
  },
  {
   "cell_type": "code",
   "execution_count": 83,
   "id": "0a75d9b4",
   "metadata": {
    "ExecuteTime": {
     "end_time": "2021-10-29T18:14:32.947238Z",
     "start_time": "2021-10-29T18:14:32.720257Z"
    }
   },
   "outputs": [],
   "source": [
    "data_train, data_valid, y_train, y_valid = train_test_split(\n",
    "    datau[['desc_clean']], datau['negative'], test_size=0.20, random_state=12345)"
   ]
  },
  {
   "cell_type": "code",
   "execution_count": 84,
   "id": "1fce1a2d",
   "metadata": {
    "ExecuteTime": {
     "end_time": "2021-10-29T18:14:33.665603Z",
     "start_time": "2021-10-29T18:14:33.488818Z"
    }
   },
   "outputs": [],
   "source": [
    "data_train, data_test, y_train, y_test = train_test_split(\n",
    "    data_train, y_train, test_size=0.20, random_state=12345)"
   ]
  },
  {
   "cell_type": "code",
   "execution_count": 85,
   "id": "4f06f0a7",
   "metadata": {
    "ExecuteTime": {
     "end_time": "2021-10-29T18:21:46.847819Z",
     "start_time": "2021-10-29T18:15:06.632231Z"
    },
    "scrolled": true
   },
   "outputs": [
    {
     "name": "stdout",
     "output_type": "stream",
     "text": [
      "Learning rate set to 0.146124\n",
      "0:\ttest: 0.9795594\tbest: 0.9795594 (0)\ttotal: 225ms\tremaining: 3m 44s\n",
      "10:\ttest: 0.9977828\tbest: 0.9977828 (10)\ttotal: 2.88s\tremaining: 4m 19s\n",
      "20:\ttest: 0.9982653\tbest: 0.9982653 (20)\ttotal: 9.64s\tremaining: 7m 29s\n",
      "30:\ttest: 0.9984651\tbest: 0.9984651 (30)\ttotal: 13s\tremaining: 6m 44s\n",
      "40:\ttest: 0.9985523\tbest: 0.9985523 (40)\ttotal: 16.6s\tremaining: 6m 27s\n",
      "50:\ttest: 0.9986336\tbest: 0.9986336 (50)\ttotal: 22.5s\tremaining: 6m 58s\n",
      "60:\ttest: 0.9986830\tbest: 0.9986830 (60)\ttotal: 24.8s\tremaining: 6m 22s\n",
      "70:\ttest: 0.9987344\tbest: 0.9987344 (70)\ttotal: 32.4s\tremaining: 7m 3s\n",
      "80:\ttest: 0.9987736\tbest: 0.9987736 (80)\ttotal: 35.3s\tremaining: 6m 40s\n",
      "90:\ttest: 0.9987995\tbest: 0.9987995 (90)\ttotal: 38.9s\tremaining: 6m 28s\n",
      "100:\ttest: 0.9988261\tbest: 0.9988261 (100)\ttotal: 44.6s\tremaining: 6m 37s\n",
      "110:\ttest: 0.9988530\tbest: 0.9988530 (110)\ttotal: 46.9s\tremaining: 6m 15s\n",
      "120:\ttest: 0.9988778\tbest: 0.9988778 (120)\ttotal: 54.1s\tremaining: 6m 32s\n",
      "130:\ttest: 0.9988956\tbest: 0.9988956 (130)\ttotal: 56.2s\tremaining: 6m 13s\n",
      "140:\ttest: 0.9989102\tbest: 0.9989102 (140)\ttotal: 1m 3s\tremaining: 6m 28s\n",
      "150:\ttest: 0.9989243\tbest: 0.9989243 (150)\ttotal: 1m 5s\tremaining: 6m 10s\n",
      "160:\ttest: 0.9989386\tbest: 0.9989386 (160)\ttotal: 1m 11s\tremaining: 6m 11s\n",
      "170:\ttest: 0.9989489\tbest: 0.9989489 (170)\ttotal: 1m 15s\tremaining: 6m 4s\n",
      "180:\ttest: 0.9989640\tbest: 0.9989640 (180)\ttotal: 1m 18s\tremaining: 5m 54s\n",
      "190:\ttest: 0.9989701\tbest: 0.9989701 (190)\ttotal: 1m 24s\tremaining: 5m 56s\n",
      "200:\ttest: 0.9989786\tbest: 0.9989786 (200)\ttotal: 1m 26s\tremaining: 5m 43s\n",
      "210:\ttest: 0.9989827\tbest: 0.9989827 (210)\ttotal: 1m 32s\tremaining: 5m 44s\n",
      "220:\ttest: 0.9989866\tbest: 0.9989866 (220)\ttotal: 1m 35s\tremaining: 5m 35s\n",
      "230:\ttest: 0.9989956\tbest: 0.9989956 (230)\ttotal: 1m 38s\tremaining: 5m 27s\n",
      "240:\ttest: 0.9989974\tbest: 0.9989974 (240)\ttotal: 1m 44s\tremaining: 5m 27s\n",
      "250:\ttest: 0.9990098\tbest: 0.9990098 (250)\ttotal: 1m 46s\tremaining: 5m 16s\n",
      "260:\ttest: 0.9990160\tbest: 0.9990160 (260)\ttotal: 1m 51s\tremaining: 5m 17s\n",
      "270:\ttest: 0.9990234\tbest: 0.9990234 (270)\ttotal: 1m 55s\tremaining: 5m 9s\n",
      "280:\ttest: 0.9990285\tbest: 0.9990285 (280)\ttotal: 1m 58s\tremaining: 5m 3s\n",
      "290:\ttest: 0.9990360\tbest: 0.9990360 (290)\ttotal: 2m 4s\tremaining: 5m 2s\n",
      "300:\ttest: 0.9990411\tbest: 0.9990411 (300)\ttotal: 2m 6s\tremaining: 4m 52s\n",
      "310:\ttest: 0.9990475\tbest: 0.9990475 (310)\ttotal: 2m 11s\tremaining: 4m 51s\n",
      "320:\ttest: 0.9990523\tbest: 0.9990523 (320)\ttotal: 2m 15s\tremaining: 4m 45s\n",
      "330:\ttest: 0.9990544\tbest: 0.9990544 (330)\ttotal: 2m 18s\tremaining: 4m 39s\n",
      "340:\ttest: 0.9990574\tbest: 0.9990574 (340)\ttotal: 2m 24s\tremaining: 4m 38s\n",
      "350:\ttest: 0.9990584\tbest: 0.9990584 (350)\ttotal: 2m 26s\tremaining: 4m 30s\n",
      "360:\ttest: 0.9990623\tbest: 0.9990623 (360)\ttotal: 2m 29s\tremaining: 4m 25s\n",
      "370:\ttest: 0.9990661\tbest: 0.9990661 (370)\ttotal: 2m 35s\tremaining: 4m 24s\n",
      "380:\ttest: 0.9990675\tbest: 0.9990675 (380)\ttotal: 2m 38s\tremaining: 4m 17s\n",
      "390:\ttest: 0.9990667\tbest: 0.9990675 (380)\ttotal: 2m 44s\tremaining: 4m 16s\n",
      "400:\ttest: 0.9990708\tbest: 0.9990708 (400)\ttotal: 2m 46s\tremaining: 4m 8s\n",
      "410:\ttest: 0.9990734\tbest: 0.9990734 (410)\ttotal: 2m 48s\tremaining: 4m 1s\n",
      "420:\ttest: 0.9990790\tbest: 0.9990790 (420)\ttotal: 2m 54s\tremaining: 4m\n",
      "430:\ttest: 0.9990790\tbest: 0.9990790 (420)\ttotal: 2m 57s\tremaining: 3m 54s\n",
      "440:\ttest: 0.9990817\tbest: 0.9990817 (440)\ttotal: 2m 59s\tremaining: 3m 47s\n",
      "450:\ttest: 0.9990826\tbest: 0.9990826 (450)\ttotal: 3m 4s\tremaining: 3m 44s\n",
      "460:\ttest: 0.9990860\tbest: 0.9990860 (460)\ttotal: 3m 8s\tremaining: 3m 39s\n",
      "470:\ttest: 0.9990870\tbest: 0.9990870 (470)\ttotal: 3m 10s\tremaining: 3m 33s\n",
      "480:\ttest: 0.9990889\tbest: 0.9990889 (480)\ttotal: 3m 16s\tremaining: 3m 32s\n",
      "490:\ttest: 0.9990917\tbest: 0.9990917 (490)\ttotal: 3m 18s\tremaining: 3m 25s\n",
      "500:\ttest: 0.9990937\tbest: 0.9990937 (500)\ttotal: 3m 22s\tremaining: 3m 22s\n",
      "510:\ttest: 0.9990949\tbest: 0.9990949 (510)\ttotal: 3m 27s\tremaining: 3m 18s\n",
      "520:\ttest: 0.9990963\tbest: 0.9990963 (520)\ttotal: 3m 29s\tremaining: 3m 12s\n",
      "530:\ttest: 0.9990961\tbest: 0.9990963 (520)\ttotal: 3m 35s\tremaining: 3m 9s\n",
      "540:\ttest: 0.9990993\tbest: 0.9990993 (540)\ttotal: 3m 38s\tremaining: 3m 5s\n",
      "550:\ttest: 0.9990988\tbest: 0.9990993 (540)\ttotal: 3m 41s\tremaining: 3m\n",
      "560:\ttest: 0.9991007\tbest: 0.9991007 (560)\ttotal: 3m 46s\tremaining: 2m 57s\n",
      "570:\ttest: 0.9991058\tbest: 0.9991058 (570)\ttotal: 3m 48s\tremaining: 2m 51s\n",
      "580:\ttest: 0.9991066\tbest: 0.9991066 (580)\ttotal: 3m 53s\tremaining: 2m 48s\n",
      "590:\ttest: 0.9991086\tbest: 0.9991086 (590)\ttotal: 3m 57s\tremaining: 2m 44s\n",
      "600:\ttest: 0.9991088\tbest: 0.9991088 (600)\ttotal: 3m 59s\tremaining: 2m 39s\n",
      "610:\ttest: 0.9991113\tbest: 0.9991113 (610)\ttotal: 4m 5s\tremaining: 2m 36s\n",
      "620:\ttest: 0.9991133\tbest: 0.9991133 (620)\ttotal: 4m 8s\tremaining: 2m 31s\n",
      "630:\ttest: 0.9991146\tbest: 0.9991146 (630)\ttotal: 4m 11s\tremaining: 2m 27s\n",
      "640:\ttest: 0.9991151\tbest: 0.9991151 (640)\ttotal: 4m 17s\tremaining: 2m 23s\n",
      "650:\ttest: 0.9991153\tbest: 0.9991153 (650)\ttotal: 4m 18s\tremaining: 2m 18s\n",
      "660:\ttest: 0.9991158\tbest: 0.9991158 (660)\ttotal: 4m 23s\tremaining: 2m 15s\n",
      "670:\ttest: 0.9991182\tbest: 0.9991182 (670)\ttotal: 4m 28s\tremaining: 2m 11s\n",
      "680:\ttest: 0.9991188\tbest: 0.9991188 (680)\ttotal: 4m 32s\tremaining: 2m 7s\n",
      "690:\ttest: 0.9991203\tbest: 0.9991203 (690)\ttotal: 4m 37s\tremaining: 2m 4s\n",
      "700:\ttest: 0.9991205\tbest: 0.9991205 (700)\ttotal: 4m 39s\tremaining: 1m 59s\n",
      "710:\ttest: 0.9991228\tbest: 0.9991228 (710)\ttotal: 4m 44s\tremaining: 1m 55s\n",
      "720:\ttest: 0.9991250\tbest: 0.9991250 (720)\ttotal: 4m 48s\tremaining: 1m 51s\n",
      "730:\ttest: 0.9991258\tbest: 0.9991258 (730)\ttotal: 4m 50s\tremaining: 1m 46s\n",
      "740:\ttest: 0.9991265\tbest: 0.9991265 (740)\ttotal: 4m 56s\tremaining: 1m 43s\n",
      "750:\ttest: 0.9991274\tbest: 0.9991274 (750)\ttotal: 4m 58s\tremaining: 1m 38s\n",
      "760:\ttest: 0.9991296\tbest: 0.9991296 (760)\ttotal: 5m 2s\tremaining: 1m 34s\n",
      "770:\ttest: 0.9991323\tbest: 0.9991323 (770)\ttotal: 5m 7s\tremaining: 1m 31s\n",
      "780:\ttest: 0.9991323\tbest: 0.9991323 (770)\ttotal: 5m 9s\tremaining: 1m 26s\n",
      "790:\ttest: 0.9991325\tbest: 0.9991325 (790)\ttotal: 5m 14s\tremaining: 1m 23s\n",
      "800:\ttest: 0.9991347\tbest: 0.9991347 (800)\ttotal: 5m 17s\tremaining: 1m 18s\n",
      "810:\ttest: 0.9991346\tbest: 0.9991347 (800)\ttotal: 5m 20s\tremaining: 1m 14s\n",
      "820:\ttest: 0.9991357\tbest: 0.9991357 (820)\ttotal: 5m 26s\tremaining: 1m 11s\n",
      "830:\ttest: 0.9991362\tbest: 0.9991362 (830)\ttotal: 5m 28s\tremaining: 1m 6s\n",
      "840:\ttest: 0.9991367\tbest: 0.9991367 (840)\ttotal: 5m 31s\tremaining: 1m 2s\n",
      "850:\ttest: 0.9991381\tbest: 0.9991381 (850)\ttotal: 5m 37s\tremaining: 59s\n",
      "860:\ttest: 0.9991386\tbest: 0.9991386 (860)\ttotal: 5m 38s\tremaining: 54.7s\n",
      "870:\ttest: 0.9991382\tbest: 0.9991386 (860)\ttotal: 5m 43s\tremaining: 50.9s\n",
      "880:\ttest: 0.9991404\tbest: 0.9991404 (880)\ttotal: 5m 47s\tremaining: 47s\n",
      "890:\ttest: 0.9991412\tbest: 0.9991412 (890)\ttotal: 5m 49s\tremaining: 42.8s\n",
      "900:\ttest: 0.9991425\tbest: 0.9991425 (900)\ttotal: 5m 56s\tremaining: 39.1s\n",
      "910:\ttest: 0.9991433\tbest: 0.9991433 (910)\ttotal: 5m 58s\tremaining: 35s\n",
      "920:\ttest: 0.9991430\tbest: 0.9991433 (910)\ttotal: 6m\tremaining: 30.9s\n",
      "930:\ttest: 0.9991438\tbest: 0.9991438 (930)\ttotal: 6m 6s\tremaining: 27.1s\n",
      "940:\ttest: 0.9991442\tbest: 0.9991442 (940)\ttotal: 6m 9s\tremaining: 23.1s\n",
      "950:\ttest: 0.9991448\tbest: 0.9991448 (950)\ttotal: 6m 12s\tremaining: 19.2s\n",
      "960:\ttest: 0.9991453\tbest: 0.9991453 (960)\ttotal: 6m 17s\tremaining: 15.3s\n",
      "970:\ttest: 0.9991458\tbest: 0.9991458 (970)\ttotal: 6m 19s\tremaining: 11.3s\n",
      "980:\ttest: 0.9991466\tbest: 0.9991466 (980)\ttotal: 6m 24s\tremaining: 7.45s\n",
      "990:\ttest: 0.9991478\tbest: 0.9991478 (990)\ttotal: 6m 29s\tremaining: 3.53s\n",
      "999:\ttest: 0.9991489\tbest: 0.9991489 (999)\ttotal: 6m 32s\tremaining: 0us\n",
      "\n",
      "bestTest = 0.9991489486\n",
      "bestIteration = 999\n",
      "\n"
     ]
    },
    {
     "data": {
      "text/plain": [
       "<catboost.core.CatBoostClassifier at 0x7f3d58127700>"
      ]
     },
     "execution_count": 85,
     "metadata": {},
     "output_type": "execute_result"
    }
   ],
   "source": [
    "cb3 = CatBoostClassifier(**cb_params)\n",
    "cb3.fit(X=data_train, y=y_train, eval_set=(data_test, y_test))"
   ]
  },
  {
   "cell_type": "code",
   "execution_count": 86,
   "id": "9da15ec2",
   "metadata": {
    "ExecuteTime": {
     "end_time": "2021-10-29T18:21:51.024829Z",
     "start_time": "2021-10-29T18:21:46.854771Z"
    }
   },
   "outputs": [
    {
     "data": {
      "text/plain": [
       "<AxesSubplot:xlabel='pred_q10'>"
      ]
     },
     "execution_count": 86,
     "metadata": {},
     "output_type": "execute_result"
    },
    {
     "data": {
      "image/png": "[encoded data removed]",
      "text/plain": [
       "<Figure size 432x288 with 1 Axes>"
      ]
     },
     "metadata": {
      "needs_background": "light"
     },
     "output_type": "display_data"
    }
   ],
   "source": [
    "preds = cb3.predict_proba(data_test)\n",
    "preds = [x[1] for x in preds]\n",
    "\n",
    "X_test = pd.DataFrame(\n",
    "    zip(data_testu['desc_clean'], y_test, preds), \n",
    "    columns=['desc_clean', 'negative', 'pred'],\n",
    "    index=data_test.index\n",
    ")\n",
    "X_test['pred_q10'] = pd.qcut(X_test['pred'], q=10, labels=False)\n",
    "\n",
    "X_test.groupby('pred_q10').agg(\n",
    "    act=('negative', 'mean'),\n",
    "    pred=('pred', 'mean')\n",
    ").plot()"
   ]
  },
  {
   "cell_type": "code",
   "execution_count": 87,
   "id": "0ff81568",
   "metadata": {
    "ExecuteTime": {
     "end_time": "2021-10-29T18:21:52.626184Z",
     "start_time": "2021-10-29T18:21:51.025998Z"
    }
   },
   "outputs": [
    {
     "data": {
      "text/plain": [
       "<AxesSubplot:xlabel='pred_q10'>"
      ]
     },
     "execution_count": 87,
     "metadata": {},
     "output_type": "execute_result"
    },
    {
     "data": {
      "image/png": "[encoded data removed]",
      "text/plain": [
       "<Figure size 432x288 with 1 Axes>"
      ]
     },
     "metadata": {
      "needs_background": "light"
     },
     "output_type": "display_data"
    }
   ],
   "source": [
    "preds = cb3.predict_proba(data_valid)\n",
    "preds = [x[1] for x in preds]\n",
    "\n",
    "X_test = pd.DataFrame(\n",
    "    zip(data_testu['desc_clean'], y_valid, preds), \n",
    "    columns=['desc_clean', 'negative', 'pred'],\n",
    "    index=data_valid.index\n",
    ")\n",
    "X_test['pred_q10'] = pd.qcut(X_test['pred'], q=10, labels=False)\n",
    "X_test['len'] = X_test['desc_clean'].apply(len)\n",
    "\n",
    "\n",
    "X_test.groupby('pred_q10').agg(\n",
    "    act=('negative', 'mean'),\n",
    "    pred=('pred', 'mean')\n",
    ").plot()"
   ]
  },
  {
   "cell_type": "code",
   "execution_count": 96,
   "id": "2e187f67",
   "metadata": {
    "ExecuteTime": {
     "end_time": "2021-10-29T18:30:36.661201Z",
     "start_time": "2021-10-29T18:30:36.528235Z"
    }
   },
   "outputs": [
    {
     "data": {
      "text/plain": [
       "<AxesSubplot:xlabel='pred_q10'>"
      ]
     },
     "execution_count": 96,
     "metadata": {},
     "output_type": "execute_result"
    },
    {
     "data": {
      "image/png": "[encoded data removed]",
      "text/plain": [
       "<Figure size 432x288 with 1 Axes>"
      ]
     },
     "metadata": {
      "needs_background": "light"
     },
     "output_type": "display_data"
    }
   ],
   "source": [
    "X_test.groupby('pred_q10').agg(\n",
    "    act=('len', 'mean')\n",
    ").plot()"
   ]
  },
  {
   "cell_type": "code",
   "execution_count": null,
   "id": "c9717d24",
   "metadata": {},
   "outputs": [],
   "source": []
  },
  {
   "cell_type": "markdown",
   "id": "e2c12a73",
   "metadata": {},
   "source": [
    "# catboost on tfidf"
   ]
  },
  {
   "cell_type": "code",
   "execution_count": 24,
   "id": "f4e932c3",
   "metadata": {
    "ExecuteTime": {
     "end_time": "2021-10-28T21:58:43.183202Z",
     "start_time": "2021-10-28T21:58:43.087902Z"
    }
   },
   "outputs": [
    {
     "data": {
      "text/html": [
       "<div>\n",
       "<style scoped>\n",
       "    .dataframe tbody tr th:only-of-type {\n",
       "        vertical-align: middle;\n",
       "    }\n",
       "\n",
       "    .dataframe tbody tr th {\n",
       "        vertical-align: top;\n",
       "    }\n",
       "\n",
       "    .dataframe thead th {\n",
       "        text-align: right;\n",
       "    }\n",
       "</style>\n",
       "<table border=\"1\" class=\"dataframe\">\n",
       "  <thead>\n",
       "    <tr style=\"text-align: right;\">\n",
       "      <th></th>\n",
       "      <th>desc</th>\n",
       "      <th>len</th>\n",
       "      <th>negative</th>\n",
       "      <th>desc_clean</th>\n",
       "      <th>len_clean</th>\n",
       "      <th>len_clean_ratio</th>\n",
       "      <th>tokens</th>\n",
       "      <th>tokens_len</th>\n",
       "    </tr>\n",
       "  </thead>\n",
       "  <tbody>\n",
       "    <tr>\n",
       "      <th>0</th>\n",
       "      <td>Polecam nie pierwszy i nie ostatni raz!</td>\n",
       "      <td>39</td>\n",
       "      <td>0.0</td>\n",
       "      <td>polecam nie pierwszy i nie ostatni raz</td>\n",
       "      <td>38</td>\n",
       "      <td>0.974359</td>\n",
       "      <td>[polecam, nie, pierwszy, i, nie, ostatni, raz]</td>\n",
       "      <td>7</td>\n",
       "    </tr>\n",
       "    <tr>\n",
       "      <th>1</th>\n",
       "      <td>Bardzo dobra komunikacja sms i telefoniczna. Z...</td>\n",
       "      <td>121</td>\n",
       "      <td>0.0</td>\n",
       "      <td>bardzo dobra komunikacja sms i telefoniczna za...</td>\n",
       "      <td>117</td>\n",
       "      <td>0.966942</td>\n",
       "      <td>[bardzo, dobra, komunikacja, sms, i, telefonic...</td>\n",
       "      <td>16</td>\n",
       "    </tr>\n",
       "    <tr>\n",
       "      <th>2</th>\n",
       "      <td>Polecam zakupy w tym sklepie. Są dostępne częś...</td>\n",
       "      <td>87</td>\n",
       "      <td>0.0</td>\n",
       "      <td>polecam zakupy w tym sklepie są dostępne częśc...</td>\n",
       "      <td>84</td>\n",
       "      <td>0.965517</td>\n",
       "      <td>[polecam, zakupy, w, tym, sklepie, są, dostępn...</td>\n",
       "      <td>14</td>\n",
       "    </tr>\n",
       "    <tr>\n",
       "      <th>3</th>\n",
       "      <td>Jestem w pełni zadowolona z przebiegu transakcji</td>\n",
       "      <td>48</td>\n",
       "      <td>0.0</td>\n",
       "      <td>jestem w pełni zadowolona z przebiegu transakcji</td>\n",
       "      <td>48</td>\n",
       "      <td>1.000000</td>\n",
       "      <td>[jestem, w, pełni, zadowolona, z, przebiegu, t...</td>\n",
       "      <td>7</td>\n",
       "    </tr>\n",
       "    <tr>\n",
       "      <th>4</th>\n",
       "      <td>Transakcja przebiegła błyskawicznie. Pełen pro...</td>\n",
       "      <td>86</td>\n",
       "      <td>0.0</td>\n",
       "      <td>transakcja przebiegła błyskawicznie pełen prof...</td>\n",
       "      <td>84</td>\n",
       "      <td>0.976744</td>\n",
       "      <td>[transakcja, przebiegła, błyskawicznie, pełen,...</td>\n",
       "      <td>9</td>\n",
       "    </tr>\n",
       "    <tr>\n",
       "      <th>...</th>\n",
       "      <td>...</td>\n",
       "      <td>...</td>\n",
       "      <td>...</td>\n",
       "      <td>...</td>\n",
       "      <td>...</td>\n",
       "      <td>...</td>\n",
       "      <td>...</td>\n",
       "      <td>...</td>\n",
       "    </tr>\n",
       "    <tr>\n",
       "      <th>917520</th>\n",
       "      <td>Coraz lepiej wygląda</td>\n",
       "      <td>20</td>\n",
       "      <td>1.0</td>\n",
       "      <td>coraz lepiej wygląda</td>\n",
       "      <td>20</td>\n",
       "      <td>1.000000</td>\n",
       "      <td>[coraz, lepiej, wygląda]</td>\n",
       "      <td>3</td>\n",
       "    </tr>\n",
       "    <tr>\n",
       "      <th>917521</th>\n",
       "      <td>JA SRAM NA TEN PIERSCIONEK I NA CIEBIE CHWILE ...</td>\n",
       "      <td>89</td>\n",
       "      <td>1.0</td>\n",
       "      <td>ja sram na ten pierscionek i na ciebie chwile ...</td>\n",
       "      <td>89</td>\n",
       "      <td>1.000000</td>\n",
       "      <td>[ja, sram, na, ten, pierscionek, i, na, ciebie...</td>\n",
       "      <td>17</td>\n",
       "    </tr>\n",
       "    <tr>\n",
       "      <th>917522</th>\n",
       "      <td>Rafatus do Marleny  Ty kurwo bez honoru       ...</td>\n",
       "      <td>126</td>\n",
       "      <td>1.0</td>\n",
       "      <td>rafatus do marleny ty kurwo bez honoru kto tu ...</td>\n",
       "      <td>91</td>\n",
       "      <td>0.722222</td>\n",
       "      <td>[rafatus, do, marleny, ty, kurwo, bez, honoru,...</td>\n",
       "      <td>16</td>\n",
       "    </tr>\n",
       "    <tr>\n",
       "      <th>917523</th>\n",
       "      <td>matka Marleny   prosi o pomoc</td>\n",
       "      <td>29</td>\n",
       "      <td>1.0</td>\n",
       "      <td>matka marleny prosi o pomoc</td>\n",
       "      <td>27</td>\n",
       "      <td>0.931034</td>\n",
       "      <td>[matka, marleny, prosi, o, pomoc]</td>\n",
       "      <td>5</td>\n",
       "    </tr>\n",
       "    <tr>\n",
       "      <th>917524</th>\n",
       "      <td>wiesz człowieku że on ją nawet nie uderzył i m...</td>\n",
       "      <td>62</td>\n",
       "      <td>1.0</td>\n",
       "      <td>wiesz człowieku że on ją nawet nie uderzył i m...</td>\n",
       "      <td>62</td>\n",
       "      <td>1.000000</td>\n",
       "      <td>[wiesz, człowieku, że, on, ją, nawet, nie, ude...</td>\n",
       "      <td>13</td>\n",
       "    </tr>\n",
       "  </tbody>\n",
       "</table>\n",
       "<p>917525 rows × 8 columns</p>\n",
       "</div>"
      ],
      "text/plain": [
       "                                                     desc  len  negative  \\\n",
       "0                 Polecam nie pierwszy i nie ostatni raz!   39       0.0   \n",
       "1       Bardzo dobra komunikacja sms i telefoniczna. Z...  121       0.0   \n",
       "2       Polecam zakupy w tym sklepie. Są dostępne częś...   87       0.0   \n",
       "3        Jestem w pełni zadowolona z przebiegu transakcji   48       0.0   \n",
       "4       Transakcja przebiegła błyskawicznie. Pełen pro...   86       0.0   \n",
       "...                                                   ...  ...       ...   \n",
       "917520                               Coraz lepiej wygląda   20       1.0   \n",
       "917521  JA SRAM NA TEN PIERSCIONEK I NA CIEBIE CHWILE ...   89       1.0   \n",
       "917522  Rafatus do Marleny  Ty kurwo bez honoru       ...  126       1.0   \n",
       "917523                      matka Marleny   prosi o pomoc   29       1.0   \n",
       "917524  wiesz człowieku że on ją nawet nie uderzył i m...   62       1.0   \n",
       "\n",
       "                                               desc_clean  len_clean  \\\n",
       "0                  polecam nie pierwszy i nie ostatni raz         38   \n",
       "1       bardzo dobra komunikacja sms i telefoniczna za...        117   \n",
       "2       polecam zakupy w tym sklepie są dostępne częśc...         84   \n",
       "3        jestem w pełni zadowolona z przebiegu transakcji         48   \n",
       "4       transakcja przebiegła błyskawicznie pełen prof...         84   \n",
       "...                                                   ...        ...   \n",
       "917520                               coraz lepiej wygląda         20   \n",
       "917521  ja sram na ten pierscionek i na ciebie chwile ...         89   \n",
       "917522  rafatus do marleny ty kurwo bez honoru kto tu ...         91   \n",
       "917523                        matka marleny prosi o pomoc         27   \n",
       "917524  wiesz człowieku że on ją nawet nie uderzył i m...         62   \n",
       "\n",
       "        len_clean_ratio                                             tokens  \\\n",
       "0              0.974359     [polecam, nie, pierwszy, i, nie, ostatni, raz]   \n",
       "1              0.966942  [bardzo, dobra, komunikacja, sms, i, telefonic...   \n",
       "2              0.965517  [polecam, zakupy, w, tym, sklepie, są, dostępn...   \n",
       "3              1.000000  [jestem, w, pełni, zadowolona, z, przebiegu, t...   \n",
       "4              0.976744  [transakcja, przebiegła, błyskawicznie, pełen,...   \n",
       "...                 ...                                                ...   \n",
       "917520         1.000000                           [coraz, lepiej, wygląda]   \n",
       "917521         1.000000  [ja, sram, na, ten, pierscionek, i, na, ciebie...   \n",
       "917522         0.722222  [rafatus, do, marleny, ty, kurwo, bez, honoru,...   \n",
       "917523         0.931034                  [matka, marleny, prosi, o, pomoc]   \n",
       "917524         1.000000  [wiesz, człowieku, że, on, ją, nawet, nie, ude...   \n",
       "\n",
       "        tokens_len  \n",
       "0                7  \n",
       "1               16  \n",
       "2               14  \n",
       "3                7  \n",
       "4                9  \n",
       "...            ...  \n",
       "917520           3  \n",
       "917521          17  \n",
       "917522          16  \n",
       "917523           5  \n",
       "917524          13  \n",
       "\n",
       "[917525 rows x 8 columns]"
      ]
     },
     "execution_count": 24,
     "metadata": {},
     "output_type": "execute_result"
    }
   ],
   "source": []
  },
  {
   "cell_type": "code",
   "execution_count": null,
   "id": "50aa26d4",
   "metadata": {},
   "outputs": [],
   "source": []
  },
  {
   "cell_type": "code",
   "execution_count": null,
   "id": "0edc2013",
   "metadata": {},
   "outputs": [],
   "source": []
  },
  {
   "cell_type": "code",
   "execution_count": null,
   "id": "240efdab",
   "metadata": {},
   "outputs": [],
   "source": []
  },
  {
   "cell_type": "code",
   "execution_count": null,
   "id": "185cc911",
   "metadata": {},
   "outputs": [],
   "source": []
  },
  {
   "cell_type": "markdown",
   "id": "7eb8799c",
   "metadata": {},
   "source": [
    "# preproc and tokenize user sentence"
   ]
  },
  {
   "cell_type": "code",
   "execution_count": 33,
   "id": "1b1dd584",
   "metadata": {
    "ExecuteTime": {
     "end_time": "2021-10-26T21:19:21.525069Z",
     "start_time": "2021-10-26T21:19:21.502824Z"
    }
   },
   "outputs": [],
   "source": [
    "\n",
    "from src.preproc import RawDataCleaner, TextCleaner, SimpleTokenizer"
   ]
  },
  {
   "cell_type": "code",
   "execution_count": 34,
   "id": "7636933e",
   "metadata": {
    "ExecuteTime": {
     "end_time": "2021-10-26T21:19:22.176609Z",
     "start_time": "2021-10-26T21:19:22.158069Z"
    }
   },
   "outputs": [],
   "source": [
    "tokenizer = SimpleTokenizer()"
   ]
  },
  {
   "cell_type": "code",
   "execution_count": 35,
   "id": "465a6c48",
   "metadata": {
    "ExecuteTime": {
     "end_time": "2021-10-26T21:19:23.171359Z",
     "start_time": "2021-10-26T21:19:23.157373Z"
    }
   },
   "outputs": [
    {
     "data": {
      "text/plain": [
       "['a', 'co', 'tam!']"
      ]
     },
     "execution_count": 35,
     "metadata": {},
     "output_type": "execute_result"
    }
   ],
   "source": [
    "tokenizer.tokenize('a co tam!')"
   ]
  },
  {
   "cell_type": "code",
   "execution_count": null,
   "id": "69492e5d",
   "metadata": {},
   "outputs": [],
   "source": []
  },
  {
   "cell_type": "code",
   "execution_count": null,
   "id": "0ffc8b4e",
   "metadata": {},
   "outputs": [],
   "source": []
  },
  {
   "cell_type": "code",
   "execution_count": null,
   "id": "53634b44",
   "metadata": {},
   "outputs": [],
   "source": []
  },
  {
   "cell_type": "code",
   "execution_count": null,
   "id": "054ce3f3",
   "metadata": {},
   "outputs": [],
   "source": []
  },
  {
   "cell_type": "code",
   "execution_count": null,
   "id": "60ceece1",
   "metadata": {},
   "outputs": [],
   "source": []
  },
  {
   "cell_type": "markdown",
   "id": "c03a983d",
   "metadata": {},
   "source": [
    "# w2v"
   ]
  },
  {
   "cell_type": "code",
   "execution_count": 3,
   "id": "aae06982",
   "metadata": {
    "ExecuteTime": {
     "end_time": "2021-10-25T02:12:13.960112Z",
     "start_time": "2021-10-25T02:12:08.125762Z"
    }
   },
   "outputs": [],
   "source": [
    "with open('./data/data_preproc.pkl', 'rb') as f:\n",
    "    data = pickle.load(f)"
   ]
  },
  {
   "cell_type": "code",
   "execution_count": 5,
   "id": "9bddd407",
   "metadata": {
    "ExecuteTime": {
     "end_time": "2021-10-25T02:23:12.434474Z",
     "start_time": "2021-10-25T02:23:12.416157Z"
    }
   },
   "outputs": [
    {
     "data": {
      "text/plain": [
       "<gensim.models.word2vec.Word2Vec at 0x7fc9a82210d0>"
      ]
     },
     "execution_count": 5,
     "metadata": {},
     "output_type": "execute_result"
    }
   ],
   "source": [
    "model"
   ]
  },
  {
   "cell_type": "code",
   "execution_count": 4,
   "id": "96595a7e",
   "metadata": {
    "ExecuteTime": {
     "end_time": "2021-10-25T02:22:42.103680Z",
     "start_time": "2021-10-25T02:22:00.187466Z"
    }
   },
   "outputs": [
    {
     "ename": "FileNotFoundError",
     "evalue": "[Errno 2] No such file or directory: './models/word2vec.model'",
     "output_type": "error",
     "traceback": [
      "\u001b[0;31m---------------------------------------------------------------------------\u001b[0m",
      "\u001b[0;31mTypeError\u001b[0m                                 Traceback (most recent call last)",
      "\u001b[0;32m~/Pulpit/pyProj/gensim/venv/lib/python3.8/site-packages/gensim/utils.py\u001b[0m in \u001b[0;36msave\u001b[0;34m(self, fname_or_handle, separately, sep_limit, ignore, pickle_protocol)\u001b[0m\n\u001b[1;32m    762\u001b[0m         \u001b[0;32mtry\u001b[0m\u001b[0;34m:\u001b[0m\u001b[0;34m\u001b[0m\u001b[0;34m\u001b[0m\u001b[0m\n\u001b[0;32m--> 763\u001b[0;31m             \u001b[0m_pickle\u001b[0m\u001b[0;34m.\u001b[0m\u001b[0mdump\u001b[0m\u001b[0;34m(\u001b[0m\u001b[0mself\u001b[0m\u001b[0;34m,\u001b[0m \u001b[0mfname_or_handle\u001b[0m\u001b[0;34m,\u001b[0m \u001b[0mprotocol\u001b[0m\u001b[0;34m=\u001b[0m\u001b[0mpickle_protocol\u001b[0m\u001b[0;34m)\u001b[0m\u001b[0;34m\u001b[0m\u001b[0;34m\u001b[0m\u001b[0m\n\u001b[0m\u001b[1;32m    764\u001b[0m             \u001b[0mlogger\u001b[0m\u001b[0;34m.\u001b[0m\u001b[0minfo\u001b[0m\u001b[0;34m(\u001b[0m\u001b[0;34m\"saved %s object\"\u001b[0m\u001b[0;34m,\u001b[0m \u001b[0mself\u001b[0m\u001b[0;34m.\u001b[0m\u001b[0m__class__\u001b[0m\u001b[0;34m.\u001b[0m\u001b[0m__name__\u001b[0m\u001b[0;34m)\u001b[0m\u001b[0;34m\u001b[0m\u001b[0;34m\u001b[0m\u001b[0m\n",
      "\u001b[0;31mTypeError\u001b[0m: file must have a 'write' attribute",
      "\nDuring handling of the above exception, another exception occurred:\n",
      "\u001b[0;31mFileNotFoundError\u001b[0m                         Traceback (most recent call last)",
      "\u001b[0;32m/tmp/ipykernel_12286/3538314706.py\u001b[0m in \u001b[0;36m<module>\u001b[0;34m\u001b[0m\n\u001b[1;32m      2\u001b[0m \u001b[0;34m\u001b[0m\u001b[0m\n\u001b[1;32m      3\u001b[0m \u001b[0mmodel\u001b[0m \u001b[0;34m=\u001b[0m \u001b[0mWord2Vec\u001b[0m\u001b[0;34m(\u001b[0m\u001b[0msentences\u001b[0m\u001b[0;34m=\u001b[0m\u001b[0mdata\u001b[0m\u001b[0;34m[\u001b[0m\u001b[0;34m'tokens'\u001b[0m\u001b[0;34m]\u001b[0m\u001b[0;34m,\u001b[0m \u001b[0mvector_size\u001b[0m\u001b[0;34m=\u001b[0m\u001b[0;36m25\u001b[0m\u001b[0;34m,\u001b[0m \u001b[0mwindow\u001b[0m\u001b[0;34m=\u001b[0m\u001b[0;36m5\u001b[0m\u001b[0;34m,\u001b[0m \u001b[0mmin_count\u001b[0m\u001b[0;34m=\u001b[0m\u001b[0;36m1\u001b[0m\u001b[0;34m,\u001b[0m \u001b[0mworkers\u001b[0m\u001b[0;34m=\u001b[0m\u001b[0;36m4\u001b[0m\u001b[0;34m)\u001b[0m\u001b[0;34m\u001b[0m\u001b[0;34m\u001b[0m\u001b[0m\n\u001b[0;32m----> 4\u001b[0;31m \u001b[0mmodel\u001b[0m\u001b[0;34m.\u001b[0m\u001b[0msave\u001b[0m\u001b[0;34m(\u001b[0m\u001b[0;34m\"./models/word2vec.model\"\u001b[0m\u001b[0;34m)\u001b[0m\u001b[0;34m\u001b[0m\u001b[0;34m\u001b[0m\u001b[0m\n\u001b[0m",
      "\u001b[0;32m~/Pulpit/pyProj/gensim/venv/lib/python3.8/site-packages/gensim/models/word2vec.py\u001b[0m in \u001b[0;36msave\u001b[0;34m(self, *args, **kwargs)\u001b[0m\n\u001b[1;32m   1898\u001b[0m \u001b[0;34m\u001b[0m\u001b[0m\n\u001b[1;32m   1899\u001b[0m         \"\"\"\n\u001b[0;32m-> 1900\u001b[0;31m         \u001b[0msuper\u001b[0m\u001b[0;34m(\u001b[0m\u001b[0mWord2Vec\u001b[0m\u001b[0;34m,\u001b[0m \u001b[0mself\u001b[0m\u001b[0;34m)\u001b[0m\u001b[0;34m.\u001b[0m\u001b[0msave\u001b[0m\u001b[0;34m(\u001b[0m\u001b[0;34m*\u001b[0m\u001b[0margs\u001b[0m\u001b[0;34m,\u001b[0m \u001b[0;34m**\u001b[0m\u001b[0mkwargs\u001b[0m\u001b[0;34m)\u001b[0m\u001b[0;34m\u001b[0m\u001b[0;34m\u001b[0m\u001b[0m\n\u001b[0m\u001b[1;32m   1901\u001b[0m \u001b[0;34m\u001b[0m\u001b[0m\n\u001b[1;32m   1902\u001b[0m     \u001b[0;32mdef\u001b[0m \u001b[0m_save_specials\u001b[0m\u001b[0;34m(\u001b[0m\u001b[0mself\u001b[0m\u001b[0;34m,\u001b[0m \u001b[0mfname\u001b[0m\u001b[0;34m,\u001b[0m \u001b[0mseparately\u001b[0m\u001b[0;34m,\u001b[0m \u001b[0msep_limit\u001b[0m\u001b[0;34m,\u001b[0m \u001b[0mignore\u001b[0m\u001b[0;34m,\u001b[0m \u001b[0mpickle_protocol\u001b[0m\u001b[0;34m,\u001b[0m \u001b[0mcompress\u001b[0m\u001b[0;34m,\u001b[0m \u001b[0msubname\u001b[0m\u001b[0;34m)\u001b[0m\u001b[0;34m:\u001b[0m\u001b[0;34m\u001b[0m\u001b[0;34m\u001b[0m\u001b[0m\n",
      "\u001b[0;32m~/Pulpit/pyProj/gensim/venv/lib/python3.8/site-packages/gensim/utils.py\u001b[0m in \u001b[0;36msave\u001b[0;34m(self, fname_or_handle, separately, sep_limit, ignore, pickle_protocol)\u001b[0m\n\u001b[1;32m    764\u001b[0m             \u001b[0mlogger\u001b[0m\u001b[0;34m.\u001b[0m\u001b[0minfo\u001b[0m\u001b[0;34m(\u001b[0m\u001b[0;34m\"saved %s object\"\u001b[0m\u001b[0;34m,\u001b[0m \u001b[0mself\u001b[0m\u001b[0;34m.\u001b[0m\u001b[0m__class__\u001b[0m\u001b[0;34m.\u001b[0m\u001b[0m__name__\u001b[0m\u001b[0;34m)\u001b[0m\u001b[0;34m\u001b[0m\u001b[0;34m\u001b[0m\u001b[0m\n\u001b[1;32m    765\u001b[0m         \u001b[0;32mexcept\u001b[0m \u001b[0mTypeError\u001b[0m\u001b[0;34m:\u001b[0m  \u001b[0;31m# `fname_or_handle` does not have write attribute\u001b[0m\u001b[0;34m\u001b[0m\u001b[0;34m\u001b[0m\u001b[0m\n\u001b[0;32m--> 766\u001b[0;31m             \u001b[0mself\u001b[0m\u001b[0;34m.\u001b[0m\u001b[0m_smart_save\u001b[0m\u001b[0;34m(\u001b[0m\u001b[0mfname_or_handle\u001b[0m\u001b[0;34m,\u001b[0m \u001b[0mseparately\u001b[0m\u001b[0;34m,\u001b[0m \u001b[0msep_limit\u001b[0m\u001b[0;34m,\u001b[0m \u001b[0mignore\u001b[0m\u001b[0;34m,\u001b[0m \u001b[0mpickle_protocol\u001b[0m\u001b[0;34m=\u001b[0m\u001b[0mpickle_protocol\u001b[0m\u001b[0;34m)\u001b[0m\u001b[0;34m\u001b[0m\u001b[0;34m\u001b[0m\u001b[0m\n\u001b[0m\u001b[1;32m    767\u001b[0m \u001b[0;34m\u001b[0m\u001b[0m\n\u001b[1;32m    768\u001b[0m \u001b[0;34m\u001b[0m\u001b[0m\n",
      "\u001b[0;32m~/Pulpit/pyProj/gensim/venv/lib/python3.8/site-packages/gensim/utils.py\u001b[0m in \u001b[0;36m_smart_save\u001b[0;34m(self, fname, separately, sep_limit, ignore, pickle_protocol)\u001b[0m\n\u001b[1;32m    608\u001b[0m         )\n\u001b[1;32m    609\u001b[0m         \u001b[0;32mtry\u001b[0m\u001b[0;34m:\u001b[0m\u001b[0;34m\u001b[0m\u001b[0;34m\u001b[0m\u001b[0m\n\u001b[0;32m--> 610\u001b[0;31m             \u001b[0mpickle\u001b[0m\u001b[0;34m(\u001b[0m\u001b[0mself\u001b[0m\u001b[0;34m,\u001b[0m \u001b[0mfname\u001b[0m\u001b[0;34m,\u001b[0m \u001b[0mprotocol\u001b[0m\u001b[0;34m=\u001b[0m\u001b[0mpickle_protocol\u001b[0m\u001b[0;34m)\u001b[0m\u001b[0;34m\u001b[0m\u001b[0;34m\u001b[0m\u001b[0m\n\u001b[0m\u001b[1;32m    611\u001b[0m         \u001b[0;32mfinally\u001b[0m\u001b[0;34m:\u001b[0m\u001b[0;34m\u001b[0m\u001b[0;34m\u001b[0m\u001b[0m\n\u001b[1;32m    612\u001b[0m             \u001b[0;31m# restore attribs handled specially\u001b[0m\u001b[0;34m\u001b[0m\u001b[0;34m\u001b[0m\u001b[0;34m\u001b[0m\u001b[0m\n",
      "\u001b[0;32m~/Pulpit/pyProj/gensim/venv/lib/python3.8/site-packages/gensim/utils.py\u001b[0m in \u001b[0;36mpickle\u001b[0;34m(obj, fname, protocol)\u001b[0m\n\u001b[1;32m   1439\u001b[0m \u001b[0;34m\u001b[0m\u001b[0m\n\u001b[1;32m   1440\u001b[0m     \"\"\"\n\u001b[0;32m-> 1441\u001b[0;31m     \u001b[0;32mwith\u001b[0m \u001b[0mopen\u001b[0m\u001b[0;34m(\u001b[0m\u001b[0mfname\u001b[0m\u001b[0;34m,\u001b[0m \u001b[0;34m'wb'\u001b[0m\u001b[0;34m)\u001b[0m \u001b[0;32mas\u001b[0m \u001b[0mfout\u001b[0m\u001b[0;34m:\u001b[0m  \u001b[0;31m# 'b' for binary, needed on Windows\u001b[0m\u001b[0;34m\u001b[0m\u001b[0;34m\u001b[0m\u001b[0m\n\u001b[0m\u001b[1;32m   1442\u001b[0m         \u001b[0m_pickle\u001b[0m\u001b[0;34m.\u001b[0m\u001b[0mdump\u001b[0m\u001b[0;34m(\u001b[0m\u001b[0mobj\u001b[0m\u001b[0;34m,\u001b[0m \u001b[0mfout\u001b[0m\u001b[0;34m,\u001b[0m \u001b[0mprotocol\u001b[0m\u001b[0;34m=\u001b[0m\u001b[0mprotocol\u001b[0m\u001b[0;34m)\u001b[0m\u001b[0;34m\u001b[0m\u001b[0;34m\u001b[0m\u001b[0m\n\u001b[1;32m   1443\u001b[0m \u001b[0;34m\u001b[0m\u001b[0m\n",
      "\u001b[0;32m~/Pulpit/pyProj/gensim/venv/lib/python3.8/site-packages/smart_open/smart_open_lib.py\u001b[0m in \u001b[0;36mopen\u001b[0;34m(uri, mode, buffering, encoding, errors, newline, closefd, opener, ignore_ext, compression, transport_params)\u001b[0m\n\u001b[1;32m    186\u001b[0m         \u001b[0mtransport_params\u001b[0m \u001b[0;34m=\u001b[0m \u001b[0;34m{\u001b[0m\u001b[0;34m}\u001b[0m\u001b[0;34m\u001b[0m\u001b[0;34m\u001b[0m\u001b[0m\n\u001b[1;32m    187\u001b[0m \u001b[0;34m\u001b[0m\u001b[0m\n\u001b[0;32m--> 188\u001b[0;31m     fobj = _shortcut_open(\n\u001b[0m\u001b[1;32m    189\u001b[0m         \u001b[0muri\u001b[0m\u001b[0;34m,\u001b[0m\u001b[0;34m\u001b[0m\u001b[0;34m\u001b[0m\u001b[0m\n\u001b[1;32m    190\u001b[0m         \u001b[0mmode\u001b[0m\u001b[0;34m,\u001b[0m\u001b[0;34m\u001b[0m\u001b[0;34m\u001b[0m\u001b[0m\n",
      "\u001b[0;32m~/Pulpit/pyProj/gensim/venv/lib/python3.8/site-packages/smart_open/smart_open_lib.py\u001b[0m in \u001b[0;36m_shortcut_open\u001b[0;34m(uri, mode, compression, buffering, encoding, errors, newline)\u001b[0m\n\u001b[1;32m    359\u001b[0m         \u001b[0mopen_kwargs\u001b[0m\u001b[0;34m[\u001b[0m\u001b[0;34m'errors'\u001b[0m\u001b[0;34m]\u001b[0m \u001b[0;34m=\u001b[0m \u001b[0merrors\u001b[0m\u001b[0;34m\u001b[0m\u001b[0;34m\u001b[0m\u001b[0m\n\u001b[1;32m    360\u001b[0m \u001b[0;34m\u001b[0m\u001b[0m\n\u001b[0;32m--> 361\u001b[0;31m     \u001b[0;32mreturn\u001b[0m \u001b[0m_builtin_open\u001b[0m\u001b[0;34m(\u001b[0m\u001b[0mlocal_path\u001b[0m\u001b[0;34m,\u001b[0m \u001b[0mmode\u001b[0m\u001b[0;34m,\u001b[0m \u001b[0mbuffering\u001b[0m\u001b[0;34m=\u001b[0m\u001b[0mbuffering\u001b[0m\u001b[0;34m,\u001b[0m \u001b[0;34m**\u001b[0m\u001b[0mopen_kwargs\u001b[0m\u001b[0;34m)\u001b[0m\u001b[0;34m\u001b[0m\u001b[0;34m\u001b[0m\u001b[0m\n\u001b[0m\u001b[1;32m    362\u001b[0m \u001b[0;34m\u001b[0m\u001b[0m\n\u001b[1;32m    363\u001b[0m \u001b[0;34m\u001b[0m\u001b[0m\n",
      "\u001b[0;31mFileNotFoundError\u001b[0m: [Errno 2] No such file or directory: './models/word2vec.model'"
     ]
    }
   ],
   "source": [
    "from gensim.models import Word2Vec\n",
    "\n",
    "model = Word2Vec(sentences=data['tokens'], vector_size=25, window=5, min_count=1, workers=4)\n",
    "model.save(\"./models/word2vec.model\")"
   ]
  },
  {
   "cell_type": "code",
   "execution_count": 6,
   "id": "f644cc45",
   "metadata": {
    "ExecuteTime": {
     "end_time": "2021-10-25T21:07:11.842370Z",
     "start_time": "2021-10-25T21:07:11.565802Z"
    }
   },
   "outputs": [],
   "source": [
    "from datetime import datetime"
   ]
  },
  {
   "cell_type": "code",
   "execution_count": 7,
   "id": "d5f08f09",
   "metadata": {
    "ExecuteTime": {
     "end_time": "2021-10-25T21:07:27.037190Z",
     "start_time": "2021-10-25T21:07:27.024019Z"
    }
   },
   "outputs": [],
   "source": [
    "dateTimeObj = datetime.now()"
   ]
  },
  {
   "cell_type": "code",
   "execution_count": 8,
   "id": "d30df897",
   "metadata": {
    "ExecuteTime": {
     "end_time": "2021-10-25T21:07:30.999364Z",
     "start_time": "2021-10-25T21:07:30.983405Z"
    }
   },
   "outputs": [
    {
     "name": "stdout",
     "output_type": "stream",
     "text": [
      "2021-10-25 23:07:27.035741\n"
     ]
    }
   ],
   "source": [
    "print(dateTimeObj)"
   ]
  },
  {
   "cell_type": "code",
   "execution_count": 10,
   "id": "f4ad7636",
   "metadata": {
    "ExecuteTime": {
     "end_time": "2021-10-25T21:08:42.017521Z",
     "start_time": "2021-10-25T21:08:42.002445Z"
    }
   },
   "outputs": [
    {
     "name": "stdout",
     "output_type": "stream",
     "text": [
      "20211025_230727\n"
     ]
    }
   ],
   "source": [
    "timestampStr = dateTimeObj.strftime(\"%Y%m%d_%H%M%S\")\n",
    "print(timestampStr)"
   ]
  },
  {
   "cell_type": "markdown",
   "id": "3a8be51d",
   "metadata": {},
   "source": [
    "# test single sentence wrapper"
   ]
  },
  {
   "cell_type": "code",
   "execution_count": null,
   "id": "7e19933c",
   "metadata": {},
   "outputs": [],
   "source": []
  },
  {
   "cell_type": "markdown",
   "id": "9aae3bd8",
   "metadata": {},
   "source": [
    "# test single column transformers"
   ]
  },
  {
   "cell_type": "code",
   "execution_count": 63,
   "id": "bf5c3d60",
   "metadata": {
    "ExecuteTime": {
     "end_time": "2021-10-27T20:54:54.616270Z",
     "start_time": "2021-10-27T20:54:54.597268Z"
    }
   },
   "outputs": [],
   "source": [
    "a = '257 najlepszy moment ψψ'\n",
    "b = 'اغلاق الكلبة العربي يمارس الجنس مع ما يصل'\n",
    "c = \"stara ''sowiecka szkola'' zaczynam sie zastanawiac czy mozna by ich legalnie zdelegalizowac ?\"\n",
    "d = 'Dobrze. Szkoda, że InPost nie precyzuje co oznacza, że dostarcza przesyłkę \"OD RANA\"'\n",
    "e = '  asd  asd  '\n",
    "f = 'łączńie ćma grzegżźółka'\n",
    "g = 'Bardzo przyjazny klientom sklep. \\\\Realizuje, wszystkie zamówienai: takie - takie '\n",
    "h = 'Szanowni Państwo, ODRADZAM !!!\\r\\r\\r\\n\\r\\r\\r\\n'\n",
    "i = 'Szanowni Państwo,\\r\\r\\r\\n\\r\\r\\r\\n ODRADZAM !!!'\n",
    "j = 'what???????!!!!!!!!!'\n",
    "\n",
    "tt = [a,b,c,d,e,f,g,h,i,j]"
   ]
  },
  {
   "cell_type": "code",
   "execution_count": 47,
   "id": "614b012d",
   "metadata": {
    "ExecuteTime": {
     "end_time": "2021-10-27T20:45:06.327714Z",
     "start_time": "2021-10-27T20:45:06.314500Z"
    }
   },
   "outputs": [],
   "source": [
    "from src.preproc_columns import TextCleaner, SimpleTokenizer"
   ]
  },
  {
   "cell_type": "code",
   "execution_count": 58,
   "id": "48c0e093",
   "metadata": {
    "ExecuteTime": {
     "end_time": "2021-10-27T20:53:38.540255Z",
     "start_time": "2021-10-27T20:53:38.526366Z"
    }
   },
   "outputs": [
    {
     "data": {
      "text/plain": [
       "['257 najlepszy moment',\n",
       " '',\n",
       " 'stara sowiecka szkola zaczynam sie zastanawiac czy mozna by ich legalnie zdelegalizowac',\n",
       " 'dobrze szkoda że inpost nie precyzuje co oznacza że dostarcza przesyłkę od rana',\n",
       " 'asd asd',\n",
       " 'łączńie ćma grzegżźółka',\n",
       " 'bardzo przyjazny klientom sklep realizuje wszystkie zamówienai takie takie',\n",
       " 'szanowni państwo odradzam',\n",
       " 'szanowni państwo odradzam',\n",
       " 'what']"
      ]
     },
     "execution_count": 58,
     "metadata": {},
     "output_type": "execute_result"
    }
   ],
   "source": [
    "TextCleaner().transform(tt)"
   ]
  },
  {
   "cell_type": "code",
   "execution_count": 61,
   "id": "6bf42abb",
   "metadata": {
    "ExecuteTime": {
     "end_time": "2021-10-27T20:54:26.800720Z",
     "start_time": "2021-10-27T20:54:26.786148Z"
    }
   },
   "outputs": [
    {
     "data": {
      "text/plain": [
       "['257 najlepszy moment',\n",
       " '',\n",
       " 'stara sowiecka szkola zaczynam sie zastanawiac czy mozna by ich legalnie zdelegalizowac',\n",
       " 'dobrze szkoda że inpost nie precyzuje co oznacza że dostarcza przesyłkę od rana',\n",
       " 'asd asd',\n",
       " 'łączńie ćma grzegżźółka',\n",
       " 'bardzo przyjazny klientom sklep realizuje wszystkie zamówienai takie takie',\n",
       " 'szanowni państwo odradzam',\n",
       " 'szanowni państwo odradzam',\n",
       " 'what']"
      ]
     },
     "execution_count": 61,
     "metadata": {},
     "output_type": "execute_result"
    }
   ],
   "source": [
    "TextCleaner().fit_transform(tt)"
   ]
  },
  {
   "cell_type": "code",
   "execution_count": 57,
   "id": "54d87070",
   "metadata": {
    "ExecuteTime": {
     "end_time": "2021-10-27T20:53:32.484200Z",
     "start_time": "2021-10-27T20:53:29.209202Z"
    }
   },
   "outputs": [
    {
     "data": {
      "text/plain": [
       "'takie tam oj 12'"
      ]
     },
     "execution_count": 57,
     "metadata": {},
     "output_type": "execute_result"
    }
   ],
   "source": [
    "TextCleaner().transform('takie tam!??   oj 12')"
   ]
  },
  {
   "cell_type": "code",
   "execution_count": 60,
   "id": "f5425e7f",
   "metadata": {
    "ExecuteTime": {
     "end_time": "2021-10-27T20:54:11.895090Z",
     "start_time": "2021-10-27T20:54:11.870504Z"
    }
   },
   "outputs": [
    {
     "data": {
      "text/plain": [
       "'takie tam oj 12'"
      ]
     },
     "execution_count": 60,
     "metadata": {},
     "output_type": "execute_result"
    }
   ],
   "source": [
    "TextCleaner().fit_transform('takie tam!??   oj 12')"
   ]
  },
  {
   "cell_type": "code",
   "execution_count": 67,
   "id": "f45f05ff",
   "metadata": {
    "ExecuteTime": {
     "end_time": "2021-10-27T20:56:25.897453Z",
     "start_time": "2021-10-27T20:56:25.872307Z"
    }
   },
   "outputs": [],
   "source": [
    "prep_p = Pipeline([\n",
    "    ('clean', TextCleaner()),\n",
    "    ('tokenize', SimpleTokenizer())\n",
    "])"
   ]
  },
  {
   "cell_type": "code",
   "execution_count": 70,
   "id": "11a702de",
   "metadata": {
    "ExecuteTime": {
     "end_time": "2021-10-27T20:58:05.839555Z",
     "start_time": "2021-10-27T20:58:05.825612Z"
    }
   },
   "outputs": [
    {
     "data": {
      "text/plain": [
       "[['257', 'najlepszy', 'moment'],\n",
       " [],\n",
       " ['stara',\n",
       "  'sowiecka',\n",
       "  'szkola',\n",
       "  'zaczynam',\n",
       "  'sie',\n",
       "  'zastanawiac',\n",
       "  'czy',\n",
       "  'mozna',\n",
       "  'by',\n",
       "  'ich',\n",
       "  'legalnie',\n",
       "  'zdelegalizowac'],\n",
       " ['dobrze',\n",
       "  'szkoda',\n",
       "  'że',\n",
       "  'inpost',\n",
       "  'nie',\n",
       "  'precyzuje',\n",
       "  'co',\n",
       "  'oznacza',\n",
       "  'że',\n",
       "  'dostarcza',\n",
       "  'przesyłkę',\n",
       "  'od',\n",
       "  'rana'],\n",
       " ['asd', 'asd'],\n",
       " ['łączńie', 'ćma', 'grzegżźółka'],\n",
       " ['bardzo',\n",
       "  'przyjazny',\n",
       "  'klientom',\n",
       "  'sklep',\n",
       "  'realizuje',\n",
       "  'wszystkie',\n",
       "  'zamówienai',\n",
       "  'takie',\n",
       "  'takie'],\n",
       " ['szanowni', 'państwo', 'odradzam'],\n",
       " ['szanowni', 'państwo', 'odradzam'],\n",
       " ['what']]"
      ]
     },
     "execution_count": 70,
     "metadata": {},
     "output_type": "execute_result"
    }
   ],
   "source": [
    "prep_p.transform(tt)"
   ]
  },
  {
   "cell_type": "markdown",
   "id": "15c57a7a",
   "metadata": {},
   "source": [
    "# adhoc"
   ]
  },
  {
   "cell_type": "code",
   "execution_count": 52,
   "id": "381fcd15",
   "metadata": {
    "ExecuteTime": {
     "end_time": "2021-10-27T20:48:14.127690Z",
     "start_time": "2021-10-27T20:48:14.114043Z"
    }
   },
   "outputs": [
    {
     "name": "stdout",
     "output_type": "stream",
     "text": [
      "aaa\n"
     ]
    }
   ],
   "source": [
    "for x in ['aaa']:\n",
    "    print(x)"
   ]
  },
  {
   "cell_type": "code",
   "execution_count": 45,
   "id": "f63e0cba",
   "metadata": {
    "ExecuteTime": {
     "end_time": "2021-10-27T20:35:51.244800Z",
     "start_time": "2021-10-27T20:35:51.225052Z"
    }
   },
   "outputs": [
    {
     "data": {
      "text/plain": [
       "[]"
      ]
     },
     "execution_count": 45,
     "metadata": {},
     "output_type": "execute_result"
    }
   ],
   "source": [
    "''.split()"
   ]
  },
  {
   "cell_type": "code",
   "execution_count": 44,
   "id": "0d59ef78",
   "metadata": {
    "ExecuteTime": {
     "end_time": "2021-10-27T20:31:25.015308Z",
     "start_time": "2021-10-27T20:31:20.321573Z"
    }
   },
   "outputs": [
    {
     "data": {
      "text/plain": [
       "[1]"
      ]
     },
     "execution_count": 44,
     "metadata": {},
     "output_type": "execute_result"
    }
   ],
   "source": [
    "[1].copy()"
   ]
  },
  {
   "cell_type": "code",
   "execution_count": null,
   "id": "d6ec2c0a",
   "metadata": {},
   "outputs": [],
   "source": [
    "datasets = pd.DataFrame(columns=['id', 'ts', 'params', 'git_branch', 'git_commit', 'shape', 'columns'])"
   ]
  },
  {
   "cell_type": "code",
   "execution_count": 128,
   "id": "9deb6a4f",
   "metadata": {
    "ExecuteTime": {
     "end_time": "2021-10-25T23:38:54.375185Z",
     "start_time": "2021-10-25T23:38:53.138883Z"
    }
   },
   "outputs": [],
   "source": [
    "import os\n",
    "\n",
    "os.mkdir('./data/test')"
   ]
  },
  {
   "cell_type": "code",
   "execution_count": 139,
   "id": "be34a497",
   "metadata": {
    "ExecuteTime": {
     "end_time": "2021-10-25T23:56:21.220567Z",
     "start_time": "2021-10-25T23:56:21.196170Z"
    }
   },
   "outputs": [
    {
     "data": {
      "text/html": [
       "<div>\n",
       "<style scoped>\n",
       "    .dataframe tbody tr th:only-of-type {\n",
       "        vertical-align: middle;\n",
       "    }\n",
       "\n",
       "    .dataframe tbody tr th {\n",
       "        vertical-align: top;\n",
       "    }\n",
       "\n",
       "    .dataframe thead th {\n",
       "        text-align: right;\n",
       "    }\n",
       "</style>\n",
       "<table border=\"1\" class=\"dataframe\">\n",
       "  <thead>\n",
       "    <tr style=\"text-align: right;\">\n",
       "      <th></th>\n",
       "      <th>a</th>\n",
       "      <th>b</th>\n",
       "    </tr>\n",
       "  </thead>\n",
       "  <tbody>\n",
       "    <tr>\n",
       "      <th>0</th>\n",
       "      <td>1</td>\n",
       "      <td>2</td>\n",
       "    </tr>\n",
       "  </tbody>\n",
       "</table>\n",
       "</div>"
      ],
      "text/plain": [
       "   a  b\n",
       "0  1  2"
      ]
     },
     "execution_count": 139,
     "metadata": {},
     "output_type": "execute_result"
    }
   ],
   "source": []
  },
  {
   "cell_type": "code",
   "execution_count": 138,
   "id": "2af1f9a3",
   "metadata": {
    "ExecuteTime": {
     "end_time": "2021-10-25T23:55:47.146578Z",
     "start_time": "2021-10-25T23:55:47.125965Z"
    }
   },
   "outputs": [
    {
     "data": {
      "text/html": [
       "<div>\n",
       "<style scoped>\n",
       "    .dataframe tbody tr th:only-of-type {\n",
       "        vertical-align: middle;\n",
       "    }\n",
       "\n",
       "    .dataframe tbody tr th {\n",
       "        vertical-align: top;\n",
       "    }\n",
       "\n",
       "    .dataframe thead th {\n",
       "        text-align: right;\n",
       "    }\n",
       "</style>\n",
       "<table border=\"1\" class=\"dataframe\">\n",
       "  <thead>\n",
       "    <tr style=\"text-align: right;\">\n",
       "      <th></th>\n",
       "      <th>c</th>\n",
       "      <th>d</th>\n",
       "      <th>0</th>\n",
       "      <th>1</th>\n",
       "    </tr>\n",
       "  </thead>\n",
       "  <tbody>\n",
       "    <tr>\n",
       "      <th>0</th>\n",
       "      <td>NaN</td>\n",
       "      <td>NaN</td>\n",
       "      <td>1.0</td>\n",
       "      <td>2.0</td>\n",
       "    </tr>\n",
       "  </tbody>\n",
       "</table>\n",
       "</div>"
      ],
      "text/plain": [
       "     c    d    0    1\n",
       "0  NaN  NaN  1.0  2.0"
      ]
     },
     "execution_count": 138,
     "metadata": {},
     "output_type": "execute_result"
    }
   ],
   "source": [
    "aa = pd.DataFrame(columns=['c', 'd'])\n",
    "aa.append(pd.Series((1,2)).to_frame().T)\n"
   ]
  },
  {
   "cell_type": "code",
   "execution_count": 130,
   "id": "9a4c8cf2",
   "metadata": {
    "ExecuteTime": {
     "end_time": "2021-10-25T23:41:32.398755Z",
     "start_time": "2021-10-25T23:41:32.382760Z"
    }
   },
   "outputs": [
    {
     "data": {
      "text/plain": [
       "'./data/er'"
      ]
     },
     "execution_count": 130,
     "metadata": {},
     "output_type": "execute_result"
    }
   ],
   "source": []
  },
  {
   "cell_type": "code",
   "execution_count": 141,
   "id": "1a77cec5",
   "metadata": {
    "ExecuteTime": {
     "end_time": "2021-10-26T00:03:15.555306Z",
     "start_time": "2021-10-26T00:03:15.542175Z"
    }
   },
   "outputs": [],
   "source": [
    "with open('./data/20211026_020140/df_prepro_metadata.pkl', 'rb') as f:\n",
    "    metadata = pickle.load(f)"
   ]
  },
  {
   "cell_type": "code",
   "execution_count": 142,
   "id": "34679f2a",
   "metadata": {
    "ExecuteTime": {
     "end_time": "2021-10-26T00:03:19.535542Z",
     "start_time": "2021-10-26T00:03:19.513123Z"
    }
   },
   "outputs": [
    {
     "data": {
      "text/html": [
       "<div>\n",
       "<style scoped>\n",
       "    .dataframe tbody tr th:only-of-type {\n",
       "        vertical-align: middle;\n",
       "    }\n",
       "\n",
       "    .dataframe tbody tr th {\n",
       "        vertical-align: top;\n",
       "    }\n",
       "\n",
       "    .dataframe thead th {\n",
       "        text-align: right;\n",
       "    }\n",
       "</style>\n",
       "<table border=\"1\" class=\"dataframe\">\n",
       "  <thead>\n",
       "    <tr style=\"text-align: right;\">\n",
       "      <th></th>\n",
       "      <th>ts</th>\n",
       "      <th>params</th>\n",
       "      <th>working_dir</th>\n",
       "      <th>git_branch</th>\n",
       "      <th>git_commit</th>\n",
       "      <th>git_sha</th>\n",
       "      <th>shape</th>\n",
       "      <th>columns</th>\n",
       "    </tr>\n",
       "  </thead>\n",
       "  <tbody>\n",
       "    <tr>\n",
       "      <th>0</th>\n",
       "      <td>20211026_020140</td>\n",
       "      <td>{'load_data__file_name': 'polish_sentiment_dat...</td>\n",
       "      <td>/home/mic/Pulpit/pyProj/gensim</td>\n",
       "      <td>master</td>\n",
       "      <td>add prep_data.py modelue for running data prep...</td>\n",
       "      <td>5dbad2a69f2ea7004d30e2c21206c03d4bdfec36</td>\n",
       "      <td>(917525, 8)</td>\n",
       "      <td>[desc, len, negative, desc_clean, len_clean, l...</td>\n",
       "    </tr>\n",
       "  </tbody>\n",
       "</table>\n",
       "</div>"
      ],
      "text/plain": [
       "                ts                                             params  \\\n",
       "0  20211026_020140  {'load_data__file_name': 'polish_sentiment_dat...   \n",
       "\n",
       "                      working_dir git_branch  \\\n",
       "0  /home/mic/Pulpit/pyProj/gensim     master   \n",
       "\n",
       "                                          git_commit  \\\n",
       "0  add prep_data.py modelue for running data prep...   \n",
       "\n",
       "                                    git_sha        shape  \\\n",
       "0  5dbad2a69f2ea7004d30e2c21206c03d4bdfec36  (917525, 8)   \n",
       "\n",
       "                                             columns  \n",
       "0  [desc, len, negative, desc_clean, len_clean, l...  "
      ]
     },
     "execution_count": 142,
     "metadata": {},
     "output_type": "execute_result"
    }
   ],
   "source": [
    "metadata"
   ]
  }
 ],
 "metadata": {
  "kernelspec": {
   "display_name": "Python 3 (ipykernel)",
   "language": "python",
   "name": "python3"
  },
  "language_info": {
   "codemirror_mode": {
    "name": "ipython",
    "version": 3
   },
   "file_extension": ".py",
   "mimetype": "text/x-python",
   "name": "python",
   "nbconvert_exporter": "python",
   "pygments_lexer": "ipython3",
   "version": "3.8.10"
  },
  "toc": {
   "base_numbering": 1,
   "nav_menu": {},
   "number_sections": true,
   "sideBar": true,
   "skip_h1_title": false,
   "title_cell": "Table of Contents",
   "title_sidebar": "Contents",
   "toc_cell": false,
   "toc_position": {
    "height": "calc(100% - 180px)",
    "left": "10px",
    "top": "150px",
    "width": "372px"
   },
   "toc_section_display": true,
   "toc_window_display": true
  }
 },
 "nbformat": 4,
 "nbformat_minor": 5
}
