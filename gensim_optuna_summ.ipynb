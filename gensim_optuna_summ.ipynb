{
 "cells": [
  {
   "cell_type": "markdown",
   "id": "87c166c2",
   "metadata": {},
   "source": [
    "# setup"
   ]
  },
  {
   "cell_type": "code",
   "execution_count": 2,
   "id": "f5738a7d",
   "metadata": {
    "ExecuteTime": {
     "end_time": "2022-01-08T22:34:13.910630Z",
     "start_time": "2022-01-08T22:34:13.848155Z"
    }
   },
   "outputs": [],
   "source": [
    "%load_ext autoreload\n",
    "%autoreload 2"
   ]
  },
  {
   "cell_type": "code",
   "execution_count": 3,
   "id": "dacc83e8",
   "metadata": {
    "ExecuteTime": {
     "end_time": "2022-01-08T22:34:28.467559Z",
     "start_time": "2022-01-08T22:34:24.206285Z"
    }
   },
   "outputs": [],
   "source": [
    "import os\n",
    "import re\n",
    "import pickle\n",
    "import random\n",
    "from typing import Sequence, Tuple\n",
    "from tempfile import mkdtemp\n",
    "from datetime import datetime\n",
    "\n",
    "import optuna\n",
    "import numpy as np\n",
    "import pandas as pd\n",
    "\n",
    "import matplotlib.pyplot as plt\n",
    "from sklearn.pipeline import Pipeline\n",
    "from sklearn.metrics import auc, roc_auc_score, accuracy_score, f1_score, precision_score, recall_score\n",
    "\n",
    "from catboost import CatBoostClassifier, Pool\n",
    "\n",
    "pd.set_option('display.max_rows', 100)"
   ]
  },
  {
   "cell_type": "code",
   "execution_count": 9,
   "id": "3c088bc3",
   "metadata": {
    "ExecuteTime": {
     "end_time": "2022-01-08T22:48:51.169592Z",
     "start_time": "2022-01-08T22:48:51.052862Z"
    }
   },
   "outputs": [],
   "source": [
    "from src.io import csv_loader_factory, PickleLoader\n",
    "from src.preprocessing import TextCleaner\n",
    "from src.embeddings import W2VEmbedder\n",
    "from src.eval.metrics import compute_metrics"
   ]
  },
  {
   "cell_type": "code",
   "execution_count": 17,
   "id": "9aafa6cd",
   "metadata": {
    "ExecuteTime": {
     "end_time": "2022-01-08T22:54:41.211110Z",
     "start_time": "2022-01-08T22:54:41.081119Z"
    }
   },
   "outputs": [
    {
     "data": {
      "text/plain": [
       "['eval_metric',\n",
       " 'early_stopping_rounds',\n",
       " 'verbose',\n",
       " 'grow_policy',\n",
       " 'min_data_in_leaf',\n",
       " 'learning_rate',\n",
       " 'reg_lambda',\n",
       " 'max_depth',\n",
       " 'num_leaves']"
      ]
     },
     "execution_count": 17,
     "metadata": {},
     "output_type": "execute_result"
    }
   ],
   "source": [
    "list( {\n",
    "        'eval_metric': 'AUC',\n",
    "        'early_stopping_rounds': 50,\n",
    "        'verbose': 0,\n",
    "        'grow_policy': 1,\n",
    "        'min_data_in_leaf':1,\n",
    "        'learning_rate': 1,\n",
    "        'reg_lambda': 1,\n",
    "        'max_depth': 1,\n",
    "        'num_leaves': 1,\n",
    "    }.keys())"
   ]
  },
  {
   "cell_type": "markdown",
   "id": "49e93ee9",
   "metadata": {},
   "source": [
    "# optuna res"
   ]
  },
  {
   "cell_type": "code",
   "execution_count": 5,
   "id": "ea3be446",
   "metadata": {
    "ExecuteTime": {
     "end_time": "2022-01-08T22:34:40.096702Z",
     "start_time": "2022-01-08T22:34:39.533565Z"
    },
    "scrolled": true
   },
   "outputs": [
    {
     "name": "stdout",
     "output_type": "stream",
     "text": [
      "run: 1559, compleated: 1415 (0.908)\n"
     ]
    },
    {
     "data": {
      "text/html": [
       "<div>\n",
       "<style scoped>\n",
       "    .dataframe tbody tr th:only-of-type {\n",
       "        vertical-align: middle;\n",
       "    }\n",
       "\n",
       "    .dataframe tbody tr th {\n",
       "        vertical-align: top;\n",
       "    }\n",
       "\n",
       "    .dataframe thead th {\n",
       "        text-align: right;\n",
       "    }\n",
       "</style>\n",
       "<table border=\"1\" class=\"dataframe\">\n",
       "  <thead>\n",
       "    <tr style=\"text-align: right;\">\n",
       "      <th></th>\n",
       "      <th>number</th>\n",
       "      <th>values_0</th>\n",
       "      <th>values_1</th>\n",
       "      <th>datetime_start</th>\n",
       "      <th>datetime_complete</th>\n",
       "      <th>duration</th>\n",
       "      <th>params_alpha</th>\n",
       "      <th>params_epochs</th>\n",
       "      <th>params_grow_policy</th>\n",
       "      <th>params_latinize</th>\n",
       "      <th>...</th>\n",
       "      <th>params_ns_exponent</th>\n",
       "      <th>params_num_leaves</th>\n",
       "      <th>params_reg_lambda</th>\n",
       "      <th>params_sg</th>\n",
       "      <th>params_to_lower</th>\n",
       "      <th>params_vector_size</th>\n",
       "      <th>system_attrs_nsga2:generation</th>\n",
       "      <th>system_attrs_nsga2:parents</th>\n",
       "      <th>state</th>\n",
       "      <th>is_best</th>\n",
       "    </tr>\n",
       "  </thead>\n",
       "  <tbody>\n",
       "    <tr>\n",
       "      <th>1250</th>\n",
       "      <td>1250</td>\n",
       "      <td>0.616245</td>\n",
       "      <td>0.028436</td>\n",
       "      <td>2022-01-08 11:58:40.560339</td>\n",
       "      <td>2022-01-08 11:59:06.278594</td>\n",
       "      <td>0 days 00:00:25.718255</td>\n",
       "      <td>0.091</td>\n",
       "      <td>10</td>\n",
       "      <td>Lossguide</td>\n",
       "      <td>False</td>\n",
       "      <td>...</td>\n",
       "      <td>0.60</td>\n",
       "      <td>18</td>\n",
       "      <td>7</td>\n",
       "      <td>1</td>\n",
       "      <td>False</td>\n",
       "      <td>100</td>\n",
       "      <td>19</td>\n",
       "      <td>[1002, 709]</td>\n",
       "      <td>COMPLETE</td>\n",
       "      <td>1</td>\n",
       "    </tr>\n",
       "    <tr>\n",
       "      <th>398</th>\n",
       "      <td>398</td>\n",
       "      <td>0.599375</td>\n",
       "      <td>0.066667</td>\n",
       "      <td>2022-01-08 09:22:44.769109</td>\n",
       "      <td>2022-01-08 09:23:32.319982</td>\n",
       "      <td>0 days 00:00:47.550873</td>\n",
       "      <td>0.081</td>\n",
       "      <td>5</td>\n",
       "      <td>Lossguide</td>\n",
       "      <td>True</td>\n",
       "      <td>...</td>\n",
       "      <td>0.40</td>\n",
       "      <td>24</td>\n",
       "      <td>7</td>\n",
       "      <td>0</td>\n",
       "      <td>False</td>\n",
       "      <td>250</td>\n",
       "      <td>5</td>\n",
       "      <td>[311, 174]</td>\n",
       "      <td>COMPLETE</td>\n",
       "      <td>1</td>\n",
       "    </tr>\n",
       "    <tr>\n",
       "      <th>505</th>\n",
       "      <td>505</td>\n",
       "      <td>0.597256</td>\n",
       "      <td>0.111111</td>\n",
       "      <td>2022-01-08 09:40:16.583625</td>\n",
       "      <td>2022-01-08 09:40:51.973959</td>\n",
       "      <td>0 days 00:00:35.390334</td>\n",
       "      <td>0.061</td>\n",
       "      <td>8</td>\n",
       "      <td>Lossguide</td>\n",
       "      <td>True</td>\n",
       "      <td>...</td>\n",
       "      <td>0.30</td>\n",
       "      <td>12</td>\n",
       "      <td>9</td>\n",
       "      <td>1</td>\n",
       "      <td>False</td>\n",
       "      <td>250</td>\n",
       "      <td>7</td>\n",
       "      <td>[357, 372]</td>\n",
       "      <td>COMPLETE</td>\n",
       "      <td>1</td>\n",
       "    </tr>\n",
       "    <tr>\n",
       "      <th>949</th>\n",
       "      <td>949</td>\n",
       "      <td>0.582098</td>\n",
       "      <td>0.122271</td>\n",
       "      <td>2022-01-08 11:08:28.751767</td>\n",
       "      <td>2022-01-08 11:09:01.042834</td>\n",
       "      <td>0 days 00:00:32.291067</td>\n",
       "      <td>0.061</td>\n",
       "      <td>5</td>\n",
       "      <td>Lossguide</td>\n",
       "      <td>True</td>\n",
       "      <td>...</td>\n",
       "      <td>0.90</td>\n",
       "      <td>24</td>\n",
       "      <td>7</td>\n",
       "      <td>1</td>\n",
       "      <td>False</td>\n",
       "      <td>250</td>\n",
       "      <td>14</td>\n",
       "      <td>[659, 829]</td>\n",
       "      <td>COMPLETE</td>\n",
       "      <td>1</td>\n",
       "    </tr>\n",
       "    <tr>\n",
       "      <th>546</th>\n",
       "      <td>546</td>\n",
       "      <td>0.576745</td>\n",
       "      <td>0.134529</td>\n",
       "      <td>2022-01-08 09:51:23.325951</td>\n",
       "      <td>2022-01-08 09:52:19.067864</td>\n",
       "      <td>0 days 00:00:55.741913</td>\n",
       "      <td>0.071</td>\n",
       "      <td>9</td>\n",
       "      <td>Lossguide</td>\n",
       "      <td>True</td>\n",
       "      <td>...</td>\n",
       "      <td>-0.05</td>\n",
       "      <td>6</td>\n",
       "      <td>5</td>\n",
       "      <td>0</td>\n",
       "      <td>False</td>\n",
       "      <td>750</td>\n",
       "      <td>8</td>\n",
       "      <td>[328, 467]</td>\n",
       "      <td>COMPLETE</td>\n",
       "      <td>1</td>\n",
       "    </tr>\n",
       "    <tr>\n",
       "      <th>556</th>\n",
       "      <td>556</td>\n",
       "      <td>0.554620</td>\n",
       "      <td>0.155738</td>\n",
       "      <td>2022-01-08 09:52:28.328678</td>\n",
       "      <td>2022-01-08 09:52:45.362703</td>\n",
       "      <td>0 days 00:00:17.034025</td>\n",
       "      <td>0.101</td>\n",
       "      <td>10</td>\n",
       "      <td>Lossguide</td>\n",
       "      <td>False</td>\n",
       "      <td>...</td>\n",
       "      <td>0.40</td>\n",
       "      <td>24</td>\n",
       "      <td>5</td>\n",
       "      <td>1</td>\n",
       "      <td>False</td>\n",
       "      <td>250</td>\n",
       "      <td>8</td>\n",
       "      <td>[206, 454]</td>\n",
       "      <td>COMPLETE</td>\n",
       "      <td>1</td>\n",
       "    </tr>\n",
       "    <tr>\n",
       "      <th>1486</th>\n",
       "      <td>1486</td>\n",
       "      <td>0.535899</td>\n",
       "      <td>0.160000</td>\n",
       "      <td>2022-01-08 12:50:00.386456</td>\n",
       "      <td>2022-01-08 12:50:25.723644</td>\n",
       "      <td>0 days 00:00:25.337188</td>\n",
       "      <td>0.051</td>\n",
       "      <td>7</td>\n",
       "      <td>Lossguide</td>\n",
       "      <td>True</td>\n",
       "      <td>...</td>\n",
       "      <td>0.85</td>\n",
       "      <td>24</td>\n",
       "      <td>3</td>\n",
       "      <td>1</td>\n",
       "      <td>False</td>\n",
       "      <td>50</td>\n",
       "      <td>23</td>\n",
       "      <td>[433, 425]</td>\n",
       "      <td>COMPLETE</td>\n",
       "      <td>1</td>\n",
       "    </tr>\n",
       "    <tr>\n",
       "      <th>328</th>\n",
       "      <td>328</td>\n",
       "      <td>0.520158</td>\n",
       "      <td>0.168224</td>\n",
       "      <td>2022-01-08 08:38:08.263067</td>\n",
       "      <td>2022-01-08 08:38:31.035954</td>\n",
       "      <td>0 days 00:00:22.772887</td>\n",
       "      <td>0.071</td>\n",
       "      <td>9</td>\n",
       "      <td>Lossguide</td>\n",
       "      <td>True</td>\n",
       "      <td>...</td>\n",
       "      <td>-0.05</td>\n",
       "      <td>18</td>\n",
       "      <td>3</td>\n",
       "      <td>1</td>\n",
       "      <td>False</td>\n",
       "      <td>100</td>\n",
       "      <td>4</td>\n",
       "      <td>[157, 180]</td>\n",
       "      <td>COMPLETE</td>\n",
       "      <td>1</td>\n",
       "    </tr>\n",
       "    <tr>\n",
       "      <th>610</th>\n",
       "      <td>610</td>\n",
       "      <td>0.504063</td>\n",
       "      <td>0.170213</td>\n",
       "      <td>2022-01-08 10:04:03.464676</td>\n",
       "      <td>2022-01-08 10:04:42.311106</td>\n",
       "      <td>0 days 00:00:38.846430</td>\n",
       "      <td>0.101</td>\n",
       "      <td>7</td>\n",
       "      <td>Lossguide</td>\n",
       "      <td>False</td>\n",
       "      <td>...</td>\n",
       "      <td>0.40</td>\n",
       "      <td>36</td>\n",
       "      <td>7</td>\n",
       "      <td>0</td>\n",
       "      <td>False</td>\n",
       "      <td>250</td>\n",
       "      <td>9</td>\n",
       "      <td>[206, 593]</td>\n",
       "      <td>COMPLETE</td>\n",
       "      <td>1</td>\n",
       "    </tr>\n",
       "  </tbody>\n",
       "</table>\n",
       "<p>9 rows × 25 columns</p>\n",
       "</div>"
      ],
      "text/plain": [
       "      number  values_0  values_1             datetime_start  \\\n",
       "1250    1250  0.616245  0.028436 2022-01-08 11:58:40.560339   \n",
       "398      398  0.599375  0.066667 2022-01-08 09:22:44.769109   \n",
       "505      505  0.597256  0.111111 2022-01-08 09:40:16.583625   \n",
       "949      949  0.582098  0.122271 2022-01-08 11:08:28.751767   \n",
       "546      546  0.576745  0.134529 2022-01-08 09:51:23.325951   \n",
       "556      556  0.554620  0.155738 2022-01-08 09:52:28.328678   \n",
       "1486    1486  0.535899  0.160000 2022-01-08 12:50:00.386456   \n",
       "328      328  0.520158  0.168224 2022-01-08 08:38:08.263067   \n",
       "610      610  0.504063  0.170213 2022-01-08 10:04:03.464676   \n",
       "\n",
       "              datetime_complete               duration  params_alpha  \\\n",
       "1250 2022-01-08 11:59:06.278594 0 days 00:00:25.718255         0.091   \n",
       "398  2022-01-08 09:23:32.319982 0 days 00:00:47.550873         0.081   \n",
       "505  2022-01-08 09:40:51.973959 0 days 00:00:35.390334         0.061   \n",
       "949  2022-01-08 11:09:01.042834 0 days 00:00:32.291067         0.061   \n",
       "546  2022-01-08 09:52:19.067864 0 days 00:00:55.741913         0.071   \n",
       "556  2022-01-08 09:52:45.362703 0 days 00:00:17.034025         0.101   \n",
       "1486 2022-01-08 12:50:25.723644 0 days 00:00:25.337188         0.051   \n",
       "328  2022-01-08 08:38:31.035954 0 days 00:00:22.772887         0.071   \n",
       "610  2022-01-08 10:04:42.311106 0 days 00:00:38.846430         0.101   \n",
       "\n",
       "      params_epochs params_grow_policy  params_latinize  ...  \\\n",
       "1250             10          Lossguide            False  ...   \n",
       "398               5          Lossguide             True  ...   \n",
       "505               8          Lossguide             True  ...   \n",
       "949               5          Lossguide             True  ...   \n",
       "546               9          Lossguide             True  ...   \n",
       "556              10          Lossguide            False  ...   \n",
       "1486              7          Lossguide             True  ...   \n",
       "328               9          Lossguide             True  ...   \n",
       "610               7          Lossguide            False  ...   \n",
       "\n",
       "      params_ns_exponent  params_num_leaves  params_reg_lambda  params_sg  \\\n",
       "1250                0.60                 18                  7          1   \n",
       "398                 0.40                 24                  7          0   \n",
       "505                 0.30                 12                  9          1   \n",
       "949                 0.90                 24                  7          1   \n",
       "546                -0.05                  6                  5          0   \n",
       "556                 0.40                 24                  5          1   \n",
       "1486                0.85                 24                  3          1   \n",
       "328                -0.05                 18                  3          1   \n",
       "610                 0.40                 36                  7          0   \n",
       "\n",
       "      params_to_lower  params_vector_size  system_attrs_nsga2:generation  \\\n",
       "1250            False                 100                             19   \n",
       "398             False                 250                              5   \n",
       "505             False                 250                              7   \n",
       "949             False                 250                             14   \n",
       "546             False                 750                              8   \n",
       "556             False                 250                              8   \n",
       "1486            False                  50                             23   \n",
       "328             False                 100                              4   \n",
       "610             False                 250                              9   \n",
       "\n",
       "      system_attrs_nsga2:parents     state  is_best  \n",
       "1250                 [1002, 709]  COMPLETE        1  \n",
       "398                   [311, 174]  COMPLETE        1  \n",
       "505                   [357, 372]  COMPLETE        1  \n",
       "949                   [659, 829]  COMPLETE        1  \n",
       "546                   [328, 467]  COMPLETE        1  \n",
       "556                   [206, 454]  COMPLETE        1  \n",
       "1486                  [433, 425]  COMPLETE        1  \n",
       "328                   [157, 180]  COMPLETE        1  \n",
       "610                   [206, 593]  COMPLETE        1  \n",
       "\n",
       "[9 rows x 25 columns]"
      ]
     },
     "execution_count": 5,
     "metadata": {},
     "output_type": "execute_result"
    }
   ],
   "source": [
    "name = 'test_study_20220108_0154.pkl'\n",
    "path = os.path.join('./opt_studies/', name)\n",
    "\n",
    "with open(path, 'rb') as p:\n",
    "    study = pickle.load(p)\n",
    "\n",
    "study_df = study.trials_dataframe()\n",
    "study_df['is_best'] = 0\n",
    "study_df.loc[[t.number for t in study.best_trials], 'is_best'] = 1\n",
    "\n",
    "run = len(study_df)\n",
    "completed = len(study_df[study_df['state']=='COMPLETE'])\n",
    "\n",
    "print(f'run: {run}, compleated: {completed} ({round(completed/run, 3)})')\n",
    "study_df[study_df['is_best']==1].sort_values('values_0', ascending=False)"
   ]
  },
  {
   "cell_type": "code",
   "execution_count": 6,
   "id": "f3564330",
   "metadata": {
    "ExecuteTime": {
     "end_time": "2022-01-08T22:34:46.949379Z",
     "start_time": "2022-01-08T22:34:46.680130Z"
    }
   },
   "outputs": [
    {
     "data": {
      "text/plain": [
       "<AxesSubplot:xlabel='auc', ylabel='f1'>"
      ]
     },
     "execution_count": 6,
     "metadata": {},
     "output_type": "execute_result"
    },
    {
     "data": {
      "image/png": "[encoded data removed]",
      "text/plain": [
       "<Figure size 432x288 with 1 Axes>"
      ]
     },
     "metadata": {
      "needs_background": "light"
     },
     "output_type": "display_data"
    }
   ],
   "source": [
    "dfp = study_df[study_df['state']=='COMPLETE'][['values_0', 'values_1', 'is_best']].rename({'values_0': 'auc', 'values_1': 'f1'}, axis=1)\n",
    "\n",
    "color_map ={\n",
    "    1: 'tab:red',\n",
    "    0: 'tab:blue'\n",
    "}\n",
    "colors = dfp['is_best'].replace(color_map)\n",
    "dfp.plot.scatter(x='auc', y='f1', c=colors)\n"
   ]
  },
  {
   "cell_type": "code",
   "execution_count": 98,
   "id": "a91dd654",
   "metadata": {
    "ExecuteTime": {
     "end_time": "2022-01-08T11:08:25.020288Z",
     "start_time": "2022-01-08T11:08:24.800291Z"
    },
    "scrolled": false
   },
   "outputs": [
    {
     "data": {
      "image/png": "[encoded data removed]",
      "text/plain": [
       "<Figure size 432x288 with 1 Axes>"
      ]
     },
     "metadata": {
      "needs_background": "light"
     },
     "output_type": "display_data"
    },
    {
     "data": {
      "image/png": "[encoded data removed]",
      "text/plain": [
       "<Figure size 432x288 with 1 Axes>"
      ]
     },
     "metadata": {
      "needs_background": "light"
     },
     "output_type": "display_data"
    }
   ],
   "source": [
    "dfp = study_df[study_df['state']=='COMPLETE'][['number', 'values_0', 'values_1']].rename({'values_0': 'auc', 'values_1': 'f1'}, axis=1)\n",
    "\n",
    "dfp['auc'].plot()\n",
    "plt.show()\n",
    "dfp['f1'].plot()\n",
    "plt.show()"
   ]
  },
  {
   "cell_type": "code",
   "execution_count": 103,
   "id": "5d1eff2f",
   "metadata": {
    "ExecuteTime": {
     "end_time": "2022-01-08T11:19:09.615509Z",
     "start_time": "2022-01-08T11:14:11.511195Z"
    }
   },
   "outputs": [],
   "source": [
    "imp_auc = optuna.importance.get_param_importances(study, target=lambda t: t.values[0])\n",
    "imp_f1 = optuna.importance.get_param_importances(study, target=lambda t: t.values[1])"
   ]
  },
  {
   "cell_type": "code",
   "execution_count": 111,
   "id": "7aa999f7",
   "metadata": {
    "ExecuteTime": {
     "end_time": "2022-01-08T11:28:03.460434Z",
     "start_time": "2022-01-08T11:28:02.655864Z"
    }
   },
   "outputs": [
    {
     "data": {
      "image/png": "[encoded data removed]",
      "text/plain": [
       "<Figure size 432x288 with 1 Axes>"
      ]
     },
     "metadata": {
      "needs_background": "light"
     },
     "output_type": "display_data"
    },
    {
     "data": {
      "image/png": "[encoded data removed]",
      "text/plain": [
       "<Figure size 432x288 with 1 Axes>"
      ]
     },
     "metadata": {
      "needs_background": "light"
     },
     "output_type": "display_data"
    }
   ],
   "source": [
    "pd.Series(imp_auc).sort_values().plot.barh()\n",
    "plt.show()\n",
    "\n",
    "pd.Series(imp_f1).sort_values().plot.barh()\n",
    "plt.show()"
   ]
  },
  {
   "cell_type": "markdown",
   "id": "dc78ad8b",
   "metadata": {},
   "source": [
    "**Insights**:  \n",
    "\n",
    "Text cleaner\n",
    "* `params_latinize` minor impact -> can be defaulted to **False**\n",
    "* `params_to_lower` lowers both **auc** and **f1** -> default to **False**\n",
    "\n",
    "W2V Encoder\n",
    "* positive corr of `epochs` with **f1** -> increase max number of `epoch` ~20\n",
    "* !**auc** and **f1** has almost perfect negative corellation with respect to number of `epoch`\n",
    "* increase `params_alpha` significant increasing trend of **f1** -> max should be increased to 0.2\n",
    "* `params_max_final_vocab` should be between 10-15k\n",
    "* `params_min_count`:  \n",
    "    * **auc** is maximized in 100-125 range\n",
    "    * **f1** max around 50-60, negative corr\n",
    "* `params_ns_exponent` best metric values between -0.2 and 0.2, above 0.2 both metrics decrease\n",
    "* `params_sg` minor impact on average metrics -> fix at 0\n",
    "* `params_vector_size`  \n",
    "Best **auc** values match lowest **f1** values. Similarly in the oher side\n",
    "    * **auc** best values between 400 and 750\n",
    "    * **f1** best values between 300 and 600\n",
    "\n",
    "Learner\n",
    "* `params_learning_rate` slight increasing trend of **f1** -> max should be increased to 0.2\n",
    "* ?`params_grow_policy` other than *Lossguide* failed\n",
    "* `params_max_depth`: negative corr with **auc** and positive with **f1**\n",
    "Best **auc** at 3, best **f1** at 13\n",
    "* `params_min_data_in_leaf` both metrics has positive corr -> should be increased to ~200\n",
    "* `params_num_leaves` significant impact, similar to max_depth\n",
    "Best **auc** at 5, best **f1** at 35\n",
    "* `params_reg_lambda` minor impact, should be between 3 and 7, can be fixed to 5/6\n",
    "Best **auc** at 3, best **f1** at 7"
   ]
  },
  {
   "cell_type": "code",
   "execution_count": 112,
   "id": "8252cd83",
   "metadata": {
    "ExecuteTime": {
     "end_time": "2022-01-08T11:29:30.969056Z",
     "start_time": "2022-01-08T11:29:29.967554Z"
    }
   },
   "outputs": [
    {
     "data": {
      "image/png": "[encoded data removed]",
      "text/plain": [
       "<Figure size 432x288 with 1 Axes>"
      ]
     },
     "metadata": {
      "needs_background": "light"
     },
     "output_type": "display_data"
    },
    {
     "data": {
      "image/png": "[encoded data removed]",
      "text/plain": [
       "<Figure size 432x288 with 1 Axes>"
      ]
     },
     "metadata": {
      "needs_background": "light"
     },
     "output_type": "display_data"
    },
    {
     "data": {
      "text/plain": [
       "<AxesSubplot:xlabel='params_max_depth'>"
      ]
     },
     "execution_count": 112,
     "metadata": {},
     "output_type": "execute_result"
    },
    {
     "data": {
      "image/png": "[encoded data removed]",
      "text/plain": [
       "<Figure size 432x288 with 1 Axes>"
      ]
     },
     "metadata": {
      "needs_background": "light"
     },
     "output_type": "display_data"
    }
   ],
   "source": [
    "dfg = study_df.groupby('params_max_depth').agg(\n",
    "    size=('params_grow_policy', 'size'),\n",
    "    auc=('values_0', 'median'),\n",
    "    f1=('values_1' ,'median')\n",
    ")\n",
    "\n",
    "dfg['size'].plot(kind='bar')\n",
    "plt.show()\n",
    "dfg[['auc']].plot()\n",
    "plt.show()\n",
    "dfg[['f1']].plot()"
   ]
  },
  {
   "cell_type": "markdown",
   "id": "681025f6",
   "metadata": {},
   "source": [
    "# train best model"
   ]
  },
  {
   "cell_type": "code",
   "execution_count": 7,
   "id": "e9f4f0bd",
   "metadata": {
    "ExecuteTime": {
     "end_time": "2022-01-08T22:37:30.147282Z",
     "start_time": "2022-01-08T22:37:30.017953Z"
    }
   },
   "outputs": [
    {
     "data": {
      "text/plain": [
       "number                                                  505\n",
       "values_0                                           0.597256\n",
       "values_1                                           0.111111\n",
       "datetime_start                   2022-01-08 09:40:16.583625\n",
       "datetime_complete                2022-01-08 09:40:51.973959\n",
       "duration                             0 days 00:00:35.390334\n",
       "params_alpha                                          0.061\n",
       "params_epochs                                             8\n",
       "params_grow_policy                                Lossguide\n",
       "params_latinize                                        True\n",
       "params_learning_rate                                  0.046\n",
       "params_max_depth                                          5\n",
       "params_max_final_vocab                                11600\n",
       "params_min_count                                        110\n",
       "params_min_data_in_leaf                                  41\n",
       "params_ns_exponent                                      0.3\n",
       "params_num_leaves                                        12\n",
       "params_reg_lambda                                         9\n",
       "params_sg                                                 1\n",
       "params_to_lower                                       False\n",
       "params_vector_size                                      250\n",
       "system_attrs_nsga2:generation                             7\n",
       "system_attrs_nsga2:parents                       [357, 372]\n",
       "state                                              COMPLETE\n",
       "is_best                                                   1\n",
       "Name: 505, dtype: object"
      ]
     },
     "execution_count": 7,
     "metadata": {},
     "output_type": "execute_result"
    }
   ],
   "source": [
    "study_df.loc[505, :]"
   ]
  },
  {
   "cell_type": "code",
   "execution_count": 68,
   "id": "7213fa9a",
   "metadata": {
    "ExecuteTime": {
     "end_time": "2022-01-09T07:34:09.556727Z",
     "start_time": "2022-01-09T07:34:09.377609Z"
    },
    "scrolled": true
   },
   "outputs": [
    {
     "name": "stderr",
     "output_type": "stream",
     "text": [
      "INFO:2022-01-09 08:34:09:io:loading from csv: ./data/poleval19.csv\n",
      "INFO:2022-01-09 08:34:09:io:loaded 11039 rows\n"
     ]
    }
   ],
   "source": [
    "import pickle\n",
    "from datetime import datetime\n",
    "\n",
    "import numpy as np\n",
    "import optuna\n",
    "from catboost import CatBoostClassifier\n",
    "from sklearn.metrics import roc_auc_score, f1_score\n",
    "\n",
    "from src.preproc import tokenize\n",
    "from src.io import csv_loader_factory\n",
    "from src.preprocessing import TextCleaner\n",
    "from src.embeddings import W2VEmbedder\n",
    "\n",
    "\n",
    "\n",
    "def objective():\n",
    "    # clean\n",
    "    cleaner_params = {\n",
    "        'latinize': False,\n",
    "        'to_lower': False,\n",
    "    }\n",
    "    cleaner = TextCleaner(**cleaner_params)\n",
    "    train_clean = cleaner.fit_transform(train_raw)\n",
    "    test_clean = cleaner.transform(test_raw)\n",
    "    \n",
    "    # tokenize\n",
    "    train_tokens, train_label_tok = tokenize(train_clean, train_label)\n",
    "    test_tokens, test_label_tok = tokenize(test_clean, test_label)\n",
    "    \n",
    "    # vectorize\n",
    "    emb_params = {\n",
    "        'vector_size': 250,\n",
    "        'sg': 1,\n",
    "        'max_final_vocab': 11600,\n",
    "        'min_count': 110,\n",
    "        'ns_exponent': 0.3,\n",
    "        'alpha': 0.061,\n",
    "        'epochs': 8,        \n",
    "        'workers': 1,#16,\n",
    "    }\n",
    "    emb = W2VEmbedder(**emb_params)\n",
    "    emb.fit(train_tokens)\n",
    "    \n",
    "    train_w2v = emb.transform(train_tokens)\n",
    "    test_w2v = emb.transform(test_tokens)\n",
    "    \n",
    "    # fit model\n",
    "    cb_params = {\n",
    "        'eval_metric': 'AUC',\n",
    "        'early_stopping_rounds': 50,\n",
    "        'verbose': 0,\n",
    "        'grow_policy': 'Lossguide',\n",
    "        'min_data_in_leaf': 41,\n",
    "        'learning_rate': 0.046,\n",
    "        'reg_lambda': 9,\n",
    "        'max_depth': 5,\n",
    "        'num_leaves': 12,\n",
    "        'random_state': 12345,\n",
    "    }\n",
    "\n",
    "    cb = CatBoostClassifier(**cb_params)\n",
    "    cb.fit(X=train_w2v, y=train_label_tok, eval_set=(test_w2v, test_label_tok))\n",
    "\n",
    "    # eval model\n",
    "    proba_train = cb.predict_proba(train_w2v)[:, 1]\n",
    "    proba_test = cb.predict_proba(test_w2v)[:, 1]\n",
    "    \n",
    "    tresh = np.quantile(proba_train, np.mean(train_label_tok))\n",
    "    pred_test = (proba_test<tresh).astype(int)\n",
    "    \n",
    "    auc = roc_auc_score(test_label_tok, proba_test)\n",
    "    f1 = f1_score(test_label_tok, pred_test)\n",
    "    \n",
    "    \n",
    "    display(compute_metrics((train_label_tok, proba_train), (test_label_tok, proba_test)))\n",
    "\n",
    "    print(f'|mean pred |{round(np.mean(proba_train), 6)}|{round(np.mean(proba_test), 6)}|')\n",
    "    pd.Series(proba_test).plot.hist()\n",
    "    \n",
    "    return emb\n",
    "\n",
    "\n",
    "loader = csv_loader_factory('poleval')\n",
    "data = loader.load()\n",
    "\n",
    "train_raw = data.loc[data['dataset']=='train', 'text_raw']\n",
    "train_label = data.loc[data['dataset']=='train', 'tag']\n",
    "test_raw = data.loc[data['dataset']=='test', 'text_raw']\n",
    "test_label = data.loc[data['dataset']=='test', 'tag']\n"
   ]
  },
  {
   "cell_type": "code",
   "execution_count": 71,
   "id": "abfbe0cb",
   "metadata": {
    "ExecuteTime": {
     "end_time": "2022-01-09T07:34:44.070076Z",
     "start_time": "2022-01-09T07:34:40.550096Z"
    },
    "scrolled": true
   },
   "outputs": [
    {
     "name": "stderr",
     "output_type": "stream",
     "text": [
      "INFO:2022-01-09 08:34:41:gensim.models.word2vec:collecting all words and their counts\n",
      "INFO:2022-01-09 08:34:41:gensim.models.word2vec:PROGRESS: at sentence #0, processed 0 words, keeping 0 word types\n",
      "INFO:2022-01-09 08:34:41:gensim.models.word2vec:PROGRESS: at sentence #10000, processed 104799 words, keeping 25170 word types\n",
      "INFO:2022-01-09 08:34:41:gensim.models.word2vec:collected 25205 word types from a corpus of 105046 raw words and 10026 sentences\n",
      "INFO:2022-01-09 08:34:41:gensim.utils:Word2Vec lifecycle event {'msg': 'max_final_vocab=11600 and min_count=110 resulted in calc_min_count=2, effective_min_count=110', 'datetime': '2022-01-09T08:34:41.048198', 'gensim': '4.1.2', 'python': '3.8.8 (tags/v3.8.8:024d805, Feb 19 2021, 13:18:16) [MSC v.1928 64 bit (AMD64)]', 'platform': 'Windows-10-10.0.19041-SP0', 'event': 'prepare_vocab'}\n",
      "INFO:2022-01-09 08:34:41:gensim.models.word2vec:Creating a fresh vocabulary\n",
      "INFO:2022-01-09 08:34:41:gensim.utils:Word2Vec lifecycle event {'msg': 'effective_min_count=110 retains 78 unique words (0.3094624082523309%% of original 25205, drops 25127)', 'datetime': '2022-01-09T08:34:41.059170', 'gensim': '4.1.2', 'python': '3.8.8 (tags/v3.8.8:024d805, Feb 19 2021, 13:18:16) [MSC v.1928 64 bit (AMD64)]', 'platform': 'Windows-10-10.0.19041-SP0', 'event': 'prepare_vocab'}\n",
      "INFO:2022-01-09 08:34:41:gensim.utils:Word2Vec lifecycle event {'msg': 'effective_min_count=110 leaves 36551 word corpus (34.795232564781145%% of original 105046, drops 68495)', 'datetime': '2022-01-09T08:34:41.060167', 'gensim': '4.1.2', 'python': '3.8.8 (tags/v3.8.8:024d805, Feb 19 2021, 13:18:16) [MSC v.1928 64 bit (AMD64)]', 'platform': 'Windows-10-10.0.19041-SP0', 'event': 'prepare_vocab'}\n",
      "INFO:2022-01-09 08:34:41:gensim.models.word2vec:deleting the raw counts dictionary of 25205 items\n",
      "INFO:2022-01-09 08:34:41:gensim.models.word2vec:sample=0.001 downsamples 78 most-common words\n",
      "INFO:2022-01-09 08:34:41:gensim.utils:Word2Vec lifecycle event {'msg': 'downsampling leaves estimated 11910.349537503304 word corpus (32.6%% of prior 36551)', 'datetime': '2022-01-09T08:34:41.065153', 'gensim': '4.1.2', 'python': '3.8.8 (tags/v3.8.8:024d805, Feb 19 2021, 13:18:16) [MSC v.1928 64 bit (AMD64)]', 'platform': 'Windows-10-10.0.19041-SP0', 'event': 'prepare_vocab'}\n",
      "INFO:2022-01-09 08:34:41:gensim.models.word2vec:estimated required memory for 78 words and 250 dimensions: 195000 bytes\n",
      "INFO:2022-01-09 08:34:41:gensim.models.word2vec:resetting layer weights\n",
      "INFO:2022-01-09 08:34:41:gensim.utils:Word2Vec lifecycle event {'update': False, 'trim_rule': 'None', 'datetime': '2022-01-09T08:34:41.070140', 'gensim': '4.1.2', 'python': '3.8.8 (tags/v3.8.8:024d805, Feb 19 2021, 13:18:16) [MSC v.1928 64 bit (AMD64)]', 'platform': 'Windows-10-10.0.19041-SP0', 'event': 'build_vocab'}\n",
      "INFO:2022-01-09 08:34:41:gensim.utils:Word2Vec lifecycle event {'msg': 'training model with 1 workers on 78 vocabulary and 250 features, using sg=1 hs=0 sample=0.001 negative=5 window=5 shrink_windows=True', 'datetime': '2022-01-09T08:34:41.071138', 'gensim': '4.1.2', 'python': '3.8.8 (tags/v3.8.8:024d805, Feb 19 2021, 13:18:16) [MSC v.1928 64 bit (AMD64)]', 'platform': 'Windows-10-10.0.19041-SP0', 'event': 'train'}\n",
      "INFO:2022-01-09 08:34:41:gensim.models.word2vec:worker thread finished; awaiting finish of 0 more threads\n",
      "INFO:2022-01-09 08:34:41:gensim.models.word2vec:EPOCH - 1 : training on 105046 raw words (11931 effective words) took 0.0s, 340417 effective words/s\n",
      "INFO:2022-01-09 08:34:41:gensim.models.word2vec:worker thread finished; awaiting finish of 0 more threads\n",
      "INFO:2022-01-09 08:34:41:gensim.models.word2vec:EPOCH - 2 : training on 105046 raw words (11894 effective words) took 0.0s, 359666 effective words/s\n",
      "INFO:2022-01-09 08:34:41:gensim.models.word2vec:worker thread finished; awaiting finish of 0 more threads\n",
      "INFO:2022-01-09 08:34:41:gensim.models.word2vec:EPOCH - 3 : training on 105046 raw words (11961 effective words) took 0.0s, 319360 effective words/s\n",
      "INFO:2022-01-09 08:34:41:gensim.models.word2vec:worker thread finished; awaiting finish of 0 more threads\n",
      "INFO:2022-01-09 08:34:41:gensim.models.word2vec:EPOCH - 4 : training on 105046 raw words (11808 effective words) took 0.0s, 375908 effective words/s\n",
      "INFO:2022-01-09 08:34:41:gensim.models.word2vec:worker thread finished; awaiting finish of 0 more threads\n",
      "INFO:2022-01-09 08:34:41:gensim.models.word2vec:EPOCH - 5 : training on 105046 raw words (11873 effective words) took 0.0s, 365786 effective words/s\n",
      "INFO:2022-01-09 08:34:41:gensim.models.word2vec:worker thread finished; awaiting finish of 0 more threads\n",
      "INFO:2022-01-09 08:34:41:gensim.models.word2vec:EPOCH - 6 : training on 105046 raw words (11778 effective words) took 0.0s, 377780 effective words/s\n",
      "INFO:2022-01-09 08:34:41:gensim.models.word2vec:worker thread finished; awaiting finish of 0 more threads\n",
      "INFO:2022-01-09 08:34:41:gensim.models.word2vec:EPOCH - 7 : training on 105046 raw words (11874 effective words) took 0.0s, 366316 effective words/s\n",
      "INFO:2022-01-09 08:34:41:gensim.models.word2vec:worker thread finished; awaiting finish of 0 more threads\n",
      "INFO:2022-01-09 08:34:41:gensim.models.word2vec:EPOCH - 8 : training on 105046 raw words (11939 effective words) took 0.0s, 358790 effective words/s\n",
      "INFO:2022-01-09 08:34:41:gensim.utils:Word2Vec lifecycle event {'msg': 'training on 840368 raw words (95058 effective words) took 0.3s, 308809 effective words/s', 'datetime': '2022-01-09T08:34:41.379615', 'gensim': '4.1.2', 'python': '3.8.8 (tags/v3.8.8:024d805, Feb 19 2021, 13:18:16) [MSC v.1928 64 bit (AMD64)]', 'platform': 'Windows-10-10.0.19041-SP0', 'event': 'train'}\n",
      "INFO:2022-01-09 08:34:41:gensim.utils:Word2Vec lifecycle event {'params': 'Word2Vec(vocab=78, vector_size=250, alpha=0.061)', 'datetime': '2022-01-09T08:34:41.380603', 'gensim': '4.1.2', 'python': '3.8.8 (tags/v3.8.8:024d805, Feb 19 2021, 13:18:16) [MSC v.1928 64 bit (AMD64)]', 'platform': 'Windows-10-10.0.19041-SP0', 'event': 'created'}\n"
     ]
    },
    {
     "data": {
      "text/html": [
       "<div>\n",
       "<style scoped>\n",
       "    .dataframe tbody tr th:only-of-type {\n",
       "        vertical-align: middle;\n",
       "    }\n",
       "\n",
       "    .dataframe tbody tr th {\n",
       "        vertical-align: top;\n",
       "    }\n",
       "\n",
       "    .dataframe thead th {\n",
       "        text-align: right;\n",
       "    }\n",
       "</style>\n",
       "<table border=\"1\" class=\"dataframe\">\n",
       "  <thead>\n",
       "    <tr style=\"text-align: right;\">\n",
       "      <th></th>\n",
       "      <th>train</th>\n",
       "      <th>test</th>\n",
       "    </tr>\n",
       "  </thead>\n",
       "  <tbody>\n",
       "    <tr>\n",
       "      <th>AUC</th>\n",
       "      <td>0.572329</td>\n",
       "      <td>0.540467</td>\n",
       "    </tr>\n",
       "    <tr>\n",
       "      <th>Accuracy</th>\n",
       "      <td>0.857969</td>\n",
       "      <td>0.825826</td>\n",
       "    </tr>\n",
       "    <tr>\n",
       "      <th>F1</th>\n",
       "      <td>0.048128</td>\n",
       "      <td>0.054348</td>\n",
       "    </tr>\n",
       "    <tr>\n",
       "      <th>Precision</th>\n",
       "      <td>0.055641</td>\n",
       "      <td>0.100000</td>\n",
       "    </tr>\n",
       "    <tr>\n",
       "      <th>Recall</th>\n",
       "      <td>0.042403</td>\n",
       "      <td>0.037313</td>\n",
       "    </tr>\n",
       "  </tbody>\n",
       "</table>\n",
       "</div>"
      ],
      "text/plain": [
       "              train      test\n",
       "AUC        0.572329  0.540467\n",
       "Accuracy   0.857969  0.825826\n",
       "F1         0.048128  0.054348\n",
       "Precision  0.055641  0.100000\n",
       "Recall     0.042403  0.037313"
      ]
     },
     "metadata": {},
     "output_type": "display_data"
    },
    {
     "name": "stdout",
     "output_type": "stream",
     "text": [
      "|mean pred |0.338521|0.338624|\n"
     ]
    },
    {
     "data": {
      "image/png": "[encoded data removed]",
      "text/plain": [
       "<Figure size 432x288 with 1 Axes>"
      ]
     },
     "metadata": {
      "needs_background": "light"
     },
     "output_type": "display_data"
    }
   ],
   "source": [
    "\n",
    "results = objective()"
   ]
  },
  {
   "cell_type": "code",
   "execution_count": 46,
   "id": "d374abd5",
   "metadata": {
    "ExecuteTime": {
     "end_time": "2022-01-09T07:27:00.448715Z",
     "start_time": "2022-01-09T07:27:00.320075Z"
    }
   },
   "outputs": [
    {
     "data": {
      "text/plain": [
       "78"
      ]
     },
     "execution_count": 46,
     "metadata": {},
     "output_type": "execute_result"
    }
   ],
   "source": [
    "len(results.model.wv)"
   ]
  },
  {
   "cell_type": "code",
   "execution_count": 55,
   "id": "29836e43",
   "metadata": {
    "ExecuteTime": {
     "end_time": "2022-01-09T07:29:39.078143Z",
     "start_time": "2022-01-09T07:29:38.955482Z"
    }
   },
   "outputs": [
    {
     "data": {
      "text/plain": [
       "78"
      ]
     },
     "execution_count": 55,
     "metadata": {},
     "output_type": "execute_result"
    }
   ],
   "source": [
    "len(results.model.wv)"
   ]
  },
  {
   "cell_type": "code",
   "execution_count": 53,
   "id": "a72ed3d5",
   "metadata": {
    "ExecuteTime": {
     "end_time": "2022-01-09T07:29:19.711944Z",
     "start_time": "2022-01-09T07:29:19.587965Z"
    }
   },
   "outputs": [
    {
     "data": {
      "text/plain": [
       "[('No', 0.9501962065696716),\n",
       " ('teraz', 0.9483229517936707),\n",
       " ('tylko', 0.9473258852958679),\n",
       " ('po', 0.939659059047699),\n",
       " ('ze', 0.9370262622833252),\n",
       " ('jeszcze', 0.9363874793052673),\n",
       " ('przez', 0.9316632151603699),\n",
       " ('już', 0.9290154576301575),\n",
       " ('W', 0.9285308122634888),\n",
       " ('mi', 0.9281338453292847)]"
      ]
     },
     "execution_count": 53,
     "metadata": {},
     "output_type": "execute_result"
    }
   ],
   "source": [
    "results.model.wv.most_similar('chyba')"
   ]
  },
  {
   "cell_type": "code",
   "execution_count": 56,
   "id": "eb3460bf",
   "metadata": {
    "ExecuteTime": {
     "end_time": "2022-01-09T07:29:47.627230Z",
     "start_time": "2022-01-09T07:29:47.497914Z"
    }
   },
   "outputs": [
    {
     "data": {
      "text/plain": [
       "[('teraz', 0.9598919153213501),\n",
       " ('po', 0.9558937549591064),\n",
       " ('od', 0.9522861242294312),\n",
       " ('ze', 0.9462188482284546),\n",
       " ('Na', 0.9461850523948669),\n",
       " ('sobie', 0.9404746890068054),\n",
       " ('tylko', 0.9402301907539368),\n",
       " ('już', 0.9387791156768799),\n",
       " ('przez', 0.9375009536743164),\n",
       " ('jeszcze', 0.9367812275886536)]"
      ]
     },
     "execution_count": 56,
     "metadata": {},
     "output_type": "execute_result"
    }
   ],
   "source": [
    "results.model.wv.most_similar('chyba')"
   ]
  },
  {
   "cell_type": "code",
   "execution_count": 52,
   "id": "2f5efdb0",
   "metadata": {
    "ExecuteTime": {
     "end_time": "2022-01-09T07:29:07.529707Z",
     "start_time": "2022-01-09T07:29:07.403472Z"
    },
    "scrolled": true
   },
   "outputs": [
    {
     "data": {
      "text/plain": [
       "['A',\n",
       " 'Ale',\n",
       " 'Bo',\n",
       " 'Co',\n",
       " 'I',\n",
       " 'Ja',\n",
       " 'Jak',\n",
       " 'Na',\n",
       " 'Nie',\n",
       " 'No',\n",
       " 'Tak',\n",
       " 'To',\n",
       " 'Ty',\n",
       " 'W',\n",
       " 'Z',\n",
       " 'a',\n",
       " 'ale',\n",
       " 'bardzo',\n",
       " 'bez',\n",
       " 'bo',\n",
       " 'by',\n",
       " 'być',\n",
       " 'był',\n",
       " 'było',\n",
       " 'będzie',\n",
       " 'chyba',\n",
       " 'co',\n",
       " 'coś',\n",
       " 'czy',\n",
       " 'dla',\n",
       " 'do',\n",
       " 'go',\n",
       " 'i',\n",
       " 'ja',\n",
       " 'jak',\n",
       " 'jest',\n",
       " 'jeszcze',\n",
       " 'już',\n",
       " 'kto',\n",
       " 'ktoś',\n",
       " 'ma',\n",
       " 'mam',\n",
       " 'mi',\n",
       " 'mnie',\n",
       " 'może',\n",
       " 'można',\n",
       " 'na',\n",
       " 'nic',\n",
       " 'nie',\n",
       " 'o',\n",
       " 'od',\n",
       " 'po',\n",
       " 'przez',\n",
       " 'się',\n",
       " 'sobie',\n",
       " 'są',\n",
       " 'tak',\n",
       " 'taki',\n",
       " 'takie',\n",
       " 'tam',\n",
       " 'te',\n",
       " 'tego',\n",
       " 'ten',\n",
       " 'teraz',\n",
       " 'też',\n",
       " 'to',\n",
       " 'tu',\n",
       " 'ty',\n",
       " 'tylko',\n",
       " 'tym',\n",
       " 'w',\n",
       " 'wiem',\n",
       " 'więc',\n",
       " 'z',\n",
       " 'za',\n",
       " 'ze',\n",
       " 'że',\n",
       " 'żeby']"
      ]
     },
     "execution_count": 52,
     "metadata": {},
     "output_type": "execute_result"
    }
   ],
   "source": [
    "sorted(results.model.wv.index_to_key)"
   ]
  },
  {
   "cell_type": "code",
   "execution_count": 57,
   "id": "a488f2d1",
   "metadata": {
    "ExecuteTime": {
     "end_time": "2022-01-09T07:30:01.174469Z",
     "start_time": "2022-01-09T07:30:01.048360Z"
    },
    "scrolled": true
   },
   "outputs": [
    {
     "data": {
      "text/plain": [
       "['A',\n",
       " 'Ale',\n",
       " 'Bo',\n",
       " 'Co',\n",
       " 'I',\n",
       " 'Ja',\n",
       " 'Jak',\n",
       " 'Na',\n",
       " 'Nie',\n",
       " 'No',\n",
       " 'Tak',\n",
       " 'To',\n",
       " 'Ty',\n",
       " 'W',\n",
       " 'Z',\n",
       " 'a',\n",
       " 'ale',\n",
       " 'bardzo',\n",
       " 'bez',\n",
       " 'bo',\n",
       " 'by',\n",
       " 'być',\n",
       " 'był',\n",
       " 'było',\n",
       " 'będzie',\n",
       " 'chyba',\n",
       " 'co',\n",
       " 'coś',\n",
       " 'czy',\n",
       " 'dla',\n",
       " 'do',\n",
       " 'go',\n",
       " 'i',\n",
       " 'ja',\n",
       " 'jak',\n",
       " 'jest',\n",
       " 'jeszcze',\n",
       " 'już',\n",
       " 'kto',\n",
       " 'ktoś',\n",
       " 'ma',\n",
       " 'mam',\n",
       " 'mi',\n",
       " 'mnie',\n",
       " 'może',\n",
       " 'można',\n",
       " 'na',\n",
       " 'nic',\n",
       " 'nie',\n",
       " 'o',\n",
       " 'od',\n",
       " 'po',\n",
       " 'przez',\n",
       " 'się',\n",
       " 'sobie',\n",
       " 'są',\n",
       " 'tak',\n",
       " 'taki',\n",
       " 'takie',\n",
       " 'tam',\n",
       " 'te',\n",
       " 'tego',\n",
       " 'ten',\n",
       " 'teraz',\n",
       " 'też',\n",
       " 'to',\n",
       " 'tu',\n",
       " 'ty',\n",
       " 'tylko',\n",
       " 'tym',\n",
       " 'w',\n",
       " 'wiem',\n",
       " 'więc',\n",
       " 'z',\n",
       " 'za',\n",
       " 'ze',\n",
       " 'że',\n",
       " 'żeby']"
      ]
     },
     "execution_count": 57,
     "metadata": {},
     "output_type": "execute_result"
    }
   ],
   "source": [
    "sorted(results.model.wv.index_to_key)"
   ]
  }
 ],
 "metadata": {
  "kernelspec": {
   "display_name": "Python 3 (ipykernel)",
   "language": "python",
   "name": "python3"
  },
  "language_info": {
   "codemirror_mode": {
    "name": "ipython",
    "version": 3
   },
   "file_extension": ".py",
   "mimetype": "text/x-python",
   "name": "python",
   "nbconvert_exporter": "python",
   "pygments_lexer": "ipython3",
   "version": "3.8.8"
  },
  "toc": {
   "base_numbering": 1,
   "nav_menu": {},
   "number_sections": true,
   "sideBar": true,
   "skip_h1_title": false,
   "title_cell": "Table of Contents",
   "title_sidebar": "Contents",
   "toc_cell": false,
   "toc_position": {
    "height": "calc(100% - 180px)",
    "left": "10px",
    "top": "150px",
    "width": "165px"
   },
   "toc_section_display": true,
   "toc_window_display": true
  }
 },
 "nbformat": 4,
 "nbformat_minor": 5
}
