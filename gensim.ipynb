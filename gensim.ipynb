{
 "cells": [
  {
   "cell_type": "markdown",
   "id": "33d09222",
   "metadata": {},
   "source": [
    "# setup"
   ]
  },
  {
   "cell_type": "code",
   "execution_count": 1,
   "id": "d4dee6e9",
   "metadata": {
    "ExecuteTime": {
     "end_time": "2021-10-22T00:30:45.747570Z",
     "start_time": "2021-10-22T00:30:45.731068Z"
    }
   },
   "outputs": [],
   "source": [
    "%load_ext autoreload\n",
    "%autoreload 2"
   ]
  },
  {
   "cell_type": "code",
   "execution_count": 2,
   "id": "bd43ba58",
   "metadata": {
    "ExecuteTime": {
     "end_time": "2021-10-22T00:30:46.914562Z",
     "start_time": "2021-10-22T00:30:46.369000Z"
    }
   },
   "outputs": [],
   "source": [
    "from tempfile import mkdtemp\n",
    "import pandas as pd\n",
    "\n",
    "from sklearn.pipeline import Pipeline\n",
    "\n",
    "from src.io import CsvDataLoader\n",
    "from src.preproc import RawDataCleaner\n",
    "\n",
    "pd.set_option('display.max_rows', 100)"
   ]
  },
  {
   "cell_type": "markdown",
   "id": "2c318bda",
   "metadata": {},
   "source": [
    "# load raw data"
   ]
  },
  {
   "cell_type": "code",
   "execution_count": 3,
   "id": "cf05212c",
   "metadata": {
    "ExecuteTime": {
     "end_time": "2021-10-22T00:30:48.657535Z",
     "start_time": "2021-10-22T00:30:48.641393Z"
    }
   },
   "outputs": [],
   "source": [
    "pipe = Pipeline([\n",
    "    ('load_data', CsvDataLoader(file_name='polish_sentiment_dataset.csv')),\n",
    "    ('basic_cleaning', RawDataCleaner()),\n",
    "], memory=mkdtemp())"
   ]
  },
  {
   "cell_type": "code",
   "execution_count": 4,
   "id": "fb8cc324",
   "metadata": {
    "ExecuteTime": {
     "end_time": "2021-10-22T00:30:53.413711Z",
     "start_time": "2021-10-22T00:30:50.045714Z"
    }
   },
   "outputs": [],
   "source": [
    "data = pipe.fit_transform(None)"
   ]
  },
  {
   "cell_type": "markdown",
   "id": "57f82950",
   "metadata": {},
   "source": [
    "# basic eda"
   ]
  },
  {
   "cell_type": "code",
   "execution_count": 5,
   "id": "1913014e",
   "metadata": {
    "ExecuteTime": {
     "end_time": "2021-10-22T00:31:01.379050Z",
     "start_time": "2021-10-22T00:31:01.359803Z"
    }
   },
   "outputs": [
    {
     "data": {
      "text/plain": [
       "(917641, 3)"
      ]
     },
     "execution_count": 5,
     "metadata": {},
     "output_type": "execute_result"
    }
   ],
   "source": [
    "data.shape"
   ]
  },
  {
   "cell_type": "code",
   "execution_count": 6,
   "id": "8ddc0a10",
   "metadata": {
    "ExecuteTime": {
     "end_time": "2021-10-22T00:31:04.549338Z",
     "start_time": "2021-10-22T00:31:04.514537Z"
    }
   },
   "outputs": [
    {
     "data": {
      "text/plain": [
       "0.0    0.80015\n",
       "1.0    0.19985\n",
       "Name: negative, dtype: float64"
      ]
     },
     "execution_count": 6,
     "metadata": {},
     "output_type": "execute_result"
    }
   ],
   "source": [
    "data['negative'].value_counts(dropna=False)/len(data)"
   ]
  },
  {
   "cell_type": "code",
   "execution_count": 7,
   "id": "6954bea9",
   "metadata": {
    "ExecuteTime": {
     "end_time": "2021-10-22T00:31:07.170016Z",
     "start_time": "2021-10-22T00:31:06.605336Z"
    }
   },
   "outputs": [
    {
     "data": {
      "text/plain": [
       "<AxesSubplot:ylabel='Frequency'>"
      ]
     },
     "execution_count": 7,
     "metadata": {},
     "output_type": "execute_result"
    },
    {
     "data": {
      "image/png": "[encoded data removed]",
      "text/plain": [
       "<Figure size 432x288 with 1 Axes>"
      ]
     },
     "metadata": {
      "needs_background": "light"
     },
     "output_type": "display_data"
    }
   ],
   "source": [
    "data['len'].clip(upper=1000).plot.hist(bins=100)"
   ]
  },
  {
   "cell_type": "code",
   "execution_count": null,
   "id": "2069ffc1",
   "metadata": {},
   "outputs": [],
   "source": []
  },
  {
   "cell_type": "code",
   "execution_count": null,
   "id": "9c9fb6e9",
   "metadata": {},
   "outputs": [],
   "source": []
  }
 ],
 "metadata": {
  "kernelspec": {
   "display_name": "Python 3 (ipykernel)",
   "language": "python",
   "name": "python3"
  },
  "language_info": {
   "codemirror_mode": {
    "name": "ipython",
    "version": 3
   },
   "file_extension": ".py",
   "mimetype": "text/x-python",
   "name": "python",
   "nbconvert_exporter": "python",
   "pygments_lexer": "ipython3",
   "version": "3.8.10"
  },
  "toc": {
   "base_numbering": 1,
   "nav_menu": {},
   "number_sections": true,
   "sideBar": true,
   "skip_h1_title": false,
   "title_cell": "Table of Contents",
   "title_sidebar": "Contents",
   "toc_cell": false,
   "toc_position": {},
   "toc_section_display": true,
   "toc_window_display": true
  }
 },
 "nbformat": 4,
 "nbformat_minor": 5
}
