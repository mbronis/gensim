{
 "cells": [
  {
   "cell_type": "markdown",
   "id": "33d09222",
   "metadata": {},
   "source": [
    "# setup"
   ]
  },
  {
   "cell_type": "code",
   "execution_count": 1,
   "id": "d4dee6e9",
   "metadata": {
    "ExecuteTime": {
     "end_time": "2021-10-26T20:20:42.675125Z",
     "start_time": "2021-10-26T20:20:42.661203Z"
    }
   },
   "outputs": [],
   "source": [
    "%load_ext autoreload\n",
    "%autoreload 2"
   ]
  },
  {
   "cell_type": "code",
   "execution_count": 2,
   "id": "bd43ba58",
   "metadata": {
    "ExecuteTime": {
     "end_time": "2021-10-26T20:20:44.556984Z",
     "start_time": "2021-10-26T20:20:44.011452Z"
    }
   },
   "outputs": [],
   "source": [
    "import os\n",
    "import re\n",
    "import pickle\n",
    "from typing import Sequence\n",
    "from tempfile import mkdtemp\n",
    "\n",
    "import pandas as pd\n",
    "\n",
    "from sklearn.pipeline import Pipeline\n",
    "\n",
    "from src.io import CsvDataLoader, PickleLoader\n",
    "from src.preproc import RawDataCleaner, TextCleaner, SimpleTokenizer\n",
    "\n",
    "pd.set_option('display.max_rows', 100)"
   ]
  },
  {
   "cell_type": "markdown",
   "id": "2c318bda",
   "metadata": {},
   "source": [
    "# load raw data & preprocess"
   ]
  },
  {
   "cell_type": "code",
   "execution_count": 114,
   "id": "cf05212c",
   "metadata": {
    "ExecuteTime": {
     "end_time": "2021-10-25T22:32:25.826773Z",
     "start_time": "2021-10-25T22:32:25.813101Z"
    }
   },
   "outputs": [],
   "source": [
    "pipe = Pipeline([\n",
    "    ('load_data', CsvDataLoader(file_name='polish_sentiment_dataset.csv')),\n",
    "    ('basic_cleaning', RawDataCleaner()),\n",
    "    ('text_cleaning', TextCleaner()),\n",
    "    ('tokenizer', SimpleTokenizer())\n",
    "], memory=mkdtemp())"
   ]
  },
  {
   "cell_type": "code",
   "execution_count": 250,
   "id": "a81ea3f5",
   "metadata": {
    "ExecuteTime": {
     "end_time": "2021-10-25T01:28:23.919220Z",
     "start_time": "2021-10-25T01:27:48.173524Z"
    }
   },
   "outputs": [
    {
     "name": "stderr",
     "output_type": "stream",
     "text": [
      "/home/mic/Pulpit/pyProj/gensim/venv/lib/python3.8/site-packages/sklearn/pipeline.py:348: UserWarning: Persisting input arguments took 2.33s to run.\n",
      "If this happens often in your code, it can cause performance problems \n",
      "(results will be correct in all cases). \n",
      "The reason for this is probably some large input arguments for a wrapped\n",
      " function (e.g. large strings).\n",
      "THIS IS A JOBLIB ISSUE. If you can, kindly provide the joblib's team with an\n",
      " example so that they can fix the problem.\n",
      "  X, fitted_transformer = fit_transform_one_cached(\n",
      "/home/mic/Pulpit/pyProj/gensim/venv/lib/python3.8/site-packages/sklearn/pipeline.py:348: UserWarning: Persisting input arguments took 2.30s to run.\n",
      "If this happens often in your code, it can cause performance problems \n",
      "(results will be correct in all cases). \n",
      "The reason for this is probably some large input arguments for a wrapped\n",
      " function (e.g. large strings).\n",
      "THIS IS A JOBLIB ISSUE. If you can, kindly provide the joblib's team with an\n",
      " example so that they can fix the problem.\n",
      "  X, fitted_transformer = fit_transform_one_cached(\n"
     ]
    }
   ],
   "source": [
    "data = pipe.fit_transform(None)"
   ]
  },
  {
   "cell_type": "code",
   "execution_count": null,
   "id": "81ec7061",
   "metadata": {},
   "outputs": [],
   "source": [
    "with open('./data/data_preproc.pkl', 'wb') as f:\n",
    "    pickle.dump(data, f)"
   ]
  },
  {
   "cell_type": "markdown",
   "id": "57f82950",
   "metadata": {},
   "source": [
    "# basic eda"
   ]
  },
  {
   "cell_type": "code",
   "execution_count": 140,
   "id": "c0750fb9",
   "metadata": {
    "ExecuteTime": {
     "end_time": "2021-10-25T00:33:13.539079Z",
     "start_time": "2021-10-25T00:33:13.519745Z"
    }
   },
   "outputs": [
    {
     "data": {
      "text/plain": [
       "(917525, 8)"
      ]
     },
     "execution_count": 140,
     "metadata": {},
     "output_type": "execute_result"
    }
   ],
   "source": [
    "data.shape"
   ]
  },
  {
   "cell_type": "code",
   "execution_count": 141,
   "id": "ef93d692",
   "metadata": {
    "ExecuteTime": {
     "end_time": "2021-10-25T00:33:16.638698Z",
     "start_time": "2021-10-25T00:33:16.611712Z"
    }
   },
   "outputs": [
    {
     "data": {
      "text/plain": [
       "0.0    0.800228\n",
       "1.0    0.199772\n",
       "Name: negative, dtype: float64"
      ]
     },
     "execution_count": 141,
     "metadata": {},
     "output_type": "execute_result"
    }
   ],
   "source": [
    "data['negative'].value_counts(dropna=False)/len(data)"
   ]
  },
  {
   "cell_type": "code",
   "execution_count": 58,
   "id": "6954bea9",
   "metadata": {
    "ExecuteTime": {
     "end_time": "2021-10-24T23:09:25.754965Z",
     "start_time": "2021-10-24T23:09:25.282044Z"
    }
   },
   "outputs": [
    {
     "data": {
      "text/plain": [
       "<AxesSubplot:ylabel='Frequency'>"
      ]
     },
     "execution_count": 58,
     "metadata": {},
     "output_type": "execute_result"
    },
    {
     "data": {
      "image/png": "[encoded data removed]",
      "text/plain": [
       "<Figure size 432x288 with 1 Axes>"
      ]
     },
     "metadata": {
      "needs_background": "light"
     },
     "output_type": "display_data"
    }
   ],
   "source": [
    "data['len'].clip(upper=1000).plot.hist(bins=100)"
   ]
  },
  {
   "cell_type": "code",
   "execution_count": 61,
   "id": "d5a485f2",
   "metadata": {
    "ExecuteTime": {
     "end_time": "2021-10-24T23:10:16.878328Z",
     "start_time": "2021-10-24T23:10:16.532676Z"
    }
   },
   "outputs": [
    {
     "data": {
      "text/plain": [
       "<AxesSubplot:ylabel='Frequency'>"
      ]
     },
     "execution_count": 61,
     "metadata": {},
     "output_type": "execute_result"
    },
    {
     "data": {
      "image/png": "[encoded data removed]",
      "text/plain": [
       "<Figure size 432x288 with 1 Axes>"
      ]
     },
     "metadata": {
      "needs_background": "light"
     },
     "output_type": "display_data"
    }
   ],
   "source": [
    "data['len_clean_ratio'].plot.hist(bins=100)"
   ]
  },
  {
   "cell_type": "code",
   "execution_count": 219,
   "id": "17b1815b",
   "metadata": {
    "ExecuteTime": {
     "end_time": "2021-10-25T01:19:12.711939Z",
     "start_time": "2021-10-25T01:19:12.349177Z"
    }
   },
   "outputs": [
    {
     "data": {
      "text/plain": [
       "<AxesSubplot:ylabel='Frequency'>"
      ]
     },
     "execution_count": 219,
     "metadata": {},
     "output_type": "execute_result"
    },
    {
     "data": {
      "image/png": "[encoded data removed]",
      "text/plain": [
       "<Figure size 432x288 with 1 Axes>"
      ]
     },
     "metadata": {
      "needs_background": "light"
     },
     "output_type": "display_data"
    }
   ],
   "source": [
    "data['tokens_len'].clip(upper=100).plot.hist(bins=100)"
   ]
  },
  {
   "cell_type": "markdown",
   "id": "9775cc31",
   "metadata": {},
   "source": [
    "## token length"
   ]
  },
  {
   "cell_type": "code",
   "execution_count": null,
   "id": "2c5c2c7a",
   "metadata": {},
   "outputs": [],
   "source": [
    "tokens_len = [(i, len(tok)) for i, toks in enumerate(data['tokens']) for tok in toks]\n",
    "tokens_len = pd.DataFrame(tokens_len, columns=['row', 'tok_len'])"
   ]
  },
  {
   "cell_type": "code",
   "execution_count": 286,
   "id": "6c9da54c",
   "metadata": {
    "ExecuteTime": {
     "end_time": "2021-10-25T01:45:49.841097Z",
     "start_time": "2021-10-25T01:45:49.825766Z"
    }
   },
   "outputs": [
    {
     "name": "stdout",
     "output_type": "stream",
     "text": [
      "words in data: 12083288\n"
     ]
    }
   ],
   "source": [
    "print(f\"words in data: {len(tokens_len)}\")"
   ]
  },
  {
   "cell_type": "code",
   "execution_count": 256,
   "id": "27ade698",
   "metadata": {
    "ExecuteTime": {
     "end_time": "2021-10-25T01:31:28.771197Z",
     "start_time": "2021-10-25T01:31:27.605934Z"
    }
   },
   "outputs": [
    {
     "data": {
      "text/plain": [
       "<AxesSubplot:ylabel='Frequency'>"
      ]
     },
     "execution_count": 256,
     "metadata": {},
     "output_type": "execute_result"
    },
    {
     "data": {
      "image/png": "[encoded data removed]",
      "text/plain": [
       "<Figure size 432x288 with 1 Axes>"
      ]
     },
     "metadata": {
      "needs_background": "light"
     },
     "output_type": "display_data"
    }
   ],
   "source": [
    "tokens_len['tok_len'].clip(upper=100).plot.hist(bins=50)"
   ]
  },
  {
   "cell_type": "code",
   "execution_count": 257,
   "id": "b81a447d",
   "metadata": {
    "ExecuteTime": {
     "end_time": "2021-10-25T01:31:45.508979Z",
     "start_time": "2021-10-25T01:31:45.166648Z"
    }
   },
   "outputs": [
    {
     "data": {
      "text/plain": [
       "count    1.208329e+07\n",
       "mean     5.755617e+00\n",
       "std      4.244786e+00\n",
       "min      1.000000e+00\n",
       "25%      3.000000e+00\n",
       "50%      6.000000e+00\n",
       "75%      8.000000e+00\n",
       "max      9.982000e+03\n",
       "Name: tok_len, dtype: float64"
      ]
     },
     "execution_count": 257,
     "metadata": {},
     "output_type": "execute_result"
    }
   ],
   "source": [
    "tokens_len['tok_len'].describe()"
   ]
  },
  {
   "cell_type": "code",
   "execution_count": 258,
   "id": "a7565f05",
   "metadata": {
    "ExecuteTime": {
     "end_time": "2021-10-25T01:32:07.199609Z",
     "start_time": "2021-10-25T01:32:06.372520Z"
    }
   },
   "outputs": [
    {
     "data": {
      "text/plain": [
       "9982"
      ]
     },
     "execution_count": 258,
     "metadata": {},
     "output_type": "execute_result"
    }
   ],
   "source": [
    "max(tokens_len['tok_len'])"
   ]
  },
  {
   "cell_type": "code",
   "execution_count": 271,
   "id": "d92fab40",
   "metadata": {
    "ExecuteTime": {
     "end_time": "2021-10-25T01:35:15.406840Z",
     "start_time": "2021-10-25T01:35:15.379280Z"
    }
   },
   "outputs": [
    {
     "data": {
      "text/html": [
       "<div>\n",
       "<style scoped>\n",
       "    .dataframe tbody tr th:only-of-type {\n",
       "        vertical-align: middle;\n",
       "    }\n",
       "\n",
       "    .dataframe tbody tr th {\n",
       "        vertical-align: top;\n",
       "    }\n",
       "\n",
       "    .dataframe thead th {\n",
       "        text-align: right;\n",
       "    }\n",
       "</style>\n",
       "<table border=\"1\" class=\"dataframe\">\n",
       "  <thead>\n",
       "    <tr style=\"text-align: right;\">\n",
       "      <th></th>\n",
       "      <th>row</th>\n",
       "      <th>tok_len</th>\n",
       "    </tr>\n",
       "  </thead>\n",
       "  <tbody>\n",
       "    <tr>\n",
       "      <th>9940205</th>\n",
       "      <td>774921</td>\n",
       "      <td>50</td>\n",
       "    </tr>\n",
       "    <tr>\n",
       "      <th>10279304</th>\n",
       "      <td>812174</td>\n",
       "      <td>50</td>\n",
       "    </tr>\n",
       "    <tr>\n",
       "      <th>11840864</th>\n",
       "      <td>907920</td>\n",
       "      <td>50</td>\n",
       "    </tr>\n",
       "  </tbody>\n",
       "</table>\n",
       "</div>"
      ],
      "text/plain": [
       "             row  tok_len\n",
       "9940205   774921       50\n",
       "10279304  812174       50\n",
       "11840864  907920       50"
      ]
     },
     "execution_count": 271,
     "metadata": {},
     "output_type": "execute_result"
    }
   ],
   "source": [
    "tokens_len[tokens_len['tok_len']==50]"
   ]
  },
  {
   "cell_type": "code",
   "execution_count": 261,
   "id": "9a3e329f",
   "metadata": {
    "ExecuteTime": {
     "end_time": "2021-10-25T01:32:57.945403Z",
     "start_time": "2021-10-25T01:32:57.930792Z"
    }
   },
   "outputs": [
    {
     "data": {
      "text/plain": [
       "RangeIndex(start=0, stop=917525, step=1)"
      ]
     },
     "execution_count": 261,
     "metadata": {},
     "output_type": "execute_result"
    }
   ],
   "source": [
    "data.index"
   ]
  },
  {
   "cell_type": "code",
   "execution_count": 274,
   "id": "c6df0252",
   "metadata": {
    "ExecuteTime": {
     "end_time": "2021-10-25T01:35:31.979891Z",
     "start_time": "2021-10-25T01:35:31.956652Z"
    }
   },
   "outputs": [
    {
     "data": {
      "text/plain": [
       "'xdxdxdxdxdxxxxxxxxxxxxxddddddddddddddxxxxxxxxxddxx'"
      ]
     },
     "execution_count": 274,
     "metadata": {},
     "output_type": "execute_result"
    }
   ],
   "source": [
    "data['desc_clean'][774921]"
   ]
  },
  {
   "cell_type": "markdown",
   "id": "cb418009",
   "metadata": {},
   "source": [
    "# adhoc eda"
   ]
  },
  {
   "cell_type": "code",
   "execution_count": 226,
   "id": "2d1ef57c",
   "metadata": {
    "ExecuteTime": {
     "end_time": "2021-10-27T23:58:52.712555Z",
     "start_time": "2021-10-27T23:58:52.697122Z"
    }
   },
   "outputs": [
    {
     "data": {
      "text/plain": [
       "(1, 1, 1, 1, 1, 1)"
      ]
     },
     "execution_count": 226,
     "metadata": {},
     "output_type": "execute_result"
    }
   ],
   "source": [
    "data"
   ]
  },
  {
   "cell_type": "markdown",
   "id": "b45e1cc6",
   "metadata": {},
   "source": [
    "## lettes dict"
   ]
  },
  {
   "cell_type": "code",
   "execution_count": 8,
   "id": "5f2c9f28",
   "metadata": {
    "ExecuteTime": {
     "end_time": "2021-10-24T22:08:05.430018Z",
     "start_time": "2021-10-24T22:07:59.716559Z"
    }
   },
   "outputs": [],
   "source": [
    "from collections import Counter\n",
    "\n",
    "def count_chars(s, chars):\n",
    "    counter = Counter(s)\n",
    "    return {c : counter.get(c,0) for c in chars}\n",
    "\n",
    "letters_dict = Counter([c for s in data['desc'] for c in s])"
   ]
  },
  {
   "cell_type": "code",
   "execution_count": 9,
   "id": "243010cf",
   "metadata": {
    "ExecuteTime": {
     "end_time": "2021-10-24T22:08:06.191402Z",
     "start_time": "2021-10-24T22:08:06.155668Z"
    }
   },
   "outputs": [
    {
     "data": {
      "text/plain": [
       "[(' ', 11269150),\n",
       " ('a', 6918402),\n",
       " ('e', 5827493),\n",
       " ('o', 5432923),\n",
       " ('i', 4519406),\n",
       " ('z', 4060100),\n",
       " ('n', 3448487),\n",
       " ('s', 3133460),\n",
       " ('r', 2971734),\n",
       " ('k', 2774425),\n",
       " ('y', 2761594),\n",
       " ('w', 2572928),\n",
       " ('t', 2412194),\n",
       " ('p', 2306489),\n",
       " ('m', 2204999),\n",
       " ('c', 2117288),\n",
       " ('d', 2068713),\n",
       " ('l', 1826311),\n",
       " ('b', 1633695),\n",
       " ('u', 1422661),\n",
       " ('j', 1374134),\n",
       " ('.', 1076430),\n",
       " ('ł', 1008407),\n",
       " (',', 807210),\n",
       " ('g', 713406),\n",
       " ('ó', 465146),\n",
       " ('ę', 448375),\n",
       " ('ż', 416814),\n",
       " ('P', 367068),\n",
       " ('ą', 360837),\n",
       " ('h', 338778),\n",
       " ('S', 288760),\n",
       " ('!', 278291),\n",
       " ('ś', 273548),\n",
       " ('f', 228596),\n",
       " ('\\r', 219740),\n",
       " ('ć', 212443),\n",
       " ('B', 174693),\n",
       " ('A', 170350),\n",
       " ('W', 166578),\n",
       " ('O', 155386),\n",
       " ('D', 154107),\n",
       " ('T', 147638),\n",
       " ('Z', 133755),\n",
       " ('J', 133418),\n",
       " ('E', 132228),\n",
       " ('N', 122486),\n",
       " ('K', 104327),\n",
       " ('\\n', 104190),\n",
       " ('M', 102931),\n",
       " (')', 99456),\n",
       " ('C', 95883),\n",
       " ('I', 91000),\n",
       " ('-', 84443),\n",
       " ('0', 83453),\n",
       " ('R', 82176),\n",
       " (':', 75159),\n",
       " ('L', 61472),\n",
       " ('ń', 60901),\n",
       " ('1', 58551),\n",
       " ('G', 48068),\n",
       " ('Y', 40786),\n",
       " ('U', 37733),\n",
       " ('2', 36969),\n",
       " ('(', 25202),\n",
       " ('3', 21357),\n",
       " ('x', 20027),\n",
       " ('\"', 19904),\n",
       " ('%', 18506),\n",
       " ('Ś', 18219),\n",
       " ('ź', 17940),\n",
       " ('4', 17217),\n",
       " ('5', 17128),\n",
       " ('F', 15741),\n",
       " ('H', 15735),\n",
       " ('Ł', 15150),\n",
       " (';', 13097),\n",
       " ('?', 11344),\n",
       " ('Ż', 10273),\n",
       " ('6', 9644),\n",
       " ('9', 9274),\n",
       " ('8', 8372),\n",
       " ('7', 7918),\n",
       " ('X', 6848),\n",
       " ('Ę', 6120),\n",
       " ('v', 6039),\n",
       " ('\\xa0', 5411),\n",
       " ('/', 5268),\n",
       " ('Ą', 5199),\n",
       " ('Ó', 4792),\n",
       " ('V', 3828),\n",
       " ('Ć', 3362),\n",
       " ('+', 3240),\n",
       " (\"'\", 2008),\n",
       " ('…', 1991),\n",
       " ('_', 1963),\n",
       " ('\\\\', 1629),\n",
       " ('*', 1152),\n",
       " ('=', 1044),\n",
       " ('\\u3000', 925),\n",
       " (']', 794),\n",
       " ('Ń', 730),\n",
       " ('☺', 688),\n",
       " ('>', 685),\n",
       " ('q', 674),\n",
       " ('[', 600),\n",
       " ('@', 530),\n",
       " ('о', 524),\n",
       " ('–', 445),\n",
       " ('е', 413),\n",
       " ('Q', 402),\n",
       " ('а', 398),\n",
       " ('\\xad', 395),\n",
       " ('и', 378),\n",
       " ('”', 375),\n",
       " ('т', 370),\n",
       " ('„', 355),\n",
       " ('Ź', 308),\n",
       " ('н', 304),\n",
       " ('в', 261),\n",
       " ('ò', 257),\n",
       " ('р', 254),\n",
       " ('\\t', 250),\n",
       " ('с', 242),\n",
       " ('к', 211),\n",
       " ('^', 205),\n",
       " ('л', 205),\n",
       " ('ʖ', 200),\n",
       " ('~', 195),\n",
       " ('卐', 168),\n",
       " ('д', 161),\n",
       " ('м', 149),\n",
       " ('у', 131),\n",
       " ('п', 125),\n",
       " ('|', 121),\n",
       " ('&', 117),\n",
       " ('я', 114),\n",
       " ('<', 102),\n",
       " ('ы', 101),\n",
       " ('б', 99),\n",
       " ('ь', 96),\n",
       " ('`', 93),\n",
       " ('ч', 83),\n",
       " ('з', 81),\n",
       " ('$', 78),\n",
       " ('️', 76),\n",
       " ('ノ', 71),\n",
       " ('х', 69),\n",
       " ('ヽ', 64),\n",
       " ('é', 63),\n",
       " ('ゝ', 61),\n",
       " ('}', 60),\n",
       " ('ö', 59),\n",
       " ('й', 56),\n",
       " ('ل', 49),\n",
       " ('❤', 48),\n",
       " ('і', 47),\n",
       " ('ا', 46),\n",
       " ('г', 45),\n",
       " ('ж', 43),\n",
       " ('ü', 42),\n",
       " ('á', 42),\n",
       " ('ш', 41),\n",
       " ('{', 40),\n",
       " ('ｓ', 39),\n",
       " ('à', 37),\n",
       " ('#', 36),\n",
       " ('ر', 36),\n",
       " ('ｆ', 35),\n",
       " ('ю', 33),\n",
       " ('ц', 33),\n",
       " ('ｊ', 33),\n",
       " ('ن', 31),\n",
       " ('Б', 29),\n",
       " ('э', 29),\n",
       " ('А', 29),\n",
       " ('ä', 28),\n",
       " ('و', 28),\n",
       " ('ᶦ', 28),\n",
       " ('—', 27),\n",
       " ('П', 26),\n",
       " ('“', 25),\n",
       " ('ｄ', 25),\n",
       " ('ｈ', 25),\n",
       " ('ø', 24),\n",
       " ('ｇ', 24),\n",
       " ('ｌ', 23),\n",
       " ('ı', 22),\n",
       " ('ｎ', 22),\n",
       " ('Д', 21),\n",
       " ('è', 21),\n",
       " ('ة', 21),\n",
       " ('í', 20),\n",
       " ('•', 20),\n",
       " ('ž', 20),\n",
       " ('ಠ', 20),\n",
       " ('С', 19),\n",
       " ('К', 19),\n",
       " ('م', 19),\n",
       " ('В', 18),\n",
       " ('У', 18),\n",
       " ('š', 17),\n",
       " ('°', 17),\n",
       " ('’', 17),\n",
       " ('ｍ', 17),\n",
       " ('ĺ', 16),\n",
       " ('щ', 16),\n",
       " ('س', 16),\n",
       " ('ي', 16),\n",
       " ('ب', 16),\n",
       " ('อ', 16),\n",
       " ('ｔ', 16),\n",
       " ('ｋ', 16),\n",
       " ('ᵉ', 16),\n",
       " ('ᵏ', 16),\n",
       " ('ý', 15),\n",
       " ('М', 15),\n",
       " ('ｂ', 15),\n",
       " ('€', 14),\n",
       " ('Н', 14),\n",
       " ('α', 14),\n",
       " ('ت', 14),\n",
       " ('ง', 14),\n",
       " ('ｚ', 14),\n",
       " ('Р', 13),\n",
       " ('О', 13),\n",
       " ('ع', 13),\n",
       " ('ι', 13),\n",
       " ('ａ', 13),\n",
       " ('♥', 12),\n",
       " ('ß', 12),\n",
       " ('\\u200b', 12),\n",
       " ('า', 12),\n",
       " ('น', 12),\n",
       " ('ｘ', 12),\n",
       " ('ᵘ', 12),\n",
       " ('ї', 12),\n",
       " ('י', 12),\n",
       " ('ì', 11),\n",
       " ('℅', 11),\n",
       " ('ô', 11),\n",
       " ('§', 11),\n",
       " ('î', 11),\n",
       " ('ñ', 11),\n",
       " ('υ', 11),\n",
       " ('×', 11),\n",
       " ('И', 11),\n",
       " ('ق', 11),\n",
       " ('є', 11),\n",
       " ('ค', 11),\n",
       " ('ย', 11),\n",
       " ('ｉ', 11),\n",
       " ('ｕ', 11),\n",
       " ('Л', 11),\n",
       " ('σ', 10),\n",
       " ('\\ufeff', 10),\n",
       " ('ه', 10),\n",
       " ('ف', 10),\n",
       " ('ร', 10),\n",
       " ('ｒ', 10),\n",
       " ('ו', 10),\n",
       " ('З', 9),\n",
       " ('č', 9),\n",
       " ('‘', 9),\n",
       " ('บ', 9),\n",
       " ('ｃ', 9),\n",
       " ('ｅ', 9),\n",
       " ('£', 8),\n",
       " ('Т', 8),\n",
       " ('ф', 8),\n",
       " ('Я', 8),\n",
       " ('͡', 8),\n",
       " ('ك', 8),\n",
       " ('ห', 8),\n",
       " ('ก', 8),\n",
       " ('ǝ', 8),\n",
       " ('Г', 8),\n",
       " ('ಥ', 8),\n",
       " ('ʸ', 8),\n",
       " ('ⁿ', 8),\n",
       " ('ᵖ', 8),\n",
       " ('ᶜ', 8),\n",
       " ('ˡ', 8),\n",
       " ('ᵃ', 8),\n",
       " ('ʷ', 8),\n",
       " ('ˢ', 8),\n",
       " ('ל', 8),\n",
       " ('\\x7f', 7),\n",
       " ('♡', 7),\n",
       " ('ķ', 7),\n",
       " ('¡', 7),\n",
       " ('ρ', 7),\n",
       " ('«', 7),\n",
       " ('ఞ', 7),\n",
       " ('ן', 7),\n",
       " ('つ', 7),\n",
       " ('ｏ', 7),\n",
       " ('ｙ', 7),\n",
       " ('Ы', 7),\n",
       " ('©', 6),\n",
       " ('Е', 6),\n",
       " ('å', 6),\n",
       " ('ŕ', 6),\n",
       " ('ė', 6),\n",
       " ('𝐞', 6),\n",
       " ('أ', 6),\n",
       " ('ح', 6),\n",
       " ('ѕ', 6),\n",
       " ('ℓ', 6),\n",
       " ('ท', 6),\n",
       " ('ป', 6),\n",
       " ('ม', 6),\n",
       " ('ɐ', 6),\n",
       " ('ʍ', 6),\n",
       " ('ｖ', 6),\n",
       " ('𝖓', 6),\n",
       " ('𝖎', 6),\n",
       " ('𝖔', 6),\n",
       " ('𝖆', 6),\n",
       " ('א', 6),\n",
       " ('ё', 5),\n",
       " ('Ø', 5),\n",
       " ('æ', 5),\n",
       " ('Х', 5),\n",
       " ('ā', 5),\n",
       " ('⭐', 5),\n",
       " ('π', 5),\n",
       " ('ν', 5),\n",
       " ('★', 5),\n",
       " ('»', 5),\n",
       " ('Ò', 5),\n",
       " ('آ', 5),\n",
       " ('ٱ', 5),\n",
       " ('ص', 5),\n",
       " ('ج', 5),\n",
       " ('ω', 5),\n",
       " ('ด', 5),\n",
       " ('เ', 5),\n",
       " ('â', 5),\n",
       " ('ç', 5),\n",
       " ('Ш', 5),\n",
       " ('𝖟', 5),\n",
       " ('𝖊', 5),\n",
       " ('ɛ', 5),\n",
       " ('ɑ', 5),\n",
       " ('Δ', 5),\n",
       " ('ī', 4),\n",
       " ('✌', 4),\n",
       " ('➕', 4),\n",
       " ('͜', 4),\n",
       " ('η', 4),\n",
       " ('ε', 4),\n",
       " ('ř', 4),\n",
       " ('đ', 4),\n",
       " ('𝐭', 4),\n",
       " ('𝐨', 4),\n",
       " ('خ', 4),\n",
       " ('ـ', 4),\n",
       " ('ผ', 4),\n",
       " ('ɹ', 4),\n",
       " ('ʇ', 4),\n",
       " ('ｐ', 4),\n",
       " ('ም', 4),\n",
       " ('ን', 4),\n",
       " ('ደ', 4),\n",
       " ('ᴺ', 4),\n",
       " ('ᵍ', 4),\n",
       " ('ᵈ', 4),\n",
       " ('ʲ', 4),\n",
       " ('ᵗ', 4),\n",
       " ('ʳ', 4),\n",
       " ('ʰ', 4),\n",
       " ('ᵐ', 4),\n",
       " ('ʘ', 4),\n",
       " ('𝖘', 4),\n",
       " ('𝖒', 4),\n",
       " ('ヮ', 4),\n",
       " ('な', 4),\n",
       " ('ם', 4),\n",
       " ('ת', 4),\n",
       " ('Ķ', 3),\n",
       " ('ã', 3),\n",
       " ('Ч', 3),\n",
       " ('ť', 3),\n",
       " ('☹', 3),\n",
       " ('÷', 3),\n",
       " ('ù', 3),\n",
       " ('ľ', 3),\n",
       " ('ο', 3),\n",
       " ('κ', 3),\n",
       " ('·', 3),\n",
       " ('ĸ', 3),\n",
       " ('™', 3),\n",
       " ('Ü', 3),\n",
       " ('→', 3),\n",
       " ('𝐫', 3),\n",
       " ('ى', 3),\n",
       " ('د', 3),\n",
       " ('ไ', 3),\n",
       " ('ส', 3),\n",
       " ('ข', 3),\n",
       " ('ɔ', 3),\n",
       " ('二', 3),\n",
       " ('ŝ', 3),\n",
       " ('Й', 3),\n",
       " ('ﾟ', 3),\n",
       " ('の', 3),\n",
       " ('ለ', 3),\n",
       " ('ል', 3),\n",
       " ('𝖉', 3),\n",
       " ('𝖞', 3),\n",
       " ('𝖌', 3),\n",
       " ('ě', 3),\n",
       " ('い', 3),\n",
       " ('う', 3),\n",
       " ('ツ', 3),\n",
       " ('ה', 3),\n",
       " ('ז', 3),\n",
       " ('נ', 3),\n",
       " ('מ', 3),\n",
       " ('ʝ', 3),\n",
       " ('ѳ', 3),\n",
       " ('Ҝ', 3),\n",
       " ('Ψ', 3),\n",
       " ('Ω', 3),\n",
       " ('\\uf04a', 2),\n",
       " ('Ж', 2),\n",
       " ('ú', 2),\n",
       " ('γ', 2),\n",
       " ('ή', 2),\n",
       " ('έ', 2),\n",
       " ('τ', 2),\n",
       " ('λ', 2),\n",
       " ('ᶏ', 2),\n",
       " ('œ', 2),\n",
       " ('、', 2),\n",
       " ('ō', 2),\n",
       " ('☆', 2),\n",
       " ('\\u202a', 2),\n",
       " ('\\u200e', 2),\n",
       " ('\\u202c', 2),\n",
       " ('ģ', 2),\n",
       " ('¨', 2),\n",
       " ('´', 2),\n",
       " ('―', 2),\n",
       " ('𝐧', 2),\n",
       " ('𝐟', 2),\n",
       " ('ఝ', 2),\n",
       " ('ట', 2),\n",
       " ('ఠ', 2),\n",
       " ('ఛ', 2),\n",
       " ('Ì', 2),\n",
       " ('ะ', 2),\n",
       " ('ณ', 2),\n",
       " ('ᕗ', 2),\n",
       " ('ɾ', 2),\n",
       " ('ɯ', 2),\n",
       " ('Ä', 2),\n",
       " ('我', 2),\n",
       " ('Ｙ', 2),\n",
       " ('口', 2),\n",
       " ('ｗ', 2),\n",
       " ('謝', 2),\n",
       " ('ತ', 2),\n",
       " ('ū', 2),\n",
       " ('ሰ', 2),\n",
       " ('እ', 2),\n",
       " ('አ', 2),\n",
       " ('ማ', 2),\n",
       " ('ገ', 2),\n",
       " ('づ', 2),\n",
       " ('ʞ', 2),\n",
       " ('ፈ', 2),\n",
       " ('ጀ', 2),\n",
       " ('ሀ', 2),\n",
       " ('ከ', 2),\n",
       " ('𝖚', 2),\n",
       " ('𝖏', 2),\n",
       " ('ㅠ', 2),\n",
       " ('人', 2),\n",
       " ('것', 2),\n",
       " ('私', 2),\n",
       " ('は', 2),\n",
       " ('を', 2),\n",
       " ('っ', 2),\n",
       " ('て', 2),\n",
       " ('が', 2),\n",
       " ('彼', 2),\n",
       " ('女', 2),\n",
       " ('φ', 2),\n",
       " ('一', 2),\n",
       " ('É', 2),\n",
       " ('Š', 2),\n",
       " ('ϟ', 2),\n",
       " ('Ď', 2),\n",
       " ('ש', 2),\n",
       " ('פ', 2),\n",
       " ('ח', 2),\n",
       " ('ר', 2),\n",
       " ('个', 2),\n",
       " ('ɳ', 2),\n",
       " ('ɱ', 2),\n",
       " ('ʆ', 2),\n",
       " ('ﾉ', 2),\n",
       " ('º', 2),\n",
       " ('ψ', 2),\n",
       " ('ʹ', 2),\n",
       " ('õ', 1),\n",
       " ('Ĺ', 1),\n",
       " ('ξ', 1),\n",
       " ('ύ', 1),\n",
       " ('ά', 1),\n",
       " ('μ', 1),\n",
       " ('ϊ', 1),\n",
       " ('ό', 1),\n",
       " ('¶', 1),\n",
       " ('❗', 1),\n",
       " ('♣', 1),\n",
       " ('✔', 1),\n",
       " ('Ŝ', 1),\n",
       " ('¿', 1),\n",
       " ('\\uf04c', 1),\n",
       " ('µ', 1),\n",
       " ('ð', 1),\n",
       " ('∑', 1),\n",
       " ('³', 1),\n",
       " ('⏰', 1),\n",
       " ('ŋ', 1),\n",
       " ('₩', 1),\n",
       " ('\\uf0a7', 1),\n",
       " ('Ľ', 1),\n",
       " ('☞', 1),\n",
       " ('ဠ', 1),\n",
       " ('№', 1),\n",
       " ('》', 1),\n",
       " ('𝐄', 1),\n",
       " ('𝐡', 1),\n",
       " ('𝐜', 1),\n",
       " ('𝐝', 1),\n",
       " ('𝐠', 1),\n",
       " ('𝟓', 1),\n",
       " ('𝟎', 1),\n",
       " ('Ö', 1),\n",
       " ('إ', 1),\n",
       " ('ء', 1),\n",
       " ('ٲ', 1),\n",
       " ('ہ', 1),\n",
       " ('ۦ', 1),\n",
       " ('ş', 1),\n",
       " ('చ', 1),\n",
       " ('ғ', 1),\n",
       " ('ถ', 1),\n",
       " ('แ', 1),\n",
       " ('ใ', 1),\n",
       " ('ภ', 1),\n",
       " ('Ŕ', 1),\n",
       " ('ว', 1),\n",
       " ('จ', 1),\n",
       " ('โ', 1),\n",
       " ('ษ', 1),\n",
       " ('ᕕ', 1),\n",
       " ('ᐛ', 1),\n",
       " ('ƃ', 1),\n",
       " ('ʎ', 1),\n",
       " ('上', 1),\n",
       " ('帝', 1),\n",
       " ('的', 1),\n",
       " ('母', 1),\n",
       " ('親', 1),\n",
       " ('想', 1),\n",
       " ('開', 1),\n",
       " ('始', 1),\n",
       " ('說', 1),\n",
       " ('中', 1),\n",
       " ('國', 1),\n",
       " ('話', 1),\n",
       " ('ﾖ', 1),\n",
       " ('ă', 1),\n",
       " ('ï', 1),\n",
       " ('Ь', 1),\n",
       " ('Ž', 1),\n",
       " ('ಎ', 1),\n",
       " ('ᗝ', 1),\n",
       " ('ዎ', 1),\n",
       " ('ች', 1),\n",
       " ('ኔ', 1),\n",
       " ('ኝ', 1),\n",
       " ('ክ', 1),\n",
       " ('ያ', 1),\n",
       " ('ቱ', 1),\n",
       " ('ወ', 1),\n",
       " ('ጎ', 1),\n",
       " ('ጥ', 1),\n",
       " ('ና', 1),\n",
       " ('ት', 1),\n",
       " ('ኛ', 1),\n",
       " ('ᖗ', 1),\n",
       " ('ᖘ', 1),\n",
       " ('Č', 1),\n",
       " ('ዱ', 1),\n",
       " ('ቸ', 1),\n",
       " ('ዳ', 1),\n",
       " ('ነ', 1),\n",
       " ('በ', 1),\n",
       " ('ፋ', 1),\n",
       " ('ሱ', 1),\n",
       " ('ካ', 1),\n",
       " ('ز', 1),\n",
       " ('ض', 1),\n",
       " ('𝖂', 1),\n",
       " ('𝖋', 1),\n",
       " ('𝖈', 1),\n",
       " ('𝖑', 1),\n",
       " ('𝖍', 1),\n",
       " ('𝖗', 1),\n",
       " ('𝖜', 1),\n",
       " ('ů', 1),\n",
       " ('내', 1),\n",
       " ('가', 1),\n",
       " ('그', 1),\n",
       " ('을', 1),\n",
       " ('보', 1),\n",
       " ('고', 1),\n",
       " ('나', 1),\n",
       " ('는', 1),\n",
       " ('당', 1),\n",
       " ('신', 1),\n",
       " ('이', 1),\n",
       " ('폭', 1),\n",
       " ('격', 1),\n",
       " ('할', 1),\n",
       " ('입', 1),\n",
       " ('니', 1),\n",
       " ('다', 1),\n",
       " ('Ｉ', 1),\n",
       " ('迅', 1),\n",
       " ('速', 1),\n",
       " ('軽', 1),\n",
       " ('快', 1),\n",
       " ('指', 1),\n",
       " ('持', 1),\n",
       " ('る', 1),\n",
       " ('フ', 1),\n",
       " ('ク', 1),\n",
       " ('ロ', 1),\n",
       " ('ウ', 1),\n",
       " ('で', 1),\n",
       " ('入', 1),\n",
       " ('れ', 1),\n",
       " ('だ', 1),\n",
       " ('ろ', 1),\n",
       " ('È', 1),\n",
       " ('χ', 1),\n",
       " ('ί', 1),\n",
       " ('ζ', 1),\n",
       " ('ē', 1),\n",
       " ('ᕙ', 1),\n",
       " ('不', 1),\n",
       " ('是', 1),\n",
       " ('因', 1),\n",
       " ('為', 1),\n",
       " ('你', 1),\n",
       " ('把', 1),\n",
       " ('隻', 1),\n",
       " ('貓', 1),\n",
       " ('採', 1),\n",
       " ('取', 1),\n",
       " ('關', 1),\n",
       " ('注', 1),\n",
       " ('Ｕ', 1),\n",
       " ('ד', 1),\n",
       " ('ט', 1),\n",
       " ('ב', 1),\n",
       " ('כ', 1),\n",
       " ('ס', 1),\n",
       " ('ɦ', 1),\n",
       " ('ɓ', 1),\n",
       " ('ê', 1),\n",
       " ('Σ', 1),\n",
       " ('Π', 1),\n",
       " ('β', 1),\n",
       " ('あ', 1),\n",
       " ('り', 1),\n",
       " ('と', 1),\n",
       " ('さ', 1),\n",
       " ('よ', 1),\n",
       " ('ら', 1),\n",
       " ('À', 1),\n",
       " ('Â', 1),\n",
       " ('๑', 1),\n",
       " ('ᴗ', 1),\n",
       " ('ゞ', 1),\n",
       " ('ק', 1),\n",
       " ('û', 1),\n",
       " ('غ', 1),\n",
       " ('ط', 1)]"
      ]
     },
     "execution_count": 9,
     "metadata": {},
     "output_type": "execute_result"
    }
   ],
   "source": [
    "sorted(letters_dict.items(), key=lambda i: i[1], reverse=True)"
   ]
  },
  {
   "cell_type": "code",
   "execution_count": null,
   "id": "0953ba94",
   "metadata": {},
   "outputs": [],
   "source": [
    "# todo: \\r, \\n, \\xa0 to space"
   ]
  },
  {
   "cell_type": "markdown",
   "id": "51aab449",
   "metadata": {},
   "source": [
    "## filter alpha num and punctuation"
   ]
  },
  {
   "cell_type": "code",
   "execution_count": 49,
   "id": "4421712c",
   "metadata": {
    "ExecuteTime": {
     "end_time": "2021-10-27T20:46:06.389540Z",
     "start_time": "2021-10-27T20:46:06.375503Z"
    }
   },
   "outputs": [],
   "source": [
    "a = '257 najlepszy moment ψψ'\n",
    "b = 'اغلاق الكلبة العربي يمارس الجنس مع ما يصل'\n",
    "c = \"stara ''sowiecka szkola'' zaczynam sie zastanawiac czy mozna by ich legalnie zdelegalizowac ?\"\n",
    "d = 'Dobrze. Szkoda, że InPost nie precyzuje co oznacza, że dostarcza przesyłkę \"OD RANA\"'\n",
    "e = '  asd  asd  '\n",
    "f = 'łączńie ćma grzegżźółka'\n",
    "g = 'Bardzo przyjazny klientom sklep. \\\\Realizuje, wszystkie zamówienai: takie - takie '\n",
    "h = 'Szanowni Państwo, ODRADZAM !!!\\r\\r\\r\\n\\r\\r\\r\\n'\n",
    "i = 'Szanowni Państwo,\\r\\r\\r\\n\\r\\r\\r\\n ODRADZAM !!!'\n",
    "j = 'what???????!!!!!!!!!'\n",
    "\n",
    "tt = [a,b,c,d,e,f,g,h,i,j]"
   ]
  },
  {
   "cell_type": "code",
   "execution_count": 25,
   "id": "0fb8cb0e",
   "metadata": {
    "ExecuteTime": {
     "end_time": "2021-10-24T22:15:40.325398Z",
     "start_time": "2021-10-24T22:15:40.310214Z"
    }
   },
   "outputs": [
    {
     "name": "stdout",
     "output_type": "stream",
     "text": [
      "len: 20|257 najlepszy moment|\n",
      "len: 0||\n",
      "len: 93|stara ''sowiecka szkola'' zaczynam sie zastanawiac czy mozna by ich legalnie zdelegalizowac ?|\n",
      "len: 84|Dobrze. Szkoda, że InPost nie precyzuje co oznacza, że dostarcza przesyłkę \"OD RANA\"|\n",
      "len: 7|asd asd|\n",
      "len: 23|łączńie ćma grzegżźółka|\n",
      "len: 78|Bardzo przyjazny klientom sklep. Realizuje, wszystkie zamówienai takie - takie|\n",
      "len: 30|Szanowni Państwo, ODRADZAM !!!|\n",
      "len: 30|Szanowni Państwo, ODRADZAM !!!|\n",
      "len: 20|what???????!!!!!!!!!|\n"
     ]
    }
   ],
   "source": [
    "\n",
    "\n",
    "for s in tt:\n",
    "    c = re.sub(special, ' ', s)\n",
    "    c = re.sub(alpha, '', c)\n",
    "    c = re.sub('\\s+', ' ', c)\n",
    "    c = c.strip()\n",
    "    print(f\"len: {len(c)}|{c}|\")"
   ]
  },
  {
   "cell_type": "markdown",
   "id": "934f5a19",
   "metadata": {},
   "source": [
    "## frequency of tokens"
   ]
  },
  {
   "cell_type": "code",
   "execution_count": 38,
   "id": "42caa8b4",
   "metadata": {
    "ExecuteTime": {
     "end_time": "2021-10-26T21:52:12.889952Z",
     "start_time": "2021-10-26T21:52:12.877816Z"
    }
   },
   "outputs": [],
   "source": [
    "from collections import defaultdict"
   ]
  },
  {
   "cell_type": "code",
   "execution_count": 39,
   "id": "ef032da3",
   "metadata": {
    "ExecuteTime": {
     "end_time": "2021-10-26T21:52:16.263266Z",
     "start_time": "2021-10-26T21:52:13.336799Z"
    }
   },
   "outputs": [],
   "source": [
    "frequency = defaultdict(int)\n",
    "for text in data['tokens']:\n",
    "    for token in text:\n",
    "        frequency[token] += 1"
   ]
  },
  {
   "cell_type": "code",
   "execution_count": 40,
   "id": "2b3b8361",
   "metadata": {
    "ExecuteTime": {
     "end_time": "2021-10-26T21:52:20.432123Z",
     "start_time": "2021-10-26T21:52:20.359681Z"
    }
   },
   "outputs": [
    {
     "data": {
      "text/plain": [
       "defaultdict(int,\n",
       "            {'polecam': 315905,\n",
       "             'nie': 172775,\n",
       "             'pierwszy': 10598,\n",
       "             'i': 398206,\n",
       "             'ostatni': 3423,\n",
       "             'raz': 28057,\n",
       "             'bardzo': 252797,\n",
       "             'dobra': 28714,\n",
       "             'komunikacja': 3123,\n",
       "             'sms': 2372,\n",
       "             'telefoniczna': 1045,\n",
       "             'zamówiony': 4361,\n",
       "             'towar': 83812,\n",
       "             'wysłany': 1749,\n",
       "             'w': 315221,\n",
       "             'terminie': 4839,\n",
       "             'dobrze': 32991,\n",
       "             'zabezpieczony': 3448,\n",
       "             'ten': 26560,\n",
       "             'sklep': 128962,\n",
       "             'zakupy': 56549,\n",
       "             'tym': 46192,\n",
       "             'sklepie': 41588,\n",
       "             'są': 20369,\n",
       "             'dostępne': 1703,\n",
       "             'części': 5887,\n",
       "             'nawet': 13004,\n",
       "             'do': 93989,\n",
       "             'starszych': 154,\n",
       "             'modeli': 285,\n",
       "             'np': 2586,\n",
       "             'lodówek': 14,\n",
       "             'jestem': 78910,\n",
       "             'pełni': 3115,\n",
       "             'zadowolona': 51508,\n",
       "             'z': 240630,\n",
       "             'przebiegu': 1431,\n",
       "             'transakcji': 5437,\n",
       "             'transakcja': 45102,\n",
       "             'przebiegła': 25507,\n",
       "             'błyskawicznie': 7207,\n",
       "             'pełen': 8577,\n",
       "             'profesjonalizm': 12606,\n",
       "             'wszystkim': 21265,\n",
       "             'obsługa': 95065,\n",
       "             'godna': 4158,\n",
       "             'polecenia': 26495,\n",
       "             'innym': 4241,\n",
       "             'klientom': 679,\n",
       "             'tranzakcja': 1217,\n",
       "             'szybko': 132690,\n",
       "             'bezproblemowo': 14239,\n",
       "             'czas': 20572,\n",
       "             'realizacji': 22097,\n",
       "             'poziom': 2413,\n",
       "             'zapakowania': 1081,\n",
       "             'paczki': 3350,\n",
       "             'wzorcowo': 345,\n",
       "             'wszystko': 114579,\n",
       "             'sprawnie': 80236,\n",
       "             'przebiegała': 371,\n",
       "             'b': 3993,\n",
       "             'produkt': 18203,\n",
       "             'ok': 31697,\n",
       "             'przesyłka': 43729,\n",
       "             'mimo': 5415,\n",
       "             'iż': 1710,\n",
       "             'za': 48569,\n",
       "             'pierwszym': 790,\n",
       "             'razem': 7080,\n",
       "             'odebrałam': 870,\n",
       "             'przesyłki': 12104,\n",
       "             'paczkomatu': 830,\n",
       "             'wróciła': 67,\n",
       "             'ona': 2863,\n",
       "             'sprzedawcy': 1143,\n",
       "             'to': 139799,\n",
       "             'wysłał': 254,\n",
       "             'mi': 22567,\n",
       "             'ponownie': 2670,\n",
       "             'przesyłkę': 5623,\n",
       "             'bez': 62555,\n",
       "             'dodatkowych': 1122,\n",
       "             'opłat': 639,\n",
       "             'p': 2079,\n",
       "             'o': 53872,\n",
       "             'l': 584,\n",
       "             'e': 5300,\n",
       "             'c': 845,\n",
       "             'a': 62856,\n",
       "             'm': 1055,\n",
       "             'dobry': 44991,\n",
       "             'kontakt': 45036,\n",
       "             'ze': 36246,\n",
       "             'sklepem': 5722,\n",
       "             'szybka': 192250,\n",
       "             'wysyłka': 64225,\n",
       "             'następnego': 4859,\n",
       "             'dnia': 9541,\n",
       "             'po': 47569,\n",
       "             'wpłacie': 215,\n",
       "             'miałem': 3181,\n",
       "             'zamawiałem': 1413,\n",
       "             'szybę': 38,\n",
       "             'piekarnika': 127,\n",
       "             'była': 9319,\n",
       "             'dokładnie': 4062,\n",
       "             'zabezpieczona': 3101,\n",
       "             'miło': 3994,\n",
       "             'jak': 111862,\n",
       "             'zdarzy': 62,\n",
       "             'się': 93382,\n",
       "             'błąd': 1023,\n",
       "             'reklamacje': 527,\n",
       "             'załatwiają': 72,\n",
       "             'od': 31796,\n",
       "             'ręki': 1002,\n",
       "             'problemów': 22621,\n",
       "             'pomyślnie': 13298,\n",
       "             'rzetelna': 4580,\n",
       "             'konkretna': 830,\n",
       "             'elastyczna': 51,\n",
       "             'wyrozumiała': 41,\n",
       "             'dla': 24686,\n",
       "             'decyzji': 216,\n",
       "             'kupującego': 381,\n",
       "             'razie': 2938,\n",
       "             'potrzeby': 757,\n",
       "             'będę': 8983,\n",
       "             'tam': 7842,\n",
       "             'wracał': 167,\n",
       "             'zachęcam': 553,\n",
       "             'innych': 6425,\n",
       "             'dostałem': 3278,\n",
       "             'częściach': 67,\n",
       "             'złożenia': 1660,\n",
       "             'jeszcze': 22382,\n",
       "             'wybrakowany': 27,\n",
       "             'miał': 2865,\n",
       "             'być': 13472,\n",
       "             'zawór': 9,\n",
       "             'gotowy': 728,\n",
       "             'montażu': 213,\n",
       "             'reklamacji': 2098,\n",
       "             'obiecano': 105,\n",
       "             'wymianę': 283,\n",
       "             'ciągu': 3841,\n",
       "             'czterech': 158,\n",
       "             'dni': 11831,\n",
       "             'roboczych': 859,\n",
       "             'ale': 41165,\n",
       "             'tak': 36785,\n",
       "             'różowo': 8,\n",
       "             'już': 34291,\n",
       "             'było': 16715,\n",
       "             'czasie': 4462,\n",
       "             'info': 1100,\n",
       "             'że': 59991,\n",
       "             'pomylono': 51,\n",
       "             'znowu': 1361,\n",
       "             'czekam': 1814,\n",
       "             'magiczne': 7,\n",
       "             'cztery': 221,\n",
       "             'robocze': 519,\n",
       "             'tragedia': 514,\n",
       "             'co': 47237,\n",
       "             'mnie': 29082,\n",
       "             'zachwyciło': 3,\n",
       "             'przede': 2789,\n",
       "             'łatwość': 1482,\n",
       "             'wyszukiwaniu': 56,\n",
       "             'produktów': 17723,\n",
       "             'na': 173409,\n",
       "             'stronie': 7162,\n",
       "             'internetowej': 2219,\n",
       "             'mając': 240,\n",
       "             'wcześniej': 3074,\n",
       "             'żadnego': 1591,\n",
       "             'doświadczenia': 213,\n",
       "             'wybieraniu': 16,\n",
       "             'zawiasów': 23,\n",
       "             'zabudowie': 7,\n",
       "             'łatwością': 126,\n",
       "             'wyszukałem': 15,\n",
       "             'dedykowany': 6,\n",
       "             'mojego': 2943,\n",
       "             'sprzętu': 2241,\n",
       "             'nastąpiła': 357,\n",
       "             'dokonaniu': 349,\n",
       "             'przelewu': 519,\n",
       "             'zgodny': 43048,\n",
       "             'opisem': 42400,\n",
       "             'zgodnie': 16797,\n",
       "             'zamówieniem': 20727,\n",
       "             'bezproblemowa': 6895,\n",
       "             'zamówienie': 30467,\n",
       "             'zrealizowane': 11006,\n",
       "             'firma': 5531,\n",
       "             'plus': 5926,\n",
       "             'super': 73526,\n",
       "             'prawidłowo': 1268,\n",
       "             'igły': 21,\n",
       "             'dotarły': 1376,\n",
       "             'dobrej': 9892,\n",
       "             'jakości': 13231,\n",
       "             'zamienniki': 138,\n",
       "             'przystało': 51,\n",
       "             'były': 6461,\n",
       "             'bezpiecznie': 2789,\n",
       "             'zapakowane': 10956,\n",
       "             'więc': 6960,\n",
       "             'mogę': 7191,\n",
       "             'dalej': 3711,\n",
       "             'skreczować': 2,\n",
       "             'pozdrawiam': 10949,\n",
       "             'zrobiona': 156,\n",
       "             'strona': 5299,\n",
       "             'internetowa': 4678,\n",
       "             'łatwo': 2829,\n",
       "             'znaleźć': 2322,\n",
       "             'proces': 999,\n",
       "             'zamówienia': 76376,\n",
       "             'dokonania': 330,\n",
       "             'zapłaty': 847,\n",
       "             'żadnych': 13453,\n",
       "             'terminowe': 177,\n",
       "             'dostarczenie': 1456,\n",
       "             'przez': 16009,\n",
       "             'kuriera': 2529,\n",
       "             'procesjonalnie': 6,\n",
       "             'tanio': 13186,\n",
       "             'każdej': 911,\n",
       "             'postaci': 602,\n",
       "             'zainteresowanym': 535,\n",
       "             'reklamacja': 942,\n",
       "             'rowniez': 413,\n",
       "             'rozpatrzona': 162,\n",
       "             'pozytywnie': 6097,\n",
       "             'profesjonalna': 25470,\n",
       "             'najbardziej': 13035,\n",
       "             'profesjonalnie': 20452,\n",
       "             'przed': 8277,\n",
       "             'zakupem': 800,\n",
       "             'udzielono': 91,\n",
       "             'informacji': 4081,\n",
       "             'czy': 14629,\n",
       "             'płyta': 394,\n",
       "             'zasilania': 15,\n",
       "             'jest': 68724,\n",
       "             'zaprogramowana': 3,\n",
       "             'godny': 21714,\n",
       "             'plecenia': 36,\n",
       "             'błyskawiczna': 30146,\n",
       "             'kupującym': 1061,\n",
       "             'pełna': 2955,\n",
       "             'profeska': 450,\n",
       "             'zadowolony': 16069,\n",
       "             'deklaracją': 97,\n",
       "             'oczekiwaniem': 853,\n",
       "             'potwierdzeniem': 159,\n",
       "             'kupuje': 2602,\n",
       "             'potrzebje': 3,\n",
       "             'zwykle': 13756,\n",
       "             'oryginalne': 1004,\n",
       "             'cenie': 9414,\n",
       "             'wysokim': 3542,\n",
       "             'poziomie': 11184,\n",
       "             'strony': 3861,\n",
       "             'gorąco': 23833,\n",
       "             'zakupu': 11732,\n",
       "             'przebiegło': 7599,\n",
       "             'zarzutu': 8448,\n",
       "             'dotarło': 1402,\n",
       "             'niecały': 30,\n",
       "             'tydzień': 1772,\n",
       "             'tego': 27656,\n",
       "             'pisało': 61,\n",
       "             '2': 10151,\n",
       "             '3': 7874,\n",
       "             'tygodnie': 991,\n",
       "             'miłe': 1057,\n",
       "             'zaskoczenie': 625,\n",
       "             'kontrahenta': 108,\n",
       "             'realizacja': 74926,\n",
       "             'należy': 2629,\n",
       "             'zastrzeżeń': 14929,\n",
       "             'pomyliłem': 74,\n",
       "             'produkty': 19107,\n",
       "             'pozwolono': 15,\n",
       "             'je': 3645,\n",
       "             'wymienić': 370,\n",
       "             'analogicznie': 4,\n",
       "             'ustawy': 172,\n",
       "             'konsumenckiej': 14,\n",
       "             'zakup': 16756,\n",
       "             'działalność': 149,\n",
       "             'gospodarczą': 17,\n",
       "             'elastyczne': 71,\n",
       "             'podejście': 4731,\n",
       "             'sprawna': 22672,\n",
       "             'dośc': 48,\n",
       "             'długo': 2804,\n",
       "             'czekałem': 934,\n",
       "             'żaden': 511,\n",
       "             'sposób': 4857,\n",
       "             'wina': 1054,\n",
       "             'sklepu': 23957,\n",
       "             'między': 613,\n",
       "             'byłem': 1879,\n",
       "             'informowany': 822,\n",
       "             'problemach': 99,\n",
       "             'możliwości': 2944,\n",
       "             'ew': 112,\n",
       "             'rezygnacji': 107,\n",
       "             'duży': 26491,\n",
       "             'fachowa': 7170,\n",
       "             'odpowiedź': 1759,\n",
       "             'zapytanie': 396,\n",
       "             'interesujące': 276,\n",
       "             'równie': 515,\n",
       "             'dokonanej': 73,\n",
       "             'przedpłacie': 28,\n",
       "             'zabezpieczonego': 12,\n",
       "             'dostawy': 9790,\n",
       "             'towaru': 16711,\n",
       "             'przyjemnością': 3836,\n",
       "             'skorzystam': 6975,\n",
       "             'usług': 7642,\n",
       "             'opisie': 2156,\n",
       "             'pomogła': 165,\n",
       "             'wybrać': 725,\n",
       "             'odpowiedni': 287,\n",
       "             'infolinią': 239,\n",
       "             'zawsze': 35920,\n",
       "             'znajdę': 523,\n",
       "             'potrzeba': 691,\n",
       "             'pomoc': 2800,\n",
       "             'doborze': 399,\n",
       "             'odpowiedniego': 259,\n",
       "             'zadziałało': 62,\n",
       "             'problemu': 8999,\n",
       "             'miła': 20759,\n",
       "             'wyczerpująca': 235,\n",
       "             'informacja': 10218,\n",
       "             'zamówionym': 509,\n",
       "             'dostawa': 65171,\n",
       "             'czwartek': 1680,\n",
       "             'późnym': 216,\n",
       "             'wieczorem': 1650,\n",
       "             'sobotę': 1209,\n",
       "             'rano': 2126,\n",
       "             'był': 12084,\n",
       "             'u': 10568,\n",
       "             'trochę': 5731,\n",
       "             'kłopotu': 245,\n",
       "             'zapłatą': 67,\n",
       "             'przelewem': 520,\n",
       "             'terminowym': 5,\n",
       "             'jednostki': 56,\n",
       "             'samorządowej': 3,\n",
       "             'ogarnęliśmy': 2,\n",
       "             'kilku': 4126,\n",
       "             'lat': 9791,\n",
       "             'rewelacyjnie': 1799,\n",
       "             'dziekuje': 1347,\n",
       "             'przebiegla': 1158,\n",
       "             'załatwione': 1579,\n",
       "             '100': 17423,\n",
       "             'rewelacja': 9354,\n",
       "             'kupiłem': 2320,\n",
       "             'doręczenia': 257,\n",
       "             'wyszukiwarka': 602,\n",
       "             'komplikacji': 1515,\n",
       "             'najlepszym': 17395,\n",
       "             'porządku': 27399,\n",
       "             'zamiast': 1809,\n",
       "             'czekać': 1981,\n",
       "             'dostałam': 3715,\n",
       "             'ją': 3287,\n",
       "             'dniach': 3160,\n",
       "             'najważniejsze': 2282,\n",
       "             'działa': 3774,\n",
       "             'jakichkolwiek': 1623,\n",
       "             'kolejny': 16240,\n",
       "             'dokonałem': 687,\n",
       "             'mam': 19168,\n",
       "             'firmy': 2796,\n",
       "             'duże': 1735,\n",
       "             'zaufanie': 404,\n",
       "             'natychmiastowa': 1856,\n",
       "             'kilkanaście': 351,\n",
       "             'godzin': 1684,\n",
       "             'mile': 1709,\n",
       "             'zaskoczony': 1160,\n",
       "             'zarzutów': 2602,\n",
       "             'profesjonalne': 4522,\n",
       "             'klienta': 17931,\n",
       "             'szybkie': 5553,\n",
       "             'płatność': 987,\n",
       "             'skutecznie': 677,\n",
       "             'ekspresowo': 2455,\n",
       "             'paczka': 8768,\n",
       "             'dostarczona': 2545,\n",
       "             'jedynie': 2790,\n",
       "             'opakowanie': 2232,\n",
       "             'zniszczone': 225,\n",
       "             'zawartość': 674,\n",
       "             'szczęście': 1191,\n",
       "             'uszkodzona': 428,\n",
       "             'north': 1805,\n",
       "             'kilka': 5836,\n",
       "             'nigdy': 8386,\n",
       "             'rozczarowaniem': 10,\n",
       "             'jeśli': 5613,\n",
       "             'trzeba': 8104,\n",
       "             'można': 14384,\n",
       "             'przedyskutować': 2,\n",
       "             'problem': 2874,\n",
       "             'doradcą': 65,\n",
       "             'jeżeli': 2374,\n",
       "             'wiesz': 753,\n",
       "             'czym': 2203,\n",
       "             'wybór': 28371,\n",
       "             'błyskawiczne': 863,\n",
       "             'moje': 12018,\n",
       "             'ostatnie': 2815,\n",
       "             'trwało': 546,\n",
       "             '23': 538,\n",
       "             'godziny': 1637,\n",
       "             'fachowość': 282,\n",
       "             'część': 2023,\n",
       "             'zamienna': 53,\n",
       "             'idealnie': 3108,\n",
       "             'pasująca': 15,\n",
       "             'dobrana': 39,\n",
       "             'fachowo': 2143,\n",
       "             'najwyższym': 5875,\n",
       "             'sklepach': 2988,\n",
       "             'potrzebne': 869,\n",
       "             'będą': 2091,\n",
       "             'zepsuło': 29,\n",
       "             'teraz': 6596,\n",
       "             'potrzebowałem': 338,\n",
       "             'niech': 3642,\n",
       "             'pl': 10227,\n",
       "             'mieli': 1265,\n",
       "             'wysłali': 387,\n",
       "             'natychmiast': 865,\n",
       "             'przy': 14585,\n",
       "             'poprzednich': 118,\n",
       "             'transakcjach': 57,\n",
       "             'idealna': 598,\n",
       "             'porada': 247,\n",
       "             'odnośnie': 642,\n",
       "             'wyboru': 1882,\n",
       "             'artykułu': 230,\n",
       "             'serdecznie': 13671,\n",
       "             'przyjemna': 1117,\n",
       "             'śledzenie': 138,\n",
       "             'fajne': 2966,\n",
       "             'innego': 1391,\n",
       "             'punktu': 2822,\n",
       "             'odbioru': 16826,\n",
       "             'dotarła': 5506,\n",
       "             'naprawdę': 8075,\n",
       "             'sprzedawca': 4031,\n",
       "             'bo': 20842,\n",
       "             'drugi': 7677,\n",
       "             'dzień': 9286,\n",
       "             'zapakowana': 6912,\n",
       "             'kartonowe': 75,\n",
       "             'pudełko': 839,\n",
       "             'solidnie': 8003,\n",
       "             'metody': 107,\n",
       "             'płatności': 2115,\n",
       "             'oraz': 12942,\n",
       "             'aplikacji': 50,\n",
       "             'sama': 4394,\n",
       "             'podpowiada': 21,\n",
       "             'pasujące': 65,\n",
       "             'wybranego': 574,\n",
       "             'modelu': 595,\n",
       "             'dotarł': 2642,\n",
       "             'idealnym': 2135,\n",
       "             'stanie': 8633,\n",
       "             'odbyło': 1598,\n",
       "             'zgodne': 10839,\n",
       "             'dziękuję': 8651,\n",
       "             'szczerze': 7323,\n",
       "             'konrakt': 6,\n",
       "             'zostało': 4171,\n",
       "             'paczkę': 2128,\n",
       "             'czekałam': 1317,\n",
       "             'krócej': 93,\n",
       "             'niż': 13962,\n",
       "             '24': 2272,\n",
       "             'zalatwione': 118,\n",
       "             'fahowo': 4,\n",
       "             'czesc': 170,\n",
       "             'przyslana': 5,\n",
       "             'pasowala': 10,\n",
       "             'bezblednie': 15,\n",
       "             'środe': 50,\n",
       "             'nocy': 495,\n",
       "             'zrobione': 417,\n",
       "             'opłacone': 164,\n",
       "             'piatek': 242,\n",
       "             'juz': 5488,\n",
       "             'mialem': 259,\n",
       "             'siebie': 3509,\n",
       "             'doskonała': 2532,\n",
       "             'jakość': 11756,\n",
       "             'szybkości': 2170,\n",
       "             'fachowości': 52,\n",
       "             'obsługi': 13598,\n",
       "             'wzorowa': 1023,\n",
       "             'godz': 1328,\n",
       "             '15': 1901,\n",
       "             'sam': 4597,\n",
       "             'otrzymałem': 3648,\n",
       "             'oczekiwałem': 236,\n",
       "             'grzecznie': 190,\n",
       "             'zostałam': 714,\n",
       "             'poinformowana': 369,\n",
       "             'braku': 956,\n",
       "             'jednak': 6684,\n",
       "             'zrezygnowałam': 104,\n",
       "             'dostawę': 1722,\n",
       "             'niedługim': 44,\n",
       "             'dokładnym': 60,\n",
       "             'zamówione': 3373,\n",
       "             'pasują': 363,\n",
       "             'oczekiwaniami': 2681,\n",
       "             'oryginalny': 952,\n",
       "             'zgodna': 3678,\n",
       "             'świetna': 5956,\n",
       "             'wyszukiwaniem': 18,\n",
       "             'pasujących': 23,\n",
       "             'urządzenia': 361,\n",
       "             'zasługująca': 9,\n",
       "             'uznanie': 148,\n",
       "             'popracować': 184,\n",
       "             'nad': 2048,\n",
       "             'opakowaniem': 67,\n",
       "             'przyniszczone': 3,\n",
       "             'przyjemnie': 2743,\n",
       "             'zadowolenia': 1846,\n",
       "             'same': 2953,\n",
       "             'plusy': 918,\n",
       "             'sprzedawcę': 1123,\n",
       "             'zamówieniu': 4035,\n",
       "             'domówiłem': 6,\n",
       "             'telefonicznie': 928,\n",
       "             'zapomniane': 10,\n",
       "             'akcesoria': 243,\n",
       "             'funkcjonujący': 68,\n",
       "             'dział': 279,\n",
       "             'zamówień': 5959,\n",
       "             'wzór': 286,\n",
       "             'sklepów': 3168,\n",
       "             'cenowo': 955,\n",
       "             'dostępny': 1740,\n",
       "             'chociaż': 2353,\n",
       "             'zrealizowano': 934,\n",
       "             'raty': 696,\n",
       "             'chwilowego': 12,\n",
       "             'ciągła': 65,\n",
       "             'zlecenie': 410,\n",
       "             'wykonane': 787,\n",
       "             'opisana': 92,\n",
       "             'doboru': 105,\n",
       "             'częsci': 84,\n",
       "             'perfekcyjnie': 1354,\n",
       "             'brak': 8255,\n",
       "             'doradztwa': 50,\n",
       "             'reszta': 1094,\n",
       "             'pomyślna': 167,\n",
       "             'według': 1332,\n",
       "             'powinno': 4077,\n",
       "             'przebiega': 1153,\n",
       "             'potencjalnym': 101,\n",
       "             'ekspresowa': 14329,\n",
       "             'cała': 2492,\n",
       "             'szybką': 2615,\n",
       "             'podanym': 533,\n",
       "             'terminem': 1714,\n",
       "             'tyg': 229,\n",
       "             'polecał': 230,\n",
       "             'zmówieniem': 80,\n",
       "             'zdecydowalem': 9,\n",
       "             'sie': 19416,\n",
       "             'cena': 14973,\n",
       "             'plyty': 59,\n",
       "             'mogla': 84,\n",
       "             'by': 11753,\n",
       "             'byc': 1894,\n",
       "             'nizsza': 74,\n",
       "             'poszło': 1846,\n",
       "             'wg': 1259,\n",
       "             'opisu': 480,\n",
       "             'tę': 1435,\n",
       "             'firmę': 976,\n",
       "             'konkretnie': 1625,\n",
       "             'wysłana': 1562,\n",
       "             'szybciej': 2596,\n",
       "             'bym': 8068,\n",
       "             'mógł': 854,\n",
       "             'spodziewać': 257,\n",
       "             'k': 1168,\n",
       "             'szła': 188,\n",
       "             'zrzucić': 29,\n",
       "             'sprzedającego': 572,\n",
       "             'odpowiednio': 1046,\n",
       "             'zapakowany': 10997,\n",
       "             'świetny': 10295,\n",
       "             'wiedziałem': 390,\n",
       "             'każdym': 7883,\n",
       "             'kroku': 492,\n",
       "             'uwagi': 1494,\n",
       "             'jedno': 1373,\n",
       "             'pani': 3905,\n",
       "             'infolinii': 1327,\n",
       "             'mogloby': 30,\n",
       "             'milej': 63,\n",
       "             'obsłudze': 1498,\n",
       "             'one': 1906,\n",
       "             'klientów': 2194,\n",
       "             'nimi': 1252,\n",
       "             'my': 1644,\n",
       "             'mamy': 1558,\n",
       "             'pracują': 301,\n",
       "             'karę': 531,\n",
       "             'coś': 8328,\n",
       "             'zmienić': 534,\n",
       "             'szybki': 8200,\n",
       "             'termin': 3474,\n",
       "             'powinna': 1793,\n",
       "             'wyglądać': 375,\n",
       "             'internecie': 1682,\n",
       "             'prowadzę': 22,\n",
       "             'internetowy': 6685,\n",
       "             'chęcią': 508,\n",
       "             'skopiuję': 3,\n",
       "             'punktów': 901,\n",
       "             'waszej': 530,\n",
       "             'porządnie': 1535,\n",
       "             'wspaniale': 379,\n",
       "             'dzięki': 3131,\n",
       "             'wspołpracy': 8,\n",
       "             'waszym': 1052,\n",
       "             'konsultantem': 406,\n",
       "             'wysyła': 686,\n",
       "             'wybrałem': 659,\n",
       "             'pasującą': 9,\n",
       "             'grzałkę': 87,\n",
       "             'serwisie': 375,\n",
       "             'www': 758,\n",
       "             'znając': 96,\n",
       "             'częściowy': 11,\n",
       "             'symbol': 56,\n",
       "             'pralki': 790,\n",
       "             'mogłem': 1265,\n",
       "             'drogi': 411,\n",
       "             'oryginał': 106,\n",
       "             'lub': 4182,\n",
       "             'jeden': 5343,\n",
       "             'dwóch': 2210,\n",
       "             'tańszych': 154,\n",
       "             '70': 175,\n",
       "             'zamienników': 199,\n",
       "             'ponadto': 729,\n",
       "             'technicy': 2,\n",
       "             'przygotowali': 14,\n",
       "             'szczegółowy': 122,\n",
       "             'video': 176,\n",
       "             'poradnik': 31,\n",
       "             'jutubie': 14,\n",
       "             'otworzyć': 122,\n",
       "             'złożyć': 372,\n",
       "             'pralkę': 399,\n",
       "             'grząłkę': 2,\n",
       "             'no': 8573,\n",
       "             'moc': 148,\n",
       "             'kompletnie': 346,\n",
       "             'asortymentu': 2188,\n",
       "             'oczekiwania': 5949,\n",
       "             'psuje': 101,\n",
       "             'ogólne': 135,\n",
       "             'wrażenie': 1004,\n",
       "             'wysylka': 5098,\n",
       "             'sprawny': 2085,\n",
       "             'serwis': 991,\n",
       "             'problemow': 1349,\n",
       "             'zrealizowana': 1917,\n",
       "             'polecić': 3634,\n",
       "             'poszukiwania': 97,\n",
       "             'odpowiedniej': 200,\n",
       "             'starej': 141,\n",
       "             'lodówki': 600,\n",
       "             'zakończone': 47,\n",
       "             'sukcesem': 85,\n",
       "             'sprawne': 1616,\n",
       "             'pytanie': 1240,\n",
       "             'odpowiedz': 581,\n",
       "             'przejrzysty': 943,\n",
       "             'ja': 20417,\n",
       "             'kupowałam': 1484,\n",
       "             'opis': 2200,\n",
       "             'produktu': 8198,\n",
       "             'pozostawiał': 4,\n",
       "             'wątpliwości': 736,\n",
       "             'model': 554,\n",
       "             'ogromnie': 295,\n",
       "             'pomocny': 358,\n",
       "             'okazał': 516,\n",
       "             'filmik': 844,\n",
       "             'tej': 15610,\n",
       "             'temu': 2807,\n",
       "             'obyło': 76,\n",
       "             'fachowców': 37,\n",
       "             'idzie': 895,\n",
       "             'kosztów': 1586,\n",
       "             'wart': 628,\n",
       "             'obszarze': 24,\n",
       "             'działania': 692,\n",
       "             'treściwie': 19,\n",
       "             'wyświetlany': 7,\n",
       "             'fikcja': 52,\n",
       "             'opóźnione': 44,\n",
       "             'dwa': 3768,\n",
       "             'poza': 4436,\n",
       "             'napotkałem': 35,\n",
       "             'zgrabnie': 56,\n",
       "             'znaleziono': 30,\n",
       "             'zamiennik': 175,\n",
       "             'poszukiwanej': 68,\n",
       "             'poleciłbym': 108,\n",
       "             'komuś': 536,\n",
       "             'innemu': 54,\n",
       "             'uwag': 2283,\n",
       "             'niesłychanie': 15,\n",
       "             'zamowienie': 2307,\n",
       "             'chętnie': 2493,\n",
       "             'planowane': 46,\n",
       "             'rozczarowany': 81,\n",
       "             'filmem': 253,\n",
       "             'pokazującym': 2,\n",
       "             'wymiany': 841,\n",
       "             'grzałki': 51,\n",
       "             'pralce': 73,\n",
       "             'nierzetelny': 22,\n",
       "             'prowadzający': 2,\n",
       "             'zasugerowałem': 3,\n",
       "             'wymianie': 137,\n",
       "             'straciłem': 225,\n",
       "             'godzinę': 365,\n",
       "             'bzdurny': 4,\n",
       "             'film': 1684,\n",
       "             'paczkomat': 322,\n",
       "             'firmą': 638,\n",
       "             'współpracuję': 60,\n",
       "             'choć': 2785,\n",
       "             'obecnie': 523,\n",
       "             'mniej': 1475,\n",
       "             'intensywnie': 15,\n",
       "             'usługi': 2177,\n",
       "             'znajomemu': 67,\n",
       "             'byłoby': 1142,\n",
       "             'gdyby': 3165,\n",
       "             'poślizg': 62,\n",
       "             'kurierska': 585,\n",
       "             'nawaliła': 16,\n",
       "             'real': 23,\n",
       "             'foto': 579,\n",
       "             'spotkałem': 362,\n",
       "             'profesjonalną': 565,\n",
       "             'obsługą': 2732,\n",
       "             'realizacją': 666,\n",
       "             'tą': 3749,\n",
       "             'którą': 1390,\n",
       "             'potrzebowałam': 337,\n",
       "             'małą': 262,\n",
       "             'pomyłką': 31,\n",
       "             'korektura': 2,\n",
       "             'pomyłki': 389,\n",
       "             'rozwiązana': 76,\n",
       "             'sprzedawcą': 1062,\n",
       "             'miłkowska': 2,\n",
       "             'przesłany': 207,\n",
       "             'fachowe': 700,\n",
       "             'doradztwo': 1166,\n",
       "             'bylo': 1653,\n",
       "             'rzetelnie': 3115,\n",
       "             'etapie': 3093,\n",
       "             'zdecydowanie': 8489,\n",
       "             'doskonały': 2867,\n",
       "             'rozwiązanie': 408,\n",
       "             'mail': 1871,\n",
       "             'niezwłoczna': 30,\n",
       "             'uczciwie': 478,\n",
       "             'pośród': 77,\n",
       "             'wszystkich': 2914,\n",
       "             'internetowych': 2603,\n",
       "             'cóż': 1038,\n",
       "             'więcej': 7074,\n",
       "             'napisać': 632,\n",
       "             'zadiwolona': 7,\n",
       "             'pewniak': 20,\n",
       "             'zamowienia': 4605,\n",
       "             'wyeliminowało': 2,\n",
       "             'pomyłkę': 156,\n",
       "             'zaoszczędzilem': 3,\n",
       "             '150': 280,\n",
       "             'zł': 3938,\n",
       "             'firmie': 974,\n",
       "             'naprawiając': 7,\n",
       "             'podobno': 541,\n",
       "             'nienaprawialny': 2,\n",
       "             'sprzęt': 3680,\n",
       "             'czystym': 3631,\n",
       "             'sumieniem': 3463,\n",
       "             'przeprowadzona': 2948,\n",
       "             'wzorowo': 1579,\n",
       "             'cześć': 235,\n",
       "             'nowa': 507,\n",
       "             'ładnie': 1799,\n",
       "             'ekspres': 348,\n",
       "             'nowy': 1704,\n",
       "             'zdrowia': 176,\n",
       "             'szczęścia': 144,\n",
       "             'pomyślności': 9,\n",
       "             'wyników': 24,\n",
       "             'sporcie': 16,\n",
       "             'mało': 2143,\n",
       "             'pracy': 1623,\n",
       "             'dużo': 6408,\n",
       "             'kasy': 598,\n",
       "             'uśmiechu': 41,\n",
       "             'sekundzie': 55,\n",
       "             'radości': 114,\n",
       "             'minucie': 70,\n",
       "             'przyjaźni': 16,\n",
       "             'godzinie': 776,\n",
       "             'każdego': 1177,\n",
       "             'miłości': 87,\n",
       "             'całe': 1032,\n",
       "             'życie': 1141,\n",
       "             'wszystkiego': 679,\n",
       "             'najlepszego': 108,\n",
       "             'okazji': 753,\n",
       "             'urodzin': 32,\n",
       "             'życzą': 12,\n",
       "             'jan': 105,\n",
       "             'mirką': 2,\n",
       "             'obsluga': 5997,\n",
       "             'tranaskcja': 3,\n",
       "             'kilkakrotnie': 900,\n",
       "             'skorzystałam': 584,\n",
       "             'uslug': 443,\n",
       "             'najmniejszych': 2142,\n",
       "             'wysyłki': 5182,\n",
       "             'względu': 2266,\n",
       "             'szybkość': 5602,\n",
       "             'dostarczenia': 1764,\n",
       "             'trzecie': 273,\n",
       "             'konsultant': 360,\n",
       "             'pomógł': 268,\n",
       "             'wyborze': 640,\n",
       "             'właściwego': 97,\n",
       "             'sznura': 5,\n",
       "             'trazakcja': 7,\n",
       "             'wręcz': 1197,\n",
       "             'zakupiona': 207,\n",
       "             'pracuje': 389,\n",
       "             'szkoda': 6213,\n",
       "             'inpost': 484,\n",
       "             'precyzuje': 4,\n",
       "             'oznacza': 307,\n",
       "             'dostarcza': 220,\n",
       "             'rana': 238,\n",
       "             'prokuktu': 2,\n",
       "             'każda': 576,\n",
       "             'inna': 523,\n",
       "             'płace': 50,\n",
       "             'mówią': 772,\n",
       "             'wiem': 5657,\n",
       "             'czego': 5980,\n",
       "             'oczekujecie': 9,\n",
       "             'chcecie': 453,\n",
       "             'wiedzieć': 317,\n",
       "             'ile': 1972,\n",
       "             'diabłów': 3,\n",
       "             'mieści': 156,\n",
       "             'łepku': 2,\n",
       "             'szpilki': 95,\n",
       "             'teologów': 3,\n",
       "             'przybycia': 15,\n",
       "             'został': 2909,\n",
       "             'dostarczony': 4485,\n",
       "             'filtr': 89,\n",
       "             'pasował': 151,\n",
       "             'innej': 692,\n",
       "             'marki': 550,\n",
       "             'sympatyczna': 1076,\n",
       "             'kabel': 118,\n",
       "             'niestety': 6848,\n",
       "             'mojej': 2794,\n",
       "             'musiałem': 1251,\n",
       "             'zwrócić': 969,\n",
       "             'zwrot': 5232,\n",
       "             'bezproblemowy': 2843,\n",
       "             'mój': 8742,\n",
       "             'podstawowy': 29,\n",
       "             'skarbiec': 3,\n",
       "             'zamiennych': 701,\n",
       "             'długi': 2280,\n",
       "             'przyszło': 871,\n",
       "             'planowanym': 185,\n",
       "             'profesjonalnej': 317,\n",
       "             'sprzedawców': 346,\n",
       "             'tani': 1082,\n",
       "             'użytkuję': 11,\n",
       "             'krótko': 638,\n",
       "             'nadzieję': 1624,\n",
       "             'cieszyć': 192,\n",
       "             'jego': 4647,\n",
       "             'dobrą': 1377,\n",
       "             'jakością': 552,\n",
       "             'musiała': 293,\n",
       "             'sprawdzać': 179,\n",
       "             'również': 6125,\n",
       "             'też': 8490,\n",
       "             'załatwiane': 203,\n",
       "             'zamówionego': 1895,\n",
       "             'sprzedawce': 197,\n",
       "             'polecę': 912,\n",
       "             'go': 8696,\n",
       "             'nadal': 2192,\n",
       "             'kupować': 2699,\n",
       "             'miało': 901,\n",
       "             'trzy': 964,\n",
       "             'doszło': 598,\n",
       "             'spodziewałem': 530,\n",
       "             'dałbym': 97,\n",
       "             '6': 2414,\n",
       "             'szczegółową': 11,\n",
       "             'informacją': 1415,\n",
       "             'pomogli': 171,\n",
       "             'dobrać': 164,\n",
       "             'tv': 856,\n",
       "             'otrzymany': 305,\n",
       "             'sprawdzona': 161,\n",
       "             'kurierze': 107,\n",
       "             'przyjrmna': 2,\n",
       "             'pomocna': 1666,\n",
       "             'określonym': 239,\n",
       "             'rozejrzeć': 3,\n",
       "             'inną': 324,\n",
       "             'kurierską': 376,\n",
       "             'przynajmniej': 1193,\n",
       "             'bydgoszczy': 59,\n",
       "             'jakiś': 2402,\n",
       "             'jednej': 1179,\n",
       "             'sieciówek': 17,\n",
       "             'odkurzacz': 339,\n",
       "             'którego': 1819,\n",
       "             'chciałem': 1091,\n",
       "             'kupić': 2306,\n",
       "             'nowe': 1066,\n",
       "             'filtry': 96,\n",
       "             'wszyscy': 2019,\n",
       "             'rozkładali': 4,\n",
       "             'ręce': 494,\n",
       "             'ma': 20682,\n",
       "             'da': 2038,\n",
       "             'nikt': 2782,\n",
       "             'sprowadza': 46,\n",
       "             'oficjalny': 16,\n",
       "             'przedstawiciel': 48,\n",
       "             'polskę': 658,\n",
       "             'poinformował': 282,\n",
       "             'oni': 3862,\n",
       "             'wprowadzali': 10,\n",
       "             'oficjalnie': 104,\n",
       "             'sieciówce': 8,\n",
       "             'terenie': 245,\n",
       "             'polski': 2148,\n",
       "             'tylko': 26078,\n",
       "             'zły': 403,\n",
       "             'niemiec': 336,\n",
       "             'trafiłem': 301,\n",
       "             'stronę': 1097,\n",
       "             'telefon': 1901,\n",
       "             'rozmowa': 292,\n",
       "             'pasować': 55,\n",
       "             'odebrałem': 1317,\n",
       "             'paczkomacie': 950,\n",
       "             'proponuj': 3,\n",
       "             'optymalizację': 2,\n",
       "             'pakowania': 581,\n",
       "             ...})"
      ]
     },
     "execution_count": 40,
     "metadata": {},
     "output_type": "execute_result"
    }
   ],
   "source": [
    "frequency"
   ]
  },
  {
   "cell_type": "code",
   "execution_count": 41,
   "id": "42391963",
   "metadata": {
    "ExecuteTime": {
     "end_time": "2021-10-26T21:54:20.186874Z",
     "start_time": "2021-10-26T21:54:20.076751Z"
    }
   },
   "outputs": [
    {
     "data": {
      "text/plain": [
       "[('i', 398206),\n",
       " ('polecam', 315905),\n",
       " ('w', 315221),\n",
       " ('bardzo', 252797),\n",
       " ('z', 240630),\n",
       " ('szybka', 192250),\n",
       " ('na', 173409),\n",
       " ('nie', 172775),\n",
       " ('to', 139799),\n",
       " ('szybko', 132690),\n",
       " ('sklep', 128962),\n",
       " ('wszystko', 114579),\n",
       " ('jak', 111862),\n",
       " ('obsługa', 95065),\n",
       " ('do', 93989),\n",
       " ('się', 93382),\n",
       " ('towar', 83812),\n",
       " ('sprawnie', 80236),\n",
       " ('jestem', 78910),\n",
       " ('ceny', 77569),\n",
       " ('zamówienia', 76376),\n",
       " ('realizacja', 74926),\n",
       " ('super', 73526),\n",
       " ('jest', 68724),\n",
       " ('dostawa', 65171),\n",
       " ('wysyłka', 64225),\n",
       " ('a', 62856),\n",
       " ('bez', 62555),\n",
       " ('że', 59991),\n",
       " ('zakupy', 56549),\n",
       " ('o', 53872),\n",
       " ('zadowolona', 51508),\n",
       " ('za', 48569),\n",
       " ('po', 47569),\n",
       " ('co', 47237),\n",
       " ('tym', 46192),\n",
       " ('transakcja', 45102),\n",
       " ('kontakt', 45036),\n",
       " ('dobry', 44991),\n",
       " ('przesyłka', 43729),\n",
       " ('zgodny', 43048),\n",
       " ('opisem', 42400),\n",
       " ('sklepie', 41588),\n",
       " ('ale', 41165),\n",
       " ('tak', 36785),\n",
       " ('ze', 36246),\n",
       " ('zawsze', 35920),\n",
       " ('już', 34291),\n",
       " ('dobrze', 32991),\n",
       " ('od', 31796),\n",
       " ('ok', 31697),\n",
       " ('zamówienie', 30467),\n",
       " ('błyskawiczna', 30146),\n",
       " ('mnie', 29082),\n",
       " ('dobra', 28714),\n",
       " ('wybór', 28371),\n",
       " ('raz', 28057),\n",
       " ('tego', 27656),\n",
       " ('porządku', 27399),\n",
       " ('ten', 26560),\n",
       " ('polecenia', 26495),\n",
       " ('duży', 26491),\n",
       " ('tylko', 26078),\n",
       " ('przebiegła', 25507),\n",
       " ('profesjonalna', 25470),\n",
       " ('dla', 24686),\n",
       " ('sklepu', 23957),\n",
       " ('gorąco', 23833),\n",
       " ('sprawna', 22672),\n",
       " ('problemów', 22621),\n",
       " ('mi', 22567),\n",
       " ('jeszcze', 22382),\n",
       " ('realizacji', 22097),\n",
       " ('godny', 21714),\n",
       " ('wszystkim', 21265),\n",
       " ('dobre', 20849),\n",
       " ('bo', 20842),\n",
       " ('miła', 20759),\n",
       " ('zamówieniem', 20727),\n",
       " ('ma', 20682),\n",
       " ('czas', 20572),\n",
       " ('profesjonalnie', 20452),\n",
       " ('ja', 20417),\n",
       " ('są', 20369),\n",
       " ('sie', 19416),\n",
       " ('mam', 19168),\n",
       " ('produkty', 19107),\n",
       " ('produkt', 18203),\n",
       " ('zakupów', 17962),\n",
       " ('klienta', 17931),\n",
       " ('produktów', 17723),\n",
       " ('100', 17423),\n",
       " ('najlepszym', 17395),\n",
       " ('odbioru', 16826),\n",
       " ('zgodnie', 16797),\n",
       " ('zakup', 16756),\n",
       " ('było', 16715),\n",
       " ('towaru', 16711),\n",
       " ('kolejny', 16240),\n",
       " ('zadowolony', 16069),\n",
       " ('przez', 16009),\n",
       " ('tej', 15610),\n",
       " ('buty', 15071),\n",
       " ('cena', 14973),\n",
       " ('zastrzeżeń', 14929),\n",
       " ('czy', 14629),\n",
       " ('przy', 14585),\n",
       " ('można', 14384),\n",
       " ('ekspresowa', 14329),\n",
       " ('apteka', 14302),\n",
       " ('bezproblemowo', 14239),\n",
       " ('tu', 14065),\n",
       " ('niż', 13962),\n",
       " ('pewno', 13900),\n",
       " ('zwykle', 13756),\n",
       " ('serdecznie', 13671),\n",
       " ('obsługi', 13598),\n",
       " ('być', 13472),\n",
       " ('żadnych', 13453),\n",
       " ('asortyment', 13432),\n",
       " ('pomyślnie', 13298),\n",
       " ('jakości', 13231),\n",
       " ('tanio', 13186),\n",
       " ('najbardziej', 13035),\n",
       " ('nawet', 13004),\n",
       " ('oraz', 12942),\n",
       " ('konkurencyjne', 12888),\n",
       " ('profesjonalizm', 12606),\n",
       " ('przesyłki', 12104),\n",
       " ('był', 12084),\n",
       " ('moje', 12018),\n",
       " ('dni', 11831),\n",
       " ('jakość', 11756),\n",
       " ('by', 11753),\n",
       " ('zakupu', 11732),\n",
       " ('nic', 11454),\n",
       " ('ich', 11296),\n",
       " ('poziomie', 11184),\n",
       " ('aptece', 11108),\n",
       " ('zrealizowane', 11006),\n",
       " ('zapakowany', 10997),\n",
       " ('zapakowane', 10956),\n",
       " ('pozdrawiam', 10949),\n",
       " ('zgodne', 10839),\n",
       " ('pierwszy', 10598),\n",
       " ('u', 10568),\n",
       " ('świetny', 10295),\n",
       " ('pl', 10227),\n",
       " ('informacja', 10218),\n",
       " ('2', 10151),\n",
       " ('dobrej', 9892),\n",
       " ('lat', 9791),\n",
       " ('dostawy', 9790),\n",
       " ('niskie', 9621),\n",
       " ('dnia', 9541),\n",
       " ('kurwa', 9417),\n",
       " ('cenie', 9414),\n",
       " ('odbiór', 9357),\n",
       " ('rewelacja', 9354),\n",
       " ('była', 9319),\n",
       " ('dzień', 9286),\n",
       " ('te', 9223),\n",
       " ('problemu', 8999),\n",
       " ('będę', 8983),\n",
       " ('paczka', 8768),\n",
       " ('mój', 8742),\n",
       " ('go', 8696),\n",
       " ('dziękuję', 8651),\n",
       " ('atrakcyjne', 8637),\n",
       " ('stanie', 8633),\n",
       " ('pełen', 8577),\n",
       " ('no', 8573),\n",
       " ('książki', 8550),\n",
       " ('też', 8490),\n",
       " ('zdecydowanie', 8489),\n",
       " ('zarzutu', 8448),\n",
       " ('takie', 8431),\n",
       " ('nigdy', 8386),\n",
       " ('coś', 8328),\n",
       " ('przed', 8277),\n",
       " ('brak', 8255),\n",
       " ('szybki', 8200),\n",
       " ('produktu', 8198),\n",
       " ('może', 8187),\n",
       " ('trzeba', 8104),\n",
       " ('naprawdę', 8075),\n",
       " ('bym', 8068),\n",
       " ('pod', 8048),\n",
       " ('solidnie', 8003),\n",
       " ('szeroki', 7912),\n",
       " ('każdym', 7883),\n",
       " ('3', 7874),\n",
       " ('tam', 7842),\n",
       " ('cenach', 7775),\n",
       " ('drugi', 7677),\n",
       " ('usług', 7642),\n",
       " ('przebiegło', 7599),\n",
       " ('kolejne', 7540),\n",
       " ('szczerze', 7323),\n",
       " ('będzie', 7293),\n",
       " ('xd', 7225),\n",
       " ('sobie', 7221),\n",
       " ('błyskawicznie', 7207),\n",
       " ('mogę', 7191),\n",
       " ('fachowa', 7170),\n",
       " ('stronie', 7162),\n",
       " ('razem', 7080),\n",
       " ('kupuję', 7079),\n",
       " ('więcej', 7074),\n",
       " ('skorzystam', 6975),\n",
       " ('więc', 6960),\n",
       " ('zapakowana', 6912),\n",
       " ('bezproblemowa', 6895),\n",
       " ('chyba', 6865),\n",
       " ('ta', 6860),\n",
       " ('niestety', 6848),\n",
       " ('żeby', 6731),\n",
       " ('internetowy', 6685),\n",
       " ('jednak', 6684),\n",
       " ('teraz', 6596),\n",
       " ('możliwość', 6537),\n",
       " ('który', 6526),\n",
       " ('przystępne', 6509),\n",
       " ('kto', 6488),\n",
       " ('mają', 6478),\n",
       " ('były', 6461),\n",
       " ('empik', 6427),\n",
       " ('innych', 6425),\n",
       " ('dużo', 6408),\n",
       " ('wszystkie', 6381),\n",
       " ('morele', 6371),\n",
       " ('które', 6284),\n",
       " ('szkoda', 6213),\n",
       " ('10', 6129),\n",
       " ('również', 6125),\n",
       " ('im', 6111),\n",
       " ('pozytywnie', 6097),\n",
       " ('oferta', 6050),\n",
       " ('obsluga', 5997),\n",
       " ('informacje', 5994),\n",
       " ('czego', 5980),\n",
       " ('zamówień', 5959),\n",
       " ('świetna', 5956),\n",
       " ('oczekiwania', 5949),\n",
       " ('plus', 5926),\n",
       " ('części', 5887),\n",
       " ('domu', 5881),\n",
       " ('taki', 5876),\n",
       " ('najwyższym', 5875),\n",
       " ('kilka', 5836),\n",
       " ('jej', 5832),\n",
       " ('otrzymałam', 5783),\n",
       " ('trochę', 5731),\n",
       " ('sklepem', 5722),\n",
       " ('korzystam', 5701),\n",
       " ('tych', 5699),\n",
       " ('wiem', 5657),\n",
       " ('przesyłkę', 5623),\n",
       " ('jeśli', 5613),\n",
       " ('szybkość', 5602),\n",
       " ('ludzie', 5575),\n",
       " ('szybkie', 5553),\n",
       " ('gdzie', 5543),\n",
       " ('punkcie', 5533),\n",
       " ('firma', 5531),\n",
       " ('dotarła', 5506),\n",
       " ('juz', 5488),\n",
       " ('eobuwie', 5448),\n",
       " ('transakcji', 5437),\n",
       " ('mimo', 5415),\n",
       " ('5', 5385),\n",
       " ('jeden', 5343),\n",
       " ('d', 5334),\n",
       " ('1', 5331),\n",
       " ('e', 5300),\n",
       " ('strona', 5299),\n",
       " ('moim', 5281),\n",
       " ('zwrot', 5232),\n",
       " ('razy', 5211),\n",
       " ('wysyłki', 5182),\n",
       " ('klientem', 5118),\n",
       " ('nich', 5109),\n",
       " ('wysylka', 5098),\n",
       " ('oceniam', 5015),\n",
       " ('ogólnie', 4879),\n",
       " ('następnego', 4859),\n",
       " ('sposób', 4857),\n",
       " ('terminie', 4839),\n",
       " ('zamówiłam', 4773),\n",
       " ('promocje', 4770),\n",
       " ('mega', 4760),\n",
       " ('takich', 4755),\n",
       " ('podejście', 4731),\n",
       " ('ci', 4723),\n",
       " ('często', 4703),\n",
       " ('pozytywna', 4699),\n",
       " ('kiedy', 4695),\n",
       " ('internetowa', 4678),\n",
       " ('każdemu', 4667),\n",
       " ('jego', 4647),\n",
       " ('wiele', 4630),\n",
       " ('książek', 4614),\n",
       " ('zamowienia', 4605),\n",
       " ('sam', 4597),\n",
       " ('rzetelna', 4580),\n",
       " ('przyjemność', 4547),\n",
       " ('profesjonalne', 4522),\n",
       " ('was', 4514),\n",
       " ('ty', 4492),\n",
       " ('profesjonalny', 4490),\n",
       " ('net', 4486),\n",
       " ('dostarczony', 4485),\n",
       " ('bieżąco', 4485),\n",
       " ('czasie', 4462),\n",
       " ('poza', 4436),\n",
       " ('czasu', 4434),\n",
       " ('robię', 4415),\n",
       " ('zamawiam', 4402),\n",
       " ('sama', 4394),\n",
       " ('aż', 4389),\n",
       " ('moja', 4387),\n",
       " ('rewelacyjny', 4370),\n",
       " ('zamówiony', 4361),\n",
       " ('najlepszy', 4343),\n",
       " ('ktoś', 4284),\n",
       " ('apteki', 4247),\n",
       " ('innym', 4241),\n",
       " ('gemini', 4235),\n",
       " ('udane', 4220),\n",
       " ('gdy', 4187),\n",
       " ('lub', 4182),\n",
       " ('świetne', 4180),\n",
       " ('nim', 4175),\n",
       " ('zostało', 4171),\n",
       " ('godna', 4158),\n",
       " ('kilku', 4126),\n",
       " ('informacji', 4081),\n",
       " ('powinno', 4077),\n",
       " ('dokładnie', 4062),\n",
       " ('zamówieniu', 4035),\n",
       " ('sprzedawca', 4031),\n",
       " ('solidny', 4008),\n",
       " ('miło', 3994),\n",
       " ('b', 3993),\n",
       " ('tutaj', 3966),\n",
       " ('zł', 3938),\n",
       " ('we', 3936),\n",
       " ('ludzi', 3924),\n",
       " ('rzeczy', 3912),\n",
       " ('pani', 3905),\n",
       " ('oni', 3862),\n",
       " ('strony', 3861),\n",
       " ('ciągu', 3841),\n",
       " ('robić', 3838),\n",
       " ('przyjemnością', 3836),\n",
       " ('aby', 3825),\n",
       " ('dość', 3820),\n",
       " ('aptekę', 3797),\n",
       " ('warto', 3787),\n",
       " ('działa', 3774),\n",
       " ('zamówiłem', 3772),\n",
       " ('dwa', 3768),\n",
       " ('prostu', 3767),\n",
       " ('tą', 3749),\n",
       " ('mu', 3744),\n",
       " ('samo', 3744),\n",
       " ('każdy', 3730),\n",
       " ('dostałam', 3715),\n",
       " ('dalej', 3711),\n",
       " ('sprzęt', 3680),\n",
       " ('zgodna', 3678),\n",
       " ('miałam', 3669),\n",
       " ('fajny', 3657),\n",
       " ('otrzymałem', 3648),\n",
       " ('je', 3645),\n",
       " ('niech', 3642),\n",
       " ('polecić', 3634),\n",
       " ('czystym', 3631),\n",
       " ('jako', 3629),\n",
       " ('miejscu', 3627),\n",
       " ('pierwsze', 3608),\n",
       " ('świetnie', 3586),\n",
       " ('obuwie', 3576),\n",
       " ('chodzi', 3568),\n",
       " ('pozytyw', 3562),\n",
       " ('wysokim', 3542),\n",
       " ('albo', 3536),\n",
       " ('butów', 3523),\n",
       " ('on', 3512),\n",
       " ('siebie', 3509),\n",
       " ('internet', 3497),\n",
       " ('chce', 3493),\n",
       " ('com', 3491),\n",
       " ('taka', 3487),\n",
       " ('termin', 3474),\n",
       " ('ponieważ', 3465),\n",
       " ('sumieniem', 3463),\n",
       " ('zabezpieczony', 3448),\n",
       " ('rewelacyjna', 3434),\n",
       " ('ostatni', 3423),\n",
       " ('oczywiście', 3420),\n",
       " ('4', 3400),\n",
       " ('kurier', 3395),\n",
       " ('polsce', 3388),\n",
       " ('lepiej', 3386),\n",
       " ('zamówione', 3373),\n",
       " ('paczki', 3350),\n",
       " ('została', 3341),\n",
       " ('dlatego', 3338),\n",
       " ('pewnie', 3337),\n",
       " ('tyle', 3316),\n",
       " ('znajomym', 3314),\n",
       " ('ją', 3287),\n",
       " ('dostałem', 3278),\n",
       " ('rzetelny', 3262),\n",
       " ('temat', 3244),\n",
       " ('która', 3243),\n",
       " ('obuwia', 3228),\n",
       " ('lubię', 3213),\n",
       " ('towarów', 3209),\n",
       " ('jednym', 3182),\n",
       " ('miałem', 3181),\n",
       " ('najlepsza', 3179),\n",
       " ('sklepów', 3168),\n",
       " ('gdyby', 3165),\n",
       " ('dopiero', 3163),\n",
       " ('dniach', 3160),\n",
       " ('wrócę', 3154),\n",
       " ('ani', 3145),\n",
       " ('poka', 3132),\n",
       " ('dzięki', 3131),\n",
       " ('osobistego', 3124),\n",
       " ('komunikacja', 3123),\n",
       " ('pełni', 3115),\n",
       " ('rzetelnie', 3115),\n",
       " ('idealnie', 3108),\n",
       " ('bardziej', 3106),\n",
       " ('zabezpieczona', 3101),\n",
       " ('etapie', 3093),\n",
       " ('wcześniej', 3074),\n",
       " ('osobisty', 3051),\n",
       " ('agd', 3034),\n",
       " ('opinia', 3021),\n",
       " ('korzystne', 3018),\n",
       " ('odbiorze', 3016),\n",
       " ('jedyny', 3014),\n",
       " ('zwrotu', 3012),\n",
       " ('zrobić', 3010),\n",
       " ('minus', 3008),\n",
       " ('sklepach', 2988),\n",
       " ('przypadku', 2980),\n",
       " ('internetowym', 2975),\n",
       " ('fajne', 2966),\n",
       " ('zamawiałam', 2963),\n",
       " ('powinni', 2960),\n",
       " ('pełna', 2955),\n",
       " ('same', 2953),\n",
       " ('taniej', 2953),\n",
       " ('zawiodłam', 2950),\n",
       " ('przeprowadzona', 2948),\n",
       " ('możliwości', 2944),\n",
       " ('mojego', 2943),\n",
       " ('pewnością', 2942),\n",
       " ('razie', 2938),\n",
       " ('miły', 2932),\n",
       " ('wszystkich', 2914),\n",
       " ('został', 2909),\n",
       " ('statusie', 2900),\n",
       " ('dlaczego', 2893),\n",
       " ('czyli', 2878),\n",
       " ('zero', 2877),\n",
       " ('problem', 2874),\n",
       " ('doskonały', 2867),\n",
       " ('miał', 2865),\n",
       " ('byłam', 2864),\n",
       " ('ona', 2863),\n",
       " ('cały', 2852),\n",
       " ('bezproblemowy', 2843),\n",
       " ('przesylka', 2838),\n",
       " ('solidna', 2832),\n",
       " ('łatwo', 2829),\n",
       " ('takiego', 2827),\n",
       " ('także', 2824),\n",
       " ('punktu', 2822),\n",
       " ('jaki', 2820),\n",
       " ('ostatnie', 2815),\n",
       " ('temu', 2807),\n",
       " ('długo', 2804),\n",
       " ('pomoc', 2800),\n",
       " ('firmy', 2796),\n",
       " ('kurwy', 2795),\n",
       " ('mojej', 2794),\n",
       " ('jedynie', 2790),\n",
       " ('poniedziałek', 2790),\n",
       " ('wy', 2790),\n",
       " ('przede', 2789),\n",
       " ('bezpiecznie', 2789),\n",
       " ('wygodne', 2787),\n",
       " ('choć', 2785),\n",
       " ('nikt', 2782),\n",
       " ('zabezpieczone', 2778),\n",
       " ('którzy', 2770),\n",
       " ('przyjemnie', 2743),\n",
       " ('oferty', 2738),\n",
       " ('darmowa', 2733),\n",
       " ('obsługą', 2732),\n",
       " ('mall', 2707),\n",
       " ('rewelacyjne', 2706),\n",
       " ('maila', 2704),\n",
       " ('expresowa', 2701),\n",
       " ('kupować', 2699),\n",
       " ('ogromny', 2691),\n",
       " ('oczekiwaniami', 2681),\n",
       " ('ponownie', 2670),\n",
       " ('ciekawe', 2659),\n",
       " ('dotarł', 2642),\n",
       " ('sa', 2639),\n",
       " ('należy', 2629),\n",
       " ('szybką', 2615),\n",
       " ('internetowych', 2603),\n",
       " ('kupuje', 2602),\n",
       " ('zarzutów', 2602),\n",
       " ('robi', 2599),\n",
       " ('wielu', 2597),\n",
       " ('pan', 2597),\n",
       " ('szybciej', 2596),\n",
       " ('np', 2586),\n",
       " ('zarówno', 2583),\n",
       " ('realizowane', 2549),\n",
       " ('dostarczona', 2545),\n",
       " ('empiku', 2541),\n",
       " ('starannie', 2533),\n",
       " ('doskonała', 2532),\n",
       " ('kuriera', 2529),\n",
       " ('właśnie', 2524),\n",
       " ('jakie', 2524),\n",
       " ('pomimo', 2520),\n",
       " ('państwa', 2517),\n",
       " ('przejrzysta', 2501),\n",
       " ('chętnie', 2493),\n",
       " ('cała', 2492),\n",
       " ('pieniędzy', 2468),\n",
       " ('czemu', 2463),\n",
       " ('dobrych', 2457),\n",
       " ('ekspresowo', 2455),\n",
       " ('wielki', 2444),\n",
       " ('dodatkowo', 2425),\n",
       " ('napewno', 2424),\n",
       " ('nas', 2424),\n",
       " ('6', 2414),\n",
       " ('poziom', 2413),\n",
       " ('piątek', 2413),\n",
       " ('dzieci', 2406),\n",
       " ('dzieje', 2405),\n",
       " ('jakiś', 2402),\n",
       " ('bogaty', 2399),\n",
       " ('komentarze', 2394),\n",
       " ('którym', 2389),\n",
       " ('ponad', 2388),\n",
       " ('mieć', 2384),\n",
       " ('zdjęcia', 2377),\n",
       " ('jeżeli', 2374),\n",
       " ('sms', 2372),\n",
       " ('witam', 2362),\n",
       " ('oby', 2360),\n",
       " ('duzy', 2358),\n",
       " ('niego', 2355),\n",
       " ('chociaż', 2353),\n",
       " ('duża', 2340),\n",
       " ('znaleźć', 2322),\n",
       " ('kupiłem', 2320),\n",
       " ('odebrać', 2320),\n",
       " ('zamowienie', 2307),\n",
       " ('kupić', 2306),\n",
       " ('zaufania', 2297),\n",
       " ('osobiście', 2290),\n",
       " ('tempie', 2287),\n",
       " ('prawie', 2285),\n",
       " ('uwag', 2283),\n",
       " ('najważniejsze', 2282),\n",
       " ('długi', 2280),\n",
       " ('jebane', 2280),\n",
       " ('czasem', 2277),\n",
       " ('24', 2272),\n",
       " ('względu', 2266),\n",
       " ('psa', 2260),\n",
       " ('wysokiej', 2257),\n",
       " ('potem', 2245),\n",
       " ('sprzętu', 2241),\n",
       " ('kupiłam', 2238),\n",
       " ('razu', 2234),\n",
       " ('opakowanie', 2232),\n",
       " ('dobrym', 2224),\n",
       " ('których', 2221),\n",
       " ('internetowej', 2219),\n",
       " ('dostarczone', 2218),\n",
       " ('udany', 2217),\n",
       " ('polska', 2211),\n",
       " ('dwóch', 2210),\n",
       " ('czym', 2203),\n",
       " ('opis', 2200),\n",
       " ('wtorek', 2196),\n",
       " ('klientów', 2194),\n",
       " ('nadal', 2192),\n",
       " ('jedna', 2190),\n",
       " ('asortymentu', 2188),\n",
       " ('leki', 2187),\n",
       " ('wam', 2179),\n",
       " ('usługi', 2177),\n",
       " ('aros', 2175),\n",
       " ('jednego', 2174),\n",
       " ('takim', 2172),\n",
       " ('szybkości', 2170),\n",
       " ('dniu', 2167),\n",
       " ('kompetentna', 2162),\n",
       " ('regularnie', 2158),\n",
       " ('opisie', 2156),\n",
       " ('soczewki', 2153),\n",
       " ('polski', 2148),\n",
       " ('kara', 2147),\n",
       " ('fachowo', 2143),\n",
       " ('mało', 2143),\n",
       " ('ocena', 2143),\n",
       " ('najmniejszych', 2142),\n",
       " ('masz', 2139),\n",
       " ('idealnym', 2135),\n",
       " ('paczkę', 2128),\n",
       " ('przyszłości', 2127),\n",
       " ('jesteś', 2127),\n",
       " ('rano', 2126),\n",
       " ('płatności', 2115),\n",
       " ('niższe', 2110),\n",
       " ('tez', 2110),\n",
       " ('reklamacji', 2098),\n",
       " ('roku', 2095),\n",
       " ('powinien', 2093),\n",
       " ('będą', 2091),\n",
       " ('sprawny', 2085),\n",
       " ('p', 2079),\n",
       " ('względem', 2077),\n",
       " ('podoba', 2075),\n",
       " ('jakieś', 2069),\n",
       " ('korzystać', 2058),\n",
       " ('pieniądze', 2056),\n",
       " ('aptekach', 2049),\n",
       " ('nad', 2048),\n",
       " ('da', 2038),\n",
       " ('gratis', 2035),\n",
       " ('inne', 2033),\n",
       " ('łatwy', 2030),\n",
       " ('podczas', 2030),\n",
       " ('część', 2023),\n",
       " ('przecież', 2021),\n",
       " ('euro', 2021),\n",
       " ('wszyscy', 2019),\n",
       " ('widać', 2018),\n",
       " ('pierwsza', 2012),\n",
       " ('najlepsze', 1998),\n",
       " ('rozmiar', 1997),\n",
       " ('sprawa', 1985),\n",
       " ('okazało', 1983),\n",
       " ('czekać', 1981),\n",
       " ('ile', 1972),\n",
       " ('12', 1960),\n",
       " ('jakby', 1960),\n",
       " ('samego', 1957),\n",
       " ('swoje', 1957),\n",
       " ('wygodnie', 1953),\n",
       " ('doskonale', 1953),\n",
       " ('jakim', 1950),\n",
       " ('klient', 1942),\n",
       " ('korzystałam', 1937),\n",
       " ('pies', 1935),\n",
       " ('20', 1932),\n",
       " ('sowe', 1931),\n",
       " ('klasa', 1929),\n",
       " ('wysoka', 1927),\n",
       " ('dodać', 1921),\n",
       " ('zaopatrzony', 1919),\n",
       " ('zrealizowana', 1917),\n",
       " ('dostępność', 1914),\n",
       " ('porzadku', 1907),\n",
       " ('one', 1906),\n",
       " ('15', 1901),\n",
       " ('telefon', 1901),\n",
       " ('współpraca', 1901),\n",
       " ('zamówionego', 1895),\n",
       " ('byc', 1894),\n",
       " ('przyszła', 1894),\n",
       " ('księgarnia', 1894),\n",
       " ('jedyne', 1885),\n",
       " ('wyboru', 1882),\n",
       " ('byłem', 1879),\n",
       " ('tania', 1875),\n",
       " ('mail', 1871),\n",
       " ('kraju', 1866),\n",
       " ('książka', 1866),\n",
       " ('fajnie', 1863),\n",
       " ('robiłam', 1862),\n",
       " ('miejsce', 1859),\n",
       " ('natychmiastowa', 1856),\n",
       " ('rozumiem', 1853),\n",
       " ('zadowolenia', 1846),\n",
       " ('poszło', 1846),\n",
       " ('pory', 1842),\n",
       " ('obsługę', 1840),\n",
       " ('tanie', 1840),\n",
       " ('rynku', 1830),\n",
       " ('towary', 1830),\n",
       " ('moich', 1825),\n",
       " ('zakupie', 1823),\n",
       " ('chuj', 1820),\n",
       " ('którego', 1819),\n",
       " ('zaskoczona', 1819),\n",
       " ('czekam', 1814),\n",
       " ('miała', 1813),\n",
       " ('zamiast', 1809),\n",
       " ('brawo', 1809),\n",
       " ('odpowiedzi', 1807),\n",
       " ('bezproblemowe', 1806),\n",
       " ('north', 1805),\n",
       " ('promocji', 1805),\n",
       " ('rewelacyjnie', 1799),\n",
       " ('ładnie', 1799),\n",
       " ('cenę', 1799),\n",
       " ('sexmasterka', 1795),\n",
       " ('powinna', 1793),\n",
       " ('zawiodłem', 1792),\n",
       " ('prawda', 1789),\n",
       " ('zadowolenie', 1787),\n",
       " ('porównaniu', 1787),\n",
       " ('cen', 1783),\n",
       " ('bogata', 1777),\n",
       " ('później', 1773),\n",
       " ('tydzień', 1772),\n",
       " ('myślę', 1769),\n",
       " ('24h', 1768),\n",
       " ('mailowy', 1765),\n",
       " ('dostarczenia', 1764),\n",
       " ('odpowiedź', 1759),\n",
       " ('czysta', 1753),\n",
       " ('dziś', 1751),\n",
       " ('taką', 1750),\n",
       " ('mila', 1750),\n",
       " ('wysłany', 1749),\n",
       " ('dostępny', 1740),\n",
       " ('duże', 1735),\n",
       " ('szybkiej', 1733),\n",
       " ('muszę', 1732),\n",
       " ('system', 1724),\n",
       " ('fajna', 1723),\n",
       " ('dostawę', 1722),\n",
       " ('30', 1722),\n",
       " ('udana', 1717),\n",
       " ('wtedy', 1716),\n",
       " ('terminem', 1714),\n",
       " ('iż', 1710),\n",
       " ('cenami', 1710),\n",
       " ('mile', 1709),\n",
       " ('telefoniczny', 1709),\n",
       " ('policja', 1705),\n",
       " ('nowy', 1704),\n",
       " ('dostępne', 1703),\n",
       " ('której', 1699),\n",
       " ('niej', 1696),\n",
       " ('proszę', 1696),\n",
       " ('musiałam', 1693),\n",
       " ('przesyłce', 1686),\n",
       " ('godzin', 1684),\n",
       " ('film', 1684),\n",
       " ('kiedyś', 1683),\n",
       " ('internecie', 1682),\n",
       " ('czwartek', 1680),\n",
       " ('pełny', 1679),\n",
       " ('zbyt', 1675),\n",
       " ('pomocna', 1666),\n",
       " ('mozna', 1664),\n",
       " ('gdyż', 1663),\n",
       " ('złożenia', 1660),\n",
       " ('bylo', 1653),\n",
       " ('wieczorem', 1650),\n",
       " ('uwielbiam', 1650),\n",
       " ('melissa', 1649),\n",
       " ('inny', 1646),\n",
       " ('my', 1644),\n",
       " ('like', 1638),\n",
       " ('godziny', 1637),\n",
       " ('zrobił', 1635),\n",
       " ('kupowałem', 1634),\n",
       " ('leków', 1632),\n",
       " ('straż', 1632),\n",
       " ('czytelna', 1628),\n",
       " ('konkretnie', 1625),\n",
       " ('nadzieję', 1624),\n",
       " ('informację', 1624),\n",
       " ('jakichkolwiek', 1623),\n",
       " ('pracy', 1623),\n",
       " ('sprawne', 1616),\n",
       " ('sfd', 1613),\n",
       " ('terminowo', 1611),\n",
       " ('piosenka', 1610),\n",
       " ('takiej', 1608),\n",
       " ('ofertą', 1607),\n",
       " ('końcu', 1607),\n",
       " ('wielokrotnie', 1600),\n",
       " ('odbyło', 1598),\n",
       " ('wybor', 1597),\n",
       " ('zakupiony', 1595),\n",
       " ('żadnego', 1591),\n",
       " ('ciebie', 1590),\n",
       " ('kosztów', 1586),\n",
       " ('uważam', 1582),\n",
       " ('załatwione', 1579),\n",
       " ('wzorowo', 1579),\n",
       " ('szeroka', 1576),\n",
       " ('natomiast', 1569),\n",
       " ('cię', 1568),\n",
       " ('wysłana', 1562),\n",
       " ('księgarni', 1561),\n",
       " ('00', 1560),\n",
       " ('zdaniem', 1559),\n",
       " ('mamy', 1558),\n",
       " ('stacjonarnych', 1558),\n",
       " ('maja', 1555),\n",
       " ('wie', 1545),\n",
       " ('gratisy', 1542),\n",
       " ('ostatnio', 1538),\n",
       " ('robią', 1537),\n",
       " ('porządnie', 1535),\n",
       " ('dostać', 1535),\n",
       " ('pierdole', 1527),\n",
       " ('kurierem', 1526),\n",
       " ('sprzedającym', 1525),\n",
       " ('blyskawiczna', 1525),\n",
       " ('wysłane', 1524),\n",
       " ('osoby', 1524),\n",
       " ('niz', 1523),\n",
       " ('komplikacji', 1515),\n",
       " ('posiada', 1508),\n",
       " ('naprawde', 1505),\n",
       " ('wiec', 1504),\n",
       " ('wracam', 1502),\n",
       " ('obsłudze', 1498),\n",
       " ('uwagi', 1494),\n",
       " ('prezent', 1490),\n",
       " ('kupowałam', 1484),\n",
       " ('powinny', 1483),\n",
       " ('7', 1483),\n",
       " ('łatwość', 1482),\n",
       " ('odbiorem', 1479),\n",
       " ('rtv', 1478),\n",
       " ('dużym', 1478),\n",
       " ('mniej', 1475),\n",
       " ('miarę', 1474),\n",
       " ('ująć', 1467),\n",
       " ('daje', 1466),\n",
       " ('cos', 1461),\n",
       " ('atrakcyjna', 1461),\n",
       " ('godne', 1458),\n",
       " ('dostarczenie', 1456),\n",
       " ('powiedzieć', 1456),\n",
       " ('zrobię', 1455),\n",
       " ('transportu', 1454),\n",
       " ('itp', 1454),\n",
       " ('chcieć', 1453),\n",
       " ('dół', 1453),\n",
       " ('klientką', 1451),\n",
       " ('8', 1449),\n",
       " ('przeze', 1448),\n",
       " ('ważne', 1436),\n",
       " ('tę', 1435),\n",
       " ('lecz', 1434),\n",
       " ('salonie', 1433),\n",
       " ('przebiegu', 1431),\n",
       " ('zaraz', 1427),\n",
       " ('punkt', 1427),\n",
       " ('raczej', 1425),\n",
       " ('pis', 1425),\n",
       " ('złożeniu', 1420),\n",
       " ('14', 1418),\n",
       " ('magazynie', 1416),\n",
       " ('informacją', 1415),\n",
       " ('zamawiałem', 1413),\n",
       " ('łatwe', 1410),\n",
       " ('najwyższej', 1408),\n",
       " ('dotarło', 1402),\n",
       " ('końca', 1402),\n",
       " ('koniec', 1401),\n",
       " ('koszt', 1401),\n",
       " ('lepsze', 1396),\n",
       " ('buciki', 1392),\n",
       " ('innego', 1391),\n",
       " ('środę', 1391),\n",
       " ('którą', 1390),\n",
       " ('kontaktu', 1388),\n",
       " ('dzisiaj', 1386),\n",
       " ('internetowego', 1386),\n",
       " ('generalnie', 1385),\n",
       " ('realizację', 1384),\n",
       " ('bedzie', 1384),\n",
       " ('goraco', 1381),\n",
       " ('dobrą', 1377),\n",
       " ('dotarły', 1376),\n",
       " ('zgadza', 1375),\n",
       " ('jedno', 1373),\n",
       " ('atrakcyjnych', 1372),\n",
       " ('zostały', 1367),\n",
       " ('online', 1362),\n",
       " ('11', 1362),\n",
       " ('znowu', 1361),\n",
       " ('sprawy', 1356),\n",
       " ('osób', 1355),\n",
       " ('perfekcyjnie', 1354),\n",
       " ('plusem', 1353),\n",
       " ('mały', 1351),\n",
       " ('problemow', 1349),\n",
       " ('dziekuje', 1347),\n",
       " ('udało', 1341),\n",
       " ('szczególnie', 1337),\n",
       " ('słowem', 1336),\n",
       " ('cie', 1336),\n",
       " ('według', 1332),\n",
       " ('sieci', 1330),\n",
       " ('przyszedł', 1330),\n",
       " ('godz', 1328),\n",
       " ('infolinii', 1327),\n",
       " ('transakcje', 1327),\n",
       " ('zwroty', 1327),\n",
       " ('mówi', 1323),\n",
       " ('skoro', 1323),\n",
       " ('mogłam', 1322),\n",
       " ('zamowieniem', 1321),\n",
       " ('artykułów', 1320),\n",
       " ('powodu', 1320),\n",
       " ('złożone', 1319),\n",
       " ('czekałam', 1317),\n",
       " ('odebrałem', 1317),\n",
       " ('nam', 1316),\n",
       " ('trzymać', 1315),\n",
       " ('stałym', 1314),\n",
       " ('panie', 1310),\n",
       " ('sprawie', 1308),\n",
       " ('piękne', 1308),\n",
       " ('dostawą', 1307),\n",
       " ('zdjęciu', 1306),\n",
       " ('miejska', 1304),\n",
       " ('następny', 1302),\n",
       " ('zeby', 1302),\n",
       " ('gówno', 1301),\n",
       " ('dziękuje', 1300),\n",
       " ('całą', 1298),\n",
       " ('widzę', 1297),\n",
       " ('znalazłam', 1295),\n",
       " ('odebrania', 1291),\n",
       " ('koszty', 1288),\n",
       " ('boże', 1288),\n",
       " ('opinię', 1286),\n",
       " ('zamówionych', 1285),\n",
       " ('doszła', 1272),\n",
       " ('wiadomo', 1271),\n",
       " ('prawidłowo', 1268),\n",
       " ('krótki', 1267),\n",
       " ('mieli', 1265),\n",
       " ('mogłem', 1265),\n",
       " ('zdjęć', 1263),\n",
       " ('mogą', 1263),\n",
       " ('ekspresowym', 1261),\n",
       " ('netpunkcie', 1261),\n",
       " ('wg', 1259),\n",
       " ('terminowa', 1257),\n",
       " ('zwrotem', 1255),\n",
       " ('trudno', 1255),\n",
       " ('ładne', 1255),\n",
       " ('maile', 1253),\n",
       " ('nimi', 1252),\n",
       " ('przyjazny', 1252),\n",
       " ('musiałem', 1251),\n",
       " ('niska', 1251),\n",
       " ('fakt', 1250),\n",
       " ('niby', 1250),\n",
       " ('pyr', 1250),\n",
       " ('moze', 1248),\n",
       " ('drugie', 1242),\n",
       " ('pozytywne', 1242),\n",
       " ('książkę', 1241),\n",
       " ('pytanie', 1240),\n",
       " ('brakuje', 1240),\n",
       " ('wygodny', 1239),\n",
       " ('problemy', 1237),\n",
       " ('idealny', 1234),\n",
       " ('bonito', 1234),\n",
       " ('opisy', 1231),\n",
       " ('opcji', 1231),\n",
       " ('opcja', 1230),\n",
       " ('macie', 1230),\n",
       " ('ogóle', 1230),\n",
       " ('zrobili', 1227),\n",
       " ('16', 1220),\n",
       " ('dawna', 1218),\n",
       " ('człowiek', 1218),\n",
       " ...]"
      ]
     },
     "execution_count": 41,
     "metadata": {},
     "output_type": "execute_result"
    }
   ],
   "source": [
    "sorted(frequency.items(), key = lambda kv: kv[1], reverse=True)"
   ]
  },
  {
   "cell_type": "code",
   "execution_count": 43,
   "id": "2e5c305e",
   "metadata": {
    "ExecuteTime": {
     "end_time": "2021-10-27T19:57:38.676016Z",
     "start_time": "2021-10-27T19:57:38.568604Z"
    }
   },
   "outputs": [
    {
     "data": {
      "text/plain": [
       "[('półtłusty', 1),\n",
       " ('slladnikiem', 1),\n",
       " ('wyrównano', 1),\n",
       " ('przydługawa', 1),\n",
       " ('maaasą', 1),\n",
       " ('ciogwiazdkowym', 1),\n",
       " ('długotrwała', 1),\n",
       " ('smsai', 1),\n",
       " ('szyfrowany', 1),\n",
       " ('najważniejszę', 1),\n",
       " ('regital', 1),\n",
       " ('przeterminowaniem', 1),\n",
       " ('wyprzedawany', 1),\n",
       " ('odkręciłem', 1),\n",
       " ('sklepiem', 1),\n",
       " ('abroad', 1),\n",
       " ('oczymalam', 1),\n",
       " ('pczka', 1),\n",
       " ('zakoszony', 1),\n",
       " ('zamaiwane', 1),\n",
       " ('potłukł', 1),\n",
       " ('farmaceutyku', 1),\n",
       " ('wzmiankowaną', 1),\n",
       " ('przrebiegało', 1),\n",
       " ('plasterki', 1),\n",
       " ('przyśpieszające', 1),\n",
       " ('gojenie', 1),\n",
       " ('postrzałowe', 1),\n",
       " ('zagoiły', 1),\n",
       " ('realizicji', 1),\n",
       " ('dostareczania', 1),\n",
       " ('skleu', 1),\n",
       " ('napotkały', 1),\n",
       " ('skontktowała', 1),\n",
       " ('boe', 1),\n",
       " ('wanosci', 1),\n",
       " ('agencją', 1),\n",
       " ('odnosniebproduktow', 1),\n",
       " ('poszukiwaneho', 1),\n",
       " ('zadawlający', 1),\n",
       " ('kojazyc', 1),\n",
       " ('kosmetykiempolecam', 1),\n",
       " ('kolorystyczną', 1),\n",
       " ('zafowoleni', 1),\n",
       " ('interpersonalne', 1),\n",
       " ('sptekach', 1),\n",
       " ('pełeny', 1),\n",
       " ('luteina', 1),\n",
       " ('akupuy', 1),\n",
       " ('ppierwszy', 1),\n",
       " ('niedostepnego', 1),\n",
       " ('oświadczeniach', 1),\n",
       " ('telefoncizna', 1),\n",
       " ('zrealiwoane', 1),\n",
       " ('możlliwość', 1),\n",
       " ('dziękyję', 1),\n",
       " ('wypełnie', 1),\n",
       " ('zamówwieniem', 1),\n",
       " ('zaopatrującym', 1),\n",
       " ('zaopatrzna', 1),\n",
       " ('polecammmmmmmmmmmmmmmmmmmmmmmmmmmmmmmmmmmmmmmmmmmmmmmmmmmmmmmmmmmmmmmmmmmmmmmmmmmmmmmmmmmmmmmmmmmmmmmmmmmmmmmmmmmmmmmmmmmmmmmmmmmmmmmmmmmmmmm',\n",
       "  1),\n",
       " ('gorobnco', 1),\n",
       " ('upałach', 1),\n",
       " ('zróżnicowani', 1),\n",
       " ('wspaniałae', 1),\n",
       " ('zamówieoieo', 1),\n",
       " ('przesyłą', 1),\n",
       " ('szlifierka', 1),\n",
       " ('scholla', 1),\n",
       " ('poprwanie', 1),\n",
       " ('podanai', 1),\n",
       " ('razluzacji', 1),\n",
       " ('zaopatrza', 1),\n",
       " ('areakcyjne', 1),\n",
       " ('lozylam', 1),\n",
       " ('beściarskie', 1),\n",
       " ('odbębnić', 1),\n",
       " ('abmcentrum', 1),\n",
       " ('odostarczeniu', 1),\n",
       " ('niezorganizowanie', 1),\n",
       " ('hydrohinionie', 1),\n",
       " ('rozłożeniu', 1),\n",
       " ('albin', 1),\n",
       " ('opiny', 1),\n",
       " ('pzsdrawiam', 1),\n",
       " ('przyciagnał', 1),\n",
       " ('doknam', 1),\n",
       " ('uslyszałam', 1),\n",
       " ('mydełkiem', 1),\n",
       " ('akceptowalną', 1),\n",
       " ('hurtowi', 1),\n",
       " ('dosałam', 1),\n",
       " ('odkręcony', 1),\n",
       " ('sxybks', 1),\n",
       " ('polemcam', 1),\n",
       " ('juzżkolejny', 1),\n",
       " ('daac', 1),\n",
       " ('migający', 1),\n",
       " ('disiejszych', 1),\n",
       " ('zastępowania', 1),\n",
       " ('minmiałbym', 1),\n",
       " ('aerozolu', 1),\n",
       " ('pseudoaptekach', 1),\n",
       " ('lbiotica', 1),\n",
       " ('progestella', 1),\n",
       " ('przebuegła', 1),\n",
       " ('przedwysylka', 1),\n",
       " ('radzilalabym', 1),\n",
       " ('reglamentacja', 1),\n",
       " ('optipro', 1),\n",
       " ('nokautują', 1),\n",
       " ('produtami', 1),\n",
       " ('blyskawiczka', 1),\n",
       " ('sakup', 1),\n",
       " ('wątpliości', 1),\n",
       " ('niedociągnięńcia', 1),\n",
       " ('komunikowane', 1),\n",
       " ('maseczki', 1),\n",
       " ('tajszej', 1),\n",
       " ('zygmunt49', 1),\n",
       " ('niemolwat', 1),\n",
       " ('zmieniala', 1),\n",
       " ('odstepuje', 1),\n",
       " ('wypadaly', 1),\n",
       " ('ocenilam', 1),\n",
       " ('zstrzezenia', 1),\n",
       " ('opitem', 1),\n",
       " ('podmienione', 1),\n",
       " ('przeprowadzil', 1),\n",
       " ('polozonym', 1),\n",
       " ('malowazne', 1),\n",
       " ('skraczają', 1),\n",
       " ('przepisywać', 1),\n",
       " ('wirc', 1),\n",
       " ('kirpsko', 1),\n",
       " ('zrstaw', 1),\n",
       " ('olejkoem', 1),\n",
       " ('aptyka', 1),\n",
       " ('podwyzszaja', 1),\n",
       " ('zamowienin', 1),\n",
       " ('zgpdne', 1),\n",
       " ('pewnobędę', 1),\n",
       " ('wyszczególnieniem', 1),\n",
       " ('urzytkownikom', 1),\n",
       " ('bartłomiej', 1),\n",
       " ('exprresowa', 1),\n",
       " ('odliczaniem', 1),\n",
       " ('taryfą', 1),\n",
       " ('rzegocze', 1),\n",
       " ('efakturę', 1),\n",
       " ('niedomkniete', 1),\n",
       " ('cenypolecam', 1),\n",
       " ('slimaczek', 1),\n",
       " ('rzsdnych', 1),\n",
       " ('zaskoczemie', 1),\n",
       " ('konsyltantów', 1),\n",
       " ('wycierała', 1),\n",
       " ('niekórych', 1),\n",
       " ('misieczną', 1),\n",
       " ('nc150', 1),\n",
       " ('ootrzymany', 1),\n",
       " ('dopatrzyliśmy', 1),\n",
       " ('geriavit', 1),\n",
       " ('cobtu', 1),\n",
       " ('posiadajaca', 1),\n",
       " ('zadowalące', 1),\n",
       " ('bezprobremowa', 1),\n",
       " ('apakowania', 1),\n",
       " ('rozsyłacie', 1),\n",
       " ('przejrzystego', 1),\n",
       " ('miine', 1),\n",
       " ('asorttyment', 1),\n",
       " ('oznaczane', 1),\n",
       " ('znależliście', 1),\n",
       " ('orzatku', 1),\n",
       " ('utrudniły', 1),\n",
       " ('ponyslnie', 1),\n",
       " ('niezalogowanych', 1),\n",
       " ('zamówienego', 1),\n",
       " ('niskoch', 1),\n",
       " ('jaknależy', 1),\n",
       " ('precyzyjmie', 1),\n",
       " ('żadnycg', 1),\n",
       " ('naleźytym', 1),\n",
       " ('szacunkowej', 1),\n",
       " ('9kurier', 1),\n",
       " ('oczyszczającym', 1),\n",
       " ('mikotek', 1),\n",
       " ('ealizować', 1),\n",
       " ('13nastego', 1),\n",
       " ('18nastego', 1),\n",
       " ('skorzystalabym', 1),\n",
       " ('dostarczala', 1),\n",
       " ('chcialaam', 1),\n",
       " ('serdacznie', 1),\n",
       " ('sprzesyłki', 1),\n",
       " ('znjomyma', 1),\n",
       " ('zamóieniu', 1),\n",
       " ('oszczedzajac', 1),\n",
       " ('przeterminowe', 1),\n",
       " ('wzyystkim', 1),\n",
       " ('znajonym', 1),\n",
       " ('solhdnie', 1),\n",
       " ('zadnyxh', 1),\n",
       " ('leczniczymi', 1),\n",
       " ('zerooo', 1),\n",
       " ('bezkonkurecyjne', 1),\n",
       " ('spzredawcę', 1),\n",
       " ('12016', 1),\n",
       " ('przedświteczny', 1),\n",
       " ('kuriemrem', 1),\n",
       " ('bajką', 1),\n",
       " ('glukozy', 1),\n",
       " ('rozrobienia', 1),\n",
       " ('powtarzalam', 1),\n",
       " ('odklei', 1),\n",
       " ('belfastu', 1),\n",
       " ('pieniądzorów', 1),\n",
       " ('taaaniooo', 1),\n",
       " ('doooobrej', 1),\n",
       " ('krechę', 1),\n",
       " ('chiałam', 1),\n",
       " ('16120813081583', 1),\n",
       " ('biotebal', 1),\n",
       " ('witaminowy', 1),\n",
       " ('biotebalu', 1),\n",
       " ('polecsam', 1),\n",
       " ('limitowania', 1),\n",
       " ('mollers', 1),\n",
       " ('zabezpieczina', 1),\n",
       " ('rozpieszczenia', 1),\n",
       " ('wysane', 1),\n",
       " ('pozytzwna', 1),\n",
       " ('vrny', 1),\n",
       " ('gwarantowalo', 1),\n",
       " ('skubać', 1),\n",
       " ('farmaceucie', 1),\n",
       " ('rozbiły', 1),\n",
       " ('atraktycje', 1),\n",
       " ('polecazm', 1),\n",
       " ('wptekę', 1),\n",
       " ('dostawypolecam', 1),\n",
       " ('podkategori', 1),\n",
       " ('waznowści', 1),\n",
       " ('profeskonalizm', 1),\n",
       " ('opiasmi', 1),\n",
       " ('iwokaw1', 1),\n",
       " ('skspresowa', 1),\n",
       " ('przesylanymi', 1),\n",
       " ('dlugą', 1),\n",
       " ('przesylanie', 1),\n",
       " ('temperature', 1),\n",
       " ('zpiętą', 1),\n",
       " ('zszywaczem', 1),\n",
       " ('kosmetów', 1),\n",
       " ('skłakania', 1),\n",
       " ('szeszego', 1),\n",
       " ('zamówinych', 1),\n",
       " ('rożważyć', 1),\n",
       " ('rantów', 1),\n",
       " ('24zl', 1),\n",
       " ('placiłem', 1),\n",
       " ('doczekalabym', 1),\n",
       " ('lpolecam', 1),\n",
       " ('szegółach', 1),\n",
       " ('gfy', 1),\n",
       " ('naśladowaniu', 1),\n",
       " ('rodzajowo', 1),\n",
       " ('wysyłakę', 1),\n",
       " ('piguł', 1),\n",
       " ('megga', 1),\n",
       " ('płtość', 1),\n",
       " ('otryzmywalem', 1),\n",
       " ('odwlekłej', 1),\n",
       " ('realizowaliście', 1),\n",
       " ('fantastycznia', 1),\n",
       " ('mięte', 1),\n",
       " ('dziejdzieje', 1),\n",
       " ('dziękująca', 1),\n",
       " ('carhartt', 1),\n",
       " ('workstyle', 1),\n",
       " ('fostawy', 1),\n",
       " ('przeprowdzony', 1),\n",
       " ('pirleresze', 1),\n",
       " ('najlepszymk', 1),\n",
       " ('wapteca', 1),\n",
       " ('pprzebiegła', 1),\n",
       " ('serdecznnie', 1),\n",
       " ('moa', 1),\n",
       " ('apeta', 1),\n",
       " ('kosmetycznymi', 1),\n",
       " ('zgopdny', 1),\n",
       " ('dyskrecje', 1),\n",
       " ('skladala', 1),\n",
       " ('infotmacje', 1),\n",
       " ('perturbacjami', 1),\n",
       " ('brakowaloich', 1),\n",
       " ('zamówieniae', 1),\n",
       " ('wgiete', 1),\n",
       " ('wgiecia', 1),\n",
       " ('rychliwe', 1),\n",
       " ('sfatygowała', 1),\n",
       " ('idobra', 1),\n",
       " ('głupawą', 1),\n",
       " ('miko', 1),\n",
       " ('odpowiadą', 1),\n",
       " ('ipinii', 1),\n",
       " ('szybkoni', 1),\n",
       " ('sprawnioe', 1),\n",
       " ('bardzoniskie', 1),\n",
       " ('itanio', 1),\n",
       " ('paie', 1),\n",
       " ('przywoitej', 1),\n",
       " ('wyrażamy', 1),\n",
       " ('vzystym', 1),\n",
       " ('przelany', 1),\n",
       " ('10mejli', 1),\n",
       " ('zrealiz0wane', 1),\n",
       " ('sumiennosci', 1),\n",
       " ('poniedzialem', 1),\n",
       " ('rozem', 1),\n",
       " ('przelalam', 1),\n",
       " ('transkacka', 1),\n",
       " ('dostarczpne', 1),\n",
       " ('ibede', 1),\n",
       " ('sprswna', 1),\n",
       " ('upomonek', 1),\n",
       " ('przeglądnia', 1),\n",
       " ('niefortunne', 1),\n",
       " ('wardze', 1),\n",
       " ('zg0odna', 1),\n",
       " ('prawdiłowo', 1),\n",
       " ('wqszystko', 1),\n",
       " ('zupdatowany', 1),\n",
       " ('szepnęły', 1),\n",
       " ('kulawe', 1),\n",
       " ('niezszyte', 1),\n",
       " ('doplacajac', 1),\n",
       " ('dolozony', 1),\n",
       " ('skorne', 1),\n",
       " ('tytko', 1),\n",
       " ('zgrabnym', 1),\n",
       " ('przytespne', 1),\n",
       " ('niezapłacenia', 1),\n",
       " ('termoizolacyjną', 1),\n",
       " ('ukąszenia', 1),\n",
       " ('anulującej', 1),\n",
       " ('konkurencyjn', 1),\n",
       " ('jdstem', 1),\n",
       " ('prężności', 1),\n",
       " ('znizkowych', 1),\n",
       " ('viza', 1),\n",
       " ('zarzu', 1),\n",
       " ('ktoktóra', 1),\n",
       " ('preparatem', 1),\n",
       " ('podrażnia', 1),\n",
       " ('cerze', 1),\n",
       " ('robiacym', 1),\n",
       " ('otrrzymałem', 1),\n",
       " ('apterka', 1),\n",
       " ('niepowiadomienie', 1),\n",
       " ('slonecznym', 1),\n",
       " ('reasearch', 1),\n",
       " ('zdziwnienie', 1),\n",
       " ('oddadza', 1),\n",
       " ('zrownalo', 1),\n",
       " ('nazwala', 1),\n",
       " ('standzrdzie', 1),\n",
       " ('dalszemu', 1),\n",
       " ('3minutach', 1),\n",
       " ('zajęlo', 1),\n",
       " ('produktółw', 1),\n",
       " ('zawssze', 1),\n",
       " ('supser', 1),\n",
       " ('przetargałam', 1),\n",
       " ('zwklekaja', 1),\n",
       " ('konczyl', 1),\n",
       " ('gratissy', 1),\n",
       " ('poleclam', 1),\n",
       " ('przykładania', 1),\n",
       " ('szyfrowanego', 1),\n",
       " ('podejrzeniem', 1),\n",
       " ('przechwyceniem', 1),\n",
       " ('pogniecionie', 1),\n",
       " ('ppwinny', 1),\n",
       " ('pudeleczka', 1),\n",
       " ('milabszybka', 1),\n",
       " ('ternetowa', 1),\n",
       " ('rrzetelnie', 1),\n",
       " ('dpdatkowych', 1),\n",
       " ('pozyttwny', 1),\n",
       " ('dogne', 1),\n",
       " ('parudziesięciu', 1),\n",
       " ('waqptece', 1),\n",
       " ('korystałam', 1),\n",
       " ('wsrodku', 1),\n",
       " ('ciężkomi', 1),\n",
       " ('obssuga', 1),\n",
       " ('cenz', 1),\n",
       " ('sublement', 1),\n",
       " ('abezpieczony', 1),\n",
       " ('warstwowe', 1),\n",
       " ('informecje', 1),\n",
       " ('wymuszano', 1),\n",
       " ('korowody', 1),\n",
       " ('zamawialan', 1),\n",
       " ('bratysławskiej', 1),\n",
       " ('piotrkowska', 1),\n",
       " ('błądziła', 1),\n",
       " ('wyyslka', 1),\n",
       " ('nękający', 1),\n",
       " ('dopytywanie', 1),\n",
       " ('wysylle', 1),\n",
       " ('niescisle', 1),\n",
       " ('gratosow', 1),\n",
       " ('pozostawiało', 1),\n",
       " ('waptek', 1),\n",
       " ('zamowiam', 1),\n",
       " ('proceduralnie', 1),\n",
       " ('mizdrzenia', 1),\n",
       " ('odkręcona', 1),\n",
       " ('rozlala', 1),\n",
       " ('nadapodziewanie', 1),\n",
       " ('doplacie', 1),\n",
       " ('indiwidualnie', 1),\n",
       " ('komercyjnej', 1),\n",
       " ('superfarmaceutki', 1),\n",
       " ('supermodelki', 1),\n",
       " ('trmu', 1),\n",
       " ('domowić', 1),\n",
       " ('sprzedaqqjącego', 1),\n",
       " ('sumieniemm', 1),\n",
       " ('przyjemnosciom', 1),\n",
       " ('odnaleziem', 1),\n",
       " ('pszejrzyste', 1),\n",
       " ('taowar', 1),\n",
       " ('szukąlem', 1),\n",
       " ('barrrrrdzo', 1),\n",
       " ('przestłki', 1),\n",
       " ('zagodny', 1),\n",
       " ('trusted', 1),\n",
       " ('pość', 1),\n",
       " ('centszybka', 1),\n",
       " ('wywysylka', 1),\n",
       " ('twardowskiego', 1),\n",
       " ('cześto', 1),\n",
       " ('dokręcona', 1),\n",
       " ('suep', 1),\n",
       " ('krzyknęli', 1),\n",
       " ('waapteka', 1),\n",
       " ('37zl', 1),\n",
       " ('bezprovlemowo', 1),\n",
       " ('toniki', 1),\n",
       " ('fostalam', 1),\n",
       " ('wszyskimm', 1),\n",
       " ('niewystawionej', 1),\n",
       " ('wpatece', 1),\n",
       " ('konsystencję', 1),\n",
       " ('udanepod', 1),\n",
       " ('polecammmmmmmmmmmmmmmmmmmmmmmmmmmmmmmmmmmmmmm', 1),\n",
       " ('fenyloketonurią', 1),\n",
       " ('zamówiemiu', 1),\n",
       " ('jeszcże', 1),\n",
       " ('afrozjatykow', 1),\n",
       " ('łatowsc', 1),\n",
       " ('zaawyczaj', 1),\n",
       " ('imszybka', 1),\n",
       " ('namiejscu', 1),\n",
       " ('zakończonego', 1),\n",
       " ('mozns', 1),\n",
       " ('porzadniej', 1),\n",
       " ('zawilgotniona', 1),\n",
       " ('dermatologiczne', 1),\n",
       " ('pobiewaz', 1),\n",
       " ('atopowym', 1),\n",
       " ('demsa', 1),\n",
       " ('opiniowaniem', 1),\n",
       " ('funkcjonowaniesklepu', 1),\n",
       " ('piątak', 1),\n",
       " ('asortymentow', 1),\n",
       " ('żadngo', 1),\n",
       " ('wykazana', 1),\n",
       " ('uzgadnianiu', 1),\n",
       " ('pozrywałaby', 1),\n",
       " ('prsebieglo', 1),\n",
       " ('zmyty', 1),\n",
       " ('szprzedawca', 1),\n",
       " ('potrzebwalam', 1),\n",
       " ('generanie', 1),\n",
       " ('narazilo', 1),\n",
       " ('systemow', 1),\n",
       " ('zatyczka', 1),\n",
       " ('objedn', 1),\n",
       " ('vky', 1),\n",
       " ('zapteki', 1),\n",
       " ('dotpaya', 1),\n",
       " ('wyrazimy', 1),\n",
       " ('5mca', 1),\n",
       " ('sprezyc', 1),\n",
       " ('szybkej', 1),\n",
       " ('stacojnarnej', 1),\n",
       " ('opoźnia', 1),\n",
       " ('pozbywacie', 1),\n",
       " ('p24', 1),\n",
       " ('forfleks', 1),\n",
       " ('pozytwywnie', 1),\n",
       " ('wygasała', 1),\n",
       " ('trand', 1),\n",
       " ('sakcja', 1),\n",
       " ('oczekwania', 1),\n",
       " ('przesuwało', 1),\n",
       " ('przewlekłość', 1),\n",
       " ('kupiiłam', 1),\n",
       " ('ocuvite', 1),\n",
       " ('biotyk', 1),\n",
       " ('wypija', 1),\n",
       " ('ycloprzesyłki', 1),\n",
       " ('omplikacji', 1),\n",
       " ('280zł', 1),\n",
       " ('ucieszyłby', 1),\n",
       " ('prrzystępne', 1),\n",
       " ('zufany', 1),\n",
       " ('przestłką', 1),\n",
       " ('cenao', 1),\n",
       " ('stronice', 1),\n",
       " ('terla', 1),\n",
       " ('dobrek', 1),\n",
       " ('zaspamowana', 1),\n",
       " ('fachoaw', 1),\n",
       " ('kolejnyvjestem', 1),\n",
       " ('zasugeruje', 1),\n",
       " ('wywiązywała', 1),\n",
       " ('wporządeczku', 1),\n",
       " ('ąsprzedają', 1),\n",
       " ('przesyłja', 1),\n",
       " ('żelkach', 1),\n",
       " ('napoczętych', 1),\n",
       " ('94zł', 1),\n",
       " ('specyfikami', 1),\n",
       " ('zamowienka', 1),\n",
       " ('konkurencjyjne', 1),\n",
       " ('humer', 1),\n",
       " ('aplikatora', 1),\n",
       " ('zmeczone', 1),\n",
       " ('kojelny', 1),\n",
       " ('zrobi3', 1),\n",
       " ('niemowlęciu', 1),\n",
       " ('regulowac', 1),\n",
       " ('poczt', 1),\n",
       " ('kwieciście', 1),\n",
       " ('srpawnie', 1),\n",
       " ('nieczytelnego', 1),\n",
       " ('upewnila', 1),\n",
       " ('faktue', 1),\n",
       " ('darowa', 1),\n",
       " ('cazek', 1),\n",
       " ('dosknaly', 1),\n",
       " ('wysłanny', 1),\n",
       " ('przystąpią', 1),\n",
       " ('wygdnie', 1),\n",
       " ('colladerm', 1),\n",
       " ('zkiwania', 1),\n",
       " ('rolecam', 1),\n",
       " ('dziekujee', 1),\n",
       " ('wszelaka', 1),\n",
       " ('nadplaconych', 1),\n",
       " ('ponowanie', 1),\n",
       " ('kliente', 1),\n",
       " ('pieluchomajtek', 1),\n",
       " ('parublat', 1),\n",
       " ('odkrecila', 1),\n",
       " ('szczelnosci', 1),\n",
       " ('internertowy', 1),\n",
       " ('pełnąodpowiedzialnością', 1),\n",
       " ('obłapiania', 1),\n",
       " ('dozownika', 1),\n",
       " ('przekrojowy', 1),\n",
       " ('zamówieńiem', 1),\n",
       " ('uodparniających', 1),\n",
       " ('nasercowych', 1),\n",
       " ('biocardine', 1),\n",
       " ('omega3', 1),\n",
       " ('rokitnika', 1),\n",
       " ('frm', 1),\n",
       " ('ptekach', 1),\n",
       " ('lanshion', 1),\n",
       " ('realisacja', 1),\n",
       " ('wyczerupująca', 1),\n",
       " ('bezproblemowas', 1),\n",
       " ('czytysm', 1),\n",
       " ('iliści', 1),\n",
       " ('wliczenia', 1),\n",
       " ('cwnach', 1),\n",
       " ('doraciu', 1),\n",
       " ('kostakt', 1),\n",
       " ('budzącej', 1),\n",
       " ('niniedostępnosci', 1),\n",
       " ('wydlużone', 1),\n",
       " ('całaści', 1),\n",
       " ('odżałuj', 1),\n",
       " ('zakupywał', 1),\n",
       " ('compositum', 1),\n",
       " ('b2', 1),\n",
       " ('wągrowieckich', 1),\n",
       " ('bylony', 1),\n",
       " ('wapaptece', 1),\n",
       " ('hattingen', 1),\n",
       " ('wyciekiem', 1),\n",
       " ('opiniodawców', 1),\n",
       " ('rozlanych', 1),\n",
       " ('laków', 1),\n",
       " ('ooszlo', 1),\n",
       " ('intnernetu', 1),\n",
       " ('półlitrowe', 1),\n",
       " ('jestsm', 1),\n",
       " ('przeylane', 1),\n",
       " ('krewny', 1),\n",
       " ('przesaylke', 1),\n",
       " ('opinuę', 1),\n",
       " ('forflex', 1),\n",
       " ('konkyrencyjny', 1),\n",
       " ('domostwa', 1),\n",
       " ('oczekiwaniamia', 1),\n",
       " ('pierwszty', 1),\n",
       " ('zawracano', 1),\n",
       " ('porzadkuszybka', 1),\n",
       " ('gooraco', 1),\n",
       " ('przyznań', 1),\n",
       " ('naśladowańia', 1),\n",
       " ('osięgalna', 1),\n",
       " ('zwiedziłem', 1),\n",
       " ('przepraszająco', 1),\n",
       " ('luzacka', 1),\n",
       " ('ligunin', 1),\n",
       " ('menopauzę', 1),\n",
       " ('uzo', 1),\n",
       " ('zmanie', 1),\n",
       " ('kremik', 1),\n",
       " ('zacheta', 1),\n",
       " ('wybłagałam', 1),\n",
       " ('lekarst', 1),\n",
       " ('konourencyjnych', 1),\n",
       " ('dostarczenirm', 1),\n",
       " ('korzystami', 1),\n",
       " ('przeglądanki', 1),\n",
       " ('sprawine', 1),\n",
       " ('zapłacinu', 1),\n",
       " ('zamówieniaw', 1),\n",
       " ('wysyłe', 1),\n",
       " ('nieposiadających', 1),\n",
       " ('dober', 1),\n",
       " ('atrakcyjniejdze', 1),\n",
       " ('skromniutki', 1),\n",
       " ('deugi', 1),\n",
       " ('atraktycjnych', 1),\n",
       " ('migotania', 1),\n",
       " ('odparzeniom', 1),\n",
       " ('cynkiem', 1),\n",
       " ('bejbus', 1),\n",
       " ('aloes', 1),\n",
       " ('zamoczony', 1),\n",
       " ('polelecam', 1),\n",
       " ('ślimaczyła', 1),\n",
       " ('nieznajomości', 1),\n",
       " ('bezpłatnymi', 1),\n",
       " ('zmówinie', 1),\n",
       " ('niezawysokie', 1),\n",
       " ('wyszkiwania', 1),\n",
       " ('obsługia', 1),\n",
       " ('profesionali', 1),\n",
       " ('polecamzabezpieczony', 1),\n",
       " ('polecamę', 1),\n",
       " ('dostarzono', 1),\n",
       " ('krzem', 1),\n",
       " ('opóźniał', 1),\n",
       " ('ellaone', 1),\n",
       " ('pakuła', 1),\n",
       " ('szczepy', 1),\n",
       " ('liofilizowanych', 1),\n",
       " ('mlekowego', 1),\n",
       " ('nagrzanego', 1),\n",
       " ('ieżco', 1),\n",
       " ('rzetelość', 1),\n",
       " ('uśrednione', 1),\n",
       " ('rinze', 1),\n",
       " ('wysyłkqa', 1),\n",
       " ('nocrmy', 1),\n",
       " ('allevo', 1),\n",
       " ('podk', 1),\n",
       " ('nbd', 1),\n",
       " ('kopletowaliście', 1),\n",
       " ('przepisany', 1),\n",
       " ('dermatologa', 1),\n",
       " ('26zl', 1),\n",
       " ('ponformowac', 1),\n",
       " ('ulepszeniach', 1),\n",
       " ('matusewicz', 1),\n",
       " ('cetapil', 1),\n",
       " ('mddermoprotektor', 1),\n",
       " ('swietlika', 1),\n",
       " ('bwalatka', 1),\n",
       " ('flos', 1),\n",
       " ('zobezpieczony', 1),\n",
       " ('nietanich', 1),\n",
       " ('przyjema', 1),\n",
       " ('zapaakowana', 1),\n",
       " ('ejo', 1),\n",
       " ('przyjemnoćią', 1),\n",
       " ('wyszukiwałam', 1),\n",
       " ('plain', 1),\n",
       " ('przeważały', 1),\n",
       " ('kopertami', 1),\n",
       " ('przeprwadzone', 1),\n",
       " ('bezpeoblemowa', 1),\n",
       " ('mtody', 1),\n",
       " ('sierodka', 1),\n",
       " ('przewyzsza', 1),\n",
       " ('wszastkie', 1),\n",
       " ('swiatoweo', 1),\n",
       " ('waszyc', 1),\n",
       " ('prowesjonalizm', 1),\n",
       " ('amowieniem', 1),\n",
       " ('opłącenia', 1),\n",
       " ('urzedow', 1),\n",
       " ('poinformowanomnie', 1),\n",
       " ('gorłąco', 1),\n",
       " ('onstanie', 1),\n",
       " ('kiedyś5', 1),\n",
       " ('sprawnedostarczenie', 1),\n",
       " ('przelwem', 1),\n",
       " ('sprawujacy', 1),\n",
       " ('nadzor', 1),\n",
       " ('samodzeilnego', 1),\n",
       " ('podkadegorie', 1),\n",
       " ('pozostawałam', 1),\n",
       " ('ola566', 1),\n",
       " ('zadodowlony', 1),\n",
       " ('potrfelu', 1),\n",
       " ('superpharmie', 1),\n",
       " ('dozie', 1),\n",
       " ('trapiące', 1),\n",
       " ('wywiązaniu', 1),\n",
       " ('krótkszy', 1),\n",
       " ('swzybka', 1),\n",
       " ('meycznych', 1),\n",
       " ('transskcjs', 1),\n",
       " ('niewspółmierna', 1),\n",
       " ('zkupach', 1),\n",
       " ('zniecierpliwić', 1),\n",
       " ('imunoglukan', 1),\n",
       " ('zatwierdziłam', 1),\n",
       " ('asystor', 1),\n",
       " ('uprzedzanie', 1),\n",
       " ('najbliżsżej', 1),\n",
       " ('zammówień', 1),\n",
       " ('imponującym', 1),\n",
       " ('lenili', 1),\n",
       " ('pomyslano', 1),\n",
       " ('przeczesałam', 1),\n",
       " ('jimi', 1),\n",
       " ('nawilża', 1),\n",
       " ('podraznioną', 1),\n",
       " ('dostano', 1),\n",
       " ('skorxystam', 1),\n",
       " ('otrzuymałem', 1),\n",
       " ('domowieniem', 1),\n",
       " ('sortymentem', 1),\n",
       " ('zawyżył', 1),\n",
       " ('realuzują', 1),\n",
       " ('paczaka', 1),\n",
       " ('szukąłem', 1),\n",
       " ('polecenia1', 1),\n",
       " ('zgodno', 1),\n",
       " ('uzgodnilam', 1),\n",
       " ('sięzgadzały', 1),\n",
       " ('oryginlnie', 1),\n",
       " ('uzupełniac', 1),\n",
       " ('cechować', 1),\n",
       " ('dostęponość', 1),\n",
       " ('spieprzyl', 1),\n",
       " ('60sztuk', 1),\n",
       " ('zaproponowaniu', 1),\n",
       " ('dożyła', 1),\n",
       " ('odkręcila', 1),\n",
       " ('zciagneli', 1),\n",
       " ('przestlke', 1),\n",
       " ('trasankcja', 1),\n",
       " ('zamówieiem', 1),\n",
       " ('reelacyjny', 1),\n",
       " ('obsługaszej', 1),\n",
       " ('costumer', 1),\n",
       " ('podzdrawiam', 1),\n",
       " ('stacjonarrnych', 1),\n",
       " ('waptka', 1),\n",
       " ('zzzzawsze', 1),\n",
       " ('tubce', 1),\n",
       " ('wypracowaniu', 1),\n",
       " ('poziomobsługi', 1),\n",
       " ('jakoć', 1),\n",
       " ('ślnie', 1),\n",
       " ('kooperatywny', 1),\n",
       " ('komunikacija', 1),\n",
       " ('lakarstw', 1),\n",
       " ('pochlebstw', 1),\n",
       " ('wyważonej', 1),\n",
       " ('świtanie', 1),\n",
       " ('faux', 1),\n",
       " ('dodatowego', 1),\n",
       " ('rozpatzono', 1),\n",
       " ('porówananiu', 1),\n",
       " ('wychoodzi', 1),\n",
       " ('nqstepnego', 1),\n",
       " ('notesiki', 1),\n",
       " ('szybvka', 1),\n",
       " ('acc', 1),\n",
       " ('przeoczony', 1),\n",
       " ('robiłoby', 1),\n",
       " ('współpracuja', 1),\n",
       " ('perzystepne', 1),\n",
       " ('ogolonie', 1),\n",
       " ('potczas', 1),\n",
       " ('lanym', 1),\n",
       " ('pewnio', 1),\n",
       " ('wapeka', 1),\n",
       " ('nide', 1),\n",
       " ('dolącza', 1),\n",
       " ('wsparta', 1),\n",
       " ('niezdążyłem', 1),\n",
       " ('paramedykamentów', 1),\n",
       " ('najbardzioej', 1),\n",
       " ('zalaczonej', 1),\n",
       " ('ufalam', 1),\n",
       " ('inr', 1),\n",
       " ('szeregiem', 1),\n",
       " ('oklicy', 1),\n",
       " ('zagrożoną', 1),\n",
       " ('chorowała', 1),\n",
       " ('600g', 1),\n",
       " ('sfermentowane', 1),\n",
       " ('ostarniego', 1),\n",
       " ('podrozal', 1),\n",
       " ('wplyniecie', 1),\n",
       " ('krótszej', 1),\n",
       " ('dotaryly', 1),\n",
       " ('staysfakcjonujące', 1),\n",
       " ('doręcznie', 1),\n",
       " ('78pln', 1),\n",
       " ('42pln', 1),\n",
       " ('uwielbiał', 1),\n",
       " ('niekwestionowana', 1),\n",
       " ('ostapiński', 1),\n",
       " ('wsytawic', 1),\n",
       " ('25ml', 1),\n",
       " ('apteta', 1),\n",
       " ('uszkodzrniem', 1),\n",
       " ('odnotować', 1),\n",
       " ('klucenia', 1),\n",
       " ('sklsp', 1),\n",
       " ('odpowiedznio', 1),\n",
       " ('popełnianie', 1),\n",
       " ('beaproblemowa', 1),\n",
       " ('dokłady', 1),\n",
       " ('biomarine570', 1),\n",
       " ('andrzejg22', 1),\n",
       " ('rutinoscorbinu', 1),\n",
       " ('zesprzedającym', 1),\n",
       " ('zaowolana', 1),\n",
       " ('ponie', 1),\n",
       " ('przwidywanym', 1),\n",
       " ('wykrztuśne', 1),\n",
       " ('odpornościowe', 1),\n",
       " ('zadowolanoa', 1),\n",
       " ('123456789', 1),\n",
       " ('sptrzedawca', 1),\n",
       " ('szywbka', 1),\n",
       " ('internertowych', 1),\n",
       " ('rrwelacyjne', 1),\n",
       " ('przyjemnioscia', 1),\n",
       " ('numerologicznym', 1),\n",
       " ('zakochanych', 1),\n",
       " ('leiej', 1),\n",
       " ('spoczną', 1),\n",
       " ('zzmówniena', 1),\n",
       " ('jakichkoklwiek', 1),\n",
       " ('00towar', 1),\n",
       " ('dłuzszym', 1),\n",
       " ('weluru', 1),\n",
       " ('zaczesanego', 1),\n",
       " ('imaczej', 1),\n",
       " ('zamszem', 1),\n",
       " ('profesjonalnaa', 1),\n",
       " ('centymetrem', 1),\n",
       " ('nagiął', 1),\n",
       " ('zdrapywaniem', 1),\n",
       " ('łydką', 1),\n",
       " ('realizania', 1),\n",
       " ('zaniosł', 1),\n",
       " ('szczęściepani', 1),\n",
       " ('peoblemow', 1),\n",
       " ('kopotow', 1),\n",
       " ('zufridenheit', 1),\n",
       " ('empfehlenswert', 1),\n",
       " ('zwężenia', 1),\n",
       " ('uwrażliwieniem', 1),\n",
       " ('obslusa', 1),\n",
       " ('potrzee', 1),\n",
       " ('topornie', 1),\n",
       " ('89pln', 1),\n",
       " ('lasockim', 1),\n",
       " ('stabilności', 1),\n",
       " ('okresowego', 1),\n",
       " ('obouwie', 1),\n",
       " ('automacie', 1),\n",
       " ('spełnieniajace', 1),\n",
       " ('przyjemnostka', 1),\n",
       " ('robotaaa', 1),\n",
       " ('zawszeprzebiegła', 1),\n",
       " ('produkti', 1),\n",
       " ('doraobsluga', 1),\n",
       " ('zadowolonyzadowolona', 1),\n",
       " ('nieporęczne', 1),\n",
       " ('wachaja', 1),\n",
       " ('serwsu', 1),\n",
       " ('uspójnić', 1),\n",
       " ('upraszczajcie', 1),\n",
       " ('zakpuy', 1),\n",
       " ('maxell', 1),\n",
       " ('dolączone', 1),\n",
       " ('399zl', 1),\n",
       " ('zaimpregnowaniu', 1),\n",
       " ('antiaqua', 1),\n",
       " ('jakichkoliek', 1),\n",
       " ('dokłładnie', 1),\n",
       " ('kwitów', 1),\n",
       " ('rządnych', 1),\n",
       " ('marszczenie', 1),\n",
       " ('skiry', 1),\n",
       " ('przymierzę', 1),\n",
       " ('piorunowo', 1),\n",
       " ('dogona', 1),\n",
       " ('rabatowegoa', 1),\n",
       " ('krótej', 1),\n",
       " ('wszystkoest', 1),\n",
       " ('kipowac', 1),\n",
       " ('jedakże', 1),\n",
       " ('profeskonalnie', 1),\n",
       " ('rozdarka', 1),\n",
       " ('bodki', 1),\n",
       " ('omięło', 1),\n",
       " ('filcem', 1),\n",
       " ('intrnet', 1),\n",
       " ('naliczyło', 1),\n",
       " ('bierzacym', 1),\n",
       " ('wygarbowana', 1),\n",
       " ('wieletnią', 1),\n",
       " ('trsnzakcja', 1),\n",
       " ('zazutu', 1),\n",
       " ('boots', 1),\n",
       " ('opoziomie', 1),\n",
       " ('zjęciami', 1),\n",
       " ('skomplikowałam', 1),\n",
       " ('wyrazny', 1),\n",
       " ('pomiete', 1),\n",
       " ('luksówka', 1),\n",
       " ('dużyyyy', 1),\n",
       " ('póżniejszej', 1),\n",
       " ('znaczace', 1),\n",
       " ('rozlaczajaca', 1),\n",
       " ('podcxas', 1),\n",
       " ('wykanano', 1),\n",
       " ('konserwacyjne', 1),\n",
       " ('wzrocic', 1),\n",
       " ('korzystalbym', 1),\n",
       " ('adidasach', 1),\n",
       " ('cięko', 1),\n",
       " ('wykorzystywaniu', 1),\n",
       " ('pomarańczowemu', 1),\n",
       " ('wytłoczony', 1),\n",
       " ('wskazówkach', 1),\n",
       " ('ścigano', 1),\n",
       " ('powinnny', 1),\n",
       " ('fachura', 1),\n",
       " ('transakcjas', 1),\n",
       " ('staraniom', 1),\n",
       " ('prokonsumenckie', 1),\n",
       " ('rajstopie', 1),\n",
       " ('skarpetce', 1),\n",
       " ('oczekiwaiami', 1),\n",
       " ('zakłióceń', 1),\n",
       " ('paczakomacie', 1),\n",
       " ('przyspożylo', 1),\n",
       " ('eprofesjonalnie', 1),\n",
       " ('epolecam', 1),\n",
       " ('znakomocie', 1),\n",
       " ('profesjolanla', 1),\n",
       " ('znajomity', 1),\n",
       " ('poniedziale', 1),\n",
       " ('stockholmu', 1),\n",
       " ('edę', 1),\n",
       " ('awizowaną', 1),\n",
       " ...]"
      ]
     },
     "execution_count": 43,
     "metadata": {},
     "output_type": "execute_result"
    }
   ],
   "source": [
    "sorted(frequency.items(), key = lambda kv: kv[1], reverse=False)"
   ]
  },
  {
   "cell_type": "markdown",
   "id": "6c458cfd",
   "metadata": {},
   "source": [
    "# load preprocessed pickle"
   ]
  },
  {
   "cell_type": "code",
   "execution_count": 227,
   "id": "52432a1d",
   "metadata": {
    "ExecuteTime": {
     "end_time": "2021-10-27T23:59:05.732019Z",
     "start_time": "2021-10-27T23:59:00.202782Z"
    }
   },
   "outputs": [
    {
     "name": "stderr",
     "output_type": "stream",
     "text": [
      "INFO:2021-10-28 01:59:00:io:loading from pickle: ./data/20211026_225637/df_prepro.pkl\n",
      "INFO:2021-10-28 01:59:05:io:loaded 917525 rows\n"
     ]
    }
   ],
   "source": [
    "data = PickleLoader().load()"
   ]
  },
  {
   "cell_type": "code",
   "execution_count": 30,
   "id": "01219d96",
   "metadata": {
    "ExecuteTime": {
     "end_time": "2021-10-26T21:05:48.130889Z",
     "start_time": "2021-10-26T21:05:48.108223Z"
    }
   },
   "outputs": [
    {
     "data": {
      "text/html": [
       "<div>\n",
       "<style scoped>\n",
       "    .dataframe tbody tr th:only-of-type {\n",
       "        vertical-align: middle;\n",
       "    }\n",
       "\n",
       "    .dataframe tbody tr th {\n",
       "        vertical-align: top;\n",
       "    }\n",
       "\n",
       "    .dataframe thead th {\n",
       "        text-align: right;\n",
       "    }\n",
       "</style>\n",
       "<table border=\"1\" class=\"dataframe\">\n",
       "  <thead>\n",
       "    <tr style=\"text-align: right;\">\n",
       "      <th></th>\n",
       "      <th>desc</th>\n",
       "      <th>len</th>\n",
       "      <th>negative</th>\n",
       "      <th>desc_clean</th>\n",
       "      <th>len_clean</th>\n",
       "      <th>len_clean_ratio</th>\n",
       "      <th>tokens</th>\n",
       "      <th>tokens_len</th>\n",
       "    </tr>\n",
       "  </thead>\n",
       "  <tbody>\n",
       "    <tr>\n",
       "      <th>0</th>\n",
       "      <td>Polecam nie pierwszy i nie ostatni raz!</td>\n",
       "      <td>39</td>\n",
       "      <td>0.0</td>\n",
       "      <td>polecam nie pierwszy i nie ostatni raz</td>\n",
       "      <td>38</td>\n",
       "      <td>0.974359</td>\n",
       "      <td>[polecam, nie, pierwszy, i, nie, ostatni, raz]</td>\n",
       "      <td>7</td>\n",
       "    </tr>\n",
       "    <tr>\n",
       "      <th>1</th>\n",
       "      <td>Bardzo dobra komunikacja sms i telefoniczna. Z...</td>\n",
       "      <td>121</td>\n",
       "      <td>0.0</td>\n",
       "      <td>bardzo dobra komunikacja sms i telefoniczna za...</td>\n",
       "      <td>117</td>\n",
       "      <td>0.966942</td>\n",
       "      <td>[bardzo, dobra, komunikacja, sms, i, telefonic...</td>\n",
       "      <td>16</td>\n",
       "    </tr>\n",
       "    <tr>\n",
       "      <th>2</th>\n",
       "      <td>Polecam zakupy w tym sklepie. Są dostępne częś...</td>\n",
       "      <td>87</td>\n",
       "      <td>0.0</td>\n",
       "      <td>polecam zakupy w tym sklepie są dostępne częśc...</td>\n",
       "      <td>84</td>\n",
       "      <td>0.965517</td>\n",
       "      <td>[polecam, zakupy, w, tym, sklepie, są, dostępn...</td>\n",
       "      <td>14</td>\n",
       "    </tr>\n",
       "    <tr>\n",
       "      <th>3</th>\n",
       "      <td>Jestem w pełni zadowolona z przebiegu transakcji</td>\n",
       "      <td>48</td>\n",
       "      <td>0.0</td>\n",
       "      <td>jestem w pełni zadowolona z przebiegu transakcji</td>\n",
       "      <td>48</td>\n",
       "      <td>1.000000</td>\n",
       "      <td>[jestem, w, pełni, zadowolona, z, przebiegu, t...</td>\n",
       "      <td>7</td>\n",
       "    </tr>\n",
       "    <tr>\n",
       "      <th>4</th>\n",
       "      <td>Transakcja przebiegła błyskawicznie. Pełen pro...</td>\n",
       "      <td>86</td>\n",
       "      <td>0.0</td>\n",
       "      <td>transakcja przebiegła błyskawicznie pełen prof...</td>\n",
       "      <td>84</td>\n",
       "      <td>0.976744</td>\n",
       "      <td>[transakcja, przebiegła, błyskawicznie, pełen,...</td>\n",
       "      <td>9</td>\n",
       "    </tr>\n",
       "  </tbody>\n",
       "</table>\n",
       "</div>"
      ],
      "text/plain": [
       "                                                desc  len  negative  \\\n",
       "0            Polecam nie pierwszy i nie ostatni raz!   39       0.0   \n",
       "1  Bardzo dobra komunikacja sms i telefoniczna. Z...  121       0.0   \n",
       "2  Polecam zakupy w tym sklepie. Są dostępne częś...   87       0.0   \n",
       "3   Jestem w pełni zadowolona z przebiegu transakcji   48       0.0   \n",
       "4  Transakcja przebiegła błyskawicznie. Pełen pro...   86       0.0   \n",
       "\n",
       "                                          desc_clean  len_clean  \\\n",
       "0             polecam nie pierwszy i nie ostatni raz         38   \n",
       "1  bardzo dobra komunikacja sms i telefoniczna za...        117   \n",
       "2  polecam zakupy w tym sklepie są dostępne częśc...         84   \n",
       "3   jestem w pełni zadowolona z przebiegu transakcji         48   \n",
       "4  transakcja przebiegła błyskawicznie pełen prof...         84   \n",
       "\n",
       "   len_clean_ratio                                             tokens  \\\n",
       "0         0.974359     [polecam, nie, pierwszy, i, nie, ostatni, raz]   \n",
       "1         0.966942  [bardzo, dobra, komunikacja, sms, i, telefonic...   \n",
       "2         0.965517  [polecam, zakupy, w, tym, sklepie, są, dostępn...   \n",
       "3         1.000000  [jestem, w, pełni, zadowolona, z, przebiegu, t...   \n",
       "4         0.976744  [transakcja, przebiegła, błyskawicznie, pełen,...   \n",
       "\n",
       "   tokens_len  \n",
       "0           7  \n",
       "1          16  \n",
       "2          14  \n",
       "3           7  \n",
       "4           9  "
      ]
     },
     "execution_count": 30,
     "metadata": {},
     "output_type": "execute_result"
    }
   ],
   "source": [
    "data.head()"
   ]
  },
  {
   "cell_type": "markdown",
   "id": "fc36c5c2",
   "metadata": {},
   "source": [
    "# modeling"
   ]
  },
  {
   "cell_type": "markdown",
   "id": "62107800",
   "metadata": {},
   "source": [
    "## imports"
   ]
  },
  {
   "cell_type": "code",
   "execution_count": 7,
   "id": "602d5a5a",
   "metadata": {
    "ExecuteTime": {
     "end_time": "2021-10-26T20:21:19.395212Z",
     "start_time": "2021-10-26T20:21:19.107679Z"
    }
   },
   "outputs": [],
   "source": [
    "import gensim\n",
    "from gensim import corpora, models"
   ]
  },
  {
   "cell_type": "markdown",
   "id": "a0af3a1d",
   "metadata": {},
   "source": [
    "## dictionary"
   ]
  },
  {
   "cell_type": "code",
   "execution_count": 8,
   "id": "b9524c3c",
   "metadata": {
    "ExecuteTime": {
     "end_time": "2021-10-26T20:21:36.923867Z",
     "start_time": "2021-10-26T20:21:22.852522Z"
    }
   },
   "outputs": [],
   "source": [
    "# Create dictionary\n",
    "dictionary = corpora.Dictionary(data['tokens'])"
   ]
  },
  {
   "cell_type": "code",
   "execution_count": 9,
   "id": "96970e15",
   "metadata": {
    "ExecuteTime": {
     "end_time": "2021-10-26T20:25:03.966841Z",
     "start_time": "2021-10-26T20:25:03.954202Z"
    }
   },
   "outputs": [
    {
     "name": "stdout",
     "output_type": "stream",
     "text": [
      "unique tokens count: 260521\n"
     ]
    }
   ],
   "source": [
    "print(f\"unique tokens count: {len(dictionary)}\")"
   ]
  },
  {
   "cell_type": "code",
   "execution_count": 94,
   "id": "70611de6",
   "metadata": {
    "ExecuteTime": {
     "end_time": "2021-10-27T21:49:05.503150Z",
     "start_time": "2021-10-27T21:49:05.487110Z"
    }
   },
   "outputs": [
    {
     "data": {
      "text/plain": [
       "3051"
      ]
     },
     "execution_count": 94,
     "metadata": {},
     "output_type": "execute_result"
    }
   ],
   "source": [
    "dictionary.token2id['hej']"
   ]
  },
  {
   "cell_type": "code",
   "execution_count": 105,
   "id": "74423437",
   "metadata": {
    "ExecuteTime": {
     "end_time": "2021-10-27T21:54:20.269503Z",
     "start_time": "2021-10-27T21:54:20.185140Z"
    }
   },
   "outputs": [
    {
     "data": {
      "text/plain": [
       "'i'"
      ]
     },
     "execution_count": 105,
     "metadata": {},
     "output_type": "execute_result"
    }
   ],
   "source": [
    "dictionary[0]"
   ]
  },
  {
   "cell_type": "code",
   "execution_count": 110,
   "id": "4e295b79",
   "metadata": {
    "ExecuteTime": {
     "end_time": "2021-10-27T21:56:16.459722Z",
     "start_time": "2021-10-27T21:56:16.431743Z"
    }
   },
   "outputs": [
    {
     "data": {
      "text/plain": [
       "[(129, 2), (1165, 1), (2545, 1)]"
      ]
     },
     "execution_count": 110,
     "metadata": {},
     "output_type": "execute_result"
    }
   ],
   "source": [
    "dictionary.doc2bow(['takie', 'tam', 'tu', 'tam'])"
   ]
  },
  {
   "cell_type": "code",
   "execution_count": 112,
   "id": "f42fabe3",
   "metadata": {
    "ExecuteTime": {
     "end_time": "2021-10-27T21:58:08.367207Z",
     "start_time": "2021-10-27T21:58:08.349741Z"
    }
   },
   "outputs": [
    {
     "data": {
      "text/plain": [
       "[(2545, 1), (8059, 1)]"
      ]
     },
     "execution_count": 112,
     "metadata": {},
     "output_type": "execute_result"
    }
   ],
   "source": [
    "dictionary.doc2bow('takie ładne cośik'.split())"
   ]
  },
  {
   "cell_type": "code",
   "execution_count": 122,
   "id": "cee007e3",
   "metadata": {
    "ExecuteTime": {
     "end_time": "2021-10-27T22:04:05.267675Z",
     "start_time": "2021-10-27T22:04:05.254126Z"
    }
   },
   "outputs": [
    {
     "data": {
      "text/plain": [
       "398206"
      ]
     },
     "execution_count": 122,
     "metadata": {},
     "output_type": "execute_result"
    }
   ],
   "source": [
    "# number token occurances\n",
    "dictionary.cfs[dictionary.token2id['i']]"
   ]
  },
  {
   "cell_type": "code",
   "execution_count": 123,
   "id": "06a6d870",
   "metadata": {
    "ExecuteTime": {
     "end_time": "2021-10-27T22:04:08.948780Z",
     "start_time": "2021-10-27T22:04:08.933614Z"
    }
   },
   "outputs": [
    {
     "data": {
      "text/plain": [
       "322975"
      ]
     },
     "execution_count": 123,
     "metadata": {},
     "output_type": "execute_result"
    }
   ],
   "source": [
    "# number of documents with this token\n",
    "dictionary.dfs[dictionary.token2id['i']]"
   ]
  },
  {
   "cell_type": "code",
   "execution_count": 124,
   "id": "e4495270",
   "metadata": {
    "ExecuteTime": {
     "end_time": "2021-10-27T22:14:17.678033Z",
     "start_time": "2021-10-27T22:14:17.665253Z"
    }
   },
   "outputs": [],
   "source": [
    "import copy"
   ]
  },
  {
   "cell_type": "code",
   "execution_count": 205,
   "id": "edd6ff6b",
   "metadata": {
    "ExecuteTime": {
     "end_time": "2021-10-27T23:24:31.205027Z",
     "start_time": "2021-10-27T23:24:31.190989Z"
    }
   },
   "outputs": [],
   "source": [
    "d2 = copy.copy(dictionary)"
   ]
  },
  {
   "cell_type": "code",
   "execution_count": 197,
   "id": "e69fbf72",
   "metadata": {
    "ExecuteTime": {
     "end_time": "2021-10-27T23:01:13.764754Z",
     "start_time": "2021-10-27T23:01:13.464042Z"
    }
   },
   "outputs": [
    {
     "name": "stderr",
     "output_type": "stream",
     "text": [
      "INFO:2021-10-28 01:01:13:gensim.corpora.dictionary:discarding 250521 tokens: [('i', 322975), ('polecam', 311848), ('lodówek', 14), ('szybę', 36), ('elastyczna', 51), ('wyrozumiała', 41), ('magiczne', 7), ('pomylono', 51), ('różowo', 8), ('wybrakowany', 25)]...\n",
      "INFO:2021-10-28 01:01:13:gensim.corpora.dictionary:keeping 10000 tokens which were in no less than 50 and no more than 275257 (=30.0%) documents\n",
      "INFO:2021-10-28 01:01:13:gensim.corpora.dictionary:resulting dictionary: Dictionary(10000 unique tokens: ['nie', 'ostatni', 'pierwszy', 'raz', 'bardzo']...)\n"
     ]
    }
   ],
   "source": [
    "d2.filter_extremes(no_below=50, no_above=0.3, keep_n=10000, keep_tokens=None)"
   ]
  },
  {
   "cell_type": "code",
   "execution_count": 198,
   "id": "ab09169b",
   "metadata": {
    "ExecuteTime": {
     "end_time": "2021-10-27T23:01:15.199628Z",
     "start_time": "2021-10-27T23:01:15.186040Z"
    }
   },
   "outputs": [
    {
     "data": {
      "text/plain": [
       "10000"
      ]
     },
     "execution_count": 198,
     "metadata": {},
     "output_type": "execute_result"
    }
   ],
   "source": [
    "len(d2)"
   ]
  },
  {
   "cell_type": "code",
   "execution_count": 206,
   "id": "34d1a006",
   "metadata": {
    "ExecuteTime": {
     "end_time": "2021-10-27T23:24:53.235931Z",
     "start_time": "2021-10-27T23:24:53.218304Z"
    }
   },
   "outputs": [
    {
     "ename": "TypeError",
     "evalue": "unsupported operand type(s) for *: 'NoneType' and 'int'",
     "output_type": "error",
     "traceback": [
      "\u001b[0;31m---------------------------------------------------------------------------\u001b[0m",
      "\u001b[0;31mTypeError\u001b[0m                                 Traceback (most recent call last)",
      "\u001b[0;32m/tmp/ipykernel_9332/2401437979.py\u001b[0m in \u001b[0;36m<module>\u001b[0;34m\u001b[0m\n\u001b[0;32m----> 1\u001b[0;31m \u001b[0md2\u001b[0m\u001b[0;34m.\u001b[0m\u001b[0mfilter_extremes\u001b[0m\u001b[0;34m(\u001b[0m\u001b[0mno_below\u001b[0m\u001b[0;34m=\u001b[0m\u001b[0;32mNone\u001b[0m\u001b[0;34m,\u001b[0m \u001b[0mno_above\u001b[0m\u001b[0;34m=\u001b[0m\u001b[0;32mNone\u001b[0m\u001b[0;34m,\u001b[0m \u001b[0mkeep_n\u001b[0m\u001b[0;34m=\u001b[0m\u001b[0;32mNone\u001b[0m\u001b[0;34m,\u001b[0m \u001b[0mkeep_tokens\u001b[0m\u001b[0;34m=\u001b[0m\u001b[0;32mNone\u001b[0m\u001b[0;34m)\u001b[0m\u001b[0;34m\u001b[0m\u001b[0;34m\u001b[0m\u001b[0m\n\u001b[0m",
      "\u001b[0;32m~/Pulpit/pyProj/gensim/venv/lib/python3.8/site-packages/gensim/corpora/dictionary.py\u001b[0m in \u001b[0;36mfilter_extremes\u001b[0;34m(self, no_below, no_above, keep_n, keep_tokens)\u001b[0m\n\u001b[1;32m    346\u001b[0m \u001b[0;34m\u001b[0m\u001b[0m\n\u001b[1;32m    347\u001b[0m         \"\"\"\n\u001b[0;32m--> 348\u001b[0;31m         \u001b[0mno_above_abs\u001b[0m \u001b[0;34m=\u001b[0m \u001b[0mint\u001b[0m\u001b[0;34m(\u001b[0m\u001b[0mno_above\u001b[0m \u001b[0;34m*\u001b[0m \u001b[0mself\u001b[0m\u001b[0;34m.\u001b[0m\u001b[0mnum_docs\u001b[0m\u001b[0;34m)\u001b[0m  \u001b[0;31m# convert fractional threshold to absolute threshold\u001b[0m\u001b[0;34m\u001b[0m\u001b[0;34m\u001b[0m\u001b[0m\n\u001b[0m\u001b[1;32m    349\u001b[0m \u001b[0;34m\u001b[0m\u001b[0m\n\u001b[1;32m    350\u001b[0m         \u001b[0;31m# determine which tokens to keep\u001b[0m\u001b[0;34m\u001b[0m\u001b[0;34m\u001b[0m\u001b[0;34m\u001b[0m\u001b[0m\n",
      "\u001b[0;31mTypeError\u001b[0m: unsupported operand type(s) for *: 'NoneType' and 'int'"
     ]
    }
   ],
   "source": [
    "d2.filter_extremes(no_below=None, no_above=None, keep_n=None, keep_tokens=None)"
   ]
  },
  {
   "cell_type": "code",
   "execution_count": 207,
   "id": "00106534",
   "metadata": {
    "ExecuteTime": {
     "end_time": "2021-10-27T23:27:42.932700Z",
     "start_time": "2021-10-27T23:27:42.919247Z"
    }
   },
   "outputs": [
    {
     "data": {
      "text/plain": [
       "{'a': None, 'b': None}"
      ]
     },
     "execution_count": 207,
     "metadata": {},
     "output_type": "execute_result"
    }
   ],
   "source": [
    "dd = {'a': None, 'b': None}\n",
    "dd"
   ]
  },
  {
   "cell_type": "code",
   "execution_count": 210,
   "id": "7d573f3b",
   "metadata": {
    "ExecuteTime": {
     "end_time": "2021-10-27T23:32:04.119319Z",
     "start_time": "2021-10-27T23:32:04.105293Z"
    }
   },
   "outputs": [],
   "source": [
    "if dict():\n",
    "    print('hi')"
   ]
  },
  {
   "cell_type": "code",
   "execution_count": 211,
   "id": "7beb2e91",
   "metadata": {
    "ExecuteTime": {
     "end_time": "2021-10-27T23:32:10.283037Z",
     "start_time": "2021-10-27T23:32:10.269782Z"
    }
   },
   "outputs": [
    {
     "data": {
      "text/plain": [
       "{}"
      ]
     },
     "execution_count": 211,
     "metadata": {},
     "output_type": "execute_result"
    }
   ],
   "source": [
    "dict()"
   ]
  },
  {
   "cell_type": "markdown",
   "id": "fd6f5089",
   "metadata": {},
   "source": [
    "## corpus to pd"
   ]
  },
  {
   "cell_type": "code",
   "execution_count": 152,
   "id": "2e174bcd",
   "metadata": {
    "ExecuteTime": {
     "end_time": "2021-10-27T22:30:05.772846Z",
     "start_time": "2021-10-27T22:30:05.755871Z"
    }
   },
   "outputs": [],
   "source": [
    "import scipy as sp"
   ]
  },
  {
   "cell_type": "code",
   "execution_count": 199,
   "id": "0b200c3f",
   "metadata": {
    "ExecuteTime": {
     "end_time": "2021-10-27T23:01:19.285654Z",
     "start_time": "2021-10-27T23:01:19.272084Z"
    }
   },
   "outputs": [
    {
     "data": {
      "text/plain": [
       "[[(0, 1), (3, 1), (6, 1), (11, 1)], [(5, 1), (19, 1)]]"
      ]
     },
     "execution_count": 199,
     "metadata": {},
     "output_type": "execute_result"
    }
   ],
   "source": [
    "l = [['nie', 'raz', 'dobrze', 'ten'], ['dobra', 'do']]\n",
    "# l = [['nie', 'raz', 'dobrze', 'ten']]\n",
    "\n",
    "corpus = [d2.doc2bow(t) for t in l]\n",
    "corpus"
   ]
  },
  {
   "cell_type": "code",
   "execution_count": 200,
   "id": "b0641b5a",
   "metadata": {
    "ExecuteTime": {
     "end_time": "2021-10-27T23:01:20.115456Z",
     "start_time": "2021-10-27T23:01:20.102790Z"
    }
   },
   "outputs": [],
   "source": [
    "i, j, data = zip(*((i, t[0], t[1]) for i, row in enumerate(corpus) for t in row))"
   ]
  },
  {
   "cell_type": "code",
   "execution_count": 201,
   "id": "b885edca",
   "metadata": {
    "ExecuteTime": {
     "end_time": "2021-10-27T23:01:22.230485Z",
     "start_time": "2021-10-27T23:01:22.205922Z"
    }
   },
   "outputs": [],
   "source": [
    "mm = sp.sparse.coo_matrix((data, (i, j)), shape=(len(corpus), len(d2)))"
   ]
  },
  {
   "cell_type": "code",
   "execution_count": 202,
   "id": "399b30e0",
   "metadata": {
    "ExecuteTime": {
     "end_time": "2021-10-27T23:01:22.975836Z",
     "start_time": "2021-10-27T23:01:22.820096Z"
    }
   },
   "outputs": [
    {
     "data": {
      "text/html": [
       "<div>\n",
       "<style scoped>\n",
       "    .dataframe tbody tr th:only-of-type {\n",
       "        vertical-align: middle;\n",
       "    }\n",
       "\n",
       "    .dataframe tbody tr th {\n",
       "        vertical-align: top;\n",
       "    }\n",
       "\n",
       "    .dataframe thead th {\n",
       "        text-align: right;\n",
       "    }\n",
       "</style>\n",
       "<table border=\"1\" class=\"dataframe\">\n",
       "  <thead>\n",
       "    <tr style=\"text-align: right;\">\n",
       "      <th></th>\n",
       "      <th>0</th>\n",
       "      <th>1</th>\n",
       "      <th>2</th>\n",
       "      <th>3</th>\n",
       "      <th>4</th>\n",
       "      <th>5</th>\n",
       "      <th>6</th>\n",
       "      <th>7</th>\n",
       "      <th>8</th>\n",
       "      <th>9</th>\n",
       "      <th>...</th>\n",
       "      <th>9990</th>\n",
       "      <th>9991</th>\n",
       "      <th>9992</th>\n",
       "      <th>9993</th>\n",
       "      <th>9994</th>\n",
       "      <th>9995</th>\n",
       "      <th>9996</th>\n",
       "      <th>9997</th>\n",
       "      <th>9998</th>\n",
       "      <th>9999</th>\n",
       "    </tr>\n",
       "  </thead>\n",
       "  <tbody>\n",
       "    <tr>\n",
       "      <th>0</th>\n",
       "      <td>1</td>\n",
       "      <td>0</td>\n",
       "      <td>0</td>\n",
       "      <td>1</td>\n",
       "      <td>0</td>\n",
       "      <td>0</td>\n",
       "      <td>1</td>\n",
       "      <td>0</td>\n",
       "      <td>0</td>\n",
       "      <td>0</td>\n",
       "      <td>...</td>\n",
       "      <td>0</td>\n",
       "      <td>0</td>\n",
       "      <td>0</td>\n",
       "      <td>0</td>\n",
       "      <td>0</td>\n",
       "      <td>0</td>\n",
       "      <td>0</td>\n",
       "      <td>0</td>\n",
       "      <td>0</td>\n",
       "      <td>0</td>\n",
       "    </tr>\n",
       "    <tr>\n",
       "      <th>1</th>\n",
       "      <td>0</td>\n",
       "      <td>0</td>\n",
       "      <td>0</td>\n",
       "      <td>0</td>\n",
       "      <td>0</td>\n",
       "      <td>1</td>\n",
       "      <td>0</td>\n",
       "      <td>0</td>\n",
       "      <td>0</td>\n",
       "      <td>0</td>\n",
       "      <td>...</td>\n",
       "      <td>0</td>\n",
       "      <td>0</td>\n",
       "      <td>0</td>\n",
       "      <td>0</td>\n",
       "      <td>0</td>\n",
       "      <td>0</td>\n",
       "      <td>0</td>\n",
       "      <td>0</td>\n",
       "      <td>0</td>\n",
       "      <td>0</td>\n",
       "    </tr>\n",
       "  </tbody>\n",
       "</table>\n",
       "<p>2 rows × 10000 columns</p>\n",
       "</div>"
      ],
      "text/plain": [
       "   0     1     2     3     4     5     6     7     8     9     ...  9990  \\\n",
       "0     1     0     0     1     0     0     1     0     0     0  ...     0   \n",
       "1     0     0     0     0     0     1     0     0     0     0  ...     0   \n",
       "\n",
       "   9991  9992  9993  9994  9995  9996  9997  9998  9999  \n",
       "0     0     0     0     0     0     0     0     0     0  \n",
       "1     0     0     0     0     0     0     0     0     0  \n",
       "\n",
       "[2 rows x 10000 columns]"
      ]
     },
     "execution_count": 202,
     "metadata": {},
     "output_type": "execute_result"
    }
   ],
   "source": [
    "pd.DataFrame.sparse.from_spmatrix(mm)"
   ]
  },
  {
   "cell_type": "markdown",
   "id": "9843b2fc",
   "metadata": {},
   "source": [
    "## corpus"
   ]
  },
  {
   "cell_type": "code",
   "execution_count": 178,
   "id": "43c05ca7",
   "metadata": {
    "ExecuteTime": {
     "end_time": "2021-10-27T22:58:24.471424Z",
     "start_time": "2021-10-27T22:58:13.356624Z"
    }
   },
   "outputs": [],
   "source": [
    "corpus = [dictionary.doc2bow(tokens) for tokens in data['tokens']]"
   ]
  },
  {
   "cell_type": "code",
   "execution_count": 14,
   "id": "9dfe20b3",
   "metadata": {
    "ExecuteTime": {
     "end_time": "2021-10-26T20:42:22.673042Z",
     "start_time": "2021-10-26T20:42:22.650034Z"
    }
   },
   "outputs": [
    {
     "data": {
      "text/plain": [
       "917525"
      ]
     },
     "execution_count": 14,
     "metadata": {},
     "output_type": "execute_result"
    }
   ],
   "source": [
    "len(corpus)"
   ]
  },
  {
   "cell_type": "code",
   "execution_count": 111,
   "id": "6b9fd0ec",
   "metadata": {
    "ExecuteTime": {
     "end_time": "2021-10-27T21:57:53.578183Z",
     "start_time": "2021-10-27T21:57:53.562137Z"
    }
   },
   "outputs": [
    {
     "data": {
      "text/plain": [
       "[(0, 1), (1, 2), (2, 1), (3, 1), (4, 1), (5, 1)]"
      ]
     },
     "execution_count": 111,
     "metadata": {},
     "output_type": "execute_result"
    }
   ],
   "source": [
    "corpus[0]"
   ]
  },
  {
   "cell_type": "code",
   "execution_count": 129,
   "id": "37a6a62d",
   "metadata": {
    "ExecuteTime": {
     "end_time": "2021-10-27T22:18:21.734658Z",
     "start_time": "2021-10-27T22:18:21.720473Z"
    }
   },
   "outputs": [
    {
     "data": {
      "text/plain": [
       "ItemsView(<gensim.corpora.dictionary.Dictionary object at 0x7f59d5407280>)"
      ]
     },
     "execution_count": 129,
     "metadata": {},
     "output_type": "execute_result"
    }
   ],
   "source": [
    "d2.items()"
   ]
  },
  {
   "cell_type": "code",
   "execution_count": null,
   "id": "02d5a09c",
   "metadata": {},
   "outputs": [],
   "source": []
  },
  {
   "cell_type": "code",
   "execution_count": 219,
   "id": "be8d80b3",
   "metadata": {
    "ExecuteTime": {
     "end_time": "2021-10-27T23:51:03.879189Z",
     "start_time": "2021-10-27T23:51:03.860825Z"
    }
   },
   "outputs": [
    {
     "name": "stdout",
     "output_type": "stream",
     "text": [
      "[(0, 0.13595079358327705), (3, 0.5820688743040994), (6, 0.1847102734992555), (11, 0.7801251964616102)]\n",
      "[(5, 0.5519210881824143), (19, 0.8338963439298314)]\n"
     ]
    }
   ],
   "source": [
    "for x in tfidf[corpus][:20]:\n",
    "    print(x)"
   ]
  },
  {
   "cell_type": "markdown",
   "id": "a8ec1da6",
   "metadata": {},
   "source": [
    "# tfidf"
   ]
  },
  {
   "cell_type": "code",
   "execution_count": 179,
   "id": "c0098d48",
   "metadata": {
    "ExecuteTime": {
     "end_time": "2021-10-27T22:58:52.798703Z",
     "start_time": "2021-10-27T22:58:49.756730Z"
    },
    "scrolled": true
   },
   "outputs": [
    {
     "name": "stderr",
     "output_type": "stream",
     "text": [
      "INFO:2021-10-28 00:58:50:gensim.models.tfidfmodel:collecting document frequencies\n",
      "INFO:2021-10-28 00:58:50:gensim.models.tfidfmodel:PROGRESS: processing document #0\n",
      "INFO:2021-10-28 00:58:50:gensim.models.tfidfmodel:PROGRESS: processing document #10000\n",
      "INFO:2021-10-28 00:58:50:gensim.models.tfidfmodel:PROGRESS: processing document #20000\n",
      "INFO:2021-10-28 00:58:50:gensim.models.tfidfmodel:PROGRESS: processing document #30000\n",
      "INFO:2021-10-28 00:58:50:gensim.models.tfidfmodel:PROGRESS: processing document #40000\n",
      "INFO:2021-10-28 00:58:50:gensim.models.tfidfmodel:PROGRESS: processing document #50000\n",
      "INFO:2021-10-28 00:58:50:gensim.models.tfidfmodel:PROGRESS: processing document #60000\n",
      "INFO:2021-10-28 00:58:50:gensim.models.tfidfmodel:PROGRESS: processing document #70000\n",
      "INFO:2021-10-28 00:58:50:gensim.models.tfidfmodel:PROGRESS: processing document #80000\n",
      "INFO:2021-10-28 00:58:50:gensim.models.tfidfmodel:PROGRESS: processing document #90000\n",
      "INFO:2021-10-28 00:58:50:gensim.models.tfidfmodel:PROGRESS: processing document #100000\n",
      "INFO:2021-10-28 00:58:50:gensim.models.tfidfmodel:PROGRESS: processing document #110000\n",
      "INFO:2021-10-28 00:58:50:gensim.models.tfidfmodel:PROGRESS: processing document #120000\n",
      "INFO:2021-10-28 00:58:50:gensim.models.tfidfmodel:PROGRESS: processing document #130000\n",
      "INFO:2021-10-28 00:58:50:gensim.models.tfidfmodel:PROGRESS: processing document #140000\n",
      "INFO:2021-10-28 00:58:50:gensim.models.tfidfmodel:PROGRESS: processing document #150000\n",
      "INFO:2021-10-28 00:58:50:gensim.models.tfidfmodel:PROGRESS: processing document #160000\n",
      "INFO:2021-10-28 00:58:50:gensim.models.tfidfmodel:PROGRESS: processing document #170000\n",
      "INFO:2021-10-28 00:58:50:gensim.models.tfidfmodel:PROGRESS: processing document #180000\n",
      "INFO:2021-10-28 00:58:50:gensim.models.tfidfmodel:PROGRESS: processing document #190000\n",
      "INFO:2021-10-28 00:58:50:gensim.models.tfidfmodel:PROGRESS: processing document #200000\n",
      "INFO:2021-10-28 00:58:50:gensim.models.tfidfmodel:PROGRESS: processing document #210000\n",
      "INFO:2021-10-28 00:58:50:gensim.models.tfidfmodel:PROGRESS: processing document #220000\n",
      "INFO:2021-10-28 00:58:50:gensim.models.tfidfmodel:PROGRESS: processing document #230000\n",
      "INFO:2021-10-28 00:58:50:gensim.models.tfidfmodel:PROGRESS: processing document #240000\n",
      "INFO:2021-10-28 00:58:50:gensim.models.tfidfmodel:PROGRESS: processing document #250000\n",
      "INFO:2021-10-28 00:58:50:gensim.models.tfidfmodel:PROGRESS: processing document #260000\n",
      "INFO:2021-10-28 00:58:50:gensim.models.tfidfmodel:PROGRESS: processing document #270000\n",
      "INFO:2021-10-28 00:58:50:gensim.models.tfidfmodel:PROGRESS: processing document #280000\n",
      "INFO:2021-10-28 00:58:50:gensim.models.tfidfmodel:PROGRESS: processing document #290000\n",
      "INFO:2021-10-28 00:58:50:gensim.models.tfidfmodel:PROGRESS: processing document #300000\n",
      "INFO:2021-10-28 00:58:50:gensim.models.tfidfmodel:PROGRESS: processing document #310000\n",
      "INFO:2021-10-28 00:58:50:gensim.models.tfidfmodel:PROGRESS: processing document #320000\n",
      "INFO:2021-10-28 00:58:50:gensim.models.tfidfmodel:PROGRESS: processing document #330000\n",
      "INFO:2021-10-28 00:58:50:gensim.models.tfidfmodel:PROGRESS: processing document #340000\n",
      "INFO:2021-10-28 00:58:50:gensim.models.tfidfmodel:PROGRESS: processing document #350000\n",
      "INFO:2021-10-28 00:58:50:gensim.models.tfidfmodel:PROGRESS: processing document #360000\n",
      "INFO:2021-10-28 00:58:50:gensim.models.tfidfmodel:PROGRESS: processing document #370000\n",
      "INFO:2021-10-28 00:58:50:gensim.models.tfidfmodel:PROGRESS: processing document #380000\n",
      "INFO:2021-10-28 00:58:50:gensim.models.tfidfmodel:PROGRESS: processing document #390000\n",
      "INFO:2021-10-28 00:58:50:gensim.models.tfidfmodel:PROGRESS: processing document #400000\n",
      "INFO:2021-10-28 00:58:51:gensim.models.tfidfmodel:PROGRESS: processing document #410000\n",
      "INFO:2021-10-28 00:58:51:gensim.models.tfidfmodel:PROGRESS: processing document #420000\n",
      "INFO:2021-10-28 00:58:51:gensim.models.tfidfmodel:PROGRESS: processing document #430000\n",
      "INFO:2021-10-28 00:58:51:gensim.models.tfidfmodel:PROGRESS: processing document #440000\n",
      "INFO:2021-10-28 00:58:51:gensim.models.tfidfmodel:PROGRESS: processing document #450000\n",
      "INFO:2021-10-28 00:58:51:gensim.models.tfidfmodel:PROGRESS: processing document #460000\n",
      "INFO:2021-10-28 00:58:51:gensim.models.tfidfmodel:PROGRESS: processing document #470000\n",
      "INFO:2021-10-28 00:58:51:gensim.models.tfidfmodel:PROGRESS: processing document #480000\n",
      "INFO:2021-10-28 00:58:51:gensim.models.tfidfmodel:PROGRESS: processing document #490000\n",
      "INFO:2021-10-28 00:58:51:gensim.models.tfidfmodel:PROGRESS: processing document #500000\n",
      "INFO:2021-10-28 00:58:51:gensim.models.tfidfmodel:PROGRESS: processing document #510000\n",
      "INFO:2021-10-28 00:58:51:gensim.models.tfidfmodel:PROGRESS: processing document #520000\n",
      "INFO:2021-10-28 00:58:51:gensim.models.tfidfmodel:PROGRESS: processing document #530000\n",
      "INFO:2021-10-28 00:58:51:gensim.models.tfidfmodel:PROGRESS: processing document #540000\n",
      "INFO:2021-10-28 00:58:51:gensim.models.tfidfmodel:PROGRESS: processing document #550000\n",
      "INFO:2021-10-28 00:58:51:gensim.models.tfidfmodel:PROGRESS: processing document #560000\n",
      "INFO:2021-10-28 00:58:51:gensim.models.tfidfmodel:PROGRESS: processing document #570000\n",
      "INFO:2021-10-28 00:58:51:gensim.models.tfidfmodel:PROGRESS: processing document #580000\n",
      "INFO:2021-10-28 00:58:51:gensim.models.tfidfmodel:PROGRESS: processing document #590000\n",
      "INFO:2021-10-28 00:58:51:gensim.models.tfidfmodel:PROGRESS: processing document #600000\n",
      "INFO:2021-10-28 00:58:51:gensim.models.tfidfmodel:PROGRESS: processing document #610000\n",
      "INFO:2021-10-28 00:58:51:gensim.models.tfidfmodel:PROGRESS: processing document #620000\n",
      "INFO:2021-10-28 00:58:51:gensim.models.tfidfmodel:PROGRESS: processing document #630000\n",
      "INFO:2021-10-28 00:58:51:gensim.models.tfidfmodel:PROGRESS: processing document #640000\n",
      "INFO:2021-10-28 00:58:51:gensim.models.tfidfmodel:PROGRESS: processing document #650000\n",
      "INFO:2021-10-28 00:58:51:gensim.models.tfidfmodel:PROGRESS: processing document #660000\n",
      "INFO:2021-10-28 00:58:51:gensim.models.tfidfmodel:PROGRESS: processing document #670000\n",
      "INFO:2021-10-28 00:58:51:gensim.models.tfidfmodel:PROGRESS: processing document #680000\n",
      "INFO:2021-10-28 00:58:51:gensim.models.tfidfmodel:PROGRESS: processing document #690000\n",
      "INFO:2021-10-28 00:58:51:gensim.models.tfidfmodel:PROGRESS: processing document #700000\n",
      "INFO:2021-10-28 00:58:51:gensim.models.tfidfmodel:PROGRESS: processing document #710000\n",
      "INFO:2021-10-28 00:58:51:gensim.models.tfidfmodel:PROGRESS: processing document #720000\n",
      "INFO:2021-10-28 00:58:51:gensim.models.tfidfmodel:PROGRESS: processing document #730000\n",
      "INFO:2021-10-28 00:58:51:gensim.models.tfidfmodel:PROGRESS: processing document #740000\n",
      "INFO:2021-10-28 00:58:51:gensim.models.tfidfmodel:PROGRESS: processing document #750000\n",
      "INFO:2021-10-28 00:58:51:gensim.models.tfidfmodel:PROGRESS: processing document #760000\n",
      "INFO:2021-10-28 00:58:51:gensim.models.tfidfmodel:PROGRESS: processing document #770000\n",
      "INFO:2021-10-28 00:58:52:gensim.models.tfidfmodel:PROGRESS: processing document #780000\n",
      "INFO:2021-10-28 00:58:52:gensim.models.tfidfmodel:PROGRESS: processing document #790000\n",
      "INFO:2021-10-28 00:58:52:gensim.models.tfidfmodel:PROGRESS: processing document #800000\n",
      "INFO:2021-10-28 00:58:52:gensim.models.tfidfmodel:PROGRESS: processing document #810000\n",
      "INFO:2021-10-28 00:58:52:gensim.models.tfidfmodel:PROGRESS: processing document #820000\n",
      "INFO:2021-10-28 00:58:52:gensim.models.tfidfmodel:PROGRESS: processing document #830000\n",
      "INFO:2021-10-28 00:58:52:gensim.models.tfidfmodel:PROGRESS: processing document #840000\n",
      "INFO:2021-10-28 00:58:52:gensim.models.tfidfmodel:PROGRESS: processing document #850000\n",
      "INFO:2021-10-28 00:58:52:gensim.models.tfidfmodel:PROGRESS: processing document #860000\n",
      "INFO:2021-10-28 00:58:52:gensim.models.tfidfmodel:PROGRESS: processing document #870000\n",
      "INFO:2021-10-28 00:58:52:gensim.models.tfidfmodel:PROGRESS: processing document #880000\n",
      "INFO:2021-10-28 00:58:52:gensim.models.tfidfmodel:PROGRESS: processing document #890000\n",
      "INFO:2021-10-28 00:58:52:gensim.models.tfidfmodel:PROGRESS: processing document #900000\n",
      "INFO:2021-10-28 00:58:52:gensim.models.tfidfmodel:PROGRESS: processing document #910000\n",
      "INFO:2021-10-28 00:58:52:gensim.utils:TfidfModel lifecycle event {'msg': 'calculated IDF weights for 917525 documents and 260521 features (11339605 matrix non-zeros)', 'datetime': '2021-10-28T00:58:52.796571', 'gensim': '4.1.2', 'python': '3.8.10 (default, Jun  2 2021, 10:49:15) \\n[GCC 9.4.0]', 'platform': 'Linux-5.11.0-27-generic-x86_64-with-glibc2.29', 'event': 'initialize'}\n"
     ]
    }
   ],
   "source": [
    "tfidf = models.TfidfModel(corpus, smartirs='ntc')"
   ]
  },
  {
   "cell_type": "code",
   "execution_count": 183,
   "id": "a43a4b16",
   "metadata": {
    "ExecuteTime": {
     "end_time": "2021-10-27T22:59:48.975940Z",
     "start_time": "2021-10-27T22:59:48.514931Z"
    }
   },
   "outputs": [],
   "source": [
    "tfidf2 = models.TfidfModel(dictionary=dictionary, smartirs='ntc')"
   ]
  },
  {
   "cell_type": "code",
   "execution_count": 203,
   "id": "791030f0",
   "metadata": {
    "ExecuteTime": {
     "end_time": "2021-10-27T23:01:34.733608Z",
     "start_time": "2021-10-27T23:01:34.703837Z"
    }
   },
   "outputs": [],
   "source": [
    "tfidf3 = models.TfidfModel(dictionary=d2, smartirs='ntc')"
   ]
  },
  {
   "cell_type": "code",
   "execution_count": 87,
   "id": "b6cef9e1",
   "metadata": {
    "ExecuteTime": {
     "end_time": "2021-10-27T21:45:09.301371Z",
     "start_time": "2021-10-27T21:45:09.289578Z"
    }
   },
   "outputs": [],
   "source": [
    "aa = [(0, 0.459457157251916), (2, 0.8881999328135463)]"
   ]
  },
  {
   "cell_type": "code",
   "execution_count": null,
   "id": "2419b1e9",
   "metadata": {},
   "outputs": [],
   "source": []
  },
  {
   "cell_type": "code",
   "execution_count": 180,
   "id": "56d5ab32",
   "metadata": {
    "ExecuteTime": {
     "end_time": "2021-10-27T22:59:09.481903Z",
     "start_time": "2021-10-27T22:59:09.465592Z"
    }
   },
   "outputs": [
    {
     "data": {
      "text/plain": [
       "[(2545, 0.5834586599705951), (8059, 0.8121428397180619)]"
      ]
     },
     "execution_count": 180,
     "metadata": {},
     "output_type": "execute_result"
    }
   ],
   "source": [
    "tfidf[dictionary.doc2bow('takie ładne cośik'.split())]"
   ]
  },
  {
   "cell_type": "code",
   "execution_count": 181,
   "id": "c00109c0",
   "metadata": {
    "ExecuteTime": {
     "end_time": "2021-10-27T22:59:18.405567Z",
     "start_time": "2021-10-27T22:59:18.391138Z"
    }
   },
   "outputs": [
    {
     "data": {
      "text/plain": [
       "[(2545, 0.5834586599705951), (8059, 0.8121428397180619)]"
      ]
     },
     "execution_count": 181,
     "metadata": {},
     "output_type": "execute_result"
    }
   ],
   "source": [
    "tfidf2[dictionary.doc2bow('takie ładne cośik'.split())]"
   ]
  },
  {
   "cell_type": "code",
   "execution_count": 204,
   "id": "b172bf17",
   "metadata": {
    "ExecuteTime": {
     "end_time": "2021-10-27T23:01:38.412877Z",
     "start_time": "2021-10-27T23:01:38.387171Z"
    }
   },
   "outputs": [
    {
     "data": {
      "text/plain": [
       "[(1970, 0.5834586599705951), (4630, 0.8121428397180619)]"
      ]
     },
     "execution_count": 204,
     "metadata": {},
     "output_type": "execute_result"
    }
   ],
   "source": [
    "tfidf3[d2.doc2bow('takie ładne cośik'.split())]"
   ]
  },
  {
   "cell_type": "code",
   "execution_count": 86,
   "id": "28e9bf35",
   "metadata": {
    "ExecuteTime": {
     "end_time": "2021-10-27T21:42:02.083705Z",
     "start_time": "2021-10-27T21:42:02.069702Z"
    }
   },
   "outputs": [
    {
     "data": {
      "text/plain": [
       "[(0, 0.459457157251916), (1, 0.8881999328135463)]"
      ]
     },
     "execution_count": 86,
     "metadata": {},
     "output_type": "execute_result"
    }
   ],
   "source": [
    "tfidf[(0, 1), (1, 1)]"
   ]
  },
  {
   "cell_type": "code",
   "execution_count": 82,
   "id": "ba3676ed",
   "metadata": {
    "ExecuteTime": {
     "end_time": "2021-10-27T21:40:46.289611Z",
     "start_time": "2021-10-27T21:40:46.274935Z"
    }
   },
   "outputs": [
    {
     "data": {
      "text/plain": [
       "[(619, 0.505178657383013),\n",
       " (2545, 0.5035334516797687),\n",
       " (8059, 0.7008912805593708)]"
      ]
     },
     "execution_count": 82,
     "metadata": {},
     "output_type": "execute_result"
    }
   ],
   "source": [
    "tfidf[dictionary.doc2bow('takie ładne coś'.split())]"
   ]
  },
  {
   "cell_type": "code",
   "execution_count": 81,
   "id": "342df5ac",
   "metadata": {
    "ExecuteTime": {
     "end_time": "2021-10-27T21:40:35.268678Z",
     "start_time": "2021-10-27T21:40:35.253370Z"
    }
   },
   "outputs": [
    {
     "data": {
      "text/plain": [
       "[(619, 0.7603732142847507),\n",
       " (2545, 0.3789484606664178),\n",
       " (8059, 0.5274757237606572)]"
      ]
     },
     "execution_count": 81,
     "metadata": {},
     "output_type": "execute_result"
    }
   ],
   "source": [
    "tfidf[dictionary.doc2bow('takie ładne coś coś'.split())]"
   ]
  },
  {
   "cell_type": "code",
   "execution_count": 17,
   "id": "0192a2bb",
   "metadata": {
    "ExecuteTime": {
     "end_time": "2021-10-26T20:45:01.523029Z",
     "start_time": "2021-10-26T20:45:01.509577Z"
    }
   },
   "outputs": [
    {
     "data": {
      "text/plain": [
       "[(0, 1), (1, 2), (2, 1), (3, 1), (4, 1), (5, 1)]"
      ]
     },
     "execution_count": 17,
     "metadata": {},
     "output_type": "execute_result"
    }
   ],
   "source": [
    "# count vectorizer reprezentation\n",
    "corpus[0]"
   ]
  },
  {
   "cell_type": "code",
   "execution_count": 75,
   "id": "a66a7ab4",
   "metadata": {
    "ExecuteTime": {
     "end_time": "2021-10-27T21:37:19.046287Z",
     "start_time": "2021-10-27T21:37:19.030916Z"
    }
   },
   "outputs": [
    {
     "data": {
      "text/plain": [
       "[(0, 1), (1, 2), (2, 1), (3, 1), (4, 1), (5, 1)]"
      ]
     },
     "execution_count": 75,
     "metadata": {},
     "output_type": "execute_result"
    }
   ],
   "source": [
    "corpus[0]"
   ]
  },
  {
   "cell_type": "code",
   "execution_count": 74,
   "id": "787cabcb",
   "metadata": {
    "ExecuteTime": {
     "end_time": "2021-10-27T21:37:06.816615Z",
     "start_time": "2021-10-27T21:37:06.527116Z"
    }
   },
   "outputs": [
    {
     "data": {
      "text/plain": [
       "[(0, 0.11502465340007656),\n",
       " (1, 0.4447199823065697),\n",
       " (2, 0.6162766796694312),\n",
       " (3, 0.49247428983038594),\n",
       " (4, 0.11888695562762791),\n",
       " (5, 0.3905527956380666)]"
      ]
     },
     "execution_count": 74,
     "metadata": {},
     "output_type": "execute_result"
    }
   ],
   "source": [
    "tfidf[corpus[0]]"
   ]
  },
  {
   "cell_type": "code",
   "execution_count": 310,
   "id": "991fcde8",
   "metadata": {
    "ExecuteTime": {
     "end_time": "2021-10-25T01:59:06.923831Z",
     "start_time": "2021-10-25T01:59:06.907742Z"
    }
   },
   "outputs": [
    {
     "data": {
      "text/plain": [
       "[(0, 0.11502465340007656),\n",
       " (1, 0.4447199823065697),\n",
       " (2, 0.6162766796694312),\n",
       " (3, 0.49247428983038594),\n",
       " (4, 0.11888695562762791),\n",
       " (5, 0.3905527956380666)]"
      ]
     },
     "execution_count": 310,
     "metadata": {},
     "output_type": "execute_result"
    }
   ],
   "source": [
    "# tfidf vectorizer reprezentation\n",
    "tfidf[corpus][0]"
   ]
  },
  {
   "cell_type": "code",
   "execution_count": 315,
   "id": "7aceed4a",
   "metadata": {
    "ExecuteTime": {
     "end_time": "2021-10-25T02:00:03.885919Z",
     "start_time": "2021-10-25T02:00:03.870285Z"
    }
   },
   "outputs": [
    {
     "data": {
      "text/plain": [
       "[('i', 0.11502465340007656),\n",
       " ('nie', 0.4447199823065697),\n",
       " ('ostatni', 0.6162766796694312),\n",
       " ('pierwszy', 0.49247428983038594),\n",
       " ('polecam', 0.11888695562762791),\n",
       " ('raz', 0.3905527956380666)]"
      ]
     },
     "execution_count": 315,
     "metadata": {},
     "output_type": "execute_result"
    }
   ],
   "source": [
    "[(dictionary[tok_id], tok_freq) for tok_id, tok_freq in tfidf[corpus][0]]"
   ]
  },
  {
   "cell_type": "code",
   "execution_count": 316,
   "id": "bb4f2744",
   "metadata": {
    "ExecuteTime": {
     "end_time": "2021-10-25T02:00:11.189899Z",
     "start_time": "2021-10-25T02:00:11.172650Z"
    }
   },
   "outputs": [
    {
     "data": {
      "text/plain": [
       "[('i', 0.060944159953105696),\n",
       " ('polecam', 0.06299054529559758),\n",
       " ('bardzo', 0.08280210917801677),\n",
       " ('dobra', 0.20322288487180415),\n",
       " ('dobrze', 0.19508840777884015),\n",
       " ('komunikacja', 0.3317832424818046),\n",
       " ('sklep', 0.11649578839171103),\n",
       " ('sms', 0.3497153161337092),\n",
       " ('telefoniczna', 0.39583410968622923),\n",
       " ('ten', 0.20909075076732328),\n",
       " ('terminie', 0.3069124397146287),\n",
       " ('towar', 0.1416645550082417),\n",
       " ('w', 0.07953541854259781),\n",
       " ('wysłany', 0.3676203764967229),\n",
       " ('zabezpieczony', 0.3259806243987228),\n",
       " ('zamówiony', 0.31264824437629013)]"
      ]
     },
     "execution_count": 316,
     "metadata": {},
     "output_type": "execute_result"
    }
   ],
   "source": [
    "[(dictionary[tok_id], tok_freq) for tok_id, tok_freq in tfidf[corpus][1]]"
   ]
  },
  {
   "cell_type": "markdown",
   "id": "2dcb400f",
   "metadata": {},
   "source": [
    "# tfidf transformer"
   ]
  },
  {
   "cell_type": "code",
   "execution_count": 221,
   "id": "b6ab18a7",
   "metadata": {
    "ExecuteTime": {
     "end_time": "2021-10-27T23:57:52.765755Z",
     "start_time": "2021-10-27T23:57:51.044815Z"
    }
   },
   "outputs": [],
   "source": [
    "from src.nlp.tfidf import TfIdfTransformer"
   ]
  },
  {
   "cell_type": "code",
   "execution_count": 241,
   "id": "78c4e198",
   "metadata": {
    "ExecuteTime": {
     "end_time": "2021-10-28T00:10:17.488209Z",
     "start_time": "2021-10-28T00:10:01.762233Z"
    },
    "scrolled": true
   },
   "outputs": [
    {
     "name": "stderr",
     "output_type": "stream",
     "text": [
      "INFO:2021-10-28 02:10:01:gensim.corpora.dictionary:adding document #0 to Dictionary(0 unique tokens: [])\n",
      "INFO:2021-10-28 02:10:01:gensim.corpora.dictionary:adding document #10000 to Dictionary(9394 unique tokens: ['i', 'nie', 'ostatni', 'pierwszy', 'polecam']...)\n",
      "INFO:2021-10-28 02:10:02:gensim.corpora.dictionary:adding document #20000 to Dictionary(14024 unique tokens: ['i', 'nie', 'ostatni', 'pierwszy', 'polecam']...)\n",
      "INFO:2021-10-28 02:10:02:gensim.corpora.dictionary:adding document #30000 to Dictionary(17555 unique tokens: ['i', 'nie', 'ostatni', 'pierwszy', 'polecam']...)\n",
      "INFO:2021-10-28 02:10:02:gensim.corpora.dictionary:adding document #40000 to Dictionary(20462 unique tokens: ['i', 'nie', 'ostatni', 'pierwszy', 'polecam']...)\n",
      "INFO:2021-10-28 02:10:02:gensim.corpora.dictionary:adding document #50000 to Dictionary(22541 unique tokens: ['i', 'nie', 'ostatni', 'pierwszy', 'polecam']...)\n",
      "INFO:2021-10-28 02:10:02:gensim.corpora.dictionary:adding document #60000 to Dictionary(24124 unique tokens: ['i', 'nie', 'ostatni', 'pierwszy', 'polecam']...)\n",
      "INFO:2021-10-28 02:10:02:gensim.corpora.dictionary:adding document #70000 to Dictionary(25917 unique tokens: ['i', 'nie', 'ostatni', 'pierwszy', 'polecam']...)\n",
      "INFO:2021-10-28 02:10:02:gensim.corpora.dictionary:adding document #80000 to Dictionary(27923 unique tokens: ['i', 'nie', 'ostatni', 'pierwszy', 'polecam']...)\n",
      "INFO:2021-10-28 02:10:02:gensim.corpora.dictionary:adding document #90000 to Dictionary(29684 unique tokens: ['i', 'nie', 'ostatni', 'pierwszy', 'polecam']...)\n",
      "INFO:2021-10-28 02:10:03:gensim.corpora.dictionary:adding document #100000 to Dictionary(31330 unique tokens: ['i', 'nie', 'ostatni', 'pierwszy', 'polecam']...)\n",
      "INFO:2021-10-28 02:10:03:gensim.corpora.dictionary:adding document #110000 to Dictionary(32838 unique tokens: ['i', 'nie', 'ostatni', 'pierwszy', 'polecam']...)\n",
      "INFO:2021-10-28 02:10:03:gensim.corpora.dictionary:adding document #120000 to Dictionary(34346 unique tokens: ['i', 'nie', 'ostatni', 'pierwszy', 'polecam']...)\n",
      "INFO:2021-10-28 02:10:03:gensim.corpora.dictionary:adding document #130000 to Dictionary(35615 unique tokens: ['i', 'nie', 'ostatni', 'pierwszy', 'polecam']...)\n",
      "INFO:2021-10-28 02:10:03:gensim.corpora.dictionary:adding document #140000 to Dictionary(36917 unique tokens: ['i', 'nie', 'ostatni', 'pierwszy', 'polecam']...)\n",
      "INFO:2021-10-28 02:10:03:gensim.corpora.dictionary:adding document #150000 to Dictionary(38061 unique tokens: ['i', 'nie', 'ostatni', 'pierwszy', 'polecam']...)\n",
      "INFO:2021-10-28 02:10:03:gensim.corpora.dictionary:adding document #160000 to Dictionary(39229 unique tokens: ['i', 'nie', 'ostatni', 'pierwszy', 'polecam']...)\n",
      "INFO:2021-10-28 02:10:04:gensim.corpora.dictionary:adding document #170000 to Dictionary(40253 unique tokens: ['i', 'nie', 'ostatni', 'pierwszy', 'polecam']...)\n",
      "INFO:2021-10-28 02:10:04:gensim.corpora.dictionary:adding document #180000 to Dictionary(41506 unique tokens: ['i', 'nie', 'ostatni', 'pierwszy', 'polecam']...)\n",
      "INFO:2021-10-28 02:10:04:gensim.corpora.dictionary:adding document #190000 to Dictionary(43050 unique tokens: ['i', 'nie', 'ostatni', 'pierwszy', 'polecam']...)\n",
      "INFO:2021-10-28 02:10:04:gensim.corpora.dictionary:adding document #200000 to Dictionary(44605 unique tokens: ['i', 'nie', 'ostatni', 'pierwszy', 'polecam']...)\n",
      "INFO:2021-10-28 02:10:04:gensim.corpora.dictionary:adding document #210000 to Dictionary(46488 unique tokens: ['i', 'nie', 'ostatni', 'pierwszy', 'polecam']...)\n",
      "INFO:2021-10-28 02:10:04:gensim.corpora.dictionary:adding document #220000 to Dictionary(48104 unique tokens: ['i', 'nie', 'ostatni', 'pierwszy', 'polecam']...)\n",
      "INFO:2021-10-28 02:10:05:gensim.corpora.dictionary:adding document #230000 to Dictionary(49545 unique tokens: ['i', 'nie', 'ostatni', 'pierwszy', 'polecam']...)\n",
      "INFO:2021-10-28 02:10:05:gensim.corpora.dictionary:adding document #240000 to Dictionary(50743 unique tokens: ['i', 'nie', 'ostatni', 'pierwszy', 'polecam']...)\n",
      "INFO:2021-10-28 02:10:05:gensim.corpora.dictionary:adding document #250000 to Dictionary(50995 unique tokens: ['i', 'nie', 'ostatni', 'pierwszy', 'polecam']...)\n",
      "INFO:2021-10-28 02:10:05:gensim.corpora.dictionary:adding document #260000 to Dictionary(52067 unique tokens: ['i', 'nie', 'ostatni', 'pierwszy', 'polecam']...)\n",
      "INFO:2021-10-28 02:10:05:gensim.corpora.dictionary:adding document #270000 to Dictionary(53006 unique tokens: ['i', 'nie', 'ostatni', 'pierwszy', 'polecam']...)\n",
      "INFO:2021-10-28 02:10:05:gensim.corpora.dictionary:adding document #280000 to Dictionary(53894 unique tokens: ['i', 'nie', 'ostatni', 'pierwszy', 'polecam']...)\n",
      "INFO:2021-10-28 02:10:05:gensim.corpora.dictionary:adding document #290000 to Dictionary(54855 unique tokens: ['i', 'nie', 'ostatni', 'pierwszy', 'polecam']...)\n",
      "INFO:2021-10-28 02:10:06:gensim.corpora.dictionary:adding document #300000 to Dictionary(55770 unique tokens: ['i', 'nie', 'ostatni', 'pierwszy', 'polecam']...)\n",
      "INFO:2021-10-28 02:10:06:gensim.corpora.dictionary:adding document #310000 to Dictionary(56613 unique tokens: ['i', 'nie', 'ostatni', 'pierwszy', 'polecam']...)\n",
      "INFO:2021-10-28 02:10:06:gensim.corpora.dictionary:adding document #320000 to Dictionary(57335 unique tokens: ['i', 'nie', 'ostatni', 'pierwszy', 'polecam']...)\n",
      "INFO:2021-10-28 02:10:06:gensim.corpora.dictionary:adding document #330000 to Dictionary(58342 unique tokens: ['i', 'nie', 'ostatni', 'pierwszy', 'polecam']...)\n",
      "INFO:2021-10-28 02:10:06:gensim.corpora.dictionary:adding document #340000 to Dictionary(59447 unique tokens: ['i', 'nie', 'ostatni', 'pierwszy', 'polecam']...)\n",
      "INFO:2021-10-28 02:10:06:gensim.corpora.dictionary:adding document #350000 to Dictionary(60170 unique tokens: ['i', 'nie', 'ostatni', 'pierwszy', 'polecam']...)\n",
      "INFO:2021-10-28 02:10:06:gensim.corpora.dictionary:adding document #360000 to Dictionary(60848 unique tokens: ['i', 'nie', 'ostatni', 'pierwszy', 'polecam']...)\n",
      "INFO:2021-10-28 02:10:06:gensim.corpora.dictionary:adding document #370000 to Dictionary(61699 unique tokens: ['i', 'nie', 'ostatni', 'pierwszy', 'polecam']...)\n",
      "INFO:2021-10-28 02:10:07:gensim.corpora.dictionary:adding document #380000 to Dictionary(62761 unique tokens: ['i', 'nie', 'ostatni', 'pierwszy', 'polecam']...)\n",
      "INFO:2021-10-28 02:10:07:gensim.corpora.dictionary:adding document #390000 to Dictionary(64623 unique tokens: ['i', 'nie', 'ostatni', 'pierwszy', 'polecam']...)\n",
      "INFO:2021-10-28 02:10:07:gensim.corpora.dictionary:adding document #400000 to Dictionary(66040 unique tokens: ['i', 'nie', 'ostatni', 'pierwszy', 'polecam']...)\n",
      "INFO:2021-10-28 02:10:07:gensim.corpora.dictionary:adding document #410000 to Dictionary(68080 unique tokens: ['i', 'nie', 'ostatni', 'pierwszy', 'polecam']...)\n",
      "INFO:2021-10-28 02:10:07:gensim.corpora.dictionary:adding document #420000 to Dictionary(69892 unique tokens: ['i', 'nie', 'ostatni', 'pierwszy', 'polecam']...)\n",
      "INFO:2021-10-28 02:10:08:gensim.corpora.dictionary:adding document #430000 to Dictionary(71867 unique tokens: ['i', 'nie', 'ostatni', 'pierwszy', 'polecam']...)\n",
      "INFO:2021-10-28 02:10:08:gensim.corpora.dictionary:adding document #440000 to Dictionary(73899 unique tokens: ['i', 'nie', 'ostatni', 'pierwszy', 'polecam']...)\n",
      "INFO:2021-10-28 02:10:08:gensim.corpora.dictionary:adding document #450000 to Dictionary(73899 unique tokens: ['i', 'nie', 'ostatni', 'pierwszy', 'polecam']...)\n",
      "INFO:2021-10-28 02:10:08:gensim.corpora.dictionary:adding document #460000 to Dictionary(73899 unique tokens: ['i', 'nie', 'ostatni', 'pierwszy', 'polecam']...)\n",
      "INFO:2021-10-28 02:10:08:gensim.corpora.dictionary:adding document #470000 to Dictionary(73902 unique tokens: ['i', 'nie', 'ostatni', 'pierwszy', 'polecam']...)\n",
      "INFO:2021-10-28 02:10:08:gensim.corpora.dictionary:adding document #480000 to Dictionary(74051 unique tokens: ['i', 'nie', 'ostatni', 'pierwszy', 'polecam']...)\n",
      "INFO:2021-10-28 02:10:09:gensim.corpora.dictionary:adding document #490000 to Dictionary(74965 unique tokens: ['i', 'nie', 'ostatni', 'pierwszy', 'polecam']...)\n",
      "INFO:2021-10-28 02:10:09:gensim.corpora.dictionary:adding document #500000 to Dictionary(77599 unique tokens: ['i', 'nie', 'ostatni', 'pierwszy', 'polecam']...)\n",
      "INFO:2021-10-28 02:10:09:gensim.corpora.dictionary:adding document #510000 to Dictionary(79136 unique tokens: ['i', 'nie', 'ostatni', 'pierwszy', 'polecam']...)\n"
     ]
    },
    {
     "name": "stderr",
     "output_type": "stream",
     "text": [
      "INFO:2021-10-28 02:10:09:gensim.corpora.dictionary:adding document #520000 to Dictionary(80601 unique tokens: ['i', 'nie', 'ostatni', 'pierwszy', 'polecam']...)\n",
      "INFO:2021-10-28 02:10:09:gensim.corpora.dictionary:adding document #530000 to Dictionary(81943 unique tokens: ['i', 'nie', 'ostatni', 'pierwszy', 'polecam']...)\n",
      "INFO:2021-10-28 02:10:09:gensim.corpora.dictionary:adding document #540000 to Dictionary(83553 unique tokens: ['i', 'nie', 'ostatni', 'pierwszy', 'polecam']...)\n",
      "INFO:2021-10-28 02:10:10:gensim.corpora.dictionary:adding document #550000 to Dictionary(85169 unique tokens: ['i', 'nie', 'ostatni', 'pierwszy', 'polecam']...)\n",
      "INFO:2021-10-28 02:10:10:gensim.corpora.dictionary:adding document #560000 to Dictionary(87137 unique tokens: ['i', 'nie', 'ostatni', 'pierwszy', 'polecam']...)\n",
      "INFO:2021-10-28 02:10:10:gensim.corpora.dictionary:adding document #570000 to Dictionary(88906 unique tokens: ['i', 'nie', 'ostatni', 'pierwszy', 'polecam']...)\n",
      "INFO:2021-10-28 02:10:10:gensim.corpora.dictionary:adding document #580000 to Dictionary(90705 unique tokens: ['i', 'nie', 'ostatni', 'pierwszy', 'polecam']...)\n",
      "INFO:2021-10-28 02:10:10:gensim.corpora.dictionary:adding document #590000 to Dictionary(91942 unique tokens: ['i', 'nie', 'ostatni', 'pierwszy', 'polecam']...)\n",
      "INFO:2021-10-28 02:10:11:gensim.corpora.dictionary:adding document #600000 to Dictionary(93087 unique tokens: ['i', 'nie', 'ostatni', 'pierwszy', 'polecam']...)\n",
      "INFO:2021-10-28 02:10:11:gensim.corpora.dictionary:adding document #610000 to Dictionary(94197 unique tokens: ['i', 'nie', 'ostatni', 'pierwszy', 'polecam']...)\n",
      "INFO:2021-10-28 02:10:11:gensim.corpora.dictionary:adding document #620000 to Dictionary(95441 unique tokens: ['i', 'nie', 'ostatni', 'pierwszy', 'polecam']...)\n",
      "INFO:2021-10-28 02:10:11:gensim.corpora.dictionary:adding document #630000 to Dictionary(96126 unique tokens: ['i', 'nie', 'ostatni', 'pierwszy', 'polecam']...)\n",
      "INFO:2021-10-28 02:10:11:gensim.corpora.dictionary:adding document #640000 to Dictionary(98028 unique tokens: ['i', 'nie', 'ostatni', 'pierwszy', 'polecam']...)\n",
      "INFO:2021-10-28 02:10:11:gensim.corpora.dictionary:adding document #650000 to Dictionary(99608 unique tokens: ['i', 'nie', 'ostatni', 'pierwszy', 'polecam']...)\n",
      "INFO:2021-10-28 02:10:12:gensim.corpora.dictionary:adding document #660000 to Dictionary(102114 unique tokens: ['i', 'nie', 'ostatni', 'pierwszy', 'polecam']...)\n",
      "INFO:2021-10-28 02:10:12:gensim.corpora.dictionary:adding document #670000 to Dictionary(104041 unique tokens: ['i', 'nie', 'ostatni', 'pierwszy', 'polecam']...)\n",
      "INFO:2021-10-28 02:10:12:gensim.corpora.dictionary:adding document #680000 to Dictionary(105231 unique tokens: ['i', 'nie', 'ostatni', 'pierwszy', 'polecam']...)\n",
      "INFO:2021-10-28 02:10:12:gensim.corpora.dictionary:adding document #690000 to Dictionary(106210 unique tokens: ['i', 'nie', 'ostatni', 'pierwszy', 'polecam']...)\n",
      "INFO:2021-10-28 02:10:12:gensim.corpora.dictionary:adding document #700000 to Dictionary(107130 unique tokens: ['i', 'nie', 'ostatni', 'pierwszy', 'polecam']...)\n",
      "INFO:2021-10-28 02:10:12:gensim.corpora.dictionary:adding document #710000 to Dictionary(107921 unique tokens: ['i', 'nie', 'ostatni', 'pierwszy', 'polecam']...)\n",
      "INFO:2021-10-28 02:10:13:gensim.corpora.dictionary:adding document #720000 to Dictionary(109150 unique tokens: ['i', 'nie', 'ostatni', 'pierwszy', 'polecam']...)\n",
      "INFO:2021-10-28 02:10:13:gensim.corpora.dictionary:adding document #730000 to Dictionary(110171 unique tokens: ['i', 'nie', 'ostatni', 'pierwszy', 'polecam']...)\n",
      "INFO:2021-10-28 02:10:13:gensim.corpora.dictionary:adding document #740000 to Dictionary(111942 unique tokens: ['i', 'nie', 'ostatni', 'pierwszy', 'polecam']...)\n",
      "INFO:2021-10-28 02:10:13:gensim.corpora.dictionary:adding document #750000 to Dictionary(136937 unique tokens: ['i', 'nie', 'ostatni', 'pierwszy', 'polecam']...)\n",
      "INFO:2021-10-28 02:10:13:gensim.corpora.dictionary:adding document #760000 to Dictionary(146313 unique tokens: ['i', 'nie', 'ostatni', 'pierwszy', 'polecam']...)\n",
      "INFO:2021-10-28 02:10:14:gensim.corpora.dictionary:adding document #770000 to Dictionary(159470 unique tokens: ['i', 'nie', 'ostatni', 'pierwszy', 'polecam']...)\n",
      "INFO:2021-10-28 02:10:14:gensim.corpora.dictionary:adding document #780000 to Dictionary(168531 unique tokens: ['i', 'nie', 'ostatni', 'pierwszy', 'polecam']...)\n",
      "INFO:2021-10-28 02:10:14:gensim.corpora.dictionary:adding document #790000 to Dictionary(174260 unique tokens: ['i', 'nie', 'ostatni', 'pierwszy', 'polecam']...)\n",
      "INFO:2021-10-28 02:10:14:gensim.corpora.dictionary:adding document #800000 to Dictionary(179230 unique tokens: ['i', 'nie', 'ostatni', 'pierwszy', 'polecam']...)\n",
      "INFO:2021-10-28 02:10:14:gensim.corpora.dictionary:adding document #810000 to Dictionary(183744 unique tokens: ['i', 'nie', 'ostatni', 'pierwszy', 'polecam']...)\n",
      "INFO:2021-10-28 02:10:14:gensim.corpora.dictionary:adding document #820000 to Dictionary(187769 unique tokens: ['i', 'nie', 'ostatni', 'pierwszy', 'polecam']...)\n",
      "INFO:2021-10-28 02:10:15:gensim.corpora.dictionary:adding document #830000 to Dictionary(194569 unique tokens: ['i', 'nie', 'ostatni', 'pierwszy', 'polecam']...)\n",
      "INFO:2021-10-28 02:10:15:gensim.corpora.dictionary:adding document #840000 to Dictionary(201820 unique tokens: ['i', 'nie', 'ostatni', 'pierwszy', 'polecam']...)\n",
      "INFO:2021-10-28 02:10:15:gensim.corpora.dictionary:adding document #850000 to Dictionary(211562 unique tokens: ['i', 'nie', 'ostatni', 'pierwszy', 'polecam']...)\n",
      "INFO:2021-10-28 02:10:15:gensim.corpora.dictionary:adding document #860000 to Dictionary(219452 unique tokens: ['i', 'nie', 'ostatni', 'pierwszy', 'polecam']...)\n",
      "INFO:2021-10-28 02:10:15:gensim.corpora.dictionary:adding document #870000 to Dictionary(224420 unique tokens: ['i', 'nie', 'ostatni', 'pierwszy', 'polecam']...)\n",
      "INFO:2021-10-28 02:10:16:gensim.corpora.dictionary:adding document #880000 to Dictionary(233270 unique tokens: ['i', 'nie', 'ostatni', 'pierwszy', 'polecam']...)\n",
      "INFO:2021-10-28 02:10:16:gensim.corpora.dictionary:adding document #890000 to Dictionary(238510 unique tokens: ['i', 'nie', 'ostatni', 'pierwszy', 'polecam']...)\n",
      "INFO:2021-10-28 02:10:16:gensim.corpora.dictionary:adding document #900000 to Dictionary(244761 unique tokens: ['i', 'nie', 'ostatni', 'pierwszy', 'polecam']...)\n",
      "INFO:2021-10-28 02:10:16:gensim.corpora.dictionary:adding document #910000 to Dictionary(253975 unique tokens: ['i', 'nie', 'ostatni', 'pierwszy', 'polecam']...)\n",
      "INFO:2021-10-28 02:10:17:gensim.corpora.dictionary:built Dictionary(260521 unique tokens: ['i', 'nie', 'ostatni', 'pierwszy', 'polecam']...) from 917525 documents (total 12083288 corpus positions)\n",
      "INFO:2021-10-28 02:10:17:gensim.utils:Dictionary lifecycle event {'msg': \"built Dictionary(260521 unique tokens: ['i', 'nie', 'ostatni', 'pierwszy', 'polecam']...) from 917525 documents (total 12083288 corpus positions)\", 'datetime': '2021-10-28T02:10:17.112487', 'gensim': '4.1.2', 'python': '3.8.10 (default, Jun  2 2021, 10:49:15) \\n[GCC 9.4.0]', 'platform': 'Linux-5.11.0-27-generic-x86_64-with-glibc2.29', 'event': 'created'}\n",
      "INFO:2021-10-28 02:10:17:gensim.corpora.dictionary:discarding 255521 tokens: [('lodówek', 14), ('wróciła', 66), ('piekarnika', 107), ('szybę', 36), ('załatwiają', 72), ('zdarzy', 62), ('elastyczna', 51), ('wyrozumiała', 41), ('częściach', 67), ('magiczne', 7)]...\n",
      "INFO:2021-10-28 02:10:17:gensim.corpora.dictionary:keeping 5000 tokens which were in no less than 5 and no more than 458762 (=50.0%) documents\n",
      "INFO:2021-10-28 02:10:17:gensim.corpora.dictionary:resulting dictionary: Dictionary(5000 unique tokens: ['i', 'nie', 'ostatni', 'pierwszy', 'polecam']...)\n"
     ]
    },
    {
     "data": {
      "text/plain": [
       "TfIdfTransformer()"
      ]
     },
     "execution_count": 241,
     "metadata": {},
     "output_type": "execute_result"
    }
   ],
   "source": [
    "tfidf_model = TfIdfTransformer()\n",
    "\n",
    "tfidf_model.fit(data['tokens'])"
   ]
  },
  {
   "cell_type": "code",
   "execution_count": null,
   "id": "228b2409",
   "metadata": {
    "ExecuteTime": {
     "start_time": "2021-10-28T00:10:13.120Z"
    }
   },
   "outputs": [],
   "source": [
    "tfidf_df = tfidf_model.transform(data['tokens'])"
   ]
  },
  {
   "cell_type": "code",
   "execution_count": 240,
   "id": "2e6ca57f",
   "metadata": {
    "ExecuteTime": {
     "end_time": "2021-10-28T00:08:46.641253Z",
     "start_time": "2021-10-28T00:08:46.517582Z"
    }
   },
   "outputs": [
    {
     "data": {
      "text/html": [
       "<div>\n",
       "<style scoped>\n",
       "    .dataframe tbody tr th:only-of-type {\n",
       "        vertical-align: middle;\n",
       "    }\n",
       "\n",
       "    .dataframe tbody tr th {\n",
       "        vertical-align: top;\n",
       "    }\n",
       "\n",
       "    .dataframe thead th {\n",
       "        text-align: right;\n",
       "    }\n",
       "</style>\n",
       "<table border=\"1\" class=\"dataframe\">\n",
       "  <thead>\n",
       "    <tr style=\"text-align: right;\">\n",
       "      <th></th>\n",
       "      <th>i</th>\n",
       "      <th>nie</th>\n",
       "      <th>bardzo</th>\n",
       "      <th>sklep</th>\n",
       "      <th>towar</th>\n",
       "      <th>w</th>\n",
       "      <th>do</th>\n",
       "      <th>sklepie</th>\n",
       "      <th>tym</th>\n",
       "      <th>zakupy</th>\n",
       "      <th>...</th>\n",
       "      <th>problemów</th>\n",
       "      <th>pomyślnie</th>\n",
       "      <th>na</th>\n",
       "      <th>opisem</th>\n",
       "      <th>zgodny</th>\n",
       "      <th>zamówienie</th>\n",
       "      <th>super</th>\n",
       "      <th>zamówienia</th>\n",
       "      <th>profesjonalna</th>\n",
       "      <th>profesjonalnie</th>\n",
       "    </tr>\n",
       "  </thead>\n",
       "  <tbody>\n",
       "    <tr>\n",
       "      <th>count</th>\n",
       "      <td>100.000000</td>\n",
       "      <td>100.000000</td>\n",
       "      <td>100.000000</td>\n",
       "      <td>100.000000</td>\n",
       "      <td>100.000000</td>\n",
       "      <td>100.000000</td>\n",
       "      <td>100.000000</td>\n",
       "      <td>100.000000</td>\n",
       "      <td>100.000000</td>\n",
       "      <td>100.000000</td>\n",
       "      <td>...</td>\n",
       "      <td>100.000000</td>\n",
       "      <td>100.000000</td>\n",
       "      <td>100.00000</td>\n",
       "      <td>100.000000</td>\n",
       "      <td>100.000000</td>\n",
       "      <td>100.000000</td>\n",
       "      <td>100.000000</td>\n",
       "      <td>100.000000</td>\n",
       "      <td>100.000000</td>\n",
       "      <td>100.000000</td>\n",
       "    </tr>\n",
       "    <tr>\n",
       "      <th>mean</th>\n",
       "      <td>0.095641</td>\n",
       "      <td>0.031757</td>\n",
       "      <td>0.071261</td>\n",
       "      <td>0.049066</td>\n",
       "      <td>0.049978</td>\n",
       "      <td>0.083015</td>\n",
       "      <td>0.041551</td>\n",
       "      <td>0.032140</td>\n",
       "      <td>0.027988</td>\n",
       "      <td>0.031460</td>\n",
       "      <td>...</td>\n",
       "      <td>0.034861</td>\n",
       "      <td>0.036056</td>\n",
       "      <td>0.05393</td>\n",
       "      <td>0.024733</td>\n",
       "      <td>0.038344</td>\n",
       "      <td>0.034648</td>\n",
       "      <td>0.062010</td>\n",
       "      <td>0.036989</td>\n",
       "      <td>0.064888</td>\n",
       "      <td>0.056061</td>\n",
       "    </tr>\n",
       "    <tr>\n",
       "      <th>std</th>\n",
       "      <td>0.114839</td>\n",
       "      <td>0.131706</td>\n",
       "      <td>0.160636</td>\n",
       "      <td>0.170380</td>\n",
       "      <td>0.138873</td>\n",
       "      <td>0.157744</td>\n",
       "      <td>0.153299</td>\n",
       "      <td>0.120870</td>\n",
       "      <td>0.113252</td>\n",
       "      <td>0.125966</td>\n",
       "      <td>...</td>\n",
       "      <td>0.128819</td>\n",
       "      <td>0.148040</td>\n",
       "      <td>0.16535</td>\n",
       "      <td>0.108864</td>\n",
       "      <td>0.133528</td>\n",
       "      <td>0.146404</td>\n",
       "      <td>0.173683</td>\n",
       "      <td>0.151734</td>\n",
       "      <td>0.184636</td>\n",
       "      <td>0.196389</td>\n",
       "    </tr>\n",
       "    <tr>\n",
       "      <th>min</th>\n",
       "      <td>0.000000</td>\n",
       "      <td>0.000000</td>\n",
       "      <td>0.000000</td>\n",
       "      <td>0.000000</td>\n",
       "      <td>0.000000</td>\n",
       "      <td>0.000000</td>\n",
       "      <td>0.000000</td>\n",
       "      <td>0.000000</td>\n",
       "      <td>0.000000</td>\n",
       "      <td>0.000000</td>\n",
       "      <td>...</td>\n",
       "      <td>0.000000</td>\n",
       "      <td>0.000000</td>\n",
       "      <td>0.00000</td>\n",
       "      <td>0.000000</td>\n",
       "      <td>0.000000</td>\n",
       "      <td>0.000000</td>\n",
       "      <td>0.000000</td>\n",
       "      <td>0.000000</td>\n",
       "      <td>0.000000</td>\n",
       "      <td>0.000000</td>\n",
       "    </tr>\n",
       "    <tr>\n",
       "      <th>25%</th>\n",
       "      <td>0.000000</td>\n",
       "      <td>0.000000</td>\n",
       "      <td>0.000000</td>\n",
       "      <td>0.000000</td>\n",
       "      <td>0.000000</td>\n",
       "      <td>0.000000</td>\n",
       "      <td>0.000000</td>\n",
       "      <td>0.000000</td>\n",
       "      <td>0.000000</td>\n",
       "      <td>0.000000</td>\n",
       "      <td>...</td>\n",
       "      <td>0.000000</td>\n",
       "      <td>0.000000</td>\n",
       "      <td>0.00000</td>\n",
       "      <td>0.000000</td>\n",
       "      <td>0.000000</td>\n",
       "      <td>0.000000</td>\n",
       "      <td>0.000000</td>\n",
       "      <td>0.000000</td>\n",
       "      <td>0.000000</td>\n",
       "      <td>0.000000</td>\n",
       "    </tr>\n",
       "    <tr>\n",
       "      <th>50%</th>\n",
       "      <td>0.000000</td>\n",
       "      <td>0.000000</td>\n",
       "      <td>0.000000</td>\n",
       "      <td>0.000000</td>\n",
       "      <td>0.000000</td>\n",
       "      <td>0.000000</td>\n",
       "      <td>0.000000</td>\n",
       "      <td>0.000000</td>\n",
       "      <td>0.000000</td>\n",
       "      <td>0.000000</td>\n",
       "      <td>...</td>\n",
       "      <td>0.000000</td>\n",
       "      <td>0.000000</td>\n",
       "      <td>0.00000</td>\n",
       "      <td>0.000000</td>\n",
       "      <td>0.000000</td>\n",
       "      <td>0.000000</td>\n",
       "      <td>0.000000</td>\n",
       "      <td>0.000000</td>\n",
       "      <td>0.000000</td>\n",
       "      <td>0.000000</td>\n",
       "    </tr>\n",
       "    <tr>\n",
       "      <th>75%</th>\n",
       "      <td>0.193826</td>\n",
       "      <td>0.000000</td>\n",
       "      <td>0.000000</td>\n",
       "      <td>0.000000</td>\n",
       "      <td>0.000000</td>\n",
       "      <td>0.000000</td>\n",
       "      <td>0.000000</td>\n",
       "      <td>0.000000</td>\n",
       "      <td>0.000000</td>\n",
       "      <td>0.000000</td>\n",
       "      <td>...</td>\n",
       "      <td>0.000000</td>\n",
       "      <td>0.000000</td>\n",
       "      <td>0.00000</td>\n",
       "      <td>0.000000</td>\n",
       "      <td>0.000000</td>\n",
       "      <td>0.000000</td>\n",
       "      <td>0.000000</td>\n",
       "      <td>0.000000</td>\n",
       "      <td>0.000000</td>\n",
       "      <td>0.000000</td>\n",
       "    </tr>\n",
       "    <tr>\n",
       "      <th>max</th>\n",
       "      <td>0.346050</td>\n",
       "      <td>0.988295</td>\n",
       "      <td>0.603009</td>\n",
       "      <td>0.827337</td>\n",
       "      <td>0.563870</td>\n",
       "      <td>0.634316</td>\n",
       "      <td>1.000000</td>\n",
       "      <td>0.602015</td>\n",
       "      <td>0.540793</td>\n",
       "      <td>0.636913</td>\n",
       "      <td>...</td>\n",
       "      <td>0.588264</td>\n",
       "      <td>0.837917</td>\n",
       "      <td>0.77822</td>\n",
       "      <td>0.584094</td>\n",
       "      <td>0.671700</td>\n",
       "      <td>1.000000</td>\n",
       "      <td>0.805355</td>\n",
       "      <td>0.846158</td>\n",
       "      <td>0.805355</td>\n",
       "      <td>0.951021</td>\n",
       "    </tr>\n",
       "  </tbody>\n",
       "</table>\n",
       "<p>8 rows × 39 columns</p>\n",
       "</div>"
      ],
      "text/plain": [
       "                i         nie      bardzo       sklep       towar           w  \\\n",
       "count  100.000000  100.000000  100.000000  100.000000  100.000000  100.000000   \n",
       "mean     0.095641    0.031757    0.071261    0.049066    0.049978    0.083015   \n",
       "std      0.114839    0.131706    0.160636    0.170380    0.138873    0.157744   \n",
       "min      0.000000    0.000000    0.000000    0.000000    0.000000    0.000000   \n",
       "25%      0.000000    0.000000    0.000000    0.000000    0.000000    0.000000   \n",
       "50%      0.000000    0.000000    0.000000    0.000000    0.000000    0.000000   \n",
       "75%      0.193826    0.000000    0.000000    0.000000    0.000000    0.000000   \n",
       "max      0.346050    0.988295    0.603009    0.827337    0.563870    0.634316   \n",
       "\n",
       "               do     sklepie         tym      zakupy  ...   problemów  \\\n",
       "count  100.000000  100.000000  100.000000  100.000000  ...  100.000000   \n",
       "mean     0.041551    0.032140    0.027988    0.031460  ...    0.034861   \n",
       "std      0.153299    0.120870    0.113252    0.125966  ...    0.128819   \n",
       "min      0.000000    0.000000    0.000000    0.000000  ...    0.000000   \n",
       "25%      0.000000    0.000000    0.000000    0.000000  ...    0.000000   \n",
       "50%      0.000000    0.000000    0.000000    0.000000  ...    0.000000   \n",
       "75%      0.000000    0.000000    0.000000    0.000000  ...    0.000000   \n",
       "max      1.000000    0.602015    0.540793    0.636913  ...    0.588264   \n",
       "\n",
       "        pomyślnie         na      opisem      zgodny  zamówienie       super  \\\n",
       "count  100.000000  100.00000  100.000000  100.000000  100.000000  100.000000   \n",
       "mean     0.036056    0.05393    0.024733    0.038344    0.034648    0.062010   \n",
       "std      0.148040    0.16535    0.108864    0.133528    0.146404    0.173683   \n",
       "min      0.000000    0.00000    0.000000    0.000000    0.000000    0.000000   \n",
       "25%      0.000000    0.00000    0.000000    0.000000    0.000000    0.000000   \n",
       "50%      0.000000    0.00000    0.000000    0.000000    0.000000    0.000000   \n",
       "75%      0.000000    0.00000    0.000000    0.000000    0.000000    0.000000   \n",
       "max      0.837917    0.77822    0.584094    0.671700    1.000000    0.805355   \n",
       "\n",
       "       zamówienia  profesjonalna  profesjonalnie  \n",
       "count  100.000000     100.000000      100.000000  \n",
       "mean     0.036989       0.064888        0.056061  \n",
       "std      0.151734       0.184636        0.196389  \n",
       "min      0.000000       0.000000        0.000000  \n",
       "25%      0.000000       0.000000        0.000000  \n",
       "50%      0.000000       0.000000        0.000000  \n",
       "75%      0.000000       0.000000        0.000000  \n",
       "max      0.846158       0.805355        0.951021  \n",
       "\n",
       "[8 rows x 39 columns]"
      ]
     },
     "execution_count": 240,
     "metadata": {},
     "output_type": "execute_result"
    }
   ],
   "source": [
    "tfidf_df.describe()"
   ]
  },
  {
   "cell_type": "code",
   "execution_count": null,
   "id": "bb32aef4",
   "metadata": {},
   "outputs": [],
   "source": []
  },
  {
   "cell_type": "markdown",
   "id": "80d291e8",
   "metadata": {},
   "source": [
    "# preproc and tokenize user sentence"
   ]
  },
  {
   "cell_type": "code",
   "execution_count": 33,
   "id": "8609c7d4",
   "metadata": {
    "ExecuteTime": {
     "end_time": "2021-10-26T21:19:21.525069Z",
     "start_time": "2021-10-26T21:19:21.502824Z"
    }
   },
   "outputs": [],
   "source": [
    "\n",
    "from src.preproc import RawDataCleaner, TextCleaner, SimpleTokenizer"
   ]
  },
  {
   "cell_type": "code",
   "execution_count": 34,
   "id": "5d641076",
   "metadata": {
    "ExecuteTime": {
     "end_time": "2021-10-26T21:19:22.176609Z",
     "start_time": "2021-10-26T21:19:22.158069Z"
    }
   },
   "outputs": [],
   "source": [
    "tokenizer = SimpleTokenizer()"
   ]
  },
  {
   "cell_type": "code",
   "execution_count": 35,
   "id": "7e9a6a6b",
   "metadata": {
    "ExecuteTime": {
     "end_time": "2021-10-26T21:19:23.171359Z",
     "start_time": "2021-10-26T21:19:23.157373Z"
    }
   },
   "outputs": [
    {
     "data": {
      "text/plain": [
       "['a', 'co', 'tam!']"
      ]
     },
     "execution_count": 35,
     "metadata": {},
     "output_type": "execute_result"
    }
   ],
   "source": [
    "tokenizer.tokenize('a co tam!')"
   ]
  },
  {
   "cell_type": "code",
   "execution_count": null,
   "id": "e67467bf",
   "metadata": {},
   "outputs": [],
   "source": []
  },
  {
   "cell_type": "code",
   "execution_count": null,
   "id": "881eae63",
   "metadata": {},
   "outputs": [],
   "source": []
  },
  {
   "cell_type": "code",
   "execution_count": null,
   "id": "7241cee9",
   "metadata": {},
   "outputs": [],
   "source": []
  },
  {
   "cell_type": "code",
   "execution_count": null,
   "id": "a765f3c4",
   "metadata": {},
   "outputs": [],
   "source": []
  },
  {
   "cell_type": "code",
   "execution_count": null,
   "id": "47af3b11",
   "metadata": {},
   "outputs": [],
   "source": []
  },
  {
   "cell_type": "markdown",
   "id": "c03a983d",
   "metadata": {},
   "source": [
    "# w2v"
   ]
  },
  {
   "cell_type": "code",
   "execution_count": 3,
   "id": "aae06982",
   "metadata": {
    "ExecuteTime": {
     "end_time": "2021-10-25T02:12:13.960112Z",
     "start_time": "2021-10-25T02:12:08.125762Z"
    }
   },
   "outputs": [],
   "source": [
    "with open('./data/data_preproc.pkl', 'rb') as f:\n",
    "    data = pickle.load(f)"
   ]
  },
  {
   "cell_type": "code",
   "execution_count": 5,
   "id": "9bddd407",
   "metadata": {
    "ExecuteTime": {
     "end_time": "2021-10-25T02:23:12.434474Z",
     "start_time": "2021-10-25T02:23:12.416157Z"
    }
   },
   "outputs": [
    {
     "data": {
      "text/plain": [
       "<gensim.models.word2vec.Word2Vec at 0x7fc9a82210d0>"
      ]
     },
     "execution_count": 5,
     "metadata": {},
     "output_type": "execute_result"
    }
   ],
   "source": [
    "model"
   ]
  },
  {
   "cell_type": "code",
   "execution_count": 4,
   "id": "96595a7e",
   "metadata": {
    "ExecuteTime": {
     "end_time": "2021-10-25T02:22:42.103680Z",
     "start_time": "2021-10-25T02:22:00.187466Z"
    }
   },
   "outputs": [
    {
     "ename": "FileNotFoundError",
     "evalue": "[Errno 2] No such file or directory: './models/word2vec.model'",
     "output_type": "error",
     "traceback": [
      "\u001b[0;31m---------------------------------------------------------------------------\u001b[0m",
      "\u001b[0;31mTypeError\u001b[0m                                 Traceback (most recent call last)",
      "\u001b[0;32m~/Pulpit/pyProj/gensim/venv/lib/python3.8/site-packages/gensim/utils.py\u001b[0m in \u001b[0;36msave\u001b[0;34m(self, fname_or_handle, separately, sep_limit, ignore, pickle_protocol)\u001b[0m\n\u001b[1;32m    762\u001b[0m         \u001b[0;32mtry\u001b[0m\u001b[0;34m:\u001b[0m\u001b[0;34m\u001b[0m\u001b[0;34m\u001b[0m\u001b[0m\n\u001b[0;32m--> 763\u001b[0;31m             \u001b[0m_pickle\u001b[0m\u001b[0;34m.\u001b[0m\u001b[0mdump\u001b[0m\u001b[0;34m(\u001b[0m\u001b[0mself\u001b[0m\u001b[0;34m,\u001b[0m \u001b[0mfname_or_handle\u001b[0m\u001b[0;34m,\u001b[0m \u001b[0mprotocol\u001b[0m\u001b[0;34m=\u001b[0m\u001b[0mpickle_protocol\u001b[0m\u001b[0;34m)\u001b[0m\u001b[0;34m\u001b[0m\u001b[0;34m\u001b[0m\u001b[0m\n\u001b[0m\u001b[1;32m    764\u001b[0m             \u001b[0mlogger\u001b[0m\u001b[0;34m.\u001b[0m\u001b[0minfo\u001b[0m\u001b[0;34m(\u001b[0m\u001b[0;34m\"saved %s object\"\u001b[0m\u001b[0;34m,\u001b[0m \u001b[0mself\u001b[0m\u001b[0;34m.\u001b[0m\u001b[0m__class__\u001b[0m\u001b[0;34m.\u001b[0m\u001b[0m__name__\u001b[0m\u001b[0;34m)\u001b[0m\u001b[0;34m\u001b[0m\u001b[0;34m\u001b[0m\u001b[0m\n",
      "\u001b[0;31mTypeError\u001b[0m: file must have a 'write' attribute",
      "\nDuring handling of the above exception, another exception occurred:\n",
      "\u001b[0;31mFileNotFoundError\u001b[0m                         Traceback (most recent call last)",
      "\u001b[0;32m/tmp/ipykernel_12286/3538314706.py\u001b[0m in \u001b[0;36m<module>\u001b[0;34m\u001b[0m\n\u001b[1;32m      2\u001b[0m \u001b[0;34m\u001b[0m\u001b[0m\n\u001b[1;32m      3\u001b[0m \u001b[0mmodel\u001b[0m \u001b[0;34m=\u001b[0m \u001b[0mWord2Vec\u001b[0m\u001b[0;34m(\u001b[0m\u001b[0msentences\u001b[0m\u001b[0;34m=\u001b[0m\u001b[0mdata\u001b[0m\u001b[0;34m[\u001b[0m\u001b[0;34m'tokens'\u001b[0m\u001b[0;34m]\u001b[0m\u001b[0;34m,\u001b[0m \u001b[0mvector_size\u001b[0m\u001b[0;34m=\u001b[0m\u001b[0;36m25\u001b[0m\u001b[0;34m,\u001b[0m \u001b[0mwindow\u001b[0m\u001b[0;34m=\u001b[0m\u001b[0;36m5\u001b[0m\u001b[0;34m,\u001b[0m \u001b[0mmin_count\u001b[0m\u001b[0;34m=\u001b[0m\u001b[0;36m1\u001b[0m\u001b[0;34m,\u001b[0m \u001b[0mworkers\u001b[0m\u001b[0;34m=\u001b[0m\u001b[0;36m4\u001b[0m\u001b[0;34m)\u001b[0m\u001b[0;34m\u001b[0m\u001b[0;34m\u001b[0m\u001b[0m\n\u001b[0;32m----> 4\u001b[0;31m \u001b[0mmodel\u001b[0m\u001b[0;34m.\u001b[0m\u001b[0msave\u001b[0m\u001b[0;34m(\u001b[0m\u001b[0;34m\"./models/word2vec.model\"\u001b[0m\u001b[0;34m)\u001b[0m\u001b[0;34m\u001b[0m\u001b[0;34m\u001b[0m\u001b[0m\n\u001b[0m",
      "\u001b[0;32m~/Pulpit/pyProj/gensim/venv/lib/python3.8/site-packages/gensim/models/word2vec.py\u001b[0m in \u001b[0;36msave\u001b[0;34m(self, *args, **kwargs)\u001b[0m\n\u001b[1;32m   1898\u001b[0m \u001b[0;34m\u001b[0m\u001b[0m\n\u001b[1;32m   1899\u001b[0m         \"\"\"\n\u001b[0;32m-> 1900\u001b[0;31m         \u001b[0msuper\u001b[0m\u001b[0;34m(\u001b[0m\u001b[0mWord2Vec\u001b[0m\u001b[0;34m,\u001b[0m \u001b[0mself\u001b[0m\u001b[0;34m)\u001b[0m\u001b[0;34m.\u001b[0m\u001b[0msave\u001b[0m\u001b[0;34m(\u001b[0m\u001b[0;34m*\u001b[0m\u001b[0margs\u001b[0m\u001b[0;34m,\u001b[0m \u001b[0;34m**\u001b[0m\u001b[0mkwargs\u001b[0m\u001b[0;34m)\u001b[0m\u001b[0;34m\u001b[0m\u001b[0;34m\u001b[0m\u001b[0m\n\u001b[0m\u001b[1;32m   1901\u001b[0m \u001b[0;34m\u001b[0m\u001b[0m\n\u001b[1;32m   1902\u001b[0m     \u001b[0;32mdef\u001b[0m \u001b[0m_save_specials\u001b[0m\u001b[0;34m(\u001b[0m\u001b[0mself\u001b[0m\u001b[0;34m,\u001b[0m \u001b[0mfname\u001b[0m\u001b[0;34m,\u001b[0m \u001b[0mseparately\u001b[0m\u001b[0;34m,\u001b[0m \u001b[0msep_limit\u001b[0m\u001b[0;34m,\u001b[0m \u001b[0mignore\u001b[0m\u001b[0;34m,\u001b[0m \u001b[0mpickle_protocol\u001b[0m\u001b[0;34m,\u001b[0m \u001b[0mcompress\u001b[0m\u001b[0;34m,\u001b[0m \u001b[0msubname\u001b[0m\u001b[0;34m)\u001b[0m\u001b[0;34m:\u001b[0m\u001b[0;34m\u001b[0m\u001b[0;34m\u001b[0m\u001b[0m\n",
      "\u001b[0;32m~/Pulpit/pyProj/gensim/venv/lib/python3.8/site-packages/gensim/utils.py\u001b[0m in \u001b[0;36msave\u001b[0;34m(self, fname_or_handle, separately, sep_limit, ignore, pickle_protocol)\u001b[0m\n\u001b[1;32m    764\u001b[0m             \u001b[0mlogger\u001b[0m\u001b[0;34m.\u001b[0m\u001b[0minfo\u001b[0m\u001b[0;34m(\u001b[0m\u001b[0;34m\"saved %s object\"\u001b[0m\u001b[0;34m,\u001b[0m \u001b[0mself\u001b[0m\u001b[0;34m.\u001b[0m\u001b[0m__class__\u001b[0m\u001b[0;34m.\u001b[0m\u001b[0m__name__\u001b[0m\u001b[0;34m)\u001b[0m\u001b[0;34m\u001b[0m\u001b[0;34m\u001b[0m\u001b[0m\n\u001b[1;32m    765\u001b[0m         \u001b[0;32mexcept\u001b[0m \u001b[0mTypeError\u001b[0m\u001b[0;34m:\u001b[0m  \u001b[0;31m# `fname_or_handle` does not have write attribute\u001b[0m\u001b[0;34m\u001b[0m\u001b[0;34m\u001b[0m\u001b[0m\n\u001b[0;32m--> 766\u001b[0;31m             \u001b[0mself\u001b[0m\u001b[0;34m.\u001b[0m\u001b[0m_smart_save\u001b[0m\u001b[0;34m(\u001b[0m\u001b[0mfname_or_handle\u001b[0m\u001b[0;34m,\u001b[0m \u001b[0mseparately\u001b[0m\u001b[0;34m,\u001b[0m \u001b[0msep_limit\u001b[0m\u001b[0;34m,\u001b[0m \u001b[0mignore\u001b[0m\u001b[0;34m,\u001b[0m \u001b[0mpickle_protocol\u001b[0m\u001b[0;34m=\u001b[0m\u001b[0mpickle_protocol\u001b[0m\u001b[0;34m)\u001b[0m\u001b[0;34m\u001b[0m\u001b[0;34m\u001b[0m\u001b[0m\n\u001b[0m\u001b[1;32m    767\u001b[0m \u001b[0;34m\u001b[0m\u001b[0m\n\u001b[1;32m    768\u001b[0m \u001b[0;34m\u001b[0m\u001b[0m\n",
      "\u001b[0;32m~/Pulpit/pyProj/gensim/venv/lib/python3.8/site-packages/gensim/utils.py\u001b[0m in \u001b[0;36m_smart_save\u001b[0;34m(self, fname, separately, sep_limit, ignore, pickle_protocol)\u001b[0m\n\u001b[1;32m    608\u001b[0m         )\n\u001b[1;32m    609\u001b[0m         \u001b[0;32mtry\u001b[0m\u001b[0;34m:\u001b[0m\u001b[0;34m\u001b[0m\u001b[0;34m\u001b[0m\u001b[0m\n\u001b[0;32m--> 610\u001b[0;31m             \u001b[0mpickle\u001b[0m\u001b[0;34m(\u001b[0m\u001b[0mself\u001b[0m\u001b[0;34m,\u001b[0m \u001b[0mfname\u001b[0m\u001b[0;34m,\u001b[0m \u001b[0mprotocol\u001b[0m\u001b[0;34m=\u001b[0m\u001b[0mpickle_protocol\u001b[0m\u001b[0;34m)\u001b[0m\u001b[0;34m\u001b[0m\u001b[0;34m\u001b[0m\u001b[0m\n\u001b[0m\u001b[1;32m    611\u001b[0m         \u001b[0;32mfinally\u001b[0m\u001b[0;34m:\u001b[0m\u001b[0;34m\u001b[0m\u001b[0;34m\u001b[0m\u001b[0m\n\u001b[1;32m    612\u001b[0m             \u001b[0;31m# restore attribs handled specially\u001b[0m\u001b[0;34m\u001b[0m\u001b[0;34m\u001b[0m\u001b[0;34m\u001b[0m\u001b[0m\n",
      "\u001b[0;32m~/Pulpit/pyProj/gensim/venv/lib/python3.8/site-packages/gensim/utils.py\u001b[0m in \u001b[0;36mpickle\u001b[0;34m(obj, fname, protocol)\u001b[0m\n\u001b[1;32m   1439\u001b[0m \u001b[0;34m\u001b[0m\u001b[0m\n\u001b[1;32m   1440\u001b[0m     \"\"\"\n\u001b[0;32m-> 1441\u001b[0;31m     \u001b[0;32mwith\u001b[0m \u001b[0mopen\u001b[0m\u001b[0;34m(\u001b[0m\u001b[0mfname\u001b[0m\u001b[0;34m,\u001b[0m \u001b[0;34m'wb'\u001b[0m\u001b[0;34m)\u001b[0m \u001b[0;32mas\u001b[0m \u001b[0mfout\u001b[0m\u001b[0;34m:\u001b[0m  \u001b[0;31m# 'b' for binary, needed on Windows\u001b[0m\u001b[0;34m\u001b[0m\u001b[0;34m\u001b[0m\u001b[0m\n\u001b[0m\u001b[1;32m   1442\u001b[0m         \u001b[0m_pickle\u001b[0m\u001b[0;34m.\u001b[0m\u001b[0mdump\u001b[0m\u001b[0;34m(\u001b[0m\u001b[0mobj\u001b[0m\u001b[0;34m,\u001b[0m \u001b[0mfout\u001b[0m\u001b[0;34m,\u001b[0m \u001b[0mprotocol\u001b[0m\u001b[0;34m=\u001b[0m\u001b[0mprotocol\u001b[0m\u001b[0;34m)\u001b[0m\u001b[0;34m\u001b[0m\u001b[0;34m\u001b[0m\u001b[0m\n\u001b[1;32m   1443\u001b[0m \u001b[0;34m\u001b[0m\u001b[0m\n",
      "\u001b[0;32m~/Pulpit/pyProj/gensim/venv/lib/python3.8/site-packages/smart_open/smart_open_lib.py\u001b[0m in \u001b[0;36mopen\u001b[0;34m(uri, mode, buffering, encoding, errors, newline, closefd, opener, ignore_ext, compression, transport_params)\u001b[0m\n\u001b[1;32m    186\u001b[0m         \u001b[0mtransport_params\u001b[0m \u001b[0;34m=\u001b[0m \u001b[0;34m{\u001b[0m\u001b[0;34m}\u001b[0m\u001b[0;34m\u001b[0m\u001b[0;34m\u001b[0m\u001b[0m\n\u001b[1;32m    187\u001b[0m \u001b[0;34m\u001b[0m\u001b[0m\n\u001b[0;32m--> 188\u001b[0;31m     fobj = _shortcut_open(\n\u001b[0m\u001b[1;32m    189\u001b[0m         \u001b[0muri\u001b[0m\u001b[0;34m,\u001b[0m\u001b[0;34m\u001b[0m\u001b[0;34m\u001b[0m\u001b[0m\n\u001b[1;32m    190\u001b[0m         \u001b[0mmode\u001b[0m\u001b[0;34m,\u001b[0m\u001b[0;34m\u001b[0m\u001b[0;34m\u001b[0m\u001b[0m\n",
      "\u001b[0;32m~/Pulpit/pyProj/gensim/venv/lib/python3.8/site-packages/smart_open/smart_open_lib.py\u001b[0m in \u001b[0;36m_shortcut_open\u001b[0;34m(uri, mode, compression, buffering, encoding, errors, newline)\u001b[0m\n\u001b[1;32m    359\u001b[0m         \u001b[0mopen_kwargs\u001b[0m\u001b[0;34m[\u001b[0m\u001b[0;34m'errors'\u001b[0m\u001b[0;34m]\u001b[0m \u001b[0;34m=\u001b[0m \u001b[0merrors\u001b[0m\u001b[0;34m\u001b[0m\u001b[0;34m\u001b[0m\u001b[0m\n\u001b[1;32m    360\u001b[0m \u001b[0;34m\u001b[0m\u001b[0m\n\u001b[0;32m--> 361\u001b[0;31m     \u001b[0;32mreturn\u001b[0m \u001b[0m_builtin_open\u001b[0m\u001b[0;34m(\u001b[0m\u001b[0mlocal_path\u001b[0m\u001b[0;34m,\u001b[0m \u001b[0mmode\u001b[0m\u001b[0;34m,\u001b[0m \u001b[0mbuffering\u001b[0m\u001b[0;34m=\u001b[0m\u001b[0mbuffering\u001b[0m\u001b[0;34m,\u001b[0m \u001b[0;34m**\u001b[0m\u001b[0mopen_kwargs\u001b[0m\u001b[0;34m)\u001b[0m\u001b[0;34m\u001b[0m\u001b[0;34m\u001b[0m\u001b[0m\n\u001b[0m\u001b[1;32m    362\u001b[0m \u001b[0;34m\u001b[0m\u001b[0m\n\u001b[1;32m    363\u001b[0m \u001b[0;34m\u001b[0m\u001b[0m\n",
      "\u001b[0;31mFileNotFoundError\u001b[0m: [Errno 2] No such file or directory: './models/word2vec.model'"
     ]
    }
   ],
   "source": [
    "from gensim.models import Word2Vec\n",
    "\n",
    "model = Word2Vec(sentences=data['tokens'], vector_size=25, window=5, min_count=1, workers=4)\n",
    "model.save(\"./models/word2vec.model\")"
   ]
  },
  {
   "cell_type": "code",
   "execution_count": 6,
   "id": "f644cc45",
   "metadata": {
    "ExecuteTime": {
     "end_time": "2021-10-25T21:07:11.842370Z",
     "start_time": "2021-10-25T21:07:11.565802Z"
    }
   },
   "outputs": [],
   "source": [
    "from datetime import datetime"
   ]
  },
  {
   "cell_type": "code",
   "execution_count": 7,
   "id": "d5f08f09",
   "metadata": {
    "ExecuteTime": {
     "end_time": "2021-10-25T21:07:27.037190Z",
     "start_time": "2021-10-25T21:07:27.024019Z"
    }
   },
   "outputs": [],
   "source": [
    "dateTimeObj = datetime.now()"
   ]
  },
  {
   "cell_type": "code",
   "execution_count": 8,
   "id": "d30df897",
   "metadata": {
    "ExecuteTime": {
     "end_time": "2021-10-25T21:07:30.999364Z",
     "start_time": "2021-10-25T21:07:30.983405Z"
    }
   },
   "outputs": [
    {
     "name": "stdout",
     "output_type": "stream",
     "text": [
      "2021-10-25 23:07:27.035741\n"
     ]
    }
   ],
   "source": [
    "print(dateTimeObj)"
   ]
  },
  {
   "cell_type": "code",
   "execution_count": 10,
   "id": "f4ad7636",
   "metadata": {
    "ExecuteTime": {
     "end_time": "2021-10-25T21:08:42.017521Z",
     "start_time": "2021-10-25T21:08:42.002445Z"
    }
   },
   "outputs": [
    {
     "name": "stdout",
     "output_type": "stream",
     "text": [
      "20211025_230727\n"
     ]
    }
   ],
   "source": [
    "timestampStr = dateTimeObj.strftime(\"%Y%m%d_%H%M%S\")\n",
    "print(timestampStr)"
   ]
  },
  {
   "cell_type": "markdown",
   "id": "abb00b45",
   "metadata": {},
   "source": [
    "# test single sentence wrapper"
   ]
  },
  {
   "cell_type": "code",
   "execution_count": null,
   "id": "2bd7954a",
   "metadata": {},
   "outputs": [],
   "source": []
  },
  {
   "cell_type": "markdown",
   "id": "351e2cb0",
   "metadata": {},
   "source": [
    "# test single column transformers"
   ]
  },
  {
   "cell_type": "code",
   "execution_count": 63,
   "id": "29a58c5e",
   "metadata": {
    "ExecuteTime": {
     "end_time": "2021-10-27T20:54:54.616270Z",
     "start_time": "2021-10-27T20:54:54.597268Z"
    }
   },
   "outputs": [],
   "source": [
    "a = '257 najlepszy moment ψψ'\n",
    "b = 'اغلاق الكلبة العربي يمارس الجنس مع ما يصل'\n",
    "c = \"stara ''sowiecka szkola'' zaczynam sie zastanawiac czy mozna by ich legalnie zdelegalizowac ?\"\n",
    "d = 'Dobrze. Szkoda, że InPost nie precyzuje co oznacza, że dostarcza przesyłkę \"OD RANA\"'\n",
    "e = '  asd  asd  '\n",
    "f = 'łączńie ćma grzegżźółka'\n",
    "g = 'Bardzo przyjazny klientom sklep. \\\\Realizuje, wszystkie zamówienai: takie - takie '\n",
    "h = 'Szanowni Państwo, ODRADZAM !!!\\r\\r\\r\\n\\r\\r\\r\\n'\n",
    "i = 'Szanowni Państwo,\\r\\r\\r\\n\\r\\r\\r\\n ODRADZAM !!!'\n",
    "j = 'what???????!!!!!!!!!'\n",
    "\n",
    "tt = [a,b,c,d,e,f,g,h,i,j]"
   ]
  },
  {
   "cell_type": "code",
   "execution_count": 47,
   "id": "78efe25d",
   "metadata": {
    "ExecuteTime": {
     "end_time": "2021-10-27T20:45:06.327714Z",
     "start_time": "2021-10-27T20:45:06.314500Z"
    }
   },
   "outputs": [],
   "source": [
    "from src.preproc_columns import TextCleaner, SimpleTokenizer"
   ]
  },
  {
   "cell_type": "code",
   "execution_count": 58,
   "id": "88e8acf6",
   "metadata": {
    "ExecuteTime": {
     "end_time": "2021-10-27T20:53:38.540255Z",
     "start_time": "2021-10-27T20:53:38.526366Z"
    }
   },
   "outputs": [
    {
     "data": {
      "text/plain": [
       "['257 najlepszy moment',\n",
       " '',\n",
       " 'stara sowiecka szkola zaczynam sie zastanawiac czy mozna by ich legalnie zdelegalizowac',\n",
       " 'dobrze szkoda że inpost nie precyzuje co oznacza że dostarcza przesyłkę od rana',\n",
       " 'asd asd',\n",
       " 'łączńie ćma grzegżźółka',\n",
       " 'bardzo przyjazny klientom sklep realizuje wszystkie zamówienai takie takie',\n",
       " 'szanowni państwo odradzam',\n",
       " 'szanowni państwo odradzam',\n",
       " 'what']"
      ]
     },
     "execution_count": 58,
     "metadata": {},
     "output_type": "execute_result"
    }
   ],
   "source": [
    "TextCleaner().transform(tt)"
   ]
  },
  {
   "cell_type": "code",
   "execution_count": 61,
   "id": "f46b4165",
   "metadata": {
    "ExecuteTime": {
     "end_time": "2021-10-27T20:54:26.800720Z",
     "start_time": "2021-10-27T20:54:26.786148Z"
    }
   },
   "outputs": [
    {
     "data": {
      "text/plain": [
       "['257 najlepszy moment',\n",
       " '',\n",
       " 'stara sowiecka szkola zaczynam sie zastanawiac czy mozna by ich legalnie zdelegalizowac',\n",
       " 'dobrze szkoda że inpost nie precyzuje co oznacza że dostarcza przesyłkę od rana',\n",
       " 'asd asd',\n",
       " 'łączńie ćma grzegżźółka',\n",
       " 'bardzo przyjazny klientom sklep realizuje wszystkie zamówienai takie takie',\n",
       " 'szanowni państwo odradzam',\n",
       " 'szanowni państwo odradzam',\n",
       " 'what']"
      ]
     },
     "execution_count": 61,
     "metadata": {},
     "output_type": "execute_result"
    }
   ],
   "source": [
    "TextCleaner().fit_transform(tt)"
   ]
  },
  {
   "cell_type": "code",
   "execution_count": 57,
   "id": "e08fb3c1",
   "metadata": {
    "ExecuteTime": {
     "end_time": "2021-10-27T20:53:32.484200Z",
     "start_time": "2021-10-27T20:53:29.209202Z"
    }
   },
   "outputs": [
    {
     "data": {
      "text/plain": [
       "'takie tam oj 12'"
      ]
     },
     "execution_count": 57,
     "metadata": {},
     "output_type": "execute_result"
    }
   ],
   "source": [
    "TextCleaner().transform('takie tam!??   oj 12')"
   ]
  },
  {
   "cell_type": "code",
   "execution_count": 60,
   "id": "f9f54b2d",
   "metadata": {
    "ExecuteTime": {
     "end_time": "2021-10-27T20:54:11.895090Z",
     "start_time": "2021-10-27T20:54:11.870504Z"
    }
   },
   "outputs": [
    {
     "data": {
      "text/plain": [
       "'takie tam oj 12'"
      ]
     },
     "execution_count": 60,
     "metadata": {},
     "output_type": "execute_result"
    }
   ],
   "source": [
    "TextCleaner().fit_transform('takie tam!??   oj 12')"
   ]
  },
  {
   "cell_type": "code",
   "execution_count": 67,
   "id": "1cca2e0c",
   "metadata": {
    "ExecuteTime": {
     "end_time": "2021-10-27T20:56:25.897453Z",
     "start_time": "2021-10-27T20:56:25.872307Z"
    }
   },
   "outputs": [],
   "source": [
    "prep_p = Pipeline([\n",
    "    ('clean', TextCleaner()),\n",
    "    ('tokenize', SimpleTokenizer())\n",
    "])"
   ]
  },
  {
   "cell_type": "code",
   "execution_count": 70,
   "id": "6cd7ebda",
   "metadata": {
    "ExecuteTime": {
     "end_time": "2021-10-27T20:58:05.839555Z",
     "start_time": "2021-10-27T20:58:05.825612Z"
    }
   },
   "outputs": [
    {
     "data": {
      "text/plain": [
       "[['257', 'najlepszy', 'moment'],\n",
       " [],\n",
       " ['stara',\n",
       "  'sowiecka',\n",
       "  'szkola',\n",
       "  'zaczynam',\n",
       "  'sie',\n",
       "  'zastanawiac',\n",
       "  'czy',\n",
       "  'mozna',\n",
       "  'by',\n",
       "  'ich',\n",
       "  'legalnie',\n",
       "  'zdelegalizowac'],\n",
       " ['dobrze',\n",
       "  'szkoda',\n",
       "  'że',\n",
       "  'inpost',\n",
       "  'nie',\n",
       "  'precyzuje',\n",
       "  'co',\n",
       "  'oznacza',\n",
       "  'że',\n",
       "  'dostarcza',\n",
       "  'przesyłkę',\n",
       "  'od',\n",
       "  'rana'],\n",
       " ['asd', 'asd'],\n",
       " ['łączńie', 'ćma', 'grzegżźółka'],\n",
       " ['bardzo',\n",
       "  'przyjazny',\n",
       "  'klientom',\n",
       "  'sklep',\n",
       "  'realizuje',\n",
       "  'wszystkie',\n",
       "  'zamówienai',\n",
       "  'takie',\n",
       "  'takie'],\n",
       " ['szanowni', 'państwo', 'odradzam'],\n",
       " ['szanowni', 'państwo', 'odradzam'],\n",
       " ['what']]"
      ]
     },
     "execution_count": 70,
     "metadata": {},
     "output_type": "execute_result"
    }
   ],
   "source": [
    "prep_p.transform(tt)"
   ]
  },
  {
   "cell_type": "markdown",
   "id": "2b741df9",
   "metadata": {},
   "source": [
    "# adhoc"
   ]
  },
  {
   "cell_type": "code",
   "execution_count": 52,
   "id": "38df0785",
   "metadata": {
    "ExecuteTime": {
     "end_time": "2021-10-27T20:48:14.127690Z",
     "start_time": "2021-10-27T20:48:14.114043Z"
    }
   },
   "outputs": [
    {
     "name": "stdout",
     "output_type": "stream",
     "text": [
      "aaa\n"
     ]
    }
   ],
   "source": [
    "for x in ['aaa']:\n",
    "    print(x)"
   ]
  },
  {
   "cell_type": "code",
   "execution_count": 45,
   "id": "0652a0ba",
   "metadata": {
    "ExecuteTime": {
     "end_time": "2021-10-27T20:35:51.244800Z",
     "start_time": "2021-10-27T20:35:51.225052Z"
    }
   },
   "outputs": [
    {
     "data": {
      "text/plain": [
       "[]"
      ]
     },
     "execution_count": 45,
     "metadata": {},
     "output_type": "execute_result"
    }
   ],
   "source": [
    "''.split()"
   ]
  },
  {
   "cell_type": "code",
   "execution_count": 44,
   "id": "ff5dfa5d",
   "metadata": {
    "ExecuteTime": {
     "end_time": "2021-10-27T20:31:25.015308Z",
     "start_time": "2021-10-27T20:31:20.321573Z"
    }
   },
   "outputs": [
    {
     "data": {
      "text/plain": [
       "[1]"
      ]
     },
     "execution_count": 44,
     "metadata": {},
     "output_type": "execute_result"
    }
   ],
   "source": [
    "[1].copy()"
   ]
  },
  {
   "cell_type": "code",
   "execution_count": null,
   "id": "d6ec2c0a",
   "metadata": {},
   "outputs": [],
   "source": [
    "datasets = pd.DataFrame(columns=['id', 'ts', 'params', 'git_branch', 'git_commit', 'shape', 'columns'])"
   ]
  },
  {
   "cell_type": "code",
   "execution_count": 128,
   "id": "9deb6a4f",
   "metadata": {
    "ExecuteTime": {
     "end_time": "2021-10-25T23:38:54.375185Z",
     "start_time": "2021-10-25T23:38:53.138883Z"
    }
   },
   "outputs": [],
   "source": [
    "import os\n",
    "\n",
    "os.mkdir('./data/test')"
   ]
  },
  {
   "cell_type": "code",
   "execution_count": 139,
   "id": "be34a497",
   "metadata": {
    "ExecuteTime": {
     "end_time": "2021-10-25T23:56:21.220567Z",
     "start_time": "2021-10-25T23:56:21.196170Z"
    }
   },
   "outputs": [
    {
     "data": {
      "text/html": [
       "<div>\n",
       "<style scoped>\n",
       "    .dataframe tbody tr th:only-of-type {\n",
       "        vertical-align: middle;\n",
       "    }\n",
       "\n",
       "    .dataframe tbody tr th {\n",
       "        vertical-align: top;\n",
       "    }\n",
       "\n",
       "    .dataframe thead th {\n",
       "        text-align: right;\n",
       "    }\n",
       "</style>\n",
       "<table border=\"1\" class=\"dataframe\">\n",
       "  <thead>\n",
       "    <tr style=\"text-align: right;\">\n",
       "      <th></th>\n",
       "      <th>a</th>\n",
       "      <th>b</th>\n",
       "    </tr>\n",
       "  </thead>\n",
       "  <tbody>\n",
       "    <tr>\n",
       "      <th>0</th>\n",
       "      <td>1</td>\n",
       "      <td>2</td>\n",
       "    </tr>\n",
       "  </tbody>\n",
       "</table>\n",
       "</div>"
      ],
      "text/plain": [
       "   a  b\n",
       "0  1  2"
      ]
     },
     "execution_count": 139,
     "metadata": {},
     "output_type": "execute_result"
    }
   ],
   "source": []
  },
  {
   "cell_type": "code",
   "execution_count": 138,
   "id": "2af1f9a3",
   "metadata": {
    "ExecuteTime": {
     "end_time": "2021-10-25T23:55:47.146578Z",
     "start_time": "2021-10-25T23:55:47.125965Z"
    }
   },
   "outputs": [
    {
     "data": {
      "text/html": [
       "<div>\n",
       "<style scoped>\n",
       "    .dataframe tbody tr th:only-of-type {\n",
       "        vertical-align: middle;\n",
       "    }\n",
       "\n",
       "    .dataframe tbody tr th {\n",
       "        vertical-align: top;\n",
       "    }\n",
       "\n",
       "    .dataframe thead th {\n",
       "        text-align: right;\n",
       "    }\n",
       "</style>\n",
       "<table border=\"1\" class=\"dataframe\">\n",
       "  <thead>\n",
       "    <tr style=\"text-align: right;\">\n",
       "      <th></th>\n",
       "      <th>c</th>\n",
       "      <th>d</th>\n",
       "      <th>0</th>\n",
       "      <th>1</th>\n",
       "    </tr>\n",
       "  </thead>\n",
       "  <tbody>\n",
       "    <tr>\n",
       "      <th>0</th>\n",
       "      <td>NaN</td>\n",
       "      <td>NaN</td>\n",
       "      <td>1.0</td>\n",
       "      <td>2.0</td>\n",
       "    </tr>\n",
       "  </tbody>\n",
       "</table>\n",
       "</div>"
      ],
      "text/plain": [
       "     c    d    0    1\n",
       "0  NaN  NaN  1.0  2.0"
      ]
     },
     "execution_count": 138,
     "metadata": {},
     "output_type": "execute_result"
    }
   ],
   "source": [
    "aa = pd.DataFrame(columns=['c', 'd'])\n",
    "aa.append(pd.Series((1,2)).to_frame().T)\n"
   ]
  },
  {
   "cell_type": "code",
   "execution_count": 130,
   "id": "9a4c8cf2",
   "metadata": {
    "ExecuteTime": {
     "end_time": "2021-10-25T23:41:32.398755Z",
     "start_time": "2021-10-25T23:41:32.382760Z"
    }
   },
   "outputs": [
    {
     "data": {
      "text/plain": [
       "'./data/er'"
      ]
     },
     "execution_count": 130,
     "metadata": {},
     "output_type": "execute_result"
    }
   ],
   "source": []
  },
  {
   "cell_type": "code",
   "execution_count": 141,
   "id": "1a77cec5",
   "metadata": {
    "ExecuteTime": {
     "end_time": "2021-10-26T00:03:15.555306Z",
     "start_time": "2021-10-26T00:03:15.542175Z"
    }
   },
   "outputs": [],
   "source": [
    "with open('./data/20211026_020140/df_prepro_metadata.pkl', 'rb') as f:\n",
    "    metadata = pickle.load(f)"
   ]
  },
  {
   "cell_type": "code",
   "execution_count": 142,
   "id": "34679f2a",
   "metadata": {
    "ExecuteTime": {
     "end_time": "2021-10-26T00:03:19.535542Z",
     "start_time": "2021-10-26T00:03:19.513123Z"
    }
   },
   "outputs": [
    {
     "data": {
      "text/html": [
       "<div>\n",
       "<style scoped>\n",
       "    .dataframe tbody tr th:only-of-type {\n",
       "        vertical-align: middle;\n",
       "    }\n",
       "\n",
       "    .dataframe tbody tr th {\n",
       "        vertical-align: top;\n",
       "    }\n",
       "\n",
       "    .dataframe thead th {\n",
       "        text-align: right;\n",
       "    }\n",
       "</style>\n",
       "<table border=\"1\" class=\"dataframe\">\n",
       "  <thead>\n",
       "    <tr style=\"text-align: right;\">\n",
       "      <th></th>\n",
       "      <th>ts</th>\n",
       "      <th>params</th>\n",
       "      <th>working_dir</th>\n",
       "      <th>git_branch</th>\n",
       "      <th>git_commit</th>\n",
       "      <th>git_sha</th>\n",
       "      <th>shape</th>\n",
       "      <th>columns</th>\n",
       "    </tr>\n",
       "  </thead>\n",
       "  <tbody>\n",
       "    <tr>\n",
       "      <th>0</th>\n",
       "      <td>20211026_020140</td>\n",
       "      <td>{'load_data__file_name': 'polish_sentiment_dat...</td>\n",
       "      <td>/home/mic/Pulpit/pyProj/gensim</td>\n",
       "      <td>master</td>\n",
       "      <td>add prep_data.py modelue for running data prep...</td>\n",
       "      <td>5dbad2a69f2ea7004d30e2c21206c03d4bdfec36</td>\n",
       "      <td>(917525, 8)</td>\n",
       "      <td>[desc, len, negative, desc_clean, len_clean, l...</td>\n",
       "    </tr>\n",
       "  </tbody>\n",
       "</table>\n",
       "</div>"
      ],
      "text/plain": [
       "                ts                                             params  \\\n",
       "0  20211026_020140  {'load_data__file_name': 'polish_sentiment_dat...   \n",
       "\n",
       "                      working_dir git_branch  \\\n",
       "0  /home/mic/Pulpit/pyProj/gensim     master   \n",
       "\n",
       "                                          git_commit  \\\n",
       "0  add prep_data.py modelue for running data prep...   \n",
       "\n",
       "                                    git_sha        shape  \\\n",
       "0  5dbad2a69f2ea7004d30e2c21206c03d4bdfec36  (917525, 8)   \n",
       "\n",
       "                                             columns  \n",
       "0  [desc, len, negative, desc_clean, len_clean, l...  "
      ]
     },
     "execution_count": 142,
     "metadata": {},
     "output_type": "execute_result"
    }
   ],
   "source": [
    "metadata"
   ]
  }
 ],
 "metadata": {
  "kernelspec": {
   "display_name": "Python 3 (ipykernel)",
   "language": "python",
   "name": "python3"
  },
  "language_info": {
   "codemirror_mode": {
    "name": "ipython",
    "version": 3
   },
   "file_extension": ".py",
   "mimetype": "text/x-python",
   "name": "python",
   "nbconvert_exporter": "python",
   "pygments_lexer": "ipython3",
   "version": "3.8.10"
  },
  "toc": {
   "base_numbering": 1,
   "nav_menu": {},
   "number_sections": true,
   "sideBar": true,
   "skip_h1_title": false,
   "title_cell": "Table of Contents",
   "title_sidebar": "Contents",
   "toc_cell": false,
   "toc_position": {
    "height": "calc(100% - 180px)",
    "left": "10px",
    "top": "150px",
    "width": "372px"
   },
   "toc_section_display": true,
   "toc_window_display": true
  }
 },
 "nbformat": 4,
 "nbformat_minor": 5
}
