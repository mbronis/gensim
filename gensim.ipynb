{
 "cells": [
  {
   "cell_type": "markdown",
   "id": "33d09222",
   "metadata": {},
   "source": [
    "# setup"
   ]
  },
  {
   "cell_type": "code",
   "execution_count": 1,
   "id": "d4dee6e9",
   "metadata": {
    "ExecuteTime": {
     "end_time": "2021-10-25T02:11:45.036530Z",
     "start_time": "2021-10-25T02:11:44.989470Z"
    }
   },
   "outputs": [],
   "source": [
    "%load_ext autoreload\n",
    "%autoreload 2"
   ]
  },
  {
   "cell_type": "code",
   "execution_count": 2,
   "id": "bd43ba58",
   "metadata": {
    "ExecuteTime": {
     "end_time": "2021-10-25T02:11:45.950587Z",
     "start_time": "2021-10-25T02:11:45.302654Z"
    }
   },
   "outputs": [],
   "source": [
    "import re\n",
    "import pickle\n",
    "from typing import Sequence\n",
    "from tempfile import mkdtemp\n",
    "\n",
    "import pandas as pd\n",
    "\n",
    "from sklearn.pipeline import Pipeline\n",
    "\n",
    "from src.io import CsvDataLoader\n",
    "from src.preproc import RawDataCleaner, TextCleaner, SimpleTokenizer\n",
    "\n",
    "pd.set_option('display.max_rows', 100)"
   ]
  },
  {
   "cell_type": "markdown",
   "id": "2c318bda",
   "metadata": {},
   "source": [
    "# load raw data & preprocess"
   ]
  },
  {
   "cell_type": "code",
   "execution_count": 114,
   "id": "cf05212c",
   "metadata": {
    "ExecuteTime": {
     "end_time": "2021-10-25T22:32:25.826773Z",
     "start_time": "2021-10-25T22:32:25.813101Z"
    }
   },
   "outputs": [],
   "source": [
    "pipe = Pipeline([\n",
    "    ('load_data', CsvDataLoader(file_name='polish_sentiment_dataset.csv')),\n",
    "    ('basic_cleaning', RawDataCleaner()),\n",
    "    ('text_cleaning', TextCleaner()),\n",
    "    ('tokenizer', SimpleTokenizer())\n",
    "], memory=mkdtemp())"
   ]
  },
  {
   "cell_type": "code",
   "execution_count": 250,
   "id": "ea6574e6",
   "metadata": {
    "ExecuteTime": {
     "end_time": "2021-10-25T01:28:23.919220Z",
     "start_time": "2021-10-25T01:27:48.173524Z"
    }
   },
   "outputs": [
    {
     "name": "stderr",
     "output_type": "stream",
     "text": [
      "/home/mic/Pulpit/pyProj/gensim/venv/lib/python3.8/site-packages/sklearn/pipeline.py:348: UserWarning: Persisting input arguments took 2.33s to run.\n",
      "If this happens often in your code, it can cause performance problems \n",
      "(results will be correct in all cases). \n",
      "The reason for this is probably some large input arguments for a wrapped\n",
      " function (e.g. large strings).\n",
      "THIS IS A JOBLIB ISSUE. If you can, kindly provide the joblib's team with an\n",
      " example so that they can fix the problem.\n",
      "  X, fitted_transformer = fit_transform_one_cached(\n",
      "/home/mic/Pulpit/pyProj/gensim/venv/lib/python3.8/site-packages/sklearn/pipeline.py:348: UserWarning: Persisting input arguments took 2.30s to run.\n",
      "If this happens often in your code, it can cause performance problems \n",
      "(results will be correct in all cases). \n",
      "The reason for this is probably some large input arguments for a wrapped\n",
      " function (e.g. large strings).\n",
      "THIS IS A JOBLIB ISSUE. If you can, kindly provide the joblib's team with an\n",
      " example so that they can fix the problem.\n",
      "  X, fitted_transformer = fit_transform_one_cached(\n"
     ]
    }
   ],
   "source": [
    "data = pipe.fit_transform(None)"
   ]
  },
  {
   "cell_type": "code",
   "execution_count": null,
   "id": "9c53f56d",
   "metadata": {},
   "outputs": [],
   "source": [
    "with open('./data/data_preproc.pkl', 'wb') as f:\n",
    "    pickle.dump(data, f)"
   ]
  },
  {
   "cell_type": "markdown",
   "id": "57f82950",
   "metadata": {},
   "source": [
    "# basic eda"
   ]
  },
  {
   "cell_type": "code",
   "execution_count": 140,
   "id": "c0750fb9",
   "metadata": {
    "ExecuteTime": {
     "end_time": "2021-10-25T00:33:13.539079Z",
     "start_time": "2021-10-25T00:33:13.519745Z"
    }
   },
   "outputs": [
    {
     "data": {
      "text/plain": [
       "(917525, 8)"
      ]
     },
     "execution_count": 140,
     "metadata": {},
     "output_type": "execute_result"
    }
   ],
   "source": [
    "data.shape"
   ]
  },
  {
   "cell_type": "code",
   "execution_count": 141,
   "id": "ef93d692",
   "metadata": {
    "ExecuteTime": {
     "end_time": "2021-10-25T00:33:16.638698Z",
     "start_time": "2021-10-25T00:33:16.611712Z"
    }
   },
   "outputs": [
    {
     "data": {
      "text/plain": [
       "0.0    0.800228\n",
       "1.0    0.199772\n",
       "Name: negative, dtype: float64"
      ]
     },
     "execution_count": 141,
     "metadata": {},
     "output_type": "execute_result"
    }
   ],
   "source": [
    "data['negative'].value_counts(dropna=False)/len(data)"
   ]
  },
  {
   "cell_type": "code",
   "execution_count": 58,
   "id": "6954bea9",
   "metadata": {
    "ExecuteTime": {
     "end_time": "2021-10-24T23:09:25.754965Z",
     "start_time": "2021-10-24T23:09:25.282044Z"
    }
   },
   "outputs": [
    {
     "data": {
      "text/plain": [
       "<AxesSubplot:ylabel='Frequency'>"
      ]
     },
     "execution_count": 58,
     "metadata": {},
     "output_type": "execute_result"
    },
    {
     "data": {
      "image/png": "[encoded data removed]",
      "text/plain": [
       "<Figure size 432x288 with 1 Axes>"
      ]
     },
     "metadata": {
      "needs_background": "light"
     },
     "output_type": "display_data"
    }
   ],
   "source": [
    "data['len'].clip(upper=1000).plot.hist(bins=100)"
   ]
  },
  {
   "cell_type": "code",
   "execution_count": 61,
   "id": "5b0c4379",
   "metadata": {
    "ExecuteTime": {
     "end_time": "2021-10-24T23:10:16.878328Z",
     "start_time": "2021-10-24T23:10:16.532676Z"
    }
   },
   "outputs": [
    {
     "data": {
      "text/plain": [
       "<AxesSubplot:ylabel='Frequency'>"
      ]
     },
     "execution_count": 61,
     "metadata": {},
     "output_type": "execute_result"
    },
    {
     "data": {
      "image/png": "[encoded data removed]",
      "text/plain": [
       "<Figure size 432x288 with 1 Axes>"
      ]
     },
     "metadata": {
      "needs_background": "light"
     },
     "output_type": "display_data"
    }
   ],
   "source": [
    "data['len_clean_ratio'].plot.hist(bins=100)"
   ]
  },
  {
   "cell_type": "code",
   "execution_count": 219,
   "id": "5129647e",
   "metadata": {
    "ExecuteTime": {
     "end_time": "2021-10-25T01:19:12.711939Z",
     "start_time": "2021-10-25T01:19:12.349177Z"
    }
   },
   "outputs": [
    {
     "data": {
      "text/plain": [
       "<AxesSubplot:ylabel='Frequency'>"
      ]
     },
     "execution_count": 219,
     "metadata": {},
     "output_type": "execute_result"
    },
    {
     "data": {
      "image/png": "[encoded data removed]",
      "text/plain": [
       "<Figure size 432x288 with 1 Axes>"
      ]
     },
     "metadata": {
      "needs_background": "light"
     },
     "output_type": "display_data"
    }
   ],
   "source": [
    "data['tokens_len'].clip(upper=100).plot.hist(bins=100)"
   ]
  },
  {
   "cell_type": "markdown",
   "id": "12703e0d",
   "metadata": {},
   "source": [
    "## token length"
   ]
  },
  {
   "cell_type": "code",
   "execution_count": null,
   "id": "892c944e",
   "metadata": {},
   "outputs": [],
   "source": [
    "tokens_len = [(i, len(tok)) for i, toks in enumerate(data['tokens']) for tok in toks]\n",
    "tokens_len = pd.DataFrame(tokens_len, columns=['row', 'tok_len'])"
   ]
  },
  {
   "cell_type": "code",
   "execution_count": 286,
   "id": "3d1e2872",
   "metadata": {
    "ExecuteTime": {
     "end_time": "2021-10-25T01:45:49.841097Z",
     "start_time": "2021-10-25T01:45:49.825766Z"
    }
   },
   "outputs": [
    {
     "name": "stdout",
     "output_type": "stream",
     "text": [
      "words in data: 12083288\n"
     ]
    }
   ],
   "source": [
    "print(f\"words in data: {len(tokens_len)}\")"
   ]
  },
  {
   "cell_type": "code",
   "execution_count": 256,
   "id": "9e302af6",
   "metadata": {
    "ExecuteTime": {
     "end_time": "2021-10-25T01:31:28.771197Z",
     "start_time": "2021-10-25T01:31:27.605934Z"
    }
   },
   "outputs": [
    {
     "data": {
      "text/plain": [
       "<AxesSubplot:ylabel='Frequency'>"
      ]
     },
     "execution_count": 256,
     "metadata": {},
     "output_type": "execute_result"
    },
    {
     "data": {
      "image/png": "[encoded data removed]",
      "text/plain": [
       "<Figure size 432x288 with 1 Axes>"
      ]
     },
     "metadata": {
      "needs_background": "light"
     },
     "output_type": "display_data"
    }
   ],
   "source": [
    "tokens_len['tok_len'].clip(upper=100).plot.hist(bins=50)"
   ]
  },
  {
   "cell_type": "code",
   "execution_count": 257,
   "id": "b612d612",
   "metadata": {
    "ExecuteTime": {
     "end_time": "2021-10-25T01:31:45.508979Z",
     "start_time": "2021-10-25T01:31:45.166648Z"
    }
   },
   "outputs": [
    {
     "data": {
      "text/plain": [
       "count    1.208329e+07\n",
       "mean     5.755617e+00\n",
       "std      4.244786e+00\n",
       "min      1.000000e+00\n",
       "25%      3.000000e+00\n",
       "50%      6.000000e+00\n",
       "75%      8.000000e+00\n",
       "max      9.982000e+03\n",
       "Name: tok_len, dtype: float64"
      ]
     },
     "execution_count": 257,
     "metadata": {},
     "output_type": "execute_result"
    }
   ],
   "source": [
    "tokens_len['tok_len'].describe()"
   ]
  },
  {
   "cell_type": "code",
   "execution_count": 258,
   "id": "9de29c38",
   "metadata": {
    "ExecuteTime": {
     "end_time": "2021-10-25T01:32:07.199609Z",
     "start_time": "2021-10-25T01:32:06.372520Z"
    }
   },
   "outputs": [
    {
     "data": {
      "text/plain": [
       "9982"
      ]
     },
     "execution_count": 258,
     "metadata": {},
     "output_type": "execute_result"
    }
   ],
   "source": [
    "max(tokens_len['tok_len'])"
   ]
  },
  {
   "cell_type": "code",
   "execution_count": 271,
   "id": "f7dfcc8c",
   "metadata": {
    "ExecuteTime": {
     "end_time": "2021-10-25T01:35:15.406840Z",
     "start_time": "2021-10-25T01:35:15.379280Z"
    }
   },
   "outputs": [
    {
     "data": {
      "text/html": [
       "<div>\n",
       "<style scoped>\n",
       "    .dataframe tbody tr th:only-of-type {\n",
       "        vertical-align: middle;\n",
       "    }\n",
       "\n",
       "    .dataframe tbody tr th {\n",
       "        vertical-align: top;\n",
       "    }\n",
       "\n",
       "    .dataframe thead th {\n",
       "        text-align: right;\n",
       "    }\n",
       "</style>\n",
       "<table border=\"1\" class=\"dataframe\">\n",
       "  <thead>\n",
       "    <tr style=\"text-align: right;\">\n",
       "      <th></th>\n",
       "      <th>row</th>\n",
       "      <th>tok_len</th>\n",
       "    </tr>\n",
       "  </thead>\n",
       "  <tbody>\n",
       "    <tr>\n",
       "      <th>9940205</th>\n",
       "      <td>774921</td>\n",
       "      <td>50</td>\n",
       "    </tr>\n",
       "    <tr>\n",
       "      <th>10279304</th>\n",
       "      <td>812174</td>\n",
       "      <td>50</td>\n",
       "    </tr>\n",
       "    <tr>\n",
       "      <th>11840864</th>\n",
       "      <td>907920</td>\n",
       "      <td>50</td>\n",
       "    </tr>\n",
       "  </tbody>\n",
       "</table>\n",
       "</div>"
      ],
      "text/plain": [
       "             row  tok_len\n",
       "9940205   774921       50\n",
       "10279304  812174       50\n",
       "11840864  907920       50"
      ]
     },
     "execution_count": 271,
     "metadata": {},
     "output_type": "execute_result"
    }
   ],
   "source": [
    "tokens_len[tokens_len['tok_len']==50]"
   ]
  },
  {
   "cell_type": "code",
   "execution_count": 261,
   "id": "87c1b842",
   "metadata": {
    "ExecuteTime": {
     "end_time": "2021-10-25T01:32:57.945403Z",
     "start_time": "2021-10-25T01:32:57.930792Z"
    }
   },
   "outputs": [
    {
     "data": {
      "text/plain": [
       "RangeIndex(start=0, stop=917525, step=1)"
      ]
     },
     "execution_count": 261,
     "metadata": {},
     "output_type": "execute_result"
    }
   ],
   "source": [
    "data.index"
   ]
  },
  {
   "cell_type": "code",
   "execution_count": 274,
   "id": "d5b81dad",
   "metadata": {
    "ExecuteTime": {
     "end_time": "2021-10-25T01:35:31.979891Z",
     "start_time": "2021-10-25T01:35:31.956652Z"
    }
   },
   "outputs": [
    {
     "data": {
      "text/plain": [
       "'xdxdxdxdxdxxxxxxxxxxxxxddddddddddddddxxxxxxxxxddxx'"
      ]
     },
     "execution_count": 274,
     "metadata": {},
     "output_type": "execute_result"
    }
   ],
   "source": [
    "data['desc_clean'][774921]"
   ]
  },
  {
   "cell_type": "markdown",
   "id": "1e02ebcb",
   "metadata": {},
   "source": [
    "# adhoc eda"
   ]
  },
  {
   "cell_type": "code",
   "execution_count": 275,
   "id": "09228d57",
   "metadata": {
    "ExecuteTime": {
     "end_time": "2021-10-25T01:35:50.313072Z",
     "start_time": "2021-10-25T01:35:50.284988Z"
    }
   },
   "outputs": [
    {
     "data": {
      "text/html": [
       "<div>\n",
       "<style scoped>\n",
       "    .dataframe tbody tr th:only-of-type {\n",
       "        vertical-align: middle;\n",
       "    }\n",
       "\n",
       "    .dataframe tbody tr th {\n",
       "        vertical-align: top;\n",
       "    }\n",
       "\n",
       "    .dataframe thead th {\n",
       "        text-align: right;\n",
       "    }\n",
       "</style>\n",
       "<table border=\"1\" class=\"dataframe\">\n",
       "  <thead>\n",
       "    <tr style=\"text-align: right;\">\n",
       "      <th></th>\n",
       "      <th>desc</th>\n",
       "      <th>len</th>\n",
       "      <th>negative</th>\n",
       "      <th>desc_clean</th>\n",
       "      <th>len_clean</th>\n",
       "      <th>len_clean_ratio</th>\n",
       "      <th>tokens</th>\n",
       "      <th>tokens_len</th>\n",
       "    </tr>\n",
       "  </thead>\n",
       "  <tbody>\n",
       "    <tr>\n",
       "      <th>0</th>\n",
       "      <td>Polecam nie pierwszy i nie ostatni raz!</td>\n",
       "      <td>39</td>\n",
       "      <td>0.0</td>\n",
       "      <td>polecam nie pierwszy i nie ostatni raz</td>\n",
       "      <td>38</td>\n",
       "      <td>0.974359</td>\n",
       "      <td>[polecam, nie, pierwszy, i, nie, ostatni, raz]</td>\n",
       "      <td>7</td>\n",
       "    </tr>\n",
       "    <tr>\n",
       "      <th>1</th>\n",
       "      <td>Bardzo dobra komunikacja sms i telefoniczna. Z...</td>\n",
       "      <td>121</td>\n",
       "      <td>0.0</td>\n",
       "      <td>bardzo dobra komunikacja sms i telefoniczna za...</td>\n",
       "      <td>117</td>\n",
       "      <td>0.966942</td>\n",
       "      <td>[bardzo, dobra, komunikacja, sms, i, telefonic...</td>\n",
       "      <td>16</td>\n",
       "    </tr>\n",
       "    <tr>\n",
       "      <th>2</th>\n",
       "      <td>Polecam zakupy w tym sklepie. Są dostępne częś...</td>\n",
       "      <td>87</td>\n",
       "      <td>0.0</td>\n",
       "      <td>polecam zakupy w tym sklepie są dostępne częśc...</td>\n",
       "      <td>84</td>\n",
       "      <td>0.965517</td>\n",
       "      <td>[polecam, zakupy, w, tym, sklepie, są, dostępn...</td>\n",
       "      <td>14</td>\n",
       "    </tr>\n",
       "    <tr>\n",
       "      <th>3</th>\n",
       "      <td>Jestem w pełni zadowolona z przebiegu transakcji</td>\n",
       "      <td>48</td>\n",
       "      <td>0.0</td>\n",
       "      <td>jestem w pełni zadowolona z przebiegu transakcji</td>\n",
       "      <td>48</td>\n",
       "      <td>1.000000</td>\n",
       "      <td>[jestem, w, pełni, zadowolona, z, przebiegu, t...</td>\n",
       "      <td>7</td>\n",
       "    </tr>\n",
       "    <tr>\n",
       "      <th>4</th>\n",
       "      <td>Transakcja przebiegła błyskawicznie. Pełen pro...</td>\n",
       "      <td>86</td>\n",
       "      <td>0.0</td>\n",
       "      <td>transakcja przebiegła błyskawicznie pełen prof...</td>\n",
       "      <td>84</td>\n",
       "      <td>0.976744</td>\n",
       "      <td>[transakcja, przebiegła, błyskawicznie, pełen,...</td>\n",
       "      <td>9</td>\n",
       "    </tr>\n",
       "    <tr>\n",
       "      <th>...</th>\n",
       "      <td>...</td>\n",
       "      <td>...</td>\n",
       "      <td>...</td>\n",
       "      <td>...</td>\n",
       "      <td>...</td>\n",
       "      <td>...</td>\n",
       "      <td>...</td>\n",
       "      <td>...</td>\n",
       "    </tr>\n",
       "    <tr>\n",
       "      <th>917520</th>\n",
       "      <td>Coraz lepiej wygląda</td>\n",
       "      <td>20</td>\n",
       "      <td>1.0</td>\n",
       "      <td>coraz lepiej wygląda</td>\n",
       "      <td>20</td>\n",
       "      <td>1.000000</td>\n",
       "      <td>[coraz, lepiej, wygląda]</td>\n",
       "      <td>3</td>\n",
       "    </tr>\n",
       "    <tr>\n",
       "      <th>917521</th>\n",
       "      <td>JA SRAM NA TEN PIERSCIONEK I NA CIEBIE CHWILE ...</td>\n",
       "      <td>89</td>\n",
       "      <td>1.0</td>\n",
       "      <td>ja sram na ten pierscionek i na ciebie chwile ...</td>\n",
       "      <td>89</td>\n",
       "      <td>1.000000</td>\n",
       "      <td>[ja, sram, na, ten, pierscionek, i, na, ciebie...</td>\n",
       "      <td>17</td>\n",
       "    </tr>\n",
       "    <tr>\n",
       "      <th>917522</th>\n",
       "      <td>Rafatus do Marleny  Ty kurwo bez honoru       ...</td>\n",
       "      <td>126</td>\n",
       "      <td>1.0</td>\n",
       "      <td>rafatus do marleny ty kurwo bez honoru kto tu ...</td>\n",
       "      <td>91</td>\n",
       "      <td>0.722222</td>\n",
       "      <td>[rafatus, do, marleny, ty, kurwo, bez, honoru,...</td>\n",
       "      <td>16</td>\n",
       "    </tr>\n",
       "    <tr>\n",
       "      <th>917523</th>\n",
       "      <td>matka Marleny   prosi o pomoc</td>\n",
       "      <td>29</td>\n",
       "      <td>1.0</td>\n",
       "      <td>matka marleny prosi o pomoc</td>\n",
       "      <td>27</td>\n",
       "      <td>0.931034</td>\n",
       "      <td>[matka, marleny, prosi, o, pomoc]</td>\n",
       "      <td>5</td>\n",
       "    </tr>\n",
       "    <tr>\n",
       "      <th>917524</th>\n",
       "      <td>wiesz człowieku że on ją nawet nie uderzył i m...</td>\n",
       "      <td>62</td>\n",
       "      <td>1.0</td>\n",
       "      <td>wiesz człowieku że on ją nawet nie uderzył i m...</td>\n",
       "      <td>62</td>\n",
       "      <td>1.000000</td>\n",
       "      <td>[wiesz, człowieku, że, on, ją, nawet, nie, ude...</td>\n",
       "      <td>13</td>\n",
       "    </tr>\n",
       "  </tbody>\n",
       "</table>\n",
       "<p>917525 rows × 8 columns</p>\n",
       "</div>"
      ],
      "text/plain": [
       "                                                     desc  len  negative  \\\n",
       "0                 Polecam nie pierwszy i nie ostatni raz!   39       0.0   \n",
       "1       Bardzo dobra komunikacja sms i telefoniczna. Z...  121       0.0   \n",
       "2       Polecam zakupy w tym sklepie. Są dostępne częś...   87       0.0   \n",
       "3        Jestem w pełni zadowolona z przebiegu transakcji   48       0.0   \n",
       "4       Transakcja przebiegła błyskawicznie. Pełen pro...   86       0.0   \n",
       "...                                                   ...  ...       ...   \n",
       "917520                               Coraz lepiej wygląda   20       1.0   \n",
       "917521  JA SRAM NA TEN PIERSCIONEK I NA CIEBIE CHWILE ...   89       1.0   \n",
       "917522  Rafatus do Marleny  Ty kurwo bez honoru       ...  126       1.0   \n",
       "917523                      matka Marleny   prosi o pomoc   29       1.0   \n",
       "917524  wiesz człowieku że on ją nawet nie uderzył i m...   62       1.0   \n",
       "\n",
       "                                               desc_clean  len_clean  \\\n",
       "0                  polecam nie pierwszy i nie ostatni raz         38   \n",
       "1       bardzo dobra komunikacja sms i telefoniczna za...        117   \n",
       "2       polecam zakupy w tym sklepie są dostępne częśc...         84   \n",
       "3        jestem w pełni zadowolona z przebiegu transakcji         48   \n",
       "4       transakcja przebiegła błyskawicznie pełen prof...         84   \n",
       "...                                                   ...        ...   \n",
       "917520                               coraz lepiej wygląda         20   \n",
       "917521  ja sram na ten pierscionek i na ciebie chwile ...         89   \n",
       "917522  rafatus do marleny ty kurwo bez honoru kto tu ...         91   \n",
       "917523                        matka marleny prosi o pomoc         27   \n",
       "917524  wiesz człowieku że on ją nawet nie uderzył i m...         62   \n",
       "\n",
       "        len_clean_ratio                                             tokens  \\\n",
       "0              0.974359     [polecam, nie, pierwszy, i, nie, ostatni, raz]   \n",
       "1              0.966942  [bardzo, dobra, komunikacja, sms, i, telefonic...   \n",
       "2              0.965517  [polecam, zakupy, w, tym, sklepie, są, dostępn...   \n",
       "3              1.000000  [jestem, w, pełni, zadowolona, z, przebiegu, t...   \n",
       "4              0.976744  [transakcja, przebiegła, błyskawicznie, pełen,...   \n",
       "...                 ...                                                ...   \n",
       "917520         1.000000                           [coraz, lepiej, wygląda]   \n",
       "917521         1.000000  [ja, sram, na, ten, pierscionek, i, na, ciebie...   \n",
       "917522         0.722222  [rafatus, do, marleny, ty, kurwo, bez, honoru,...   \n",
       "917523         0.931034                  [matka, marleny, prosi, o, pomoc]   \n",
       "917524         1.000000  [wiesz, człowieku, że, on, ją, nawet, nie, ude...   \n",
       "\n",
       "        tokens_len  \n",
       "0                7  \n",
       "1               16  \n",
       "2               14  \n",
       "3                7  \n",
       "4                9  \n",
       "...            ...  \n",
       "917520           3  \n",
       "917521          17  \n",
       "917522          16  \n",
       "917523           5  \n",
       "917524          13  \n",
       "\n",
       "[917525 rows x 8 columns]"
      ]
     },
     "execution_count": 275,
     "metadata": {},
     "output_type": "execute_result"
    }
   ],
   "source": [
    "data"
   ]
  },
  {
   "cell_type": "markdown",
   "id": "b45e1cc6",
   "metadata": {},
   "source": [
    "## lettes dict"
   ]
  },
  {
   "cell_type": "code",
   "execution_count": 8,
   "id": "5f2c9f28",
   "metadata": {
    "ExecuteTime": {
     "end_time": "2021-10-24T22:08:05.430018Z",
     "start_time": "2021-10-24T22:07:59.716559Z"
    }
   },
   "outputs": [],
   "source": [
    "from collections import Counter\n",
    "\n",
    "def count_chars(s, chars):\n",
    "    counter = Counter(s)\n",
    "    return {c : counter.get(c,0) for c in chars}\n",
    "\n",
    "letters_dict = Counter([c for s in data['desc'] for c in s])"
   ]
  },
  {
   "cell_type": "code",
   "execution_count": 9,
   "id": "243010cf",
   "metadata": {
    "ExecuteTime": {
     "end_time": "2021-10-24T22:08:06.191402Z",
     "start_time": "2021-10-24T22:08:06.155668Z"
    }
   },
   "outputs": [
    {
     "data": {
      "text/plain": [
       "[(' ', 11269150),\n",
       " ('a', 6918402),\n",
       " ('e', 5827493),\n",
       " ('o', 5432923),\n",
       " ('i', 4519406),\n",
       " ('z', 4060100),\n",
       " ('n', 3448487),\n",
       " ('s', 3133460),\n",
       " ('r', 2971734),\n",
       " ('k', 2774425),\n",
       " ('y', 2761594),\n",
       " ('w', 2572928),\n",
       " ('t', 2412194),\n",
       " ('p', 2306489),\n",
       " ('m', 2204999),\n",
       " ('c', 2117288),\n",
       " ('d', 2068713),\n",
       " ('l', 1826311),\n",
       " ('b', 1633695),\n",
       " ('u', 1422661),\n",
       " ('j', 1374134),\n",
       " ('.', 1076430),\n",
       " ('ł', 1008407),\n",
       " (',', 807210),\n",
       " ('g', 713406),\n",
       " ('ó', 465146),\n",
       " ('ę', 448375),\n",
       " ('ż', 416814),\n",
       " ('P', 367068),\n",
       " ('ą', 360837),\n",
       " ('h', 338778),\n",
       " ('S', 288760),\n",
       " ('!', 278291),\n",
       " ('ś', 273548),\n",
       " ('f', 228596),\n",
       " ('\\r', 219740),\n",
       " ('ć', 212443),\n",
       " ('B', 174693),\n",
       " ('A', 170350),\n",
       " ('W', 166578),\n",
       " ('O', 155386),\n",
       " ('D', 154107),\n",
       " ('T', 147638),\n",
       " ('Z', 133755),\n",
       " ('J', 133418),\n",
       " ('E', 132228),\n",
       " ('N', 122486),\n",
       " ('K', 104327),\n",
       " ('\\n', 104190),\n",
       " ('M', 102931),\n",
       " (')', 99456),\n",
       " ('C', 95883),\n",
       " ('I', 91000),\n",
       " ('-', 84443),\n",
       " ('0', 83453),\n",
       " ('R', 82176),\n",
       " (':', 75159),\n",
       " ('L', 61472),\n",
       " ('ń', 60901),\n",
       " ('1', 58551),\n",
       " ('G', 48068),\n",
       " ('Y', 40786),\n",
       " ('U', 37733),\n",
       " ('2', 36969),\n",
       " ('(', 25202),\n",
       " ('3', 21357),\n",
       " ('x', 20027),\n",
       " ('\"', 19904),\n",
       " ('%', 18506),\n",
       " ('Ś', 18219),\n",
       " ('ź', 17940),\n",
       " ('4', 17217),\n",
       " ('5', 17128),\n",
       " ('F', 15741),\n",
       " ('H', 15735),\n",
       " ('Ł', 15150),\n",
       " (';', 13097),\n",
       " ('?', 11344),\n",
       " ('Ż', 10273),\n",
       " ('6', 9644),\n",
       " ('9', 9274),\n",
       " ('8', 8372),\n",
       " ('7', 7918),\n",
       " ('X', 6848),\n",
       " ('Ę', 6120),\n",
       " ('v', 6039),\n",
       " ('\\xa0', 5411),\n",
       " ('/', 5268),\n",
       " ('Ą', 5199),\n",
       " ('Ó', 4792),\n",
       " ('V', 3828),\n",
       " ('Ć', 3362),\n",
       " ('+', 3240),\n",
       " (\"'\", 2008),\n",
       " ('…', 1991),\n",
       " ('_', 1963),\n",
       " ('\\\\', 1629),\n",
       " ('*', 1152),\n",
       " ('=', 1044),\n",
       " ('\\u3000', 925),\n",
       " (']', 794),\n",
       " ('Ń', 730),\n",
       " ('☺', 688),\n",
       " ('>', 685),\n",
       " ('q', 674),\n",
       " ('[', 600),\n",
       " ('@', 530),\n",
       " ('о', 524),\n",
       " ('–', 445),\n",
       " ('е', 413),\n",
       " ('Q', 402),\n",
       " ('а', 398),\n",
       " ('\\xad', 395),\n",
       " ('и', 378),\n",
       " ('”', 375),\n",
       " ('т', 370),\n",
       " ('„', 355),\n",
       " ('Ź', 308),\n",
       " ('н', 304),\n",
       " ('в', 261),\n",
       " ('ò', 257),\n",
       " ('р', 254),\n",
       " ('\\t', 250),\n",
       " ('с', 242),\n",
       " ('к', 211),\n",
       " ('^', 205),\n",
       " ('л', 205),\n",
       " ('ʖ', 200),\n",
       " ('~', 195),\n",
       " ('卐', 168),\n",
       " ('д', 161),\n",
       " ('м', 149),\n",
       " ('у', 131),\n",
       " ('п', 125),\n",
       " ('|', 121),\n",
       " ('&', 117),\n",
       " ('я', 114),\n",
       " ('<', 102),\n",
       " ('ы', 101),\n",
       " ('б', 99),\n",
       " ('ь', 96),\n",
       " ('`', 93),\n",
       " ('ч', 83),\n",
       " ('з', 81),\n",
       " ('$', 78),\n",
       " ('️', 76),\n",
       " ('ノ', 71),\n",
       " ('х', 69),\n",
       " ('ヽ', 64),\n",
       " ('é', 63),\n",
       " ('ゝ', 61),\n",
       " ('}', 60),\n",
       " ('ö', 59),\n",
       " ('й', 56),\n",
       " ('ل', 49),\n",
       " ('❤', 48),\n",
       " ('і', 47),\n",
       " ('ا', 46),\n",
       " ('г', 45),\n",
       " ('ж', 43),\n",
       " ('ü', 42),\n",
       " ('á', 42),\n",
       " ('ш', 41),\n",
       " ('{', 40),\n",
       " ('ｓ', 39),\n",
       " ('à', 37),\n",
       " ('#', 36),\n",
       " ('ر', 36),\n",
       " ('ｆ', 35),\n",
       " ('ю', 33),\n",
       " ('ц', 33),\n",
       " ('ｊ', 33),\n",
       " ('ن', 31),\n",
       " ('Б', 29),\n",
       " ('э', 29),\n",
       " ('А', 29),\n",
       " ('ä', 28),\n",
       " ('و', 28),\n",
       " ('ᶦ', 28),\n",
       " ('—', 27),\n",
       " ('П', 26),\n",
       " ('“', 25),\n",
       " ('ｄ', 25),\n",
       " ('ｈ', 25),\n",
       " ('ø', 24),\n",
       " ('ｇ', 24),\n",
       " ('ｌ', 23),\n",
       " ('ı', 22),\n",
       " ('ｎ', 22),\n",
       " ('Д', 21),\n",
       " ('è', 21),\n",
       " ('ة', 21),\n",
       " ('í', 20),\n",
       " ('•', 20),\n",
       " ('ž', 20),\n",
       " ('ಠ', 20),\n",
       " ('С', 19),\n",
       " ('К', 19),\n",
       " ('م', 19),\n",
       " ('В', 18),\n",
       " ('У', 18),\n",
       " ('š', 17),\n",
       " ('°', 17),\n",
       " ('’', 17),\n",
       " ('ｍ', 17),\n",
       " ('ĺ', 16),\n",
       " ('щ', 16),\n",
       " ('س', 16),\n",
       " ('ي', 16),\n",
       " ('ب', 16),\n",
       " ('อ', 16),\n",
       " ('ｔ', 16),\n",
       " ('ｋ', 16),\n",
       " ('ᵉ', 16),\n",
       " ('ᵏ', 16),\n",
       " ('ý', 15),\n",
       " ('М', 15),\n",
       " ('ｂ', 15),\n",
       " ('€', 14),\n",
       " ('Н', 14),\n",
       " ('α', 14),\n",
       " ('ت', 14),\n",
       " ('ง', 14),\n",
       " ('ｚ', 14),\n",
       " ('Р', 13),\n",
       " ('О', 13),\n",
       " ('ع', 13),\n",
       " ('ι', 13),\n",
       " ('ａ', 13),\n",
       " ('♥', 12),\n",
       " ('ß', 12),\n",
       " ('\\u200b', 12),\n",
       " ('า', 12),\n",
       " ('น', 12),\n",
       " ('ｘ', 12),\n",
       " ('ᵘ', 12),\n",
       " ('ї', 12),\n",
       " ('י', 12),\n",
       " ('ì', 11),\n",
       " ('℅', 11),\n",
       " ('ô', 11),\n",
       " ('§', 11),\n",
       " ('î', 11),\n",
       " ('ñ', 11),\n",
       " ('υ', 11),\n",
       " ('×', 11),\n",
       " ('И', 11),\n",
       " ('ق', 11),\n",
       " ('є', 11),\n",
       " ('ค', 11),\n",
       " ('ย', 11),\n",
       " ('ｉ', 11),\n",
       " ('ｕ', 11),\n",
       " ('Л', 11),\n",
       " ('σ', 10),\n",
       " ('\\ufeff', 10),\n",
       " ('ه', 10),\n",
       " ('ف', 10),\n",
       " ('ร', 10),\n",
       " ('ｒ', 10),\n",
       " ('ו', 10),\n",
       " ('З', 9),\n",
       " ('č', 9),\n",
       " ('‘', 9),\n",
       " ('บ', 9),\n",
       " ('ｃ', 9),\n",
       " ('ｅ', 9),\n",
       " ('£', 8),\n",
       " ('Т', 8),\n",
       " ('ф', 8),\n",
       " ('Я', 8),\n",
       " ('͡', 8),\n",
       " ('ك', 8),\n",
       " ('ห', 8),\n",
       " ('ก', 8),\n",
       " ('ǝ', 8),\n",
       " ('Г', 8),\n",
       " ('ಥ', 8),\n",
       " ('ʸ', 8),\n",
       " ('ⁿ', 8),\n",
       " ('ᵖ', 8),\n",
       " ('ᶜ', 8),\n",
       " ('ˡ', 8),\n",
       " ('ᵃ', 8),\n",
       " ('ʷ', 8),\n",
       " ('ˢ', 8),\n",
       " ('ל', 8),\n",
       " ('\\x7f', 7),\n",
       " ('♡', 7),\n",
       " ('ķ', 7),\n",
       " ('¡', 7),\n",
       " ('ρ', 7),\n",
       " ('«', 7),\n",
       " ('ఞ', 7),\n",
       " ('ן', 7),\n",
       " ('つ', 7),\n",
       " ('ｏ', 7),\n",
       " ('ｙ', 7),\n",
       " ('Ы', 7),\n",
       " ('©', 6),\n",
       " ('Е', 6),\n",
       " ('å', 6),\n",
       " ('ŕ', 6),\n",
       " ('ė', 6),\n",
       " ('𝐞', 6),\n",
       " ('أ', 6),\n",
       " ('ح', 6),\n",
       " ('ѕ', 6),\n",
       " ('ℓ', 6),\n",
       " ('ท', 6),\n",
       " ('ป', 6),\n",
       " ('ม', 6),\n",
       " ('ɐ', 6),\n",
       " ('ʍ', 6),\n",
       " ('ｖ', 6),\n",
       " ('𝖓', 6),\n",
       " ('𝖎', 6),\n",
       " ('𝖔', 6),\n",
       " ('𝖆', 6),\n",
       " ('א', 6),\n",
       " ('ё', 5),\n",
       " ('Ø', 5),\n",
       " ('æ', 5),\n",
       " ('Х', 5),\n",
       " ('ā', 5),\n",
       " ('⭐', 5),\n",
       " ('π', 5),\n",
       " ('ν', 5),\n",
       " ('★', 5),\n",
       " ('»', 5),\n",
       " ('Ò', 5),\n",
       " ('آ', 5),\n",
       " ('ٱ', 5),\n",
       " ('ص', 5),\n",
       " ('ج', 5),\n",
       " ('ω', 5),\n",
       " ('ด', 5),\n",
       " ('เ', 5),\n",
       " ('â', 5),\n",
       " ('ç', 5),\n",
       " ('Ш', 5),\n",
       " ('𝖟', 5),\n",
       " ('𝖊', 5),\n",
       " ('ɛ', 5),\n",
       " ('ɑ', 5),\n",
       " ('Δ', 5),\n",
       " ('ī', 4),\n",
       " ('✌', 4),\n",
       " ('➕', 4),\n",
       " ('͜', 4),\n",
       " ('η', 4),\n",
       " ('ε', 4),\n",
       " ('ř', 4),\n",
       " ('đ', 4),\n",
       " ('𝐭', 4),\n",
       " ('𝐨', 4),\n",
       " ('خ', 4),\n",
       " ('ـ', 4),\n",
       " ('ผ', 4),\n",
       " ('ɹ', 4),\n",
       " ('ʇ', 4),\n",
       " ('ｐ', 4),\n",
       " ('ም', 4),\n",
       " ('ን', 4),\n",
       " ('ደ', 4),\n",
       " ('ᴺ', 4),\n",
       " ('ᵍ', 4),\n",
       " ('ᵈ', 4),\n",
       " ('ʲ', 4),\n",
       " ('ᵗ', 4),\n",
       " ('ʳ', 4),\n",
       " ('ʰ', 4),\n",
       " ('ᵐ', 4),\n",
       " ('ʘ', 4),\n",
       " ('𝖘', 4),\n",
       " ('𝖒', 4),\n",
       " ('ヮ', 4),\n",
       " ('な', 4),\n",
       " ('ם', 4),\n",
       " ('ת', 4),\n",
       " ('Ķ', 3),\n",
       " ('ã', 3),\n",
       " ('Ч', 3),\n",
       " ('ť', 3),\n",
       " ('☹', 3),\n",
       " ('÷', 3),\n",
       " ('ù', 3),\n",
       " ('ľ', 3),\n",
       " ('ο', 3),\n",
       " ('κ', 3),\n",
       " ('·', 3),\n",
       " ('ĸ', 3),\n",
       " ('™', 3),\n",
       " ('Ü', 3),\n",
       " ('→', 3),\n",
       " ('𝐫', 3),\n",
       " ('ى', 3),\n",
       " ('د', 3),\n",
       " ('ไ', 3),\n",
       " ('ส', 3),\n",
       " ('ข', 3),\n",
       " ('ɔ', 3),\n",
       " ('二', 3),\n",
       " ('ŝ', 3),\n",
       " ('Й', 3),\n",
       " ('ﾟ', 3),\n",
       " ('の', 3),\n",
       " ('ለ', 3),\n",
       " ('ል', 3),\n",
       " ('𝖉', 3),\n",
       " ('𝖞', 3),\n",
       " ('𝖌', 3),\n",
       " ('ě', 3),\n",
       " ('い', 3),\n",
       " ('う', 3),\n",
       " ('ツ', 3),\n",
       " ('ה', 3),\n",
       " ('ז', 3),\n",
       " ('נ', 3),\n",
       " ('מ', 3),\n",
       " ('ʝ', 3),\n",
       " ('ѳ', 3),\n",
       " ('Ҝ', 3),\n",
       " ('Ψ', 3),\n",
       " ('Ω', 3),\n",
       " ('\\uf04a', 2),\n",
       " ('Ж', 2),\n",
       " ('ú', 2),\n",
       " ('γ', 2),\n",
       " ('ή', 2),\n",
       " ('έ', 2),\n",
       " ('τ', 2),\n",
       " ('λ', 2),\n",
       " ('ᶏ', 2),\n",
       " ('œ', 2),\n",
       " ('、', 2),\n",
       " ('ō', 2),\n",
       " ('☆', 2),\n",
       " ('\\u202a', 2),\n",
       " ('\\u200e', 2),\n",
       " ('\\u202c', 2),\n",
       " ('ģ', 2),\n",
       " ('¨', 2),\n",
       " ('´', 2),\n",
       " ('―', 2),\n",
       " ('𝐧', 2),\n",
       " ('𝐟', 2),\n",
       " ('ఝ', 2),\n",
       " ('ట', 2),\n",
       " ('ఠ', 2),\n",
       " ('ఛ', 2),\n",
       " ('Ì', 2),\n",
       " ('ะ', 2),\n",
       " ('ณ', 2),\n",
       " ('ᕗ', 2),\n",
       " ('ɾ', 2),\n",
       " ('ɯ', 2),\n",
       " ('Ä', 2),\n",
       " ('我', 2),\n",
       " ('Ｙ', 2),\n",
       " ('口', 2),\n",
       " ('ｗ', 2),\n",
       " ('謝', 2),\n",
       " ('ತ', 2),\n",
       " ('ū', 2),\n",
       " ('ሰ', 2),\n",
       " ('እ', 2),\n",
       " ('አ', 2),\n",
       " ('ማ', 2),\n",
       " ('ገ', 2),\n",
       " ('づ', 2),\n",
       " ('ʞ', 2),\n",
       " ('ፈ', 2),\n",
       " ('ጀ', 2),\n",
       " ('ሀ', 2),\n",
       " ('ከ', 2),\n",
       " ('𝖚', 2),\n",
       " ('𝖏', 2),\n",
       " ('ㅠ', 2),\n",
       " ('人', 2),\n",
       " ('것', 2),\n",
       " ('私', 2),\n",
       " ('は', 2),\n",
       " ('を', 2),\n",
       " ('っ', 2),\n",
       " ('て', 2),\n",
       " ('が', 2),\n",
       " ('彼', 2),\n",
       " ('女', 2),\n",
       " ('φ', 2),\n",
       " ('一', 2),\n",
       " ('É', 2),\n",
       " ('Š', 2),\n",
       " ('ϟ', 2),\n",
       " ('Ď', 2),\n",
       " ('ש', 2),\n",
       " ('פ', 2),\n",
       " ('ח', 2),\n",
       " ('ר', 2),\n",
       " ('个', 2),\n",
       " ('ɳ', 2),\n",
       " ('ɱ', 2),\n",
       " ('ʆ', 2),\n",
       " ('ﾉ', 2),\n",
       " ('º', 2),\n",
       " ('ψ', 2),\n",
       " ('ʹ', 2),\n",
       " ('õ', 1),\n",
       " ('Ĺ', 1),\n",
       " ('ξ', 1),\n",
       " ('ύ', 1),\n",
       " ('ά', 1),\n",
       " ('μ', 1),\n",
       " ('ϊ', 1),\n",
       " ('ό', 1),\n",
       " ('¶', 1),\n",
       " ('❗', 1),\n",
       " ('♣', 1),\n",
       " ('✔', 1),\n",
       " ('Ŝ', 1),\n",
       " ('¿', 1),\n",
       " ('\\uf04c', 1),\n",
       " ('µ', 1),\n",
       " ('ð', 1),\n",
       " ('∑', 1),\n",
       " ('³', 1),\n",
       " ('⏰', 1),\n",
       " ('ŋ', 1),\n",
       " ('₩', 1),\n",
       " ('\\uf0a7', 1),\n",
       " ('Ľ', 1),\n",
       " ('☞', 1),\n",
       " ('ဠ', 1),\n",
       " ('№', 1),\n",
       " ('》', 1),\n",
       " ('𝐄', 1),\n",
       " ('𝐡', 1),\n",
       " ('𝐜', 1),\n",
       " ('𝐝', 1),\n",
       " ('𝐠', 1),\n",
       " ('𝟓', 1),\n",
       " ('𝟎', 1),\n",
       " ('Ö', 1),\n",
       " ('إ', 1),\n",
       " ('ء', 1),\n",
       " ('ٲ', 1),\n",
       " ('ہ', 1),\n",
       " ('ۦ', 1),\n",
       " ('ş', 1),\n",
       " ('చ', 1),\n",
       " ('ғ', 1),\n",
       " ('ถ', 1),\n",
       " ('แ', 1),\n",
       " ('ใ', 1),\n",
       " ('ภ', 1),\n",
       " ('Ŕ', 1),\n",
       " ('ว', 1),\n",
       " ('จ', 1),\n",
       " ('โ', 1),\n",
       " ('ษ', 1),\n",
       " ('ᕕ', 1),\n",
       " ('ᐛ', 1),\n",
       " ('ƃ', 1),\n",
       " ('ʎ', 1),\n",
       " ('上', 1),\n",
       " ('帝', 1),\n",
       " ('的', 1),\n",
       " ('母', 1),\n",
       " ('親', 1),\n",
       " ('想', 1),\n",
       " ('開', 1),\n",
       " ('始', 1),\n",
       " ('說', 1),\n",
       " ('中', 1),\n",
       " ('國', 1),\n",
       " ('話', 1),\n",
       " ('ﾖ', 1),\n",
       " ('ă', 1),\n",
       " ('ï', 1),\n",
       " ('Ь', 1),\n",
       " ('Ž', 1),\n",
       " ('ಎ', 1),\n",
       " ('ᗝ', 1),\n",
       " ('ዎ', 1),\n",
       " ('ች', 1),\n",
       " ('ኔ', 1),\n",
       " ('ኝ', 1),\n",
       " ('ክ', 1),\n",
       " ('ያ', 1),\n",
       " ('ቱ', 1),\n",
       " ('ወ', 1),\n",
       " ('ጎ', 1),\n",
       " ('ጥ', 1),\n",
       " ('ና', 1),\n",
       " ('ት', 1),\n",
       " ('ኛ', 1),\n",
       " ('ᖗ', 1),\n",
       " ('ᖘ', 1),\n",
       " ('Č', 1),\n",
       " ('ዱ', 1),\n",
       " ('ቸ', 1),\n",
       " ('ዳ', 1),\n",
       " ('ነ', 1),\n",
       " ('በ', 1),\n",
       " ('ፋ', 1),\n",
       " ('ሱ', 1),\n",
       " ('ካ', 1),\n",
       " ('ز', 1),\n",
       " ('ض', 1),\n",
       " ('𝖂', 1),\n",
       " ('𝖋', 1),\n",
       " ('𝖈', 1),\n",
       " ('𝖑', 1),\n",
       " ('𝖍', 1),\n",
       " ('𝖗', 1),\n",
       " ('𝖜', 1),\n",
       " ('ů', 1),\n",
       " ('내', 1),\n",
       " ('가', 1),\n",
       " ('그', 1),\n",
       " ('을', 1),\n",
       " ('보', 1),\n",
       " ('고', 1),\n",
       " ('나', 1),\n",
       " ('는', 1),\n",
       " ('당', 1),\n",
       " ('신', 1),\n",
       " ('이', 1),\n",
       " ('폭', 1),\n",
       " ('격', 1),\n",
       " ('할', 1),\n",
       " ('입', 1),\n",
       " ('니', 1),\n",
       " ('다', 1),\n",
       " ('Ｉ', 1),\n",
       " ('迅', 1),\n",
       " ('速', 1),\n",
       " ('軽', 1),\n",
       " ('快', 1),\n",
       " ('指', 1),\n",
       " ('持', 1),\n",
       " ('る', 1),\n",
       " ('フ', 1),\n",
       " ('ク', 1),\n",
       " ('ロ', 1),\n",
       " ('ウ', 1),\n",
       " ('で', 1),\n",
       " ('入', 1),\n",
       " ('れ', 1),\n",
       " ('だ', 1),\n",
       " ('ろ', 1),\n",
       " ('È', 1),\n",
       " ('χ', 1),\n",
       " ('ί', 1),\n",
       " ('ζ', 1),\n",
       " ('ē', 1),\n",
       " ('ᕙ', 1),\n",
       " ('不', 1),\n",
       " ('是', 1),\n",
       " ('因', 1),\n",
       " ('為', 1),\n",
       " ('你', 1),\n",
       " ('把', 1),\n",
       " ('隻', 1),\n",
       " ('貓', 1),\n",
       " ('採', 1),\n",
       " ('取', 1),\n",
       " ('關', 1),\n",
       " ('注', 1),\n",
       " ('Ｕ', 1),\n",
       " ('ד', 1),\n",
       " ('ט', 1),\n",
       " ('ב', 1),\n",
       " ('כ', 1),\n",
       " ('ס', 1),\n",
       " ('ɦ', 1),\n",
       " ('ɓ', 1),\n",
       " ('ê', 1),\n",
       " ('Σ', 1),\n",
       " ('Π', 1),\n",
       " ('β', 1),\n",
       " ('あ', 1),\n",
       " ('り', 1),\n",
       " ('と', 1),\n",
       " ('さ', 1),\n",
       " ('よ', 1),\n",
       " ('ら', 1),\n",
       " ('À', 1),\n",
       " ('Â', 1),\n",
       " ('๑', 1),\n",
       " ('ᴗ', 1),\n",
       " ('ゞ', 1),\n",
       " ('ק', 1),\n",
       " ('û', 1),\n",
       " ('غ', 1),\n",
       " ('ط', 1)]"
      ]
     },
     "execution_count": 9,
     "metadata": {},
     "output_type": "execute_result"
    }
   ],
   "source": [
    "sorted(letters_dict.items(), key=lambda i: i[1], reverse=True)"
   ]
  },
  {
   "cell_type": "code",
   "execution_count": null,
   "id": "0953ba94",
   "metadata": {},
   "outputs": [],
   "source": [
    "# todo: \\r, \\n, \\xa0 to space"
   ]
  },
  {
   "cell_type": "markdown",
   "id": "51aab449",
   "metadata": {},
   "source": [
    "## filter alpha num and punctuation"
   ]
  },
  {
   "cell_type": "code",
   "execution_count": 22,
   "id": "4421712c",
   "metadata": {
    "ExecuteTime": {
     "end_time": "2021-10-24T22:15:01.283915Z",
     "start_time": "2021-10-24T22:15:01.262554Z"
    }
   },
   "outputs": [],
   "source": [
    "a = '257 najlepszy moment ψψ'\n",
    "b = 'اغلاق الكلبة العربي يمارس الجنس مع ما يصل'\n",
    "c = \"stara ''sowiecka szkola'' zaczynam sie zastanawiac czy mozna by ich legalnie zdelegalizowac ?\"\n",
    "d = 'Dobrze. Szkoda, że InPost nie precyzuje co oznacza, że dostarcza przesyłkę \"OD RANA\"'\n",
    "e = '  asd  asd  '\n",
    "f = 'łączńie ćma grzegżźółka'\n",
    "g = 'Bardzo przyjazny klientom sklep. \\\\Realizuje, wszystkie zamówienai: takie - takie '\n",
    "h = 'Szanowni Państwo, ODRADZAM !!!\\r\\r\\r\\n\\r\\r\\r\\n'\n",
    "i = 'Szanowni Państwo,\\r\\r\\r\\n\\r\\r\\r\\n ODRADZAM !!!'\n",
    "j = 'what???????!!!!!!!!!'\n",
    "\n",
    "tt = [a,b,c,d,e,f,g,h,i,j]"
   ]
  },
  {
   "cell_type": "code",
   "execution_count": 25,
   "id": "0fb8cb0e",
   "metadata": {
    "ExecuteTime": {
     "end_time": "2021-10-24T22:15:40.325398Z",
     "start_time": "2021-10-24T22:15:40.310214Z"
    }
   },
   "outputs": [
    {
     "name": "stdout",
     "output_type": "stream",
     "text": [
      "len: 20|257 najlepszy moment|\n",
      "len: 0||\n",
      "len: 93|stara ''sowiecka szkola'' zaczynam sie zastanawiac czy mozna by ich legalnie zdelegalizowac ?|\n",
      "len: 84|Dobrze. Szkoda, że InPost nie precyzuje co oznacza, że dostarcza przesyłkę \"OD RANA\"|\n",
      "len: 7|asd asd|\n",
      "len: 23|łączńie ćma grzegżźółka|\n",
      "len: 78|Bardzo przyjazny klientom sklep. Realizuje, wszystkie zamówienai takie - takie|\n",
      "len: 30|Szanowni Państwo, ODRADZAM !!!|\n",
      "len: 30|Szanowni Państwo, ODRADZAM !!!|\n",
      "len: 20|what???????!!!!!!!!!|\n"
     ]
    }
   ],
   "source": [
    "\n",
    "\n",
    "for s in tt:\n",
    "    c = re.sub(special, ' ', s)\n",
    "    c = re.sub(alpha, '', c)\n",
    "    c = re.sub('\\s+', ' ', c)\n",
    "    c = c.strip()\n",
    "    print(f\"len: {len(c)}|{c}|\")"
   ]
  },
  {
   "cell_type": "markdown",
   "id": "62204c3a",
   "metadata": {},
   "source": [
    "# modeling"
   ]
  },
  {
   "cell_type": "markdown",
   "id": "5a24280f",
   "metadata": {},
   "source": [
    "## creating dictionaty"
   ]
  },
  {
   "cell_type": "code",
   "execution_count": 289,
   "id": "122c5751",
   "metadata": {
    "ExecuteTime": {
     "end_time": "2021-10-25T01:48:37.204946Z",
     "start_time": "2021-10-25T01:48:37.190981Z"
    }
   },
   "outputs": [],
   "source": [
    "import gensim\n",
    "from gensim import corpora, models"
   ]
  },
  {
   "cell_type": "code",
   "execution_count": 276,
   "id": "9c101ee1",
   "metadata": {
    "ExecuteTime": {
     "end_time": "2021-10-25T01:37:04.990197Z",
     "start_time": "2021-10-25T01:36:50.687856Z"
    }
   },
   "outputs": [],
   "source": [
    "# Create dictionary\n",
    "dictionary = corpora.Dictionary(data['tokens'])"
   ]
  },
  {
   "cell_type": "code",
   "execution_count": 319,
   "id": "04bf10f3",
   "metadata": {
    "ExecuteTime": {
     "end_time": "2021-10-25T02:01:03.304522Z",
     "start_time": "2021-10-25T02:01:03.284764Z"
    }
   },
   "outputs": [
    {
     "name": "stdout",
     "output_type": "stream",
     "text": [
      "unique tokens count: 260521\n"
     ]
    }
   ],
   "source": [
    "print(f\"unique tokens count: {len(dictionary)}\")"
   ]
  },
  {
   "cell_type": "code",
   "execution_count": 287,
   "id": "5eff56f7",
   "metadata": {
    "ExecuteTime": {
     "end_time": "2021-10-25T01:47:56.187123Z",
     "start_time": "2021-10-25T01:47:45.457771Z"
    }
   },
   "outputs": [],
   "source": [
    "corpus = [dictionary.doc2bow(tokens) for tokens in data['tokens']]\n",
    "tfidf = models.TfidfModel(corpus, smartirs='ntc')"
   ]
  },
  {
   "cell_type": "code",
   "execution_count": 294,
   "id": "20fcad3f",
   "metadata": {
    "ExecuteTime": {
     "end_time": "2021-10-25T01:49:43.341389Z",
     "start_time": "2021-10-25T01:49:43.322892Z"
    }
   },
   "outputs": [
    {
     "data": {
      "text/plain": [
       "[(0, 1), (1, 2), (2, 1), (3, 1), (4, 1), (5, 1)]"
      ]
     },
     "execution_count": 294,
     "metadata": {},
     "output_type": "execute_result"
    }
   ],
   "source": [
    "corpus[0]"
   ]
  },
  {
   "cell_type": "code",
   "execution_count": 310,
   "id": "b8d61f29",
   "metadata": {
    "ExecuteTime": {
     "end_time": "2021-10-25T01:59:06.923831Z",
     "start_time": "2021-10-25T01:59:06.907742Z"
    }
   },
   "outputs": [
    {
     "data": {
      "text/plain": [
       "[(0, 0.11502465340007656),\n",
       " (1, 0.4447199823065697),\n",
       " (2, 0.6162766796694312),\n",
       " (3, 0.49247428983038594),\n",
       " (4, 0.11888695562762791),\n",
       " (5, 0.3905527956380666)]"
      ]
     },
     "execution_count": 310,
     "metadata": {},
     "output_type": "execute_result"
    }
   ],
   "source": [
    "tfidf[corpus][0]"
   ]
  },
  {
   "cell_type": "code",
   "execution_count": 315,
   "id": "7fd56e26",
   "metadata": {
    "ExecuteTime": {
     "end_time": "2021-10-25T02:00:03.885919Z",
     "start_time": "2021-10-25T02:00:03.870285Z"
    }
   },
   "outputs": [
    {
     "data": {
      "text/plain": [
       "[('i', 0.11502465340007656),\n",
       " ('nie', 0.4447199823065697),\n",
       " ('ostatni', 0.6162766796694312),\n",
       " ('pierwszy', 0.49247428983038594),\n",
       " ('polecam', 0.11888695562762791),\n",
       " ('raz', 0.3905527956380666)]"
      ]
     },
     "execution_count": 315,
     "metadata": {},
     "output_type": "execute_result"
    }
   ],
   "source": [
    "[(dictionary[tok_id], tok_freq) for tok_id, tok_freq in tfidf[corpus][0]]"
   ]
  },
  {
   "cell_type": "code",
   "execution_count": 316,
   "id": "75a0a03b",
   "metadata": {
    "ExecuteTime": {
     "end_time": "2021-10-25T02:00:11.189899Z",
     "start_time": "2021-10-25T02:00:11.172650Z"
    }
   },
   "outputs": [
    {
     "data": {
      "text/plain": [
       "[('i', 0.060944159953105696),\n",
       " ('polecam', 0.06299054529559758),\n",
       " ('bardzo', 0.08280210917801677),\n",
       " ('dobra', 0.20322288487180415),\n",
       " ('dobrze', 0.19508840777884015),\n",
       " ('komunikacja', 0.3317832424818046),\n",
       " ('sklep', 0.11649578839171103),\n",
       " ('sms', 0.3497153161337092),\n",
       " ('telefoniczna', 0.39583410968622923),\n",
       " ('ten', 0.20909075076732328),\n",
       " ('terminie', 0.3069124397146287),\n",
       " ('towar', 0.1416645550082417),\n",
       " ('w', 0.07953541854259781),\n",
       " ('wysłany', 0.3676203764967229),\n",
       " ('zabezpieczony', 0.3259806243987228),\n",
       " ('zamówiony', 0.31264824437629013)]"
      ]
     },
     "execution_count": 316,
     "metadata": {},
     "output_type": "execute_result"
    }
   ],
   "source": [
    "[(dictionary[tok_id], tok_freq) for tok_id, tok_freq in tfidf[corpus][1]]"
   ]
  },
  {
   "cell_type": "markdown",
   "id": "41222914",
   "metadata": {},
   "source": [
    "## w2v"
   ]
  },
  {
   "cell_type": "code",
   "execution_count": 3,
   "id": "4c7ba2c4",
   "metadata": {
    "ExecuteTime": {
     "end_time": "2021-10-25T02:12:13.960112Z",
     "start_time": "2021-10-25T02:12:08.125762Z"
    }
   },
   "outputs": [],
   "source": [
    "with open('./data/data_preproc.pkl', 'rb') as f:\n",
    "    data = pickle.load(f)"
   ]
  },
  {
   "cell_type": "code",
   "execution_count": 5,
   "id": "12ec6463",
   "metadata": {
    "ExecuteTime": {
     "end_time": "2021-10-25T02:23:12.434474Z",
     "start_time": "2021-10-25T02:23:12.416157Z"
    }
   },
   "outputs": [
    {
     "data": {
      "text/plain": [
       "<gensim.models.word2vec.Word2Vec at 0x7fc9a82210d0>"
      ]
     },
     "execution_count": 5,
     "metadata": {},
     "output_type": "execute_result"
    }
   ],
   "source": [
    "model"
   ]
  },
  {
   "cell_type": "code",
   "execution_count": 4,
   "id": "15fd7cf2",
   "metadata": {
    "ExecuteTime": {
     "end_time": "2021-10-25T02:22:42.103680Z",
     "start_time": "2021-10-25T02:22:00.187466Z"
    }
   },
   "outputs": [
    {
     "ename": "FileNotFoundError",
     "evalue": "[Errno 2] No such file or directory: './models/word2vec.model'",
     "output_type": "error",
     "traceback": [
      "\u001b[0;31m---------------------------------------------------------------------------\u001b[0m",
      "\u001b[0;31mTypeError\u001b[0m                                 Traceback (most recent call last)",
      "\u001b[0;32m~/Pulpit/pyProj/gensim/venv/lib/python3.8/site-packages/gensim/utils.py\u001b[0m in \u001b[0;36msave\u001b[0;34m(self, fname_or_handle, separately, sep_limit, ignore, pickle_protocol)\u001b[0m\n\u001b[1;32m    762\u001b[0m         \u001b[0;32mtry\u001b[0m\u001b[0;34m:\u001b[0m\u001b[0;34m\u001b[0m\u001b[0;34m\u001b[0m\u001b[0m\n\u001b[0;32m--> 763\u001b[0;31m             \u001b[0m_pickle\u001b[0m\u001b[0;34m.\u001b[0m\u001b[0mdump\u001b[0m\u001b[0;34m(\u001b[0m\u001b[0mself\u001b[0m\u001b[0;34m,\u001b[0m \u001b[0mfname_or_handle\u001b[0m\u001b[0;34m,\u001b[0m \u001b[0mprotocol\u001b[0m\u001b[0;34m=\u001b[0m\u001b[0mpickle_protocol\u001b[0m\u001b[0;34m)\u001b[0m\u001b[0;34m\u001b[0m\u001b[0;34m\u001b[0m\u001b[0m\n\u001b[0m\u001b[1;32m    764\u001b[0m             \u001b[0mlogger\u001b[0m\u001b[0;34m.\u001b[0m\u001b[0minfo\u001b[0m\u001b[0;34m(\u001b[0m\u001b[0;34m\"saved %s object\"\u001b[0m\u001b[0;34m,\u001b[0m \u001b[0mself\u001b[0m\u001b[0;34m.\u001b[0m\u001b[0m__class__\u001b[0m\u001b[0;34m.\u001b[0m\u001b[0m__name__\u001b[0m\u001b[0;34m)\u001b[0m\u001b[0;34m\u001b[0m\u001b[0;34m\u001b[0m\u001b[0m\n",
      "\u001b[0;31mTypeError\u001b[0m: file must have a 'write' attribute",
      "\nDuring handling of the above exception, another exception occurred:\n",
      "\u001b[0;31mFileNotFoundError\u001b[0m                         Traceback (most recent call last)",
      "\u001b[0;32m/tmp/ipykernel_12286/3538314706.py\u001b[0m in \u001b[0;36m<module>\u001b[0;34m\u001b[0m\n\u001b[1;32m      2\u001b[0m \u001b[0;34m\u001b[0m\u001b[0m\n\u001b[1;32m      3\u001b[0m \u001b[0mmodel\u001b[0m \u001b[0;34m=\u001b[0m \u001b[0mWord2Vec\u001b[0m\u001b[0;34m(\u001b[0m\u001b[0msentences\u001b[0m\u001b[0;34m=\u001b[0m\u001b[0mdata\u001b[0m\u001b[0;34m[\u001b[0m\u001b[0;34m'tokens'\u001b[0m\u001b[0;34m]\u001b[0m\u001b[0;34m,\u001b[0m \u001b[0mvector_size\u001b[0m\u001b[0;34m=\u001b[0m\u001b[0;36m25\u001b[0m\u001b[0;34m,\u001b[0m \u001b[0mwindow\u001b[0m\u001b[0;34m=\u001b[0m\u001b[0;36m5\u001b[0m\u001b[0;34m,\u001b[0m \u001b[0mmin_count\u001b[0m\u001b[0;34m=\u001b[0m\u001b[0;36m1\u001b[0m\u001b[0;34m,\u001b[0m \u001b[0mworkers\u001b[0m\u001b[0;34m=\u001b[0m\u001b[0;36m4\u001b[0m\u001b[0;34m)\u001b[0m\u001b[0;34m\u001b[0m\u001b[0;34m\u001b[0m\u001b[0m\n\u001b[0;32m----> 4\u001b[0;31m \u001b[0mmodel\u001b[0m\u001b[0;34m.\u001b[0m\u001b[0msave\u001b[0m\u001b[0;34m(\u001b[0m\u001b[0;34m\"./models/word2vec.model\"\u001b[0m\u001b[0;34m)\u001b[0m\u001b[0;34m\u001b[0m\u001b[0;34m\u001b[0m\u001b[0m\n\u001b[0m",
      "\u001b[0;32m~/Pulpit/pyProj/gensim/venv/lib/python3.8/site-packages/gensim/models/word2vec.py\u001b[0m in \u001b[0;36msave\u001b[0;34m(self, *args, **kwargs)\u001b[0m\n\u001b[1;32m   1898\u001b[0m \u001b[0;34m\u001b[0m\u001b[0m\n\u001b[1;32m   1899\u001b[0m         \"\"\"\n\u001b[0;32m-> 1900\u001b[0;31m         \u001b[0msuper\u001b[0m\u001b[0;34m(\u001b[0m\u001b[0mWord2Vec\u001b[0m\u001b[0;34m,\u001b[0m \u001b[0mself\u001b[0m\u001b[0;34m)\u001b[0m\u001b[0;34m.\u001b[0m\u001b[0msave\u001b[0m\u001b[0;34m(\u001b[0m\u001b[0;34m*\u001b[0m\u001b[0margs\u001b[0m\u001b[0;34m,\u001b[0m \u001b[0;34m**\u001b[0m\u001b[0mkwargs\u001b[0m\u001b[0;34m)\u001b[0m\u001b[0;34m\u001b[0m\u001b[0;34m\u001b[0m\u001b[0m\n\u001b[0m\u001b[1;32m   1901\u001b[0m \u001b[0;34m\u001b[0m\u001b[0m\n\u001b[1;32m   1902\u001b[0m     \u001b[0;32mdef\u001b[0m \u001b[0m_save_specials\u001b[0m\u001b[0;34m(\u001b[0m\u001b[0mself\u001b[0m\u001b[0;34m,\u001b[0m \u001b[0mfname\u001b[0m\u001b[0;34m,\u001b[0m \u001b[0mseparately\u001b[0m\u001b[0;34m,\u001b[0m \u001b[0msep_limit\u001b[0m\u001b[0;34m,\u001b[0m \u001b[0mignore\u001b[0m\u001b[0;34m,\u001b[0m \u001b[0mpickle_protocol\u001b[0m\u001b[0;34m,\u001b[0m \u001b[0mcompress\u001b[0m\u001b[0;34m,\u001b[0m \u001b[0msubname\u001b[0m\u001b[0;34m)\u001b[0m\u001b[0;34m:\u001b[0m\u001b[0;34m\u001b[0m\u001b[0;34m\u001b[0m\u001b[0m\n",
      "\u001b[0;32m~/Pulpit/pyProj/gensim/venv/lib/python3.8/site-packages/gensim/utils.py\u001b[0m in \u001b[0;36msave\u001b[0;34m(self, fname_or_handle, separately, sep_limit, ignore, pickle_protocol)\u001b[0m\n\u001b[1;32m    764\u001b[0m             \u001b[0mlogger\u001b[0m\u001b[0;34m.\u001b[0m\u001b[0minfo\u001b[0m\u001b[0;34m(\u001b[0m\u001b[0;34m\"saved %s object\"\u001b[0m\u001b[0;34m,\u001b[0m \u001b[0mself\u001b[0m\u001b[0;34m.\u001b[0m\u001b[0m__class__\u001b[0m\u001b[0;34m.\u001b[0m\u001b[0m__name__\u001b[0m\u001b[0;34m)\u001b[0m\u001b[0;34m\u001b[0m\u001b[0;34m\u001b[0m\u001b[0m\n\u001b[1;32m    765\u001b[0m         \u001b[0;32mexcept\u001b[0m \u001b[0mTypeError\u001b[0m\u001b[0;34m:\u001b[0m  \u001b[0;31m# `fname_or_handle` does not have write attribute\u001b[0m\u001b[0;34m\u001b[0m\u001b[0;34m\u001b[0m\u001b[0m\n\u001b[0;32m--> 766\u001b[0;31m             \u001b[0mself\u001b[0m\u001b[0;34m.\u001b[0m\u001b[0m_smart_save\u001b[0m\u001b[0;34m(\u001b[0m\u001b[0mfname_or_handle\u001b[0m\u001b[0;34m,\u001b[0m \u001b[0mseparately\u001b[0m\u001b[0;34m,\u001b[0m \u001b[0msep_limit\u001b[0m\u001b[0;34m,\u001b[0m \u001b[0mignore\u001b[0m\u001b[0;34m,\u001b[0m \u001b[0mpickle_protocol\u001b[0m\u001b[0;34m=\u001b[0m\u001b[0mpickle_protocol\u001b[0m\u001b[0;34m)\u001b[0m\u001b[0;34m\u001b[0m\u001b[0;34m\u001b[0m\u001b[0m\n\u001b[0m\u001b[1;32m    767\u001b[0m \u001b[0;34m\u001b[0m\u001b[0m\n\u001b[1;32m    768\u001b[0m \u001b[0;34m\u001b[0m\u001b[0m\n",
      "\u001b[0;32m~/Pulpit/pyProj/gensim/venv/lib/python3.8/site-packages/gensim/utils.py\u001b[0m in \u001b[0;36m_smart_save\u001b[0;34m(self, fname, separately, sep_limit, ignore, pickle_protocol)\u001b[0m\n\u001b[1;32m    608\u001b[0m         )\n\u001b[1;32m    609\u001b[0m         \u001b[0;32mtry\u001b[0m\u001b[0;34m:\u001b[0m\u001b[0;34m\u001b[0m\u001b[0;34m\u001b[0m\u001b[0m\n\u001b[0;32m--> 610\u001b[0;31m             \u001b[0mpickle\u001b[0m\u001b[0;34m(\u001b[0m\u001b[0mself\u001b[0m\u001b[0;34m,\u001b[0m \u001b[0mfname\u001b[0m\u001b[0;34m,\u001b[0m \u001b[0mprotocol\u001b[0m\u001b[0;34m=\u001b[0m\u001b[0mpickle_protocol\u001b[0m\u001b[0;34m)\u001b[0m\u001b[0;34m\u001b[0m\u001b[0;34m\u001b[0m\u001b[0m\n\u001b[0m\u001b[1;32m    611\u001b[0m         \u001b[0;32mfinally\u001b[0m\u001b[0;34m:\u001b[0m\u001b[0;34m\u001b[0m\u001b[0;34m\u001b[0m\u001b[0m\n\u001b[1;32m    612\u001b[0m             \u001b[0;31m# restore attribs handled specially\u001b[0m\u001b[0;34m\u001b[0m\u001b[0;34m\u001b[0m\u001b[0;34m\u001b[0m\u001b[0m\n",
      "\u001b[0;32m~/Pulpit/pyProj/gensim/venv/lib/python3.8/site-packages/gensim/utils.py\u001b[0m in \u001b[0;36mpickle\u001b[0;34m(obj, fname, protocol)\u001b[0m\n\u001b[1;32m   1439\u001b[0m \u001b[0;34m\u001b[0m\u001b[0m\n\u001b[1;32m   1440\u001b[0m     \"\"\"\n\u001b[0;32m-> 1441\u001b[0;31m     \u001b[0;32mwith\u001b[0m \u001b[0mopen\u001b[0m\u001b[0;34m(\u001b[0m\u001b[0mfname\u001b[0m\u001b[0;34m,\u001b[0m \u001b[0;34m'wb'\u001b[0m\u001b[0;34m)\u001b[0m \u001b[0;32mas\u001b[0m \u001b[0mfout\u001b[0m\u001b[0;34m:\u001b[0m  \u001b[0;31m# 'b' for binary, needed on Windows\u001b[0m\u001b[0;34m\u001b[0m\u001b[0;34m\u001b[0m\u001b[0m\n\u001b[0m\u001b[1;32m   1442\u001b[0m         \u001b[0m_pickle\u001b[0m\u001b[0;34m.\u001b[0m\u001b[0mdump\u001b[0m\u001b[0;34m(\u001b[0m\u001b[0mobj\u001b[0m\u001b[0;34m,\u001b[0m \u001b[0mfout\u001b[0m\u001b[0;34m,\u001b[0m \u001b[0mprotocol\u001b[0m\u001b[0;34m=\u001b[0m\u001b[0mprotocol\u001b[0m\u001b[0;34m)\u001b[0m\u001b[0;34m\u001b[0m\u001b[0;34m\u001b[0m\u001b[0m\n\u001b[1;32m   1443\u001b[0m \u001b[0;34m\u001b[0m\u001b[0m\n",
      "\u001b[0;32m~/Pulpit/pyProj/gensim/venv/lib/python3.8/site-packages/smart_open/smart_open_lib.py\u001b[0m in \u001b[0;36mopen\u001b[0;34m(uri, mode, buffering, encoding, errors, newline, closefd, opener, ignore_ext, compression, transport_params)\u001b[0m\n\u001b[1;32m    186\u001b[0m         \u001b[0mtransport_params\u001b[0m \u001b[0;34m=\u001b[0m \u001b[0;34m{\u001b[0m\u001b[0;34m}\u001b[0m\u001b[0;34m\u001b[0m\u001b[0;34m\u001b[0m\u001b[0m\n\u001b[1;32m    187\u001b[0m \u001b[0;34m\u001b[0m\u001b[0m\n\u001b[0;32m--> 188\u001b[0;31m     fobj = _shortcut_open(\n\u001b[0m\u001b[1;32m    189\u001b[0m         \u001b[0muri\u001b[0m\u001b[0;34m,\u001b[0m\u001b[0;34m\u001b[0m\u001b[0;34m\u001b[0m\u001b[0m\n\u001b[1;32m    190\u001b[0m         \u001b[0mmode\u001b[0m\u001b[0;34m,\u001b[0m\u001b[0;34m\u001b[0m\u001b[0;34m\u001b[0m\u001b[0m\n",
      "\u001b[0;32m~/Pulpit/pyProj/gensim/venv/lib/python3.8/site-packages/smart_open/smart_open_lib.py\u001b[0m in \u001b[0;36m_shortcut_open\u001b[0;34m(uri, mode, compression, buffering, encoding, errors, newline)\u001b[0m\n\u001b[1;32m    359\u001b[0m         \u001b[0mopen_kwargs\u001b[0m\u001b[0;34m[\u001b[0m\u001b[0;34m'errors'\u001b[0m\u001b[0;34m]\u001b[0m \u001b[0;34m=\u001b[0m \u001b[0merrors\u001b[0m\u001b[0;34m\u001b[0m\u001b[0;34m\u001b[0m\u001b[0m\n\u001b[1;32m    360\u001b[0m \u001b[0;34m\u001b[0m\u001b[0m\n\u001b[0;32m--> 361\u001b[0;31m     \u001b[0;32mreturn\u001b[0m \u001b[0m_builtin_open\u001b[0m\u001b[0;34m(\u001b[0m\u001b[0mlocal_path\u001b[0m\u001b[0;34m,\u001b[0m \u001b[0mmode\u001b[0m\u001b[0;34m,\u001b[0m \u001b[0mbuffering\u001b[0m\u001b[0;34m=\u001b[0m\u001b[0mbuffering\u001b[0m\u001b[0;34m,\u001b[0m \u001b[0;34m**\u001b[0m\u001b[0mopen_kwargs\u001b[0m\u001b[0;34m)\u001b[0m\u001b[0;34m\u001b[0m\u001b[0;34m\u001b[0m\u001b[0m\n\u001b[0m\u001b[1;32m    362\u001b[0m \u001b[0;34m\u001b[0m\u001b[0m\n\u001b[1;32m    363\u001b[0m \u001b[0;34m\u001b[0m\u001b[0m\n",
      "\u001b[0;31mFileNotFoundError\u001b[0m: [Errno 2] No such file or directory: './models/word2vec.model'"
     ]
    }
   ],
   "source": [
    "from gensim.models import Word2Vec\n",
    "\n",
    "model = Word2Vec(sentences=data['tokens'], vector_size=25, window=5, min_count=1, workers=4)\n",
    "model.save(\"./models/word2vec.model\")"
   ]
  },
  {
   "cell_type": "code",
   "execution_count": 6,
   "id": "6569d228",
   "metadata": {
    "ExecuteTime": {
     "end_time": "2021-10-25T21:07:11.842370Z",
     "start_time": "2021-10-25T21:07:11.565802Z"
    }
   },
   "outputs": [],
   "source": [
    "from datetime import datetime"
   ]
  },
  {
   "cell_type": "code",
   "execution_count": 7,
   "id": "7fe6b361",
   "metadata": {
    "ExecuteTime": {
     "end_time": "2021-10-25T21:07:27.037190Z",
     "start_time": "2021-10-25T21:07:27.024019Z"
    }
   },
   "outputs": [],
   "source": [
    "dateTimeObj = datetime.now()"
   ]
  },
  {
   "cell_type": "code",
   "execution_count": 8,
   "id": "aa6d784e",
   "metadata": {
    "ExecuteTime": {
     "end_time": "2021-10-25T21:07:30.999364Z",
     "start_time": "2021-10-25T21:07:30.983405Z"
    }
   },
   "outputs": [
    {
     "name": "stdout",
     "output_type": "stream",
     "text": [
      "2021-10-25 23:07:27.035741\n"
     ]
    }
   ],
   "source": [
    "print(dateTimeObj)"
   ]
  },
  {
   "cell_type": "code",
   "execution_count": 10,
   "id": "8a501698",
   "metadata": {
    "ExecuteTime": {
     "end_time": "2021-10-25T21:08:42.017521Z",
     "start_time": "2021-10-25T21:08:42.002445Z"
    }
   },
   "outputs": [
    {
     "name": "stdout",
     "output_type": "stream",
     "text": [
      "20211025_230727\n"
     ]
    }
   ],
   "source": [
    "timestampStr = dateTimeObj.strftime(\"%Y%m%d_%H%M%S\")\n",
    "print(timestampStr)"
   ]
  },
  {
   "cell_type": "code",
   "execution_count": null,
   "id": "08988559",
   "metadata": {},
   "outputs": [],
   "source": [
    "datasets = pd.DataFrame(columns=['id', 'ts', 'params', 'git_branch', 'git_commit', 'shape', 'columns'])"
   ]
  },
  {
   "cell_type": "code",
   "execution_count": 128,
   "id": "91297c2f",
   "metadata": {
    "ExecuteTime": {
     "end_time": "2021-10-25T23:38:54.375185Z",
     "start_time": "2021-10-25T23:38:53.138883Z"
    }
   },
   "outputs": [],
   "source": [
    "import os\n",
    "\n",
    "os.mkdir('./data/test')"
   ]
  },
  {
   "cell_type": "code",
   "execution_count": 139,
   "id": "e825deda",
   "metadata": {
    "ExecuteTime": {
     "end_time": "2021-10-25T23:56:21.220567Z",
     "start_time": "2021-10-25T23:56:21.196170Z"
    }
   },
   "outputs": [
    {
     "data": {
      "text/html": [
       "<div>\n",
       "<style scoped>\n",
       "    .dataframe tbody tr th:only-of-type {\n",
       "        vertical-align: middle;\n",
       "    }\n",
       "\n",
       "    .dataframe tbody tr th {\n",
       "        vertical-align: top;\n",
       "    }\n",
       "\n",
       "    .dataframe thead th {\n",
       "        text-align: right;\n",
       "    }\n",
       "</style>\n",
       "<table border=\"1\" class=\"dataframe\">\n",
       "  <thead>\n",
       "    <tr style=\"text-align: right;\">\n",
       "      <th></th>\n",
       "      <th>a</th>\n",
       "      <th>b</th>\n",
       "    </tr>\n",
       "  </thead>\n",
       "  <tbody>\n",
       "    <tr>\n",
       "      <th>0</th>\n",
       "      <td>1</td>\n",
       "      <td>2</td>\n",
       "    </tr>\n",
       "  </tbody>\n",
       "</table>\n",
       "</div>"
      ],
      "text/plain": [
       "   a  b\n",
       "0  1  2"
      ]
     },
     "execution_count": 139,
     "metadata": {},
     "output_type": "execute_result"
    }
   ],
   "source": []
  },
  {
   "cell_type": "code",
   "execution_count": 138,
   "id": "430b4044",
   "metadata": {
    "ExecuteTime": {
     "end_time": "2021-10-25T23:55:47.146578Z",
     "start_time": "2021-10-25T23:55:47.125965Z"
    }
   },
   "outputs": [
    {
     "data": {
      "text/html": [
       "<div>\n",
       "<style scoped>\n",
       "    .dataframe tbody tr th:only-of-type {\n",
       "        vertical-align: middle;\n",
       "    }\n",
       "\n",
       "    .dataframe tbody tr th {\n",
       "        vertical-align: top;\n",
       "    }\n",
       "\n",
       "    .dataframe thead th {\n",
       "        text-align: right;\n",
       "    }\n",
       "</style>\n",
       "<table border=\"1\" class=\"dataframe\">\n",
       "  <thead>\n",
       "    <tr style=\"text-align: right;\">\n",
       "      <th></th>\n",
       "      <th>c</th>\n",
       "      <th>d</th>\n",
       "      <th>0</th>\n",
       "      <th>1</th>\n",
       "    </tr>\n",
       "  </thead>\n",
       "  <tbody>\n",
       "    <tr>\n",
       "      <th>0</th>\n",
       "      <td>NaN</td>\n",
       "      <td>NaN</td>\n",
       "      <td>1.0</td>\n",
       "      <td>2.0</td>\n",
       "    </tr>\n",
       "  </tbody>\n",
       "</table>\n",
       "</div>"
      ],
      "text/plain": [
       "     c    d    0    1\n",
       "0  NaN  NaN  1.0  2.0"
      ]
     },
     "execution_count": 138,
     "metadata": {},
     "output_type": "execute_result"
    }
   ],
   "source": [
    "aa = pd.DataFrame(columns=['c', 'd'])\n",
    "aa.append(pd.Series((1,2)).to_frame().T)\n"
   ]
  },
  {
   "cell_type": "code",
   "execution_count": 130,
   "id": "3e26366c",
   "metadata": {
    "ExecuteTime": {
     "end_time": "2021-10-25T23:41:32.398755Z",
     "start_time": "2021-10-25T23:41:32.382760Z"
    }
   },
   "outputs": [
    {
     "data": {
      "text/plain": [
       "'./data/er'"
      ]
     },
     "execution_count": 130,
     "metadata": {},
     "output_type": "execute_result"
    }
   ],
   "source": []
  },
  {
   "cell_type": "code",
   "execution_count": 131,
   "id": "da41dcd2",
   "metadata": {
    "ExecuteTime": {
     "end_time": "2021-10-25T23:44:05.585280Z",
     "start_time": "2021-10-25T23:44:03.893011Z"
    }
   },
   "outputs": [
    {
     "data": {
      "text/plain": [
       "True"
      ]
     },
     "execution_count": 131,
     "metadata": {},
     "output_type": "execute_result"
    }
   ],
   "source": [
    "os.path.exists('./data')"
   ]
  }
 ],
 "metadata": {
  "kernelspec": {
   "display_name": "Python 3 (ipykernel)",
   "language": "python",
   "name": "python3"
  },
  "language_info": {
   "codemirror_mode": {
    "name": "ipython",
    "version": 3
   },
   "file_extension": ".py",
   "mimetype": "text/x-python",
   "name": "python",
   "nbconvert_exporter": "python",
   "pygments_lexer": "ipython3",
   "version": "3.8.10"
  },
  "toc": {
   "base_numbering": 1,
   "nav_menu": {},
   "number_sections": true,
   "sideBar": true,
   "skip_h1_title": false,
   "title_cell": "Table of Contents",
   "title_sidebar": "Contents",
   "toc_cell": false,
   "toc_position": {},
   "toc_section_display": true,
   "toc_window_display": true
  }
 },
 "nbformat": 4,
 "nbformat_minor": 5
}
