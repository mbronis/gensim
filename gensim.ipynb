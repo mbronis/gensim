{
 "cells": [
  {
   "cell_type": "markdown",
   "id": "33d09222",
   "metadata": {},
   "source": [
    "# setup"
   ]
  },
  {
   "cell_type": "code",
   "execution_count": 1,
   "id": "d4dee6e9",
   "metadata": {
    "ExecuteTime": {
     "end_time": "2021-10-26T19:13:48.905121Z",
     "start_time": "2021-10-26T19:13:48.860011Z"
    }
   },
   "outputs": [],
   "source": [
    "%load_ext autoreload\n",
    "%autoreload 2"
   ]
  },
  {
   "cell_type": "code",
   "execution_count": 48,
   "id": "bd43ba58",
   "metadata": {
    "ExecuteTime": {
     "end_time": "2022-01-06T07:47:17.234380Z",
     "start_time": "2022-01-06T07:47:17.227475Z"
    }
   },
   "outputs": [],
   "source": [
    "import os\n",
    "import re\n",
    "import pickle\n",
    "from typing import Sequence, List\n",
    "from tempfile import mkdtemp\n",
    "\n",
    "import numpy as np\n",
    "import pandas as pd\n",
    "\n",
    "from sklearn.pipeline import Pipeline\n",
    "\n",
    "from src.io import CsvDataLoader, PickleLoader\n",
    "from src.preproc import RawDataCleaner, TextCleaner, SimpleTokenizer\n",
    "\n",
    "pd.set_option('display.max_rows', 100)"
   ]
  },
  {
   "cell_type": "markdown",
   "id": "2c318bda",
   "metadata": {},
   "source": [
    "# load raw data & preprocess"
   ]
  },
  {
   "cell_type": "code",
   "execution_count": 114,
   "id": "cf05212c",
   "metadata": {
    "ExecuteTime": {
     "end_time": "2021-10-25T22:32:25.826773Z",
     "start_time": "2021-10-25T22:32:25.813101Z"
    }
   },
   "outputs": [],
   "source": [
    "pipe = Pipeline([\n",
    "    ('load_data', CsvDataLoader(file_name='polish_sentiment_dataset.csv')),\n",
    "    ('basic_cleaning', RawDataCleaner()),\n",
    "    ('text_cleaning', TextCleaner()),\n",
    "    ('tokenizer', SimpleTokenizer())\n",
    "], memory=mkdtemp())"
   ]
  },
  {
   "cell_type": "code",
   "execution_count": 250,
   "id": "a81ea3f5",
   "metadata": {
    "ExecuteTime": {
     "end_time": "2021-10-25T01:28:23.919220Z",
     "start_time": "2021-10-25T01:27:48.173524Z"
    }
   },
   "outputs": [
    {
     "name": "stderr",
     "output_type": "stream",
     "text": [
      "/home/mic/Pulpit/pyProj/gensim/venv/lib/python3.8/site-packages/sklearn/pipeline.py:348: UserWarning: Persisting input arguments took 2.33s to run.\n",
      "If this happens often in your code, it can cause performance problems \n",
      "(results will be correct in all cases). \n",
      "The reason for this is probably some large input arguments for a wrapped\n",
      " function (e.g. large strings).\n",
      "THIS IS A JOBLIB ISSUE. If you can, kindly provide the joblib's team with an\n",
      " example so that they can fix the problem.\n",
      "  X, fitted_transformer = fit_transform_one_cached(\n",
      "/home/mic/Pulpit/pyProj/gensim/venv/lib/python3.8/site-packages/sklearn/pipeline.py:348: UserWarning: Persisting input arguments took 2.30s to run.\n",
      "If this happens often in your code, it can cause performance problems \n",
      "(results will be correct in all cases). \n",
      "The reason for this is probably some large input arguments for a wrapped\n",
      " function (e.g. large strings).\n",
      "THIS IS A JOBLIB ISSUE. If you can, kindly provide the joblib's team with an\n",
      " example so that they can fix the problem.\n",
      "  X, fitted_transformer = fit_transform_one_cached(\n"
     ]
    }
   ],
   "source": [
    "data = pipe.fit_transform(None)"
   ]
  },
  {
   "cell_type": "code",
   "execution_count": null,
   "id": "81ec7061",
   "metadata": {},
   "outputs": [],
   "source": [
    "with open('./data/data_preproc.pkl', 'wb') as f:\n",
    "    pickle.dump(data, f)"
   ]
  },
  {
   "cell_type": "markdown",
   "id": "57f82950",
   "metadata": {},
   "source": [
    "# basic eda"
   ]
  },
  {
   "cell_type": "code",
   "execution_count": 140,
   "id": "c0750fb9",
   "metadata": {
    "ExecuteTime": {
     "end_time": "2021-10-25T00:33:13.539079Z",
     "start_time": "2021-10-25T00:33:13.519745Z"
    }
   },
   "outputs": [
    {
     "data": {
      "text/plain": [
       "(917525, 8)"
      ]
     },
     "execution_count": 140,
     "metadata": {},
     "output_type": "execute_result"
    }
   ],
   "source": [
    "data.shape"
   ]
  },
  {
   "cell_type": "code",
   "execution_count": 141,
   "id": "ef93d692",
   "metadata": {
    "ExecuteTime": {
     "end_time": "2021-10-25T00:33:16.638698Z",
     "start_time": "2021-10-25T00:33:16.611712Z"
    }
   },
   "outputs": [
    {
     "data": {
      "text/plain": [
       "0.0    0.800228\n",
       "1.0    0.199772\n",
       "Name: negative, dtype: float64"
      ]
     },
     "execution_count": 141,
     "metadata": {},
     "output_type": "execute_result"
    }
   ],
   "source": [
    "data['negative'].value_counts(dropna=False)/len(data)"
   ]
  },
  {
   "cell_type": "code",
   "execution_count": 58,
   "id": "6954bea9",
   "metadata": {
    "ExecuteTime": {
     "end_time": "2021-10-24T23:09:25.754965Z",
     "start_time": "2021-10-24T23:09:25.282044Z"
    }
   },
   "outputs": [
    {
     "data": {
      "text/plain": [
       "<AxesSubplot:ylabel='Frequency'>"
      ]
     },
     "execution_count": 58,
     "metadata": {},
     "output_type": "execute_result"
    },
    {
     "data": {
      "image/png": "[encoded data removed]",
      "text/plain": [
       "<Figure size 432x288 with 1 Axes>"
      ]
     },
     "metadata": {
      "needs_background": "light"
     },
     "output_type": "display_data"
    }
   ],
   "source": [
    "data['len'].clip(upper=1000).plot.hist(bins=100)"
   ]
  },
  {
   "cell_type": "code",
   "execution_count": 61,
   "id": "d5a485f2",
   "metadata": {
    "ExecuteTime": {
     "end_time": "2021-10-24T23:10:16.878328Z",
     "start_time": "2021-10-24T23:10:16.532676Z"
    }
   },
   "outputs": [
    {
     "data": {
      "text/plain": [
       "<AxesSubplot:ylabel='Frequency'>"
      ]
     },
     "execution_count": 61,
     "metadata": {},
     "output_type": "execute_result"
    },
    {
     "data": {
      "image/png": "[encoded data removed]",
      "text/plain": [
       "<Figure size 432x288 with 1 Axes>"
      ]
     },
     "metadata": {
      "needs_background": "light"
     },
     "output_type": "display_data"
    }
   ],
   "source": [
    "data['len_clean_ratio'].plot.hist(bins=100)"
   ]
  },
  {
   "cell_type": "code",
   "execution_count": 219,
   "id": "17b1815b",
   "metadata": {
    "ExecuteTime": {
     "end_time": "2021-10-25T01:19:12.711939Z",
     "start_time": "2021-10-25T01:19:12.349177Z"
    }
   },
   "outputs": [
    {
     "data": {
      "text/plain": [
       "<AxesSubplot:ylabel='Frequency'>"
      ]
     },
     "execution_count": 219,
     "metadata": {},
     "output_type": "execute_result"
    },
    {
     "data": {
      "image/png": "[encoded data removed]",
      "text/plain": [
       "<Figure size 432x288 with 1 Axes>"
      ]
     },
     "metadata": {
      "needs_background": "light"
     },
     "output_type": "display_data"
    }
   ],
   "source": [
    "data['tokens_len'].clip(upper=100).plot.hist(bins=100)"
   ]
  },
  {
   "cell_type": "markdown",
   "id": "9775cc31",
   "metadata": {},
   "source": [
    "## token length"
   ]
  },
  {
   "cell_type": "code",
   "execution_count": null,
   "id": "2c5c2c7a",
   "metadata": {},
   "outputs": [],
   "source": [
    "tokens_len = [(i, len(tok)) for i, toks in enumerate(data['tokens']) for tok in toks]\n",
    "tokens_len = pd.DataFrame(tokens_len, columns=['row', 'tok_len'])"
   ]
  },
  {
   "cell_type": "code",
   "execution_count": 286,
   "id": "6c9da54c",
   "metadata": {
    "ExecuteTime": {
     "end_time": "2021-10-25T01:45:49.841097Z",
     "start_time": "2021-10-25T01:45:49.825766Z"
    }
   },
   "outputs": [
    {
     "name": "stdout",
     "output_type": "stream",
     "text": [
      "words in data: 12083288\n"
     ]
    }
   ],
   "source": [
    "print(f\"words in data: {len(tokens_len)}\")"
   ]
  },
  {
   "cell_type": "code",
   "execution_count": 256,
   "id": "27ade698",
   "metadata": {
    "ExecuteTime": {
     "end_time": "2021-10-25T01:31:28.771197Z",
     "start_time": "2021-10-25T01:31:27.605934Z"
    }
   },
   "outputs": [
    {
     "data": {
      "text/plain": [
       "<AxesSubplot:ylabel='Frequency'>"
      ]
     },
     "execution_count": 256,
     "metadata": {},
     "output_type": "execute_result"
    },
    {
     "data": {
      "image/png": "[encoded data removed]",
      "text/plain": [
       "<Figure size 432x288 with 1 Axes>"
      ]
     },
     "metadata": {
      "needs_background": "light"
     },
     "output_type": "display_data"
    }
   ],
   "source": [
    "tokens_len['tok_len'].clip(upper=100).plot.hist(bins=50)"
   ]
  },
  {
   "cell_type": "code",
   "execution_count": 257,
   "id": "b81a447d",
   "metadata": {
    "ExecuteTime": {
     "end_time": "2021-10-25T01:31:45.508979Z",
     "start_time": "2021-10-25T01:31:45.166648Z"
    }
   },
   "outputs": [
    {
     "data": {
      "text/plain": [
       "count    1.208329e+07\n",
       "mean     5.755617e+00\n",
       "std      4.244786e+00\n",
       "min      1.000000e+00\n",
       "25%      3.000000e+00\n",
       "50%      6.000000e+00\n",
       "75%      8.000000e+00\n",
       "max      9.982000e+03\n",
       "Name: tok_len, dtype: float64"
      ]
     },
     "execution_count": 257,
     "metadata": {},
     "output_type": "execute_result"
    }
   ],
   "source": [
    "tokens_len['tok_len'].describe()"
   ]
  },
  {
   "cell_type": "code",
   "execution_count": 258,
   "id": "a7565f05",
   "metadata": {
    "ExecuteTime": {
     "end_time": "2021-10-25T01:32:07.199609Z",
     "start_time": "2021-10-25T01:32:06.372520Z"
    }
   },
   "outputs": [
    {
     "data": {
      "text/plain": [
       "9982"
      ]
     },
     "execution_count": 258,
     "metadata": {},
     "output_type": "execute_result"
    }
   ],
   "source": [
    "max(tokens_len['tok_len'])"
   ]
  },
  {
   "cell_type": "code",
   "execution_count": 271,
   "id": "d92fab40",
   "metadata": {
    "ExecuteTime": {
     "end_time": "2021-10-25T01:35:15.406840Z",
     "start_time": "2021-10-25T01:35:15.379280Z"
    }
   },
   "outputs": [
    {
     "data": {
      "text/html": [
       "<div>\n",
       "<style scoped>\n",
       "    .dataframe tbody tr th:only-of-type {\n",
       "        vertical-align: middle;\n",
       "    }\n",
       "\n",
       "    .dataframe tbody tr th {\n",
       "        vertical-align: top;\n",
       "    }\n",
       "\n",
       "    .dataframe thead th {\n",
       "        text-align: right;\n",
       "    }\n",
       "</style>\n",
       "<table border=\"1\" class=\"dataframe\">\n",
       "  <thead>\n",
       "    <tr style=\"text-align: right;\">\n",
       "      <th></th>\n",
       "      <th>row</th>\n",
       "      <th>tok_len</th>\n",
       "    </tr>\n",
       "  </thead>\n",
       "  <tbody>\n",
       "    <tr>\n",
       "      <th>9940205</th>\n",
       "      <td>774921</td>\n",
       "      <td>50</td>\n",
       "    </tr>\n",
       "    <tr>\n",
       "      <th>10279304</th>\n",
       "      <td>812174</td>\n",
       "      <td>50</td>\n",
       "    </tr>\n",
       "    <tr>\n",
       "      <th>11840864</th>\n",
       "      <td>907920</td>\n",
       "      <td>50</td>\n",
       "    </tr>\n",
       "  </tbody>\n",
       "</table>\n",
       "</div>"
      ],
      "text/plain": [
       "             row  tok_len\n",
       "9940205   774921       50\n",
       "10279304  812174       50\n",
       "11840864  907920       50"
      ]
     },
     "execution_count": 271,
     "metadata": {},
     "output_type": "execute_result"
    }
   ],
   "source": [
    "tokens_len[tokens_len['tok_len']==50]"
   ]
  },
  {
   "cell_type": "code",
   "execution_count": 261,
   "id": "9a3e329f",
   "metadata": {
    "ExecuteTime": {
     "end_time": "2021-10-25T01:32:57.945403Z",
     "start_time": "2021-10-25T01:32:57.930792Z"
    }
   },
   "outputs": [
    {
     "data": {
      "text/plain": [
       "RangeIndex(start=0, stop=917525, step=1)"
      ]
     },
     "execution_count": 261,
     "metadata": {},
     "output_type": "execute_result"
    }
   ],
   "source": [
    "data.index"
   ]
  },
  {
   "cell_type": "code",
   "execution_count": 274,
   "id": "c6df0252",
   "metadata": {
    "ExecuteTime": {
     "end_time": "2021-10-25T01:35:31.979891Z",
     "start_time": "2021-10-25T01:35:31.956652Z"
    }
   },
   "outputs": [
    {
     "data": {
      "text/plain": [
       "'xdxdxdxdxdxxxxxxxxxxxxxddddddddddddddxxxxxxxxxddxx'"
      ]
     },
     "execution_count": 274,
     "metadata": {},
     "output_type": "execute_result"
    }
   ],
   "source": [
    "data['desc_clean'][774921]"
   ]
  },
  {
   "cell_type": "markdown",
   "id": "cb418009",
   "metadata": {},
   "source": [
    "# adhoc eda"
   ]
  },
  {
   "cell_type": "code",
   "execution_count": 275,
   "id": "2d1ef57c",
   "metadata": {
    "ExecuteTime": {
     "end_time": "2021-10-25T01:35:50.313072Z",
     "start_time": "2021-10-25T01:35:50.284988Z"
    }
   },
   "outputs": [
    {
     "data": {
      "text/html": [
       "<div>\n",
       "<style scoped>\n",
       "    .dataframe tbody tr th:only-of-type {\n",
       "        vertical-align: middle;\n",
       "    }\n",
       "\n",
       "    .dataframe tbody tr th {\n",
       "        vertical-align: top;\n",
       "    }\n",
       "\n",
       "    .dataframe thead th {\n",
       "        text-align: right;\n",
       "    }\n",
       "</style>\n",
       "<table border=\"1\" class=\"dataframe\">\n",
       "  <thead>\n",
       "    <tr style=\"text-align: right;\">\n",
       "      <th></th>\n",
       "      <th>desc</th>\n",
       "      <th>len</th>\n",
       "      <th>negative</th>\n",
       "      <th>desc_clean</th>\n",
       "      <th>len_clean</th>\n",
       "      <th>len_clean_ratio</th>\n",
       "      <th>tokens</th>\n",
       "      <th>tokens_len</th>\n",
       "    </tr>\n",
       "  </thead>\n",
       "  <tbody>\n",
       "    <tr>\n",
       "      <th>0</th>\n",
       "      <td>Polecam nie pierwszy i nie ostatni raz!</td>\n",
       "      <td>39</td>\n",
       "      <td>0.0</td>\n",
       "      <td>polecam nie pierwszy i nie ostatni raz</td>\n",
       "      <td>38</td>\n",
       "      <td>0.974359</td>\n",
       "      <td>[polecam, nie, pierwszy, i, nie, ostatni, raz]</td>\n",
       "      <td>7</td>\n",
       "    </tr>\n",
       "    <tr>\n",
       "      <th>1</th>\n",
       "      <td>Bardzo dobra komunikacja sms i telefoniczna. Z...</td>\n",
       "      <td>121</td>\n",
       "      <td>0.0</td>\n",
       "      <td>bardzo dobra komunikacja sms i telefoniczna za...</td>\n",
       "      <td>117</td>\n",
       "      <td>0.966942</td>\n",
       "      <td>[bardzo, dobra, komunikacja, sms, i, telefonic...</td>\n",
       "      <td>16</td>\n",
       "    </tr>\n",
       "    <tr>\n",
       "      <th>2</th>\n",
       "      <td>Polecam zakupy w tym sklepie. Są dostępne częś...</td>\n",
       "      <td>87</td>\n",
       "      <td>0.0</td>\n",
       "      <td>polecam zakupy w tym sklepie są dostępne częśc...</td>\n",
       "      <td>84</td>\n",
       "      <td>0.965517</td>\n",
       "      <td>[polecam, zakupy, w, tym, sklepie, są, dostępn...</td>\n",
       "      <td>14</td>\n",
       "    </tr>\n",
       "    <tr>\n",
       "      <th>3</th>\n",
       "      <td>Jestem w pełni zadowolona z przebiegu transakcji</td>\n",
       "      <td>48</td>\n",
       "      <td>0.0</td>\n",
       "      <td>jestem w pełni zadowolona z przebiegu transakcji</td>\n",
       "      <td>48</td>\n",
       "      <td>1.000000</td>\n",
       "      <td>[jestem, w, pełni, zadowolona, z, przebiegu, t...</td>\n",
       "      <td>7</td>\n",
       "    </tr>\n",
       "    <tr>\n",
       "      <th>4</th>\n",
       "      <td>Transakcja przebiegła błyskawicznie. Pełen pro...</td>\n",
       "      <td>86</td>\n",
       "      <td>0.0</td>\n",
       "      <td>transakcja przebiegła błyskawicznie pełen prof...</td>\n",
       "      <td>84</td>\n",
       "      <td>0.976744</td>\n",
       "      <td>[transakcja, przebiegła, błyskawicznie, pełen,...</td>\n",
       "      <td>9</td>\n",
       "    </tr>\n",
       "    <tr>\n",
       "      <th>...</th>\n",
       "      <td>...</td>\n",
       "      <td>...</td>\n",
       "      <td>...</td>\n",
       "      <td>...</td>\n",
       "      <td>...</td>\n",
       "      <td>...</td>\n",
       "      <td>...</td>\n",
       "      <td>...</td>\n",
       "    </tr>\n",
       "    <tr>\n",
       "      <th>917520</th>\n",
       "      <td>Coraz lepiej wygląda</td>\n",
       "      <td>20</td>\n",
       "      <td>1.0</td>\n",
       "      <td>coraz lepiej wygląda</td>\n",
       "      <td>20</td>\n",
       "      <td>1.000000</td>\n",
       "      <td>[coraz, lepiej, wygląda]</td>\n",
       "      <td>3</td>\n",
       "    </tr>\n",
       "    <tr>\n",
       "      <th>917521</th>\n",
       "      <td>JA SRAM NA TEN PIERSCIONEK I NA CIEBIE CHWILE ...</td>\n",
       "      <td>89</td>\n",
       "      <td>1.0</td>\n",
       "      <td>ja sram na ten pierscionek i na ciebie chwile ...</td>\n",
       "      <td>89</td>\n",
       "      <td>1.000000</td>\n",
       "      <td>[ja, sram, na, ten, pierscionek, i, na, ciebie...</td>\n",
       "      <td>17</td>\n",
       "    </tr>\n",
       "    <tr>\n",
       "      <th>917522</th>\n",
       "      <td>Rafatus do Marleny  Ty kurwo bez honoru       ...</td>\n",
       "      <td>126</td>\n",
       "      <td>1.0</td>\n",
       "      <td>rafatus do marleny ty kurwo bez honoru kto tu ...</td>\n",
       "      <td>91</td>\n",
       "      <td>0.722222</td>\n",
       "      <td>[rafatus, do, marleny, ty, kurwo, bez, honoru,...</td>\n",
       "      <td>16</td>\n",
       "    </tr>\n",
       "    <tr>\n",
       "      <th>917523</th>\n",
       "      <td>matka Marleny   prosi o pomoc</td>\n",
       "      <td>29</td>\n",
       "      <td>1.0</td>\n",
       "      <td>matka marleny prosi o pomoc</td>\n",
       "      <td>27</td>\n",
       "      <td>0.931034</td>\n",
       "      <td>[matka, marleny, prosi, o, pomoc]</td>\n",
       "      <td>5</td>\n",
       "    </tr>\n",
       "    <tr>\n",
       "      <th>917524</th>\n",
       "      <td>wiesz człowieku że on ją nawet nie uderzył i m...</td>\n",
       "      <td>62</td>\n",
       "      <td>1.0</td>\n",
       "      <td>wiesz człowieku że on ją nawet nie uderzył i m...</td>\n",
       "      <td>62</td>\n",
       "      <td>1.000000</td>\n",
       "      <td>[wiesz, człowieku, że, on, ją, nawet, nie, ude...</td>\n",
       "      <td>13</td>\n",
       "    </tr>\n",
       "  </tbody>\n",
       "</table>\n",
       "<p>917525 rows × 8 columns</p>\n",
       "</div>"
      ],
      "text/plain": [
       "                                                     desc  len  negative  \\\n",
       "0                 Polecam nie pierwszy i nie ostatni raz!   39       0.0   \n",
       "1       Bardzo dobra komunikacja sms i telefoniczna. Z...  121       0.0   \n",
       "2       Polecam zakupy w tym sklepie. Są dostępne częś...   87       0.0   \n",
       "3        Jestem w pełni zadowolona z przebiegu transakcji   48       0.0   \n",
       "4       Transakcja przebiegła błyskawicznie. Pełen pro...   86       0.0   \n",
       "...                                                   ...  ...       ...   \n",
       "917520                               Coraz lepiej wygląda   20       1.0   \n",
       "917521  JA SRAM NA TEN PIERSCIONEK I NA CIEBIE CHWILE ...   89       1.0   \n",
       "917522  Rafatus do Marleny  Ty kurwo bez honoru       ...  126       1.0   \n",
       "917523                      matka Marleny   prosi o pomoc   29       1.0   \n",
       "917524  wiesz człowieku że on ją nawet nie uderzył i m...   62       1.0   \n",
       "\n",
       "                                               desc_clean  len_clean  \\\n",
       "0                  polecam nie pierwszy i nie ostatni raz         38   \n",
       "1       bardzo dobra komunikacja sms i telefoniczna za...        117   \n",
       "2       polecam zakupy w tym sklepie są dostępne częśc...         84   \n",
       "3        jestem w pełni zadowolona z przebiegu transakcji         48   \n",
       "4       transakcja przebiegła błyskawicznie pełen prof...         84   \n",
       "...                                                   ...        ...   \n",
       "917520                               coraz lepiej wygląda         20   \n",
       "917521  ja sram na ten pierscionek i na ciebie chwile ...         89   \n",
       "917522  rafatus do marleny ty kurwo bez honoru kto tu ...         91   \n",
       "917523                        matka marleny prosi o pomoc         27   \n",
       "917524  wiesz człowieku że on ją nawet nie uderzył i m...         62   \n",
       "\n",
       "        len_clean_ratio                                             tokens  \\\n",
       "0              0.974359     [polecam, nie, pierwszy, i, nie, ostatni, raz]   \n",
       "1              0.966942  [bardzo, dobra, komunikacja, sms, i, telefonic...   \n",
       "2              0.965517  [polecam, zakupy, w, tym, sklepie, są, dostępn...   \n",
       "3              1.000000  [jestem, w, pełni, zadowolona, z, przebiegu, t...   \n",
       "4              0.976744  [transakcja, przebiegła, błyskawicznie, pełen,...   \n",
       "...                 ...                                                ...   \n",
       "917520         1.000000                           [coraz, lepiej, wygląda]   \n",
       "917521         1.000000  [ja, sram, na, ten, pierscionek, i, na, ciebie...   \n",
       "917522         0.722222  [rafatus, do, marleny, ty, kurwo, bez, honoru,...   \n",
       "917523         0.931034                  [matka, marleny, prosi, o, pomoc]   \n",
       "917524         1.000000  [wiesz, człowieku, że, on, ją, nawet, nie, ude...   \n",
       "\n",
       "        tokens_len  \n",
       "0                7  \n",
       "1               16  \n",
       "2               14  \n",
       "3                7  \n",
       "4                9  \n",
       "...            ...  \n",
       "917520           3  \n",
       "917521          17  \n",
       "917522          16  \n",
       "917523           5  \n",
       "917524          13  \n",
       "\n",
       "[917525 rows x 8 columns]"
      ]
     },
     "execution_count": 275,
     "metadata": {},
     "output_type": "execute_result"
    }
   ],
   "source": [
    "data"
   ]
  },
  {
   "cell_type": "markdown",
   "id": "b45e1cc6",
   "metadata": {},
   "source": [
    "## lettes dict"
   ]
  },
  {
   "cell_type": "code",
   "execution_count": 8,
   "id": "5f2c9f28",
   "metadata": {
    "ExecuteTime": {
     "end_time": "2021-10-24T22:08:05.430018Z",
     "start_time": "2021-10-24T22:07:59.716559Z"
    }
   },
   "outputs": [],
   "source": [
    "from collections import Counter\n",
    "\n",
    "def count_chars(s, chars):\n",
    "    counter = Counter(s)\n",
    "    return {c : counter.get(c,0) for c in chars}\n",
    "\n",
    "letters_dict = Counter([c for s in data['desc'] for c in s])"
   ]
  },
  {
   "cell_type": "code",
   "execution_count": 9,
   "id": "243010cf",
   "metadata": {
    "ExecuteTime": {
     "end_time": "2021-10-24T22:08:06.191402Z",
     "start_time": "2021-10-24T22:08:06.155668Z"
    }
   },
   "outputs": [
    {
     "data": {
      "text/plain": [
       "[(' ', 11269150),\n",
       " ('a', 6918402),\n",
       " ('e', 5827493),\n",
       " ('o', 5432923),\n",
       " ('i', 4519406),\n",
       " ('z', 4060100),\n",
       " ('n', 3448487),\n",
       " ('s', 3133460),\n",
       " ('r', 2971734),\n",
       " ('k', 2774425),\n",
       " ('y', 2761594),\n",
       " ('w', 2572928),\n",
       " ('t', 2412194),\n",
       " ('p', 2306489),\n",
       " ('m', 2204999),\n",
       " ('c', 2117288),\n",
       " ('d', 2068713),\n",
       " ('l', 1826311),\n",
       " ('b', 1633695),\n",
       " ('u', 1422661),\n",
       " ('j', 1374134),\n",
       " ('.', 1076430),\n",
       " ('ł', 1008407),\n",
       " (',', 807210),\n",
       " ('g', 713406),\n",
       " ('ó', 465146),\n",
       " ('ę', 448375),\n",
       " ('ż', 416814),\n",
       " ('P', 367068),\n",
       " ('ą', 360837),\n",
       " ('h', 338778),\n",
       " ('S', 288760),\n",
       " ('!', 278291),\n",
       " ('ś', 273548),\n",
       " ('f', 228596),\n",
       " ('\\r', 219740),\n",
       " ('ć', 212443),\n",
       " ('B', 174693),\n",
       " ('A', 170350),\n",
       " ('W', 166578),\n",
       " ('O', 155386),\n",
       " ('D', 154107),\n",
       " ('T', 147638),\n",
       " ('Z', 133755),\n",
       " ('J', 133418),\n",
       " ('E', 132228),\n",
       " ('N', 122486),\n",
       " ('K', 104327),\n",
       " ('\\n', 104190),\n",
       " ('M', 102931),\n",
       " (')', 99456),\n",
       " ('C', 95883),\n",
       " ('I', 91000),\n",
       " ('-', 84443),\n",
       " ('0', 83453),\n",
       " ('R', 82176),\n",
       " (':', 75159),\n",
       " ('L', 61472),\n",
       " ('ń', 60901),\n",
       " ('1', 58551),\n",
       " ('G', 48068),\n",
       " ('Y', 40786),\n",
       " ('U', 37733),\n",
       " ('2', 36969),\n",
       " ('(', 25202),\n",
       " ('3', 21357),\n",
       " ('x', 20027),\n",
       " ('\"', 19904),\n",
       " ('%', 18506),\n",
       " ('Ś', 18219),\n",
       " ('ź', 17940),\n",
       " ('4', 17217),\n",
       " ('5', 17128),\n",
       " ('F', 15741),\n",
       " ('H', 15735),\n",
       " ('Ł', 15150),\n",
       " (';', 13097),\n",
       " ('?', 11344),\n",
       " ('Ż', 10273),\n",
       " ('6', 9644),\n",
       " ('9', 9274),\n",
       " ('8', 8372),\n",
       " ('7', 7918),\n",
       " ('X', 6848),\n",
       " ('Ę', 6120),\n",
       " ('v', 6039),\n",
       " ('\\xa0', 5411),\n",
       " ('/', 5268),\n",
       " ('Ą', 5199),\n",
       " ('Ó', 4792),\n",
       " ('V', 3828),\n",
       " ('Ć', 3362),\n",
       " ('+', 3240),\n",
       " (\"'\", 2008),\n",
       " ('…', 1991),\n",
       " ('_', 1963),\n",
       " ('\\\\', 1629),\n",
       " ('*', 1152),\n",
       " ('=', 1044),\n",
       " ('\\u3000', 925),\n",
       " (']', 794),\n",
       " ('Ń', 730),\n",
       " ('☺', 688),\n",
       " ('>', 685),\n",
       " ('q', 674),\n",
       " ('[', 600),\n",
       " ('@', 530),\n",
       " ('о', 524),\n",
       " ('–', 445),\n",
       " ('е', 413),\n",
       " ('Q', 402),\n",
       " ('а', 398),\n",
       " ('\\xad', 395),\n",
       " ('и', 378),\n",
       " ('”', 375),\n",
       " ('т', 370),\n",
       " ('„', 355),\n",
       " ('Ź', 308),\n",
       " ('н', 304),\n",
       " ('в', 261),\n",
       " ('ò', 257),\n",
       " ('р', 254),\n",
       " ('\\t', 250),\n",
       " ('с', 242),\n",
       " ('к', 211),\n",
       " ('^', 205),\n",
       " ('л', 205),\n",
       " ('ʖ', 200),\n",
       " ('~', 195),\n",
       " ('卐', 168),\n",
       " ('д', 161),\n",
       " ('м', 149),\n",
       " ('у', 131),\n",
       " ('п', 125),\n",
       " ('|', 121),\n",
       " ('&', 117),\n",
       " ('я', 114),\n",
       " ('<', 102),\n",
       " ('ы', 101),\n",
       " ('б', 99),\n",
       " ('ь', 96),\n",
       " ('`', 93),\n",
       " ('ч', 83),\n",
       " ('з', 81),\n",
       " ('$', 78),\n",
       " ('️', 76),\n",
       " ('ノ', 71),\n",
       " ('х', 69),\n",
       " ('ヽ', 64),\n",
       " ('é', 63),\n",
       " ('ゝ', 61),\n",
       " ('}', 60),\n",
       " ('ö', 59),\n",
       " ('й', 56),\n",
       " ('ل', 49),\n",
       " ('❤', 48),\n",
       " ('і', 47),\n",
       " ('ا', 46),\n",
       " ('г', 45),\n",
       " ('ж', 43),\n",
       " ('ü', 42),\n",
       " ('á', 42),\n",
       " ('ш', 41),\n",
       " ('{', 40),\n",
       " ('ｓ', 39),\n",
       " ('à', 37),\n",
       " ('#', 36),\n",
       " ('ر', 36),\n",
       " ('ｆ', 35),\n",
       " ('ю', 33),\n",
       " ('ц', 33),\n",
       " ('ｊ', 33),\n",
       " ('ن', 31),\n",
       " ('Б', 29),\n",
       " ('э', 29),\n",
       " ('А', 29),\n",
       " ('ä', 28),\n",
       " ('و', 28),\n",
       " ('ᶦ', 28),\n",
       " ('—', 27),\n",
       " ('П', 26),\n",
       " ('“', 25),\n",
       " ('ｄ', 25),\n",
       " ('ｈ', 25),\n",
       " ('ø', 24),\n",
       " ('ｇ', 24),\n",
       " ('ｌ', 23),\n",
       " ('ı', 22),\n",
       " ('ｎ', 22),\n",
       " ('Д', 21),\n",
       " ('è', 21),\n",
       " ('ة', 21),\n",
       " ('í', 20),\n",
       " ('•', 20),\n",
       " ('ž', 20),\n",
       " ('ಠ', 20),\n",
       " ('С', 19),\n",
       " ('К', 19),\n",
       " ('م', 19),\n",
       " ('В', 18),\n",
       " ('У', 18),\n",
       " ('š', 17),\n",
       " ('°', 17),\n",
       " ('’', 17),\n",
       " ('ｍ', 17),\n",
       " ('ĺ', 16),\n",
       " ('щ', 16),\n",
       " ('س', 16),\n",
       " ('ي', 16),\n",
       " ('ب', 16),\n",
       " ('อ', 16),\n",
       " ('ｔ', 16),\n",
       " ('ｋ', 16),\n",
       " ('ᵉ', 16),\n",
       " ('ᵏ', 16),\n",
       " ('ý', 15),\n",
       " ('М', 15),\n",
       " ('ｂ', 15),\n",
       " ('€', 14),\n",
       " ('Н', 14),\n",
       " ('α', 14),\n",
       " ('ت', 14),\n",
       " ('ง', 14),\n",
       " ('ｚ', 14),\n",
       " ('Р', 13),\n",
       " ('О', 13),\n",
       " ('ع', 13),\n",
       " ('ι', 13),\n",
       " ('ａ', 13),\n",
       " ('♥', 12),\n",
       " ('ß', 12),\n",
       " ('\\u200b', 12),\n",
       " ('า', 12),\n",
       " ('น', 12),\n",
       " ('ｘ', 12),\n",
       " ('ᵘ', 12),\n",
       " ('ї', 12),\n",
       " ('י', 12),\n",
       " ('ì', 11),\n",
       " ('℅', 11),\n",
       " ('ô', 11),\n",
       " ('§', 11),\n",
       " ('î', 11),\n",
       " ('ñ', 11),\n",
       " ('υ', 11),\n",
       " ('×', 11),\n",
       " ('И', 11),\n",
       " ('ق', 11),\n",
       " ('є', 11),\n",
       " ('ค', 11),\n",
       " ('ย', 11),\n",
       " ('ｉ', 11),\n",
       " ('ｕ', 11),\n",
       " ('Л', 11),\n",
       " ('σ', 10),\n",
       " ('\\ufeff', 10),\n",
       " ('ه', 10),\n",
       " ('ف', 10),\n",
       " ('ร', 10),\n",
       " ('ｒ', 10),\n",
       " ('ו', 10),\n",
       " ('З', 9),\n",
       " ('č', 9),\n",
       " ('‘', 9),\n",
       " ('บ', 9),\n",
       " ('ｃ', 9),\n",
       " ('ｅ', 9),\n",
       " ('£', 8),\n",
       " ('Т', 8),\n",
       " ('ф', 8),\n",
       " ('Я', 8),\n",
       " ('͡', 8),\n",
       " ('ك', 8),\n",
       " ('ห', 8),\n",
       " ('ก', 8),\n",
       " ('ǝ', 8),\n",
       " ('Г', 8),\n",
       " ('ಥ', 8),\n",
       " ('ʸ', 8),\n",
       " ('ⁿ', 8),\n",
       " ('ᵖ', 8),\n",
       " ('ᶜ', 8),\n",
       " ('ˡ', 8),\n",
       " ('ᵃ', 8),\n",
       " ('ʷ', 8),\n",
       " ('ˢ', 8),\n",
       " ('ל', 8),\n",
       " ('\\x7f', 7),\n",
       " ('♡', 7),\n",
       " ('ķ', 7),\n",
       " ('¡', 7),\n",
       " ('ρ', 7),\n",
       " ('«', 7),\n",
       " ('ఞ', 7),\n",
       " ('ן', 7),\n",
       " ('つ', 7),\n",
       " ('ｏ', 7),\n",
       " ('ｙ', 7),\n",
       " ('Ы', 7),\n",
       " ('©', 6),\n",
       " ('Е', 6),\n",
       " ('å', 6),\n",
       " ('ŕ', 6),\n",
       " ('ė', 6),\n",
       " ('𝐞', 6),\n",
       " ('أ', 6),\n",
       " ('ح', 6),\n",
       " ('ѕ', 6),\n",
       " ('ℓ', 6),\n",
       " ('ท', 6),\n",
       " ('ป', 6),\n",
       " ('ม', 6),\n",
       " ('ɐ', 6),\n",
       " ('ʍ', 6),\n",
       " ('ｖ', 6),\n",
       " ('𝖓', 6),\n",
       " ('𝖎', 6),\n",
       " ('𝖔', 6),\n",
       " ('𝖆', 6),\n",
       " ('א', 6),\n",
       " ('ё', 5),\n",
       " ('Ø', 5),\n",
       " ('æ', 5),\n",
       " ('Х', 5),\n",
       " ('ā', 5),\n",
       " ('⭐', 5),\n",
       " ('π', 5),\n",
       " ('ν', 5),\n",
       " ('★', 5),\n",
       " ('»', 5),\n",
       " ('Ò', 5),\n",
       " ('آ', 5),\n",
       " ('ٱ', 5),\n",
       " ('ص', 5),\n",
       " ('ج', 5),\n",
       " ('ω', 5),\n",
       " ('ด', 5),\n",
       " ('เ', 5),\n",
       " ('â', 5),\n",
       " ('ç', 5),\n",
       " ('Ш', 5),\n",
       " ('𝖟', 5),\n",
       " ('𝖊', 5),\n",
       " ('ɛ', 5),\n",
       " ('ɑ', 5),\n",
       " ('Δ', 5),\n",
       " ('ī', 4),\n",
       " ('✌', 4),\n",
       " ('➕', 4),\n",
       " ('͜', 4),\n",
       " ('η', 4),\n",
       " ('ε', 4),\n",
       " ('ř', 4),\n",
       " ('đ', 4),\n",
       " ('𝐭', 4),\n",
       " ('𝐨', 4),\n",
       " ('خ', 4),\n",
       " ('ـ', 4),\n",
       " ('ผ', 4),\n",
       " ('ɹ', 4),\n",
       " ('ʇ', 4),\n",
       " ('ｐ', 4),\n",
       " ('ም', 4),\n",
       " ('ን', 4),\n",
       " ('ደ', 4),\n",
       " ('ᴺ', 4),\n",
       " ('ᵍ', 4),\n",
       " ('ᵈ', 4),\n",
       " ('ʲ', 4),\n",
       " ('ᵗ', 4),\n",
       " ('ʳ', 4),\n",
       " ('ʰ', 4),\n",
       " ('ᵐ', 4),\n",
       " ('ʘ', 4),\n",
       " ('𝖘', 4),\n",
       " ('𝖒', 4),\n",
       " ('ヮ', 4),\n",
       " ('な', 4),\n",
       " ('ם', 4),\n",
       " ('ת', 4),\n",
       " ('Ķ', 3),\n",
       " ('ã', 3),\n",
       " ('Ч', 3),\n",
       " ('ť', 3),\n",
       " ('☹', 3),\n",
       " ('÷', 3),\n",
       " ('ù', 3),\n",
       " ('ľ', 3),\n",
       " ('ο', 3),\n",
       " ('κ', 3),\n",
       " ('·', 3),\n",
       " ('ĸ', 3),\n",
       " ('™', 3),\n",
       " ('Ü', 3),\n",
       " ('→', 3),\n",
       " ('𝐫', 3),\n",
       " ('ى', 3),\n",
       " ('د', 3),\n",
       " ('ไ', 3),\n",
       " ('ส', 3),\n",
       " ('ข', 3),\n",
       " ('ɔ', 3),\n",
       " ('二', 3),\n",
       " ('ŝ', 3),\n",
       " ('Й', 3),\n",
       " ('ﾟ', 3),\n",
       " ('の', 3),\n",
       " ('ለ', 3),\n",
       " ('ል', 3),\n",
       " ('𝖉', 3),\n",
       " ('𝖞', 3),\n",
       " ('𝖌', 3),\n",
       " ('ě', 3),\n",
       " ('い', 3),\n",
       " ('う', 3),\n",
       " ('ツ', 3),\n",
       " ('ה', 3),\n",
       " ('ז', 3),\n",
       " ('נ', 3),\n",
       " ('מ', 3),\n",
       " ('ʝ', 3),\n",
       " ('ѳ', 3),\n",
       " ('Ҝ', 3),\n",
       " ('Ψ', 3),\n",
       " ('Ω', 3),\n",
       " ('\\uf04a', 2),\n",
       " ('Ж', 2),\n",
       " ('ú', 2),\n",
       " ('γ', 2),\n",
       " ('ή', 2),\n",
       " ('έ', 2),\n",
       " ('τ', 2),\n",
       " ('λ', 2),\n",
       " ('ᶏ', 2),\n",
       " ('œ', 2),\n",
       " ('、', 2),\n",
       " ('ō', 2),\n",
       " ('☆', 2),\n",
       " ('\\u202a', 2),\n",
       " ('\\u200e', 2),\n",
       " ('\\u202c', 2),\n",
       " ('ģ', 2),\n",
       " ('¨', 2),\n",
       " ('´', 2),\n",
       " ('―', 2),\n",
       " ('𝐧', 2),\n",
       " ('𝐟', 2),\n",
       " ('ఝ', 2),\n",
       " ('ట', 2),\n",
       " ('ఠ', 2),\n",
       " ('ఛ', 2),\n",
       " ('Ì', 2),\n",
       " ('ะ', 2),\n",
       " ('ณ', 2),\n",
       " ('ᕗ', 2),\n",
       " ('ɾ', 2),\n",
       " ('ɯ', 2),\n",
       " ('Ä', 2),\n",
       " ('我', 2),\n",
       " ('Ｙ', 2),\n",
       " ('口', 2),\n",
       " ('ｗ', 2),\n",
       " ('謝', 2),\n",
       " ('ತ', 2),\n",
       " ('ū', 2),\n",
       " ('ሰ', 2),\n",
       " ('እ', 2),\n",
       " ('አ', 2),\n",
       " ('ማ', 2),\n",
       " ('ገ', 2),\n",
       " ('づ', 2),\n",
       " ('ʞ', 2),\n",
       " ('ፈ', 2),\n",
       " ('ጀ', 2),\n",
       " ('ሀ', 2),\n",
       " ('ከ', 2),\n",
       " ('𝖚', 2),\n",
       " ('𝖏', 2),\n",
       " ('ㅠ', 2),\n",
       " ('人', 2),\n",
       " ('것', 2),\n",
       " ('私', 2),\n",
       " ('は', 2),\n",
       " ('を', 2),\n",
       " ('っ', 2),\n",
       " ('て', 2),\n",
       " ('が', 2),\n",
       " ('彼', 2),\n",
       " ('女', 2),\n",
       " ('φ', 2),\n",
       " ('一', 2),\n",
       " ('É', 2),\n",
       " ('Š', 2),\n",
       " ('ϟ', 2),\n",
       " ('Ď', 2),\n",
       " ('ש', 2),\n",
       " ('פ', 2),\n",
       " ('ח', 2),\n",
       " ('ר', 2),\n",
       " ('个', 2),\n",
       " ('ɳ', 2),\n",
       " ('ɱ', 2),\n",
       " ('ʆ', 2),\n",
       " ('ﾉ', 2),\n",
       " ('º', 2),\n",
       " ('ψ', 2),\n",
       " ('ʹ', 2),\n",
       " ('õ', 1),\n",
       " ('Ĺ', 1),\n",
       " ('ξ', 1),\n",
       " ('ύ', 1),\n",
       " ('ά', 1),\n",
       " ('μ', 1),\n",
       " ('ϊ', 1),\n",
       " ('ό', 1),\n",
       " ('¶', 1),\n",
       " ('❗', 1),\n",
       " ('♣', 1),\n",
       " ('✔', 1),\n",
       " ('Ŝ', 1),\n",
       " ('¿', 1),\n",
       " ('\\uf04c', 1),\n",
       " ('µ', 1),\n",
       " ('ð', 1),\n",
       " ('∑', 1),\n",
       " ('³', 1),\n",
       " ('⏰', 1),\n",
       " ('ŋ', 1),\n",
       " ('₩', 1),\n",
       " ('\\uf0a7', 1),\n",
       " ('Ľ', 1),\n",
       " ('☞', 1),\n",
       " ('ဠ', 1),\n",
       " ('№', 1),\n",
       " ('》', 1),\n",
       " ('𝐄', 1),\n",
       " ('𝐡', 1),\n",
       " ('𝐜', 1),\n",
       " ('𝐝', 1),\n",
       " ('𝐠', 1),\n",
       " ('𝟓', 1),\n",
       " ('𝟎', 1),\n",
       " ('Ö', 1),\n",
       " ('إ', 1),\n",
       " ('ء', 1),\n",
       " ('ٲ', 1),\n",
       " ('ہ', 1),\n",
       " ('ۦ', 1),\n",
       " ('ş', 1),\n",
       " ('చ', 1),\n",
       " ('ғ', 1),\n",
       " ('ถ', 1),\n",
       " ('แ', 1),\n",
       " ('ใ', 1),\n",
       " ('ภ', 1),\n",
       " ('Ŕ', 1),\n",
       " ('ว', 1),\n",
       " ('จ', 1),\n",
       " ('โ', 1),\n",
       " ('ษ', 1),\n",
       " ('ᕕ', 1),\n",
       " ('ᐛ', 1),\n",
       " ('ƃ', 1),\n",
       " ('ʎ', 1),\n",
       " ('上', 1),\n",
       " ('帝', 1),\n",
       " ('的', 1),\n",
       " ('母', 1),\n",
       " ('親', 1),\n",
       " ('想', 1),\n",
       " ('開', 1),\n",
       " ('始', 1),\n",
       " ('說', 1),\n",
       " ('中', 1),\n",
       " ('國', 1),\n",
       " ('話', 1),\n",
       " ('ﾖ', 1),\n",
       " ('ă', 1),\n",
       " ('ï', 1),\n",
       " ('Ь', 1),\n",
       " ('Ž', 1),\n",
       " ('ಎ', 1),\n",
       " ('ᗝ', 1),\n",
       " ('ዎ', 1),\n",
       " ('ች', 1),\n",
       " ('ኔ', 1),\n",
       " ('ኝ', 1),\n",
       " ('ክ', 1),\n",
       " ('ያ', 1),\n",
       " ('ቱ', 1),\n",
       " ('ወ', 1),\n",
       " ('ጎ', 1),\n",
       " ('ጥ', 1),\n",
       " ('ና', 1),\n",
       " ('ት', 1),\n",
       " ('ኛ', 1),\n",
       " ('ᖗ', 1),\n",
       " ('ᖘ', 1),\n",
       " ('Č', 1),\n",
       " ('ዱ', 1),\n",
       " ('ቸ', 1),\n",
       " ('ዳ', 1),\n",
       " ('ነ', 1),\n",
       " ('በ', 1),\n",
       " ('ፋ', 1),\n",
       " ('ሱ', 1),\n",
       " ('ካ', 1),\n",
       " ('ز', 1),\n",
       " ('ض', 1),\n",
       " ('𝖂', 1),\n",
       " ('𝖋', 1),\n",
       " ('𝖈', 1),\n",
       " ('𝖑', 1),\n",
       " ('𝖍', 1),\n",
       " ('𝖗', 1),\n",
       " ('𝖜', 1),\n",
       " ('ů', 1),\n",
       " ('내', 1),\n",
       " ('가', 1),\n",
       " ('그', 1),\n",
       " ('을', 1),\n",
       " ('보', 1),\n",
       " ('고', 1),\n",
       " ('나', 1),\n",
       " ('는', 1),\n",
       " ('당', 1),\n",
       " ('신', 1),\n",
       " ('이', 1),\n",
       " ('폭', 1),\n",
       " ('격', 1),\n",
       " ('할', 1),\n",
       " ('입', 1),\n",
       " ('니', 1),\n",
       " ('다', 1),\n",
       " ('Ｉ', 1),\n",
       " ('迅', 1),\n",
       " ('速', 1),\n",
       " ('軽', 1),\n",
       " ('快', 1),\n",
       " ('指', 1),\n",
       " ('持', 1),\n",
       " ('る', 1),\n",
       " ('フ', 1),\n",
       " ('ク', 1),\n",
       " ('ロ', 1),\n",
       " ('ウ', 1),\n",
       " ('で', 1),\n",
       " ('入', 1),\n",
       " ('れ', 1),\n",
       " ('だ', 1),\n",
       " ('ろ', 1),\n",
       " ('È', 1),\n",
       " ('χ', 1),\n",
       " ('ί', 1),\n",
       " ('ζ', 1),\n",
       " ('ē', 1),\n",
       " ('ᕙ', 1),\n",
       " ('不', 1),\n",
       " ('是', 1),\n",
       " ('因', 1),\n",
       " ('為', 1),\n",
       " ('你', 1),\n",
       " ('把', 1),\n",
       " ('隻', 1),\n",
       " ('貓', 1),\n",
       " ('採', 1),\n",
       " ('取', 1),\n",
       " ('關', 1),\n",
       " ('注', 1),\n",
       " ('Ｕ', 1),\n",
       " ('ד', 1),\n",
       " ('ט', 1),\n",
       " ('ב', 1),\n",
       " ('כ', 1),\n",
       " ('ס', 1),\n",
       " ('ɦ', 1),\n",
       " ('ɓ', 1),\n",
       " ('ê', 1),\n",
       " ('Σ', 1),\n",
       " ('Π', 1),\n",
       " ('β', 1),\n",
       " ('あ', 1),\n",
       " ('り', 1),\n",
       " ('と', 1),\n",
       " ('さ', 1),\n",
       " ('よ', 1),\n",
       " ('ら', 1),\n",
       " ('À', 1),\n",
       " ('Â', 1),\n",
       " ('๑', 1),\n",
       " ('ᴗ', 1),\n",
       " ('ゞ', 1),\n",
       " ('ק', 1),\n",
       " ('û', 1),\n",
       " ('غ', 1),\n",
       " ('ط', 1)]"
      ]
     },
     "execution_count": 9,
     "metadata": {},
     "output_type": "execute_result"
    }
   ],
   "source": [
    "sorted(letters_dict.items(), key=lambda i: i[1], reverse=True)"
   ]
  },
  {
   "cell_type": "code",
   "execution_count": null,
   "id": "0953ba94",
   "metadata": {},
   "outputs": [],
   "source": [
    "# todo: \\r, \\n, \\xa0 to space"
   ]
  },
  {
   "cell_type": "markdown",
   "id": "51aab449",
   "metadata": {},
   "source": [
    "## filter alpha num and punctuation"
   ]
  },
  {
   "cell_type": "code",
   "execution_count": 22,
   "id": "4421712c",
   "metadata": {
    "ExecuteTime": {
     "end_time": "2021-10-24T22:15:01.283915Z",
     "start_time": "2021-10-24T22:15:01.262554Z"
    }
   },
   "outputs": [],
   "source": [
    "a = '257 najlepszy moment ψψ'\n",
    "b = 'اغلاق الكلبة العربي يمارس الجنس مع ما يصل'\n",
    "c = \"stara ''sowiecka szkola'' zaczynam sie zastanawiac czy mozna by ich legalnie zdelegalizowac ?\"\n",
    "d = 'Dobrze. Szkoda, że InPost nie precyzuje co oznacza, że dostarcza przesyłkę \"OD RANA\"'\n",
    "e = '  asd  asd  '\n",
    "f = 'łączńie ćma grzegżźółka'\n",
    "g = 'Bardzo przyjazny klientom sklep. \\\\Realizuje, wszystkie zamówienai: takie - takie '\n",
    "h = 'Szanowni Państwo, ODRADZAM !!!\\r\\r\\r\\n\\r\\r\\r\\n'\n",
    "i = 'Szanowni Państwo,\\r\\r\\r\\n\\r\\r\\r\\n ODRADZAM !!!'\n",
    "j = 'what???????!!!!!!!!!'\n",
    "\n",
    "tt = [a,b,c,d,e,f,g,h,i,j]"
   ]
  },
  {
   "cell_type": "code",
   "execution_count": 25,
   "id": "0fb8cb0e",
   "metadata": {
    "ExecuteTime": {
     "end_time": "2021-10-24T22:15:40.325398Z",
     "start_time": "2021-10-24T22:15:40.310214Z"
    }
   },
   "outputs": [
    {
     "name": "stdout",
     "output_type": "stream",
     "text": [
      "len: 20|257 najlepszy moment|\n",
      "len: 0||\n",
      "len: 93|stara ''sowiecka szkola'' zaczynam sie zastanawiac czy mozna by ich legalnie zdelegalizowac ?|\n",
      "len: 84|Dobrze. Szkoda, że InPost nie precyzuje co oznacza, że dostarcza przesyłkę \"OD RANA\"|\n",
      "len: 7|asd asd|\n",
      "len: 23|łączńie ćma grzegżźółka|\n",
      "len: 78|Bardzo przyjazny klientom sklep. Realizuje, wszystkie zamówienai takie - takie|\n",
      "len: 30|Szanowni Państwo, ODRADZAM !!!|\n",
      "len: 30|Szanowni Państwo, ODRADZAM !!!|\n",
      "len: 20|what???????!!!!!!!!!|\n"
     ]
    }
   ],
   "source": [
    "\n",
    "\n",
    "for s in tt:\n",
    "    c = re.sub(special, ' ', s)\n",
    "    c = re.sub(alpha, '', c)\n",
    "    c = re.sub('\\s+', ' ', c)\n",
    "    c = c.strip()\n",
    "    print(f\"len: {len(c)}|{c}|\")"
   ]
  },
  {
   "cell_type": "markdown",
   "id": "8e112b14",
   "metadata": {},
   "source": [
    "# load preprocessed pickle"
   ]
  },
  {
   "cell_type": "code",
   "execution_count": 3,
   "id": "07459780",
   "metadata": {
    "ExecuteTime": {
     "end_time": "2022-01-06T07:06:27.435348Z",
     "start_time": "2022-01-06T07:06:23.159929Z"
    }
   },
   "outputs": [],
   "source": [
    "df_prepro = PickleLoader().load()"
   ]
  },
  {
   "cell_type": "code",
   "execution_count": 4,
   "id": "693f17e7",
   "metadata": {
    "ExecuteTime": {
     "end_time": "2022-01-06T07:06:30.280053Z",
     "start_time": "2022-01-06T07:06:30.256377Z"
    }
   },
   "outputs": [
    {
     "data": {
      "text/plain": [
       "(917525, 8)"
      ]
     },
     "execution_count": 4,
     "metadata": {},
     "output_type": "execute_result"
    }
   ],
   "source": [
    "df_prepro.shape"
   ]
  },
  {
   "cell_type": "code",
   "execution_count": 5,
   "id": "032d81e9",
   "metadata": {
    "ExecuteTime": {
     "end_time": "2022-01-06T07:06:31.187300Z",
     "start_time": "2022-01-06T07:06:31.169071Z"
    }
   },
   "outputs": [
    {
     "data": {
      "text/plain": [
       "pandas.core.frame.DataFrame"
      ]
     },
     "execution_count": 5,
     "metadata": {},
     "output_type": "execute_result"
    }
   ],
   "source": [
    "type(df_prepro)"
   ]
  },
  {
   "cell_type": "code",
   "execution_count": 6,
   "id": "7ad23a9b",
   "metadata": {
    "ExecuteTime": {
     "end_time": "2022-01-06T07:07:51.703973Z",
     "start_time": "2022-01-06T07:07:51.162812Z"
    }
   },
   "outputs": [
    {
     "data": {
      "text/html": [
       "<div>\n",
       "<style scoped>\n",
       "    .dataframe tbody tr th:only-of-type {\n",
       "        vertical-align: middle;\n",
       "    }\n",
       "\n",
       "    .dataframe tbody tr th {\n",
       "        vertical-align: top;\n",
       "    }\n",
       "\n",
       "    .dataframe thead th {\n",
       "        text-align: right;\n",
       "    }\n",
       "</style>\n",
       "<table border=\"1\" class=\"dataframe\">\n",
       "  <thead>\n",
       "    <tr style=\"text-align: right;\">\n",
       "      <th></th>\n",
       "      <th>desc</th>\n",
       "      <th>len</th>\n",
       "      <th>negative</th>\n",
       "      <th>desc_clean</th>\n",
       "      <th>len_clean</th>\n",
       "      <th>len_clean_ratio</th>\n",
       "      <th>tokens</th>\n",
       "      <th>tokens_len</th>\n",
       "    </tr>\n",
       "  </thead>\n",
       "  <tbody>\n",
       "    <tr>\n",
       "      <th>0</th>\n",
       "      <td>Polecam nie pierwszy i nie ostatni raz!</td>\n",
       "      <td>39</td>\n",
       "      <td>0.0</td>\n",
       "      <td>polecam nie pierwszy i nie ostatni raz</td>\n",
       "      <td>38</td>\n",
       "      <td>0.974359</td>\n",
       "      <td>[polecam, nie, pierwszy, i, nie, ostatni, raz]</td>\n",
       "      <td>7</td>\n",
       "    </tr>\n",
       "    <tr>\n",
       "      <th>1</th>\n",
       "      <td>Bardzo dobra komunikacja sms i telefoniczna. Z...</td>\n",
       "      <td>121</td>\n",
       "      <td>0.0</td>\n",
       "      <td>bardzo dobra komunikacja sms i telefoniczna za...</td>\n",
       "      <td>117</td>\n",
       "      <td>0.966942</td>\n",
       "      <td>[bardzo, dobra, komunikacja, sms, i, telefonic...</td>\n",
       "      <td>16</td>\n",
       "    </tr>\n",
       "    <tr>\n",
       "      <th>2</th>\n",
       "      <td>Polecam zakupy w tym sklepie. Są dostępne częś...</td>\n",
       "      <td>87</td>\n",
       "      <td>0.0</td>\n",
       "      <td>polecam zakupy w tym sklepie są dostępne częśc...</td>\n",
       "      <td>84</td>\n",
       "      <td>0.965517</td>\n",
       "      <td>[polecam, zakupy, w, tym, sklepie, są, dostępn...</td>\n",
       "      <td>14</td>\n",
       "    </tr>\n",
       "    <tr>\n",
       "      <th>3</th>\n",
       "      <td>Jestem w pełni zadowolona z przebiegu transakcji</td>\n",
       "      <td>48</td>\n",
       "      <td>0.0</td>\n",
       "      <td>jestem w pełni zadowolona z przebiegu transakcji</td>\n",
       "      <td>48</td>\n",
       "      <td>1.000000</td>\n",
       "      <td>[jestem, w, pełni, zadowolona, z, przebiegu, t...</td>\n",
       "      <td>7</td>\n",
       "    </tr>\n",
       "    <tr>\n",
       "      <th>4</th>\n",
       "      <td>Transakcja przebiegła błyskawicznie. Pełen pro...</td>\n",
       "      <td>86</td>\n",
       "      <td>0.0</td>\n",
       "      <td>transakcja przebiegła błyskawicznie pełen prof...</td>\n",
       "      <td>84</td>\n",
       "      <td>0.976744</td>\n",
       "      <td>[transakcja, przebiegła, błyskawicznie, pełen,...</td>\n",
       "      <td>9</td>\n",
       "    </tr>\n",
       "  </tbody>\n",
       "</table>\n",
       "</div>"
      ],
      "text/plain": [
       "                                                desc  len  negative  \\\n",
       "0            Polecam nie pierwszy i nie ostatni raz!   39       0.0   \n",
       "1  Bardzo dobra komunikacja sms i telefoniczna. Z...  121       0.0   \n",
       "2  Polecam zakupy w tym sklepie. Są dostępne częś...   87       0.0   \n",
       "3   Jestem w pełni zadowolona z przebiegu transakcji   48       0.0   \n",
       "4  Transakcja przebiegła błyskawicznie. Pełen pro...   86       0.0   \n",
       "\n",
       "                                          desc_clean  len_clean  \\\n",
       "0             polecam nie pierwszy i nie ostatni raz         38   \n",
       "1  bardzo dobra komunikacja sms i telefoniczna za...        117   \n",
       "2  polecam zakupy w tym sklepie są dostępne częśc...         84   \n",
       "3   jestem w pełni zadowolona z przebiegu transakcji         48   \n",
       "4  transakcja przebiegła błyskawicznie pełen prof...         84   \n",
       "\n",
       "   len_clean_ratio                                             tokens  \\\n",
       "0         0.974359     [polecam, nie, pierwszy, i, nie, ostatni, raz]   \n",
       "1         0.966942  [bardzo, dobra, komunikacja, sms, i, telefonic...   \n",
       "2         0.965517  [polecam, zakupy, w, tym, sklepie, są, dostępn...   \n",
       "3         1.000000  [jestem, w, pełni, zadowolona, z, przebiegu, t...   \n",
       "4         0.976744  [transakcja, przebiegła, błyskawicznie, pełen,...   \n",
       "\n",
       "   tokens_len  \n",
       "0           7  \n",
       "1          16  \n",
       "2          14  \n",
       "3           7  \n",
       "4           9  "
      ]
     },
     "execution_count": 6,
     "metadata": {},
     "output_type": "execute_result"
    }
   ],
   "source": [
    "df_prepro.head()"
   ]
  },
  {
   "cell_type": "code",
   "execution_count": 9,
   "id": "b3e145ff",
   "metadata": {
    "ExecuteTime": {
     "end_time": "2022-01-06T07:09:28.681027Z",
     "start_time": "2022-01-06T07:09:28.666036Z"
    }
   },
   "outputs": [
    {
     "data": {
      "text/plain": [
       "0.0    734229\n",
       "1.0    183296\n",
       "Name: negative, dtype: int64"
      ]
     },
     "execution_count": 9,
     "metadata": {},
     "output_type": "execute_result"
    }
   ],
   "source": [
    "df_prepro['negative'].value_counts(dropna=False)"
   ]
  },
  {
   "cell_type": "code",
   "execution_count": 8,
   "id": "d7947f78",
   "metadata": {
    "ExecuteTime": {
     "end_time": "2022-01-06T07:09:17.775458Z",
     "start_time": "2022-01-06T07:09:17.758540Z"
    }
   },
   "outputs": [
    {
     "data": {
      "text/plain": [
       "0.0    0.800228\n",
       "1.0    0.199772\n",
       "Name: negative, dtype: float64"
      ]
     },
     "execution_count": 8,
     "metadata": {},
     "output_type": "execute_result"
    }
   ],
   "source": [
    "df_prepro['negative'].value_counts(dropna=False)/len(df_prepro)"
   ]
  },
  {
   "cell_type": "markdown",
   "id": "fc36c5c2",
   "metadata": {},
   "source": [
    "# modeling"
   ]
  },
  {
   "cell_type": "markdown",
   "id": "62107800",
   "metadata": {},
   "source": [
    "## creating dictionaty"
   ]
  },
  {
   "cell_type": "code",
   "execution_count": 289,
   "id": "602d5a5a",
   "metadata": {
    "ExecuteTime": {
     "end_time": "2021-10-25T01:48:37.204946Z",
     "start_time": "2021-10-25T01:48:37.190981Z"
    }
   },
   "outputs": [],
   "source": [
    "import gensim\n",
    "from gensim import corpora, models"
   ]
  },
  {
   "cell_type": "code",
   "execution_count": 276,
   "id": "b9524c3c",
   "metadata": {
    "ExecuteTime": {
     "end_time": "2021-10-25T01:37:04.990197Z",
     "start_time": "2021-10-25T01:36:50.687856Z"
    }
   },
   "outputs": [],
   "source": [
    "# Create dictionary\n",
    "dictionary = corpora.Dictionary(data['tokens'])"
   ]
  },
  {
   "cell_type": "code",
   "execution_count": 319,
   "id": "96970e15",
   "metadata": {
    "ExecuteTime": {
     "end_time": "2021-10-25T02:01:03.304522Z",
     "start_time": "2021-10-25T02:01:03.284764Z"
    }
   },
   "outputs": [
    {
     "name": "stdout",
     "output_type": "stream",
     "text": [
      "unique tokens count: 260521\n"
     ]
    }
   ],
   "source": [
    "print(f\"unique tokens count: {len(dictionary)}\")"
   ]
  },
  {
   "cell_type": "code",
   "execution_count": 287,
   "id": "43c05ca7",
   "metadata": {
    "ExecuteTime": {
     "end_time": "2021-10-25T01:47:56.187123Z",
     "start_time": "2021-10-25T01:47:45.457771Z"
    }
   },
   "outputs": [],
   "source": [
    "corpus = [dictionary.doc2bow(tokens) for tokens in data['tokens']]\n",
    "tfidf = models.TfidfModel(corpus, smartirs='ntc')"
   ]
  },
  {
   "cell_type": "code",
   "execution_count": 294,
   "id": "0192a2bb",
   "metadata": {
    "ExecuteTime": {
     "end_time": "2021-10-25T01:49:43.341389Z",
     "start_time": "2021-10-25T01:49:43.322892Z"
    }
   },
   "outputs": [
    {
     "data": {
      "text/plain": [
       "[(0, 1), (1, 2), (2, 1), (3, 1), (4, 1), (5, 1)]"
      ]
     },
     "execution_count": 294,
     "metadata": {},
     "output_type": "execute_result"
    }
   ],
   "source": [
    "corpus[0]"
   ]
  },
  {
   "cell_type": "code",
   "execution_count": 310,
   "id": "991fcde8",
   "metadata": {
    "ExecuteTime": {
     "end_time": "2021-10-25T01:59:06.923831Z",
     "start_time": "2021-10-25T01:59:06.907742Z"
    }
   },
   "outputs": [
    {
     "data": {
      "text/plain": [
       "[(0, 0.11502465340007656),\n",
       " (1, 0.4447199823065697),\n",
       " (2, 0.6162766796694312),\n",
       " (3, 0.49247428983038594),\n",
       " (4, 0.11888695562762791),\n",
       " (5, 0.3905527956380666)]"
      ]
     },
     "execution_count": 310,
     "metadata": {},
     "output_type": "execute_result"
    }
   ],
   "source": [
    "tfidf[corpus][0]"
   ]
  },
  {
   "cell_type": "code",
   "execution_count": 315,
   "id": "7aceed4a",
   "metadata": {
    "ExecuteTime": {
     "end_time": "2021-10-25T02:00:03.885919Z",
     "start_time": "2021-10-25T02:00:03.870285Z"
    }
   },
   "outputs": [
    {
     "data": {
      "text/plain": [
       "[('i', 0.11502465340007656),\n",
       " ('nie', 0.4447199823065697),\n",
       " ('ostatni', 0.6162766796694312),\n",
       " ('pierwszy', 0.49247428983038594),\n",
       " ('polecam', 0.11888695562762791),\n",
       " ('raz', 0.3905527956380666)]"
      ]
     },
     "execution_count": 315,
     "metadata": {},
     "output_type": "execute_result"
    }
   ],
   "source": [
    "[(dictionary[tok_id], tok_freq) for tok_id, tok_freq in tfidf[corpus][0]]"
   ]
  },
  {
   "cell_type": "code",
   "execution_count": 316,
   "id": "bb4f2744",
   "metadata": {
    "ExecuteTime": {
     "end_time": "2021-10-25T02:00:11.189899Z",
     "start_time": "2021-10-25T02:00:11.172650Z"
    }
   },
   "outputs": [
    {
     "data": {
      "text/plain": [
       "[('i', 0.060944159953105696),\n",
       " ('polecam', 0.06299054529559758),\n",
       " ('bardzo', 0.08280210917801677),\n",
       " ('dobra', 0.20322288487180415),\n",
       " ('dobrze', 0.19508840777884015),\n",
       " ('komunikacja', 0.3317832424818046),\n",
       " ('sklep', 0.11649578839171103),\n",
       " ('sms', 0.3497153161337092),\n",
       " ('telefoniczna', 0.39583410968622923),\n",
       " ('ten', 0.20909075076732328),\n",
       " ('terminie', 0.3069124397146287),\n",
       " ('towar', 0.1416645550082417),\n",
       " ('w', 0.07953541854259781),\n",
       " ('wysłany', 0.3676203764967229),\n",
       " ('zabezpieczony', 0.3259806243987228),\n",
       " ('zamówiony', 0.31264824437629013)]"
      ]
     },
     "execution_count": 316,
     "metadata": {},
     "output_type": "execute_result"
    }
   ],
   "source": [
    "[(dictionary[tok_id], tok_freq) for tok_id, tok_freq in tfidf[corpus][1]]"
   ]
  },
  {
   "cell_type": "markdown",
   "id": "c03a983d",
   "metadata": {},
   "source": [
    "## w2v"
   ]
  },
  {
   "cell_type": "code",
   "execution_count": 3,
   "id": "aae06982",
   "metadata": {
    "ExecuteTime": {
     "end_time": "2021-10-25T02:12:13.960112Z",
     "start_time": "2021-10-25T02:12:08.125762Z"
    }
   },
   "outputs": [],
   "source": [
    "with open('./data/data_preproc.pkl', 'rb') as f:\n",
    "    data = pickle.load(f)"
   ]
  },
  {
   "cell_type": "code",
   "execution_count": 33,
   "id": "3bc7b503",
   "metadata": {
    "ExecuteTime": {
     "end_time": "2022-01-06T07:36:18.580632Z",
     "start_time": "2022-01-06T07:36:18.564877Z"
    }
   },
   "outputs": [
    {
     "data": {
      "text/html": [
       "<div>\n",
       "<style scoped>\n",
       "    .dataframe tbody tr th:only-of-type {\n",
       "        vertical-align: middle;\n",
       "    }\n",
       "\n",
       "    .dataframe tbody tr th {\n",
       "        vertical-align: top;\n",
       "    }\n",
       "\n",
       "    .dataframe thead th {\n",
       "        text-align: right;\n",
       "    }\n",
       "</style>\n",
       "<table border=\"1\" class=\"dataframe\">\n",
       "  <thead>\n",
       "    <tr style=\"text-align: right;\">\n",
       "      <th></th>\n",
       "      <th>desc</th>\n",
       "      <th>len</th>\n",
       "      <th>negative</th>\n",
       "      <th>desc_clean</th>\n",
       "      <th>len_clean</th>\n",
       "      <th>len_clean_ratio</th>\n",
       "      <th>tokens</th>\n",
       "      <th>tokens_len</th>\n",
       "    </tr>\n",
       "  </thead>\n",
       "  <tbody>\n",
       "    <tr>\n",
       "      <th>0</th>\n",
       "      <td>Polecam nie pierwszy i nie ostatni raz!</td>\n",
       "      <td>39</td>\n",
       "      <td>0.0</td>\n",
       "      <td>polecam nie pierwszy i nie ostatni raz</td>\n",
       "      <td>38</td>\n",
       "      <td>0.974359</td>\n",
       "      <td>[polecam, nie, pierwszy, i, nie, ostatni, raz]</td>\n",
       "      <td>7</td>\n",
       "    </tr>\n",
       "    <tr>\n",
       "      <th>1</th>\n",
       "      <td>Bardzo dobra komunikacja sms i telefoniczna. Z...</td>\n",
       "      <td>121</td>\n",
       "      <td>0.0</td>\n",
       "      <td>bardzo dobra komunikacja sms i telefoniczna za...</td>\n",
       "      <td>117</td>\n",
       "      <td>0.966942</td>\n",
       "      <td>[bardzo, dobra, komunikacja, sms, i, telefonic...</td>\n",
       "      <td>16</td>\n",
       "    </tr>\n",
       "    <tr>\n",
       "      <th>2</th>\n",
       "      <td>Polecam zakupy w tym sklepie. Są dostępne częś...</td>\n",
       "      <td>87</td>\n",
       "      <td>0.0</td>\n",
       "      <td>polecam zakupy w tym sklepie są dostępne częśc...</td>\n",
       "      <td>84</td>\n",
       "      <td>0.965517</td>\n",
       "      <td>[polecam, zakupy, w, tym, sklepie, są, dostępn...</td>\n",
       "      <td>14</td>\n",
       "    </tr>\n",
       "    <tr>\n",
       "      <th>3</th>\n",
       "      <td>Jestem w pełni zadowolona z przebiegu transakcji</td>\n",
       "      <td>48</td>\n",
       "      <td>0.0</td>\n",
       "      <td>jestem w pełni zadowolona z przebiegu transakcji</td>\n",
       "      <td>48</td>\n",
       "      <td>1.000000</td>\n",
       "      <td>[jestem, w, pełni, zadowolona, z, przebiegu, t...</td>\n",
       "      <td>7</td>\n",
       "    </tr>\n",
       "    <tr>\n",
       "      <th>4</th>\n",
       "      <td>Transakcja przebiegła błyskawicznie. Pełen pro...</td>\n",
       "      <td>86</td>\n",
       "      <td>0.0</td>\n",
       "      <td>transakcja przebiegła błyskawicznie pełen prof...</td>\n",
       "      <td>84</td>\n",
       "      <td>0.976744</td>\n",
       "      <td>[transakcja, przebiegła, błyskawicznie, pełen,...</td>\n",
       "      <td>9</td>\n",
       "    </tr>\n",
       "  </tbody>\n",
       "</table>\n",
       "</div>"
      ],
      "text/plain": [
       "                                                desc  len  negative  \\\n",
       "0            Polecam nie pierwszy i nie ostatni raz!   39       0.0   \n",
       "1  Bardzo dobra komunikacja sms i telefoniczna. Z...  121       0.0   \n",
       "2  Polecam zakupy w tym sklepie. Są dostępne częś...   87       0.0   \n",
       "3   Jestem w pełni zadowolona z przebiegu transakcji   48       0.0   \n",
       "4  Transakcja przebiegła błyskawicznie. Pełen pro...   86       0.0   \n",
       "\n",
       "                                          desc_clean  len_clean  \\\n",
       "0             polecam nie pierwszy i nie ostatni raz         38   \n",
       "1  bardzo dobra komunikacja sms i telefoniczna za...        117   \n",
       "2  polecam zakupy w tym sklepie są dostępne częśc...         84   \n",
       "3   jestem w pełni zadowolona z przebiegu transakcji         48   \n",
       "4  transakcja przebiegła błyskawicznie pełen prof...         84   \n",
       "\n",
       "   len_clean_ratio                                             tokens  \\\n",
       "0         0.974359     [polecam, nie, pierwszy, i, nie, ostatni, raz]   \n",
       "1         0.966942  [bardzo, dobra, komunikacja, sms, i, telefonic...   \n",
       "2         0.965517  [polecam, zakupy, w, tym, sklepie, są, dostępn...   \n",
       "3         1.000000  [jestem, w, pełni, zadowolona, z, przebiegu, t...   \n",
       "4         0.976744  [transakcja, przebiegła, błyskawicznie, pełen,...   \n",
       "\n",
       "   tokens_len  \n",
       "0           7  \n",
       "1          16  \n",
       "2          14  \n",
       "3           7  \n",
       "4           9  "
      ]
     },
     "execution_count": 33,
     "metadata": {},
     "output_type": "execute_result"
    }
   ],
   "source": [
    "df_prepro.head()"
   ]
  },
  {
   "cell_type": "code",
   "execution_count": 11,
   "id": "96595a7e",
   "metadata": {
    "ExecuteTime": {
     "end_time": "2022-01-06T07:12:43.765370Z",
     "start_time": "2022-01-06T07:12:07.070152Z"
    },
    "scrolled": true
   },
   "outputs": [],
   "source": [
    "from gensim.models import Word2Vec\n",
    "\n",
    "model = Word2Vec(sentences=df_prepro['tokens'], vector_size=25, window=5, min_count=1, workers=4)"
   ]
  },
  {
   "cell_type": "code",
   "execution_count": null,
   "id": "d8fb8a52",
   "metadata": {},
   "outputs": [],
   "source": [
    "vector_size=100, alpha=0.025, window=5, min_count=5, max_vocab_size=None, sample=0.001, seed=1, workers=3, min_alpha=0.0001, sg=0, hs=0, negative=5, ns_exponent=0.75, cbow_mean=1, hashfxn=<built-in function hash>, epochs=5, null_word=0, trim_rule=None, sorted_vocab=1, batch_words=10000, compute_loss=False, callbacks=(), comment=None, max_final_vocab=None"
   ]
  },
  {
   "cell_type": "code",
   "execution_count": 59,
   "id": "5e9d25a4",
   "metadata": {
    "ExecuteTime": {
     "end_time": "2022-01-06T07:59:15.360666Z",
     "start_time": "2022-01-06T07:59:15.343699Z"
    }
   },
   "outputs": [
    {
     "data": {
      "text/plain": [
       "30.200581799999554"
      ]
     },
     "execution_count": 59,
     "metadata": {},
     "output_type": "execute_result"
    }
   ],
   "source": [
    "model.total_train_time"
   ]
  },
  {
   "cell_type": "code",
   "execution_count": 61,
   "id": "f2dff4b3",
   "metadata": {
    "ExecuteTime": {
     "end_time": "2022-01-06T08:00:07.311445Z",
     "start_time": "2022-01-06T08:00:07.306457Z"
    }
   },
   "outputs": [
    {
     "data": {
      "text/plain": [
       "260521"
      ]
     },
     "execution_count": 61,
     "metadata": {},
     "output_type": "execute_result"
    }
   ],
   "source": [
    "len(model.wv)"
   ]
  },
  {
   "cell_type": "code",
   "execution_count": 12,
   "id": "0710619e",
   "metadata": {
    "ExecuteTime": {
     "end_time": "2022-01-06T07:13:27.468819Z",
     "start_time": "2022-01-06T07:13:27.185780Z"
    }
   },
   "outputs": [],
   "source": [
    "model.save(\"./models/word2vec.model\")"
   ]
  },
  {
   "cell_type": "code",
   "execution_count": 34,
   "id": "1732143f",
   "metadata": {
    "ExecuteTime": {
     "end_time": "2022-01-06T07:37:34.788941Z",
     "start_time": "2022-01-06T07:37:34.780932Z"
    }
   },
   "outputs": [
    {
     "data": {
      "text/plain": [
       "25"
      ]
     },
     "execution_count": 34,
     "metadata": {},
     "output_type": "execute_result"
    }
   ],
   "source": [
    "model.vector_size"
   ]
  },
  {
   "cell_type": "code",
   "execution_count": 66,
   "id": "8dcc7eaf",
   "metadata": {
    "ExecuteTime": {
     "end_time": "2022-01-06T08:45:47.833911Z",
     "start_time": "2022-01-06T08:45:47.818259Z"
    }
   },
   "outputs": [],
   "source": [
    "def embedding(tokens: List[str], model: Word2Vec):\n",
    "    default_vector = np.zeros(model.vector_size)\n",
    "    vectorized = [model.wv[token] if model.wv.has_index_for(token) else default_vector for token in tokens]\n",
    "\n",
    "    return sum(vectorized)"
   ]
  },
  {
   "cell_type": "code",
   "execution_count": 67,
   "id": "488ca1e8",
   "metadata": {
    "ExecuteTime": {
     "end_time": "2022-01-06T08:45:49.795733Z",
     "start_time": "2022-01-06T08:45:49.780769Z"
    }
   },
   "outputs": [
    {
     "name": "stdout",
     "output_type": "stream",
     "text": [
      "['bardzo', 'dobra', 'komunikacja', 'sms', 'i', 'telefoniczna', 'zamówiony', 'towar', 'wysłany', 'w', 'terminie', 'dobrze', 'zabezpieczony', 'polecam', 'ten', 'sklep']\n",
      "[  4.8277154 -20.816854  -40.588875   25.13431   -46.985847   39.31287\n",
      " -17.758562   -9.39971    -1.4971151  -8.674212   -2.1461108 -35.01652\n",
      "  25.009089    4.180302    6.527063  -16.098515   18.113941   -4.6311374\n",
      "   2.775382  -51.55767     7.317528   -9.7568245  28.08699    51.077797\n",
      "  -4.678748 ]\n"
     ]
    }
   ],
   "source": [
    "n = 1\n",
    "\n",
    "tokens = df_prepro['tokens'][n]\n",
    "embedded = embedding(tokens, model)\n",
    "\n",
    "print(tokens)\n",
    "print(embedded)"
   ]
  },
  {
   "cell_type": "code",
   "execution_count": 71,
   "id": "9eb22e32",
   "metadata": {
    "ExecuteTime": {
     "end_time": "2022-01-06T08:52:15.847675Z",
     "start_time": "2022-01-06T08:52:15.834683Z"
    }
   },
   "outputs": [
    {
     "data": {
      "text/plain": [
       "0    [-7.742761, -0.8335533, -18.440245, 13.978695,...\n",
       "1    [4.8277154, -20.816854, -40.588875, 25.13431, ...\n",
       "2    [-7.3783774, -38.865887, -36.620132, 6.317309,...\n",
       "3    [6.855071, -3.7525244, -38.002502, 13.61569, -...\n",
       "4    [-2.1017966, 2.8222423, -36.00319, 9.413112, -...\n",
       "5    [3.781718, 4.2915516, -28.7852, 9.01951, -18.2...\n",
       "6    [1.1115956, -11.439567, -18.593199, 15.108929,...\n",
       "7    [-2.380371, -1.5085382, -11.687442, -5.230438,...\n",
       "8    [6.2452974, -8.605415, -38.31493, 6.408808, -3...\n",
       "9    [4.0547204, -24.434746, -54.87416, 31.296495, ...\n",
       "Name: tokens, dtype: object"
      ]
     },
     "execution_count": 71,
     "metadata": {},
     "output_type": "execute_result"
    }
   ],
   "source": [
    "df_prepro['tokens'][:10].apply(lambda seq: (embedding(seq, model)))"
   ]
  },
  {
   "cell_type": "code",
   "execution_count": 70,
   "id": "493e2f22",
   "metadata": {
    "ExecuteTime": {
     "end_time": "2022-01-06T08:51:58.654017Z",
     "start_time": "2022-01-06T08:51:58.612911Z"
    }
   },
   "outputs": [
    {
     "data": {
      "text/html": [
       "<div>\n",
       "<style scoped>\n",
       "    .dataframe tbody tr th:only-of-type {\n",
       "        vertical-align: middle;\n",
       "    }\n",
       "\n",
       "    .dataframe tbody tr th {\n",
       "        vertical-align: top;\n",
       "    }\n",
       "\n",
       "    .dataframe thead th {\n",
       "        text-align: right;\n",
       "    }\n",
       "</style>\n",
       "<table border=\"1\" class=\"dataframe\">\n",
       "  <thead>\n",
       "    <tr style=\"text-align: right;\">\n",
       "      <th></th>\n",
       "      <th>0</th>\n",
       "      <th>1</th>\n",
       "      <th>2</th>\n",
       "      <th>3</th>\n",
       "      <th>4</th>\n",
       "      <th>5</th>\n",
       "      <th>6</th>\n",
       "      <th>7</th>\n",
       "      <th>8</th>\n",
       "      <th>9</th>\n",
       "      <th>...</th>\n",
       "      <th>15</th>\n",
       "      <th>16</th>\n",
       "      <th>17</th>\n",
       "      <th>18</th>\n",
       "      <th>19</th>\n",
       "      <th>20</th>\n",
       "      <th>21</th>\n",
       "      <th>22</th>\n",
       "      <th>23</th>\n",
       "      <th>24</th>\n",
       "    </tr>\n",
       "  </thead>\n",
       "  <tbody>\n",
       "    <tr>\n",
       "      <th>0</th>\n",
       "      <td>-7.742761</td>\n",
       "      <td>-0.833553</td>\n",
       "      <td>-18.440245</td>\n",
       "      <td>13.978695</td>\n",
       "      <td>-4.506499</td>\n",
       "      <td>-4.383726</td>\n",
       "      <td>0.102789</td>\n",
       "      <td>12.455657</td>\n",
       "      <td>28.105930</td>\n",
       "      <td>13.877884</td>\n",
       "      <td>...</td>\n",
       "      <td>-16.790449</td>\n",
       "      <td>19.062700</td>\n",
       "      <td>-16.850094</td>\n",
       "      <td>2.968796</td>\n",
       "      <td>22.255123</td>\n",
       "      <td>6.263202</td>\n",
       "      <td>13.988659</td>\n",
       "      <td>-0.892638</td>\n",
       "      <td>30.225088</td>\n",
       "      <td>-5.959002</td>\n",
       "    </tr>\n",
       "    <tr>\n",
       "      <th>1</th>\n",
       "      <td>4.827715</td>\n",
       "      <td>-20.816854</td>\n",
       "      <td>-40.588875</td>\n",
       "      <td>25.134310</td>\n",
       "      <td>-46.985847</td>\n",
       "      <td>39.312870</td>\n",
       "      <td>-17.758562</td>\n",
       "      <td>-9.399710</td>\n",
       "      <td>-1.497115</td>\n",
       "      <td>-8.674212</td>\n",
       "      <td>...</td>\n",
       "      <td>-16.098515</td>\n",
       "      <td>18.113941</td>\n",
       "      <td>-4.631137</td>\n",
       "      <td>2.775382</td>\n",
       "      <td>-51.557671</td>\n",
       "      <td>7.317528</td>\n",
       "      <td>-9.756824</td>\n",
       "      <td>28.086990</td>\n",
       "      <td>51.077797</td>\n",
       "      <td>-4.678748</td>\n",
       "    </tr>\n",
       "    <tr>\n",
       "      <th>2</th>\n",
       "      <td>-7.378377</td>\n",
       "      <td>-38.865887</td>\n",
       "      <td>-36.620132</td>\n",
       "      <td>6.317309</td>\n",
       "      <td>-40.269386</td>\n",
       "      <td>-31.013687</td>\n",
       "      <td>-34.458076</td>\n",
       "      <td>-22.276449</td>\n",
       "      <td>3.760445</td>\n",
       "      <td>37.025642</td>\n",
       "      <td>...</td>\n",
       "      <td>-0.349342</td>\n",
       "      <td>39.799736</td>\n",
       "      <td>-4.975368</td>\n",
       "      <td>24.029409</td>\n",
       "      <td>7.332334</td>\n",
       "      <td>17.542652</td>\n",
       "      <td>11.470374</td>\n",
       "      <td>7.323122</td>\n",
       "      <td>36.791759</td>\n",
       "      <td>1.939185</td>\n",
       "    </tr>\n",
       "    <tr>\n",
       "      <th>3</th>\n",
       "      <td>6.855071</td>\n",
       "      <td>-3.752524</td>\n",
       "      <td>-38.002502</td>\n",
       "      <td>13.615690</td>\n",
       "      <td>-9.832073</td>\n",
       "      <td>3.277526</td>\n",
       "      <td>-17.214958</td>\n",
       "      <td>6.651888</td>\n",
       "      <td>5.808723</td>\n",
       "      <td>0.695267</td>\n",
       "      <td>...</td>\n",
       "      <td>-1.799178</td>\n",
       "      <td>10.613907</td>\n",
       "      <td>7.781383</td>\n",
       "      <td>13.428310</td>\n",
       "      <td>6.591473</td>\n",
       "      <td>-19.931986</td>\n",
       "      <td>-4.732476</td>\n",
       "      <td>-5.377970</td>\n",
       "      <td>19.998020</td>\n",
       "      <td>1.801322</td>\n",
       "    </tr>\n",
       "    <tr>\n",
       "      <th>4</th>\n",
       "      <td>-2.101797</td>\n",
       "      <td>2.822242</td>\n",
       "      <td>-36.003189</td>\n",
       "      <td>9.413112</td>\n",
       "      <td>-20.969624</td>\n",
       "      <td>21.985435</td>\n",
       "      <td>1.644283</td>\n",
       "      <td>-5.607499</td>\n",
       "      <td>-6.590890</td>\n",
       "      <td>8.877480</td>\n",
       "      <td>...</td>\n",
       "      <td>-2.609031</td>\n",
       "      <td>-7.024442</td>\n",
       "      <td>-3.325581</td>\n",
       "      <td>-1.235667</td>\n",
       "      <td>-7.551285</td>\n",
       "      <td>-8.049835</td>\n",
       "      <td>-7.752499</td>\n",
       "      <td>4.812952</td>\n",
       "      <td>40.361118</td>\n",
       "      <td>9.121084</td>\n",
       "    </tr>\n",
       "    <tr>\n",
       "      <th>5</th>\n",
       "      <td>3.781718</td>\n",
       "      <td>4.291552</td>\n",
       "      <td>-28.785200</td>\n",
       "      <td>9.019510</td>\n",
       "      <td>-18.226364</td>\n",
       "      <td>10.511709</td>\n",
       "      <td>1.847601</td>\n",
       "      <td>2.884637</td>\n",
       "      <td>-6.647564</td>\n",
       "      <td>13.498580</td>\n",
       "      <td>...</td>\n",
       "      <td>-11.859379</td>\n",
       "      <td>-16.652288</td>\n",
       "      <td>-5.590513</td>\n",
       "      <td>-3.116998</td>\n",
       "      <td>-14.696203</td>\n",
       "      <td>1.394661</td>\n",
       "      <td>-1.176646</td>\n",
       "      <td>-3.230669</td>\n",
       "      <td>33.401653</td>\n",
       "      <td>16.857082</td>\n",
       "    </tr>\n",
       "    <tr>\n",
       "      <th>6</th>\n",
       "      <td>1.111596</td>\n",
       "      <td>-11.439567</td>\n",
       "      <td>-18.593199</td>\n",
       "      <td>15.108929</td>\n",
       "      <td>-18.653780</td>\n",
       "      <td>23.327059</td>\n",
       "      <td>-6.536738</td>\n",
       "      <td>-8.896428</td>\n",
       "      <td>-23.344223</td>\n",
       "      <td>-5.534623</td>\n",
       "      <td>...</td>\n",
       "      <td>5.617519</td>\n",
       "      <td>27.398880</td>\n",
       "      <td>2.388304</td>\n",
       "      <td>0.661471</td>\n",
       "      <td>-8.778736</td>\n",
       "      <td>-5.777223</td>\n",
       "      <td>-0.314981</td>\n",
       "      <td>-1.250301</td>\n",
       "      <td>23.431286</td>\n",
       "      <td>4.064438</td>\n",
       "    </tr>\n",
       "    <tr>\n",
       "      <th>7</th>\n",
       "      <td>-2.380371</td>\n",
       "      <td>-1.508538</td>\n",
       "      <td>-11.687442</td>\n",
       "      <td>-5.230438</td>\n",
       "      <td>-12.532263</td>\n",
       "      <td>9.449010</td>\n",
       "      <td>-0.394737</td>\n",
       "      <td>-0.167173</td>\n",
       "      <td>-5.489455</td>\n",
       "      <td>3.223435</td>\n",
       "      <td>...</td>\n",
       "      <td>-7.457285</td>\n",
       "      <td>-3.577389</td>\n",
       "      <td>-16.195374</td>\n",
       "      <td>5.293359</td>\n",
       "      <td>-3.286074</td>\n",
       "      <td>-1.728621</td>\n",
       "      <td>5.635114</td>\n",
       "      <td>-3.365114</td>\n",
       "      <td>10.336616</td>\n",
       "      <td>-2.699351</td>\n",
       "    </tr>\n",
       "    <tr>\n",
       "      <th>8</th>\n",
       "      <td>6.245297</td>\n",
       "      <td>-8.605415</td>\n",
       "      <td>-38.314930</td>\n",
       "      <td>6.408808</td>\n",
       "      <td>-35.557770</td>\n",
       "      <td>27.475292</td>\n",
       "      <td>-2.819962</td>\n",
       "      <td>2.329263</td>\n",
       "      <td>-2.682684</td>\n",
       "      <td>-0.813268</td>\n",
       "      <td>...</td>\n",
       "      <td>-20.422218</td>\n",
       "      <td>10.984749</td>\n",
       "      <td>-21.179726</td>\n",
       "      <td>2.898125</td>\n",
       "      <td>-16.449497</td>\n",
       "      <td>6.235851</td>\n",
       "      <td>-5.172079</td>\n",
       "      <td>-9.204762</td>\n",
       "      <td>31.869150</td>\n",
       "      <td>2.467520</td>\n",
       "    </tr>\n",
       "    <tr>\n",
       "      <th>9</th>\n",
       "      <td>4.054720</td>\n",
       "      <td>-24.434746</td>\n",
       "      <td>-54.874161</td>\n",
       "      <td>31.296495</td>\n",
       "      <td>-10.551545</td>\n",
       "      <td>-4.655738</td>\n",
       "      <td>-33.508286</td>\n",
       "      <td>-33.940857</td>\n",
       "      <td>-11.322865</td>\n",
       "      <td>19.627056</td>\n",
       "      <td>...</td>\n",
       "      <td>-4.956097</td>\n",
       "      <td>107.749596</td>\n",
       "      <td>-27.611940</td>\n",
       "      <td>-4.222569</td>\n",
       "      <td>-1.540437</td>\n",
       "      <td>43.358917</td>\n",
       "      <td>37.212883</td>\n",
       "      <td>50.829464</td>\n",
       "      <td>98.068916</td>\n",
       "      <td>4.442300</td>\n",
       "    </tr>\n",
       "  </tbody>\n",
       "</table>\n",
       "<p>10 rows × 25 columns</p>\n",
       "</div>"
      ],
      "text/plain": [
       "         0          1          2          3          4          5          6   \\\n",
       "0 -7.742761  -0.833553 -18.440245  13.978695  -4.506499  -4.383726   0.102789   \n",
       "1  4.827715 -20.816854 -40.588875  25.134310 -46.985847  39.312870 -17.758562   \n",
       "2 -7.378377 -38.865887 -36.620132   6.317309 -40.269386 -31.013687 -34.458076   \n",
       "3  6.855071  -3.752524 -38.002502  13.615690  -9.832073   3.277526 -17.214958   \n",
       "4 -2.101797   2.822242 -36.003189   9.413112 -20.969624  21.985435   1.644283   \n",
       "5  3.781718   4.291552 -28.785200   9.019510 -18.226364  10.511709   1.847601   \n",
       "6  1.111596 -11.439567 -18.593199  15.108929 -18.653780  23.327059  -6.536738   \n",
       "7 -2.380371  -1.508538 -11.687442  -5.230438 -12.532263   9.449010  -0.394737   \n",
       "8  6.245297  -8.605415 -38.314930   6.408808 -35.557770  27.475292  -2.819962   \n",
       "9  4.054720 -24.434746 -54.874161  31.296495 -10.551545  -4.655738 -33.508286   \n",
       "\n",
       "          7          8          9   ...         15          16         17  \\\n",
       "0  12.455657  28.105930  13.877884  ... -16.790449   19.062700 -16.850094   \n",
       "1  -9.399710  -1.497115  -8.674212  ... -16.098515   18.113941  -4.631137   \n",
       "2 -22.276449   3.760445  37.025642  ...  -0.349342   39.799736  -4.975368   \n",
       "3   6.651888   5.808723   0.695267  ...  -1.799178   10.613907   7.781383   \n",
       "4  -5.607499  -6.590890   8.877480  ...  -2.609031   -7.024442  -3.325581   \n",
       "5   2.884637  -6.647564  13.498580  ... -11.859379  -16.652288  -5.590513   \n",
       "6  -8.896428 -23.344223  -5.534623  ...   5.617519   27.398880   2.388304   \n",
       "7  -0.167173  -5.489455   3.223435  ...  -7.457285   -3.577389 -16.195374   \n",
       "8   2.329263  -2.682684  -0.813268  ... -20.422218   10.984749 -21.179726   \n",
       "9 -33.940857 -11.322865  19.627056  ...  -4.956097  107.749596 -27.611940   \n",
       "\n",
       "          18         19         20         21         22         23         24  \n",
       "0   2.968796  22.255123   6.263202  13.988659  -0.892638  30.225088  -5.959002  \n",
       "1   2.775382 -51.557671   7.317528  -9.756824  28.086990  51.077797  -4.678748  \n",
       "2  24.029409   7.332334  17.542652  11.470374   7.323122  36.791759   1.939185  \n",
       "3  13.428310   6.591473 -19.931986  -4.732476  -5.377970  19.998020   1.801322  \n",
       "4  -1.235667  -7.551285  -8.049835  -7.752499   4.812952  40.361118   9.121084  \n",
       "5  -3.116998 -14.696203   1.394661  -1.176646  -3.230669  33.401653  16.857082  \n",
       "6   0.661471  -8.778736  -5.777223  -0.314981  -1.250301  23.431286   4.064438  \n",
       "7   5.293359  -3.286074  -1.728621   5.635114  -3.365114  10.336616  -2.699351  \n",
       "8   2.898125 -16.449497   6.235851  -5.172079  -9.204762  31.869150   2.467520  \n",
       "9  -4.222569  -1.540437  43.358917  37.212883  50.829464  98.068916   4.442300  \n",
       "\n",
       "[10 rows x 25 columns]"
      ]
     },
     "execution_count": 70,
     "metadata": {},
     "output_type": "execute_result"
    }
   ],
   "source": [
    "df_prepro['tokens'][:10].apply(lambda seq: pd.Series(embedding(seq, model)))"
   ]
  },
  {
   "cell_type": "code",
   "execution_count": 51,
   "id": "69d94410",
   "metadata": {
    "ExecuteTime": {
     "end_time": "2022-01-06T07:49:14.100225Z",
     "start_time": "2022-01-06T07:49:14.090842Z"
    }
   },
   "outputs": [
    {
     "data": {
      "text/plain": [
       "array([0., 0., 0., 0., 0., 0., 0., 0., 0., 0., 0., 0., 0., 0., 0., 0., 0.,\n",
       "       0., 0., 0., 0., 0., 0., 0., 0.])"
      ]
     },
     "execution_count": 51,
     "metadata": {},
     "output_type": "execute_result"
    }
   ],
   "source": [
    "embedding(['!!!', '...'], model)"
   ]
  },
  {
   "cell_type": "code",
   "execution_count": 52,
   "id": "31f0fc4c",
   "metadata": {
    "ExecuteTime": {
     "end_time": "2022-01-06T07:49:26.824026Z",
     "start_time": "2022-01-06T07:49:26.812850Z"
    }
   },
   "outputs": [
    {
     "data": {
      "text/plain": [
       "array([ 0.11344948, -0.25239417, -0.11001139, -0.36378655,  0.11838983,\n",
       "       -0.23234946,  0.04210116,  0.55386847, -0.21715081,  0.08350396,\n",
       "        0.29264054,  0.03082061, -0.15859024, -0.07609054, -0.13480374,\n",
       "       -0.01589275,  0.06299199, -0.20466079, -0.1275146 ,  0.09258989,\n",
       "        0.04656454,  0.01119648,  0.42430088,  0.27688944,  0.0811314 ])"
      ]
     },
     "execution_count": 52,
     "metadata": {},
     "output_type": "execute_result"
    }
   ],
   "source": [
    "embedding(['!!!', 'aa'], model)"
   ]
  },
  {
   "cell_type": "code",
   "execution_count": null,
   "id": "e010c9d8",
   "metadata": {},
   "outputs": [],
   "source": []
  },
  {
   "cell_type": "code",
   "execution_count": 41,
   "id": "d4e91956",
   "metadata": {
    "ExecuteTime": {
     "end_time": "2022-01-06T07:39:16.970682Z",
     "start_time": "2022-01-06T07:39:16.948731Z"
    }
   },
   "outputs": [
    {
     "data": {
      "text/plain": [
       "[('narzucajac', 0.8143543601036072),\n",
       " ('kontrastujaca', 0.7840496301651001),\n",
       " ('czując', 0.7797837853431702),\n",
       " ('powieścią', 0.7708885073661804),\n",
       " ('zgidne', 0.7678325772285461),\n",
       " ('politicznie', 0.766595721244812),\n",
       " ('porobilabym', 0.7662977576255798),\n",
       " ('zlepic', 0.7646177411079407),\n",
       " ('malonawet', 0.7627547979354858),\n",
       " ('wspołpraca', 0.760491132736206)]"
      ]
     },
     "execution_count": 41,
     "metadata": {},
     "output_type": "execute_result"
    }
   ],
   "source": [
    "model.wv.most_similar('ddddddd', topn=10)"
   ]
  },
  {
   "cell_type": "code",
   "execution_count": 26,
   "id": "43870917",
   "metadata": {
    "ExecuteTime": {
     "end_time": "2022-01-06T07:26:00.693412Z",
     "start_time": "2022-01-06T07:26:00.670479Z"
    }
   },
   "outputs": [
    {
     "data": {
      "text/html": [
       "<div>\n",
       "<style scoped>\n",
       "    .dataframe tbody tr th:only-of-type {\n",
       "        vertical-align: middle;\n",
       "    }\n",
       "\n",
       "    .dataframe tbody tr th {\n",
       "        vertical-align: top;\n",
       "    }\n",
       "\n",
       "    .dataframe thead th {\n",
       "        text-align: right;\n",
       "    }\n",
       "</style>\n",
       "<table border=\"1\" class=\"dataframe\">\n",
       "  <thead>\n",
       "    <tr style=\"text-align: right;\">\n",
       "      <th></th>\n",
       "      <th>0</th>\n",
       "      <th>1</th>\n",
       "      <th>2</th>\n",
       "      <th>3</th>\n",
       "      <th>4</th>\n",
       "      <th>5</th>\n",
       "      <th>6</th>\n",
       "      <th>7</th>\n",
       "      <th>8</th>\n",
       "      <th>9</th>\n",
       "      <th>...</th>\n",
       "      <th>15</th>\n",
       "      <th>16</th>\n",
       "      <th>17</th>\n",
       "      <th>18</th>\n",
       "      <th>19</th>\n",
       "      <th>20</th>\n",
       "      <th>21</th>\n",
       "      <th>22</th>\n",
       "      <th>23</th>\n",
       "      <th>24</th>\n",
       "    </tr>\n",
       "  </thead>\n",
       "  <tbody>\n",
       "    <tr>\n",
       "      <th>0</th>\n",
       "      <td>0.013625</td>\n",
       "      <td>-0.182823</td>\n",
       "      <td>-0.137393</td>\n",
       "      <td>-0.084734</td>\n",
       "      <td>0.106557</td>\n",
       "      <td>-0.227128</td>\n",
       "      <td>0.020227</td>\n",
       "      <td>0.549674</td>\n",
       "      <td>-0.233233</td>\n",
       "      <td>-0.063509</td>\n",
       "      <td>...</td>\n",
       "      <td>0.135648</td>\n",
       "      <td>-0.136373</td>\n",
       "      <td>0.054469</td>\n",
       "      <td>-0.099364</td>\n",
       "      <td>-0.084045</td>\n",
       "      <td>0.215786</td>\n",
       "      <td>0.14325</td>\n",
       "      <td>0.518801</td>\n",
       "      <td>0.093541</td>\n",
       "      <td>0.127799</td>\n",
       "    </tr>\n",
       "  </tbody>\n",
       "</table>\n",
       "<p>1 rows × 25 columns</p>\n",
       "</div>"
      ],
      "text/plain": [
       "         0         1         2         3         4         5         6   \\\n",
       "0  0.013625 -0.182823 -0.137393 -0.084734  0.106557 -0.227128  0.020227   \n",
       "\n",
       "         7         8         9   ...        15        16        17        18  \\\n",
       "0  0.549674 -0.233233 -0.063509  ...  0.135648 -0.136373  0.054469 -0.099364   \n",
       "\n",
       "         19        20       21        22        23        24  \n",
       "0 -0.084045  0.215786  0.14325  0.518801  0.093541  0.127799  \n",
       "\n",
       "[1 rows x 25 columns]"
      ]
     },
     "execution_count": 26,
     "metadata": {},
     "output_type": "execute_result"
    }
   ],
   "source": [
    "pd.DataFrame(sum(model.wv[['computer', 'computer']])).T"
   ]
  },
  {
   "cell_type": "code",
   "execution_count": 18,
   "id": "3ed9307c",
   "metadata": {
    "ExecuteTime": {
     "end_time": "2022-01-06T07:18:53.839357Z",
     "start_time": "2022-01-06T07:18:53.795697Z"
    }
   },
   "outputs": [
    {
     "data": {
      "text/plain": [
       "array([ 0.00681264, -0.09141146, -0.06869652, -0.04236696,  0.05327857,\n",
       "       -0.11356389,  0.01011359,  0.27483705, -0.11661648, -0.03175458,\n",
       "        0.12084032, -0.00585573, -0.08223784, -0.08897398, -0.05558944,\n",
       "        0.06782388, -0.06818672,  0.02723427, -0.0496822 , -0.04202231,\n",
       "        0.10789311,  0.07162483,  0.25940052,  0.04677059,  0.06389947],\n",
       "      dtype=float32)"
      ]
     },
     "execution_count": 18,
     "metadata": {},
     "output_type": "execute_result"
    }
   ],
   "source": [
    "model.wv['computer']"
   ]
  },
  {
   "cell_type": "code",
   "execution_count": 31,
   "id": "7081b580",
   "metadata": {
    "ExecuteTime": {
     "end_time": "2022-01-06T07:32:49.157615Z",
     "start_time": "2022-01-06T07:32:49.135701Z"
    }
   },
   "outputs": [
    {
     "data": {
      "text/plain": [
       "[('rzeczowa', 0.9261395931243896),\n",
       " ('grzeczna', 0.8700273036956787),\n",
       " ('życzliwa', 0.8620609641075134),\n",
       " ('uprzejma', 0.8589947819709778),\n",
       " ('pomocna', 0.8533578515052795),\n",
       " ('rozmowa', 0.8523088097572327),\n",
       " ('techniczna', 0.8520815968513489),\n",
       " ('konsultacja', 0.8473476767539978),\n",
       " ('konkretna', 0.8458101749420166),\n",
       " ('mailowa', 0.8425560593605042)]"
      ]
     },
     "execution_count": 31,
     "metadata": {},
     "output_type": "execute_result"
    }
   ],
   "source": [
    "model.wv.most_similar('telefoniczna', topn=10)"
   ]
  },
  {
   "cell_type": "code",
   "execution_count": 35,
   "id": "5d2ba030",
   "metadata": {
    "ExecuteTime": {
     "end_time": "2022-01-06T07:38:02.843754Z",
     "start_time": "2022-01-06T07:38:02.828800Z"
    }
   },
   "outputs": [
    {
     "data": {
      "text/plain": [
       "[('oczywiście', 0.8825216889381409),\n",
       " ('także', 0.8498261570930481),\n",
       " ('też', 0.839736819267273),\n",
       " ('również', 0.8381177186965942),\n",
       " ('dodatkowo', 0.8339671492576599),\n",
       " ('gdyż', 0.7732608318328857),\n",
       " ('kartę', 0.7719082236289978),\n",
       " ('ponieważ', 0.7627857327461243),\n",
       " ('więc', 0.7625545263290405),\n",
       " ('zatem', 0.7617018818855286)]"
      ]
     },
     "execution_count": 35,
     "metadata": {},
     "output_type": "execute_result"
    }
   ],
   "source": [
    " model.wv.most_similar('i', topn=10)"
   ]
  },
  {
   "cell_type": "code",
   "execution_count": 16,
   "id": "43a45895",
   "metadata": {
    "ExecuteTime": {
     "end_time": "2022-01-06T07:15:24.286974Z",
     "start_time": "2022-01-06T07:15:24.270993Z"
    },
    "scrolled": true
   },
   "outputs": [
    {
     "data": {
      "text/plain": [
       "['__class__',\n",
       " '__contains__',\n",
       " '__delattr__',\n",
       " '__dict__',\n",
       " '__dir__',\n",
       " '__doc__',\n",
       " '__eq__',\n",
       " '__format__',\n",
       " '__ge__',\n",
       " '__getattribute__',\n",
       " '__getitem__',\n",
       " '__gt__',\n",
       " '__hash__',\n",
       " '__ignoreds',\n",
       " '__init__',\n",
       " '__init_subclass__',\n",
       " '__le__',\n",
       " '__len__',\n",
       " '__lt__',\n",
       " '__module__',\n",
       " '__ne__',\n",
       " '__new__',\n",
       " '__numpys',\n",
       " '__recursive_saveloads',\n",
       " '__reduce__',\n",
       " '__reduce_ex__',\n",
       " '__repr__',\n",
       " '__scipys',\n",
       " '__setattr__',\n",
       " '__setitem__',\n",
       " '__sizeof__',\n",
       " '__slotnames__',\n",
       " '__str__',\n",
       " '__subclasshook__',\n",
       " '__weakref__',\n",
       " '_adapt_by_suffix',\n",
       " '_load_specials',\n",
       " '_log_evaluate_word_analogies',\n",
       " '_save_specials',\n",
       " '_smart_save',\n",
       " '_upconvert_old_d2vkv',\n",
       " '_upconvert_old_vocab',\n",
       " 'add_lifecycle_event',\n",
       " 'add_vector',\n",
       " 'add_vectors',\n",
       " 'allocate_vecattrs',\n",
       " 'closer_than',\n",
       " 'cosine_similarities',\n",
       " 'distance',\n",
       " 'distances',\n",
       " 'doesnt_match',\n",
       " 'evaluate_word_analogies',\n",
       " 'evaluate_word_pairs',\n",
       " 'expandos',\n",
       " 'fill_norms',\n",
       " 'get_index',\n",
       " 'get_normed_vectors',\n",
       " 'get_vecattr',\n",
       " 'get_vector',\n",
       " 'has_index_for',\n",
       " 'index2entity',\n",
       " 'index2word',\n",
       " 'index_to_key',\n",
       " 'init_sims',\n",
       " 'intersect_word2vec_format',\n",
       " 'key_to_index',\n",
       " 'load',\n",
       " 'load_word2vec_format',\n",
       " 'log_accuracy',\n",
       " 'log_evaluate_word_pairs',\n",
       " 'mapfile_path',\n",
       " 'most_similar',\n",
       " 'most_similar_cosmul',\n",
       " 'most_similar_to_given',\n",
       " 'n_similarity',\n",
       " 'next_index',\n",
       " 'norms',\n",
       " 'rank',\n",
       " 'rank_by_centrality',\n",
       " 'relative_cosine_similarity',\n",
       " 'resize_vectors',\n",
       " 'save',\n",
       " 'save_word2vec_format',\n",
       " 'set_vecattr',\n",
       " 'similar_by_key',\n",
       " 'similar_by_vector',\n",
       " 'similar_by_word',\n",
       " 'similarity',\n",
       " 'similarity_unseen_docs',\n",
       " 'sort_by_descending_frequency',\n",
       " 'unit_normalize_all',\n",
       " 'vector_size',\n",
       " 'vectors',\n",
       " 'vectors_for_all',\n",
       " 'vectors_lockf',\n",
       " 'vectors_norm',\n",
       " 'vocab',\n",
       " 'wmdistance',\n",
       " 'word_vec',\n",
       " 'words_closer_than']"
      ]
     },
     "execution_count": 16,
     "metadata": {},
     "output_type": "execute_result"
    }
   ],
   "source": [
    "dir(model.wv)"
   ]
  },
  {
   "cell_type": "markdown",
   "id": "585c19d0",
   "metadata": {},
   "source": [
    "## w2v embedder"
   ]
  },
  {
   "cell_type": "code",
   "execution_count": 74,
   "id": "87020737",
   "metadata": {
    "ExecuteTime": {
     "end_time": "2022-01-06T09:09:02.040526Z",
     "start_time": "2022-01-06T09:09:02.027564Z"
    }
   },
   "outputs": [],
   "source": [
    "from src.embeddings.w2v import W2VEmbedder"
   ]
  },
  {
   "cell_type": "code",
   "execution_count": 75,
   "id": "e1d33121",
   "metadata": {
    "ExecuteTime": {
     "end_time": "2022-01-06T09:09:20.843158Z",
     "start_time": "2022-01-06T09:09:20.834187Z"
    }
   },
   "outputs": [],
   "source": [
    "emb = W2VEmbedder()"
   ]
  },
  {
   "cell_type": "code",
   "execution_count": 82,
   "id": "91e6a873",
   "metadata": {
    "ExecuteTime": {
     "end_time": "2022-01-06T09:13:39.269418Z",
     "start_time": "2022-01-06T09:13:01.160689Z"
    }
   },
   "outputs": [
    {
     "data": {
      "text/plain": [
       "W2VEmbedder()"
      ]
     },
     "execution_count": 82,
     "metadata": {},
     "output_type": "execute_result"
    }
   ],
   "source": [
    "emb.fit(df_prepro['tokens'])"
   ]
  },
  {
   "cell_type": "code",
   "execution_count": 83,
   "id": "a8534d97",
   "metadata": {
    "ExecuteTime": {
     "end_time": "2022-01-06T09:13:40.725406Z",
     "start_time": "2022-01-06T09:13:39.269418Z"
    }
   },
   "outputs": [
    {
     "data": {
      "text/html": [
       "<div>\n",
       "<style scoped>\n",
       "    .dataframe tbody tr th:only-of-type {\n",
       "        vertical-align: middle;\n",
       "    }\n",
       "\n",
       "    .dataframe tbody tr th {\n",
       "        vertical-align: top;\n",
       "    }\n",
       "\n",
       "    .dataframe thead th {\n",
       "        text-align: right;\n",
       "    }\n",
       "</style>\n",
       "<table border=\"1\" class=\"dataframe\">\n",
       "  <thead>\n",
       "    <tr style=\"text-align: right;\">\n",
       "      <th></th>\n",
       "      <th>w2v_0</th>\n",
       "      <th>w2v_1</th>\n",
       "      <th>w2v_2</th>\n",
       "      <th>w2v_3</th>\n",
       "      <th>w2v_4</th>\n",
       "      <th>w2v_5</th>\n",
       "      <th>w2v_6</th>\n",
       "      <th>w2v_7</th>\n",
       "      <th>w2v_8</th>\n",
       "      <th>w2v_9</th>\n",
       "      <th>...</th>\n",
       "      <th>w2v_90</th>\n",
       "      <th>w2v_91</th>\n",
       "      <th>w2v_92</th>\n",
       "      <th>w2v_93</th>\n",
       "      <th>w2v_94</th>\n",
       "      <th>w2v_95</th>\n",
       "      <th>w2v_96</th>\n",
       "      <th>w2v_97</th>\n",
       "      <th>w2v_98</th>\n",
       "      <th>w2v_99</th>\n",
       "    </tr>\n",
       "  </thead>\n",
       "  <tbody>\n",
       "    <tr>\n",
       "      <th>0</th>\n",
       "      <td>6.100038</td>\n",
       "      <td>4.698828</td>\n",
       "      <td>-6.789795</td>\n",
       "      <td>-1.967630</td>\n",
       "      <td>8.062124</td>\n",
       "      <td>6.810006</td>\n",
       "      <td>-2.016268</td>\n",
       "      <td>4.132977</td>\n",
       "      <td>9.728554</td>\n",
       "      <td>7.729812</td>\n",
       "      <td>...</td>\n",
       "      <td>-9.744890</td>\n",
       "      <td>0.498908</td>\n",
       "      <td>-8.584190</td>\n",
       "      <td>2.643285</td>\n",
       "      <td>-4.577723</td>\n",
       "      <td>-9.711648</td>\n",
       "      <td>-1.045193</td>\n",
       "      <td>1.093717</td>\n",
       "      <td>-4.690256</td>\n",
       "      <td>-3.164918</td>\n",
       "    </tr>\n",
       "    <tr>\n",
       "      <th>1</th>\n",
       "      <td>-12.971452</td>\n",
       "      <td>8.383016</td>\n",
       "      <td>-1.178574</td>\n",
       "      <td>-13.187397</td>\n",
       "      <td>-10.996144</td>\n",
       "      <td>9.132196</td>\n",
       "      <td>2.548901</td>\n",
       "      <td>-23.833391</td>\n",
       "      <td>13.786238</td>\n",
       "      <td>-1.808938</td>\n",
       "      <td>...</td>\n",
       "      <td>1.050693</td>\n",
       "      <td>-8.010335</td>\n",
       "      <td>-13.489774</td>\n",
       "      <td>-2.596252</td>\n",
       "      <td>-5.728407</td>\n",
       "      <td>5.713033</td>\n",
       "      <td>-19.820322</td>\n",
       "      <td>-10.509326</td>\n",
       "      <td>-12.372663</td>\n",
       "      <td>-4.300651</td>\n",
       "    </tr>\n",
       "    <tr>\n",
       "      <th>2</th>\n",
       "      <td>6.626191</td>\n",
       "      <td>16.969543</td>\n",
       "      <td>3.408741</td>\n",
       "      <td>5.186276</td>\n",
       "      <td>-10.150882</td>\n",
       "      <td>-4.125778</td>\n",
       "      <td>0.944080</td>\n",
       "      <td>-1.617067</td>\n",
       "      <td>-7.120344</td>\n",
       "      <td>2.528218</td>\n",
       "      <td>...</td>\n",
       "      <td>-10.056871</td>\n",
       "      <td>3.381480</td>\n",
       "      <td>-10.977276</td>\n",
       "      <td>5.851677</td>\n",
       "      <td>-7.546689</td>\n",
       "      <td>-8.565905</td>\n",
       "      <td>11.135818</td>\n",
       "      <td>11.772774</td>\n",
       "      <td>-3.079571</td>\n",
       "      <td>2.770459</td>\n",
       "    </tr>\n",
       "    <tr>\n",
       "      <th>3</th>\n",
       "      <td>-4.006709</td>\n",
       "      <td>8.146235</td>\n",
       "      <td>6.508131</td>\n",
       "      <td>0.572376</td>\n",
       "      <td>-5.727530</td>\n",
       "      <td>7.791961</td>\n",
       "      <td>-3.444819</td>\n",
       "      <td>-0.654663</td>\n",
       "      <td>4.044620</td>\n",
       "      <td>-1.855960</td>\n",
       "      <td>...</td>\n",
       "      <td>1.554647</td>\n",
       "      <td>-10.728679</td>\n",
       "      <td>-0.185326</td>\n",
       "      <td>4.641444</td>\n",
       "      <td>-5.297406</td>\n",
       "      <td>-2.024372</td>\n",
       "      <td>-0.168417</td>\n",
       "      <td>-5.450458</td>\n",
       "      <td>-0.872074</td>\n",
       "      <td>1.762855</td>\n",
       "    </tr>\n",
       "    <tr>\n",
       "      <th>4</th>\n",
       "      <td>-7.821402</td>\n",
       "      <td>0.219733</td>\n",
       "      <td>-4.608218</td>\n",
       "      <td>5.010968</td>\n",
       "      <td>-5.275631</td>\n",
       "      <td>10.858773</td>\n",
       "      <td>0.181821</td>\n",
       "      <td>-2.158617</td>\n",
       "      <td>4.413744</td>\n",
       "      <td>-4.315443</td>\n",
       "      <td>...</td>\n",
       "      <td>-4.375130</td>\n",
       "      <td>-12.363471</td>\n",
       "      <td>-0.738183</td>\n",
       "      <td>-2.073424</td>\n",
       "      <td>-10.061977</td>\n",
       "      <td>0.765572</td>\n",
       "      <td>-6.281766</td>\n",
       "      <td>-10.395406</td>\n",
       "      <td>3.888463</td>\n",
       "      <td>-6.335351</td>\n",
       "    </tr>\n",
       "    <tr>\n",
       "      <th>...</th>\n",
       "      <td>...</td>\n",
       "      <td>...</td>\n",
       "      <td>...</td>\n",
       "      <td>...</td>\n",
       "      <td>...</td>\n",
       "      <td>...</td>\n",
       "      <td>...</td>\n",
       "      <td>...</td>\n",
       "      <td>...</td>\n",
       "      <td>...</td>\n",
       "      <td>...</td>\n",
       "      <td>...</td>\n",
       "      <td>...</td>\n",
       "      <td>...</td>\n",
       "      <td>...</td>\n",
       "      <td>...</td>\n",
       "      <td>...</td>\n",
       "      <td>...</td>\n",
       "      <td>...</td>\n",
       "      <td>...</td>\n",
       "      <td>...</td>\n",
       "    </tr>\n",
       "    <tr>\n",
       "      <th>9995</th>\n",
       "      <td>-2.531567</td>\n",
       "      <td>-6.268906</td>\n",
       "      <td>-4.126298</td>\n",
       "      <td>1.809028</td>\n",
       "      <td>-17.775122</td>\n",
       "      <td>4.442726</td>\n",
       "      <td>-3.544395</td>\n",
       "      <td>-12.844461</td>\n",
       "      <td>4.786063</td>\n",
       "      <td>7.275192</td>\n",
       "      <td>...</td>\n",
       "      <td>-7.545178</td>\n",
       "      <td>-13.433375</td>\n",
       "      <td>-24.568037</td>\n",
       "      <td>10.687787</td>\n",
       "      <td>-8.590749</td>\n",
       "      <td>-12.814507</td>\n",
       "      <td>-1.316906</td>\n",
       "      <td>1.602297</td>\n",
       "      <td>-2.305952</td>\n",
       "      <td>1.910442</td>\n",
       "    </tr>\n",
       "    <tr>\n",
       "      <th>9996</th>\n",
       "      <td>-9.277582</td>\n",
       "      <td>-5.791147</td>\n",
       "      <td>-1.170140</td>\n",
       "      <td>5.276258</td>\n",
       "      <td>-9.244247</td>\n",
       "      <td>7.586611</td>\n",
       "      <td>0.146498</td>\n",
       "      <td>-5.113621</td>\n",
       "      <td>1.159208</td>\n",
       "      <td>-1.999210</td>\n",
       "      <td>...</td>\n",
       "      <td>-0.836076</td>\n",
       "      <td>-5.256473</td>\n",
       "      <td>-8.619590</td>\n",
       "      <td>-0.943043</td>\n",
       "      <td>-4.827706</td>\n",
       "      <td>0.131036</td>\n",
       "      <td>-1.878536</td>\n",
       "      <td>-9.698377</td>\n",
       "      <td>-4.526825</td>\n",
       "      <td>1.601543</td>\n",
       "    </tr>\n",
       "    <tr>\n",
       "      <th>9997</th>\n",
       "      <td>-5.514441</td>\n",
       "      <td>1.062636</td>\n",
       "      <td>-0.081685</td>\n",
       "      <td>4.843108</td>\n",
       "      <td>-9.923388</td>\n",
       "      <td>7.431023</td>\n",
       "      <td>3.678493</td>\n",
       "      <td>-5.013553</td>\n",
       "      <td>-0.999771</td>\n",
       "      <td>-3.768224</td>\n",
       "      <td>...</td>\n",
       "      <td>-2.012049</td>\n",
       "      <td>-3.633924</td>\n",
       "      <td>-3.163292</td>\n",
       "      <td>2.639794</td>\n",
       "      <td>-10.057573</td>\n",
       "      <td>-5.726741</td>\n",
       "      <td>-0.307360</td>\n",
       "      <td>-3.189552</td>\n",
       "      <td>-3.377548</td>\n",
       "      <td>3.746087</td>\n",
       "    </tr>\n",
       "    <tr>\n",
       "      <th>9998</th>\n",
       "      <td>-11.791167</td>\n",
       "      <td>9.096848</td>\n",
       "      <td>-11.569249</td>\n",
       "      <td>8.415001</td>\n",
       "      <td>-2.587271</td>\n",
       "      <td>5.788103</td>\n",
       "      <td>-2.675425</td>\n",
       "      <td>-8.378573</td>\n",
       "      <td>2.131792</td>\n",
       "      <td>3.279516</td>\n",
       "      <td>...</td>\n",
       "      <td>-5.754561</td>\n",
       "      <td>-8.195572</td>\n",
       "      <td>-6.591540</td>\n",
       "      <td>7.689640</td>\n",
       "      <td>-3.937337</td>\n",
       "      <td>1.946185</td>\n",
       "      <td>-7.477098</td>\n",
       "      <td>-7.016456</td>\n",
       "      <td>-0.353045</td>\n",
       "      <td>0.392532</td>\n",
       "    </tr>\n",
       "    <tr>\n",
       "      <th>9999</th>\n",
       "      <td>-12.214527</td>\n",
       "      <td>4.003859</td>\n",
       "      <td>-4.022593</td>\n",
       "      <td>8.339066</td>\n",
       "      <td>-7.184126</td>\n",
       "      <td>8.939781</td>\n",
       "      <td>-4.982067</td>\n",
       "      <td>-8.649702</td>\n",
       "      <td>5.682138</td>\n",
       "      <td>-3.609166</td>\n",
       "      <td>...</td>\n",
       "      <td>-2.054245</td>\n",
       "      <td>-12.227643</td>\n",
       "      <td>-11.014937</td>\n",
       "      <td>3.828065</td>\n",
       "      <td>-1.384559</td>\n",
       "      <td>-1.056987</td>\n",
       "      <td>-6.805370</td>\n",
       "      <td>-3.770306</td>\n",
       "      <td>-8.751190</td>\n",
       "      <td>12.074245</td>\n",
       "    </tr>\n",
       "  </tbody>\n",
       "</table>\n",
       "<p>10000 rows × 100 columns</p>\n",
       "</div>"
      ],
      "text/plain": [
       "          w2v_0      w2v_1      w2v_2      w2v_3      w2v_4      w2v_5  \\\n",
       "0      6.100038   4.698828  -6.789795  -1.967630   8.062124   6.810006   \n",
       "1    -12.971452   8.383016  -1.178574 -13.187397 -10.996144   9.132196   \n",
       "2      6.626191  16.969543   3.408741   5.186276 -10.150882  -4.125778   \n",
       "3     -4.006709   8.146235   6.508131   0.572376  -5.727530   7.791961   \n",
       "4     -7.821402   0.219733  -4.608218   5.010968  -5.275631  10.858773   \n",
       "...         ...        ...        ...        ...        ...        ...   \n",
       "9995  -2.531567  -6.268906  -4.126298   1.809028 -17.775122   4.442726   \n",
       "9996  -9.277582  -5.791147  -1.170140   5.276258  -9.244247   7.586611   \n",
       "9997  -5.514441   1.062636  -0.081685   4.843108  -9.923388   7.431023   \n",
       "9998 -11.791167   9.096848 -11.569249   8.415001  -2.587271   5.788103   \n",
       "9999 -12.214527   4.003859  -4.022593   8.339066  -7.184126   8.939781   \n",
       "\n",
       "         w2v_6      w2v_7      w2v_8     w2v_9  ...     w2v_90     w2v_91  \\\n",
       "0    -2.016268   4.132977   9.728554  7.729812  ...  -9.744890   0.498908   \n",
       "1     2.548901 -23.833391  13.786238 -1.808938  ...   1.050693  -8.010335   \n",
       "2     0.944080  -1.617067  -7.120344  2.528218  ... -10.056871   3.381480   \n",
       "3    -3.444819  -0.654663   4.044620 -1.855960  ...   1.554647 -10.728679   \n",
       "4     0.181821  -2.158617   4.413744 -4.315443  ...  -4.375130 -12.363471   \n",
       "...        ...        ...        ...       ...  ...        ...        ...   \n",
       "9995 -3.544395 -12.844461   4.786063  7.275192  ...  -7.545178 -13.433375   \n",
       "9996  0.146498  -5.113621   1.159208 -1.999210  ...  -0.836076  -5.256473   \n",
       "9997  3.678493  -5.013553  -0.999771 -3.768224  ...  -2.012049  -3.633924   \n",
       "9998 -2.675425  -8.378573   2.131792  3.279516  ...  -5.754561  -8.195572   \n",
       "9999 -4.982067  -8.649702   5.682138 -3.609166  ...  -2.054245 -12.227643   \n",
       "\n",
       "         w2v_92     w2v_93     w2v_94     w2v_95     w2v_96     w2v_97  \\\n",
       "0     -8.584190   2.643285  -4.577723  -9.711648  -1.045193   1.093717   \n",
       "1    -13.489774  -2.596252  -5.728407   5.713033 -19.820322 -10.509326   \n",
       "2    -10.977276   5.851677  -7.546689  -8.565905  11.135818  11.772774   \n",
       "3     -0.185326   4.641444  -5.297406  -2.024372  -0.168417  -5.450458   \n",
       "4     -0.738183  -2.073424 -10.061977   0.765572  -6.281766 -10.395406   \n",
       "...         ...        ...        ...        ...        ...        ...   \n",
       "9995 -24.568037  10.687787  -8.590749 -12.814507  -1.316906   1.602297   \n",
       "9996  -8.619590  -0.943043  -4.827706   0.131036  -1.878536  -9.698377   \n",
       "9997  -3.163292   2.639794 -10.057573  -5.726741  -0.307360  -3.189552   \n",
       "9998  -6.591540   7.689640  -3.937337   1.946185  -7.477098  -7.016456   \n",
       "9999 -11.014937   3.828065  -1.384559  -1.056987  -6.805370  -3.770306   \n",
       "\n",
       "         w2v_98     w2v_99  \n",
       "0     -4.690256  -3.164918  \n",
       "1    -12.372663  -4.300651  \n",
       "2     -3.079571   2.770459  \n",
       "3     -0.872074   1.762855  \n",
       "4      3.888463  -6.335351  \n",
       "...         ...        ...  \n",
       "9995  -2.305952   1.910442  \n",
       "9996  -4.526825   1.601543  \n",
       "9997  -3.377548   3.746087  \n",
       "9998  -0.353045   0.392532  \n",
       "9999  -8.751190  12.074245  \n",
       "\n",
       "[10000 rows x 100 columns]"
      ]
     },
     "execution_count": 83,
     "metadata": {},
     "output_type": "execute_result"
    }
   ],
   "source": [
    "tt = emb.transform(df_prepro['tokens'][:10000])\n",
    "tt"
   ]
  },
  {
   "cell_type": "code",
   "execution_count": null,
   "id": "cfd98e0a",
   "metadata": {},
   "outputs": [],
   "source": []
  },
  {
   "cell_type": "code",
   "execution_count": null,
   "id": "071d7f5b",
   "metadata": {},
   "outputs": [],
   "source": []
  },
  {
   "cell_type": "markdown",
   "id": "4ac21b91",
   "metadata": {},
   "source": [
    "# varia"
   ]
  },
  {
   "cell_type": "code",
   "execution_count": 6,
   "id": "f644cc45",
   "metadata": {
    "ExecuteTime": {
     "end_time": "2021-10-25T21:07:11.842370Z",
     "start_time": "2021-10-25T21:07:11.565802Z"
    }
   },
   "outputs": [],
   "source": [
    "from datetime import datetime"
   ]
  },
  {
   "cell_type": "code",
   "execution_count": 7,
   "id": "d5f08f09",
   "metadata": {
    "ExecuteTime": {
     "end_time": "2021-10-25T21:07:27.037190Z",
     "start_time": "2021-10-25T21:07:27.024019Z"
    }
   },
   "outputs": [],
   "source": [
    "dateTimeObj = datetime.now()"
   ]
  },
  {
   "cell_type": "code",
   "execution_count": 8,
   "id": "d30df897",
   "metadata": {
    "ExecuteTime": {
     "end_time": "2021-10-25T21:07:30.999364Z",
     "start_time": "2021-10-25T21:07:30.983405Z"
    }
   },
   "outputs": [
    {
     "name": "stdout",
     "output_type": "stream",
     "text": [
      "2021-10-25 23:07:27.035741\n"
     ]
    }
   ],
   "source": [
    "print(dateTimeObj)"
   ]
  },
  {
   "cell_type": "code",
   "execution_count": 10,
   "id": "f4ad7636",
   "metadata": {
    "ExecuteTime": {
     "end_time": "2021-10-25T21:08:42.017521Z",
     "start_time": "2021-10-25T21:08:42.002445Z"
    }
   },
   "outputs": [
    {
     "name": "stdout",
     "output_type": "stream",
     "text": [
      "20211025_230727\n"
     ]
    }
   ],
   "source": [
    "timestampStr = dateTimeObj.strftime(\"%Y%m%d_%H%M%S\")\n",
    "print(timestampStr)"
   ]
  },
  {
   "cell_type": "code",
   "execution_count": null,
   "id": "d6ec2c0a",
   "metadata": {},
   "outputs": [],
   "source": [
    "datasets = pd.DataFrame(columns=['id', 'ts', 'params', 'git_branch', 'git_commit', 'shape', 'columns'])"
   ]
  },
  {
   "cell_type": "code",
   "execution_count": 128,
   "id": "9deb6a4f",
   "metadata": {
    "ExecuteTime": {
     "end_time": "2021-10-25T23:38:54.375185Z",
     "start_time": "2021-10-25T23:38:53.138883Z"
    }
   },
   "outputs": [],
   "source": [
    "import os\n",
    "\n",
    "os.mkdir('./data/test')"
   ]
  },
  {
   "cell_type": "code",
   "execution_count": 139,
   "id": "be34a497",
   "metadata": {
    "ExecuteTime": {
     "end_time": "2021-10-25T23:56:21.220567Z",
     "start_time": "2021-10-25T23:56:21.196170Z"
    }
   },
   "outputs": [
    {
     "data": {
      "text/html": [
       "<div>\n",
       "<style scoped>\n",
       "    .dataframe tbody tr th:only-of-type {\n",
       "        vertical-align: middle;\n",
       "    }\n",
       "\n",
       "    .dataframe tbody tr th {\n",
       "        vertical-align: top;\n",
       "    }\n",
       "\n",
       "    .dataframe thead th {\n",
       "        text-align: right;\n",
       "    }\n",
       "</style>\n",
       "<table border=\"1\" class=\"dataframe\">\n",
       "  <thead>\n",
       "    <tr style=\"text-align: right;\">\n",
       "      <th></th>\n",
       "      <th>a</th>\n",
       "      <th>b</th>\n",
       "    </tr>\n",
       "  </thead>\n",
       "  <tbody>\n",
       "    <tr>\n",
       "      <th>0</th>\n",
       "      <td>1</td>\n",
       "      <td>2</td>\n",
       "    </tr>\n",
       "  </tbody>\n",
       "</table>\n",
       "</div>"
      ],
      "text/plain": [
       "   a  b\n",
       "0  1  2"
      ]
     },
     "execution_count": 139,
     "metadata": {},
     "output_type": "execute_result"
    }
   ],
   "source": []
  },
  {
   "cell_type": "code",
   "execution_count": 138,
   "id": "2af1f9a3",
   "metadata": {
    "ExecuteTime": {
     "end_time": "2021-10-25T23:55:47.146578Z",
     "start_time": "2021-10-25T23:55:47.125965Z"
    }
   },
   "outputs": [
    {
     "data": {
      "text/html": [
       "<div>\n",
       "<style scoped>\n",
       "    .dataframe tbody tr th:only-of-type {\n",
       "        vertical-align: middle;\n",
       "    }\n",
       "\n",
       "    .dataframe tbody tr th {\n",
       "        vertical-align: top;\n",
       "    }\n",
       "\n",
       "    .dataframe thead th {\n",
       "        text-align: right;\n",
       "    }\n",
       "</style>\n",
       "<table border=\"1\" class=\"dataframe\">\n",
       "  <thead>\n",
       "    <tr style=\"text-align: right;\">\n",
       "      <th></th>\n",
       "      <th>c</th>\n",
       "      <th>d</th>\n",
       "      <th>0</th>\n",
       "      <th>1</th>\n",
       "    </tr>\n",
       "  </thead>\n",
       "  <tbody>\n",
       "    <tr>\n",
       "      <th>0</th>\n",
       "      <td>NaN</td>\n",
       "      <td>NaN</td>\n",
       "      <td>1.0</td>\n",
       "      <td>2.0</td>\n",
       "    </tr>\n",
       "  </tbody>\n",
       "</table>\n",
       "</div>"
      ],
      "text/plain": [
       "     c    d    0    1\n",
       "0  NaN  NaN  1.0  2.0"
      ]
     },
     "execution_count": 138,
     "metadata": {},
     "output_type": "execute_result"
    }
   ],
   "source": [
    "aa = pd.DataFrame(columns=['c', 'd'])\n",
    "aa.append(pd.Series((1,2)).to_frame().T)\n"
   ]
  },
  {
   "cell_type": "code",
   "execution_count": 130,
   "id": "9a4c8cf2",
   "metadata": {
    "ExecuteTime": {
     "end_time": "2021-10-25T23:41:32.398755Z",
     "start_time": "2021-10-25T23:41:32.382760Z"
    }
   },
   "outputs": [
    {
     "data": {
      "text/plain": [
       "'./data/er'"
      ]
     },
     "execution_count": 130,
     "metadata": {},
     "output_type": "execute_result"
    }
   ],
   "source": []
  },
  {
   "cell_type": "code",
   "execution_count": 141,
   "id": "1a77cec5",
   "metadata": {
    "ExecuteTime": {
     "end_time": "2021-10-26T00:03:15.555306Z",
     "start_time": "2021-10-26T00:03:15.542175Z"
    }
   },
   "outputs": [],
   "source": [
    "with open('./data/20211026_020140/df_prepro_metadata.pkl', 'rb') as f:\n",
    "    metadata = pickle.load(f)"
   ]
  },
  {
   "cell_type": "code",
   "execution_count": 142,
   "id": "34679f2a",
   "metadata": {
    "ExecuteTime": {
     "end_time": "2021-10-26T00:03:19.535542Z",
     "start_time": "2021-10-26T00:03:19.513123Z"
    }
   },
   "outputs": [
    {
     "data": {
      "text/html": [
       "<div>\n",
       "<style scoped>\n",
       "    .dataframe tbody tr th:only-of-type {\n",
       "        vertical-align: middle;\n",
       "    }\n",
       "\n",
       "    .dataframe tbody tr th {\n",
       "        vertical-align: top;\n",
       "    }\n",
       "\n",
       "    .dataframe thead th {\n",
       "        text-align: right;\n",
       "    }\n",
       "</style>\n",
       "<table border=\"1\" class=\"dataframe\">\n",
       "  <thead>\n",
       "    <tr style=\"text-align: right;\">\n",
       "      <th></th>\n",
       "      <th>ts</th>\n",
       "      <th>params</th>\n",
       "      <th>working_dir</th>\n",
       "      <th>git_branch</th>\n",
       "      <th>git_commit</th>\n",
       "      <th>git_sha</th>\n",
       "      <th>shape</th>\n",
       "      <th>columns</th>\n",
       "    </tr>\n",
       "  </thead>\n",
       "  <tbody>\n",
       "    <tr>\n",
       "      <th>0</th>\n",
       "      <td>20211026_020140</td>\n",
       "      <td>{'load_data__file_name': 'polish_sentiment_dat...</td>\n",
       "      <td>/home/mic/Pulpit/pyProj/gensim</td>\n",
       "      <td>master</td>\n",
       "      <td>add prep_data.py modelue for running data prep...</td>\n",
       "      <td>5dbad2a69f2ea7004d30e2c21206c03d4bdfec36</td>\n",
       "      <td>(917525, 8)</td>\n",
       "      <td>[desc, len, negative, desc_clean, len_clean, l...</td>\n",
       "    </tr>\n",
       "  </tbody>\n",
       "</table>\n",
       "</div>"
      ],
      "text/plain": [
       "                ts                                             params  \\\n",
       "0  20211026_020140  {'load_data__file_name': 'polish_sentiment_dat...   \n",
       "\n",
       "                      working_dir git_branch  \\\n",
       "0  /home/mic/Pulpit/pyProj/gensim     master   \n",
       "\n",
       "                                          git_commit  \\\n",
       "0  add prep_data.py modelue for running data prep...   \n",
       "\n",
       "                                    git_sha        shape  \\\n",
       "0  5dbad2a69f2ea7004d30e2c21206c03d4bdfec36  (917525, 8)   \n",
       "\n",
       "                                             columns  \n",
       "0  [desc, len, negative, desc_clean, len_clean, l...  "
      ]
     },
     "execution_count": 142,
     "metadata": {},
     "output_type": "execute_result"
    }
   ],
   "source": [
    "metadata"
   ]
  }
 ],
 "metadata": {
  "kernelspec": {
   "display_name": "Python 3 (ipykernel)",
   "language": "python",
   "name": "python3"
  },
  "language_info": {
   "codemirror_mode": {
    "name": "ipython",
    "version": 3
   },
   "file_extension": ".py",
   "mimetype": "text/x-python",
   "name": "python",
   "nbconvert_exporter": "python",
   "pygments_lexer": "ipython3",
   "version": "3.8.8"
  },
  "toc": {
   "base_numbering": 1,
   "nav_menu": {},
   "number_sections": true,
   "sideBar": true,
   "skip_h1_title": false,
   "title_cell": "Table of Contents",
   "title_sidebar": "Contents",
   "toc_cell": false,
   "toc_position": {
    "height": "calc(100% - 180px)",
    "left": "10px",
    "top": "150px",
    "width": "288.312px"
   },
   "toc_section_display": true,
   "toc_window_display": true
  }
 },
 "nbformat": 4,
 "nbformat_minor": 5
}
