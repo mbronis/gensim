{
 "cells": [
  {
   "cell_type": "markdown",
   "id": "87c166c2",
   "metadata": {},
   "source": [
    "# setup"
   ]
  },
  {
   "cell_type": "code",
   "execution_count": 1,
   "id": "f5738a7d",
   "metadata": {
    "ExecuteTime": {
     "end_time": "2022-01-09T23:22:17.805396Z",
     "start_time": "2022-01-09T23:22:17.638842Z"
    }
   },
   "outputs": [],
   "source": [
    "%load_ext autoreload\n",
    "%autoreload 2"
   ]
  },
  {
   "cell_type": "code",
   "execution_count": 3,
   "id": "dacc83e8",
   "metadata": {
    "ExecuteTime": {
     "end_time": "2022-01-09T23:22:33.928124Z",
     "start_time": "2022-01-09T23:22:28.809373Z"
    }
   },
   "outputs": [],
   "source": [
    "import os\n",
    "import re\n",
    "import pickle\n",
    "import random\n",
    "from typing import Sequence, Tuple\n",
    "from tempfile import mkdtemp\n",
    "from datetime import datetime\n",
    "\n",
    "import optuna\n",
    "import numpy as np\n",
    "import pandas as pd\n",
    "\n",
    "import matplotlib.pyplot as plt\n",
    "from sklearn.pipeline import Pipeline\n",
    "from sklearn.metrics import auc, roc_auc_score, accuracy_score, f1_score, precision_score, recall_score\n",
    "\n",
    "from catboost import CatBoostClassifier, Pool\n",
    "\n",
    "pd.set_option('display.max_rows', 100)"
   ]
  },
  {
   "cell_type": "code",
   "execution_count": 64,
   "id": "3c088bc3",
   "metadata": {
    "ExecuteTime": {
     "end_time": "2022-01-10T05:03:17.258789Z",
     "start_time": "2022-01-10T05:03:17.111726Z"
    }
   },
   "outputs": [],
   "source": [
    "from src.io import csv_loader_factory, PickleLoader\n",
    "from src.preprocessing import TextCleaner\n",
    "from src.embeddings import W2VEmbedder\n",
    "from src.eval.metrics import compute_metrics\n",
    "\n",
    "from src.eval.metrics import compute_metrics, plot_preds"
   ]
  },
  {
   "cell_type": "markdown",
   "id": "49e93ee9",
   "metadata": {},
   "source": [
    "# optuna res"
   ]
  },
  {
   "cell_type": "code",
   "execution_count": 40,
   "id": "ea3be446",
   "metadata": {
    "ExecuteTime": {
     "end_time": "2022-01-10T04:23:31.033927Z",
     "start_time": "2022-01-10T04:23:30.204537Z"
    },
    "scrolled": true
   },
   "outputs": [
    {
     "name": "stdout",
     "output_type": "stream",
     "text": [
      "run: 236, compleated: 229 (0.97)\n"
     ]
    },
    {
     "data": {
      "text/html": [
       "<div>\n",
       "<style scoped>\n",
       "    .dataframe tbody tr th:only-of-type {\n",
       "        vertical-align: middle;\n",
       "    }\n",
       "\n",
       "    .dataframe tbody tr th {\n",
       "        vertical-align: top;\n",
       "    }\n",
       "\n",
       "    .dataframe thead th {\n",
       "        text-align: right;\n",
       "    }\n",
       "</style>\n",
       "<table border=\"1\" class=\"dataframe\">\n",
       "  <thead>\n",
       "    <tr style=\"text-align: right;\">\n",
       "      <th></th>\n",
       "      <th>number</th>\n",
       "      <th>values_0</th>\n",
       "      <th>values_1</th>\n",
       "      <th>datetime_start</th>\n",
       "      <th>datetime_complete</th>\n",
       "      <th>duration</th>\n",
       "      <th>params_grow_policy</th>\n",
       "      <th>params_latinize</th>\n",
       "      <th>params_learning_rate</th>\n",
       "      <th>params_max_depth</th>\n",
       "      <th>params_min_data_in_leaf</th>\n",
       "      <th>params_ngram_range_hi</th>\n",
       "      <th>params_reg_lambda</th>\n",
       "      <th>params_selector_p_value_limit</th>\n",
       "      <th>params_stopwords_tresh</th>\n",
       "      <th>params_to_lower</th>\n",
       "      <th>system_attrs_nsga2:generation</th>\n",
       "      <th>system_attrs_nsga2:parents</th>\n",
       "      <th>state</th>\n",
       "      <th>is_best</th>\n",
       "    </tr>\n",
       "  </thead>\n",
       "  <tbody>\n",
       "    <tr>\n",
       "      <th>27</th>\n",
       "      <td>27</td>\n",
       "      <td>0.796082</td>\n",
       "      <td>0.045016</td>\n",
       "      <td>2022-01-10 00:36:00.478575</td>\n",
       "      <td>2022-01-10 00:58:11.026299</td>\n",
       "      <td>0 days 00:22:10.547724</td>\n",
       "      <td>SymmetricTree</td>\n",
       "      <td>True</td>\n",
       "      <td>0.051</td>\n",
       "      <td>9</td>\n",
       "      <td>21</td>\n",
       "      <td>2</td>\n",
       "      <td>7</td>\n",
       "      <td>0.00</td>\n",
       "      <td>0.161</td>\n",
       "      <td>True</td>\n",
       "      <td>0</td>\n",
       "      <td>NaN</td>\n",
       "      <td>COMPLETE</td>\n",
       "      <td>1</td>\n",
       "    </tr>\n",
       "    <tr>\n",
       "      <th>112</th>\n",
       "      <td>112</td>\n",
       "      <td>0.794113</td>\n",
       "      <td>0.048000</td>\n",
       "      <td>2022-01-10 01:59:42.546251</td>\n",
       "      <td>2022-01-10 03:31:33.291507</td>\n",
       "      <td>0 days 01:31:50.745256</td>\n",
       "      <td>Depthwise</td>\n",
       "      <td>False</td>\n",
       "      <td>0.016</td>\n",
       "      <td>16</td>\n",
       "      <td>1</td>\n",
       "      <td>1</td>\n",
       "      <td>5</td>\n",
       "      <td>0.10</td>\n",
       "      <td>0.176</td>\n",
       "      <td>True</td>\n",
       "      <td>1</td>\n",
       "      <td>[6, 9]</td>\n",
       "      <td>COMPLETE</td>\n",
       "      <td>1</td>\n",
       "    </tr>\n",
       "    <tr>\n",
       "      <th>57</th>\n",
       "      <td>57</td>\n",
       "      <td>0.787016</td>\n",
       "      <td>0.055749</td>\n",
       "      <td>2022-01-10 00:57:13.762210</td>\n",
       "      <td>2022-01-10 04:10:44.714691</td>\n",
       "      <td>0 days 03:13:30.952481</td>\n",
       "      <td>SymmetricTree</td>\n",
       "      <td>False</td>\n",
       "      <td>0.086</td>\n",
       "      <td>13</td>\n",
       "      <td>11</td>\n",
       "      <td>2</td>\n",
       "      <td>5</td>\n",
       "      <td>0.05</td>\n",
       "      <td>0.021</td>\n",
       "      <td>False</td>\n",
       "      <td>1</td>\n",
       "      <td>[38, 34]</td>\n",
       "      <td>COMPLETE</td>\n",
       "      <td>1</td>\n",
       "    </tr>\n",
       "    <tr>\n",
       "      <th>185</th>\n",
       "      <td>185</td>\n",
       "      <td>0.782656</td>\n",
       "      <td>0.063241</td>\n",
       "      <td>2022-01-10 03:41:57.263699</td>\n",
       "      <td>2022-01-10 04:27:24.971800</td>\n",
       "      <td>0 days 00:45:27.708101</td>\n",
       "      <td>Depthwise</td>\n",
       "      <td>False</td>\n",
       "      <td>0.056</td>\n",
       "      <td>16</td>\n",
       "      <td>1</td>\n",
       "      <td>1</td>\n",
       "      <td>5</td>\n",
       "      <td>0.10</td>\n",
       "      <td>0.176</td>\n",
       "      <td>True</td>\n",
       "      <td>3</td>\n",
       "      <td>[112, 112]</td>\n",
       "      <td>COMPLETE</td>\n",
       "      <td>1</td>\n",
       "    </tr>\n",
       "    <tr>\n",
       "      <th>64</th>\n",
       "      <td>64</td>\n",
       "      <td>0.781841</td>\n",
       "      <td>0.064257</td>\n",
       "      <td>2022-01-10 01:00:49.309418</td>\n",
       "      <td>2022-01-10 03:18:41.000743</td>\n",
       "      <td>0 days 02:17:51.691325</td>\n",
       "      <td>SymmetricTree</td>\n",
       "      <td>False</td>\n",
       "      <td>0.051</td>\n",
       "      <td>12</td>\n",
       "      <td>1</td>\n",
       "      <td>1</td>\n",
       "      <td>7</td>\n",
       "      <td>0.00</td>\n",
       "      <td>0.131</td>\n",
       "      <td>True</td>\n",
       "      <td>1</td>\n",
       "      <td>[41, 54]</td>\n",
       "      <td>COMPLETE</td>\n",
       "      <td>1</td>\n",
       "    </tr>\n",
       "    <tr>\n",
       "      <th>6</th>\n",
       "      <td>6</td>\n",
       "      <td>0.774336</td>\n",
       "      <td>0.075949</td>\n",
       "      <td>2022-01-10 00:25:58.186470</td>\n",
       "      <td>2022-01-10 00:42:20.058178</td>\n",
       "      <td>0 days 00:16:21.871708</td>\n",
       "      <td>Depthwise</td>\n",
       "      <td>False</td>\n",
       "      <td>0.076</td>\n",
       "      <td>16</td>\n",
       "      <td>1</td>\n",
       "      <td>1</td>\n",
       "      <td>5</td>\n",
       "      <td>0.00</td>\n",
       "      <td>0.021</td>\n",
       "      <td>True</td>\n",
       "      <td>0</td>\n",
       "      <td>NaN</td>\n",
       "      <td>COMPLETE</td>\n",
       "      <td>1</td>\n",
       "    </tr>\n",
       "    <tr>\n",
       "      <th>128</th>\n",
       "      <td>128</td>\n",
       "      <td>0.756446</td>\n",
       "      <td>0.076596</td>\n",
       "      <td>2022-01-10 02:13:47.968011</td>\n",
       "      <td>2022-01-10 02:19:14.471185</td>\n",
       "      <td>0 days 00:05:26.503174</td>\n",
       "      <td>Lossguide</td>\n",
       "      <td>False</td>\n",
       "      <td>0.026</td>\n",
       "      <td>11</td>\n",
       "      <td>81</td>\n",
       "      <td>1</td>\n",
       "      <td>9</td>\n",
       "      <td>0.35</td>\n",
       "      <td>0.086</td>\n",
       "      <td>True</td>\n",
       "      <td>2</td>\n",
       "      <td>[16, 0]</td>\n",
       "      <td>COMPLETE</td>\n",
       "      <td>1</td>\n",
       "    </tr>\n",
       "    <tr>\n",
       "      <th>216</th>\n",
       "      <td>216</td>\n",
       "      <td>0.749341</td>\n",
       "      <td>0.085837</td>\n",
       "      <td>2022-01-10 04:40:46.922314</td>\n",
       "      <td>2022-01-10 04:44:08.559890</td>\n",
       "      <td>0 days 00:03:21.637576</td>\n",
       "      <td>Depthwise</td>\n",
       "      <td>False</td>\n",
       "      <td>0.051</td>\n",
       "      <td>11</td>\n",
       "      <td>71</td>\n",
       "      <td>1</td>\n",
       "      <td>9</td>\n",
       "      <td>0.35</td>\n",
       "      <td>0.181</td>\n",
       "      <td>False</td>\n",
       "      <td>3</td>\n",
       "      <td>[142, 108]</td>\n",
       "      <td>COMPLETE</td>\n",
       "      <td>1</td>\n",
       "    </tr>\n",
       "    <tr>\n",
       "      <th>209</th>\n",
       "      <td>209</td>\n",
       "      <td>0.746751</td>\n",
       "      <td>0.094421</td>\n",
       "      <td>2022-01-10 04:29:21.240030</td>\n",
       "      <td>2022-01-10 04:32:05.995005</td>\n",
       "      <td>0 days 00:02:44.754975</td>\n",
       "      <td>Lossguide</td>\n",
       "      <td>False</td>\n",
       "      <td>0.041</td>\n",
       "      <td>5</td>\n",
       "      <td>101</td>\n",
       "      <td>1</td>\n",
       "      <td>5</td>\n",
       "      <td>0.35</td>\n",
       "      <td>0.116</td>\n",
       "      <td>False</td>\n",
       "      <td>3</td>\n",
       "      <td>[120, 50]</td>\n",
       "      <td>COMPLETE</td>\n",
       "      <td>1</td>\n",
       "    </tr>\n",
       "    <tr>\n",
       "      <th>227</th>\n",
       "      <td>227</td>\n",
       "      <td>0.746751</td>\n",
       "      <td>0.094421</td>\n",
       "      <td>2022-01-10 04:56:19.480096</td>\n",
       "      <td>2022-01-10 04:58:59.934021</td>\n",
       "      <td>0 days 00:02:40.453925</td>\n",
       "      <td>Lossguide</td>\n",
       "      <td>False</td>\n",
       "      <td>0.041</td>\n",
       "      <td>5</td>\n",
       "      <td>101</td>\n",
       "      <td>1</td>\n",
       "      <td>5</td>\n",
       "      <td>0.35</td>\n",
       "      <td>0.116</td>\n",
       "      <td>False</td>\n",
       "      <td>4</td>\n",
       "      <td>[209, 209]</td>\n",
       "      <td>COMPLETE</td>\n",
       "      <td>1</td>\n",
       "    </tr>\n",
       "    <tr>\n",
       "      <th>229</th>\n",
       "      <td>229</td>\n",
       "      <td>0.694181</td>\n",
       "      <td>0.116592</td>\n",
       "      <td>2022-01-10 04:59:00.450929</td>\n",
       "      <td>2022-01-10 05:00:55.529379</td>\n",
       "      <td>0 days 00:01:55.078450</td>\n",
       "      <td>Depthwise</td>\n",
       "      <td>False</td>\n",
       "      <td>0.056</td>\n",
       "      <td>9</td>\n",
       "      <td>81</td>\n",
       "      <td>2</td>\n",
       "      <td>5</td>\n",
       "      <td>0.60</td>\n",
       "      <td>0.036</td>\n",
       "      <td>True</td>\n",
       "      <td>4</td>\n",
       "      <td>[179, 190]</td>\n",
       "      <td>COMPLETE</td>\n",
       "      <td>1</td>\n",
       "    </tr>\n",
       "    <tr>\n",
       "      <th>130</th>\n",
       "      <td>130</td>\n",
       "      <td>0.690062</td>\n",
       "      <td>0.143460</td>\n",
       "      <td>2022-01-10 02:19:32.953311</td>\n",
       "      <td>2022-01-10 02:24:23.825993</td>\n",
       "      <td>0 days 00:04:50.872682</td>\n",
       "      <td>Depthwise</td>\n",
       "      <td>False</td>\n",
       "      <td>0.046</td>\n",
       "      <td>8</td>\n",
       "      <td>101</td>\n",
       "      <td>2</td>\n",
       "      <td>3</td>\n",
       "      <td>0.25</td>\n",
       "      <td>0.046</td>\n",
       "      <td>False</td>\n",
       "      <td>2</td>\n",
       "      <td>[58, 84]</td>\n",
       "      <td>COMPLETE</td>\n",
       "      <td>1</td>\n",
       "    </tr>\n",
       "    <tr>\n",
       "      <th>179</th>\n",
       "      <td>179</td>\n",
       "      <td>0.643433</td>\n",
       "      <td>0.168889</td>\n",
       "      <td>2022-01-10 03:35:44.477106</td>\n",
       "      <td>2022-01-10 03:37:49.953157</td>\n",
       "      <td>0 days 00:02:05.476051</td>\n",
       "      <td>Depthwise</td>\n",
       "      <td>False</td>\n",
       "      <td>0.026</td>\n",
       "      <td>11</td>\n",
       "      <td>61</td>\n",
       "      <td>3</td>\n",
       "      <td>5</td>\n",
       "      <td>0.60</td>\n",
       "      <td>0.036</td>\n",
       "      <td>True</td>\n",
       "      <td>3</td>\n",
       "      <td>[16, 26]</td>\n",
       "      <td>COMPLETE</td>\n",
       "      <td>1</td>\n",
       "    </tr>\n",
       "    <tr>\n",
       "      <th>146</th>\n",
       "      <td>146</td>\n",
       "      <td>0.626435</td>\n",
       "      <td>0.200000</td>\n",
       "      <td>2022-01-10 02:57:12.269890</td>\n",
       "      <td>2022-01-10 02:59:34.109957</td>\n",
       "      <td>0 days 00:02:21.840067</td>\n",
       "      <td>Lossguide</td>\n",
       "      <td>False</td>\n",
       "      <td>0.026</td>\n",
       "      <td>11</td>\n",
       "      <td>71</td>\n",
       "      <td>3</td>\n",
       "      <td>5</td>\n",
       "      <td>0.70</td>\n",
       "      <td>0.036</td>\n",
       "      <td>True</td>\n",
       "      <td>2</td>\n",
       "      <td>[16, 28]</td>\n",
       "      <td>COMPLETE</td>\n",
       "      <td>1</td>\n",
       "    </tr>\n",
       "  </tbody>\n",
       "</table>\n",
       "</div>"
      ],
      "text/plain": [
       "     number  values_0  values_1             datetime_start  \\\n",
       "27       27  0.796082  0.045016 2022-01-10 00:36:00.478575   \n",
       "112     112  0.794113  0.048000 2022-01-10 01:59:42.546251   \n",
       "57       57  0.787016  0.055749 2022-01-10 00:57:13.762210   \n",
       "185     185  0.782656  0.063241 2022-01-10 03:41:57.263699   \n",
       "64       64  0.781841  0.064257 2022-01-10 01:00:49.309418   \n",
       "6         6  0.774336  0.075949 2022-01-10 00:25:58.186470   \n",
       "128     128  0.756446  0.076596 2022-01-10 02:13:47.968011   \n",
       "216     216  0.749341  0.085837 2022-01-10 04:40:46.922314   \n",
       "209     209  0.746751  0.094421 2022-01-10 04:29:21.240030   \n",
       "227     227  0.746751  0.094421 2022-01-10 04:56:19.480096   \n",
       "229     229  0.694181  0.116592 2022-01-10 04:59:00.450929   \n",
       "130     130  0.690062  0.143460 2022-01-10 02:19:32.953311   \n",
       "179     179  0.643433  0.168889 2022-01-10 03:35:44.477106   \n",
       "146     146  0.626435  0.200000 2022-01-10 02:57:12.269890   \n",
       "\n",
       "             datetime_complete               duration params_grow_policy  \\\n",
       "27  2022-01-10 00:58:11.026299 0 days 00:22:10.547724      SymmetricTree   \n",
       "112 2022-01-10 03:31:33.291507 0 days 01:31:50.745256          Depthwise   \n",
       "57  2022-01-10 04:10:44.714691 0 days 03:13:30.952481      SymmetricTree   \n",
       "185 2022-01-10 04:27:24.971800 0 days 00:45:27.708101          Depthwise   \n",
       "64  2022-01-10 03:18:41.000743 0 days 02:17:51.691325      SymmetricTree   \n",
       "6   2022-01-10 00:42:20.058178 0 days 00:16:21.871708          Depthwise   \n",
       "128 2022-01-10 02:19:14.471185 0 days 00:05:26.503174          Lossguide   \n",
       "216 2022-01-10 04:44:08.559890 0 days 00:03:21.637576          Depthwise   \n",
       "209 2022-01-10 04:32:05.995005 0 days 00:02:44.754975          Lossguide   \n",
       "227 2022-01-10 04:58:59.934021 0 days 00:02:40.453925          Lossguide   \n",
       "229 2022-01-10 05:00:55.529379 0 days 00:01:55.078450          Depthwise   \n",
       "130 2022-01-10 02:24:23.825993 0 days 00:04:50.872682          Depthwise   \n",
       "179 2022-01-10 03:37:49.953157 0 days 00:02:05.476051          Depthwise   \n",
       "146 2022-01-10 02:59:34.109957 0 days 00:02:21.840067          Lossguide   \n",
       "\n",
       "     params_latinize  params_learning_rate  params_max_depth  \\\n",
       "27              True                 0.051                 9   \n",
       "112            False                 0.016                16   \n",
       "57             False                 0.086                13   \n",
       "185            False                 0.056                16   \n",
       "64             False                 0.051                12   \n",
       "6              False                 0.076                16   \n",
       "128            False                 0.026                11   \n",
       "216            False                 0.051                11   \n",
       "209            False                 0.041                 5   \n",
       "227            False                 0.041                 5   \n",
       "229            False                 0.056                 9   \n",
       "130            False                 0.046                 8   \n",
       "179            False                 0.026                11   \n",
       "146            False                 0.026                11   \n",
       "\n",
       "     params_min_data_in_leaf  params_ngram_range_hi  params_reg_lambda  \\\n",
       "27                        21                      2                  7   \n",
       "112                        1                      1                  5   \n",
       "57                        11                      2                  5   \n",
       "185                        1                      1                  5   \n",
       "64                         1                      1                  7   \n",
       "6                          1                      1                  5   \n",
       "128                       81                      1                  9   \n",
       "216                       71                      1                  9   \n",
       "209                      101                      1                  5   \n",
       "227                      101                      1                  5   \n",
       "229                       81                      2                  5   \n",
       "130                      101                      2                  3   \n",
       "179                       61                      3                  5   \n",
       "146                       71                      3                  5   \n",
       "\n",
       "     params_selector_p_value_limit  params_stopwords_tresh  params_to_lower  \\\n",
       "27                            0.00                   0.161             True   \n",
       "112                           0.10                   0.176             True   \n",
       "57                            0.05                   0.021            False   \n",
       "185                           0.10                   0.176             True   \n",
       "64                            0.00                   0.131             True   \n",
       "6                             0.00                   0.021             True   \n",
       "128                           0.35                   0.086             True   \n",
       "216                           0.35                   0.181            False   \n",
       "209                           0.35                   0.116            False   \n",
       "227                           0.35                   0.116            False   \n",
       "229                           0.60                   0.036             True   \n",
       "130                           0.25                   0.046            False   \n",
       "179                           0.60                   0.036             True   \n",
       "146                           0.70                   0.036             True   \n",
       "\n",
       "     system_attrs_nsga2:generation system_attrs_nsga2:parents     state  \\\n",
       "27                               0                        NaN  COMPLETE   \n",
       "112                              1                     [6, 9]  COMPLETE   \n",
       "57                               1                   [38, 34]  COMPLETE   \n",
       "185                              3                 [112, 112]  COMPLETE   \n",
       "64                               1                   [41, 54]  COMPLETE   \n",
       "6                                0                        NaN  COMPLETE   \n",
       "128                              2                    [16, 0]  COMPLETE   \n",
       "216                              3                 [142, 108]  COMPLETE   \n",
       "209                              3                  [120, 50]  COMPLETE   \n",
       "227                              4                 [209, 209]  COMPLETE   \n",
       "229                              4                 [179, 190]  COMPLETE   \n",
       "130                              2                   [58, 84]  COMPLETE   \n",
       "179                              3                   [16, 26]  COMPLETE   \n",
       "146                              2                   [16, 28]  COMPLETE   \n",
       "\n",
       "     is_best  \n",
       "27         1  \n",
       "112        1  \n",
       "57         1  \n",
       "185        1  \n",
       "64         1  \n",
       "6          1  \n",
       "128        1  \n",
       "216        1  \n",
       "209        1  \n",
       "227        1  \n",
       "229        1  \n",
       "130        1  \n",
       "179        1  \n",
       "146        1  "
      ]
     },
     "execution_count": 40,
     "metadata": {},
     "output_type": "execute_result"
    }
   ],
   "source": [
    "name = 'test_study_20220110_0025.pkl'\n",
    "path = os.path.join('./opt_studies/', name)\n",
    "\n",
    "with open(path, 'rb') as p:\n",
    "    study = pickle.load(p)\n",
    "\n",
    "study_df = study.trials_dataframe()\n",
    "study_df['is_best'] = 0\n",
    "study_df.loc[[t.number for t in study.best_trials], 'is_best'] = 1\n",
    "\n",
    "run = len(study_df)\n",
    "completed = len(study_df[study_df['state']=='COMPLETE'])\n",
    "\n",
    "print(f'run: {run}, compleated: {completed} ({round(completed/run, 3)})')\n",
    "study_df[study_df['is_best']==1].sort_values('values_0', ascending=False)"
   ]
  },
  {
   "cell_type": "code",
   "execution_count": 41,
   "id": "f1ae06be",
   "metadata": {
    "ExecuteTime": {
     "end_time": "2022-01-10T04:24:26.857952Z",
     "start_time": "2022-01-10T04:24:25.557241Z"
    }
   },
   "outputs": [
    {
     "data": {
      "text/plain": [
       "number                                                  146\n",
       "values_0                                           0.626435\n",
       "values_1                                                0.2\n",
       "datetime_start                   2022-01-10 02:57:12.269890\n",
       "datetime_complete                2022-01-10 02:59:34.109957\n",
       "duration                             0 days 00:02:21.840067\n",
       "params_grow_policy                                Lossguide\n",
       "params_latinize                                       False\n",
       "params_learning_rate                                  0.026\n",
       "params_max_depth                                         11\n",
       "params_min_data_in_leaf                                  71\n",
       "params_ngram_range_hi                                     3\n",
       "params_reg_lambda                                         5\n",
       "params_selector_p_value_limit                           0.7\n",
       "params_stopwords_tresh                                0.036\n",
       "params_to_lower                                        True\n",
       "system_attrs_nsga2:generation                             2\n",
       "system_attrs_nsga2:parents                         [16, 28]\n",
       "state                                              COMPLETE\n",
       "is_best                                                   1\n",
       "Name: 146, dtype: object"
      ]
     },
     "execution_count": 41,
     "metadata": {},
     "output_type": "execute_result"
    }
   ],
   "source": [
    "study_df[study_df['is_best']==1].sort_values('values_0', ascending=False).iloc[-1, :]"
   ]
  },
  {
   "cell_type": "code",
   "execution_count": 35,
   "id": "f3564330",
   "metadata": {
    "ExecuteTime": {
     "end_time": "2022-01-10T04:16:16.421206Z",
     "start_time": "2022-01-10T04:16:15.168557Z"
    }
   },
   "outputs": [
    {
     "data": {
      "text/plain": [
       "<AxesSubplot:xlabel='auc', ylabel='f1'>"
      ]
     },
     "execution_count": 35,
     "metadata": {},
     "output_type": "execute_result"
    },
    {
     "data": {
      "image/png": "[encoded data removed]",
      "text/plain": [
       "<Figure size 432x288 with 1 Axes>"
      ]
     },
     "metadata": {
      "needs_background": "light"
     },
     "output_type": "display_data"
    }
   ],
   "source": [
    "dfp = study_df[study_df['state']=='COMPLETE'][['values_0', 'values_1', 'is_best']].rename({'values_0': 'auc', 'values_1': 'f1'}, axis=1)\n",
    "\n",
    "color_map ={\n",
    "    1: 'tab:red',\n",
    "    0: 'tab:blue'\n",
    "}\n",
    "colors = dfp['is_best'].replace(color_map)\n",
    "dfp.plot.scatter(x='auc', y='f1', c=colors)\n"
   ]
  },
  {
   "cell_type": "code",
   "execution_count": 37,
   "id": "a91dd654",
   "metadata": {
    "ExecuteTime": {
     "end_time": "2022-01-10T04:16:45.735326Z",
     "start_time": "2022-01-10T04:16:43.854021Z"
    },
    "scrolled": false
   },
   "outputs": [
    {
     "data": {
      "image/png": "[encoded data removed]",
      "text/plain": [
       "<Figure size 432x288 with 1 Axes>"
      ]
     },
     "metadata": {
      "needs_background": "light"
     },
     "output_type": "display_data"
    },
    {
     "data": {
      "image/png": "[encoded data removed]",
      "text/plain": [
       "<Figure size 432x288 with 1 Axes>"
      ]
     },
     "metadata": {
      "needs_background": "light"
     },
     "output_type": "display_data"
    }
   ],
   "source": [
    "dfp = study_df[study_df['state']=='COMPLETE'][['number', 'values_0', 'values_1']].rename({'values_0': 'auc', 'values_1': 'f1'}, axis=1)\n",
    "\n",
    "dfp['auc'].plot()\n",
    "plt.show()\n",
    "dfp['f1'].plot()\n",
    "plt.show()"
   ]
  },
  {
   "cell_type": "code",
   "execution_count": 38,
   "id": "5d1eff2f",
   "metadata": {
    "ExecuteTime": {
     "end_time": "2022-01-10T04:18:46.219873Z",
     "start_time": "2022-01-10T04:17:30.587500Z"
    }
   },
   "outputs": [],
   "source": [
    "imp_auc = optuna.importance.get_param_importances(study, target=lambda t: t.values[0])\n",
    "imp_f1 = optuna.importance.get_param_importances(study, target=lambda t: t.values[1])"
   ]
  },
  {
   "cell_type": "code",
   "execution_count": 39,
   "id": "7aa999f7",
   "metadata": {
    "ExecuteTime": {
     "end_time": "2022-01-10T04:18:48.247838Z",
     "start_time": "2022-01-10T04:18:46.219873Z"
    }
   },
   "outputs": [
    {
     "data": {
      "image/png": "[encoded data removed]",
      "text/plain": [
       "<Figure size 432x288 with 1 Axes>"
      ]
     },
     "metadata": {
      "needs_background": "light"
     },
     "output_type": "display_data"
    },
    {
     "data": {
      "image/png": "[encoded data removed]",
      "text/plain": [
       "<Figure size 432x288 with 1 Axes>"
      ]
     },
     "metadata": {
      "needs_background": "light"
     },
     "output_type": "display_data"
    }
   ],
   "source": [
    "pd.Series(imp_auc).sort_values().plot.barh()\n",
    "plt.show()\n",
    "\n",
    "pd.Series(imp_f1).sort_values().plot.barh()\n",
    "plt.show()"
   ]
  },
  {
   "cell_type": "markdown",
   "id": "dc78ad8b",
   "metadata": {},
   "source": [
    "**Insights**:  \n",
    "\n",
    "Text cleaner\n",
    "* `params_latinize` minor impact -> can be defaulted to **False**\n",
    "* `params_to_lower` lowers both **auc** and **f1** -> default to **False**\n",
    "\n",
    "W2V Encoder\n",
    "* positive corr of `epochs` with **f1** -> increase max number of `epoch` ~20\n",
    "* !**auc** and **f1** has almost perfect negative corellation with respect to number of `epoch`\n",
    "* increase `params_alpha` significant increasing trend of **f1** -> max should be increased to 0.2\n",
    "* `params_max_final_vocab` should be between 10-15k\n",
    "* `params_min_count`:  \n",
    "    * **auc** is maximized in 100-125 range\n",
    "    * **f1** max around 50-60, negative corr\n",
    "* `params_ns_exponent` best metric values between -0.2 and 0.2, above 0.2 both metrics decrease\n",
    "* `params_sg` minor impact on average metrics -> fix at 0\n",
    "* `params_vector_size`  \n",
    "Best **auc** values match lowest **f1** values. Similarly in the oher side\n",
    "    * **auc** best values between 400 and 750\n",
    "    * **f1** best values between 300 and 600\n",
    "\n",
    "Learner\n",
    "* `params_learning_rate` slight increasing trend of **f1** -> max should be increased to 0.2\n",
    "* ?`params_grow_policy` other than *Lossguide* failed\n",
    "* `params_max_depth`: negative corr with **auc** and positive with **f1**\n",
    "Best **auc** at 3, best **f1** at 13\n",
    "* `params_min_data_in_leaf` both metrics has positive corr -> should be increased to ~200\n",
    "* `params_num_leaves` significant impact, similar to max_depth\n",
    "Best **auc** at 5, best **f1** at 35\n",
    "* `params_reg_lambda` minor impact, should be between 3 and 7, can be fixed to 5/6\n",
    "Best **auc** at 3, best **f1** at 7"
   ]
  },
  {
   "cell_type": "code",
   "execution_count": 112,
   "id": "8252cd83",
   "metadata": {
    "ExecuteTime": {
     "end_time": "2022-01-08T11:29:30.969056Z",
     "start_time": "2022-01-08T11:29:29.967554Z"
    }
   },
   "outputs": [
    {
     "data": {
      "image/png": "[encoded data removed]",
      "text/plain": [
       "<Figure size 432x288 with 1 Axes>"
      ]
     },
     "metadata": {
      "needs_background": "light"
     },
     "output_type": "display_data"
    },
    {
     "data": {
      "image/png": "[encoded data removed]",
      "text/plain": [
       "<Figure size 432x288 with 1 Axes>"
      ]
     },
     "metadata": {
      "needs_background": "light"
     },
     "output_type": "display_data"
    },
    {
     "data": {
      "text/plain": [
       "<AxesSubplot:xlabel='params_max_depth'>"
      ]
     },
     "execution_count": 112,
     "metadata": {},
     "output_type": "execute_result"
    },
    {
     "data": {
      "image/png": "[encoded data removed]",
      "text/plain": [
       "<Figure size 432x288 with 1 Axes>"
      ]
     },
     "metadata": {
      "needs_background": "light"
     },
     "output_type": "display_data"
    }
   ],
   "source": [
    "dfg = study_df.groupby('params_max_depth').agg(\n",
    "    size=('params_grow_policy', 'size'),\n",
    "    auc=('values_0', 'median'),\n",
    "    f1=('values_1' ,'median')\n",
    ")\n",
    "\n",
    "dfg['size'].plot(kind='bar')\n",
    "plt.show()\n",
    "dfg[['auc']].plot()\n",
    "plt.show()\n",
    "dfg[['f1']].plot()"
   ]
  },
  {
   "cell_type": "markdown",
   "id": "681025f6",
   "metadata": {},
   "source": [
    "# train best model"
   ]
  },
  {
   "cell_type": "markdown",
   "id": "c33681d3",
   "metadata": {},
   "source": [
    "## def"
   ]
  },
  {
   "cell_type": "code",
   "execution_count": 60,
   "id": "826abd14",
   "metadata": {
    "ExecuteTime": {
     "end_time": "2022-01-10T04:51:55.534957Z",
     "start_time": "2022-01-10T04:51:55.389444Z"
    }
   },
   "outputs": [],
   "source": [
    "import pickle\n",
    "from datetime import datetime\n",
    "from collections import Counter\n",
    "\n",
    "import pandas as pd\n",
    "import numpy as np\n",
    "import spacy\n",
    "import optuna\n",
    "from catboost import CatBoostClassifier\n",
    "from sklearn.metrics import roc_auc_score, f1_score\n",
    "from sklearn.feature_selection import chi2\n",
    "from sklearn.feature_extraction.text import TfidfVectorizer\n",
    "\n",
    "from src.preproc import tokenize\n",
    "from src.io import csv_loader_factory\n",
    "from src.preprocessing import TextCleaner\n",
    "from src.embeddings import W2VEmbedder\n",
    "\n",
    "def make_stopwords(texts: pd.Series, freq_tresh: float = 0.02):\n",
    "    words = list(map(lambda str: str.split(), texts))\n",
    "    words = [item for sublist in words for item in sublist]\n",
    "\n",
    "    words_count = Counter(words)\n",
    "\n",
    "    return set([k for k, v in words_count.items() if v > len(texts) * freq_tresh])\n",
    "\n",
    "def lemmatize_pipe(doc, stopwords):\n",
    "    lemma_list = [str(tok.lemma_).lower() for tok in doc\n",
    "                  if tok.text.lower() not in stopwords\n",
    "                 ] \n",
    "    return ' '.join(lemma_list)\n",
    "\n",
    "def preprocess_pipe(texts, stopwords):\n",
    "    if isinstance(texts, str): texts = [texts]\n",
    "    preproc_pipe = []\n",
    "    for doc in nlp.pipe(texts, batch_size=20):\n",
    "        preproc_pipe.append(lemmatize_pipe(doc, stopwords))\n",
    "    return pd.Series(preproc_pipe, index=texts.index)\n",
    "\n",
    "def train_params(params):\n",
    "    # clean\n",
    "    cleaner_params = {\n",
    "        'latinize': params['latinize'],\n",
    "        'to_lower': params['to_lower'],\n",
    "    }\n",
    "    cleaner = TextCleaner(**cleaner_params)\n",
    "    train_clean = cleaner.fit_transform(train_raw)\n",
    "    test_clean = cleaner.transform(test_raw)\n",
    "\n",
    "    # stop words\n",
    "    freq_tresh = params[\"stopwords_tresh\"]\n",
    "    stopwords = make_stopwords(train_clean, freq_tresh)\n",
    "\n",
    "    # lemmatize\n",
    "    train_prepro = preprocess_pipe(train_clean, stopwords)\n",
    "    test_prepro = preprocess_pipe(test_clean, stopwords)\n",
    "\n",
    "    # vectorize\n",
    "    ngram_range_hi =  params['ngram_range_hi']\n",
    "    vec_params = {\n",
    "        'ngram_range': (1, ngram_range_hi)\n",
    "    }\n",
    "    vectorizer = TfidfVectorizer(**vec_params)\n",
    "    train_vec = vectorizer.fit_transform(train_prepro)\n",
    "\n",
    "    # select words with with chi2\n",
    "    _, p = chi2(train_vec, train_label)\n",
    "    df_selection = pd.DataFrame({'feature': vectorizer.get_feature_names_out(), 'score': 1-p})\n",
    "    p_value_limit =  params['selector_p_value_limit'],\n",
    "    features_selected = df_selection[df_selection['score'] > p_value_limit]['feature']\n",
    "\n",
    "    # vectorize on selected\n",
    "    vec_params = {\n",
    "        'ngram_range': (1, ngram_range_hi),\n",
    "        'vocabulary': features_selected\n",
    "    }\n",
    "    vectorizer = TfidfVectorizer(**vec_params)\n",
    "    vectorizer.fit(train_prepro)    \n",
    "    train_vec = vectorizer.transform(train_prepro)\n",
    "    test_vec = vectorizer.transform(test_prepro)\n",
    "\n",
    "    \n",
    "    # fit model\n",
    "    cb_params = {\n",
    "        'eval_metric': 'AUC',\n",
    "        'early_stopping_rounds': 50,\n",
    "        'verbose': 50,\n",
    "        'grow_policy': params['grow_policy'],\n",
    "        'min_data_in_leaf': params['min_data_in_leaf'],\n",
    "        'learning_rate': params['learning_rate'],\n",
    "        'reg_lambda': params['reg_lambda'],\n",
    "        'max_depth': params['max_depth'],\n",
    "    }\n",
    "    if cb_params == 'Lossguide':\n",
    "        cb_params_lg = {\n",
    "            'num_leaves': params['num_leaves']\n",
    "        }\n",
    "        cb_params.update(cb_params_lg)\n",
    "\n",
    "    cb = CatBoostClassifier(**cb_params)\n",
    "    cb.fit(X=train_vec, y=train_label, eval_set=(test_vec, test_label))\n",
    "    \n",
    "    proba_train = cb.predict_proba(train_vec)[:, 1]\n",
    "    proba_test = cb.predict_proba(test_vec)[:, 1]\n",
    "    \n",
    "    return proba_train, proba_test"
   ]
  },
  {
   "cell_type": "code",
   "execution_count": 43,
   "id": "cc8eb0a6",
   "metadata": {
    "ExecuteTime": {
     "end_time": "2022-01-10T04:33:14.046006Z",
     "start_time": "2022-01-10T04:33:04.951795Z"
    }
   },
   "outputs": [
    {
     "name": "stdout",
     "output_type": "stream",
     "text": [
      "loading model\n"
     ]
    },
    {
     "name": "stderr",
     "output_type": "stream",
     "text": [
      "INFO:2022-01-10 05:33:13:io:loading from csv: ./data/poleval19.csv\n",
      "INFO:2022-01-10 05:33:14:io:loaded 11041 rows\n"
     ]
    },
    {
     "name": "stdout",
     "output_type": "stream",
     "text": [
      "loading data\n"
     ]
    }
   ],
   "source": [
    "print('loading model')\n",
    "nlp = spacy.load('pl_core_news_md', disable=['parser', 'tagger', 'ner', 'attribute_ruler'])\n",
    "\n",
    "print('loading data')\n",
    "loader = csv_loader_factory('poleval')\n",
    "data = loader.load()\n",
    "\n",
    "train_raw = data.loc[data['dataset']=='train', 'text_raw']\n",
    "train_label = data.loc[data['dataset']=='train', 'tag']\n",
    "test_raw = data.loc[data['dataset']=='test', 'text_raw']\n",
    "test_label = data.loc[data['dataset']=='test', 'tag']"
   ]
  },
  {
   "cell_type": "code",
   "execution_count": null,
   "id": "f0e0c227",
   "metadata": {},
   "outputs": [],
   "source": [
    "def get_optuna_params(trial_id: int):\n",
    "    trial_data = study_df[study_df['is_best']==1].sort_values('values_0', ascending=False).loc[trial_id, :]\n",
    "    return {re.sub('params_', '', k): v for k, v in trial_data.filter(regex='param').to_dict().items()}"
   ]
  },
  {
   "cell_type": "markdown",
   "id": "4dfcd14e",
   "metadata": {},
   "source": [
    "## best auc"
   ]
  },
  {
   "cell_type": "code",
   "execution_count": 70,
   "id": "008d3210",
   "metadata": {
    "ExecuteTime": {
     "end_time": "2022-01-10T05:05:51.858475Z",
     "start_time": "2022-01-10T05:05:51.713006Z"
    }
   },
   "outputs": [
    {
     "data": {
      "text/plain": [
       "{'grow_policy': 'SymmetricTree',\n",
       " 'latinize': True,\n",
       " 'learning_rate': 0.051000000000000004,\n",
       " 'max_depth': 9,\n",
       " 'min_data_in_leaf': 21,\n",
       " 'ngram_range_hi': 2,\n",
       " 'reg_lambda': 7,\n",
       " 'selector_p_value_limit': 0.0,\n",
       " 'stopwords_tresh': 0.161,\n",
       " 'to_lower': True}"
      ]
     },
     "execution_count": 70,
     "metadata": {},
     "output_type": "execute_result"
    }
   ],
   "source": [
    "trial_id = study_df[study_df['is_best']==1].sort_values('values_0', ascending=False).iloc[0, :]['number']\n",
    "\n",
    "params = get_optuna_params(trial_id)\n",
    "params"
   ]
  },
  {
   "cell_type": "code",
   "execution_count": 76,
   "id": "a6f77afa",
   "metadata": {
    "ExecuteTime": {
     "end_time": "2022-01-10T05:09:48.769569Z",
     "start_time": "2022-01-10T05:09:48.630913Z"
    }
   },
   "outputs": [],
   "source": [
    "proba_train_auc, proba_test_auc = train_params(params)"
   ]
  },
  {
   "cell_type": "code",
   "execution_count": 74,
   "id": "fd8745d9",
   "metadata": {
    "ExecuteTime": {
     "end_time": "2022-01-10T05:09:48.156953Z",
     "start_time": "2022-01-10T05:09:47.690611Z"
    }
   },
   "outputs": [
    {
     "data": {
      "text/html": [
       "<div>\n",
       "<style scoped>\n",
       "    .dataframe tbody tr th:only-of-type {\n",
       "        vertical-align: middle;\n",
       "    }\n",
       "\n",
       "    .dataframe tbody tr th {\n",
       "        vertical-align: top;\n",
       "    }\n",
       "\n",
       "    .dataframe thead th {\n",
       "        text-align: right;\n",
       "    }\n",
       "</style>\n",
       "<table border=\"1\" class=\"dataframe\">\n",
       "  <thead>\n",
       "    <tr style=\"text-align: right;\">\n",
       "      <th></th>\n",
       "      <th>train</th>\n",
       "      <th>test</th>\n",
       "    </tr>\n",
       "  </thead>\n",
       "  <tbody>\n",
       "    <tr>\n",
       "      <th>AUC</th>\n",
       "      <td>0.905483</td>\n",
       "      <td>0.796082</td>\n",
       "    </tr>\n",
       "    <tr>\n",
       "      <th>Accuracy</th>\n",
       "      <td>0.830694</td>\n",
       "      <td>0.703000</td>\n",
       "    </tr>\n",
       "    <tr>\n",
       "      <th>F1</th>\n",
       "      <td>0.001175</td>\n",
       "      <td>0.045016</td>\n",
       "    </tr>\n",
       "    <tr>\n",
       "      <th>Precision</th>\n",
       "      <td>0.001175</td>\n",
       "      <td>0.039548</td>\n",
       "    </tr>\n",
       "    <tr>\n",
       "      <th>Recall</th>\n",
       "      <td>0.001175</td>\n",
       "      <td>0.052239</td>\n",
       "    </tr>\n",
       "    <tr>\n",
       "      <th>Mean</th>\n",
       "      <td>0.083607</td>\n",
       "      <td>0.085360</td>\n",
       "    </tr>\n",
       "  </tbody>\n",
       "</table>\n",
       "</div>"
      ],
      "text/plain": [
       "              train      test\n",
       "AUC        0.905483  0.796082\n",
       "Accuracy   0.830694  0.703000\n",
       "F1         0.001175  0.045016\n",
       "Precision  0.001175  0.039548\n",
       "Recall     0.001175  0.052239\n",
       "Mean       0.083607  0.085360"
      ]
     },
     "metadata": {},
     "output_type": "display_data"
    },
    {
     "data": {
      "image/png": "[encoded data removed]",
      "text/plain": [
       "<Figure size 432x288 with 1 Axes>"
      ]
     },
     "metadata": {
      "needs_background": "light"
     },
     "output_type": "display_data"
    },
    {
     "data": {
      "image/png": "[encoded data removed]",
      "text/plain": [
       "<Figure size 432x288 with 2 Axes>"
      ]
     },
     "metadata": {
      "needs_background": "light"
     },
     "output_type": "display_data"
    },
    {
     "data": {
      "text/html": [
       "<div>\n",
       "<style scoped>\n",
       "    .dataframe tbody tr th:only-of-type {\n",
       "        vertical-align: middle;\n",
       "    }\n",
       "\n",
       "    .dataframe tbody tr th {\n",
       "        vertical-align: top;\n",
       "    }\n",
       "\n",
       "    .dataframe thead th {\n",
       "        text-align: right;\n",
       "    }\n",
       "</style>\n",
       "<table border=\"1\" class=\"dataframe\">\n",
       "  <thead>\n",
       "    <tr style=\"text-align: right;\">\n",
       "      <th></th>\n",
       "      <th>count</th>\n",
       "      <th>act</th>\n",
       "      <th>pred</th>\n",
       "    </tr>\n",
       "    <tr>\n",
       "      <th>pred_q</th>\n",
       "      <th></th>\n",
       "      <th></th>\n",
       "      <th></th>\n",
       "    </tr>\n",
       "  </thead>\n",
       "  <tbody>\n",
       "    <tr>\n",
       "      <th>0</th>\n",
       "      <td>100</td>\n",
       "      <td>0.060000</td>\n",
       "      <td>0.051511</td>\n",
       "    </tr>\n",
       "    <tr>\n",
       "      <th>1</th>\n",
       "      <td>100</td>\n",
       "      <td>0.050000</td>\n",
       "      <td>0.056872</td>\n",
       "    </tr>\n",
       "    <tr>\n",
       "      <th>2</th>\n",
       "      <td>100</td>\n",
       "      <td>0.020000</td>\n",
       "      <td>0.059362</td>\n",
       "    </tr>\n",
       "    <tr>\n",
       "      <th>3</th>\n",
       "      <td>102</td>\n",
       "      <td>0.019608</td>\n",
       "      <td>0.061153</td>\n",
       "    </tr>\n",
       "    <tr>\n",
       "      <th>4</th>\n",
       "      <td>98</td>\n",
       "      <td>0.030612</td>\n",
       "      <td>0.062683</td>\n",
       "    </tr>\n",
       "    <tr>\n",
       "      <th>5</th>\n",
       "      <td>145</td>\n",
       "      <td>0.089655</td>\n",
       "      <td>0.064169</td>\n",
       "    </tr>\n",
       "    <tr>\n",
       "      <th>6</th>\n",
       "      <td>55</td>\n",
       "      <td>0.090909</td>\n",
       "      <td>0.064755</td>\n",
       "    </tr>\n",
       "    <tr>\n",
       "      <th>7</th>\n",
       "      <td>100</td>\n",
       "      <td>0.180000</td>\n",
       "      <td>0.066834</td>\n",
       "    </tr>\n",
       "    <tr>\n",
       "      <th>8</th>\n",
       "      <td>100</td>\n",
       "      <td>0.290000</td>\n",
       "      <td>0.094542</td>\n",
       "    </tr>\n",
       "    <tr>\n",
       "      <th>9</th>\n",
       "      <td>100</td>\n",
       "      <td>0.510000</td>\n",
       "      <td>0.272016</td>\n",
       "    </tr>\n",
       "  </tbody>\n",
       "</table>\n",
       "</div>"
      ],
      "text/plain": [
       "        count       act      pred\n",
       "pred_q                           \n",
       "0         100  0.060000  0.051511\n",
       "1         100  0.050000  0.056872\n",
       "2         100  0.020000  0.059362\n",
       "3         102  0.019608  0.061153\n",
       "4          98  0.030612  0.062683\n",
       "5         145  0.089655  0.064169\n",
       "6          55  0.090909  0.064755\n",
       "7         100  0.180000  0.066834\n",
       "8         100  0.290000  0.094542\n",
       "9         100  0.510000  0.272016"
      ]
     },
     "execution_count": 74,
     "metadata": {},
     "output_type": "execute_result"
    }
   ],
   "source": [
    "display(compute_metrics((train_label, proba_train_auc), (test_label, proba_test_auc)))\n",
    "plot_preds(test_label, proba_test_auc)"
   ]
  },
  {
   "cell_type": "code",
   "execution_count": 88,
   "id": "d6d092c1",
   "metadata": {
    "ExecuteTime": {
     "end_time": "2022-01-10T05:14:42.532621Z",
     "start_time": "2022-01-10T05:14:42.118218Z"
    }
   },
   "outputs": [
    {
     "data": {
      "image/png": "[encoded data removed]",
      "text/plain": [
       "<Figure size 432x288 with 1 Axes>"
      ]
     },
     "metadata": {
      "needs_background": "light"
     },
     "output_type": "display_data"
    },
    {
     "data": {
      "image/png": "[encoded data removed]",
      "text/plain": [
       "<Figure size 432x288 with 2 Axes>"
      ]
     },
     "metadata": {
      "needs_background": "light"
     },
     "output_type": "display_data"
    }
   ],
   "source": [
    "df = plot_preds(train_label, proba_train_auc)"
   ]
  },
  {
   "cell_type": "code",
   "execution_count": 90,
   "id": "8446561d",
   "metadata": {
    "ExecuteTime": {
     "end_time": "2022-01-10T05:15:25.929444Z",
     "start_time": "2022-01-10T05:15:25.686456Z"
    }
   },
   "outputs": [
    {
     "data": {
      "text/plain": [
       "<AxesSubplot:xlabel='pred_q'>"
      ]
     },
     "execution_count": 90,
     "metadata": {},
     "output_type": "execute_result"
    },
    {
     "data": {
      "image/png": "[encoded data removed]",
      "text/plain": [
       "<Figure size 432x288 with 1 Axes>"
      ]
     },
     "metadata": {
      "needs_background": "light"
     },
     "output_type": "display_data"
    }
   ],
   "source": [
    "df['diff'] = df['act']/df['pred']\n",
    "df['diff'].plot()"
   ]
  },
  {
   "cell_type": "markdown",
   "id": "bc88ed0e",
   "metadata": {},
   "source": [
    "## best f1"
   ]
  },
  {
   "cell_type": "code",
   "execution_count": 72,
   "id": "e76ca2e9",
   "metadata": {
    "ExecuteTime": {
     "end_time": "2022-01-10T05:09:25.814088Z",
     "start_time": "2022-01-10T05:09:25.656522Z"
    }
   },
   "outputs": [
    {
     "data": {
      "text/plain": [
       "{'grow_policy': 'Lossguide',\n",
       " 'latinize': False,\n",
       " 'learning_rate': 0.026000000000000002,\n",
       " 'max_depth': 11,\n",
       " 'min_data_in_leaf': 71,\n",
       " 'ngram_range_hi': 3,\n",
       " 'reg_lambda': 5,\n",
       " 'selector_p_value_limit': 0.7000000000000001,\n",
       " 'stopwords_tresh': 0.036000000000000004,\n",
       " 'to_lower': True}"
      ]
     },
     "execution_count": 72,
     "metadata": {},
     "output_type": "execute_result"
    }
   ],
   "source": [
    "trial_id = study_df[study_df['is_best']==1].sort_values('values_0', ascending=False).iloc[-1, :]['number']\n",
    "\n",
    "params = get_optuna_params(trial_id)\n",
    "params"
   ]
  },
  {
   "cell_type": "code",
   "execution_count": 78,
   "id": "7213fa9a",
   "metadata": {
    "ExecuteTime": {
     "end_time": "2022-01-10T05:10:23.909660Z",
     "start_time": "2022-01-10T05:10:23.766690Z"
    },
    "scrolled": true
   },
   "outputs": [],
   "source": [
    "proba_train_f1, proba_test_f1 = train_params(params)"
   ]
  },
  {
   "cell_type": "code",
   "execution_count": 75,
   "id": "3a8e15e0",
   "metadata": {
    "ExecuteTime": {
     "end_time": "2022-01-10T05:09:48.629051Z",
     "start_time": "2022-01-10T05:09:48.157953Z"
    }
   },
   "outputs": [
    {
     "data": {
      "text/html": [
       "<div>\n",
       "<style scoped>\n",
       "    .dataframe tbody tr th:only-of-type {\n",
       "        vertical-align: middle;\n",
       "    }\n",
       "\n",
       "    .dataframe tbody tr th {\n",
       "        vertical-align: top;\n",
       "    }\n",
       "\n",
       "    .dataframe thead th {\n",
       "        text-align: right;\n",
       "    }\n",
       "</style>\n",
       "<table border=\"1\" class=\"dataframe\">\n",
       "  <thead>\n",
       "    <tr style=\"text-align: right;\">\n",
       "      <th></th>\n",
       "      <th>train</th>\n",
       "      <th>test</th>\n",
       "    </tr>\n",
       "  </thead>\n",
       "  <tbody>\n",
       "    <tr>\n",
       "      <th>AUC</th>\n",
       "      <td>0.922485</td>\n",
       "      <td>0.626435</td>\n",
       "    </tr>\n",
       "    <tr>\n",
       "      <th>Accuracy</th>\n",
       "      <td>0.861568</td>\n",
       "      <td>0.840000</td>\n",
       "    </tr>\n",
       "    <tr>\n",
       "      <th>F1</th>\n",
       "      <td>0.001437</td>\n",
       "      <td>0.200000</td>\n",
       "    </tr>\n",
       "    <tr>\n",
       "      <th>Precision</th>\n",
       "      <td>0.001848</td>\n",
       "      <td>0.303030</td>\n",
       "    </tr>\n",
       "    <tr>\n",
       "      <th>Recall</th>\n",
       "      <td>0.001175</td>\n",
       "      <td>0.149254</td>\n",
       "    </tr>\n",
       "    <tr>\n",
       "      <th>Mean</th>\n",
       "      <td>0.088536</td>\n",
       "      <td>0.076460</td>\n",
       "    </tr>\n",
       "  </tbody>\n",
       "</table>\n",
       "</div>"
      ],
      "text/plain": [
       "              train      test\n",
       "AUC        0.922485  0.626435\n",
       "Accuracy   0.861568  0.840000\n",
       "F1         0.001437  0.200000\n",
       "Precision  0.001848  0.303030\n",
       "Recall     0.001175  0.149254\n",
       "Mean       0.088536  0.076460"
      ]
     },
     "metadata": {},
     "output_type": "display_data"
    },
    {
     "data": {
      "image/png": "[encoded data removed]",
      "text/plain": [
       "<Figure size 432x288 with 1 Axes>"
      ]
     },
     "metadata": {
      "needs_background": "light"
     },
     "output_type": "display_data"
    },
    {
     "data": {
      "image/png": "[encoded data removed]",
      "text/plain": [
       "<Figure size 432x288 with 2 Axes>"
      ]
     },
     "metadata": {
      "needs_background": "light"
     },
     "output_type": "display_data"
    },
    {
     "data": {
      "text/html": [
       "<div>\n",
       "<style scoped>\n",
       "    .dataframe tbody tr th:only-of-type {\n",
       "        vertical-align: middle;\n",
       "    }\n",
       "\n",
       "    .dataframe tbody tr th {\n",
       "        vertical-align: top;\n",
       "    }\n",
       "\n",
       "    .dataframe thead th {\n",
       "        text-align: right;\n",
       "    }\n",
       "</style>\n",
       "<table border=\"1\" class=\"dataframe\">\n",
       "  <thead>\n",
       "    <tr style=\"text-align: right;\">\n",
       "      <th></th>\n",
       "      <th>count</th>\n",
       "      <th>act</th>\n",
       "      <th>pred</th>\n",
       "    </tr>\n",
       "    <tr>\n",
       "      <th>pred_q</th>\n",
       "      <th></th>\n",
       "      <th></th>\n",
       "      <th></th>\n",
       "    </tr>\n",
       "  </thead>\n",
       "  <tbody>\n",
       "    <tr>\n",
       "      <th>0</th>\n",
       "      <td>115</td>\n",
       "      <td>0.182609</td>\n",
       "      <td>0.027399</td>\n",
       "    </tr>\n",
       "    <tr>\n",
       "      <th>1</th>\n",
       "      <td>110</td>\n",
       "      <td>0.009091</td>\n",
       "      <td>0.049913</td>\n",
       "    </tr>\n",
       "    <tr>\n",
       "      <th>2</th>\n",
       "      <td>84</td>\n",
       "      <td>0.166667</td>\n",
       "      <td>0.063678</td>\n",
       "    </tr>\n",
       "    <tr>\n",
       "      <th>3</th>\n",
       "      <td>597</td>\n",
       "      <td>0.073702</td>\n",
       "      <td>0.078900</td>\n",
       "    </tr>\n",
       "    <tr>\n",
       "      <th>4</th>\n",
       "      <td>94</td>\n",
       "      <td>0.574468</td>\n",
       "      <td>0.163475</td>\n",
       "    </tr>\n",
       "  </tbody>\n",
       "</table>\n",
       "</div>"
      ],
      "text/plain": [
       "        count       act      pred\n",
       "pred_q                           \n",
       "0         115  0.182609  0.027399\n",
       "1         110  0.009091  0.049913\n",
       "2          84  0.166667  0.063678\n",
       "3         597  0.073702  0.078900\n",
       "4          94  0.574468  0.163475"
      ]
     },
     "execution_count": 75,
     "metadata": {},
     "output_type": "execute_result"
    }
   ],
   "source": [
    "display(compute_metrics((train_label, proba_train_f1), (test_label, proba_test_f1)))\n",
    "plot_preds(test_label, proba_test_f1)"
   ]
  },
  {
   "cell_type": "code",
   "execution_count": 108,
   "id": "cc98ccba",
   "metadata": {
    "ExecuteTime": {
     "end_time": "2022-01-10T20:40:43.244920Z",
     "start_time": "2022-01-10T20:40:42.835689Z"
    }
   },
   "outputs": [
    {
     "data": {
      "image/png": "[encoded data removed]",
      "text/plain": [
       "<Figure size 432x288 with 1 Axes>"
      ]
     },
     "metadata": {
      "needs_background": "light"
     },
     "output_type": "display_data"
    },
    {
     "data": {
      "image/png": "[encoded data removed]",
      "text/plain": [
       "<Figure size 432x288 with 2 Axes>"
      ]
     },
     "metadata": {
      "needs_background": "light"
     },
     "output_type": "display_data"
    }
   ],
   "source": [
    "df = plot_preds(train_label, proba_train_f1)"
   ]
  },
  {
   "cell_type": "code",
   "execution_count": 109,
   "id": "9360b1f4",
   "metadata": {
    "ExecuteTime": {
     "end_time": "2022-01-10T20:41:15.381775Z",
     "start_time": "2022-01-10T20:41:15.157793Z"
    }
   },
   "outputs": [
    {
     "data": {
      "text/plain": [
       "<AxesSubplot:xlabel='pred_q'>"
      ]
     },
     "execution_count": 109,
     "metadata": {},
     "output_type": "execute_result"
    },
    {
     "data": {
      "image/png": "[encoded data removed]",
      "text/plain": [
       "<Figure size 432x288 with 1 Axes>"
      ]
     },
     "metadata": {
      "needs_background": "light"
     },
     "output_type": "display_data"
    }
   ],
   "source": [
    "df['diff'] = df['act']/df['pred']\n",
    "df['diff'].plot()"
   ]
  },
  {
   "cell_type": "markdown",
   "id": "38d349bc",
   "metadata": {},
   "source": [
    "## confusion_matrix"
   ]
  },
  {
   "cell_type": "code",
   "execution_count": 99,
   "id": "38413b40",
   "metadata": {
    "ExecuteTime": {
     "end_time": "2022-01-10T20:15:59.249254Z",
     "start_time": "2022-01-10T20:15:59.102197Z"
    }
   },
   "outputs": [],
   "source": [
    "from sklearn.metrics import confusion_matrix, ConfusionMatrixDisplay"
   ]
  },
  {
   "cell_type": "code",
   "execution_count": 95,
   "id": "c618e0a3",
   "metadata": {
    "ExecuteTime": {
     "end_time": "2022-01-10T20:13:17.837786Z",
     "start_time": "2022-01-10T20:13:17.685415Z"
    }
   },
   "outputs": [],
   "source": [
    "tresh_auc = np.quantile(proba_train_auc, np.mean(train_label))\n",
    "tresh_f1 = np.quantile(proba_train_f1, np.mean(train_label))\n",
    "\n",
    "pred_train_auc = (proba_train_auc<tresh_auc).astype(int)\n",
    "pred_test_auc = (proba_test_auc<tresh_auc).astype(int)\n",
    "\n",
    "pred_train_f1 = (proba_train_f1<tresh_f1).astype(int)\n",
    "pred_test_f1 = (proba_test_f1<tresh_f1).astype(int)"
   ]
  },
  {
   "cell_type": "code",
   "execution_count": 102,
   "id": "f1936c1b",
   "metadata": {
    "ExecuteTime": {
     "end_time": "2022-01-10T20:16:44.493916Z",
     "start_time": "2022-01-10T20:16:44.218487Z"
    }
   },
   "outputs": [
    {
     "data": {
      "text/plain": [
       "<sklearn.metrics._plot.confusion_matrix.ConfusionMatrixDisplay at 0x21b61a48a90>"
      ]
     },
     "execution_count": 102,
     "metadata": {},
     "output_type": "execute_result"
    },
    {
     "data": {
      "image/png": "[encoded data removed]",
      "text/plain": [
       "<Figure size 432x288 with 2 Axes>"
      ]
     },
     "metadata": {
      "needs_background": "light"
     },
     "output_type": "display_data"
    }
   ],
   "source": [
    "ConfusionMatrixDisplay(confusion_matrix(test_label, pred_test_auc)).plot()"
   ]
  },
  {
   "cell_type": "code",
   "execution_count": 103,
   "id": "569b2a74",
   "metadata": {
    "ExecuteTime": {
     "end_time": "2022-01-10T20:18:07.135655Z",
     "start_time": "2022-01-10T20:18:06.875510Z"
    }
   },
   "outputs": [
    {
     "data": {
      "text/plain": [
       "<sklearn.metrics._plot.confusion_matrix.ConfusionMatrixDisplay at 0x21b61a2fb80>"
      ]
     },
     "execution_count": 103,
     "metadata": {},
     "output_type": "execute_result"
    },
    {
     "data": {
      "image/png": "[encoded data removed]",
      "text/plain": [
       "<Figure size 432x288 with 2 Axes>"
      ]
     },
     "metadata": {
      "needs_background": "light"
     },
     "output_type": "display_data"
    }
   ],
   "source": [
    "ConfusionMatrixDisplay(confusion_matrix(test_label, pred_test_f1)).plot()"
   ]
  },
  {
   "cell_type": "code",
   "execution_count": null,
   "id": "15376b1f",
   "metadata": {},
   "outputs": [],
   "source": []
  },
  {
   "cell_type": "markdown",
   "id": "69e75b2f",
   "metadata": {},
   "source": [
    "## mean"
   ]
  },
  {
   "cell_type": "code",
   "execution_count": 83,
   "id": "367130aa",
   "metadata": {
    "ExecuteTime": {
     "end_time": "2022-01-10T05:12:04.809377Z",
     "start_time": "2022-01-10T05:12:04.581326Z"
    }
   },
   "outputs": [],
   "source": [
    "proba_train_mean = pd.Series([np.mean([a, b]) for a,b in zip(proba_train_auc, proba_train_f1)])\n",
    "proba_test_mean = pd.Series([np.mean([a, b]) for a,b in zip(proba_test_auc, proba_test_f1)])"
   ]
  },
  {
   "cell_type": "code",
   "execution_count": 84,
   "id": "e92df7d1",
   "metadata": {
    "ExecuteTime": {
     "end_time": "2022-01-10T05:12:24.403837Z",
     "start_time": "2022-01-10T05:12:23.936677Z"
    }
   },
   "outputs": [
    {
     "data": {
      "text/html": [
       "<div>\n",
       "<style scoped>\n",
       "    .dataframe tbody tr th:only-of-type {\n",
       "        vertical-align: middle;\n",
       "    }\n",
       "\n",
       "    .dataframe tbody tr th {\n",
       "        vertical-align: top;\n",
       "    }\n",
       "\n",
       "    .dataframe thead th {\n",
       "        text-align: right;\n",
       "    }\n",
       "</style>\n",
       "<table border=\"1\" class=\"dataframe\">\n",
       "  <thead>\n",
       "    <tr style=\"text-align: right;\">\n",
       "      <th></th>\n",
       "      <th>train</th>\n",
       "      <th>test</th>\n",
       "    </tr>\n",
       "  </thead>\n",
       "  <tbody>\n",
       "    <tr>\n",
       "      <th>AUC</th>\n",
       "      <td>0.945690</td>\n",
       "      <td>0.758075</td>\n",
       "    </tr>\n",
       "    <tr>\n",
       "      <th>Accuracy</th>\n",
       "      <td>0.830694</td>\n",
       "      <td>0.774000</td>\n",
       "    </tr>\n",
       "    <tr>\n",
       "      <th>F1</th>\n",
       "      <td>0.001175</td>\n",
       "      <td>0.050420</td>\n",
       "    </tr>\n",
       "    <tr>\n",
       "      <th>Precision</th>\n",
       "      <td>0.001175</td>\n",
       "      <td>0.057692</td>\n",
       "    </tr>\n",
       "    <tr>\n",
       "      <th>Recall</th>\n",
       "      <td>0.001175</td>\n",
       "      <td>0.044776</td>\n",
       "    </tr>\n",
       "    <tr>\n",
       "      <th>Mean</th>\n",
       "      <td>0.086071</td>\n",
       "      <td>0.080910</td>\n",
       "    </tr>\n",
       "  </tbody>\n",
       "</table>\n",
       "</div>"
      ],
      "text/plain": [
       "              train      test\n",
       "AUC        0.945690  0.758075\n",
       "Accuracy   0.830694  0.774000\n",
       "F1         0.001175  0.050420\n",
       "Precision  0.001175  0.057692\n",
       "Recall     0.001175  0.044776\n",
       "Mean       0.086071  0.080910"
      ]
     },
     "metadata": {},
     "output_type": "display_data"
    },
    {
     "data": {
      "image/png": "[encoded data removed]",
      "text/plain": [
       "<Figure size 432x288 with 1 Axes>"
      ]
     },
     "metadata": {
      "needs_background": "light"
     },
     "output_type": "display_data"
    },
    {
     "data": {
      "image/png": "[encoded data removed]",
      "text/plain": [
       "<Figure size 432x288 with 2 Axes>"
      ]
     },
     "metadata": {
      "needs_background": "light"
     },
     "output_type": "display_data"
    },
    {
     "data": {
      "text/html": [
       "<div>\n",
       "<style scoped>\n",
       "    .dataframe tbody tr th:only-of-type {\n",
       "        vertical-align: middle;\n",
       "    }\n",
       "\n",
       "    .dataframe tbody tr th {\n",
       "        vertical-align: top;\n",
       "    }\n",
       "\n",
       "    .dataframe thead th {\n",
       "        text-align: right;\n",
       "    }\n",
       "</style>\n",
       "<table border=\"1\" class=\"dataframe\">\n",
       "  <thead>\n",
       "    <tr style=\"text-align: right;\">\n",
       "      <th></th>\n",
       "      <th>count</th>\n",
       "      <th>act</th>\n",
       "      <th>pred</th>\n",
       "    </tr>\n",
       "    <tr>\n",
       "      <th>pred_q</th>\n",
       "      <th></th>\n",
       "      <th></th>\n",
       "      <th></th>\n",
       "    </tr>\n",
       "  </thead>\n",
       "  <tbody>\n",
       "    <tr>\n",
       "      <th>0.0</th>\n",
       "      <td>100</td>\n",
       "      <td>NaN</td>\n",
       "      <td>0.046542</td>\n",
       "    </tr>\n",
       "    <tr>\n",
       "      <th>1.0</th>\n",
       "      <td>100</td>\n",
       "      <td>NaN</td>\n",
       "      <td>0.058393</td>\n",
       "    </tr>\n",
       "    <tr>\n",
       "      <th>2.0</th>\n",
       "      <td>100</td>\n",
       "      <td>NaN</td>\n",
       "      <td>0.065393</td>\n",
       "    </tr>\n",
       "    <tr>\n",
       "      <th>3.0</th>\n",
       "      <td>100</td>\n",
       "      <td>NaN</td>\n",
       "      <td>0.068704</td>\n",
       "    </tr>\n",
       "    <tr>\n",
       "      <th>4.0</th>\n",
       "      <td>100</td>\n",
       "      <td>NaN</td>\n",
       "      <td>0.070078</td>\n",
       "    </tr>\n",
       "    <tr>\n",
       "      <th>5.0</th>\n",
       "      <td>185</td>\n",
       "      <td>NaN</td>\n",
       "      <td>0.071510</td>\n",
       "    </tr>\n",
       "    <tr>\n",
       "      <th>6.0</th>\n",
       "      <td>15</td>\n",
       "      <td>NaN</td>\n",
       "      <td>0.071880</td>\n",
       "    </tr>\n",
       "    <tr>\n",
       "      <th>7.0</th>\n",
       "      <td>100</td>\n",
       "      <td>NaN</td>\n",
       "      <td>0.072609</td>\n",
       "    </tr>\n",
       "    <tr>\n",
       "      <th>8.0</th>\n",
       "      <td>100</td>\n",
       "      <td>NaN</td>\n",
       "      <td>0.082538</td>\n",
       "    </tr>\n",
       "    <tr>\n",
       "      <th>9.0</th>\n",
       "      <td>100</td>\n",
       "      <td>NaN</td>\n",
       "      <td>0.201769</td>\n",
       "    </tr>\n",
       "  </tbody>\n",
       "</table>\n",
       "</div>"
      ],
      "text/plain": [
       "        count  act      pred\n",
       "pred_q                      \n",
       "0.0       100  NaN  0.046542\n",
       "1.0       100  NaN  0.058393\n",
       "2.0       100  NaN  0.065393\n",
       "3.0       100  NaN  0.068704\n",
       "4.0       100  NaN  0.070078\n",
       "5.0       185  NaN  0.071510\n",
       "6.0        15  NaN  0.071880\n",
       "7.0       100  NaN  0.072609\n",
       "8.0       100  NaN  0.082538\n",
       "9.0       100  NaN  0.201769"
      ]
     },
     "execution_count": 84,
     "metadata": {},
     "output_type": "execute_result"
    }
   ],
   "source": [
    "display(compute_metrics((train_label, proba_train_mean), (test_label, proba_test_mean)))\n",
    "plot_preds(test_label, proba_test_mean)"
   ]
  },
  {
   "cell_type": "markdown",
   "id": "e6d8f89f",
   "metadata": {},
   "source": [
    "# callibrate"
   ]
  },
  {
   "cell_type": "code",
   "execution_count": 116,
   "id": "d6ea8391",
   "metadata": {
    "ExecuteTime": {
     "end_time": "2022-01-10T20:51:41.619339Z",
     "start_time": "2022-01-10T20:51:41.468876Z"
    }
   },
   "outputs": [],
   "source": [
    "from sklearn.linear_model import LogisticRegression"
   ]
  },
  {
   "cell_type": "code",
   "execution_count": 117,
   "id": "602a5f41",
   "metadata": {
    "ExecuteTime": {
     "end_time": "2022-01-10T20:51:54.232524Z",
     "start_time": "2022-01-10T20:51:54.083271Z"
    }
   },
   "outputs": [],
   "source": [
    "cal = LogisticRegression()"
   ]
  },
  {
   "cell_type": "code",
   "execution_count": 211,
   "id": "f95d0191",
   "metadata": {
    "ExecuteTime": {
     "end_time": "2022-01-10T21:27:15.130713Z",
     "start_time": "2022-01-10T21:27:14.983135Z"
    }
   },
   "outputs": [],
   "source": [
    "lo = np.log(proba_train_f1/(1-proba_train_f1))"
   ]
  },
  {
   "cell_type": "code",
   "execution_count": 199,
   "id": "db38eeb0",
   "metadata": {
    "ExecuteTime": {
     "end_time": "2022-01-10T21:21:23.321274Z",
     "start_time": "2022-01-10T21:21:23.168467Z"
    }
   },
   "outputs": [],
   "source": [
    "cal.fit(lo, train_label)\n",
    "pred_cal = cal.predict_proba(lo)[:, 1]"
   ]
  },
  {
   "cell_type": "code",
   "execution_count": 205,
   "id": "bd9bb677",
   "metadata": {
    "ExecuteTime": {
     "end_time": "2022-01-10T21:25:24.426198Z",
     "start_time": "2022-01-10T21:25:24.272070Z"
    }
   },
   "outputs": [
    {
     "data": {
      "text/plain": [
       "3.4124826774473447"
      ]
     },
     "execution_count": 205,
     "metadata": {},
     "output_type": "execute_result"
    }
   ],
   "source": [
    "cal.coef_[0][0]"
   ]
  },
  {
   "cell_type": "code",
   "execution_count": 207,
   "id": "685b9f8e",
   "metadata": {
    "ExecuteTime": {
     "end_time": "2022-01-10T21:25:34.897267Z",
     "start_time": "2022-01-10T21:25:34.744138Z"
    }
   },
   "outputs": [
    {
     "data": {
      "text/plain": [
       "5.442670235608918"
      ]
     },
     "execution_count": 207,
     "metadata": {},
     "output_type": "execute_result"
    }
   ],
   "source": [
    "cal.intercept_[0]"
   ]
  },
  {
   "cell_type": "code",
   "execution_count": 220,
   "id": "10eea4a2",
   "metadata": {
    "ExecuteTime": {
     "end_time": "2022-01-10T21:35:36.968013Z",
     "start_time": "2022-01-10T21:35:36.743526Z"
    }
   },
   "outputs": [],
   "source": [
    "def logit(x, a=3.4124826774473447, b=5.44):\n",
    "    return 1/(1+np.exp(-a*x-b))"
   ]
  },
  {
   "cell_type": "code",
   "execution_count": 222,
   "id": "566ffbf7",
   "metadata": {
    "ExecuteTime": {
     "end_time": "2022-01-10T21:36:34.040721Z",
     "start_time": "2022-01-10T21:36:33.799962Z"
    }
   },
   "outputs": [
    {
     "data": {
      "text/plain": [
       "0.08463481814844796"
      ]
     },
     "execution_count": 222,
     "metadata": {},
     "output_type": "execute_result"
    }
   ],
   "source": [
    "pc = pd.Series(map(logit, lo))\n",
    "np.mean(pc)"
   ]
  },
  {
   "cell_type": "code",
   "execution_count": 228,
   "id": "7400a0dc",
   "metadata": {
    "ExecuteTime": {
     "end_time": "2022-01-10T21:44:59.018405Z",
     "start_time": "2022-01-10T21:44:58.661741Z"
    }
   },
   "outputs": [
    {
     "data": {
      "text/plain": [
       "<AxesSubplot:xlabel='pred_q'>"
      ]
     },
     "execution_count": 228,
     "metadata": {},
     "output_type": "execute_result"
    },
    {
     "data": {
      "image/png": "[encoded data removed]",
      "text/plain": [
       "<Figure size 432x288 with 1 Axes>"
      ]
     },
     "metadata": {
      "needs_background": "light"
     },
     "output_type": "display_data"
    }
   ],
   "source": [
    "df = pd.DataFrame({'act': train_label, 'pred': proba_train_f1, 'cal': pc})\n",
    "df['pred_q'] = pd.qcut(df['pred'], q=[x/10 for x in range(11)], labels=False, duplicates='drop')\n",
    "\n",
    "df.groupby('pred_q').agg(\n",
    "    act=('act', 'mean'),\n",
    "    pred=('pred', 'mean'),\n",
    "    cal=('cal', 'mean')\n",
    ").plot()"
   ]
  },
  {
   "cell_type": "code",
   "execution_count": 229,
   "id": "642a0139",
   "metadata": {
    "ExecuteTime": {
     "end_time": "2022-01-10T21:49:29.410301Z",
     "start_time": "2022-01-10T21:49:29.131741Z"
    }
   },
   "outputs": [],
   "source": [
    "\n",
    "tresh = np.quantile(pc, np.mean(train_label))\n",
    "pred_cal = (pc<tresh).astype(int)"
   ]
  },
  {
   "cell_type": "code",
   "execution_count": 234,
   "id": "c1eafafa",
   "metadata": {
    "ExecuteTime": {
     "end_time": "2022-01-10T21:52:20.830954Z",
     "start_time": "2022-01-10T21:52:20.617144Z"
    }
   },
   "outputs": [
    {
     "data": {
      "text/plain": [
       "0        0.044922\n",
       "1        0.014475\n",
       "2        0.060322\n",
       "3        0.034061\n",
       "4        0.034061\n",
       "           ...   \n",
       "10036    0.019065\n",
       "10037    0.034061\n",
       "10038    0.079372\n",
       "10039    0.068313\n",
       "10040    0.079372\n",
       "Name: pred, Length: 10041, dtype: float64"
      ]
     },
     "execution_count": 234,
     "metadata": {},
     "output_type": "execute_result"
    }
   ],
   "source": [
    "df['pred']"
   ]
  },
  {
   "cell_type": "code",
   "execution_count": 244,
   "id": "26b1507d",
   "metadata": {
    "ExecuteTime": {
     "end_time": "2022-01-10T21:56:37.533141Z",
     "start_time": "2022-01-10T21:56:37.021302Z"
    }
   },
   "outputs": [
    {
     "data": {
      "text/plain": [
       "<sklearn.metrics._plot.confusion_matrix.ConfusionMatrixDisplay at 0x21b61de46a0>"
      ]
     },
     "execution_count": 244,
     "metadata": {},
     "output_type": "execute_result"
    },
    {
     "data": {
      "image/png": "[encoded data removed]",
      "text/plain": [
       "<Figure size 432x288 with 2 Axes>"
      ]
     },
     "metadata": {
      "needs_background": "light"
     },
     "output_type": "display_data"
    }
   ],
   "source": [
    "ConfusionMatrixDisplay(confusion_matrix(train_label, pred_train_auc)).plot()"
   ]
  },
  {
   "cell_type": "code",
   "execution_count": 245,
   "id": "5ee0286e",
   "metadata": {
    "ExecuteTime": {
     "end_time": "2022-01-10T21:57:47.330577Z",
     "start_time": "2022-01-10T21:57:46.970949Z"
    }
   },
   "outputs": [
    {
     "data": {
      "text/plain": [
       "<sklearn.metrics._plot.confusion_matrix.ConfusionMatrixDisplay at 0x21b5d130430>"
      ]
     },
     "execution_count": 245,
     "metadata": {},
     "output_type": "execute_result"
    },
    {
     "data": {
      "image/png": "[encoded data removed]",
      "text/plain": [
       "<Figure size 432x288 with 2 Axes>"
      ]
     },
     "metadata": {
      "needs_background": "light"
     },
     "output_type": "display_data"
    }
   ],
   "source": [
    "ConfusionMatrixDisplay(confusion_matrix(test_label, pred_test_auc)).plot()"
   ]
  },
  {
   "cell_type": "code",
   "execution_count": 242,
   "id": "612e7b65",
   "metadata": {
    "ExecuteTime": {
     "end_time": "2022-01-10T21:55:05.924716Z",
     "start_time": "2022-01-10T21:55:05.559969Z"
    }
   },
   "outputs": [
    {
     "data": {
      "text/plain": [
       "<sklearn.metrics._plot.confusion_matrix.ConfusionMatrixDisplay at 0x21b61e63820>"
      ]
     },
     "execution_count": 242,
     "metadata": {},
     "output_type": "execute_result"
    },
    {
     "data": {
      "image/png": "[encoded data removed]",
      "text/plain": [
       "<Figure size 432x288 with 2 Axes>"
      ]
     },
     "metadata": {
      "needs_background": "light"
     },
     "output_type": "display_data"
    }
   ],
   "source": [
    "ConfusionMatrixDisplay(confusion_matrix(train_label, pred_train_f1)).plot()"
   ]
  },
  {
   "cell_type": "code",
   "execution_count": 237,
   "id": "139de7d2",
   "metadata": {
    "ExecuteTime": {
     "end_time": "2022-01-10T21:53:06.181084Z",
     "start_time": "2022-01-10T21:53:05.642572Z"
    }
   },
   "outputs": [
    {
     "data": {
      "text/plain": [
       "<sklearn.metrics._plot.confusion_matrix.ConfusionMatrixDisplay at 0x21b61de2430>"
      ]
     },
     "execution_count": 237,
     "metadata": {},
     "output_type": "execute_result"
    },
    {
     "data": {
      "image/png": "[encoded data removed]",
      "text/plain": [
       "<Figure size 432x288 with 2 Axes>"
      ]
     },
     "metadata": {
      "needs_background": "light"
     },
     "output_type": "display_data"
    }
   ],
   "source": [
    "ConfusionMatrixDisplay(confusion_matrix(train_label, pred_cal)).plot()"
   ]
  },
  {
   "cell_type": "code",
   "execution_count": 246,
   "id": "f933328d",
   "metadata": {
    "ExecuteTime": {
     "end_time": "2022-01-10T22:00:02.206352Z",
     "start_time": "2022-01-10T22:00:01.689687Z"
    }
   },
   "outputs": [
    {
     "data": {
      "text/plain": [
       "<sklearn.metrics._plot.confusion_matrix.ConfusionMatrixDisplay at 0x21b620afa00>"
      ]
     },
     "execution_count": 246,
     "metadata": {},
     "output_type": "execute_result"
    },
    {
     "data": {
      "image/png": "[encoded data removed]",
      "text/plain": [
       "<Figure size 432x288 with 2 Axes>"
      ]
     },
     "metadata": {
      "needs_background": "light"
     },
     "output_type": "display_data"
    }
   ],
   "source": [
    "ConfusionMatrixDisplay(confusion_matrix(test_label, pred_test_f1)).plot()"
   ]
  },
  {
   "cell_type": "code",
   "execution_count": null,
   "id": "b7e2f0f2",
   "metadata": {},
   "outputs": [],
   "source": []
  },
  {
   "cell_type": "code",
   "execution_count": null,
   "id": "4240f5e6",
   "metadata": {},
   "outputs": [],
   "source": []
  },
  {
   "cell_type": "code",
   "execution_count": null,
   "id": "b836c254",
   "metadata": {},
   "outputs": [],
   "source": []
  },
  {
   "cell_type": "code",
   "execution_count": null,
   "id": "b9d669ee",
   "metadata": {},
   "outputs": [],
   "source": []
  }
 ],
 "metadata": {
  "kernelspec": {
   "display_name": "Python 3 (ipykernel)",
   "language": "python",
   "name": "python3"
  },
  "language_info": {
   "codemirror_mode": {
    "name": "ipython",
    "version": 3
   },
   "file_extension": ".py",
   "mimetype": "text/x-python",
   "name": "python",
   "nbconvert_exporter": "python",
   "pygments_lexer": "ipython3",
   "version": "3.8.8"
  },
  "toc": {
   "base_numbering": 1,
   "nav_menu": {},
   "number_sections": true,
   "sideBar": true,
   "skip_h1_title": false,
   "title_cell": "Table of Contents",
   "title_sidebar": "Contents",
   "toc_cell": false,
   "toc_position": {
    "height": "calc(100% - 180px)",
    "left": "10px",
    "top": "150px",
    "width": "185px"
   },
   "toc_section_display": true,
   "toc_window_display": true
  }
 },
 "nbformat": 4,
 "nbformat_minor": 5
}
