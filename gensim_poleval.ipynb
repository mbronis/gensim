{
 "cells": [
  {
   "cell_type": "markdown",
   "id": "edce5b36",
   "metadata": {},
   "source": [
    "# setup"
   ]
  },
  {
   "cell_type": "code",
   "execution_count": 2,
   "id": "f5738a7d",
   "metadata": {
    "ExecuteTime": {
     "end_time": "2022-01-07T19:18:21.655743Z",
     "start_time": "2022-01-07T19:18:21.591591Z"
    }
   },
   "outputs": [],
   "source": [
    "%load_ext autoreload\n",
    "%autoreload 2"
   ]
  },
  {
   "cell_type": "code",
   "execution_count": 52,
   "id": "dacc83e8",
   "metadata": {
    "ExecuteTime": {
     "end_time": "2022-01-07T19:52:37.418354Z",
     "start_time": "2022-01-07T19:52:37.321399Z"
    }
   },
   "outputs": [],
   "source": [
    "import os\n",
    "import re\n",
    "import pickle\n",
    "import random\n",
    "from typing import Sequence, Tuple\n",
    "from tempfile import mkdtemp\n",
    "\n",
    "import numpy as np\n",
    "import pandas as pd\n",
    "\n",
    "from sklearn.pipeline import Pipeline\n",
    "\n",
    "from catboost import CatBoostClassifier, Pool\n",
    "\n",
    "\n",
    "pd.set_option('display.max_rows', 100)"
   ]
  },
  {
   "cell_type": "code",
   "execution_count": 124,
   "id": "3c088bc3",
   "metadata": {
    "ExecuteTime": {
     "end_time": "2022-01-07T20:25:22.731765Z",
     "start_time": "2022-01-07T20:25:22.632784Z"
    }
   },
   "outputs": [],
   "source": [
    "from src.io import csv_loader_factory, PickleLoader\n",
    "from src.preprocessing import TextCleaner\n",
    "from src.embeddings import W2VEmbedder\n",
    "from src.eval.metrics import compute_metrics"
   ]
  },
  {
   "cell_type": "markdown",
   "id": "9c442336",
   "metadata": {},
   "source": [
    "# load raw "
   ]
  },
  {
   "cell_type": "code",
   "execution_count": 5,
   "id": "b5944e40",
   "metadata": {
    "ExecuteTime": {
     "end_time": "2022-01-07T19:18:28.499861Z",
     "start_time": "2022-01-07T19:18:28.369790Z"
    }
   },
   "outputs": [
    {
     "name": "stderr",
     "output_type": "stream",
     "text": [
      "INFO:2022-01-07 20:18:28:io:loading from csv: ./data/poleval19.csv\n",
      "INFO:2022-01-07 20:18:28:io:loaded 11039 rows\n"
     ]
    }
   ],
   "source": [
    "loader = csv_loader_factory('poleval')\n",
    "data = loader.load()"
   ]
  },
  {
   "cell_type": "markdown",
   "id": "d7f97da0",
   "metadata": {},
   "source": [
    "# base eda"
   ]
  },
  {
   "cell_type": "code",
   "execution_count": 9,
   "id": "f9936f68",
   "metadata": {
    "ExecuteTime": {
     "end_time": "2022-01-07T03:32:23.808808Z",
     "start_time": "2022-01-07T03:32:23.711766Z"
    }
   },
   "outputs": [
    {
     "data": {
      "text/plain": [
       "(11039, 3)"
      ]
     },
     "execution_count": 9,
     "metadata": {},
     "output_type": "execute_result"
    }
   ],
   "source": [
    "data.shape"
   ]
  },
  {
   "cell_type": "code",
   "execution_count": 10,
   "id": "ff6e4380",
   "metadata": {
    "ExecuteTime": {
     "end_time": "2022-01-07T03:32:24.541577Z",
     "start_time": "2022-01-07T03:32:24.447092Z"
    }
   },
   "outputs": [
    {
     "data": {
      "text/html": [
       "<div>\n",
       "<style scoped>\n",
       "    .dataframe tbody tr th:only-of-type {\n",
       "        vertical-align: middle;\n",
       "    }\n",
       "\n",
       "    .dataframe tbody tr th {\n",
       "        vertical-align: top;\n",
       "    }\n",
       "\n",
       "    .dataframe thead th {\n",
       "        text-align: right;\n",
       "    }\n",
       "</style>\n",
       "<table border=\"1\" class=\"dataframe\">\n",
       "  <thead>\n",
       "    <tr style=\"text-align: right;\">\n",
       "      <th></th>\n",
       "      <th>dataset</th>\n",
       "      <th>text_raw</th>\n",
       "      <th>tag</th>\n",
       "    </tr>\n",
       "  </thead>\n",
       "  <tbody>\n",
       "    <tr>\n",
       "      <th>0</th>\n",
       "      <td>train</td>\n",
       "      <td>Dla mnie faworytem do tytułu będzie Cracovia. ...</td>\n",
       "      <td>0</td>\n",
       "    </tr>\n",
       "    <tr>\n",
       "      <th>1</th>\n",
       "      <td>train</td>\n",
       "      <td>@anonymized_account @anonymized_account Brawo ...</td>\n",
       "      <td>0</td>\n",
       "    </tr>\n",
       "    <tr>\n",
       "      <th>2</th>\n",
       "      <td>train</td>\n",
       "      <td>@anonymized_account @anonymized_account Super,...</td>\n",
       "      <td>0</td>\n",
       "    </tr>\n",
       "    <tr>\n",
       "      <th>3</th>\n",
       "      <td>train</td>\n",
       "      <td>@anonymized_account @anonymized_account Musi. ...</td>\n",
       "      <td>0</td>\n",
       "    </tr>\n",
       "    <tr>\n",
       "      <th>4</th>\n",
       "      <td>train</td>\n",
       "      <td>Odrzut natychmiastowy, kwaśna mina, mam problem</td>\n",
       "      <td>0</td>\n",
       "    </tr>\n",
       "  </tbody>\n",
       "</table>\n",
       "</div>"
      ],
      "text/plain": [
       "  dataset                                           text_raw  tag\n",
       "0   train  Dla mnie faworytem do tytułu będzie Cracovia. ...    0\n",
       "1   train  @anonymized_account @anonymized_account Brawo ...    0\n",
       "2   train  @anonymized_account @anonymized_account Super,...    0\n",
       "3   train  @anonymized_account @anonymized_account Musi. ...    0\n",
       "4   train    Odrzut natychmiastowy, kwaśna mina, mam problem    0"
      ]
     },
     "execution_count": 10,
     "metadata": {},
     "output_type": "execute_result"
    }
   ],
   "source": [
    "data.head()"
   ]
  },
  {
   "cell_type": "code",
   "execution_count": 11,
   "id": "9307699a",
   "metadata": {
    "ExecuteTime": {
     "end_time": "2022-01-07T03:32:25.192019Z",
     "start_time": "2022-01-07T03:32:25.088710Z"
    }
   },
   "outputs": [
    {
     "data": {
      "text/html": [
       "<div>\n",
       "<style scoped>\n",
       "    .dataframe tbody tr th:only-of-type {\n",
       "        vertical-align: middle;\n",
       "    }\n",
       "\n",
       "    .dataframe tbody tr th {\n",
       "        vertical-align: top;\n",
       "    }\n",
       "\n",
       "    .dataframe thead th {\n",
       "        text-align: right;\n",
       "    }\n",
       "</style>\n",
       "<table border=\"1\" class=\"dataframe\">\n",
       "  <thead>\n",
       "    <tr style=\"text-align: right;\">\n",
       "      <th></th>\n",
       "      <th>size</th>\n",
       "      <th>target</th>\n",
       "    </tr>\n",
       "    <tr>\n",
       "      <th>dataset</th>\n",
       "      <th></th>\n",
       "      <th></th>\n",
       "    </tr>\n",
       "  </thead>\n",
       "  <tbody>\n",
       "    <tr>\n",
       "      <th>test</th>\n",
       "      <td>999</td>\n",
       "      <td>0.134134</td>\n",
       "    </tr>\n",
       "    <tr>\n",
       "      <th>train</th>\n",
       "      <td>10040</td>\n",
       "      <td>0.084761</td>\n",
       "    </tr>\n",
       "  </tbody>\n",
       "</table>\n",
       "</div>"
      ],
      "text/plain": [
       "          size    target\n",
       "dataset                 \n",
       "test       999  0.134134\n",
       "train    10040  0.084761"
      ]
     },
     "execution_count": 11,
     "metadata": {},
     "output_type": "execute_result"
    }
   ],
   "source": [
    "data.groupby('dataset').agg(\n",
    "    size=('text_raw', 'size'),\n",
    "    target=('tag', 'mean')\n",
    ")"
   ]
  },
  {
   "cell_type": "markdown",
   "id": "80dd8cde",
   "metadata": {},
   "source": [
    "# catboost on raw data"
   ]
  },
  {
   "cell_type": "markdown",
   "id": "3a0c4ea9",
   "metadata": {},
   "source": [
    "## prep data"
   ]
  },
  {
   "cell_type": "code",
   "execution_count": 11,
   "id": "64ab3d0e",
   "metadata": {
    "ExecuteTime": {
     "end_time": "2022-01-07T19:19:29.690358Z",
     "start_time": "2022-01-07T19:19:29.583177Z"
    }
   },
   "outputs": [],
   "source": [
    "train_df = data.loc[data['dataset']=='train', ['text_raw']]\n",
    "train_label = data.loc[data['dataset']=='train', 'tag']\n",
    "test_df = data.loc[data['dataset']=='test', ['text_raw']]\n",
    "test_label = data.loc[data['dataset']=='test', 'tag']\n",
    "\n",
    "train_pool = Pool(train_df, label=train_label, text_features=['text_raw'])\n",
    "test_pool = Pool(test_df, label=test_label, text_features=['text_raw'])"
   ]
  },
  {
   "cell_type": "markdown",
   "id": "0a302fd6",
   "metadata": {},
   "source": [
    "## train model"
   ]
  },
  {
   "cell_type": "code",
   "execution_count": 126,
   "id": "05a1f4a0",
   "metadata": {
    "ExecuteTime": {
     "end_time": "2022-01-07T20:27:47.158376Z",
     "start_time": "2022-01-07T20:26:10.208106Z"
    },
    "scrolled": true
   },
   "outputs": [
    {
     "name": "stdout",
     "output_type": "stream",
     "text": [
      "Learning rate set to 0.056019\n",
      "0:\ttest: 0.5014365\tbest: 0.5014365 (0)\ttotal: 61.7ms\tremaining: 1m 1s\n",
      "10:\ttest: 0.5131913\tbest: 0.5131913 (10)\ttotal: 889ms\tremaining: 1m 19s\n",
      "20:\ttest: 0.5186351\tbest: 0.5186351 (20)\ttotal: 1.79s\tremaining: 1m 23s\n",
      "30:\ttest: 0.4834613\tbest: 0.5186351 (20)\ttotal: 2.7s\tremaining: 1m 24s\n",
      "40:\ttest: 0.4758347\tbest: 0.5186351 (20)\ttotal: 3.56s\tremaining: 1m 23s\n",
      "50:\ttest: 0.4915581\tbest: 0.5186351 (20)\ttotal: 4.38s\tremaining: 1m 21s\n",
      "60:\ttest: 0.4897205\tbest: 0.5186351 (20)\ttotal: 5.23s\tremaining: 1m 20s\n",
      "70:\ttest: 0.5039039\tbest: 0.5186351 (20)\ttotal: 6.13s\tremaining: 1m 20s\n",
      "80:\ttest: 0.5076827\tbest: 0.5186351 (20)\ttotal: 7.03s\tremaining: 1m 19s\n",
      "90:\ttest: 0.5137520\tbest: 0.5186351 (20)\ttotal: 7.85s\tremaining: 1m 18s\n",
      "100:\ttest: 0.5117289\tbest: 0.5186351 (20)\ttotal: 8.72s\tremaining: 1m 17s\n",
      "110:\ttest: 0.4997239\tbest: 0.5186351 (20)\ttotal: 9.54s\tremaining: 1m 16s\n",
      "120:\ttest: 0.4966396\tbest: 0.5186351 (20)\ttotal: 10.3s\tremaining: 1m 15s\n",
      "130:\ttest: 0.5024933\tbest: 0.5186351 (20)\ttotal: 11.2s\tremaining: 1m 14s\n",
      "140:\ttest: 0.4908377\tbest: 0.5186351 (20)\ttotal: 12.1s\tremaining: 1m 13s\n",
      "150:\ttest: 0.4932361\tbest: 0.5186351 (20)\ttotal: 12.9s\tremaining: 1m 12s\n",
      "160:\ttest: 0.4957251\tbest: 0.5186351 (20)\ttotal: 13.8s\tremaining: 1m 12s\n",
      "170:\ttest: 0.4958287\tbest: 0.5186351 (20)\ttotal: 14.8s\tremaining: 1m 11s\n",
      "180:\ttest: 0.4973126\tbest: 0.5186351 (20)\ttotal: 15.7s\tremaining: 1m 11s\n",
      "190:\ttest: 0.4958502\tbest: 0.5186351 (20)\ttotal: 16.5s\tremaining: 1m 9s\n",
      "200:\ttest: 0.5010957\tbest: 0.5186351 (20)\ttotal: 17.4s\tremaining: 1m 9s\n",
      "210:\ttest: 0.4976318\tbest: 0.5186351 (20)\ttotal: 18.1s\tremaining: 1m 7s\n",
      "220:\ttest: 0.4954404\tbest: 0.5186351 (20)\ttotal: 19s\tremaining: 1m 7s\n",
      "230:\ttest: 0.4967820\tbest: 0.5186351 (20)\ttotal: 19.8s\tremaining: 1m 6s\n",
      "240:\ttest: 0.4973169\tbest: 0.5186351 (20)\ttotal: 20.7s\tremaining: 1m 5s\n",
      "250:\ttest: 0.4947718\tbest: 0.5186351 (20)\ttotal: 21.6s\tremaining: 1m 4s\n",
      "260:\ttest: 0.4968122\tbest: 0.5186351 (20)\ttotal: 22.5s\tremaining: 1m 3s\n",
      "270:\ttest: 0.4923130\tbest: 0.5186351 (20)\ttotal: 23.3s\tremaining: 1m 2s\n",
      "280:\ttest: 0.4927961\tbest: 0.5186351 (20)\ttotal: 24.2s\tremaining: 1m 2s\n",
      "290:\ttest: 0.4960702\tbest: 0.5186351 (20)\ttotal: 25.1s\tremaining: 1m 1s\n",
      "300:\ttest: 0.4965965\tbest: 0.5186351 (20)\ttotal: 26s\tremaining: 1m\n",
      "310:\ttest: 0.4972349\tbest: 0.5186351 (20)\ttotal: 27s\tremaining: 59.8s\n",
      "320:\ttest: 0.4981926\tbest: 0.5186351 (20)\ttotal: 28s\tremaining: 59.1s\n",
      "330:\ttest: 0.4972737\tbest: 0.5186351 (20)\ttotal: 28.9s\tremaining: 58.4s\n",
      "340:\ttest: 0.5045898\tbest: 0.5186351 (20)\ttotal: 30s\tremaining: 58s\n",
      "350:\ttest: 0.5008627\tbest: 0.5186351 (20)\ttotal: 31.3s\tremaining: 57.8s\n",
      "360:\ttest: 0.5007204\tbest: 0.5186351 (20)\ttotal: 32.4s\tremaining: 57.4s\n",
      "370:\ttest: 0.5012639\tbest: 0.5186351 (20)\ttotal: 33.4s\tremaining: 56.7s\n",
      "380:\ttest: 0.5029031\tbest: 0.5186351 (20)\ttotal: 34.4s\tremaining: 55.9s\n",
      "390:\ttest: 0.4978216\tbest: 0.5186351 (20)\ttotal: 35.4s\tremaining: 55.2s\n",
      "400:\ttest: 0.5016565\tbest: 0.5186351 (20)\ttotal: 36.5s\tremaining: 54.5s\n",
      "410:\ttest: 0.5078423\tbest: 0.5186351 (20)\ttotal: 37.6s\tremaining: 53.8s\n",
      "420:\ttest: 0.5091450\tbest: 0.5186351 (20)\ttotal: 38.6s\tremaining: 53.1s\n",
      "430:\ttest: 0.5106289\tbest: 0.5186351 (20)\ttotal: 39.6s\tremaining: 52.3s\n",
      "440:\ttest: 0.5069537\tbest: 0.5186351 (20)\ttotal: 40.7s\tremaining: 51.6s\n",
      "450:\ttest: 0.5085670\tbest: 0.5186351 (20)\ttotal: 41.8s\tremaining: 50.8s\n",
      "460:\ttest: 0.5063843\tbest: 0.5186351 (20)\ttotal: 42.8s\tremaining: 50s\n",
      "470:\ttest: 0.5059960\tbest: 0.5186351 (20)\ttotal: 43.8s\tremaining: 49.2s\n",
      "480:\ttest: 0.5047882\tbest: 0.5186351 (20)\ttotal: 44.8s\tremaining: 48.4s\n",
      "490:\ttest: 0.5047709\tbest: 0.5186351 (20)\ttotal: 45.8s\tremaining: 47.5s\n",
      "500:\ttest: 0.5032957\tbest: 0.5186351 (20)\ttotal: 46.8s\tremaining: 46.7s\n",
      "510:\ttest: 0.5018376\tbest: 0.5186351 (20)\ttotal: 47.9s\tremaining: 45.9s\n",
      "520:\ttest: 0.5022086\tbest: 0.5186351 (20)\ttotal: 48.9s\tremaining: 45s\n",
      "530:\ttest: 0.4995341\tbest: 0.5186351 (20)\ttotal: 49.9s\tremaining: 44.1s\n",
      "540:\ttest: 0.5001294\tbest: 0.5186351 (20)\ttotal: 50.9s\tremaining: 43.1s\n",
      "550:\ttest: 0.5008282\tbest: 0.5186351 (20)\ttotal: 51.8s\tremaining: 42.2s\n",
      "560:\ttest: 0.5004055\tbest: 0.5186351 (20)\ttotal: 52.8s\tremaining: 41.3s\n",
      "570:\ttest: 0.5019153\tbest: 0.5186351 (20)\ttotal: 53.8s\tremaining: 40.4s\n",
      "580:\ttest: 0.5027866\tbest: 0.5186351 (20)\ttotal: 54.8s\tremaining: 39.5s\n",
      "590:\ttest: 0.5014494\tbest: 0.5186351 (20)\ttotal: 55.8s\tremaining: 38.6s\n",
      "600:\ttest: 0.5002243\tbest: 0.5186351 (20)\ttotal: 56.7s\tremaining: 37.7s\n",
      "610:\ttest: 0.5066086\tbest: 0.5186351 (20)\ttotal: 57.7s\tremaining: 36.8s\n",
      "620:\ttest: 0.5035631\tbest: 0.5186351 (20)\ttotal: 58.7s\tremaining: 35.8s\n",
      "630:\ttest: 0.5032784\tbest: 0.5186351 (20)\ttotal: 59.6s\tremaining: 34.9s\n",
      "640:\ttest: 0.5016133\tbest: 0.5186351 (20)\ttotal: 1m\tremaining: 34s\n",
      "650:\ttest: 0.5035545\tbest: 0.5186351 (20)\ttotal: 1m 1s\tremaining: 33s\n",
      "660:\ttest: 0.5012078\tbest: 0.5186351 (20)\ttotal: 1m 2s\tremaining: 32.1s\n",
      "670:\ttest: 0.5020102\tbest: 0.5186351 (20)\ttotal: 1m 3s\tremaining: 31.2s\n",
      "680:\ttest: 0.5011043\tbest: 0.5186351 (20)\ttotal: 1m 4s\tremaining: 30.2s\n",
      "690:\ttest: 0.5041239\tbest: 0.5186351 (20)\ttotal: 1m 5s\tremaining: 29.3s\n",
      "700:\ttest: 0.5024847\tbest: 0.5186351 (20)\ttotal: 1m 6s\tremaining: 28.4s\n",
      "710:\ttest: 0.5011733\tbest: 0.5186351 (20)\ttotal: 1m 7s\tremaining: 27.4s\n",
      "720:\ttest: 0.5015702\tbest: 0.5186351 (20)\ttotal: 1m 8s\tremaining: 26.5s\n",
      "730:\ttest: 0.5013718\tbest: 0.5186351 (20)\ttotal: 1m 9s\tremaining: 25.6s\n",
      "740:\ttest: 0.5041757\tbest: 0.5186351 (20)\ttotal: 1m 10s\tremaining: 24.6s\n",
      "750:\ttest: 0.5038564\tbest: 0.5186351 (20)\ttotal: 1m 11s\tremaining: 23.7s\n",
      "760:\ttest: 0.5050039\tbest: 0.5186351 (20)\ttotal: 1m 12s\tremaining: 22.7s\n",
      "770:\ttest: 0.5053749\tbest: 0.5186351 (20)\ttotal: 1m 13s\tremaining: 21.8s\n",
      "780:\ttest: 0.5053490\tbest: 0.5186351 (20)\ttotal: 1m 14s\tremaining: 20.9s\n",
      "790:\ttest: 0.5064533\tbest: 0.5186351 (20)\ttotal: 1m 15s\tremaining: 19.9s\n",
      "800:\ttest: 0.5080235\tbest: 0.5186351 (20)\ttotal: 1m 16s\tremaining: 19s\n",
      "810:\ttest: 0.5070917\tbest: 0.5186351 (20)\ttotal: 1m 17s\tremaining: 18s\n",
      "820:\ttest: 0.5046847\tbest: 0.5186351 (20)\ttotal: 1m 18s\tremaining: 17.1s\n",
      "830:\ttest: 0.5050902\tbest: 0.5186351 (20)\ttotal: 1m 19s\tremaining: 16.1s\n",
      "840:\ttest: 0.5039168\tbest: 0.5186351 (20)\ttotal: 1m 20s\tremaining: 15.2s\n",
      "850:\ttest: 0.5031404\tbest: 0.5186351 (20)\ttotal: 1m 21s\tremaining: 14.3s\n",
      "860:\ttest: 0.5030713\tbest: 0.5186351 (20)\ttotal: 1m 22s\tremaining: 13.3s\n",
      "870:\ttest: 0.5019412\tbest: 0.5186351 (20)\ttotal: 1m 23s\tremaining: 12.4s\n",
      "880:\ttest: 0.5013372\tbest: 0.5186351 (20)\ttotal: 1m 24s\tremaining: 11.4s\n",
      "890:\ttest: 0.5018463\tbest: 0.5186351 (20)\ttotal: 1m 25s\tremaining: 10.5s\n",
      "900:\ttest: 0.5023208\tbest: 0.5186351 (20)\ttotal: 1m 26s\tremaining: 9.55s\n",
      "910:\ttest: 0.5031145\tbest: 0.5186351 (20)\ttotal: 1m 27s\tremaining: 8.59s\n",
      "920:\ttest: 0.5042619\tbest: 0.5186351 (20)\ttotal: 1m 28s\tremaining: 7.63s\n",
      "930:\ttest: 0.5051247\tbest: 0.5186351 (20)\ttotal: 1m 29s\tremaining: 6.67s\n",
      "940:\ttest: 0.5076870\tbest: 0.5186351 (20)\ttotal: 1m 30s\tremaining: 5.7s\n",
      "950:\ttest: 0.5074799\tbest: 0.5186351 (20)\ttotal: 1m 31s\tremaining: 4.73s\n",
      "960:\ttest: 0.5050729\tbest: 0.5186351 (20)\ttotal: 1m 32s\tremaining: 3.77s\n",
      "970:\ttest: 0.5042533\tbest: 0.5186351 (20)\ttotal: 1m 33s\tremaining: 2.8s\n",
      "980:\ttest: 0.5057200\tbest: 0.5186351 (20)\ttotal: 1m 34s\tremaining: 1.83s\n",
      "990:\ttest: 0.5058321\tbest: 0.5186351 (20)\ttotal: 1m 35s\tremaining: 869ms\n",
      "999:\ttest: 0.5086705\tbest: 0.5186351 (20)\ttotal: 1m 36s\tremaining: 0us\n",
      "\n",
      "bestTest = 0.518635148\n",
      "bestIteration = 20\n",
      "\n",
      "Shrink model to first 21 iterations.\n"
     ]
    },
    {
     "data": {
      "text/plain": [
       "<catboost.core.CatBoostClassifier at 0x1e060d292b0>"
      ]
     },
     "execution_count": 126,
     "metadata": {},
     "output_type": "execute_result"
    }
   ],
   "source": [
    "params = {\n",
    "    'eval_metric': 'AUC',\n",
    "    'text_features': ['text_raw'],\n",
    "    'metric_period': 10,\n",
    "    'verbose': 10,\n",
    "}\n",
    "\n",
    "cb = CatBoostClassifier(**params)\n",
    "cb.fit(X=train_df, y=train_label, eval_set=(test_df, test_label))"
   ]
  },
  {
   "cell_type": "markdown",
   "id": "b3243e87",
   "metadata": {},
   "source": [
    "## summ"
   ]
  },
  {
   "cell_type": "code",
   "execution_count": 134,
   "id": "114d2708",
   "metadata": {
    "ExecuteTime": {
     "end_time": "2022-01-07T20:40:19.152662Z",
     "start_time": "2022-01-07T20:40:18.901236Z"
    }
   },
   "outputs": [
    {
     "data": {
      "text/html": [
       "<div>\n",
       "<style scoped>\n",
       "    .dataframe tbody tr th:only-of-type {\n",
       "        vertical-align: middle;\n",
       "    }\n",
       "\n",
       "    .dataframe tbody tr th {\n",
       "        vertical-align: top;\n",
       "    }\n",
       "\n",
       "    .dataframe thead th {\n",
       "        text-align: right;\n",
       "    }\n",
       "</style>\n",
       "<table border=\"1\" class=\"dataframe\">\n",
       "  <thead>\n",
       "    <tr style=\"text-align: right;\">\n",
       "      <th></th>\n",
       "      <th>train</th>\n",
       "      <th>test</th>\n",
       "    </tr>\n",
       "  </thead>\n",
       "  <tbody>\n",
       "    <tr>\n",
       "      <th>AUC</th>\n",
       "      <td>0.560178</td>\n",
       "      <td>0.518635</td>\n",
       "    </tr>\n",
       "    <tr>\n",
       "      <th>Accuracy</th>\n",
       "      <td>0.834761</td>\n",
       "      <td>0.802803</td>\n",
       "    </tr>\n",
       "    <tr>\n",
       "      <th>F1</th>\n",
       "      <td>0.023543</td>\n",
       "      <td>0.075117</td>\n",
       "    </tr>\n",
       "    <tr>\n",
       "      <th>Precision</th>\n",
       "      <td>0.023585</td>\n",
       "      <td>0.101266</td>\n",
       "    </tr>\n",
       "    <tr>\n",
       "      <th>Recall</th>\n",
       "      <td>0.023502</td>\n",
       "      <td>0.059701</td>\n",
       "    </tr>\n",
       "  </tbody>\n",
       "</table>\n",
       "</div>"
      ],
      "text/plain": [
       "              train      test\n",
       "AUC        0.560178  0.518635\n",
       "Accuracy   0.834761  0.802803\n",
       "F1         0.023543  0.075117\n",
       "Precision  0.023585  0.101266\n",
       "Recall     0.023502  0.059701"
      ]
     },
     "metadata": {},
     "output_type": "display_data"
    },
    {
     "name": "stdout",
     "output_type": "stream",
     "text": [
      "|mean pred |0.158266|0.158236|\n"
     ]
    },
    {
     "data": {
      "text/plain": [
       "<AxesSubplot:ylabel='Frequency'>"
      ]
     },
     "execution_count": 134,
     "metadata": {},
     "output_type": "execute_result"
    },
    {
     "data": {
      "image/png": "[encoded data removed]",
      "text/plain": [
       "<Figure size 432x288 with 1 Axes>"
      ]
     },
     "metadata": {
      "needs_background": "light"
     },
     "output_type": "display_data"
    }
   ],
   "source": [
    "proba_train = cb.predict_proba(train_df)[:, 1]\n",
    "proba_test = cb.predict_proba(test_df)[:, 1]\n",
    "\n",
    "display(compute_metrics((train_label, proba_train), (test_label, proba_test)))\n",
    "\n",
    "print(f'|mean pred |{round(np.mean(proba_train), 6)}|{round(np.mean(proba_test), 6)}|')\n",
    "pd.Series(proba_test).plot.hist()"
   ]
  },
  {
   "cell_type": "markdown",
   "id": "04818e40",
   "metadata": {},
   "source": [
    "# catboost on cleaned"
   ]
  },
  {
   "cell_type": "markdown",
   "id": "2ba27e13",
   "metadata": {},
   "source": [
    "## prep data"
   ]
  },
  {
   "cell_type": "code",
   "execution_count": 135,
   "id": "8eb8b129",
   "metadata": {
    "ExecuteTime": {
     "end_time": "2022-01-07T20:40:37.993474Z",
     "start_time": "2022-01-07T20:40:37.884525Z"
    }
   },
   "outputs": [
    {
     "data": {
      "text/plain": [
       "{'clean_email': True,\n",
       " 'clean_emoji': True,\n",
       " 'clean_hashtag': True,\n",
       " 'clean_non_alpha': True,\n",
       " 'clean_non_letter': True,\n",
       " 'clean_url': True,\n",
       " 'clean_user_ref': True,\n",
       " 'drop_repeated': True,\n",
       " 'latinize': True,\n",
       " 'to_lower': True}"
      ]
     },
     "execution_count": 135,
     "metadata": {},
     "output_type": "execute_result"
    }
   ],
   "source": [
    "cleaner = TextCleaner()\n",
    "cleaner.get_params()"
   ]
  },
  {
   "cell_type": "code",
   "execution_count": 136,
   "id": "c604e62c",
   "metadata": {
    "ExecuteTime": {
     "end_time": "2022-01-07T20:40:39.092899Z",
     "start_time": "2022-01-07T20:40:38.659258Z"
    }
   },
   "outputs": [],
   "source": [
    "train_clean = cleaner.fit_transform(train_df['text_raw'])\n",
    "train_clean = pd.DataFrame(train_clean, columns=['text_clean'])\n",
    "\n",
    "\n",
    "test_clean = cleaner.transform(test_df['text_raw'])\n",
    "test_clean = pd.DataFrame(test_clean, columns=['text_clean'])\n",
    "\n",
    "\n",
    "train_pool_clean = Pool(train_clean, label=train_label, text_features=['text_clean'])\n",
    "test_pool_clean = Pool(test_clean, label=test_label, text_features=['text_clean'])"
   ]
  },
  {
   "cell_type": "markdown",
   "id": "c08e6dc5",
   "metadata": {},
   "source": [
    "## train model"
   ]
  },
  {
   "cell_type": "code",
   "execution_count": 146,
   "id": "2b13b3e2",
   "metadata": {
    "ExecuteTime": {
     "end_time": "2022-01-07T20:45:27.542841Z",
     "start_time": "2022-01-07T20:45:23.841183Z"
    },
    "scrolled": true
   },
   "outputs": [
    {
     "name": "stdout",
     "output_type": "stream",
     "text": [
      "Learning rate set to 0.056019\n",
      "0:\ttest: 0.4994220\tbest: 0.4994220 (0)\ttotal: 59.4ms\tremaining: 59.3s\n",
      "10:\ttest: 0.5094427\tbest: 0.5094427 (10)\ttotal: 791ms\tremaining: 1m 11s\n",
      "20:\ttest: 0.4975153\tbest: 0.5094427 (10)\ttotal: 1.75s\tremaining: 1m 21s\n",
      "30:\ttest: 0.4803080\tbest: 0.5094427 (10)\ttotal: 2.56s\tremaining: 1m 20s\n",
      "40:\ttest: 0.4903977\tbest: 0.5094427 (10)\ttotal: 3.42s\tremaining: 1m 20s\n",
      "Stopped by overfitting detector  (30 iterations wait)\n",
      "\n",
      "bestTest = 0.509442671\n",
      "bestIteration = 10\n",
      "\n",
      "Shrink model to first 11 iterations.\n"
     ]
    },
    {
     "data": {
      "text/plain": [
       "<catboost.core.CatBoostClassifier at 0x1e060d04670>"
      ]
     },
     "execution_count": 146,
     "metadata": {},
     "output_type": "execute_result"
    }
   ],
   "source": [
    "params = {\n",
    "    'eval_metric': 'AUC',\n",
    "    'text_features': ['text_clean'],\n",
    "    'verbose': 10,\n",
    "    'early_stopping_rounds': 30\n",
    "}\n",
    "\n",
    "cb = CatBoostClassifier(**params)\n",
    "cb.fit(X=train_clean, y=train_label, eval_set=(test_clean, test_label))"
   ]
  },
  {
   "cell_type": "markdown",
   "id": "0eef279a",
   "metadata": {
    "ExecuteTime": {
     "end_time": "2022-01-07T06:07:45.456247Z",
     "start_time": "2022-01-07T06:07:45.347252Z"
    }
   },
   "source": [
    "## summ"
   ]
  },
  {
   "cell_type": "code",
   "execution_count": 147,
   "id": "368cff83",
   "metadata": {
    "ExecuteTime": {
     "end_time": "2022-01-07T20:45:32.297664Z",
     "start_time": "2022-01-07T20:45:32.035921Z"
    }
   },
   "outputs": [
    {
     "data": {
      "text/html": [
       "<div>\n",
       "<style scoped>\n",
       "    .dataframe tbody tr th:only-of-type {\n",
       "        vertical-align: middle;\n",
       "    }\n",
       "\n",
       "    .dataframe tbody tr th {\n",
       "        vertical-align: top;\n",
       "    }\n",
       "\n",
       "    .dataframe thead th {\n",
       "        text-align: right;\n",
       "    }\n",
       "</style>\n",
       "<table border=\"1\" class=\"dataframe\">\n",
       "  <thead>\n",
       "    <tr style=\"text-align: right;\">\n",
       "      <th></th>\n",
       "      <th>train</th>\n",
       "      <th>test</th>\n",
       "    </tr>\n",
       "  </thead>\n",
       "  <tbody>\n",
       "    <tr>\n",
       "      <th>AUC</th>\n",
       "      <td>0.526524</td>\n",
       "      <td>0.509443</td>\n",
       "    </tr>\n",
       "    <tr>\n",
       "      <th>Accuracy</th>\n",
       "      <td>0.858765</td>\n",
       "      <td>0.823824</td>\n",
       "    </tr>\n",
       "    <tr>\n",
       "      <th>F1</th>\n",
       "      <td>0.041892</td>\n",
       "      <td>0.073684</td>\n",
       "    </tr>\n",
       "    <tr>\n",
       "      <th>Precision</th>\n",
       "      <td>0.049285</td>\n",
       "      <td>0.125000</td>\n",
       "    </tr>\n",
       "    <tr>\n",
       "      <th>Recall</th>\n",
       "      <td>0.036428</td>\n",
       "      <td>0.052239</td>\n",
       "    </tr>\n",
       "  </tbody>\n",
       "</table>\n",
       "</div>"
      ],
      "text/plain": [
       "              train      test\n",
       "AUC        0.526524  0.509443\n",
       "Accuracy   0.858765  0.823824\n",
       "F1         0.041892  0.073684\n",
       "Precision  0.049285  0.125000\n",
       "Recall     0.036428  0.052239"
      ]
     },
     "metadata": {},
     "output_type": "display_data"
    },
    {
     "name": "stdout",
     "output_type": "stream",
     "text": [
      "|mean pred |0.24648|0.246439|\n"
     ]
    },
    {
     "data": {
      "text/plain": [
       "<AxesSubplot:ylabel='Frequency'>"
      ]
     },
     "execution_count": 147,
     "metadata": {},
     "output_type": "execute_result"
    },
    {
     "data": {
      "image/png": "[encoded data removed]",
      "text/plain": [
       "<Figure size 432x288 with 1 Axes>"
      ]
     },
     "metadata": {
      "needs_background": "light"
     },
     "output_type": "display_data"
    }
   ],
   "source": [
    "proba_train = cb.predict_proba(train_clean)[:, 1]\n",
    "proba_test = cb.predict_proba(test_clean)[:, 1]\n",
    "\n",
    "display(compute_metrics((train_label, proba_train), (test_label, proba_test)))\n",
    "\n",
    "print(f'|mean pred |{round(np.mean(proba_train), 6)}|{round(np.mean(proba_test), 6)}|')\n",
    "pd.Series(proba_test).plot.hist()"
   ]
  },
  {
   "cell_type": "code",
   "execution_count": 250,
   "id": "164bcff5",
   "metadata": {
    "ExecuteTime": {
     "end_time": "2022-01-07T06:31:36.838565Z",
     "start_time": "2022-01-07T06:31:36.608789Z"
    }
   },
   "outputs": [
    {
     "data": {
      "text/plain": [
       "<AxesSubplot:ylabel='Frequency'>"
      ]
     },
     "execution_count": 250,
     "metadata": {},
     "output_type": "execute_result"
    },
    {
     "data": {
      "image/png": "[encoded data removed]",
      "text/plain": [
       "<Figure size 432x288 with 1 Axes>"
      ]
     },
     "metadata": {
      "needs_background": "light"
     },
     "output_type": "display_data"
    }
   ],
   "source": [
    "pd.Series(map(len, train_clean['text_clean'])).plot.hist()"
   ]
  },
  {
   "cell_type": "code",
   "execution_count": 249,
   "id": "6a63f8e6",
   "metadata": {
    "ExecuteTime": {
     "end_time": "2022-01-07T06:30:59.895739Z",
     "start_time": "2022-01-07T06:30:59.782181Z"
    }
   },
   "outputs": [
    {
     "data": {
      "text/plain": [
       "0      14\n",
       "2       2\n",
       "7       1\n",
       "9       1\n",
       "10      2\n",
       "       ..\n",
       "134     4\n",
       "135     5\n",
       "136     7\n",
       "137     1\n",
       "138     1\n",
       "Length: 133, dtype: int64"
      ]
     },
     "execution_count": 249,
     "metadata": {},
     "output_type": "execute_result"
    }
   ],
   "source": [
    "pd.Series(map(len, train_clean['text_clean'])).value_counts(dropna=False).sort_index()"
   ]
  },
  {
   "cell_type": "code",
   "execution_count": 254,
   "id": "a5abd95c",
   "metadata": {
    "ExecuteTime": {
     "end_time": "2022-01-07T06:33:00.058319Z",
     "start_time": "2022-01-07T06:32:59.838855Z"
    }
   },
   "outputs": [
    {
     "data": {
      "text/plain": [
       "<AxesSubplot:ylabel='Frequency'>"
      ]
     },
     "execution_count": 254,
     "metadata": {},
     "output_type": "execute_result"
    },
    {
     "data": {
      "image/png": "[encoded data removed]",
      "text/plain": [
       "<Figure size 432x288 with 1 Axes>"
      ]
     },
     "metadata": {
      "needs_background": "light"
     },
     "output_type": "display_data"
    }
   ],
   "source": [
    "pd.Series(map(len, train_tokens)).plot.hist()"
   ]
  },
  {
   "cell_type": "code",
   "execution_count": 253,
   "id": "83083738",
   "metadata": {
    "ExecuteTime": {
     "end_time": "2022-01-07T06:32:43.694150Z",
     "start_time": "2022-01-07T06:32:43.582773Z"
    }
   },
   "outputs": [
    {
     "data": {
      "text/plain": [
       "0       14\n",
       "1        2\n",
       "2        2\n",
       "3       37\n",
       "4      357\n",
       "5     1004\n",
       "6      974\n",
       "7      911\n",
       "8      848\n",
       "9      761\n",
       "10     767\n",
       "11     676\n",
       "12     549\n",
       "13     540\n",
       "14     477\n",
       "15     463\n",
       "16     408\n",
       "17     345\n",
       "18     280\n",
       "19     209\n",
       "20     165\n",
       "21     110\n",
       "22      62\n",
       "23      34\n",
       "24      22\n",
       "25      11\n",
       "26       3\n",
       "27       4\n",
       "28       4\n",
       "29       1\n",
       "dtype: int64"
      ]
     },
     "execution_count": 253,
     "metadata": {},
     "output_type": "execute_result"
    }
   ],
   "source": [
    "pd.Series(map(len, train_tokens)).value_counts().sort_index()"
   ]
  },
  {
   "cell_type": "markdown",
   "id": "1333fb7d",
   "metadata": {},
   "source": [
    "# w2v on cleaned"
   ]
  },
  {
   "cell_type": "markdown",
   "id": "1d99c150",
   "metadata": {},
   "source": [
    "## prep data"
   ]
  },
  {
   "cell_type": "code",
   "execution_count": 138,
   "id": "689d1390",
   "metadata": {
    "ExecuteTime": {
     "end_time": "2022-01-07T20:42:16.080286Z",
     "start_time": "2022-01-07T20:42:15.925085Z"
    }
   },
   "outputs": [],
   "source": [
    "# train\n",
    "train_tokens = pd.Series(map(lambda text: text.split(), train_clean['text_clean']))\n",
    "train_tokens.index = train_clean.index\n",
    "\n",
    "train_tokens = train_tokens[(pd.Series(map(len, train_tokens))>0).values]\n",
    "train_label_tok = train_label[train_tokens.index]\n",
    "\n",
    "\n",
    "# test\n",
    "test_tokens = pd.Series(map(lambda text: text.split(), test_clean['text_clean']))\n",
    "test_tokens.index = test_clean.index\n",
    "\n",
    "test_tokens = test_tokens[(pd.Series(map(len, test_tokens))>0).values]\n",
    "test_label_tok = test_label[test_tokens.index]"
   ]
  },
  {
   "cell_type": "code",
   "execution_count": 139,
   "id": "725b8b79",
   "metadata": {
    "ExecuteTime": {
     "end_time": "2022-01-07T20:42:16.204033Z",
     "start_time": "2022-01-07T20:42:16.084280Z"
    }
   },
   "outputs": [
    {
     "data": {
      "text/plain": [
       "{'alpha': 0.025,\n",
       " 'cbow_mean': 1,\n",
       " 'epochs': 5,\n",
       " 'hs': 0,\n",
       " 'max_final_vocab': None,\n",
       " 'min_alpha': 0.0001,\n",
       " 'min_count': 5,\n",
       " 'model_name': 'w2v',\n",
       " 'negative': 5,\n",
       " 'ns_exponent': 0.75,\n",
       " 'sample': 0.001,\n",
       " 'sg': 0,\n",
       " 'vector_size': 20,\n",
       " 'window': 5,\n",
       " 'workers': 8}"
      ]
     },
     "execution_count": 139,
     "metadata": {},
     "output_type": "execute_result"
    }
   ],
   "source": [
    "emb = W2VEmbedder()\n",
    "emb.get_params()"
   ]
  },
  {
   "cell_type": "code",
   "execution_count": 18,
   "id": "59d7432c",
   "metadata": {
    "ExecuteTime": {
     "end_time": "2022-01-07T19:20:37.331858Z",
     "start_time": "2022-01-07T19:20:36.918143Z"
    },
    "scrolled": true
   },
   "outputs": [
    {
     "name": "stderr",
     "output_type": "stream",
     "text": [
      "INFO:2022-01-07 20:20:36:gensim.models.word2vec:collecting all words and their counts\n",
      "INFO:2022-01-07 20:20:36:gensim.models.word2vec:PROGRESS: at sentence #0, processed 0 words, keeping 0 word types\n",
      "INFO:2022-01-07 20:20:37:gensim.models.word2vec:PROGRESS: at sentence #10000, processed 104799 words, keeping 21734 word types\n",
      "INFO:2022-01-07 20:20:37:gensim.models.word2vec:collected 21764 word types from a corpus of 105046 raw words and 10026 sentences\n",
      "INFO:2022-01-07 20:20:37:gensim.models.word2vec:Creating a fresh vocabulary\n",
      "INFO:2022-01-07 20:20:37:gensim.utils:Word2Vec lifecycle event {'msg': 'effective_min_count=5 retains 2518 unique words (11.56956441830546%% of original 21764, drops 19246)', 'datetime': '2022-01-07T20:20:37.039782', 'gensim': '4.1.2', 'python': '3.8.8 (tags/v3.8.8:024d805, Feb 19 2021, 13:18:16) [MSC v.1928 64 bit (AMD64)]', 'platform': 'Windows-10-10.0.19041-SP0', 'event': 'prepare_vocab'}\n",
      "INFO:2022-01-07 20:20:37:gensim.utils:Word2Vec lifecycle event {'msg': 'effective_min_count=5 leaves 76284 word corpus (72.6196142642271%% of original 105046, drops 28762)', 'datetime': '2022-01-07T20:20:37.040746', 'gensim': '4.1.2', 'python': '3.8.8 (tags/v3.8.8:024d805, Feb 19 2021, 13:18:16) [MSC v.1928 64 bit (AMD64)]', 'platform': 'Windows-10-10.0.19041-SP0', 'event': 'prepare_vocab'}\n",
      "INFO:2022-01-07 20:20:37:gensim.models.word2vec:deleting the raw counts dictionary of 21764 items\n",
      "INFO:2022-01-07 20:20:37:gensim.models.word2vec:sample=0.001 downsamples 45 most-common words\n",
      "INFO:2022-01-07 20:20:37:gensim.utils:Word2Vec lifecycle event {'msg': 'downsampling leaves estimated 54133.531426439586 word corpus (71.0%% of prior 76284)', 'datetime': '2022-01-07T20:20:37.056705', 'gensim': '4.1.2', 'python': '3.8.8 (tags/v3.8.8:024d805, Feb 19 2021, 13:18:16) [MSC v.1928 64 bit (AMD64)]', 'platform': 'Windows-10-10.0.19041-SP0', 'event': 'prepare_vocab'}\n",
      "INFO:2022-01-07 20:20:37:gensim.models.word2vec:estimated required memory for 2518 words and 20 dimensions: 1661880 bytes\n",
      "INFO:2022-01-07 20:20:37:gensim.models.word2vec:resetting layer weights\n",
      "INFO:2022-01-07 20:20:37:gensim.utils:Word2Vec lifecycle event {'update': False, 'trim_rule': 'None', 'datetime': '2022-01-07T20:20:37.083007', 'gensim': '4.1.2', 'python': '3.8.8 (tags/v3.8.8:024d805, Feb 19 2021, 13:18:16) [MSC v.1928 64 bit (AMD64)]', 'platform': 'Windows-10-10.0.19041-SP0', 'event': 'build_vocab'}\n",
      "INFO:2022-01-07 20:20:37:gensim.utils:Word2Vec lifecycle event {'msg': 'training model with 8 workers on 2518 vocabulary and 20 features, using sg=0 hs=0 sample=0.001 negative=5 window=5 shrink_windows=True', 'datetime': '2022-01-07T20:20:37.084018', 'gensim': '4.1.2', 'python': '3.8.8 (tags/v3.8.8:024d805, Feb 19 2021, 13:18:16) [MSC v.1928 64 bit (AMD64)]', 'platform': 'Windows-10-10.0.19041-SP0', 'event': 'train'}\n",
      "INFO:2022-01-07 20:20:37:gensim.models.word2vec:worker thread finished; awaiting finish of 7 more threads\n",
      "INFO:2022-01-07 20:20:37:gensim.models.word2vec:worker thread finished; awaiting finish of 6 more threads\n",
      "INFO:2022-01-07 20:20:37:gensim.models.word2vec:worker thread finished; awaiting finish of 5 more threads\n",
      "INFO:2022-01-07 20:20:37:gensim.models.word2vec:worker thread finished; awaiting finish of 4 more threads\n",
      "INFO:2022-01-07 20:20:37:gensim.models.word2vec:worker thread finished; awaiting finish of 3 more threads\n",
      "INFO:2022-01-07 20:20:37:gensim.models.word2vec:worker thread finished; awaiting finish of 2 more threads\n",
      "INFO:2022-01-07 20:20:37:gensim.models.word2vec:worker thread finished; awaiting finish of 1 more threads\n",
      "INFO:2022-01-07 20:20:37:gensim.models.word2vec:worker thread finished; awaiting finish of 0 more threads\n",
      "INFO:2022-01-07 20:20:37:gensim.models.word2vec:EPOCH - 1 : training on 105046 raw words (54080 effective words) took 0.0s, 1904098 effective words/s\n",
      "INFO:2022-01-07 20:20:37:gensim.models.word2vec:worker thread finished; awaiting finish of 7 more threads\n",
      "INFO:2022-01-07 20:20:37:gensim.models.word2vec:worker thread finished; awaiting finish of 6 more threads\n",
      "INFO:2022-01-07 20:20:37:gensim.models.word2vec:worker thread finished; awaiting finish of 5 more threads\n",
      "INFO:2022-01-07 20:20:37:gensim.models.word2vec:worker thread finished; awaiting finish of 4 more threads\n",
      "INFO:2022-01-07 20:20:37:gensim.models.word2vec:worker thread finished; awaiting finish of 3 more threads\n",
      "INFO:2022-01-07 20:20:37:gensim.models.word2vec:worker thread finished; awaiting finish of 2 more threads\n",
      "INFO:2022-01-07 20:20:37:gensim.models.word2vec:worker thread finished; awaiting finish of 1 more threads\n",
      "INFO:2022-01-07 20:20:37:gensim.models.word2vec:worker thread finished; awaiting finish of 0 more threads\n",
      "INFO:2022-01-07 20:20:37:gensim.models.word2vec:EPOCH - 2 : training on 105046 raw words (54142 effective words) took 0.0s, 1782206 effective words/s\n",
      "INFO:2022-01-07 20:20:37:gensim.models.word2vec:worker thread finished; awaiting finish of 7 more threads\n",
      "INFO:2022-01-07 20:20:37:gensim.models.word2vec:worker thread finished; awaiting finish of 6 more threads\n",
      "INFO:2022-01-07 20:20:37:gensim.models.word2vec:worker thread finished; awaiting finish of 5 more threads\n",
      "INFO:2022-01-07 20:20:37:gensim.models.word2vec:worker thread finished; awaiting finish of 4 more threads\n",
      "INFO:2022-01-07 20:20:37:gensim.models.word2vec:worker thread finished; awaiting finish of 3 more threads\n",
      "INFO:2022-01-07 20:20:37:gensim.models.word2vec:worker thread finished; awaiting finish of 2 more threads\n",
      "INFO:2022-01-07 20:20:37:gensim.models.word2vec:worker thread finished; awaiting finish of 1 more threads\n",
      "INFO:2022-01-07 20:20:37:gensim.models.word2vec:worker thread finished; awaiting finish of 0 more threads\n",
      "INFO:2022-01-07 20:20:37:gensim.models.word2vec:EPOCH - 3 : training on 105046 raw words (54231 effective words) took 0.0s, 1726354 effective words/s\n",
      "INFO:2022-01-07 20:20:37:gensim.models.word2vec:worker thread finished; awaiting finish of 7 more threads\n",
      "INFO:2022-01-07 20:20:37:gensim.models.word2vec:worker thread finished; awaiting finish of 6 more threads\n",
      "INFO:2022-01-07 20:20:37:gensim.models.word2vec:worker thread finished; awaiting finish of 5 more threads\n",
      "INFO:2022-01-07 20:20:37:gensim.models.word2vec:worker thread finished; awaiting finish of 4 more threads\n",
      "INFO:2022-01-07 20:20:37:gensim.models.word2vec:worker thread finished; awaiting finish of 3 more threads\n",
      "INFO:2022-01-07 20:20:37:gensim.models.word2vec:worker thread finished; awaiting finish of 2 more threads\n",
      "INFO:2022-01-07 20:20:37:gensim.models.word2vec:worker thread finished; awaiting finish of 1 more threads\n",
      "INFO:2022-01-07 20:20:37:gensim.models.word2vec:worker thread finished; awaiting finish of 0 more threads\n",
      "INFO:2022-01-07 20:20:37:gensim.models.word2vec:EPOCH - 4 : training on 105046 raw words (53963 effective words) took 0.0s, 1781963 effective words/s\n",
      "INFO:2022-01-07 20:20:37:gensim.models.word2vec:worker thread finished; awaiting finish of 7 more threads\n",
      "INFO:2022-01-07 20:20:37:gensim.models.word2vec:worker thread finished; awaiting finish of 6 more threads\n",
      "INFO:2022-01-07 20:20:37:gensim.models.word2vec:worker thread finished; awaiting finish of 5 more threads\n",
      "INFO:2022-01-07 20:20:37:gensim.models.word2vec:worker thread finished; awaiting finish of 4 more threads\n",
      "INFO:2022-01-07 20:20:37:gensim.models.word2vec:worker thread finished; awaiting finish of 3 more threads\n",
      "INFO:2022-01-07 20:20:37:gensim.models.word2vec:worker thread finished; awaiting finish of 2 more threads\n",
      "INFO:2022-01-07 20:20:37:gensim.models.word2vec:worker thread finished; awaiting finish of 1 more threads\n",
      "INFO:2022-01-07 20:20:37:gensim.models.word2vec:worker thread finished; awaiting finish of 0 more threads\n",
      "INFO:2022-01-07 20:20:37:gensim.models.word2vec:EPOCH - 5 : training on 105046 raw words (54017 effective words) took 0.0s, 1706844 effective words/s\n",
      "INFO:2022-01-07 20:20:37:gensim.utils:Word2Vec lifecycle event {'msg': 'training on 525230 raw words (270433 effective words) took 0.2s, 1151020 effective words/s', 'datetime': '2022-01-07T20:20:37.319858', 'gensim': '4.1.2', 'python': '3.8.8 (tags/v3.8.8:024d805, Feb 19 2021, 13:18:16) [MSC v.1928 64 bit (AMD64)]', 'platform': 'Windows-10-10.0.19041-SP0', 'event': 'train'}\n"
     ]
    },
    {
     "name": "stderr",
     "output_type": "stream",
     "text": [
      "INFO:2022-01-07 20:20:37:gensim.utils:Word2Vec lifecycle event {'params': 'Word2Vec(vocab=2518, vector_size=20, alpha=0.025)', 'datetime': '2022-01-07T20:20:37.320856', 'gensim': '4.1.2', 'python': '3.8.8 (tags/v3.8.8:024d805, Feb 19 2021, 13:18:16) [MSC v.1928 64 bit (AMD64)]', 'platform': 'Windows-10-10.0.19041-SP0', 'event': 'created'}\n"
     ]
    },
    {
     "data": {
      "text/plain": [
       "W2VEmbedder()"
      ]
     },
     "execution_count": 18,
     "metadata": {},
     "output_type": "execute_result"
    }
   ],
   "source": [
    "emb.fit(train_tokens)"
   ]
  },
  {
   "cell_type": "code",
   "execution_count": 20,
   "id": "68a4c09b",
   "metadata": {
    "ExecuteTime": {
     "end_time": "2022-01-07T19:21:08.606616Z",
     "start_time": "2022-01-07T19:21:08.228711Z"
    }
   },
   "outputs": [],
   "source": [
    "train_w2v = emb.transform(train_tokens)\n",
    "test_w2v = emb.transform(test_tokens)\n",
    "\n",
    "train_pool_w2v = Pool(train_w2v, label=train_label_tok)\n",
    "test_pool_w2v = Pool(test_w2v, label=test_label_tok)"
   ]
  },
  {
   "cell_type": "markdown",
   "id": "9bb61a48",
   "metadata": {},
   "source": [
    "## train model"
   ]
  },
  {
   "cell_type": "code",
   "execution_count": 153,
   "id": "bccb113b",
   "metadata": {
    "ExecuteTime": {
     "end_time": "2022-01-07T20:49:52.462581Z",
     "start_time": "2022-01-07T20:49:50.974105Z"
    },
    "scrolled": true
   },
   "outputs": [
    {
     "name": "stdout",
     "output_type": "stream",
     "text": [
      "Learning rate set to 0.056\n",
      "0:\ttest: 0.4827582\tbest: 0.4827582 (0)\ttotal: 7.08ms\tremaining: 7.07s\n",
      "10:\ttest: 0.5062203\tbest: 0.5152877 (3)\ttotal: 69.7ms\tremaining: 6.27s\n",
      "20:\ttest: 0.4705159\tbest: 0.5152877 (3)\ttotal: 131ms\tremaining: 6.12s\n",
      "30:\ttest: 0.4825166\tbest: 0.5152877 (3)\ttotal: 196ms\tremaining: 6.12s\n",
      "40:\ttest: 0.4972694\tbest: 0.5152877 (3)\ttotal: 262ms\tremaining: 6.13s\n",
      "50:\ttest: 0.4954620\tbest: 0.5152877 (3)\ttotal: 324ms\tremaining: 6.03s\n",
      "60:\ttest: 0.4990424\tbest: 0.5152877 (3)\ttotal: 386ms\tremaining: 5.95s\n",
      "70:\ttest: 0.4976922\tbest: 0.5152877 (3)\ttotal: 450ms\tremaining: 5.89s\n",
      "80:\ttest: 0.4807264\tbest: 0.5152877 (3)\ttotal: 512ms\tremaining: 5.81s\n",
      "90:\ttest: 0.4820119\tbest: 0.5152877 (3)\ttotal: 574ms\tremaining: 5.74s\n",
      "100:\ttest: 0.4800017\tbest: 0.5152877 (3)\ttotal: 636ms\tremaining: 5.66s\n",
      "110:\ttest: 0.4726167\tbest: 0.5152877 (3)\ttotal: 700ms\tremaining: 5.6s\n",
      "120:\ttest: 0.4690277\tbest: 0.5152877 (3)\ttotal: 761ms\tremaining: 5.53s\n",
      "130:\ttest: 0.4777414\tbest: 0.5152877 (3)\ttotal: 825ms\tremaining: 5.47s\n",
      "140:\ttest: 0.4834699\tbest: 0.5152877 (3)\ttotal: 889ms\tremaining: 5.41s\n",
      "150:\ttest: 0.4777068\tbest: 0.5152877 (3)\ttotal: 956ms\tremaining: 5.38s\n",
      "160:\ttest: 0.4791131\tbest: 0.5152877 (3)\ttotal: 1.02s\tremaining: 5.32s\n",
      "170:\ttest: 0.4781210\tbest: 0.5152877 (3)\ttotal: 1.08s\tremaining: 5.25s\n",
      "180:\ttest: 0.4722716\tbest: 0.5152877 (3)\ttotal: 1.15s\tremaining: 5.2s\n",
      "190:\ttest: 0.4716418\tbest: 0.5152877 (3)\ttotal: 1.22s\tremaining: 5.17s\n",
      "200:\ttest: 0.4698646\tbest: 0.5152877 (3)\ttotal: 1.29s\tremaining: 5.12s\n",
      "Stopped by overfitting detector  (200 iterations wait)\n",
      "\n",
      "bestTest = 0.5152877232\n",
      "bestIteration = 3\n",
      "\n",
      "Shrink model to first 4 iterations.\n"
     ]
    },
    {
     "data": {
      "text/plain": [
       "<catboost.core.CatBoostClassifier at 0x1e055c21280>"
      ]
     },
     "execution_count": 153,
     "metadata": {},
     "output_type": "execute_result"
    }
   ],
   "source": [
    "params = {\n",
    "    'eval_metric': 'AUC',\n",
    "    'early_stopping_rounds': 200,\n",
    "    'verbose': 10,\n",
    "}\n",
    "\n",
    "cb = CatBoostClassifier(**params)\n",
    "cb.fit(X=train_w2v, y=train_label_tok, eval_set=(test_w2v, test_label_tok))"
   ]
  },
  {
   "cell_type": "markdown",
   "id": "2bf09f92",
   "metadata": {},
   "source": [
    "## summ"
   ]
  },
  {
   "cell_type": "code",
   "execution_count": 160,
   "id": "46c9fb2d",
   "metadata": {
    "ExecuteTime": {
     "end_time": "2022-01-07T20:52:12.770191Z",
     "start_time": "2022-01-07T20:52:12.519705Z"
    }
   },
   "outputs": [
    {
     "data": {
      "text/html": [
       "<div>\n",
       "<style scoped>\n",
       "    .dataframe tbody tr th:only-of-type {\n",
       "        vertical-align: middle;\n",
       "    }\n",
       "\n",
       "    .dataframe tbody tr th {\n",
       "        vertical-align: top;\n",
       "    }\n",
       "\n",
       "    .dataframe thead th {\n",
       "        text-align: right;\n",
       "    }\n",
       "</style>\n",
       "<table border=\"1\" class=\"dataframe\">\n",
       "  <thead>\n",
       "    <tr style=\"text-align: right;\">\n",
       "      <th></th>\n",
       "      <th>train</th>\n",
       "      <th>test</th>\n",
       "    </tr>\n",
       "  </thead>\n",
       "  <tbody>\n",
       "    <tr>\n",
       "      <th>AUC</th>\n",
       "      <td>0.551923</td>\n",
       "      <td>0.515249</td>\n",
       "    </tr>\n",
       "    <tr>\n",
       "      <th>Accuracy</th>\n",
       "      <td>0.859565</td>\n",
       "      <td>0.819820</td>\n",
       "    </tr>\n",
       "    <tr>\n",
       "      <th>F1</th>\n",
       "      <td>0.063830</td>\n",
       "      <td>0.072165</td>\n",
       "    </tr>\n",
       "    <tr>\n",
       "      <th>Precision</th>\n",
       "      <td>0.073282</td>\n",
       "      <td>0.116667</td>\n",
       "    </tr>\n",
       "    <tr>\n",
       "      <th>Recall</th>\n",
       "      <td>0.056537</td>\n",
       "      <td>0.052239</td>\n",
       "    </tr>\n",
       "  </tbody>\n",
       "</table>\n",
       "</div>"
      ],
      "text/plain": [
       "              train      test\n",
       "AUC        0.551923  0.515249\n",
       "Accuracy   0.859565  0.819820\n",
       "F1         0.063830  0.072165\n",
       "Precision  0.073282  0.116667\n",
       "Recall     0.056537  0.052239"
      ]
     },
     "metadata": {},
     "output_type": "display_data"
    },
    {
     "name": "stdout",
     "output_type": "stream",
     "text": [
      "|mean pred |0.379661|0.379834|\n"
     ]
    },
    {
     "data": {
      "text/plain": [
       "<AxesSubplot:ylabel='Frequency'>"
      ]
     },
     "execution_count": 160,
     "metadata": {},
     "output_type": "execute_result"
    },
    {
     "data": {
      "image/png": "[encoded data removed]",
      "text/plain": [
       "<Figure size 432x288 with 1 Axes>"
      ]
     },
     "metadata": {
      "needs_background": "light"
     },
     "output_type": "display_data"
    }
   ],
   "source": [
    "proba_train = cb.predict_proba(train_w2v)[:, 1]\n",
    "proba_test = cb.predict_proba(test_w2v)[:, 1]\n",
    "\n",
    "display(compute_metrics((train_label_tok, proba_train), (test_label_tok, proba_test)))\n",
    "\n",
    "print(f'|mean pred |{round(np.mean(proba_train), 6)}|{round(np.mean(proba_test), 6)}|')\n",
    "pd.Series(proba_test).plot.hist()"
   ]
  },
  {
   "cell_type": "markdown",
   "id": "88dbb3fe",
   "metadata": {
    "ExecuteTime": {
     "end_time": "2022-01-07T19:33:38.847385Z",
     "start_time": "2022-01-07T19:33:38.744895Z"
    }
   },
   "source": [
    "## svm"
   ]
  },
  {
   "cell_type": "code",
   "execution_count": 29,
   "id": "6f0dd370",
   "metadata": {
    "ExecuteTime": {
     "end_time": "2022-01-07T19:40:10.410030Z",
     "start_time": "2022-01-07T19:40:09.931684Z"
    }
   },
   "outputs": [],
   "source": [
    "from sklearn.svm import SVC"
   ]
  },
  {
   "cell_type": "code",
   "execution_count": 34,
   "id": "823b6476",
   "metadata": {
    "ExecuteTime": {
     "end_time": "2022-01-07T19:41:34.087244Z",
     "start_time": "2022-01-07T19:41:28.533854Z"
    }
   },
   "outputs": [
    {
     "data": {
      "text/plain": [
       "SVC(probability=True)"
      ]
     },
     "execution_count": 34,
     "metadata": {},
     "output_type": "execute_result"
    }
   ],
   "source": [
    "clf = SVC(probability=True)\n",
    "\n",
    "clf.fit(train_w2v, train_label_tok)"
   ]
  },
  {
   "cell_type": "code",
   "execution_count": 161,
   "id": "cd8e729e",
   "metadata": {
    "ExecuteTime": {
     "end_time": "2022-01-07T20:53:07.252533Z",
     "start_time": "2022-01-07T20:53:04.740597Z"
    }
   },
   "outputs": [
    {
     "data": {
      "text/html": [
       "<div>\n",
       "<style scoped>\n",
       "    .dataframe tbody tr th:only-of-type {\n",
       "        vertical-align: middle;\n",
       "    }\n",
       "\n",
       "    .dataframe tbody tr th {\n",
       "        vertical-align: top;\n",
       "    }\n",
       "\n",
       "    .dataframe thead th {\n",
       "        text-align: right;\n",
       "    }\n",
       "</style>\n",
       "<table border=\"1\" class=\"dataframe\">\n",
       "  <thead>\n",
       "    <tr style=\"text-align: right;\">\n",
       "      <th></th>\n",
       "      <th>train</th>\n",
       "      <th>test</th>\n",
       "    </tr>\n",
       "  </thead>\n",
       "  <tbody>\n",
       "    <tr>\n",
       "      <th>AUC</th>\n",
       "      <td>0.500769</td>\n",
       "      <td>0.518670</td>\n",
       "    </tr>\n",
       "    <tr>\n",
       "      <th>Accuracy</th>\n",
       "      <td>0.846000</td>\n",
       "      <td>0.793794</td>\n",
       "    </tr>\n",
       "    <tr>\n",
       "      <th>F1</th>\n",
       "      <td>0.090695</td>\n",
       "      <td>0.096491</td>\n",
       "    </tr>\n",
       "    <tr>\n",
       "      <th>Precision</th>\n",
       "      <td>0.090695</td>\n",
       "      <td>0.117021</td>\n",
       "    </tr>\n",
       "    <tr>\n",
       "      <th>Recall</th>\n",
       "      <td>0.090695</td>\n",
       "      <td>0.082090</td>\n",
       "    </tr>\n",
       "  </tbody>\n",
       "</table>\n",
       "</div>"
      ],
      "text/plain": [
       "              train      test\n",
       "AUC        0.500769  0.518670\n",
       "Accuracy   0.846000  0.793794\n",
       "F1         0.090695  0.096491\n",
       "Precision  0.090695  0.117021\n",
       "Recall     0.090695  0.082090"
      ]
     },
     "metadata": {},
     "output_type": "display_data"
    },
    {
     "name": "stdout",
     "output_type": "stream",
     "text": [
      "|mean pred |0.083677|0.083493|\n"
     ]
    },
    {
     "data": {
      "text/plain": [
       "<AxesSubplot:ylabel='Frequency'>"
      ]
     },
     "execution_count": 161,
     "metadata": {},
     "output_type": "execute_result"
    },
    {
     "data": {
      "image/png": "[encoded data removed]",
      "text/plain": [
       "<Figure size 432x288 with 1 Axes>"
      ]
     },
     "metadata": {
      "needs_background": "light"
     },
     "output_type": "display_data"
    }
   ],
   "source": [
    "proba_train = clf.predict_proba(train_w2v)[:, 1]\n",
    "proba_test = clf.predict_proba(test_w2v)[:, 1]\n",
    "\n",
    "display(compute_metrics((train_label_tok, proba_train), (test_label_tok, proba_test)))\n",
    "\n",
    "print(f'|mean pred |{round(np.mean(proba_train), 6)}|{round(np.mean(proba_test), 6)}|')\n",
    "pd.Series(proba_test).plot.hist()"
   ]
  },
  {
   "cell_type": "code",
   "execution_count": null,
   "id": "8c4e62a6",
   "metadata": {},
   "outputs": [],
   "source": []
  }
 ],
 "metadata": {
  "kernelspec": {
   "display_name": "Python 3 (ipykernel)",
   "language": "python",
   "name": "python3"
  },
  "language_info": {
   "codemirror_mode": {
    "name": "ipython",
    "version": 3
   },
   "file_extension": ".py",
   "mimetype": "text/x-python",
   "name": "python",
   "nbconvert_exporter": "python",
   "pygments_lexer": "ipython3",
   "version": "3.8.8"
  },
  "toc": {
   "base_numbering": 1,
   "nav_menu": {},
   "number_sections": true,
   "sideBar": true,
   "skip_h1_title": false,
   "title_cell": "Table of Contents",
   "title_sidebar": "Contents",
   "toc_cell": false,
   "toc_position": {
    "height": "calc(100% - 180px)",
    "left": "10px",
    "top": "150px",
    "width": "288.3px"
   },
   "toc_section_display": true,
   "toc_window_display": true
  }
 },
 "nbformat": 4,
 "nbformat_minor": 5
}
