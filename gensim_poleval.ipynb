{
 "cells": [
  {
   "cell_type": "markdown",
   "id": "5f336ec9",
   "metadata": {},
   "source": [
    "# setup"
   ]
  },
  {
   "cell_type": "code",
   "execution_count": 1,
   "id": "1bb1398b",
   "metadata": {
    "ExecuteTime": {
     "end_time": "2022-01-07T03:23:15.272339Z",
     "start_time": "2022-01-07T03:23:15.213350Z"
    }
   },
   "outputs": [],
   "source": [
    "%load_ext autoreload\n",
    "%autoreload 2"
   ]
  },
  {
   "cell_type": "code",
   "execution_count": 2,
   "id": "c2339e0d",
   "metadata": {
    "ExecuteTime": {
     "end_time": "2022-01-07T03:23:16.439099Z",
     "start_time": "2022-01-07T03:23:15.619608Z"
    }
   },
   "outputs": [],
   "source": [
    "import os\n",
    "import re\n",
    "import pickle\n",
    "import random\n",
    "from typing import Sequence\n",
    "from tempfile import mkdtemp\n",
    "\n",
    "import numpy as np\n",
    "import pandas as pd\n",
    "\n",
    "from sklearn.pipeline import Pipeline\n",
    "\n",
    "\n",
    "pd.set_option('display.max_rows', 100)"
   ]
  },
  {
   "cell_type": "code",
   "execution_count": null,
   "id": "2fcb10bd",
   "metadata": {},
   "outputs": [],
   "source": [
    "from src.io import csv_loader_factory, PickleLoader"
   ]
  },
  {
   "cell_type": "markdown",
   "id": "9b02e05d",
   "metadata": {},
   "source": [
    "# load raw "
   ]
  },
  {
   "cell_type": "code",
   "execution_count": 8,
   "id": "cea904e1",
   "metadata": {
    "ExecuteTime": {
     "end_time": "2022-01-07T03:32:16.856271Z",
     "start_time": "2022-01-07T03:32:16.725236Z"
    }
   },
   "outputs": [
    {
     "name": "stderr",
     "output_type": "stream",
     "text": [
      "INFO:2022-01-07 04:32:16:io:loading from csv: ./data/poleval19.csv\n",
      "INFO:2022-01-07 04:32:16:io:loaded 11039 rows\n"
     ]
    }
   ],
   "source": [
    "loader = csv_loader_factory('poleval')\n",
    "data = loader.load()"
   ]
  },
  {
   "cell_type": "markdown",
   "id": "6cd707b0",
   "metadata": {},
   "source": [
    "# base eda"
   ]
  },
  {
   "cell_type": "code",
   "execution_count": 9,
   "id": "1c589e6f",
   "metadata": {
    "ExecuteTime": {
     "end_time": "2022-01-07T03:32:23.808808Z",
     "start_time": "2022-01-07T03:32:23.711766Z"
    }
   },
   "outputs": [
    {
     "data": {
      "text/plain": [
       "(11039, 3)"
      ]
     },
     "execution_count": 9,
     "metadata": {},
     "output_type": "execute_result"
    }
   ],
   "source": [
    "data.shape"
   ]
  },
  {
   "cell_type": "code",
   "execution_count": 10,
   "id": "729a8275",
   "metadata": {
    "ExecuteTime": {
     "end_time": "2022-01-07T03:32:24.541577Z",
     "start_time": "2022-01-07T03:32:24.447092Z"
    }
   },
   "outputs": [
    {
     "data": {
      "text/html": [
       "<div>\n",
       "<style scoped>\n",
       "    .dataframe tbody tr th:only-of-type {\n",
       "        vertical-align: middle;\n",
       "    }\n",
       "\n",
       "    .dataframe tbody tr th {\n",
       "        vertical-align: top;\n",
       "    }\n",
       "\n",
       "    .dataframe thead th {\n",
       "        text-align: right;\n",
       "    }\n",
       "</style>\n",
       "<table border=\"1\" class=\"dataframe\">\n",
       "  <thead>\n",
       "    <tr style=\"text-align: right;\">\n",
       "      <th></th>\n",
       "      <th>dataset</th>\n",
       "      <th>text_raw</th>\n",
       "      <th>tag</th>\n",
       "    </tr>\n",
       "  </thead>\n",
       "  <tbody>\n",
       "    <tr>\n",
       "      <th>0</th>\n",
       "      <td>train</td>\n",
       "      <td>Dla mnie faworytem do tytułu będzie Cracovia. ...</td>\n",
       "      <td>0</td>\n",
       "    </tr>\n",
       "    <tr>\n",
       "      <th>1</th>\n",
       "      <td>train</td>\n",
       "      <td>@anonymized_account @anonymized_account Brawo ...</td>\n",
       "      <td>0</td>\n",
       "    </tr>\n",
       "    <tr>\n",
       "      <th>2</th>\n",
       "      <td>train</td>\n",
       "      <td>@anonymized_account @anonymized_account Super,...</td>\n",
       "      <td>0</td>\n",
       "    </tr>\n",
       "    <tr>\n",
       "      <th>3</th>\n",
       "      <td>train</td>\n",
       "      <td>@anonymized_account @anonymized_account Musi. ...</td>\n",
       "      <td>0</td>\n",
       "    </tr>\n",
       "    <tr>\n",
       "      <th>4</th>\n",
       "      <td>train</td>\n",
       "      <td>Odrzut natychmiastowy, kwaśna mina, mam problem</td>\n",
       "      <td>0</td>\n",
       "    </tr>\n",
       "  </tbody>\n",
       "</table>\n",
       "</div>"
      ],
      "text/plain": [
       "  dataset                                           text_raw  tag\n",
       "0   train  Dla mnie faworytem do tytułu będzie Cracovia. ...    0\n",
       "1   train  @anonymized_account @anonymized_account Brawo ...    0\n",
       "2   train  @anonymized_account @anonymized_account Super,...    0\n",
       "3   train  @anonymized_account @anonymized_account Musi. ...    0\n",
       "4   train    Odrzut natychmiastowy, kwaśna mina, mam problem    0"
      ]
     },
     "execution_count": 10,
     "metadata": {},
     "output_type": "execute_result"
    }
   ],
   "source": [
    "data.head()"
   ]
  },
  {
   "cell_type": "code",
   "execution_count": 11,
   "id": "4b7c40c8",
   "metadata": {
    "ExecuteTime": {
     "end_time": "2022-01-07T03:32:25.192019Z",
     "start_time": "2022-01-07T03:32:25.088710Z"
    }
   },
   "outputs": [
    {
     "data": {
      "text/html": [
       "<div>\n",
       "<style scoped>\n",
       "    .dataframe tbody tr th:only-of-type {\n",
       "        vertical-align: middle;\n",
       "    }\n",
       "\n",
       "    .dataframe tbody tr th {\n",
       "        vertical-align: top;\n",
       "    }\n",
       "\n",
       "    .dataframe thead th {\n",
       "        text-align: right;\n",
       "    }\n",
       "</style>\n",
       "<table border=\"1\" class=\"dataframe\">\n",
       "  <thead>\n",
       "    <tr style=\"text-align: right;\">\n",
       "      <th></th>\n",
       "      <th>size</th>\n",
       "      <th>target</th>\n",
       "    </tr>\n",
       "    <tr>\n",
       "      <th>dataset</th>\n",
       "      <th></th>\n",
       "      <th></th>\n",
       "    </tr>\n",
       "  </thead>\n",
       "  <tbody>\n",
       "    <tr>\n",
       "      <th>test</th>\n",
       "      <td>999</td>\n",
       "      <td>0.134134</td>\n",
       "    </tr>\n",
       "    <tr>\n",
       "      <th>train</th>\n",
       "      <td>10040</td>\n",
       "      <td>0.084761</td>\n",
       "    </tr>\n",
       "  </tbody>\n",
       "</table>\n",
       "</div>"
      ],
      "text/plain": [
       "          size    target\n",
       "dataset                 \n",
       "test       999  0.134134\n",
       "train    10040  0.084761"
      ]
     },
     "execution_count": 11,
     "metadata": {},
     "output_type": "execute_result"
    }
   ],
   "source": [
    "data.groupby('dataset').agg(\n",
    "    size=('text_raw', 'size'),\n",
    "    target=('tag', 'mean')\n",
    ")"
   ]
  },
  {
   "cell_type": "markdown",
   "id": "51473eac",
   "metadata": {},
   "source": [
    "# catboost on raw data"
   ]
  },
  {
   "cell_type": "markdown",
   "id": "a25c2510",
   "metadata": {},
   "source": [
    "## prep data"
   ]
  },
  {
   "cell_type": "code",
   "execution_count": 52,
   "id": "0f556747",
   "metadata": {
    "ExecuteTime": {
     "end_time": "2022-01-07T03:58:59.352918Z",
     "start_time": "2022-01-07T03:58:59.237188Z"
    }
   },
   "outputs": [],
   "source": [
    "train_df = data.loc[data['dataset']=='train', ['text_raw']]\n",
    "train_label = data.loc[data['dataset']=='train', 'tag']\n",
    "test_df = data.loc[data['dataset']=='test', ['text_raw']]\n",
    "test_label = data.loc[data['dataset']=='test', 'tag']\n",
    "\n",
    "train_pool = Pool(train_df, label=train_label, text_features=['text_raw'])\n",
    "test_pool = Pool(test_df, label=test_label, text_features=['text_raw'])"
   ]
  },
  {
   "cell_type": "markdown",
   "id": "2585c668",
   "metadata": {},
   "source": [
    "## train model"
   ]
  },
  {
   "cell_type": "code",
   "execution_count": 26,
   "id": "2d4f1d9a",
   "metadata": {
    "ExecuteTime": {
     "end_time": "2022-01-07T03:47:45.258693Z",
     "start_time": "2022-01-07T03:47:45.168143Z"
    }
   },
   "outputs": [],
   "source": [
    "from catboost import CatBoostClassifier, Pool"
   ]
  },
  {
   "cell_type": "code",
   "execution_count": 19,
   "id": "400e6be8",
   "metadata": {
    "ExecuteTime": {
     "end_time": "2022-01-07T03:38:28.541682Z",
     "start_time": "2022-01-07T03:36:48.734201Z"
    },
    "scrolled": true
   },
   "outputs": [
    {
     "name": "stdout",
     "output_type": "stream",
     "text": [
      "Learning rate set to 0.056019\n",
      "0:\ttest: 0.5014365\tbest: 0.5014365 (0)\ttotal: 208ms\tremaining: 3m 28s\n",
      "10:\ttest: 0.5131913\tbest: 0.5131913 (10)\ttotal: 965ms\tremaining: 1m 26s\n",
      "20:\ttest: 0.5186351\tbest: 0.5186351 (20)\ttotal: 1.85s\tremaining: 1m 26s\n",
      "30:\ttest: 0.4834613\tbest: 0.5186351 (20)\ttotal: 2.67s\tremaining: 1m 23s\n",
      "40:\ttest: 0.4758347\tbest: 0.5186351 (20)\ttotal: 3.49s\tremaining: 1m 21s\n",
      "50:\ttest: 0.4915581\tbest: 0.5186351 (20)\ttotal: 4.3s\tremaining: 1m 20s\n",
      "60:\ttest: 0.4897205\tbest: 0.5186351 (20)\ttotal: 5.13s\tremaining: 1m 18s\n",
      "70:\ttest: 0.5039039\tbest: 0.5186351 (20)\ttotal: 5.97s\tremaining: 1m 18s\n",
      "80:\ttest: 0.5076827\tbest: 0.5186351 (20)\ttotal: 6.84s\tremaining: 1m 17s\n",
      "90:\ttest: 0.5137520\tbest: 0.5186351 (20)\ttotal: 7.62s\tremaining: 1m 16s\n",
      "100:\ttest: 0.5117289\tbest: 0.5186351 (20)\ttotal: 8.41s\tremaining: 1m 14s\n",
      "110:\ttest: 0.4997239\tbest: 0.5186351 (20)\ttotal: 9.13s\tremaining: 1m 13s\n",
      "120:\ttest: 0.4966396\tbest: 0.5186351 (20)\ttotal: 10s\tremaining: 1m 12s\n",
      "130:\ttest: 0.5024933\tbest: 0.5186351 (20)\ttotal: 10.8s\tremaining: 1m 11s\n",
      "140:\ttest: 0.4908377\tbest: 0.5186351 (20)\ttotal: 11.7s\tremaining: 1m 11s\n",
      "150:\ttest: 0.4932361\tbest: 0.5186351 (20)\ttotal: 12.6s\tremaining: 1m 10s\n",
      "160:\ttest: 0.4957251\tbest: 0.5186351 (20)\ttotal: 13.4s\tremaining: 1m 9s\n",
      "170:\ttest: 0.4958287\tbest: 0.5186351 (20)\ttotal: 14.2s\tremaining: 1m 8s\n",
      "180:\ttest: 0.4973126\tbest: 0.5186351 (20)\ttotal: 15.1s\tremaining: 1m 8s\n",
      "190:\ttest: 0.4958502\tbest: 0.5186351 (20)\ttotal: 15.8s\tremaining: 1m 7s\n",
      "200:\ttest: 0.5010957\tbest: 0.5186351 (20)\ttotal: 16.7s\tremaining: 1m 6s\n",
      "210:\ttest: 0.4976318\tbest: 0.5186351 (20)\ttotal: 17.5s\tremaining: 1m 5s\n",
      "220:\ttest: 0.4954404\tbest: 0.5186351 (20)\ttotal: 18.4s\tremaining: 1m 4s\n",
      "230:\ttest: 0.4967820\tbest: 0.5186351 (20)\ttotal: 19.1s\tremaining: 1m 3s\n",
      "240:\ttest: 0.4973169\tbest: 0.5186351 (20)\ttotal: 20s\tremaining: 1m 3s\n",
      "250:\ttest: 0.4947718\tbest: 0.5186351 (20)\ttotal: 20.8s\tremaining: 1m 1s\n",
      "260:\ttest: 0.4968122\tbest: 0.5186351 (20)\ttotal: 21.6s\tremaining: 1m 1s\n",
      "270:\ttest: 0.4923130\tbest: 0.5186351 (20)\ttotal: 22.5s\tremaining: 1m\n",
      "280:\ttest: 0.4927961\tbest: 0.5186351 (20)\ttotal: 23.4s\tremaining: 60s\n",
      "290:\ttest: 0.4960702\tbest: 0.5186351 (20)\ttotal: 24.4s\tremaining: 59.5s\n",
      "300:\ttest: 0.4965965\tbest: 0.5186351 (20)\ttotal: 25.5s\tremaining: 59.1s\n",
      "310:\ttest: 0.4972349\tbest: 0.5186351 (20)\ttotal: 26.5s\tremaining: 58.6s\n",
      "320:\ttest: 0.4981926\tbest: 0.5186351 (20)\ttotal: 27.5s\tremaining: 58.2s\n",
      "330:\ttest: 0.4972737\tbest: 0.5186351 (20)\ttotal: 28.5s\tremaining: 57.6s\n",
      "340:\ttest: 0.5045898\tbest: 0.5186351 (20)\ttotal: 29.5s\tremaining: 57s\n",
      "350:\ttest: 0.5008627\tbest: 0.5186351 (20)\ttotal: 30.5s\tremaining: 56.3s\n",
      "360:\ttest: 0.5007204\tbest: 0.5186351 (20)\ttotal: 31.5s\tremaining: 55.7s\n",
      "370:\ttest: 0.5012639\tbest: 0.5186351 (20)\ttotal: 32.5s\tremaining: 55s\n",
      "380:\ttest: 0.5029031\tbest: 0.5186351 (20)\ttotal: 33.4s\tremaining: 54.3s\n",
      "390:\ttest: 0.4978216\tbest: 0.5186351 (20)\ttotal: 34.5s\tremaining: 53.7s\n",
      "400:\ttest: 0.5016565\tbest: 0.5186351 (20)\ttotal: 35.8s\tremaining: 53.4s\n",
      "410:\ttest: 0.5078423\tbest: 0.5186351 (20)\ttotal: 37s\tremaining: 53s\n",
      "420:\ttest: 0.5091450\tbest: 0.5186351 (20)\ttotal: 38.1s\tremaining: 52.4s\n",
      "430:\ttest: 0.5106289\tbest: 0.5186351 (20)\ttotal: 39s\tremaining: 51.5s\n",
      "440:\ttest: 0.5069537\tbest: 0.5186351 (20)\ttotal: 40.1s\tremaining: 50.8s\n",
      "450:\ttest: 0.5085670\tbest: 0.5186351 (20)\ttotal: 41.1s\tremaining: 50.1s\n",
      "460:\ttest: 0.5063843\tbest: 0.5186351 (20)\ttotal: 42.3s\tremaining: 49.5s\n",
      "470:\ttest: 0.5059960\tbest: 0.5186351 (20)\ttotal: 43.5s\tremaining: 48.8s\n",
      "480:\ttest: 0.5047882\tbest: 0.5186351 (20)\ttotal: 44.6s\tremaining: 48.2s\n",
      "490:\ttest: 0.5047709\tbest: 0.5186351 (20)\ttotal: 45.8s\tremaining: 47.5s\n",
      "500:\ttest: 0.5032957\tbest: 0.5186351 (20)\ttotal: 46.8s\tremaining: 46.7s\n",
      "510:\ttest: 0.5018376\tbest: 0.5186351 (20)\ttotal: 48s\tremaining: 45.9s\n",
      "520:\ttest: 0.5022086\tbest: 0.5186351 (20)\ttotal: 49.1s\tremaining: 45.2s\n",
      "530:\ttest: 0.4995341\tbest: 0.5186351 (20)\ttotal: 50.3s\tremaining: 44.4s\n",
      "540:\ttest: 0.5001294\tbest: 0.5186351 (20)\ttotal: 51.4s\tremaining: 43.6s\n",
      "550:\ttest: 0.5008282\tbest: 0.5186351 (20)\ttotal: 52.5s\tremaining: 42.8s\n",
      "560:\ttest: 0.5004055\tbest: 0.5186351 (20)\ttotal: 53.7s\tremaining: 42s\n",
      "570:\ttest: 0.5019153\tbest: 0.5186351 (20)\ttotal: 54.7s\tremaining: 41.1s\n",
      "580:\ttest: 0.5027866\tbest: 0.5186351 (20)\ttotal: 55.8s\tremaining: 40.2s\n",
      "590:\ttest: 0.5014494\tbest: 0.5186351 (20)\ttotal: 56.8s\tremaining: 39.3s\n",
      "600:\ttest: 0.5002243\tbest: 0.5186351 (20)\ttotal: 57.8s\tremaining: 38.4s\n",
      "610:\ttest: 0.5066086\tbest: 0.5186351 (20)\ttotal: 58.8s\tremaining: 37.4s\n",
      "620:\ttest: 0.5035631\tbest: 0.5186351 (20)\ttotal: 59.8s\tremaining: 36.5s\n",
      "630:\ttest: 0.5032784\tbest: 0.5186351 (20)\ttotal: 1m\tremaining: 35.6s\n",
      "640:\ttest: 0.5016133\tbest: 0.5186351 (20)\ttotal: 1m 1s\tremaining: 34.6s\n",
      "650:\ttest: 0.5035545\tbest: 0.5186351 (20)\ttotal: 1m 2s\tremaining: 33.7s\n",
      "660:\ttest: 0.5012078\tbest: 0.5186351 (20)\ttotal: 1m 3s\tremaining: 32.8s\n",
      "670:\ttest: 0.5020102\tbest: 0.5186351 (20)\ttotal: 1m 4s\tremaining: 31.8s\n",
      "680:\ttest: 0.5011043\tbest: 0.5186351 (20)\ttotal: 1m 5s\tremaining: 30.9s\n",
      "690:\ttest: 0.5041239\tbest: 0.5186351 (20)\ttotal: 1m 6s\tremaining: 29.9s\n",
      "700:\ttest: 0.5024847\tbest: 0.5186351 (20)\ttotal: 1m 7s\tremaining: 29s\n",
      "710:\ttest: 0.5011733\tbest: 0.5186351 (20)\ttotal: 1m 9s\tremaining: 28.1s\n",
      "720:\ttest: 0.5015702\tbest: 0.5186351 (20)\ttotal: 1m 10s\tremaining: 27.2s\n",
      "730:\ttest: 0.5013718\tbest: 0.5186351 (20)\ttotal: 1m 11s\tremaining: 26.2s\n",
      "740:\ttest: 0.5041757\tbest: 0.5186351 (20)\ttotal: 1m 12s\tremaining: 25.3s\n",
      "750:\ttest: 0.5038564\tbest: 0.5186351 (20)\ttotal: 1m 13s\tremaining: 24.3s\n",
      "760:\ttest: 0.5050039\tbest: 0.5186351 (20)\ttotal: 1m 14s\tremaining: 23.3s\n",
      "770:\ttest: 0.5053749\tbest: 0.5186351 (20)\ttotal: 1m 15s\tremaining: 22.4s\n",
      "780:\ttest: 0.5053490\tbest: 0.5186351 (20)\ttotal: 1m 16s\tremaining: 21.4s\n",
      "790:\ttest: 0.5064533\tbest: 0.5186351 (20)\ttotal: 1m 17s\tremaining: 20.5s\n",
      "800:\ttest: 0.5080235\tbest: 0.5186351 (20)\ttotal: 1m 18s\tremaining: 19.5s\n",
      "810:\ttest: 0.5070917\tbest: 0.5186351 (20)\ttotal: 1m 19s\tremaining: 18.5s\n",
      "820:\ttest: 0.5046847\tbest: 0.5186351 (20)\ttotal: 1m 20s\tremaining: 17.6s\n",
      "830:\ttest: 0.5050902\tbest: 0.5186351 (20)\ttotal: 1m 21s\tremaining: 16.6s\n",
      "840:\ttest: 0.5039168\tbest: 0.5186351 (20)\ttotal: 1m 22s\tremaining: 15.6s\n",
      "850:\ttest: 0.5031404\tbest: 0.5186351 (20)\ttotal: 1m 23s\tremaining: 14.7s\n",
      "860:\ttest: 0.5030713\tbest: 0.5186351 (20)\ttotal: 1m 24s\tremaining: 13.7s\n",
      "870:\ttest: 0.5019412\tbest: 0.5186351 (20)\ttotal: 1m 25s\tremaining: 12.7s\n",
      "880:\ttest: 0.5013372\tbest: 0.5186351 (20)\ttotal: 1m 26s\tremaining: 11.7s\n",
      "890:\ttest: 0.5018463\tbest: 0.5186351 (20)\ttotal: 1m 28s\tremaining: 10.8s\n",
      "900:\ttest: 0.5023208\tbest: 0.5186351 (20)\ttotal: 1m 29s\tremaining: 9.8s\n",
      "910:\ttest: 0.5031145\tbest: 0.5186351 (20)\ttotal: 1m 30s\tremaining: 8.82s\n",
      "920:\ttest: 0.5042619\tbest: 0.5186351 (20)\ttotal: 1m 31s\tremaining: 7.83s\n",
      "930:\ttest: 0.5051247\tbest: 0.5186351 (20)\ttotal: 1m 32s\tremaining: 6.84s\n",
      "940:\ttest: 0.5076870\tbest: 0.5186351 (20)\ttotal: 1m 33s\tremaining: 5.85s\n",
      "950:\ttest: 0.5074799\tbest: 0.5186351 (20)\ttotal: 1m 34s\tremaining: 4.86s\n",
      "960:\ttest: 0.5050729\tbest: 0.5186351 (20)\ttotal: 1m 35s\tremaining: 3.87s\n",
      "970:\ttest: 0.5042533\tbest: 0.5186351 (20)\ttotal: 1m 36s\tremaining: 2.88s\n",
      "980:\ttest: 0.5057200\tbest: 0.5186351 (20)\ttotal: 1m 37s\tremaining: 1.89s\n",
      "990:\ttest: 0.5058321\tbest: 0.5186351 (20)\ttotal: 1m 38s\tremaining: 894ms\n",
      "999:\ttest: 0.5086705\tbest: 0.5186351 (20)\ttotal: 1m 39s\tremaining: 0us\n",
      "\n",
      "bestTest = 0.518635148\n",
      "bestIteration = 20\n",
      "\n",
      "Shrink model to first 21 iterations.\n"
     ]
    },
    {
     "data": {
      "text/plain": [
       "<catboost.core.CatBoostClassifier at 0x2971a035e20>"
      ]
     },
     "execution_count": 19,
     "metadata": {},
     "output_type": "execute_result"
    }
   ],
   "source": [
    "params = {\n",
    "    'eval_metric': 'AUC',\n",
    "    'text_features': ['text_raw'],\n",
    "    'metric_period': 10,\n",
    "    'verbose': 10,\n",
    "}\n",
    "\n",
    "cb = CatBoostClassifier(**params)\n",
    "cb.fit(X=train_df, y=train_label, eval_set=(test_df, test_label))"
   ]
  },
  {
   "cell_type": "markdown",
   "id": "8b8392b7",
   "metadata": {},
   "source": [
    "## summ"
   ]
  },
  {
   "cell_type": "code",
   "execution_count": 69,
   "id": "c1ede51e",
   "metadata": {
    "ExecuteTime": {
     "end_time": "2022-01-07T04:04:14.697009Z",
     "start_time": "2022-01-07T04:04:14.309485Z"
    }
   },
   "outputs": [
    {
     "data": {
      "text/html": [
       "<div>\n",
       "<style scoped>\n",
       "    .dataframe tbody tr th:only-of-type {\n",
       "        vertical-align: middle;\n",
       "    }\n",
       "\n",
       "    .dataframe tbody tr th {\n",
       "        vertical-align: top;\n",
       "    }\n",
       "\n",
       "    .dataframe thead th {\n",
       "        text-align: right;\n",
       "    }\n",
       "</style>\n",
       "<table border=\"1\" class=\"dataframe\">\n",
       "  <thead>\n",
       "    <tr style=\"text-align: right;\">\n",
       "      <th></th>\n",
       "      <th>train</th>\n",
       "      <th>test</th>\n",
       "    </tr>\n",
       "  </thead>\n",
       "  <tbody>\n",
       "    <tr>\n",
       "      <th>AUC</th>\n",
       "      <td>0.560178</td>\n",
       "      <td>0.518635</td>\n",
       "    </tr>\n",
       "    <tr>\n",
       "      <th>Accuracy</th>\n",
       "      <td>0.915239</td>\n",
       "      <td>0.865866</td>\n",
       "    </tr>\n",
       "    <tr>\n",
       "      <th>F1</th>\n",
       "      <td>0.000000</td>\n",
       "      <td>0.000000</td>\n",
       "    </tr>\n",
       "    <tr>\n",
       "      <th>Precision</th>\n",
       "      <td>1.000000</td>\n",
       "      <td>1.000000</td>\n",
       "    </tr>\n",
       "    <tr>\n",
       "      <th>Recall</th>\n",
       "      <td>0.000000</td>\n",
       "      <td>0.000000</td>\n",
       "    </tr>\n",
       "  </tbody>\n",
       "</table>\n",
       "</div>"
      ],
      "text/plain": [
       "              train      test\n",
       "AUC        0.560178  0.518635\n",
       "Accuracy   0.915239  0.865866\n",
       "F1         0.000000  0.000000\n",
       "Precision  1.000000  1.000000\n",
       "Recall     0.000000  0.000000"
      ]
     },
     "execution_count": 69,
     "metadata": {},
     "output_type": "execute_result"
    }
   ],
   "source": [
    "metrics = ['AUC', 'Accuracy', 'F1', 'Precision', 'Recall']\n",
    "\n",
    "eval_train = pd.Series({k: v[-1] for k, v in cb.eval_metrics(train_pool,  metrics).items()})\n",
    "eval_test = pd.Series({k: v[-1] for k, v in cb.eval_metrics(test_pool,  metrics).items()})\n",
    "\n",
    "pd.DataFrame(zip(eval_train, eval_test), columns=['train', 'test'], index=eval_train.index)"
   ]
  },
  {
   "cell_type": "code",
   "execution_count": 46,
   "id": "9a503a05",
   "metadata": {
    "ExecuteTime": {
     "end_time": "2022-01-07T03:56:00.242411Z",
     "start_time": "2022-01-07T03:56:00.053462Z"
    }
   },
   "outputs": [
    {
     "data": {
      "text/plain": [
       "<AxesSubplot:ylabel='Frequency'>"
      ]
     },
     "execution_count": 46,
     "metadata": {},
     "output_type": "execute_result"
    },
    {
     "data": {
      "image/png": "[encoded data removed]",
      "text/plain": [
       "<Figure size 432x288 with 1 Axes>"
      ]
     },
     "metadata": {
      "needs_background": "light"
     },
     "output_type": "display_data"
    }
   ],
   "source": [
    "preds_test = pd.Series(cb.predict_proba(test_df)[:, 1])\n",
    "preds_test.plot.hist()"
   ]
  },
  {
   "cell_type": "markdown",
   "id": "19d1ec61",
   "metadata": {},
   "source": [
    "# catboost on cleaned"
   ]
  },
  {
   "cell_type": "code",
   "execution_count": 183,
   "id": "d78ccffb",
   "metadata": {
    "ExecuteTime": {
     "end_time": "2022-01-07T05:57:14.549905Z",
     "start_time": "2022-01-07T05:57:14.424546Z"
    }
   },
   "outputs": [],
   "source": [
    "from src.preprocessing import TextCleaner"
   ]
  },
  {
   "cell_type": "code",
   "execution_count": 194,
   "id": "815a0d38",
   "metadata": {
    "ExecuteTime": {
     "end_time": "2022-01-07T06:06:56.054659Z",
     "start_time": "2022-01-07T06:06:55.897915Z"
    }
   },
   "outputs": [
    {
     "data": {
      "text/plain": [
       "{'clean_email': True,\n",
       " 'clean_emoji': True,\n",
       " 'clean_hashtag': True,\n",
       " 'clean_non_alpha': True,\n",
       " 'clean_non_letter': True,\n",
       " 'clean_url': True,\n",
       " 'clean_user_ref': True,\n",
       " 'drop_repeated': True,\n",
       " 'latinize': True,\n",
       " 'to_lower': True}"
      ]
     },
     "execution_count": 194,
     "metadata": {},
     "output_type": "execute_result"
    }
   ],
   "source": [
    "cleaner = TextCleaner()\n",
    "cleaner.get_params()"
   ]
  },
  {
   "cell_type": "code",
   "execution_count": 207,
   "id": "304f8e96",
   "metadata": {
    "ExecuteTime": {
     "end_time": "2022-01-07T06:14:28.673281Z",
     "start_time": "2022-01-07T06:14:26.311668Z"
    }
   },
   "outputs": [],
   "source": [
    "train_clean = cleaner.fit_transform(train_df['text_raw'])\n",
    "train_clean = pd.DataFrame(train_clean, columns=['text_clean'])\n",
    "\n",
    "\n",
    "test_clean = cleaner.transform(test_df['text_raw'])\n",
    "test_clean = pd.DataFrame(test_clean, columns=['text_clean'])\n",
    "\n",
    "\n",
    "train_pool_clean = Pool(train_clean, label=train_label, text_features=['text_clean'])\n",
    "test_pool_clean = Pool(test_clean, label=test_label, text_features=['text_clean'])"
   ]
  },
  {
   "cell_type": "code",
   "execution_count": 206,
   "id": "23e137fe",
   "metadata": {
    "ExecuteTime": {
     "end_time": "2022-01-07T06:14:26.308676Z",
     "start_time": "2022-01-07T06:12:47.979021Z"
    },
    "scrolled": true
   },
   "outputs": [
    {
     "name": "stdout",
     "output_type": "stream",
     "text": [
      "Learning rate set to 0.056019\n",
      "0:\ttest: 0.4994220\tbest: 0.4994220 (0)\ttotal: 58ms\tremaining: 57.9s\n",
      "10:\ttest: 0.5094427\tbest: 0.5094427 (10)\ttotal: 783ms\tremaining: 1m 10s\n",
      "20:\ttest: 0.4975153\tbest: 0.5094427 (10)\ttotal: 1.61s\tremaining: 1m 15s\n",
      "30:\ttest: 0.4803080\tbest: 0.5094427 (10)\ttotal: 2.51s\tremaining: 1m 18s\n",
      "40:\ttest: 0.4903977\tbest: 0.5094427 (10)\ttotal: 3.22s\tremaining: 1m 15s\n",
      "50:\ttest: 0.4751833\tbest: 0.5094427 (10)\ttotal: 4.09s\tremaining: 1m 16s\n",
      "60:\ttest: 0.4543309\tbest: 0.5094427 (10)\ttotal: 4.93s\tremaining: 1m 15s\n",
      "70:\ttest: 0.4603011\tbest: 0.5094427 (10)\ttotal: 5.72s\tremaining: 1m 14s\n",
      "80:\ttest: 0.4855880\tbest: 0.5094427 (10)\ttotal: 6.55s\tremaining: 1m 14s\n",
      "90:\ttest: 0.4906738\tbest: 0.5094427 (10)\ttotal: 7.4s\tremaining: 1m 13s\n",
      "100:\ttest: 0.4909326\tbest: 0.5094427 (10)\ttotal: 8.23s\tremaining: 1m 13s\n",
      "110:\ttest: 0.4980200\tbest: 0.5094427 (10)\ttotal: 9.02s\tremaining: 1m 12s\n",
      "120:\ttest: 0.4948753\tbest: 0.5094427 (10)\ttotal: 9.85s\tremaining: 1m 11s\n",
      "130:\ttest: 0.4845829\tbest: 0.5094427 (10)\ttotal: 10.7s\tremaining: 1m 11s\n",
      "140:\ttest: 0.4786084\tbest: 0.5094427 (10)\ttotal: 11.7s\tremaining: 1m 11s\n",
      "150:\ttest: 0.4758563\tbest: 0.5094427 (10)\ttotal: 12.4s\tremaining: 1m 9s\n",
      "160:\ttest: 0.4747778\tbest: 0.5094427 (10)\ttotal: 13.3s\tremaining: 1m 9s\n",
      "170:\ttest: 0.4889440\tbest: 0.5094427 (10)\ttotal: 14.1s\tremaining: 1m 8s\n",
      "180:\ttest: 0.4860107\tbest: 0.5094427 (10)\ttotal: 14.9s\tremaining: 1m 7s\n",
      "190:\ttest: 0.4837158\tbest: 0.5094427 (10)\ttotal: 15.8s\tremaining: 1m 6s\n",
      "200:\ttest: 0.4794625\tbest: 0.5094427 (10)\ttotal: 16.5s\tremaining: 1m 5s\n",
      "210:\ttest: 0.4866879\tbest: 0.5094427 (10)\ttotal: 17.3s\tremaining: 1m 4s\n",
      "220:\ttest: 0.4804676\tbest: 0.5094427 (10)\ttotal: 18.1s\tremaining: 1m 3s\n",
      "230:\ttest: 0.4841213\tbest: 0.5094427 (10)\ttotal: 18.9s\tremaining: 1m 3s\n",
      "240:\ttest: 0.4852429\tbest: 0.5094427 (10)\ttotal: 19.8s\tremaining: 1m 2s\n",
      "250:\ttest: 0.4885860\tbest: 0.5094427 (10)\ttotal: 20.7s\tremaining: 1m 1s\n",
      "260:\ttest: 0.4852170\tbest: 0.5094427 (10)\ttotal: 21.6s\tremaining: 1m 1s\n",
      "270:\ttest: 0.4841774\tbest: 0.5094427 (10)\ttotal: 22.5s\tremaining: 1m\n",
      "280:\ttest: 0.4852127\tbest: 0.5094427 (10)\ttotal: 23.4s\tremaining: 59.9s\n",
      "290:\ttest: 0.4874213\tbest: 0.5094427 (10)\ttotal: 24.5s\tremaining: 59.7s\n",
      "300:\ttest: 0.4852429\tbest: 0.5094427 (10)\ttotal: 25.6s\tremaining: 59.4s\n",
      "310:\ttest: 0.4822923\tbest: 0.5094427 (10)\ttotal: 26.6s\tremaining: 59s\n",
      "320:\ttest: 0.4800147\tbest: 0.5094427 (10)\ttotal: 27.6s\tremaining: 58.4s\n",
      "330:\ttest: 0.4819731\tbest: 0.5094427 (10)\ttotal: 28.7s\tremaining: 58s\n",
      "340:\ttest: 0.4814382\tbest: 0.5094427 (10)\ttotal: 29.7s\tremaining: 57.4s\n",
      "350:\ttest: 0.4825425\tbest: 0.5094427 (10)\ttotal: 30.7s\tremaining: 56.8s\n",
      "360:\ttest: 0.4873134\tbest: 0.5094427 (10)\ttotal: 31.7s\tremaining: 56.1s\n",
      "370:\ttest: 0.4844923\tbest: 0.5094427 (10)\ttotal: 32.7s\tremaining: 55.5s\n",
      "380:\ttest: 0.4818523\tbest: 0.5094427 (10)\ttotal: 33.7s\tremaining: 54.8s\n",
      "390:\ttest: 0.4818178\tbest: 0.5094427 (10)\ttotal: 34.8s\tremaining: 54.1s\n",
      "400:\ttest: 0.4816798\tbest: 0.5094427 (10)\ttotal: 35.8s\tremaining: 53.5s\n",
      "410:\ttest: 0.4803253\tbest: 0.5094427 (10)\ttotal: 36.8s\tremaining: 52.8s\n",
      "420:\ttest: 0.4801354\tbest: 0.5094427 (10)\ttotal: 37.9s\tremaining: 52.1s\n",
      "430:\ttest: 0.4844923\tbest: 0.5094427 (10)\ttotal: 38.9s\tremaining: 51.3s\n",
      "440:\ttest: 0.4828099\tbest: 0.5094427 (10)\ttotal: 39.9s\tremaining: 50.6s\n",
      "450:\ttest: 0.4781598\tbest: 0.5094427 (10)\ttotal: 40.9s\tremaining: 49.8s\n",
      "460:\ttest: 0.4773919\tbest: 0.5094427 (10)\ttotal: 42s\tremaining: 49.1s\n",
      "470:\ttest: 0.4773057\tbest: 0.5094427 (10)\ttotal: 43s\tremaining: 48.3s\n",
      "480:\ttest: 0.4799802\tbest: 0.5094427 (10)\ttotal: 44.1s\tremaining: 47.5s\n",
      "490:\ttest: 0.4843542\tbest: 0.5094427 (10)\ttotal: 45.1s\tremaining: 46.7s\n",
      "500:\ttest: 0.4855534\tbest: 0.5094427 (10)\ttotal: 46.1s\tremaining: 45.9s\n",
      "510:\ttest: 0.4848115\tbest: 0.5094427 (10)\ttotal: 47.1s\tremaining: 45.1s\n",
      "520:\ttest: 0.4849409\tbest: 0.5094427 (10)\ttotal: 48.1s\tremaining: 44.3s\n",
      "530:\ttest: 0.4869252\tbest: 0.5094427 (10)\ttotal: 49.2s\tremaining: 43.4s\n",
      "540:\ttest: 0.4861919\tbest: 0.5094427 (10)\ttotal: 50.2s\tremaining: 42.6s\n",
      "550:\ttest: 0.4852860\tbest: 0.5094427 (10)\ttotal: 51.3s\tremaining: 41.8s\n",
      "560:\ttest: 0.4841472\tbest: 0.5094427 (10)\ttotal: 52.4s\tremaining: 41s\n",
      "570:\ttest: 0.4860883\tbest: 0.5094427 (10)\ttotal: 53.6s\tremaining: 40.2s\n",
      "580:\ttest: 0.4836468\tbest: 0.5094427 (10)\ttotal: 54.6s\tremaining: 39.4s\n",
      "590:\ttest: 0.4816625\tbest: 0.5094427 (10)\ttotal: 55.6s\tremaining: 38.5s\n",
      "600:\ttest: 0.4816021\tbest: 0.5094427 (10)\ttotal: 56.7s\tremaining: 37.7s\n",
      "610:\ttest: 0.4803339\tbest: 0.5094427 (10)\ttotal: 57.8s\tremaining: 36.8s\n",
      "620:\ttest: 0.4797127\tbest: 0.5094427 (10)\ttotal: 58.8s\tremaining: 35.9s\n",
      "630:\ttest: 0.4816798\tbest: 0.5094427 (10)\ttotal: 59.8s\tremaining: 35s\n",
      "640:\ttest: 0.4802562\tbest: 0.5094427 (10)\ttotal: 1m\tremaining: 34s\n",
      "650:\ttest: 0.4827754\tbest: 0.5094427 (10)\ttotal: 1m 1s\tremaining: 33.2s\n",
      "660:\ttest: 0.4836037\tbest: 0.5094427 (10)\ttotal: 1m 2s\tremaining: 32.2s\n",
      "670:\ttest: 0.4840264\tbest: 0.5094427 (10)\ttotal: 1m 3s\tremaining: 31.4s\n",
      "680:\ttest: 0.4856138\tbest: 0.5094427 (10)\ttotal: 1m 4s\tremaining: 30.4s\n",
      "690:\ttest: 0.4860280\tbest: 0.5094427 (10)\ttotal: 1m 6s\tremaining: 29.6s\n",
      "700:\ttest: 0.4882107\tbest: 0.5094427 (10)\ttotal: 1m 7s\tremaining: 28.6s\n",
      "710:\ttest: 0.4873479\tbest: 0.5094427 (10)\ttotal: 1m 8s\tremaining: 27.7s\n",
      "720:\ttest: 0.4844060\tbest: 0.5094427 (10)\ttotal: 1m 9s\tremaining: 26.8s\n",
      "730:\ttest: 0.4842938\tbest: 0.5094427 (10)\ttotal: 1m 10s\tremaining: 25.9s\n",
      "740:\ttest: 0.4853205\tbest: 0.5094427 (10)\ttotal: 1m 11s\tremaining: 25s\n",
      "750:\ttest: 0.4865111\tbest: 0.5094427 (10)\ttotal: 1m 12s\tremaining: 24s\n",
      "760:\ttest: 0.4905660\tbest: 0.5094427 (10)\ttotal: 1m 13s\tremaining: 23.1s\n",
      "770:\ttest: 0.4937322\tbest: 0.5094427 (10)\ttotal: 1m 14s\tremaining: 22.1s\n",
      "780:\ttest: 0.4970710\tbest: 0.5094427 (10)\ttotal: 1m 15s\tremaining: 21.2s\n",
      "790:\ttest: 0.4997369\tbest: 0.5094427 (10)\ttotal: 1m 16s\tremaining: 20.2s\n",
      "800:\ttest: 0.4971314\tbest: 0.5094427 (10)\ttotal: 1m 17s\tremaining: 19.3s\n",
      "810:\ttest: 0.4963032\tbest: 0.5094427 (10)\ttotal: 1m 18s\tremaining: 18.3s\n",
      "820:\ttest: 0.4967690\tbest: 0.5094427 (10)\ttotal: 1m 19s\tremaining: 17.3s\n",
      "830:\ttest: 0.4981667\tbest: 0.5094427 (10)\ttotal: 1m 20s\tremaining: 16.4s\n",
      "840:\ttest: 0.4978734\tbest: 0.5094427 (10)\ttotal: 1m 21s\tremaining: 15.4s\n",
      "850:\ttest: 0.4960012\tbest: 0.5094427 (10)\ttotal: 1m 22s\tremaining: 14.5s\n",
      "860:\ttest: 0.4961738\tbest: 0.5094427 (10)\ttotal: 1m 23s\tremaining: 13.5s\n",
      "870:\ttest: 0.4969157\tbest: 0.5094427 (10)\ttotal: 1m 24s\tremaining: 12.5s\n",
      "880:\ttest: 0.4954145\tbest: 0.5094427 (10)\ttotal: 1m 25s\tremaining: 11.6s\n",
      "890:\ttest: 0.4950953\tbest: 0.5094427 (10)\ttotal: 1m 26s\tremaining: 10.6s\n",
      "900:\ttest: 0.4963894\tbest: 0.5094427 (10)\ttotal: 1m 27s\tremaining: 9.63s\n",
      "910:\ttest: 0.4955957\tbest: 0.5094427 (10)\ttotal: 1m 28s\tremaining: 8.66s\n",
      "920:\ttest: 0.4962428\tbest: 0.5094427 (10)\ttotal: 1m 29s\tremaining: 7.69s\n",
      "930:\ttest: 0.4965189\tbest: 0.5094427 (10)\ttotal: 1m 30s\tremaining: 6.72s\n",
      "940:\ttest: 0.4968898\tbest: 0.5094427 (10)\ttotal: 1m 31s\tremaining: 5.75s\n",
      "950:\ttest: 0.4958977\tbest: 0.5094427 (10)\ttotal: 1m 32s\tremaining: 4.78s\n",
      "960:\ttest: 0.4966655\tbest: 0.5094427 (10)\ttotal: 1m 33s\tremaining: 3.8s\n",
      "970:\ttest: 0.4967087\tbest: 0.5094427 (10)\ttotal: 1m 34s\tremaining: 2.83s\n",
      "980:\ttest: 0.4974420\tbest: 0.5094427 (10)\ttotal: 1m 35s\tremaining: 1.86s\n",
      "990:\ttest: 0.4972177\tbest: 0.5094427 (10)\ttotal: 1m 36s\tremaining: 880ms\n",
      "999:\ttest: 0.4989690\tbest: 0.5094427 (10)\ttotal: 1m 37s\tremaining: 0us\n",
      "\n",
      "bestTest = 0.509442671\n",
      "bestIteration = 10\n",
      "\n",
      "Shrink model to first 11 iterations.\n"
     ]
    },
    {
     "data": {
      "text/plain": [
       "<catboost.core.CatBoostClassifier at 0x29720a1cb20>"
      ]
     },
     "execution_count": 206,
     "metadata": {},
     "output_type": "execute_result"
    }
   ],
   "source": [
    "params = {\n",
    "    'eval_metric': 'AUC',\n",
    "    'text_features': ['text_clean'],\n",
    "    'metric_period': 10,\n",
    "    'verbose': 10,\n",
    "}\n",
    "\n",
    "cb = CatBoostClassifier(**params)\n",
    "cb.fit(X=train_clean, y=train_label, eval_set=(test_clean, test_label))"
   ]
  },
  {
   "cell_type": "markdown",
   "id": "95c3e0a9",
   "metadata": {
    "ExecuteTime": {
     "end_time": "2022-01-07T06:07:45.456247Z",
     "start_time": "2022-01-07T06:07:45.347252Z"
    }
   },
   "source": [
    "## summ"
   ]
  },
  {
   "cell_type": "code",
   "execution_count": 208,
   "id": "5a4f77d6",
   "metadata": {
    "ExecuteTime": {
     "end_time": "2022-01-07T06:14:28.909947Z",
     "start_time": "2022-01-07T06:14:28.674185Z"
    }
   },
   "outputs": [
    {
     "data": {
      "text/html": [
       "<div>\n",
       "<style scoped>\n",
       "    .dataframe tbody tr th:only-of-type {\n",
       "        vertical-align: middle;\n",
       "    }\n",
       "\n",
       "    .dataframe tbody tr th {\n",
       "        vertical-align: top;\n",
       "    }\n",
       "\n",
       "    .dataframe thead th {\n",
       "        text-align: right;\n",
       "    }\n",
       "</style>\n",
       "<table border=\"1\" class=\"dataframe\">\n",
       "  <thead>\n",
       "    <tr style=\"text-align: right;\">\n",
       "      <th></th>\n",
       "      <th>train</th>\n",
       "      <th>test</th>\n",
       "    </tr>\n",
       "  </thead>\n",
       "  <tbody>\n",
       "    <tr>\n",
       "      <th>AUC</th>\n",
       "      <td>0.526524</td>\n",
       "      <td>0.509443</td>\n",
       "    </tr>\n",
       "    <tr>\n",
       "      <th>Accuracy</th>\n",
       "      <td>0.915239</td>\n",
       "      <td>0.865866</td>\n",
       "    </tr>\n",
       "    <tr>\n",
       "      <th>F1</th>\n",
       "      <td>0.000000</td>\n",
       "      <td>0.000000</td>\n",
       "    </tr>\n",
       "    <tr>\n",
       "      <th>Precision</th>\n",
       "      <td>1.000000</td>\n",
       "      <td>1.000000</td>\n",
       "    </tr>\n",
       "    <tr>\n",
       "      <th>Recall</th>\n",
       "      <td>0.000000</td>\n",
       "      <td>0.000000</td>\n",
       "    </tr>\n",
       "  </tbody>\n",
       "</table>\n",
       "</div>"
      ],
      "text/plain": [
       "              train      test\n",
       "AUC        0.526524  0.509443\n",
       "Accuracy   0.915239  0.865866\n",
       "F1         0.000000  0.000000\n",
       "Precision  1.000000  1.000000\n",
       "Recall     0.000000  0.000000"
      ]
     },
     "execution_count": 208,
     "metadata": {},
     "output_type": "execute_result"
    }
   ],
   "source": [
    "metrics = ['AUC', 'Accuracy', 'F1', 'Precision', 'Recall']\n",
    "\n",
    "eval_train = pd.Series({k: v[-1] for k, v in cb.eval_metrics(train_pool_clean,  metrics).items()})\n",
    "eval_test = pd.Series({k: v[-1] for k, v in cb.eval_metrics(test_pool_clean,  metrics).items()})\n",
    "\n",
    "pd.DataFrame(zip(eval_train, eval_test), columns=['train', 'test'], index=eval_train.index)"
   ]
  },
  {
   "cell_type": "code",
   "execution_count": 209,
   "id": "0925f91a",
   "metadata": {
    "ExecuteTime": {
     "end_time": "2022-01-07T06:15:05.351419Z",
     "start_time": "2022-01-07T06:15:05.140900Z"
    }
   },
   "outputs": [
    {
     "data": {
      "text/plain": [
       "<AxesSubplot:ylabel='Frequency'>"
      ]
     },
     "execution_count": 209,
     "metadata": {},
     "output_type": "execute_result"
    },
    {
     "data": {
      "image/png": "[encoded data removed]",
      "text/plain": [
       "<Figure size 432x288 with 1 Axes>"
      ]
     },
     "metadata": {
      "needs_background": "light"
     },
     "output_type": "display_data"
    }
   ],
   "source": [
    "preds_test = pd.Series(cb.predict_proba(test_clean)[:, 1])\n",
    "preds_test.plot.hist()"
   ]
  },
  {
   "cell_type": "code",
   "execution_count": 200,
   "id": "b71f4614",
   "metadata": {
    "ExecuteTime": {
     "end_time": "2022-01-07T06:08:03.477064Z",
     "start_time": "2022-01-07T06:08:03.369642Z"
    }
   },
   "outputs": [
    {
     "data": {
      "text/plain": [
       "9488"
      ]
     },
     "execution_count": 200,
     "metadata": {},
     "output_type": "execute_result"
    }
   ],
   "source": [
    "train_clean.nunique()"
   ]
  },
  {
   "cell_type": "code",
   "execution_count": null,
   "id": "66fd1ffc",
   "metadata": {},
   "outputs": [],
   "source": []
  },
  {
   "cell_type": "code",
   "execution_count": null,
   "id": "6c7531fa",
   "metadata": {},
   "outputs": [],
   "source": []
  }
 ],
 "metadata": {
  "kernelspec": {
   "display_name": "Python 3 (ipykernel)",
   "language": "python",
   "name": "python3"
  },
  "language_info": {
   "codemirror_mode": {
    "name": "ipython",
    "version": 3
   },
   "file_extension": ".py",
   "mimetype": "text/x-python",
   "name": "python",
   "nbconvert_exporter": "python",
   "pygments_lexer": "ipython3",
   "version": "3.8.8"
  },
  "toc": {
   "base_numbering": 1,
   "nav_menu": {},
   "number_sections": true,
   "sideBar": true,
   "skip_h1_title": false,
   "title_cell": "Table of Contents",
   "title_sidebar": "Contents",
   "toc_cell": false,
   "toc_position": {
    "height": "calc(100% - 180px)",
    "left": "10px",
    "top": "150px",
    "width": "288.312px"
   },
   "toc_section_display": true,
   "toc_window_display": true
  }
 },
 "nbformat": 4,
 "nbformat_minor": 5
}
