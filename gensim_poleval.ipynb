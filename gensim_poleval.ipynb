{
 "cells": [
  {
   "cell_type": "markdown",
   "id": "edce5b36",
   "metadata": {},
   "source": [
    "# setup"
   ]
  },
  {
   "cell_type": "code",
   "execution_count": 1,
   "id": "f5738a7d",
   "metadata": {
    "ExecuteTime": {
     "end_time": "2022-01-09T21:15:24.122656Z",
     "start_time": "2022-01-09T21:15:24.062546Z"
    }
   },
   "outputs": [],
   "source": [
    "%load_ext autoreload\n",
    "%autoreload 2"
   ]
  },
  {
   "cell_type": "code",
   "execution_count": 2,
   "id": "dacc83e8",
   "metadata": {
    "ExecuteTime": {
     "end_time": "2022-01-09T21:15:27.013528Z",
     "start_time": "2022-01-09T21:15:24.902461Z"
    }
   },
   "outputs": [],
   "source": [
    "import os\n",
    "import re\n",
    "import pickle\n",
    "import random\n",
    "from typing import Sequence, Tuple\n",
    "from tempfile import mkdtemp\n",
    "\n",
    "import numpy as np\n",
    "import pandas as pd\n",
    "\n",
    "from sklearn.pipeline import Pipeline\n",
    "\n",
    "from catboost import CatBoostClassifier, Pool\n",
    "\n",
    "\n",
    "pd.set_option('display.max_rows', 100)"
   ]
  },
  {
   "cell_type": "code",
   "execution_count": 3,
   "id": "3c088bc3",
   "metadata": {
    "ExecuteTime": {
     "end_time": "2022-01-09T21:15:27.637930Z",
     "start_time": "2022-01-09T21:15:27.015524Z"
    }
   },
   "outputs": [],
   "source": [
    "from src.io import csv_loader_factory, PickleLoader\n",
    "from src.preprocessing import TextCleaner\n",
    "from src.embeddings import W2VEmbedder\n",
    "from src.eval.metrics import compute_metrics"
   ]
  },
  {
   "cell_type": "markdown",
   "id": "9c442336",
   "metadata": {},
   "source": [
    "# load raw "
   ]
  },
  {
   "cell_type": "code",
   "execution_count": 4,
   "id": "b5944e40",
   "metadata": {
    "ExecuteTime": {
     "end_time": "2022-01-09T21:15:28.150081Z",
     "start_time": "2022-01-09T21:15:28.007991Z"
    }
   },
   "outputs": [
    {
     "name": "stderr",
     "output_type": "stream",
     "text": [
      "INFO:2022-01-09 22:15:28:io:loading from csv: ./data/poleval19.csv\n",
      "INFO:2022-01-09 22:15:28:io:loaded 11041 rows\n"
     ]
    }
   ],
   "source": [
    "loader = csv_loader_factory('poleval')\n",
    "data = loader.load()"
   ]
  },
  {
   "cell_type": "markdown",
   "id": "d7f97da0",
   "metadata": {},
   "source": [
    "# base eda"
   ]
  },
  {
   "cell_type": "code",
   "execution_count": 5,
   "id": "f9936f68",
   "metadata": {
    "ExecuteTime": {
     "end_time": "2022-01-09T21:15:30.511444Z",
     "start_time": "2022-01-09T21:15:30.397824Z"
    }
   },
   "outputs": [
    {
     "data": {
      "text/plain": [
       "(11041, 3)"
      ]
     },
     "execution_count": 5,
     "metadata": {},
     "output_type": "execute_result"
    }
   ],
   "source": [
    "data.shape"
   ]
  },
  {
   "cell_type": "code",
   "execution_count": 6,
   "id": "ff6e4380",
   "metadata": {
    "ExecuteTime": {
     "end_time": "2022-01-09T21:15:32.063780Z",
     "start_time": "2022-01-09T21:15:31.963897Z"
    }
   },
   "outputs": [
    {
     "data": {
      "text/html": [
       "<div>\n",
       "<style scoped>\n",
       "    .dataframe tbody tr th:only-of-type {\n",
       "        vertical-align: middle;\n",
       "    }\n",
       "\n",
       "    .dataframe tbody tr th {\n",
       "        vertical-align: top;\n",
       "    }\n",
       "\n",
       "    .dataframe thead th {\n",
       "        text-align: right;\n",
       "    }\n",
       "</style>\n",
       "<table border=\"1\" class=\"dataframe\">\n",
       "  <thead>\n",
       "    <tr style=\"text-align: right;\">\n",
       "      <th></th>\n",
       "      <th>dataset</th>\n",
       "      <th>text_raw</th>\n",
       "      <th>tag</th>\n",
       "    </tr>\n",
       "  </thead>\n",
       "  <tbody>\n",
       "    <tr>\n",
       "      <th>0</th>\n",
       "      <td>train</td>\n",
       "      <td>Dla mnie faworytem do tytułu będzie Cracovia. ...</td>\n",
       "      <td>0</td>\n",
       "    </tr>\n",
       "    <tr>\n",
       "      <th>1</th>\n",
       "      <td>train</td>\n",
       "      <td>@anonymized_account @anonymized_account Brawo ...</td>\n",
       "      <td>0</td>\n",
       "    </tr>\n",
       "    <tr>\n",
       "      <th>2</th>\n",
       "      <td>train</td>\n",
       "      <td>@anonymized_account @anonymized_account Super,...</td>\n",
       "      <td>0</td>\n",
       "    </tr>\n",
       "    <tr>\n",
       "      <th>3</th>\n",
       "      <td>train</td>\n",
       "      <td>@anonymized_account @anonymized_account Musi. ...</td>\n",
       "      <td>0</td>\n",
       "    </tr>\n",
       "    <tr>\n",
       "      <th>4</th>\n",
       "      <td>train</td>\n",
       "      <td>Odrzut natychmiastowy, kwaśna mina, mam problem</td>\n",
       "      <td>0</td>\n",
       "    </tr>\n",
       "  </tbody>\n",
       "</table>\n",
       "</div>"
      ],
      "text/plain": [
       "  dataset                                           text_raw  tag\n",
       "0   train  Dla mnie faworytem do tytułu będzie Cracovia. ...    0\n",
       "1   train  @anonymized_account @anonymized_account Brawo ...    0\n",
       "2   train  @anonymized_account @anonymized_account Super,...    0\n",
       "3   train  @anonymized_account @anonymized_account Musi. ...    0\n",
       "4   train    Odrzut natychmiastowy, kwaśna mina, mam problem    0"
      ]
     },
     "execution_count": 6,
     "metadata": {},
     "output_type": "execute_result"
    }
   ],
   "source": [
    "data.head()"
   ]
  },
  {
   "cell_type": "code",
   "execution_count": 7,
   "id": "9307699a",
   "metadata": {
    "ExecuteTime": {
     "end_time": "2022-01-09T21:15:34.625727Z",
     "start_time": "2022-01-09T21:15:34.517655Z"
    }
   },
   "outputs": [
    {
     "data": {
      "text/html": [
       "<div>\n",
       "<style scoped>\n",
       "    .dataframe tbody tr th:only-of-type {\n",
       "        vertical-align: middle;\n",
       "    }\n",
       "\n",
       "    .dataframe tbody tr th {\n",
       "        vertical-align: top;\n",
       "    }\n",
       "\n",
       "    .dataframe thead th {\n",
       "        text-align: right;\n",
       "    }\n",
       "</style>\n",
       "<table border=\"1\" class=\"dataframe\">\n",
       "  <thead>\n",
       "    <tr style=\"text-align: right;\">\n",
       "      <th></th>\n",
       "      <th>size</th>\n",
       "      <th>target</th>\n",
       "    </tr>\n",
       "    <tr>\n",
       "      <th>dataset</th>\n",
       "      <th></th>\n",
       "      <th></th>\n",
       "    </tr>\n",
       "  </thead>\n",
       "  <tbody>\n",
       "    <tr>\n",
       "      <th>test</th>\n",
       "      <td>1000</td>\n",
       "      <td>0.134000</td>\n",
       "    </tr>\n",
       "    <tr>\n",
       "      <th>train</th>\n",
       "      <td>10041</td>\n",
       "      <td>0.084753</td>\n",
       "    </tr>\n",
       "  </tbody>\n",
       "</table>\n",
       "</div>"
      ],
      "text/plain": [
       "          size    target\n",
       "dataset                 \n",
       "test      1000  0.134000\n",
       "train    10041  0.084753"
      ]
     },
     "execution_count": 7,
     "metadata": {},
     "output_type": "execute_result"
    }
   ],
   "source": [
    "data.groupby('dataset').agg(\n",
    "    size=('text_raw', 'size'),\n",
    "    target=('tag', 'mean')\n",
    ")"
   ]
  },
  {
   "cell_type": "markdown",
   "id": "80dd8cde",
   "metadata": {},
   "source": [
    "# catboost on raw data"
   ]
  },
  {
   "cell_type": "markdown",
   "id": "3a0c4ea9",
   "metadata": {},
   "source": [
    "## prep data"
   ]
  },
  {
   "cell_type": "code",
   "execution_count": 8,
   "id": "64ab3d0e",
   "metadata": {
    "ExecuteTime": {
     "end_time": "2022-01-09T21:15:38.032561Z",
     "start_time": "2022-01-09T21:15:37.914021Z"
    }
   },
   "outputs": [],
   "source": [
    "train_df = data.loc[data['dataset']=='train', ['text_raw']]\n",
    "train_label = data.loc[data['dataset']=='train', 'tag']\n",
    "test_df = data.loc[data['dataset']=='test', ['text_raw']]\n",
    "test_label = data.loc[data['dataset']=='test', 'tag']\n",
    "\n",
    "train_pool = Pool(train_df, label=train_label, text_features=['text_raw'])\n",
    "test_pool = Pool(test_df, label=test_label, text_features=['text_raw'])"
   ]
  },
  {
   "cell_type": "markdown",
   "id": "0a302fd6",
   "metadata": {},
   "source": [
    "## train model"
   ]
  },
  {
   "cell_type": "code",
   "execution_count": 9,
   "id": "05a1f4a0",
   "metadata": {
    "ExecuteTime": {
     "end_time": "2022-01-09T21:17:26.454348Z",
     "start_time": "2022-01-09T21:15:47.399274Z"
    },
    "scrolled": true
   },
   "outputs": [
    {
     "name": "stdout",
     "output_type": "stream",
     "text": [
      "Learning rate set to 0.056021\n",
      "0:\ttest: 0.5000000\tbest: 0.5000000 (0)\ttotal: 261ms\tremaining: 4m 20s\n",
      "10:\ttest: 0.7002602\tbest: 0.7002602 (10)\ttotal: 1.09s\tremaining: 1m 38s\n",
      "20:\ttest: 0.7979818\tbest: 0.7979818 (20)\ttotal: 1.95s\tremaining: 1m 30s\n",
      "30:\ttest: 0.7850083\tbest: 0.7979818 (20)\ttotal: 2.8s\tremaining: 1m 27s\n",
      "40:\ttest: 0.7908078\tbest: 0.7979818 (20)\ttotal: 3.59s\tremaining: 1m 23s\n",
      "50:\ttest: 0.7936386\tbest: 0.7979818 (20)\ttotal: 4.42s\tremaining: 1m 22s\n",
      "60:\ttest: 0.7932164\tbest: 0.7979818 (20)\ttotal: 5.21s\tremaining: 1m 20s\n",
      "70:\ttest: 0.7949226\tbest: 0.7979818 (20)\ttotal: 5.98s\tremaining: 1m 18s\n",
      "80:\ttest: 0.7967538\tbest: 0.7979818 (20)\ttotal: 6.77s\tremaining: 1m 16s\n",
      "90:\ttest: 0.7985979\tbest: 0.7985979 (90)\ttotal: 7.6s\tremaining: 1m 15s\n",
      "100:\ttest: 0.7976371\tbest: 0.7985979 (90)\ttotal: 8.44s\tremaining: 1m 15s\n",
      "110:\ttest: 0.8004636\tbest: 0.8004636 (110)\ttotal: 9.43s\tremaining: 1m 15s\n",
      "120:\ttest: 0.8002740\tbest: 0.8004636 (110)\ttotal: 10.1s\tremaining: 1m 13s\n",
      "130:\ttest: 0.7999897\tbest: 0.8004636 (110)\ttotal: 11s\tremaining: 1m 12s\n",
      "140:\ttest: 0.8008040\tbest: 0.8008040 (140)\ttotal: 11.8s\tremaining: 1m 11s\n",
      "150:\ttest: 0.8011444\tbest: 0.8011444 (150)\ttotal: 12.7s\tremaining: 1m 11s\n",
      "160:\ttest: 0.8005024\tbest: 0.8011444 (150)\ttotal: 13.5s\tremaining: 1m 10s\n",
      "170:\ttest: 0.8008126\tbest: 0.8011444 (150)\ttotal: 14.3s\tremaining: 1m 9s\n",
      "180:\ttest: 0.8005412\tbest: 0.8011444 (150)\ttotal: 15.2s\tremaining: 1m 8s\n",
      "190:\ttest: 0.8014632\tbest: 0.8014632 (190)\ttotal: 16s\tremaining: 1m 7s\n",
      "200:\ttest: 0.8006015\tbest: 0.8014632 (190)\ttotal: 16.8s\tremaining: 1m 6s\n",
      "210:\ttest: 0.8006877\tbest: 0.8014632 (190)\ttotal: 17.7s\tremaining: 1m 6s\n",
      "220:\ttest: 0.8003516\tbest: 0.8014632 (190)\ttotal: 18.7s\tremaining: 1m 5s\n",
      "230:\ttest: 0.7997613\tbest: 0.8014632 (190)\ttotal: 19.6s\tremaining: 1m 5s\n",
      "240:\ttest: 0.7991753\tbest: 0.8014632 (190)\ttotal: 20.6s\tremaining: 1m 5s\n",
      "250:\ttest: 0.7989943\tbest: 0.8014632 (190)\ttotal: 21.6s\tremaining: 1m 4s\n",
      "260:\ttest: 0.8000198\tbest: 0.8014632 (190)\ttotal: 22.6s\tremaining: 1m 4s\n",
      "270:\ttest: 0.8000284\tbest: 0.8014632 (190)\ttotal: 23.8s\tremaining: 1m 3s\n",
      "280:\ttest: 0.8001749\tbest: 0.8014632 (190)\ttotal: 24.9s\tremaining: 1m 3s\n",
      "290:\ttest: 0.7992787\tbest: 0.8014632 (190)\ttotal: 26.1s\tremaining: 1m 3s\n",
      "300:\ttest: 0.7992529\tbest: 0.8014632 (190)\ttotal: 27.2s\tremaining: 1m 3s\n",
      "310:\ttest: 0.7984256\tbest: 0.8014632 (190)\ttotal: 28.4s\tremaining: 1m 2s\n",
      "320:\ttest: 0.7979344\tbest: 0.8014632 (190)\ttotal: 29.6s\tremaining: 1m 2s\n",
      "330:\ttest: 0.7983394\tbest: 0.8014632 (190)\ttotal: 30.7s\tremaining: 1m 2s\n",
      "340:\ttest: 0.7974691\tbest: 0.8014632 (190)\ttotal: 31.9s\tremaining: 1m 1s\n",
      "350:\ttest: 0.7969779\tbest: 0.8014632 (190)\ttotal: 32.9s\tremaining: 1m\n",
      "360:\ttest: 0.7968831\tbest: 0.8014632 (190)\ttotal: 33.9s\tremaining: 1m\n",
      "370:\ttest: 0.7963402\tbest: 0.8014632 (190)\ttotal: 34.9s\tremaining: 59.2s\n",
      "380:\ttest: 0.7960817\tbest: 0.8014632 (190)\ttotal: 35.9s\tremaining: 58.4s\n",
      "390:\ttest: 0.7946253\tbest: 0.8014632 (190)\ttotal: 37s\tremaining: 57.6s\n",
      "400:\ttest: 0.7946081\tbest: 0.8014632 (190)\ttotal: 38s\tremaining: 56.8s\n",
      "410:\ttest: 0.7951639\tbest: 0.8014632 (190)\ttotal: 39s\tremaining: 55.9s\n",
      "420:\ttest: 0.7951898\tbest: 0.8014632 (190)\ttotal: 40s\tremaining: 55s\n",
      "430:\ttest: 0.7947761\tbest: 0.8014632 (190)\ttotal: 41s\tremaining: 54.1s\n",
      "440:\ttest: 0.7945176\tbest: 0.8014632 (190)\ttotal: 41.9s\tremaining: 53.2s\n",
      "450:\ttest: 0.7941729\tbest: 0.8014632 (190)\ttotal: 42.9s\tremaining: 52.2s\n",
      "460:\ttest: 0.7937420\tbest: 0.8014632 (190)\ttotal: 43.9s\tremaining: 51.3s\n",
      "470:\ttest: 0.7939144\tbest: 0.8014632 (190)\ttotal: 44.9s\tremaining: 50.4s\n",
      "480:\ttest: 0.7935697\tbest: 0.8014632 (190)\ttotal: 45.9s\tremaining: 49.5s\n",
      "490:\ttest: 0.7921220\tbest: 0.8014632 (190)\ttotal: 46.9s\tremaining: 48.6s\n",
      "500:\ttest: 0.7917428\tbest: 0.8014632 (190)\ttotal: 47.9s\tremaining: 47.7s\n",
      "510:\ttest: 0.7923805\tbest: 0.8014632 (190)\ttotal: 48.9s\tremaining: 46.8s\n",
      "520:\ttest: 0.7919668\tbest: 0.8014632 (190)\ttotal: 49.9s\tremaining: 45.9s\n",
      "530:\ttest: 0.7917083\tbest: 0.8014632 (190)\ttotal: 50.9s\tremaining: 45s\n",
      "540:\ttest: 0.7915963\tbest: 0.8014632 (190)\ttotal: 51.9s\tremaining: 44.1s\n",
      "550:\ttest: 0.7913292\tbest: 0.8014632 (190)\ttotal: 52.9s\tremaining: 43.1s\n",
      "560:\ttest: 0.7911396\tbest: 0.8014632 (190)\ttotal: 54s\tremaining: 42.2s\n",
      "570:\ttest: 0.7907173\tbest: 0.8014632 (190)\ttotal: 55s\tremaining: 41.3s\n",
      "580:\ttest: 0.7907345\tbest: 0.8014632 (190)\ttotal: 56s\tremaining: 40.4s\n",
      "590:\ttest: 0.7902778\tbest: 0.8014632 (190)\ttotal: 57s\tremaining: 39.5s\n",
      "600:\ttest: 0.7900624\tbest: 0.8014632 (190)\ttotal: 58s\tremaining: 38.5s\n",
      "610:\ttest: 0.7909069\tbest: 0.8014632 (190)\ttotal: 59.1s\tremaining: 37.6s\n",
      "620:\ttest: 0.7906053\tbest: 0.8014632 (190)\ttotal: 1m\tremaining: 36.7s\n",
      "630:\ttest: 0.7909069\tbest: 0.8014632 (190)\ttotal: 1m 1s\tremaining: 35.8s\n",
      "640:\ttest: 0.7904760\tbest: 0.8014632 (190)\ttotal: 1m 2s\tremaining: 34.9s\n",
      "650:\ttest: 0.7901141\tbest: 0.8014632 (190)\ttotal: 1m 3s\tremaining: 33.9s\n",
      "660:\ttest: 0.7897953\tbest: 0.8014632 (190)\ttotal: 1m 4s\tremaining: 33s\n",
      "670:\ttest: 0.7895281\tbest: 0.8014632 (190)\ttotal: 1m 5s\tremaining: 32s\n",
      "680:\ttest: 0.7891920\tbest: 0.8014632 (190)\ttotal: 1m 6s\tremaining: 31.1s\n",
      "690:\ttest: 0.7885630\tbest: 0.8014632 (190)\ttotal: 1m 7s\tremaining: 30.1s\n",
      "700:\ttest: 0.7884595\tbest: 0.8014632 (190)\ttotal: 1m 8s\tremaining: 29.2s\n",
      "710:\ttest: 0.7884509\tbest: 0.8014632 (190)\ttotal: 1m 9s\tremaining: 28.2s\n",
      "720:\ttest: 0.7882096\tbest: 0.8014632 (190)\ttotal: 1m 10s\tremaining: 27.3s\n",
      "730:\ttest: 0.7884682\tbest: 0.8014632 (190)\ttotal: 1m 11s\tremaining: 26.3s\n",
      "740:\ttest: 0.7888387\tbest: 0.8014632 (190)\ttotal: 1m 12s\tremaining: 25.3s\n",
      "750:\ttest: 0.7880114\tbest: 0.8014632 (190)\ttotal: 1m 13s\tremaining: 24.3s\n",
      "760:\ttest: 0.7878736\tbest: 0.8014632 (190)\ttotal: 1m 14s\tremaining: 23.4s\n",
      "770:\ttest: 0.7878305\tbest: 0.8014632 (190)\ttotal: 1m 15s\tremaining: 22.4s\n",
      "780:\ttest: 0.7874168\tbest: 0.8014632 (190)\ttotal: 1m 16s\tremaining: 21.4s\n",
      "790:\ttest: 0.7868826\tbest: 0.8014632 (190)\ttotal: 1m 17s\tremaining: 20.5s\n",
      "800:\ttest: 0.7858399\tbest: 0.8014632 (190)\ttotal: 1m 18s\tremaining: 19.5s\n",
      "810:\ttest: 0.7858226\tbest: 0.8014632 (190)\ttotal: 1m 19s\tremaining: 18.5s\n",
      "820:\ttest: 0.7851591\tbest: 0.8014632 (190)\ttotal: 1m 20s\tremaining: 17.6s\n",
      "830:\ttest: 0.7846851\tbest: 0.8014632 (190)\ttotal: 1m 21s\tremaining: 16.6s\n",
      "840:\ttest: 0.7845472\tbest: 0.8014632 (190)\ttotal: 1m 22s\tremaining: 15.6s\n",
      "850:\ttest: 0.7844438\tbest: 0.8014632 (190)\ttotal: 1m 23s\tremaining: 14.7s\n",
      "860:\ttest: 0.7842801\tbest: 0.8014632 (190)\ttotal: 1m 24s\tremaining: 13.7s\n",
      "870:\ttest: 0.7839613\tbest: 0.8014632 (190)\ttotal: 1m 25s\tremaining: 12.7s\n",
      "880:\ttest: 0.7842887\tbest: 0.8014632 (190)\ttotal: 1m 26s\tremaining: 11.7s\n",
      "890:\ttest: 0.7843490\tbest: 0.8014632 (190)\ttotal: 1m 27s\tremaining: 10.7s\n",
      "900:\ttest: 0.7841595\tbest: 0.8014632 (190)\ttotal: 1m 28s\tremaining: 9.74s\n",
      "910:\ttest: 0.7839268\tbest: 0.8014632 (190)\ttotal: 1m 29s\tremaining: 8.76s\n",
      "920:\ttest: 0.7833149\tbest: 0.8014632 (190)\ttotal: 1m 30s\tremaining: 7.77s\n",
      "930:\ttest: 0.7827721\tbest: 0.8014632 (190)\ttotal: 1m 31s\tremaining: 6.79s\n",
      "940:\ttest: 0.7830995\tbest: 0.8014632 (190)\ttotal: 1m 32s\tremaining: 5.8s\n",
      "950:\ttest: 0.7830823\tbest: 0.8014632 (190)\ttotal: 1m 33s\tremaining: 4.82s\n",
      "960:\ttest: 0.7829616\tbest: 0.8014632 (190)\ttotal: 1m 34s\tremaining: 3.84s\n",
      "970:\ttest: 0.7830220\tbest: 0.8014632 (190)\ttotal: 1m 35s\tremaining: 2.85s\n",
      "980:\ttest: 0.7829099\tbest: 0.8014632 (190)\ttotal: 1m 36s\tremaining: 1.87s\n",
      "990:\ttest: 0.7830478\tbest: 0.8014632 (190)\ttotal: 1m 37s\tremaining: 885ms\n",
      "999:\ttest: 0.7833580\tbest: 0.8014632 (190)\ttotal: 1m 38s\tremaining: 0us\n",
      "\n",
      "bestTest = 0.8014632381\n",
      "bestIteration = 190\n",
      "\n",
      "Shrink model to first 191 iterations.\n"
     ]
    },
    {
     "data": {
      "text/plain": [
       "<catboost.core.CatBoostClassifier at 0x1a5f0b6a340>"
      ]
     },
     "execution_count": 9,
     "metadata": {},
     "output_type": "execute_result"
    }
   ],
   "source": [
    "params = {\n",
    "    'eval_metric': 'AUC',\n",
    "    'text_features': ['text_raw'],\n",
    "    'metric_period': 10,\n",
    "    'verbose': 10,\n",
    "}\n",
    "\n",
    "cb = CatBoostClassifier(**params)\n",
    "cb.fit(X=train_df, y=train_label, eval_set=(test_df, test_label))"
   ]
  },
  {
   "cell_type": "markdown",
   "id": "b3243e87",
   "metadata": {},
   "source": [
    "## summ"
   ]
  },
  {
   "cell_type": "code",
   "execution_count": 134,
   "id": "f6e134b3",
   "metadata": {
    "ExecuteTime": {
     "end_time": "2022-01-07T20:40:19.152662Z",
     "start_time": "2022-01-07T20:40:18.901236Z"
    }
   },
   "outputs": [
    {
     "data": {
      "text/html": [
       "<div>\n",
       "<style scoped>\n",
       "    .dataframe tbody tr th:only-of-type {\n",
       "        vertical-align: middle;\n",
       "    }\n",
       "\n",
       "    .dataframe tbody tr th {\n",
       "        vertical-align: top;\n",
       "    }\n",
       "\n",
       "    .dataframe thead th {\n",
       "        text-align: right;\n",
       "    }\n",
       "</style>\n",
       "<table border=\"1\" class=\"dataframe\">\n",
       "  <thead>\n",
       "    <tr style=\"text-align: right;\">\n",
       "      <th></th>\n",
       "      <th>train</th>\n",
       "      <th>test</th>\n",
       "    </tr>\n",
       "  </thead>\n",
       "  <tbody>\n",
       "    <tr>\n",
       "      <th>AUC</th>\n",
       "      <td>0.560178</td>\n",
       "      <td>0.518635</td>\n",
       "    </tr>\n",
       "    <tr>\n",
       "      <th>Accuracy</th>\n",
       "      <td>0.834761</td>\n",
       "      <td>0.802803</td>\n",
       "    </tr>\n",
       "    <tr>\n",
       "      <th>F1</th>\n",
       "      <td>0.023543</td>\n",
       "      <td>0.075117</td>\n",
       "    </tr>\n",
       "    <tr>\n",
       "      <th>Precision</th>\n",
       "      <td>0.023585</td>\n",
       "      <td>0.101266</td>\n",
       "    </tr>\n",
       "    <tr>\n",
       "      <th>Recall</th>\n",
       "      <td>0.023502</td>\n",
       "      <td>0.059701</td>\n",
       "    </tr>\n",
       "  </tbody>\n",
       "</table>\n",
       "</div>"
      ],
      "text/plain": [
       "              train      test\n",
       "AUC        0.560178  0.518635\n",
       "Accuracy   0.834761  0.802803\n",
       "F1         0.023543  0.075117\n",
       "Precision  0.023585  0.101266\n",
       "Recall     0.023502  0.059701"
      ]
     },
     "metadata": {},
     "output_type": "display_data"
    },
    {
     "name": "stdout",
     "output_type": "stream",
     "text": [
      "|mean pred |0.158266|0.158236|\n"
     ]
    },
    {
     "data": {
      "text/plain": [
       "<AxesSubplot:ylabel='Frequency'>"
      ]
     },
     "execution_count": 134,
     "metadata": {},
     "output_type": "execute_result"
    },
    {
     "data": {
      "image/png": "[encoded data removed]",
      "text/plain": [
       "<Figure size 432x288 with 1 Axes>"
      ]
     },
     "metadata": {
      "needs_background": "light"
     },
     "output_type": "display_data"
    }
   ],
   "source": [
    "proba_train = cb.predict_proba(train_df)[:, 1]\n",
    "proba_test = cb.predict_proba(test_df)[:, 1]\n",
    "\n",
    "display(compute_metrics((train_label, proba_train), (test_label, proba_test)))\n",
    "\n",
    "print(f'|mean pred |{round(np.mean(proba_train), 6)}|{round(np.mean(proba_test), 6)}|')\n",
    "pd.Series(proba_test).plot.hist()"
   ]
  },
  {
   "cell_type": "markdown",
   "id": "04818e40",
   "metadata": {},
   "source": [
    "# catboost on cleaned"
   ]
  },
  {
   "cell_type": "markdown",
   "id": "c7067b41",
   "metadata": {},
   "source": [
    "## prep data"
   ]
  },
  {
   "cell_type": "code",
   "execution_count": 135,
   "id": "8eb8b129",
   "metadata": {
    "ExecuteTime": {
     "end_time": "2022-01-07T20:40:37.993474Z",
     "start_time": "2022-01-07T20:40:37.884525Z"
    }
   },
   "outputs": [
    {
     "data": {
      "text/plain": [
       "{'clean_email': True,\n",
       " 'clean_emoji': True,\n",
       " 'clean_hashtag': True,\n",
       " 'clean_non_alpha': True,\n",
       " 'clean_non_letter': True,\n",
       " 'clean_url': True,\n",
       " 'clean_user_ref': True,\n",
       " 'drop_repeated': True,\n",
       " 'latinize': True,\n",
       " 'to_lower': True}"
      ]
     },
     "execution_count": 135,
     "metadata": {},
     "output_type": "execute_result"
    }
   ],
   "source": [
    "cleaner = TextCleaner()\n",
    "cleaner.get_params()"
   ]
  },
  {
   "cell_type": "code",
   "execution_count": 136,
   "id": "c604e62c",
   "metadata": {
    "ExecuteTime": {
     "end_time": "2022-01-07T20:40:39.092899Z",
     "start_time": "2022-01-07T20:40:38.659258Z"
    }
   },
   "outputs": [],
   "source": [
    "train_clean = cleaner.fit_transform(train_df['text_raw'])\n",
    "train_clean = pd.DataFrame(train_clean, columns=['text_clean'])\n",
    "\n",
    "\n",
    "test_clean = cleaner.transform(test_df['text_raw'])\n",
    "test_clean = pd.DataFrame(test_clean, columns=['text_clean'])\n",
    "\n",
    "\n",
    "train_pool_clean = Pool(train_clean, label=train_label, text_features=['text_clean'])\n",
    "test_pool_clean = Pool(test_clean, label=test_label, text_features=['text_clean'])"
   ]
  },
  {
   "cell_type": "markdown",
   "id": "0b4d3a91",
   "metadata": {},
   "source": [
    "## train model"
   ]
  },
  {
   "cell_type": "code",
   "execution_count": 146,
   "id": "2b13b3e2",
   "metadata": {
    "ExecuteTime": {
     "end_time": "2022-01-07T20:45:27.542841Z",
     "start_time": "2022-01-07T20:45:23.841183Z"
    },
    "scrolled": true
   },
   "outputs": [
    {
     "name": "stdout",
     "output_type": "stream",
     "text": [
      "Learning rate set to 0.056019\n",
      "0:\ttest: 0.4994220\tbest: 0.4994220 (0)\ttotal: 59.4ms\tremaining: 59.3s\n",
      "10:\ttest: 0.5094427\tbest: 0.5094427 (10)\ttotal: 791ms\tremaining: 1m 11s\n",
      "20:\ttest: 0.4975153\tbest: 0.5094427 (10)\ttotal: 1.75s\tremaining: 1m 21s\n",
      "30:\ttest: 0.4803080\tbest: 0.5094427 (10)\ttotal: 2.56s\tremaining: 1m 20s\n",
      "40:\ttest: 0.4903977\tbest: 0.5094427 (10)\ttotal: 3.42s\tremaining: 1m 20s\n",
      "Stopped by overfitting detector  (30 iterations wait)\n",
      "\n",
      "bestTest = 0.509442671\n",
      "bestIteration = 10\n",
      "\n",
      "Shrink model to first 11 iterations.\n"
     ]
    },
    {
     "data": {
      "text/plain": [
       "<catboost.core.CatBoostClassifier at 0x1e060d04670>"
      ]
     },
     "execution_count": 146,
     "metadata": {},
     "output_type": "execute_result"
    }
   ],
   "source": [
    "params = {\n",
    "    'eval_metric': 'AUC',\n",
    "    'text_features': ['text_clean'],\n",
    "    'verbose': 10,\n",
    "    'early_stopping_rounds': 30\n",
    "}\n",
    "\n",
    "cb = CatBoostClassifier(**params)\n",
    "cb.fit(X=train_clean, y=train_label, eval_set=(test_clean, test_label))"
   ]
  },
  {
   "cell_type": "markdown",
   "id": "0eef279a",
   "metadata": {
    "ExecuteTime": {
     "end_time": "2022-01-07T06:07:45.456247Z",
     "start_time": "2022-01-07T06:07:45.347252Z"
    }
   },
   "source": [
    "## summ"
   ]
  },
  {
   "cell_type": "code",
   "execution_count": 147,
   "id": "368cff83",
   "metadata": {
    "ExecuteTime": {
     "end_time": "2022-01-07T20:45:32.297664Z",
     "start_time": "2022-01-07T20:45:32.035921Z"
    }
   },
   "outputs": [
    {
     "data": {
      "text/html": [
       "<div>\n",
       "<style scoped>\n",
       "    .dataframe tbody tr th:only-of-type {\n",
       "        vertical-align: middle;\n",
       "    }\n",
       "\n",
       "    .dataframe tbody tr th {\n",
       "        vertical-align: top;\n",
       "    }\n",
       "\n",
       "    .dataframe thead th {\n",
       "        text-align: right;\n",
       "    }\n",
       "</style>\n",
       "<table border=\"1\" class=\"dataframe\">\n",
       "  <thead>\n",
       "    <tr style=\"text-align: right;\">\n",
       "      <th></th>\n",
       "      <th>train</th>\n",
       "      <th>test</th>\n",
       "    </tr>\n",
       "  </thead>\n",
       "  <tbody>\n",
       "    <tr>\n",
       "      <th>AUC</th>\n",
       "      <td>0.526524</td>\n",
       "      <td>0.509443</td>\n",
       "    </tr>\n",
       "    <tr>\n",
       "      <th>Accuracy</th>\n",
       "      <td>0.858765</td>\n",
       "      <td>0.823824</td>\n",
       "    </tr>\n",
       "    <tr>\n",
       "      <th>F1</th>\n",
       "      <td>0.041892</td>\n",
       "      <td>0.073684</td>\n",
       "    </tr>\n",
       "    <tr>\n",
       "      <th>Precision</th>\n",
       "      <td>0.049285</td>\n",
       "      <td>0.125000</td>\n",
       "    </tr>\n",
       "    <tr>\n",
       "      <th>Recall</th>\n",
       "      <td>0.036428</td>\n",
       "      <td>0.052239</td>\n",
       "    </tr>\n",
       "  </tbody>\n",
       "</table>\n",
       "</div>"
      ],
      "text/plain": [
       "              train      test\n",
       "AUC        0.526524  0.509443\n",
       "Accuracy   0.858765  0.823824\n",
       "F1         0.041892  0.073684\n",
       "Precision  0.049285  0.125000\n",
       "Recall     0.036428  0.052239"
      ]
     },
     "metadata": {},
     "output_type": "display_data"
    },
    {
     "name": "stdout",
     "output_type": "stream",
     "text": [
      "|mean pred |0.24648|0.246439|\n"
     ]
    },
    {
     "data": {
      "text/plain": [
       "<AxesSubplot:ylabel='Frequency'>"
      ]
     },
     "execution_count": 147,
     "metadata": {},
     "output_type": "execute_result"
    },
    {
     "data": {
      "image/png": "[encoded data removed]",
      "text/plain": [
       "<Figure size 432x288 with 1 Axes>"
      ]
     },
     "metadata": {
      "needs_background": "light"
     },
     "output_type": "display_data"
    }
   ],
   "source": [
    "proba_train = cb.predict_proba(train_clean)[:, 1]\n",
    "proba_test = cb.predict_proba(test_clean)[:, 1]\n",
    "\n",
    "display(compute_metrics((train_label, proba_train), (test_label, proba_test)))\n",
    "\n",
    "print(f'|mean pred |{round(np.mean(proba_train), 6)}|{round(np.mean(proba_test), 6)}|')\n",
    "pd.Series(proba_test).plot.hist()"
   ]
  },
  {
   "cell_type": "code",
   "execution_count": 250,
   "id": "164bcff5",
   "metadata": {
    "ExecuteTime": {
     "end_time": "2022-01-07T06:31:36.838565Z",
     "start_time": "2022-01-07T06:31:36.608789Z"
    }
   },
   "outputs": [
    {
     "data": {
      "text/plain": [
       "<AxesSubplot:ylabel='Frequency'>"
      ]
     },
     "execution_count": 250,
     "metadata": {},
     "output_type": "execute_result"
    },
    {
     "data": {
      "image/png": "[encoded data removed]",
      "text/plain": [
       "<Figure size 432x288 with 1 Axes>"
      ]
     },
     "metadata": {
      "needs_background": "light"
     },
     "output_type": "display_data"
    }
   ],
   "source": [
    "pd.Series(map(len, train_clean['text_clean'])).plot.hist()"
   ]
  },
  {
   "cell_type": "code",
   "execution_count": 249,
   "id": "6a63f8e6",
   "metadata": {
    "ExecuteTime": {
     "end_time": "2022-01-07T06:30:59.895739Z",
     "start_time": "2022-01-07T06:30:59.782181Z"
    }
   },
   "outputs": [
    {
     "data": {
      "text/plain": [
       "0      14\n",
       "2       2\n",
       "7       1\n",
       "9       1\n",
       "10      2\n",
       "       ..\n",
       "134     4\n",
       "135     5\n",
       "136     7\n",
       "137     1\n",
       "138     1\n",
       "Length: 133, dtype: int64"
      ]
     },
     "execution_count": 249,
     "metadata": {},
     "output_type": "execute_result"
    }
   ],
   "source": [
    "pd.Series(map(len, train_clean['text_clean'])).value_counts(dropna=False).sort_index()"
   ]
  },
  {
   "cell_type": "code",
   "execution_count": 254,
   "id": "a5abd95c",
   "metadata": {
    "ExecuteTime": {
     "end_time": "2022-01-07T06:33:00.058319Z",
     "start_time": "2022-01-07T06:32:59.838855Z"
    }
   },
   "outputs": [
    {
     "data": {
      "text/plain": [
       "<AxesSubplot:ylabel='Frequency'>"
      ]
     },
     "execution_count": 254,
     "metadata": {},
     "output_type": "execute_result"
    },
    {
     "data": {
      "image/png": "[encoded data removed]",
      "text/plain": [
       "<Figure size 432x288 with 1 Axes>"
      ]
     },
     "metadata": {
      "needs_background": "light"
     },
     "output_type": "display_data"
    }
   ],
   "source": [
    "pd.Series(map(len, train_tokens)).plot.hist()"
   ]
  },
  {
   "cell_type": "code",
   "execution_count": 253,
   "id": "83083738",
   "metadata": {
    "ExecuteTime": {
     "end_time": "2022-01-07T06:32:43.694150Z",
     "start_time": "2022-01-07T06:32:43.582773Z"
    }
   },
   "outputs": [
    {
     "data": {
      "text/plain": [
       "0       14\n",
       "1        2\n",
       "2        2\n",
       "3       37\n",
       "4      357\n",
       "5     1004\n",
       "6      974\n",
       "7      911\n",
       "8      848\n",
       "9      761\n",
       "10     767\n",
       "11     676\n",
       "12     549\n",
       "13     540\n",
       "14     477\n",
       "15     463\n",
       "16     408\n",
       "17     345\n",
       "18     280\n",
       "19     209\n",
       "20     165\n",
       "21     110\n",
       "22      62\n",
       "23      34\n",
       "24      22\n",
       "25      11\n",
       "26       3\n",
       "27       4\n",
       "28       4\n",
       "29       1\n",
       "dtype: int64"
      ]
     },
     "execution_count": 253,
     "metadata": {},
     "output_type": "execute_result"
    }
   ],
   "source": [
    "pd.Series(map(len, train_tokens)).value_counts().sort_index()"
   ]
  },
  {
   "cell_type": "markdown",
   "id": "1333fb7d",
   "metadata": {},
   "source": [
    "# w2v on cleaned"
   ]
  },
  {
   "cell_type": "markdown",
   "id": "709351cc",
   "metadata": {},
   "source": [
    "## prep data"
   ]
  },
  {
   "cell_type": "code",
   "execution_count": 138,
   "id": "689d1390",
   "metadata": {
    "ExecuteTime": {
     "end_time": "2022-01-07T20:42:16.080286Z",
     "start_time": "2022-01-07T20:42:15.925085Z"
    }
   },
   "outputs": [],
   "source": [
    "# train\n",
    "train_tokens = pd.Series(map(lambda text: text.split(), train_clean['text_clean']))\n",
    "train_tokens.index = train_clean.index\n",
    "\n",
    "train_tokens = train_tokens[(pd.Series(map(len, train_tokens))>0).values]\n",
    "train_label_tok = train_label[train_tokens.index]\n",
    "\n",
    "\n",
    "# test\n",
    "test_tokens = pd.Series(map(lambda text: text.split(), test_clean['text_clean']))\n",
    "test_tokens.index = test_clean.index\n",
    "\n",
    "test_tokens = test_tokens[(pd.Series(map(len, test_tokens))>0).values]\n",
    "test_label_tok = test_label[test_tokens.index]"
   ]
  },
  {
   "cell_type": "code",
   "execution_count": 139,
   "id": "725b8b79",
   "metadata": {
    "ExecuteTime": {
     "end_time": "2022-01-07T20:42:16.204033Z",
     "start_time": "2022-01-07T20:42:16.084280Z"
    }
   },
   "outputs": [
    {
     "data": {
      "text/plain": [
       "{'alpha': 0.025,\n",
       " 'cbow_mean': 1,\n",
       " 'epochs': 5,\n",
       " 'hs': 0,\n",
       " 'max_final_vocab': None,\n",
       " 'min_alpha': 0.0001,\n",
       " 'min_count': 5,\n",
       " 'model_name': 'w2v',\n",
       " 'negative': 5,\n",
       " 'ns_exponent': 0.75,\n",
       " 'sample': 0.001,\n",
       " 'sg': 0,\n",
       " 'vector_size': 20,\n",
       " 'window': 5,\n",
       " 'workers': 8}"
      ]
     },
     "execution_count": 139,
     "metadata": {},
     "output_type": "execute_result"
    }
   ],
   "source": [
    "emb = W2VEmbedder()\n",
    "emb.get_params()"
   ]
  },
  {
   "cell_type": "code",
   "execution_count": 18,
   "id": "59d7432c",
   "metadata": {
    "ExecuteTime": {
     "end_time": "2022-01-07T19:20:37.331858Z",
     "start_time": "2022-01-07T19:20:36.918143Z"
    },
    "scrolled": true
   },
   "outputs": [
    {
     "name": "stderr",
     "output_type": "stream",
     "text": [
      "INFO:2022-01-07 20:20:36:gensim.models.word2vec:collecting all words and their counts\n",
      "INFO:2022-01-07 20:20:36:gensim.models.word2vec:PROGRESS: at sentence #0, processed 0 words, keeping 0 word types\n",
      "INFO:2022-01-07 20:20:37:gensim.models.word2vec:PROGRESS: at sentence #10000, processed 104799 words, keeping 21734 word types\n",
      "INFO:2022-01-07 20:20:37:gensim.models.word2vec:collected 21764 word types from a corpus of 105046 raw words and 10026 sentences\n",
      "INFO:2022-01-07 20:20:37:gensim.models.word2vec:Creating a fresh vocabulary\n",
      "INFO:2022-01-07 20:20:37:gensim.utils:Word2Vec lifecycle event {'msg': 'effective_min_count=5 retains 2518 unique words (11.56956441830546%% of original 21764, drops 19246)', 'datetime': '2022-01-07T20:20:37.039782', 'gensim': '4.1.2', 'python': '3.8.8 (tags/v3.8.8:024d805, Feb 19 2021, 13:18:16) [MSC v.1928 64 bit (AMD64)]', 'platform': 'Windows-10-10.0.19041-SP0', 'event': 'prepare_vocab'}\n",
      "INFO:2022-01-07 20:20:37:gensim.utils:Word2Vec lifecycle event {'msg': 'effective_min_count=5 leaves 76284 word corpus (72.6196142642271%% of original 105046, drops 28762)', 'datetime': '2022-01-07T20:20:37.040746', 'gensim': '4.1.2', 'python': '3.8.8 (tags/v3.8.8:024d805, Feb 19 2021, 13:18:16) [MSC v.1928 64 bit (AMD64)]', 'platform': 'Windows-10-10.0.19041-SP0', 'event': 'prepare_vocab'}\n",
      "INFO:2022-01-07 20:20:37:gensim.models.word2vec:deleting the raw counts dictionary of 21764 items\n",
      "INFO:2022-01-07 20:20:37:gensim.models.word2vec:sample=0.001 downsamples 45 most-common words\n",
      "INFO:2022-01-07 20:20:37:gensim.utils:Word2Vec lifecycle event {'msg': 'downsampling leaves estimated 54133.531426439586 word corpus (71.0%% of prior 76284)', 'datetime': '2022-01-07T20:20:37.056705', 'gensim': '4.1.2', 'python': '3.8.8 (tags/v3.8.8:024d805, Feb 19 2021, 13:18:16) [MSC v.1928 64 bit (AMD64)]', 'platform': 'Windows-10-10.0.19041-SP0', 'event': 'prepare_vocab'}\n",
      "INFO:2022-01-07 20:20:37:gensim.models.word2vec:estimated required memory for 2518 words and 20 dimensions: 1661880 bytes\n",
      "INFO:2022-01-07 20:20:37:gensim.models.word2vec:resetting layer weights\n",
      "INFO:2022-01-07 20:20:37:gensim.utils:Word2Vec lifecycle event {'update': False, 'trim_rule': 'None', 'datetime': '2022-01-07T20:20:37.083007', 'gensim': '4.1.2', 'python': '3.8.8 (tags/v3.8.8:024d805, Feb 19 2021, 13:18:16) [MSC v.1928 64 bit (AMD64)]', 'platform': 'Windows-10-10.0.19041-SP0', 'event': 'build_vocab'}\n",
      "INFO:2022-01-07 20:20:37:gensim.utils:Word2Vec lifecycle event {'msg': 'training model with 8 workers on 2518 vocabulary and 20 features, using sg=0 hs=0 sample=0.001 negative=5 window=5 shrink_windows=True', 'datetime': '2022-01-07T20:20:37.084018', 'gensim': '4.1.2', 'python': '3.8.8 (tags/v3.8.8:024d805, Feb 19 2021, 13:18:16) [MSC v.1928 64 bit (AMD64)]', 'platform': 'Windows-10-10.0.19041-SP0', 'event': 'train'}\n",
      "INFO:2022-01-07 20:20:37:gensim.models.word2vec:worker thread finished; awaiting finish of 7 more threads\n",
      "INFO:2022-01-07 20:20:37:gensim.models.word2vec:worker thread finished; awaiting finish of 6 more threads\n",
      "INFO:2022-01-07 20:20:37:gensim.models.word2vec:worker thread finished; awaiting finish of 5 more threads\n",
      "INFO:2022-01-07 20:20:37:gensim.models.word2vec:worker thread finished; awaiting finish of 4 more threads\n",
      "INFO:2022-01-07 20:20:37:gensim.models.word2vec:worker thread finished; awaiting finish of 3 more threads\n",
      "INFO:2022-01-07 20:20:37:gensim.models.word2vec:worker thread finished; awaiting finish of 2 more threads\n",
      "INFO:2022-01-07 20:20:37:gensim.models.word2vec:worker thread finished; awaiting finish of 1 more threads\n",
      "INFO:2022-01-07 20:20:37:gensim.models.word2vec:worker thread finished; awaiting finish of 0 more threads\n",
      "INFO:2022-01-07 20:20:37:gensim.models.word2vec:EPOCH - 1 : training on 105046 raw words (54080 effective words) took 0.0s, 1904098 effective words/s\n",
      "INFO:2022-01-07 20:20:37:gensim.models.word2vec:worker thread finished; awaiting finish of 7 more threads\n",
      "INFO:2022-01-07 20:20:37:gensim.models.word2vec:worker thread finished; awaiting finish of 6 more threads\n",
      "INFO:2022-01-07 20:20:37:gensim.models.word2vec:worker thread finished; awaiting finish of 5 more threads\n",
      "INFO:2022-01-07 20:20:37:gensim.models.word2vec:worker thread finished; awaiting finish of 4 more threads\n",
      "INFO:2022-01-07 20:20:37:gensim.models.word2vec:worker thread finished; awaiting finish of 3 more threads\n",
      "INFO:2022-01-07 20:20:37:gensim.models.word2vec:worker thread finished; awaiting finish of 2 more threads\n",
      "INFO:2022-01-07 20:20:37:gensim.models.word2vec:worker thread finished; awaiting finish of 1 more threads\n",
      "INFO:2022-01-07 20:20:37:gensim.models.word2vec:worker thread finished; awaiting finish of 0 more threads\n",
      "INFO:2022-01-07 20:20:37:gensim.models.word2vec:EPOCH - 2 : training on 105046 raw words (54142 effective words) took 0.0s, 1782206 effective words/s\n",
      "INFO:2022-01-07 20:20:37:gensim.models.word2vec:worker thread finished; awaiting finish of 7 more threads\n",
      "INFO:2022-01-07 20:20:37:gensim.models.word2vec:worker thread finished; awaiting finish of 6 more threads\n",
      "INFO:2022-01-07 20:20:37:gensim.models.word2vec:worker thread finished; awaiting finish of 5 more threads\n",
      "INFO:2022-01-07 20:20:37:gensim.models.word2vec:worker thread finished; awaiting finish of 4 more threads\n",
      "INFO:2022-01-07 20:20:37:gensim.models.word2vec:worker thread finished; awaiting finish of 3 more threads\n",
      "INFO:2022-01-07 20:20:37:gensim.models.word2vec:worker thread finished; awaiting finish of 2 more threads\n",
      "INFO:2022-01-07 20:20:37:gensim.models.word2vec:worker thread finished; awaiting finish of 1 more threads\n",
      "INFO:2022-01-07 20:20:37:gensim.models.word2vec:worker thread finished; awaiting finish of 0 more threads\n",
      "INFO:2022-01-07 20:20:37:gensim.models.word2vec:EPOCH - 3 : training on 105046 raw words (54231 effective words) took 0.0s, 1726354 effective words/s\n",
      "INFO:2022-01-07 20:20:37:gensim.models.word2vec:worker thread finished; awaiting finish of 7 more threads\n",
      "INFO:2022-01-07 20:20:37:gensim.models.word2vec:worker thread finished; awaiting finish of 6 more threads\n",
      "INFO:2022-01-07 20:20:37:gensim.models.word2vec:worker thread finished; awaiting finish of 5 more threads\n",
      "INFO:2022-01-07 20:20:37:gensim.models.word2vec:worker thread finished; awaiting finish of 4 more threads\n",
      "INFO:2022-01-07 20:20:37:gensim.models.word2vec:worker thread finished; awaiting finish of 3 more threads\n",
      "INFO:2022-01-07 20:20:37:gensim.models.word2vec:worker thread finished; awaiting finish of 2 more threads\n",
      "INFO:2022-01-07 20:20:37:gensim.models.word2vec:worker thread finished; awaiting finish of 1 more threads\n",
      "INFO:2022-01-07 20:20:37:gensim.models.word2vec:worker thread finished; awaiting finish of 0 more threads\n",
      "INFO:2022-01-07 20:20:37:gensim.models.word2vec:EPOCH - 4 : training on 105046 raw words (53963 effective words) took 0.0s, 1781963 effective words/s\n",
      "INFO:2022-01-07 20:20:37:gensim.models.word2vec:worker thread finished; awaiting finish of 7 more threads\n",
      "INFO:2022-01-07 20:20:37:gensim.models.word2vec:worker thread finished; awaiting finish of 6 more threads\n",
      "INFO:2022-01-07 20:20:37:gensim.models.word2vec:worker thread finished; awaiting finish of 5 more threads\n",
      "INFO:2022-01-07 20:20:37:gensim.models.word2vec:worker thread finished; awaiting finish of 4 more threads\n",
      "INFO:2022-01-07 20:20:37:gensim.models.word2vec:worker thread finished; awaiting finish of 3 more threads\n",
      "INFO:2022-01-07 20:20:37:gensim.models.word2vec:worker thread finished; awaiting finish of 2 more threads\n",
      "INFO:2022-01-07 20:20:37:gensim.models.word2vec:worker thread finished; awaiting finish of 1 more threads\n",
      "INFO:2022-01-07 20:20:37:gensim.models.word2vec:worker thread finished; awaiting finish of 0 more threads\n",
      "INFO:2022-01-07 20:20:37:gensim.models.word2vec:EPOCH - 5 : training on 105046 raw words (54017 effective words) took 0.0s, 1706844 effective words/s\n",
      "INFO:2022-01-07 20:20:37:gensim.utils:Word2Vec lifecycle event {'msg': 'training on 525230 raw words (270433 effective words) took 0.2s, 1151020 effective words/s', 'datetime': '2022-01-07T20:20:37.319858', 'gensim': '4.1.2', 'python': '3.8.8 (tags/v3.8.8:024d805, Feb 19 2021, 13:18:16) [MSC v.1928 64 bit (AMD64)]', 'platform': 'Windows-10-10.0.19041-SP0', 'event': 'train'}\n"
     ]
    },
    {
     "name": "stderr",
     "output_type": "stream",
     "text": [
      "INFO:2022-01-07 20:20:37:gensim.utils:Word2Vec lifecycle event {'params': 'Word2Vec(vocab=2518, vector_size=20, alpha=0.025)', 'datetime': '2022-01-07T20:20:37.320856', 'gensim': '4.1.2', 'python': '3.8.8 (tags/v3.8.8:024d805, Feb 19 2021, 13:18:16) [MSC v.1928 64 bit (AMD64)]', 'platform': 'Windows-10-10.0.19041-SP0', 'event': 'created'}\n"
     ]
    },
    {
     "data": {
      "text/plain": [
       "W2VEmbedder()"
      ]
     },
     "execution_count": 18,
     "metadata": {},
     "output_type": "execute_result"
    }
   ],
   "source": [
    "emb.fit(train_tokens)"
   ]
  },
  {
   "cell_type": "code",
   "execution_count": 20,
   "id": "68a4c09b",
   "metadata": {
    "ExecuteTime": {
     "end_time": "2022-01-07T19:21:08.606616Z",
     "start_time": "2022-01-07T19:21:08.228711Z"
    }
   },
   "outputs": [],
   "source": [
    "train_w2v = emb.transform(train_tokens)\n",
    "test_w2v = emb.transform(test_tokens)"
   ]
  },
  {
   "cell_type": "markdown",
   "id": "76126cf7",
   "metadata": {},
   "source": [
    "## train model"
   ]
  },
  {
   "cell_type": "code",
   "execution_count": 153,
   "id": "bccb113b",
   "metadata": {
    "ExecuteTime": {
     "end_time": "2022-01-07T20:49:52.462581Z",
     "start_time": "2022-01-07T20:49:50.974105Z"
    },
    "scrolled": true
   },
   "outputs": [
    {
     "name": "stdout",
     "output_type": "stream",
     "text": [
      "Learning rate set to 0.056\n",
      "0:\ttest: 0.4827582\tbest: 0.4827582 (0)\ttotal: 7.08ms\tremaining: 7.07s\n",
      "10:\ttest: 0.5062203\tbest: 0.5152877 (3)\ttotal: 69.7ms\tremaining: 6.27s\n",
      "20:\ttest: 0.4705159\tbest: 0.5152877 (3)\ttotal: 131ms\tremaining: 6.12s\n",
      "30:\ttest: 0.4825166\tbest: 0.5152877 (3)\ttotal: 196ms\tremaining: 6.12s\n",
      "40:\ttest: 0.4972694\tbest: 0.5152877 (3)\ttotal: 262ms\tremaining: 6.13s\n",
      "50:\ttest: 0.4954620\tbest: 0.5152877 (3)\ttotal: 324ms\tremaining: 6.03s\n",
      "60:\ttest: 0.4990424\tbest: 0.5152877 (3)\ttotal: 386ms\tremaining: 5.95s\n",
      "70:\ttest: 0.4976922\tbest: 0.5152877 (3)\ttotal: 450ms\tremaining: 5.89s\n",
      "80:\ttest: 0.4807264\tbest: 0.5152877 (3)\ttotal: 512ms\tremaining: 5.81s\n",
      "90:\ttest: 0.4820119\tbest: 0.5152877 (3)\ttotal: 574ms\tremaining: 5.74s\n",
      "100:\ttest: 0.4800017\tbest: 0.5152877 (3)\ttotal: 636ms\tremaining: 5.66s\n",
      "110:\ttest: 0.4726167\tbest: 0.5152877 (3)\ttotal: 700ms\tremaining: 5.6s\n",
      "120:\ttest: 0.4690277\tbest: 0.5152877 (3)\ttotal: 761ms\tremaining: 5.53s\n",
      "130:\ttest: 0.4777414\tbest: 0.5152877 (3)\ttotal: 825ms\tremaining: 5.47s\n",
      "140:\ttest: 0.4834699\tbest: 0.5152877 (3)\ttotal: 889ms\tremaining: 5.41s\n",
      "150:\ttest: 0.4777068\tbest: 0.5152877 (3)\ttotal: 956ms\tremaining: 5.38s\n",
      "160:\ttest: 0.4791131\tbest: 0.5152877 (3)\ttotal: 1.02s\tremaining: 5.32s\n",
      "170:\ttest: 0.4781210\tbest: 0.5152877 (3)\ttotal: 1.08s\tremaining: 5.25s\n",
      "180:\ttest: 0.4722716\tbest: 0.5152877 (3)\ttotal: 1.15s\tremaining: 5.2s\n",
      "190:\ttest: 0.4716418\tbest: 0.5152877 (3)\ttotal: 1.22s\tremaining: 5.17s\n",
      "200:\ttest: 0.4698646\tbest: 0.5152877 (3)\ttotal: 1.29s\tremaining: 5.12s\n",
      "Stopped by overfitting detector  (200 iterations wait)\n",
      "\n",
      "bestTest = 0.5152877232\n",
      "bestIteration = 3\n",
      "\n",
      "Shrink model to first 4 iterations.\n"
     ]
    },
    {
     "data": {
      "text/plain": [
       "<catboost.core.CatBoostClassifier at 0x1e055c21280>"
      ]
     },
     "execution_count": 153,
     "metadata": {},
     "output_type": "execute_result"
    }
   ],
   "source": [
    "params = {\n",
    "    'eval_metric': 'AUC',\n",
    "    'early_stopping_rounds': 200,\n",
    "    'verbose': 10,\n",
    "}\n",
    "\n",
    "cb = CatBoostClassifier(**params)\n",
    "cb.fit(X=train_w2v, y=train_label_tok, eval_set=(test_w2v, test_label_tok))"
   ]
  },
  {
   "cell_type": "markdown",
   "id": "029ff026",
   "metadata": {},
   "source": [
    "## summ"
   ]
  },
  {
   "cell_type": "code",
   "execution_count": 160,
   "id": "46c9fb2d",
   "metadata": {
    "ExecuteTime": {
     "end_time": "2022-01-07T20:52:12.770191Z",
     "start_time": "2022-01-07T20:52:12.519705Z"
    }
   },
   "outputs": [
    {
     "data": {
      "text/html": [
       "<div>\n",
       "<style scoped>\n",
       "    .dataframe tbody tr th:only-of-type {\n",
       "        vertical-align: middle;\n",
       "    }\n",
       "\n",
       "    .dataframe tbody tr th {\n",
       "        vertical-align: top;\n",
       "    }\n",
       "\n",
       "    .dataframe thead th {\n",
       "        text-align: right;\n",
       "    }\n",
       "</style>\n",
       "<table border=\"1\" class=\"dataframe\">\n",
       "  <thead>\n",
       "    <tr style=\"text-align: right;\">\n",
       "      <th></th>\n",
       "      <th>train</th>\n",
       "      <th>test</th>\n",
       "    </tr>\n",
       "  </thead>\n",
       "  <tbody>\n",
       "    <tr>\n",
       "      <th>AUC</th>\n",
       "      <td>0.551923</td>\n",
       "      <td>0.515249</td>\n",
       "    </tr>\n",
       "    <tr>\n",
       "      <th>Accuracy</th>\n",
       "      <td>0.859565</td>\n",
       "      <td>0.819820</td>\n",
       "    </tr>\n",
       "    <tr>\n",
       "      <th>F1</th>\n",
       "      <td>0.063830</td>\n",
       "      <td>0.072165</td>\n",
       "    </tr>\n",
       "    <tr>\n",
       "      <th>Precision</th>\n",
       "      <td>0.073282</td>\n",
       "      <td>0.116667</td>\n",
       "    </tr>\n",
       "    <tr>\n",
       "      <th>Recall</th>\n",
       "      <td>0.056537</td>\n",
       "      <td>0.052239</td>\n",
       "    </tr>\n",
       "  </tbody>\n",
       "</table>\n",
       "</div>"
      ],
      "text/plain": [
       "              train      test\n",
       "AUC        0.551923  0.515249\n",
       "Accuracy   0.859565  0.819820\n",
       "F1         0.063830  0.072165\n",
       "Precision  0.073282  0.116667\n",
       "Recall     0.056537  0.052239"
      ]
     },
     "metadata": {},
     "output_type": "display_data"
    },
    {
     "name": "stdout",
     "output_type": "stream",
     "text": [
      "|mean pred |0.379661|0.379834|\n"
     ]
    },
    {
     "data": {
      "text/plain": [
       "<AxesSubplot:ylabel='Frequency'>"
      ]
     },
     "execution_count": 160,
     "metadata": {},
     "output_type": "execute_result"
    },
    {
     "data": {
      "image/png": "[encoded data removed]",
      "text/plain": [
       "<Figure size 432x288 with 1 Axes>"
      ]
     },
     "metadata": {
      "needs_background": "light"
     },
     "output_type": "display_data"
    }
   ],
   "source": [
    "proba_train = cb.predict_proba(train_w2v)[:, 1]\n",
    "proba_test = cb.predict_proba(test_w2v)[:, 1]\n",
    "\n",
    "display(compute_metrics((train_label_tok, proba_train), (test_label_tok, proba_test)))\n",
    "\n",
    "print(f'|mean pred |{round(np.mean(proba_train), 6)}|{round(np.mean(proba_test), 6)}|')\n",
    "pd.Series(proba_test).plot.hist()"
   ]
  },
  {
   "cell_type": "markdown",
   "id": "727ccf79",
   "metadata": {
    "ExecuteTime": {
     "end_time": "2022-01-07T19:33:38.847385Z",
     "start_time": "2022-01-07T19:33:38.744895Z"
    }
   },
   "source": [
    "## svm"
   ]
  },
  {
   "cell_type": "code",
   "execution_count": 29,
   "id": "24f58df2",
   "metadata": {
    "ExecuteTime": {
     "end_time": "2022-01-07T19:40:10.410030Z",
     "start_time": "2022-01-07T19:40:09.931684Z"
    }
   },
   "outputs": [],
   "source": [
    "from sklearn.svm import SVC"
   ]
  },
  {
   "cell_type": "code",
   "execution_count": 34,
   "id": "9010ec5c",
   "metadata": {
    "ExecuteTime": {
     "end_time": "2022-01-07T19:41:34.087244Z",
     "start_time": "2022-01-07T19:41:28.533854Z"
    }
   },
   "outputs": [
    {
     "data": {
      "text/plain": [
       "SVC(probability=True)"
      ]
     },
     "execution_count": 34,
     "metadata": {},
     "output_type": "execute_result"
    }
   ],
   "source": [
    "clf = SVC(probability=True)\n",
    "\n",
    "clf.fit(train_w2v, train_label_tok)"
   ]
  },
  {
   "cell_type": "code",
   "execution_count": 161,
   "id": "08a7a7e9",
   "metadata": {
    "ExecuteTime": {
     "end_time": "2022-01-07T20:53:07.252533Z",
     "start_time": "2022-01-07T20:53:04.740597Z"
    }
   },
   "outputs": [
    {
     "data": {
      "text/html": [
       "<div>\n",
       "<style scoped>\n",
       "    .dataframe tbody tr th:only-of-type {\n",
       "        vertical-align: middle;\n",
       "    }\n",
       "\n",
       "    .dataframe tbody tr th {\n",
       "        vertical-align: top;\n",
       "    }\n",
       "\n",
       "    .dataframe thead th {\n",
       "        text-align: right;\n",
       "    }\n",
       "</style>\n",
       "<table border=\"1\" class=\"dataframe\">\n",
       "  <thead>\n",
       "    <tr style=\"text-align: right;\">\n",
       "      <th></th>\n",
       "      <th>train</th>\n",
       "      <th>test</th>\n",
       "    </tr>\n",
       "  </thead>\n",
       "  <tbody>\n",
       "    <tr>\n",
       "      <th>AUC</th>\n",
       "      <td>0.500769</td>\n",
       "      <td>0.518670</td>\n",
       "    </tr>\n",
       "    <tr>\n",
       "      <th>Accuracy</th>\n",
       "      <td>0.846000</td>\n",
       "      <td>0.793794</td>\n",
       "    </tr>\n",
       "    <tr>\n",
       "      <th>F1</th>\n",
       "      <td>0.090695</td>\n",
       "      <td>0.096491</td>\n",
       "    </tr>\n",
       "    <tr>\n",
       "      <th>Precision</th>\n",
       "      <td>0.090695</td>\n",
       "      <td>0.117021</td>\n",
       "    </tr>\n",
       "    <tr>\n",
       "      <th>Recall</th>\n",
       "      <td>0.090695</td>\n",
       "      <td>0.082090</td>\n",
       "    </tr>\n",
       "  </tbody>\n",
       "</table>\n",
       "</div>"
      ],
      "text/plain": [
       "              train      test\n",
       "AUC        0.500769  0.518670\n",
       "Accuracy   0.846000  0.793794\n",
       "F1         0.090695  0.096491\n",
       "Precision  0.090695  0.117021\n",
       "Recall     0.090695  0.082090"
      ]
     },
     "metadata": {},
     "output_type": "display_data"
    },
    {
     "name": "stdout",
     "output_type": "stream",
     "text": [
      "|mean pred |0.083677|0.083493|\n"
     ]
    },
    {
     "data": {
      "text/plain": [
       "<AxesSubplot:ylabel='Frequency'>"
      ]
     },
     "execution_count": 161,
     "metadata": {},
     "output_type": "execute_result"
    },
    {
     "data": {
      "image/png": "[encoded data removed]",
      "text/plain": [
       "<Figure size 432x288 with 1 Axes>"
      ]
     },
     "metadata": {
      "needs_background": "light"
     },
     "output_type": "display_data"
    }
   ],
   "source": [
    "proba_train = clf.predict_proba(train_w2v)[:, 1]\n",
    "proba_test = clf.predict_proba(test_w2v)[:, 1]\n",
    "\n",
    "display(compute_metrics((train_label_tok, proba_train), (test_label_tok, proba_test)))\n",
    "\n",
    "print(f'|mean pred |{round(np.mean(proba_train), 6)}|{round(np.mean(proba_test), 6)}|')\n",
    "pd.Series(proba_test).plot.hist()"
   ]
  },
  {
   "cell_type": "markdown",
   "id": "9d622cc2",
   "metadata": {},
   "source": [
    "# w2v 100 vector"
   ]
  },
  {
   "cell_type": "markdown",
   "id": "9c0546cb",
   "metadata": {},
   "source": [
    "## prep data"
   ]
  },
  {
   "cell_type": "code",
   "execution_count": 163,
   "id": "b3424543",
   "metadata": {
    "ExecuteTime": {
     "end_time": "2022-01-07T20:57:25.999656Z",
     "start_time": "2022-01-07T20:57:25.882838Z"
    }
   },
   "outputs": [
    {
     "data": {
      "text/plain": [
       "{'alpha': 0.025,\n",
       " 'cbow_mean': 1,\n",
       " 'epochs': 5,\n",
       " 'hs': 0,\n",
       " 'max_final_vocab': None,\n",
       " 'min_alpha': 0.0001,\n",
       " 'min_count': 5,\n",
       " 'model_name': 'w2v',\n",
       " 'negative': 5,\n",
       " 'ns_exponent': 0.75,\n",
       " 'sample': 0.001,\n",
       " 'sg': 0,\n",
       " 'vector_size': 100,\n",
       " 'window': 5,\n",
       " 'workers': 8}"
      ]
     },
     "execution_count": 163,
     "metadata": {},
     "output_type": "execute_result"
    }
   ],
   "source": [
    "emb = W2VEmbedder(vector_size=100)\n",
    "emb.get_params()"
   ]
  },
  {
   "cell_type": "code",
   "execution_count": 164,
   "id": "1142d31a",
   "metadata": {
    "ExecuteTime": {
     "end_time": "2022-01-07T20:58:01.370393Z",
     "start_time": "2022-01-07T20:58:00.927851Z"
    },
    "scrolled": true
   },
   "outputs": [
    {
     "name": "stderr",
     "output_type": "stream",
     "text": [
      "INFO:2022-01-07 21:58:01:gensim.models.word2vec:collecting all words and their counts\n",
      "INFO:2022-01-07 21:58:01:gensim.models.word2vec:PROGRESS: at sentence #0, processed 0 words, keeping 0 word types\n",
      "INFO:2022-01-07 21:58:01:gensim.models.word2vec:PROGRESS: at sentence #10000, processed 104799 words, keeping 21734 word types\n",
      "INFO:2022-01-07 21:58:01:gensim.models.word2vec:collected 21764 word types from a corpus of 105046 raw words and 10026 sentences\n",
      "INFO:2022-01-07 21:58:01:gensim.models.word2vec:Creating a fresh vocabulary\n",
      "INFO:2022-01-07 21:58:01:gensim.utils:Word2Vec lifecycle event {'msg': 'effective_min_count=5 retains 2518 unique words (11.56956441830546%% of original 21764, drops 19246)', 'datetime': '2022-01-07T21:58:01.060757', 'gensim': '4.1.2', 'python': '3.8.8 (tags/v3.8.8:024d805, Feb 19 2021, 13:18:16) [MSC v.1928 64 bit (AMD64)]', 'platform': 'Windows-10-10.0.19041-SP0', 'event': 'prepare_vocab'}\n",
      "INFO:2022-01-07 21:58:01:gensim.utils:Word2Vec lifecycle event {'msg': 'effective_min_count=5 leaves 76284 word corpus (72.6196142642271%% of original 105046, drops 28762)', 'datetime': '2022-01-07T21:58:01.061723', 'gensim': '4.1.2', 'python': '3.8.8 (tags/v3.8.8:024d805, Feb 19 2021, 13:18:16) [MSC v.1928 64 bit (AMD64)]', 'platform': 'Windows-10-10.0.19041-SP0', 'event': 'prepare_vocab'}\n",
      "INFO:2022-01-07 21:58:01:gensim.models.word2vec:deleting the raw counts dictionary of 21764 items\n",
      "INFO:2022-01-07 21:58:01:gensim.models.word2vec:sample=0.001 downsamples 45 most-common words\n",
      "INFO:2022-01-07 21:58:01:gensim.utils:Word2Vec lifecycle event {'msg': 'downsampling leaves estimated 54133.531426439586 word corpus (71.0%% of prior 76284)', 'datetime': '2022-01-07T21:58:01.079173', 'gensim': '4.1.2', 'python': '3.8.8 (tags/v3.8.8:024d805, Feb 19 2021, 13:18:16) [MSC v.1928 64 bit (AMD64)]', 'platform': 'Windows-10-10.0.19041-SP0', 'event': 'prepare_vocab'}\n",
      "INFO:2022-01-07 21:58:01:gensim.models.word2vec:estimated required memory for 2518 words and 100 dimensions: 3273400 bytes\n",
      "INFO:2022-01-07 21:58:01:gensim.models.word2vec:resetting layer weights\n",
      "INFO:2022-01-07 21:58:01:gensim.utils:Word2Vec lifecycle event {'update': False, 'trim_rule': 'None', 'datetime': '2022-01-07T21:58:01.107099', 'gensim': '4.1.2', 'python': '3.8.8 (tags/v3.8.8:024d805, Feb 19 2021, 13:18:16) [MSC v.1928 64 bit (AMD64)]', 'platform': 'Windows-10-10.0.19041-SP0', 'event': 'build_vocab'}\n",
      "INFO:2022-01-07 21:58:01:gensim.utils:Word2Vec lifecycle event {'msg': 'training model with 8 workers on 2518 vocabulary and 100 features, using sg=0 hs=0 sample=0.001 negative=5 window=5 shrink_windows=True', 'datetime': '2022-01-07T21:58:01.108106', 'gensim': '4.1.2', 'python': '3.8.8 (tags/v3.8.8:024d805, Feb 19 2021, 13:18:16) [MSC v.1928 64 bit (AMD64)]', 'platform': 'Windows-10-10.0.19041-SP0', 'event': 'train'}\n",
      "INFO:2022-01-07 21:58:01:gensim.models.word2vec:worker thread finished; awaiting finish of 7 more threads\n",
      "INFO:2022-01-07 21:58:01:gensim.models.word2vec:worker thread finished; awaiting finish of 6 more threads\n",
      "INFO:2022-01-07 21:58:01:gensim.models.word2vec:worker thread finished; awaiting finish of 5 more threads\n",
      "INFO:2022-01-07 21:58:01:gensim.models.word2vec:worker thread finished; awaiting finish of 4 more threads\n",
      "INFO:2022-01-07 21:58:01:gensim.models.word2vec:worker thread finished; awaiting finish of 3 more threads\n",
      "INFO:2022-01-07 21:58:01:gensim.models.word2vec:worker thread finished; awaiting finish of 2 more threads\n",
      "INFO:2022-01-07 21:58:01:gensim.models.word2vec:worker thread finished; awaiting finish of 1 more threads\n",
      "INFO:2022-01-07 21:58:01:gensim.models.word2vec:worker thread finished; awaiting finish of 0 more threads\n",
      "INFO:2022-01-07 21:58:01:gensim.models.word2vec:EPOCH - 1 : training on 105046 raw words (54095 effective words) took 0.0s, 1492634 effective words/s\n",
      "INFO:2022-01-07 21:58:01:gensim.models.word2vec:worker thread finished; awaiting finish of 7 more threads\n",
      "INFO:2022-01-07 21:58:01:gensim.models.word2vec:worker thread finished; awaiting finish of 6 more threads\n",
      "INFO:2022-01-07 21:58:01:gensim.models.word2vec:worker thread finished; awaiting finish of 5 more threads\n",
      "INFO:2022-01-07 21:58:01:gensim.models.word2vec:worker thread finished; awaiting finish of 4 more threads\n",
      "INFO:2022-01-07 21:58:01:gensim.models.word2vec:worker thread finished; awaiting finish of 3 more threads\n",
      "INFO:2022-01-07 21:58:01:gensim.models.word2vec:worker thread finished; awaiting finish of 2 more threads\n",
      "INFO:2022-01-07 21:58:01:gensim.models.word2vec:worker thread finished; awaiting finish of 1 more threads\n",
      "INFO:2022-01-07 21:58:01:gensim.models.word2vec:worker thread finished; awaiting finish of 0 more threads\n",
      "INFO:2022-01-07 21:58:01:gensim.models.word2vec:EPOCH - 2 : training on 105046 raw words (54144 effective words) took 0.0s, 1478944 effective words/s\n",
      "INFO:2022-01-07 21:58:01:gensim.models.word2vec:worker thread finished; awaiting finish of 7 more threads\n",
      "INFO:2022-01-07 21:58:01:gensim.models.word2vec:worker thread finished; awaiting finish of 6 more threads\n",
      "INFO:2022-01-07 21:58:01:gensim.models.word2vec:worker thread finished; awaiting finish of 5 more threads\n",
      "INFO:2022-01-07 21:58:01:gensim.models.word2vec:worker thread finished; awaiting finish of 4 more threads\n",
      "INFO:2022-01-07 21:58:01:gensim.models.word2vec:worker thread finished; awaiting finish of 3 more threads\n",
      "INFO:2022-01-07 21:58:01:gensim.models.word2vec:worker thread finished; awaiting finish of 2 more threads\n",
      "INFO:2022-01-07 21:58:01:gensim.models.word2vec:worker thread finished; awaiting finish of 1 more threads\n",
      "INFO:2022-01-07 21:58:01:gensim.models.word2vec:worker thread finished; awaiting finish of 0 more threads\n",
      "INFO:2022-01-07 21:58:01:gensim.models.word2vec:EPOCH - 3 : training on 105046 raw words (54324 effective words) took 0.0s, 1460185 effective words/s\n",
      "INFO:2022-01-07 21:58:01:gensim.models.word2vec:worker thread finished; awaiting finish of 7 more threads\n",
      "INFO:2022-01-07 21:58:01:gensim.models.word2vec:worker thread finished; awaiting finish of 6 more threads\n",
      "INFO:2022-01-07 21:58:01:gensim.models.word2vec:worker thread finished; awaiting finish of 5 more threads\n",
      "INFO:2022-01-07 21:58:01:gensim.models.word2vec:worker thread finished; awaiting finish of 4 more threads\n",
      "INFO:2022-01-07 21:58:01:gensim.models.word2vec:worker thread finished; awaiting finish of 3 more threads\n",
      "INFO:2022-01-07 21:58:01:gensim.models.word2vec:worker thread finished; awaiting finish of 2 more threads\n",
      "INFO:2022-01-07 21:58:01:gensim.models.word2vec:worker thread finished; awaiting finish of 1 more threads\n",
      "INFO:2022-01-07 21:58:01:gensim.models.word2vec:worker thread finished; awaiting finish of 0 more threads\n",
      "INFO:2022-01-07 21:58:01:gensim.models.word2vec:EPOCH - 4 : training on 105046 raw words (54110 effective words) took 0.0s, 1476741 effective words/s\n",
      "INFO:2022-01-07 21:58:01:gensim.models.word2vec:worker thread finished; awaiting finish of 7 more threads\n",
      "INFO:2022-01-07 21:58:01:gensim.models.word2vec:worker thread finished; awaiting finish of 6 more threads\n",
      "INFO:2022-01-07 21:58:01:gensim.models.word2vec:worker thread finished; awaiting finish of 5 more threads\n",
      "INFO:2022-01-07 21:58:01:gensim.models.word2vec:worker thread finished; awaiting finish of 4 more threads\n",
      "INFO:2022-01-07 21:58:01:gensim.models.word2vec:worker thread finished; awaiting finish of 3 more threads\n",
      "INFO:2022-01-07 21:58:01:gensim.models.word2vec:worker thread finished; awaiting finish of 2 more threads\n",
      "INFO:2022-01-07 21:58:01:gensim.models.word2vec:worker thread finished; awaiting finish of 1 more threads\n",
      "INFO:2022-01-07 21:58:01:gensim.models.word2vec:worker thread finished; awaiting finish of 0 more threads\n",
      "INFO:2022-01-07 21:58:01:gensim.models.word2vec:EPOCH - 5 : training on 105046 raw words (54088 effective words) took 0.0s, 1606391 effective words/s\n",
      "INFO:2022-01-07 21:58:01:gensim.utils:Word2Vec lifecycle event {'msg': 'training on 525230 raw words (270761 effective words) took 0.3s, 1072475 effective words/s', 'datetime': '2022-01-07T21:58:01.361419', 'gensim': '4.1.2', 'python': '3.8.8 (tags/v3.8.8:024d805, Feb 19 2021, 13:18:16) [MSC v.1928 64 bit (AMD64)]', 'platform': 'Windows-10-10.0.19041-SP0', 'event': 'train'}\n"
     ]
    },
    {
     "name": "stderr",
     "output_type": "stream",
     "text": [
      "INFO:2022-01-07 21:58:01:gensim.utils:Word2Vec lifecycle event {'params': 'Word2Vec(vocab=2518, vector_size=100, alpha=0.025)', 'datetime': '2022-01-07T21:58:01.362416', 'gensim': '4.1.2', 'python': '3.8.8 (tags/v3.8.8:024d805, Feb 19 2021, 13:18:16) [MSC v.1928 64 bit (AMD64)]', 'platform': 'Windows-10-10.0.19041-SP0', 'event': 'created'}\n"
     ]
    },
    {
     "data": {
      "text/plain": [
       "W2VEmbedder(vector_size=100)"
      ]
     },
     "execution_count": 164,
     "metadata": {},
     "output_type": "execute_result"
    }
   ],
   "source": [
    "emb.fit(train_tokens)"
   ]
  },
  {
   "cell_type": "code",
   "execution_count": 165,
   "id": "5a82a365",
   "metadata": {
    "ExecuteTime": {
     "end_time": "2022-01-07T20:58:27.757833Z",
     "start_time": "2022-01-07T20:58:27.162631Z"
    }
   },
   "outputs": [],
   "source": [
    "train_w2v = emb.transform(train_tokens)\n",
    "test_w2v = emb.transform(test_tokens)"
   ]
  },
  {
   "cell_type": "markdown",
   "id": "da8adfac",
   "metadata": {},
   "source": [
    "## cb"
   ]
  },
  {
   "cell_type": "code",
   "execution_count": 168,
   "id": "2ec87072",
   "metadata": {
    "ExecuteTime": {
     "end_time": "2022-01-07T20:59:28.943269Z",
     "start_time": "2022-01-07T20:59:24.016794Z"
    },
    "scrolled": true
   },
   "outputs": [
    {
     "name": "stdout",
     "output_type": "stream",
     "text": [
      "Learning rate set to 0.056\n",
      "0:\ttest: 0.4599733\tbest: 0.4599733 (0)\ttotal: 14.6ms\tremaining: 14.6s\n",
      "10:\ttest: 0.4794625\tbest: 0.4966396 (6)\ttotal: 154ms\tremaining: 13.8s\n",
      "20:\ttest: 0.4692046\tbest: 0.4966396 (6)\ttotal: 294ms\tremaining: 13.7s\n",
      "30:\ttest: 0.4761151\tbest: 0.4966396 (6)\ttotal: 431ms\tremaining: 13.5s\n",
      "40:\ttest: 0.4820378\tbest: 0.4966396 (6)\ttotal: 571ms\tremaining: 13.4s\n",
      "50:\ttest: 0.4767018\tbest: 0.4966396 (6)\ttotal: 711ms\tremaining: 13.2s\n",
      "60:\ttest: 0.4737080\tbest: 0.4966396 (6)\ttotal: 846ms\tremaining: 13s\n",
      "70:\ttest: 0.4757484\tbest: 0.4966396 (6)\ttotal: 986ms\tremaining: 12.9s\n",
      "80:\ttest: 0.4784919\tbest: 0.4966396 (6)\ttotal: 1.16s\tremaining: 13.2s\n",
      "90:\ttest: 0.4860625\tbest: 0.4966396 (6)\ttotal: 1.3s\tremaining: 13s\n",
      "100:\ttest: 0.4894013\tbest: 0.4966396 (6)\ttotal: 1.45s\tremaining: 12.9s\n",
      "110:\ttest: 0.5084850\tbest: 0.5084850 (110)\ttotal: 1.59s\tremaining: 12.8s\n",
      "120:\ttest: 0.5049392\tbest: 0.5094686 (111)\ttotal: 1.74s\tremaining: 12.6s\n",
      "130:\ttest: 0.5115219\tbest: 0.5119877 (129)\ttotal: 1.88s\tremaining: 12.5s\n",
      "140:\ttest: 0.5030886\tbest: 0.5119877 (129)\ttotal: 2.02s\tremaining: 12.3s\n",
      "150:\ttest: 0.5017082\tbest: 0.5119877 (129)\ttotal: 2.16s\tremaining: 12.1s\n",
      "160:\ttest: 0.4995600\tbest: 0.5119877 (129)\ttotal: 2.3s\tremaining: 12s\n",
      "170:\ttest: 0.4966612\tbest: 0.5119877 (129)\ttotal: 2.44s\tremaining: 11.8s\n",
      "180:\ttest: 0.4984816\tbest: 0.5119877 (129)\ttotal: 2.58s\tremaining: 11.7s\n",
      "190:\ttest: 0.4991459\tbest: 0.5119877 (129)\ttotal: 2.73s\tremaining: 11.5s\n",
      "200:\ttest: 0.4992235\tbest: 0.5119877 (129)\ttotal: 2.87s\tremaining: 11.4s\n",
      "210:\ttest: 0.4988871\tbest: 0.5119877 (129)\ttotal: 3s\tremaining: 11.2s\n",
      "220:\ttest: 0.4979122\tbest: 0.5119877 (129)\ttotal: 3.15s\tremaining: 11.1s\n",
      "230:\ttest: 0.4969459\tbest: 0.5119877 (129)\ttotal: 3.28s\tremaining: 10.9s\n",
      "240:\ttest: 0.5004486\tbest: 0.5119877 (129)\ttotal: 3.42s\tremaining: 10.8s\n",
      "250:\ttest: 0.5031749\tbest: 0.5119877 (129)\ttotal: 3.59s\tremaining: 10.7s\n",
      "260:\ttest: 0.5080062\tbest: 0.5119877 (129)\ttotal: 3.73s\tremaining: 10.6s\n",
      "270:\ttest: 0.5083858\tbest: 0.5119877 (129)\ttotal: 3.88s\tremaining: 10.4s\n",
      "280:\ttest: 0.5060392\tbest: 0.5119877 (129)\ttotal: 4.01s\tremaining: 10.3s\n",
      "290:\ttest: 0.4983867\tbest: 0.5119877 (129)\ttotal: 4.16s\tremaining: 10.1s\n",
      "300:\ttest: 0.5012165\tbest: 0.5119877 (129)\ttotal: 4.3s\tremaining: 9.98s\n",
      "310:\ttest: 0.5011992\tbest: 0.5119877 (129)\ttotal: 4.43s\tremaining: 9.82s\n",
      "320:\ttest: 0.5042360\tbest: 0.5119877 (129)\ttotal: 4.57s\tremaining: 9.67s\n",
      "Stopped by overfitting detector  (200 iterations wait)\n",
      "\n",
      "bestTest = 0.5119877491\n",
      "bestIteration = 129\n",
      "\n",
      "Shrink model to first 130 iterations.\n"
     ]
    },
    {
     "data": {
      "text/plain": [
       "<catboost.core.CatBoostClassifier at 0x1e055d2daf0>"
      ]
     },
     "execution_count": 168,
     "metadata": {},
     "output_type": "execute_result"
    }
   ],
   "source": [
    "params = {\n",
    "    'eval_metric': 'AUC',\n",
    "    'early_stopping_rounds': 200,\n",
    "    'verbose': 10,\n",
    "}\n",
    "\n",
    "cb = CatBoostClassifier(**params)\n",
    "cb.fit(X=train_w2v, y=train_label_tok, eval_set=(test_w2v, test_label_tok))"
   ]
  },
  {
   "cell_type": "code",
   "execution_count": 169,
   "id": "1ef436ad",
   "metadata": {
    "ExecuteTime": {
     "end_time": "2022-01-07T20:59:36.901892Z",
     "start_time": "2022-01-07T20:59:36.661164Z"
    }
   },
   "outputs": [
    {
     "data": {
      "text/html": [
       "<div>\n",
       "<style scoped>\n",
       "    .dataframe tbody tr th:only-of-type {\n",
       "        vertical-align: middle;\n",
       "    }\n",
       "\n",
       "    .dataframe tbody tr th {\n",
       "        vertical-align: top;\n",
       "    }\n",
       "\n",
       "    .dataframe thead th {\n",
       "        text-align: right;\n",
       "    }\n",
       "</style>\n",
       "<table border=\"1\" class=\"dataframe\">\n",
       "  <thead>\n",
       "    <tr style=\"text-align: right;\">\n",
       "      <th></th>\n",
       "      <th>train</th>\n",
       "      <th>test</th>\n",
       "    </tr>\n",
       "  </thead>\n",
       "  <tbody>\n",
       "    <tr>\n",
       "      <th>AUC</th>\n",
       "      <td>0.785252</td>\n",
       "      <td>0.511988</td>\n",
       "    </tr>\n",
       "    <tr>\n",
       "      <th>Accuracy</th>\n",
       "      <td>0.831039</td>\n",
       "      <td>0.802803</td>\n",
       "    </tr>\n",
       "    <tr>\n",
       "      <th>F1</th>\n",
       "      <td>0.002356</td>\n",
       "      <td>0.075117</td>\n",
       "    </tr>\n",
       "    <tr>\n",
       "      <th>Precision</th>\n",
       "      <td>0.002356</td>\n",
       "      <td>0.101266</td>\n",
       "    </tr>\n",
       "    <tr>\n",
       "      <th>Recall</th>\n",
       "      <td>0.002356</td>\n",
       "      <td>0.059701</td>\n",
       "    </tr>\n",
       "  </tbody>\n",
       "</table>\n",
       "</div>"
      ],
      "text/plain": [
       "              train      test\n",
       "AUC        0.785252  0.511988\n",
       "Accuracy   0.831039  0.802803\n",
       "F1         0.002356  0.075117\n",
       "Precision  0.002356  0.101266\n",
       "Recall     0.002356  0.059701"
      ]
     },
     "metadata": {},
     "output_type": "display_data"
    },
    {
     "name": "stdout",
     "output_type": "stream",
     "text": [
      "|mean pred |0.083908|0.085098|\n"
     ]
    },
    {
     "data": {
      "text/plain": [
       "<AxesSubplot:ylabel='Frequency'>"
      ]
     },
     "execution_count": 169,
     "metadata": {},
     "output_type": "execute_result"
    },
    {
     "data": {
      "image/png": "[encoded data removed]",
      "text/plain": [
       "<Figure size 432x288 with 1 Axes>"
      ]
     },
     "metadata": {
      "needs_background": "light"
     },
     "output_type": "display_data"
    }
   ],
   "source": [
    "proba_train = cb.predict_proba(train_w2v)[:, 1]\n",
    "proba_test = cb.predict_proba(test_w2v)[:, 1]\n",
    "\n",
    "display(compute_metrics((train_label_tok, proba_train), (test_label_tok, proba_test)))\n",
    "\n",
    "print(f'|mean pred |{round(np.mean(proba_train), 6)}|{round(np.mean(proba_test), 6)}|')\n",
    "pd.Series(proba_test).plot.hist()"
   ]
  },
  {
   "cell_type": "markdown",
   "id": "4a64f451",
   "metadata": {},
   "source": [
    "## svm"
   ]
  },
  {
   "cell_type": "code",
   "execution_count": 166,
   "id": "3c80c809",
   "metadata": {
    "ExecuteTime": {
     "end_time": "2022-01-07T20:58:42.780756Z",
     "start_time": "2022-01-07T20:58:30.101163Z"
    }
   },
   "outputs": [
    {
     "data": {
      "text/plain": [
       "SVC(probability=True)"
      ]
     },
     "execution_count": 166,
     "metadata": {},
     "output_type": "execute_result"
    }
   ],
   "source": [
    "clf = SVC(probability=True)\n",
    "\n",
    "clf.fit(train_w2v, train_label_tok)"
   ]
  },
  {
   "cell_type": "code",
   "execution_count": 167,
   "id": "cd6cc223",
   "metadata": {
    "ExecuteTime": {
     "end_time": "2022-01-07T20:58:45.865696Z",
     "start_time": "2022-01-07T20:58:42.783735Z"
    }
   },
   "outputs": [
    {
     "data": {
      "text/html": [
       "<div>\n",
       "<style scoped>\n",
       "    .dataframe tbody tr th:only-of-type {\n",
       "        vertical-align: middle;\n",
       "    }\n",
       "\n",
       "    .dataframe tbody tr th {\n",
       "        vertical-align: top;\n",
       "    }\n",
       "\n",
       "    .dataframe thead th {\n",
       "        text-align: right;\n",
       "    }\n",
       "</style>\n",
       "<table border=\"1\" class=\"dataframe\">\n",
       "  <thead>\n",
       "    <tr style=\"text-align: right;\">\n",
       "      <th></th>\n",
       "      <th>train</th>\n",
       "      <th>test</th>\n",
       "    </tr>\n",
       "  </thead>\n",
       "  <tbody>\n",
       "    <tr>\n",
       "      <th>AUC</th>\n",
       "      <td>0.512709</td>\n",
       "      <td>0.482340</td>\n",
       "    </tr>\n",
       "    <tr>\n",
       "      <th>Accuracy</th>\n",
       "      <td>0.842210</td>\n",
       "      <td>0.805806</td>\n",
       "    </tr>\n",
       "    <tr>\n",
       "      <th>F1</th>\n",
       "      <td>0.068316</td>\n",
       "      <td>0.126126</td>\n",
       "    </tr>\n",
       "    <tr>\n",
       "      <th>Precision</th>\n",
       "      <td>0.068316</td>\n",
       "      <td>0.159091</td>\n",
       "    </tr>\n",
       "    <tr>\n",
       "      <th>Recall</th>\n",
       "      <td>0.068316</td>\n",
       "      <td>0.104478</td>\n",
       "    </tr>\n",
       "  </tbody>\n",
       "</table>\n",
       "</div>"
      ],
      "text/plain": [
       "              train      test\n",
       "AUC        0.512709  0.482340\n",
       "Accuracy   0.842210  0.805806\n",
       "F1         0.068316  0.126126\n",
       "Precision  0.068316  0.159091\n",
       "Recall     0.068316  0.104478"
      ]
     },
     "metadata": {},
     "output_type": "display_data"
    },
    {
     "name": "stdout",
     "output_type": "stream",
     "text": [
      "|mean pred |0.083236|0.083327|\n"
     ]
    },
    {
     "data": {
      "text/plain": [
       "<AxesSubplot:ylabel='Frequency'>"
      ]
     },
     "execution_count": 167,
     "metadata": {},
     "output_type": "execute_result"
    },
    {
     "data": {
      "image/png": "[encoded data removed]",
      "text/plain": [
       "<Figure size 432x288 with 1 Axes>"
      ]
     },
     "metadata": {
      "needs_background": "light"
     },
     "output_type": "display_data"
    }
   ],
   "source": [
    "proba_train = clf.predict_proba(train_w2v)[:, 1]\n",
    "proba_test = clf.predict_proba(test_w2v)[:, 1]\n",
    "\n",
    "display(compute_metrics((train_label_tok, proba_train), (test_label_tok, proba_test)))\n",
    "\n",
    "print(f'|mean pred |{round(np.mean(proba_train), 6)}|{round(np.mean(proba_test), 6)}|')\n",
    "pd.Series(proba_test).plot.hist()"
   ]
  },
  {
   "cell_type": "markdown",
   "id": "56bf056f",
   "metadata": {},
   "source": [
    "# w2v 500"
   ]
  },
  {
   "cell_type": "markdown",
   "id": "a199552f",
   "metadata": {},
   "source": [
    "## prep data"
   ]
  },
  {
   "cell_type": "code",
   "execution_count": 171,
   "id": "27162151",
   "metadata": {
    "ExecuteTime": {
     "end_time": "2022-01-07T21:04:40.485520Z",
     "start_time": "2022-01-07T21:04:38.067918Z"
    },
    "scrolled": true
   },
   "outputs": [
    {
     "name": "stderr",
     "output_type": "stream",
     "text": [
      "INFO:2022-01-07 22:04:38:gensim.models.word2vec:collecting all words and their counts\n",
      "INFO:2022-01-07 22:04:38:gensim.models.word2vec:PROGRESS: at sentence #0, processed 0 words, keeping 0 word types\n",
      "INFO:2022-01-07 22:04:38:gensim.models.word2vec:PROGRESS: at sentence #10000, processed 104799 words, keeping 21734 word types\n",
      "INFO:2022-01-07 22:04:38:gensim.models.word2vec:collected 21764 word types from a corpus of 105046 raw words and 10026 sentences\n",
      "INFO:2022-01-07 22:04:38:gensim.models.word2vec:Creating a fresh vocabulary\n",
      "INFO:2022-01-07 22:04:38:gensim.utils:Word2Vec lifecycle event {'msg': 'effective_min_count=5 retains 2518 unique words (11.56956441830546%% of original 21764, drops 19246)', 'datetime': '2022-01-07T22:04:38.202682', 'gensim': '4.1.2', 'python': '3.8.8 (tags/v3.8.8:024d805, Feb 19 2021, 13:18:16) [MSC v.1928 64 bit (AMD64)]', 'platform': 'Windows-10-10.0.19041-SP0', 'event': 'prepare_vocab'}\n",
      "INFO:2022-01-07 22:04:38:gensim.utils:Word2Vec lifecycle event {'msg': 'effective_min_count=5 leaves 76284 word corpus (72.6196142642271%% of original 105046, drops 28762)', 'datetime': '2022-01-07T22:04:38.203700', 'gensim': '4.1.2', 'python': '3.8.8 (tags/v3.8.8:024d805, Feb 19 2021, 13:18:16) [MSC v.1928 64 bit (AMD64)]', 'platform': 'Windows-10-10.0.19041-SP0', 'event': 'prepare_vocab'}\n",
      "INFO:2022-01-07 22:04:38:gensim.models.word2vec:deleting the raw counts dictionary of 21764 items\n",
      "INFO:2022-01-07 22:04:38:gensim.models.word2vec:sample=0.001 downsamples 45 most-common words\n",
      "INFO:2022-01-07 22:04:38:gensim.utils:Word2Vec lifecycle event {'msg': 'downsampling leaves estimated 54133.531426439586 word corpus (71.0%% of prior 76284)', 'datetime': '2022-01-07T22:04:38.219605', 'gensim': '4.1.2', 'python': '3.8.8 (tags/v3.8.8:024d805, Feb 19 2021, 13:18:16) [MSC v.1928 64 bit (AMD64)]', 'platform': 'Windows-10-10.0.19041-SP0', 'event': 'prepare_vocab'}\n",
      "INFO:2022-01-07 22:04:38:gensim.models.word2vec:estimated required memory for 2518 words and 500 dimensions: 11331000 bytes\n",
      "INFO:2022-01-07 22:04:38:gensim.models.word2vec:resetting layer weights\n",
      "INFO:2022-01-07 22:04:38:gensim.utils:Word2Vec lifecycle event {'update': False, 'trim_rule': 'None', 'datetime': '2022-01-07T22:04:38.249560', 'gensim': '4.1.2', 'python': '3.8.8 (tags/v3.8.8:024d805, Feb 19 2021, 13:18:16) [MSC v.1928 64 bit (AMD64)]', 'platform': 'Windows-10-10.0.19041-SP0', 'event': 'build_vocab'}\n",
      "INFO:2022-01-07 22:04:38:gensim.utils:Word2Vec lifecycle event {'msg': 'training model with 8 workers on 2518 vocabulary and 500 features, using sg=0 hs=0 sample=0.001 negative=5 window=5 shrink_windows=True', 'datetime': '2022-01-07T22:04:38.250522', 'gensim': '4.1.2', 'python': '3.8.8 (tags/v3.8.8:024d805, Feb 19 2021, 13:18:16) [MSC v.1928 64 bit (AMD64)]', 'platform': 'Windows-10-10.0.19041-SP0', 'event': 'train'}\n",
      "INFO:2022-01-07 22:04:38:gensim.models.word2vec:worker thread finished; awaiting finish of 7 more threads\n",
      "INFO:2022-01-07 22:04:38:gensim.models.word2vec:worker thread finished; awaiting finish of 6 more threads\n",
      "INFO:2022-01-07 22:04:38:gensim.models.word2vec:worker thread finished; awaiting finish of 5 more threads\n",
      "INFO:2022-01-07 22:04:38:gensim.models.word2vec:worker thread finished; awaiting finish of 4 more threads\n",
      "INFO:2022-01-07 22:04:38:gensim.models.word2vec:worker thread finished; awaiting finish of 3 more threads\n",
      "INFO:2022-01-07 22:04:38:gensim.models.word2vec:worker thread finished; awaiting finish of 2 more threads\n",
      "INFO:2022-01-07 22:04:38:gensim.models.word2vec:worker thread finished; awaiting finish of 1 more threads\n",
      "INFO:2022-01-07 22:04:38:gensim.models.word2vec:worker thread finished; awaiting finish of 0 more threads\n",
      "INFO:2022-01-07 22:04:38:gensim.models.word2vec:EPOCH - 1 : training on 105046 raw words (54218 effective words) took 0.1s, 930063 effective words/s\n",
      "INFO:2022-01-07 22:04:38:gensim.models.word2vec:worker thread finished; awaiting finish of 7 more threads\n",
      "INFO:2022-01-07 22:04:38:gensim.models.word2vec:worker thread finished; awaiting finish of 6 more threads\n",
      "INFO:2022-01-07 22:04:38:gensim.models.word2vec:worker thread finished; awaiting finish of 5 more threads\n",
      "INFO:2022-01-07 22:04:38:gensim.models.word2vec:worker thread finished; awaiting finish of 4 more threads\n",
      "INFO:2022-01-07 22:04:38:gensim.models.word2vec:worker thread finished; awaiting finish of 3 more threads\n",
      "INFO:2022-01-07 22:04:38:gensim.models.word2vec:worker thread finished; awaiting finish of 2 more threads\n",
      "INFO:2022-01-07 22:04:38:gensim.models.word2vec:worker thread finished; awaiting finish of 1 more threads\n",
      "INFO:2022-01-07 22:04:38:gensim.models.word2vec:worker thread finished; awaiting finish of 0 more threads\n",
      "INFO:2022-01-07 22:04:38:gensim.models.word2vec:EPOCH - 2 : training on 105046 raw words (54215 effective words) took 0.1s, 962194 effective words/s\n",
      "INFO:2022-01-07 22:04:38:gensim.models.word2vec:worker thread finished; awaiting finish of 7 more threads\n",
      "INFO:2022-01-07 22:04:38:gensim.models.word2vec:worker thread finished; awaiting finish of 6 more threads\n",
      "INFO:2022-01-07 22:04:38:gensim.models.word2vec:worker thread finished; awaiting finish of 5 more threads\n",
      "INFO:2022-01-07 22:04:38:gensim.models.word2vec:worker thread finished; awaiting finish of 4 more threads\n",
      "INFO:2022-01-07 22:04:38:gensim.models.word2vec:worker thread finished; awaiting finish of 3 more threads\n",
      "INFO:2022-01-07 22:04:38:gensim.models.word2vec:worker thread finished; awaiting finish of 2 more threads\n",
      "INFO:2022-01-07 22:04:38:gensim.models.word2vec:worker thread finished; awaiting finish of 1 more threads\n",
      "INFO:2022-01-07 22:04:38:gensim.models.word2vec:worker thread finished; awaiting finish of 0 more threads\n",
      "INFO:2022-01-07 22:04:38:gensim.models.word2vec:EPOCH - 3 : training on 105046 raw words (54151 effective words) took 0.1s, 967067 effective words/s\n",
      "INFO:2022-01-07 22:04:38:gensim.models.word2vec:worker thread finished; awaiting finish of 7 more threads\n",
      "INFO:2022-01-07 22:04:38:gensim.models.word2vec:worker thread finished; awaiting finish of 6 more threads\n",
      "INFO:2022-01-07 22:04:38:gensim.models.word2vec:worker thread finished; awaiting finish of 5 more threads\n",
      "INFO:2022-01-07 22:04:38:gensim.models.word2vec:worker thread finished; awaiting finish of 4 more threads\n",
      "INFO:2022-01-07 22:04:38:gensim.models.word2vec:worker thread finished; awaiting finish of 3 more threads\n",
      "INFO:2022-01-07 22:04:38:gensim.models.word2vec:worker thread finished; awaiting finish of 2 more threads\n",
      "INFO:2022-01-07 22:04:38:gensim.models.word2vec:worker thread finished; awaiting finish of 1 more threads\n",
      "INFO:2022-01-07 22:04:38:gensim.models.word2vec:worker thread finished; awaiting finish of 0 more threads\n",
      "INFO:2022-01-07 22:04:38:gensim.models.word2vec:EPOCH - 4 : training on 105046 raw words (54186 effective words) took 0.1s, 937396 effective words/s\n",
      "INFO:2022-01-07 22:04:38:gensim.models.word2vec:worker thread finished; awaiting finish of 7 more threads\n",
      "INFO:2022-01-07 22:04:38:gensim.models.word2vec:worker thread finished; awaiting finish of 6 more threads\n",
      "INFO:2022-01-07 22:04:38:gensim.models.word2vec:worker thread finished; awaiting finish of 5 more threads\n",
      "INFO:2022-01-07 22:04:38:gensim.models.word2vec:worker thread finished; awaiting finish of 4 more threads\n",
      "INFO:2022-01-07 22:04:38:gensim.models.word2vec:worker thread finished; awaiting finish of 3 more threads\n",
      "INFO:2022-01-07 22:04:38:gensim.models.word2vec:worker thread finished; awaiting finish of 2 more threads\n",
      "INFO:2022-01-07 22:04:38:gensim.models.word2vec:worker thread finished; awaiting finish of 1 more threads\n",
      "INFO:2022-01-07 22:04:38:gensim.models.word2vec:worker thread finished; awaiting finish of 0 more threads\n",
      "INFO:2022-01-07 22:04:38:gensim.models.word2vec:EPOCH - 5 : training on 105046 raw words (54085 effective words) took 0.1s, 948477 effective words/s\n",
      "INFO:2022-01-07 22:04:38:gensim.utils:Word2Vec lifecycle event {'msg': 'training on 525230 raw words (270855 effective words) took 0.3s, 779223 effective words/s', 'datetime': '2022-01-07T22:04:38.599022', 'gensim': '4.1.2', 'python': '3.8.8 (tags/v3.8.8:024d805, Feb 19 2021, 13:18:16) [MSC v.1928 64 bit (AMD64)]', 'platform': 'Windows-10-10.0.19041-SP0', 'event': 'train'}\n",
      "INFO:2022-01-07 22:04:38:gensim.utils:Word2Vec lifecycle event {'params': 'Word2Vec(vocab=2518, vector_size=500, alpha=0.025)', 'datetime': '2022-01-07T22:04:38.599022', 'gensim': '4.1.2', 'python': '3.8.8 (tags/v3.8.8:024d805, Feb 19 2021, 13:18:16) [MSC v.1928 64 bit (AMD64)]', 'platform': 'Windows-10-10.0.19041-SP0', 'event': 'created'}\n"
     ]
    }
   ],
   "source": [
    "emb = W2VEmbedder(vector_size=500)\n",
    "emb.get_params()\n",
    "\n",
    "emb.fit(train_tokens)\n",
    "train_w2v = emb.transform(train_tokens)\n",
    "test_w2v = emb.transform(test_tokens)"
   ]
  },
  {
   "cell_type": "markdown",
   "id": "529b1394",
   "metadata": {
    "ExecuteTime": {
     "end_time": "2022-01-07T21:04:46.432303Z",
     "start_time": "2022-01-07T21:04:46.327051Z"
    }
   },
   "source": [
    "## cb"
   ]
  },
  {
   "cell_type": "code",
   "execution_count": 173,
   "id": "570e2961",
   "metadata": {
    "ExecuteTime": {
     "end_time": "2022-01-07T21:05:18.578927Z",
     "start_time": "2022-01-07T21:05:04.362381Z"
    },
    "scrolled": true
   },
   "outputs": [
    {
     "name": "stdout",
     "output_type": "stream",
     "text": [
      "Learning rate set to 0.056\n",
      "0:\ttest: 0.4690363\tbest: 0.4690363 (0)\ttotal: 52.9ms\tremaining: 52.9s\n",
      "10:\ttest: 0.4592529\tbest: 0.4690363 (0)\ttotal: 559ms\tremaining: 50.2s\n",
      "20:\ttest: 0.4671340\tbest: 0.4690363 (0)\ttotal: 1.09s\tremaining: 50.6s\n",
      "30:\ttest: 0.4568545\tbest: 0.4690363 (0)\ttotal: 1.61s\tremaining: 50.3s\n",
      "40:\ttest: 0.4539772\tbest: 0.4690363 (0)\ttotal: 2.11s\tremaining: 49.4s\n",
      "50:\ttest: 0.4597662\tbest: 0.4690363 (0)\ttotal: 2.62s\tremaining: 48.8s\n",
      "60:\ttest: 0.4593435\tbest: 0.4690363 (0)\ttotal: 3.12s\tremaining: 48s\n",
      "70:\ttest: 0.4702226\tbest: 0.4706453 (68)\ttotal: 3.61s\tremaining: 47.2s\n",
      "80:\ttest: 0.4680226\tbest: 0.4733112 (72)\ttotal: 4.1s\tremaining: 46.5s\n",
      "90:\ttest: 0.4634717\tbest: 0.4733112 (72)\ttotal: 4.58s\tremaining: 45.8s\n",
      "100:\ttest: 0.4589164\tbest: 0.4733112 (72)\ttotal: 5.08s\tremaining: 45.2s\n",
      "110:\ttest: 0.4581054\tbest: 0.4733112 (72)\ttotal: 5.58s\tremaining: 44.7s\n",
      "120:\ttest: 0.4568890\tbest: 0.4733112 (72)\ttotal: 6.1s\tremaining: 44.3s\n",
      "130:\ttest: 0.4555949\tbest: 0.4733112 (72)\ttotal: 6.63s\tremaining: 44s\n",
      "140:\ttest: 0.4537486\tbest: 0.4733112 (72)\ttotal: 7.12s\tremaining: 43.4s\n",
      "150:\ttest: 0.4579588\tbest: 0.4733112 (72)\ttotal: 7.62s\tremaining: 42.8s\n",
      "160:\ttest: 0.4564317\tbest: 0.4733112 (72)\ttotal: 8.12s\tremaining: 42.3s\n",
      "170:\ttest: 0.4577172\tbest: 0.4733112 (72)\ttotal: 8.61s\tremaining: 41.7s\n",
      "180:\ttest: 0.4559745\tbest: 0.4733112 (72)\ttotal: 9.09s\tremaining: 41.1s\n",
      "190:\ttest: 0.4455957\tbest: 0.4733112 (72)\ttotal: 9.57s\tremaining: 40.5s\n",
      "200:\ttest: 0.4448020\tbest: 0.4733112 (72)\ttotal: 10.1s\tremaining: 40s\n",
      "210:\ttest: 0.4487361\tbest: 0.4733112 (72)\ttotal: 10.6s\tremaining: 39.5s\n",
      "220:\ttest: 0.4482443\tbest: 0.4733112 (72)\ttotal: 11.1s\tremaining: 39s\n",
      "230:\ttest: 0.4508757\tbest: 0.4733112 (72)\ttotal: 11.6s\tremaining: 38.5s\n",
      "240:\ttest: 0.4471141\tbest: 0.4733112 (72)\ttotal: 12.1s\tremaining: 38s\n",
      "250:\ttest: 0.4463463\tbest: 0.4733112 (72)\ttotal: 12.6s\tremaining: 37.5s\n",
      "260:\ttest: 0.4369856\tbest: 0.4733112 (72)\ttotal: 13.1s\tremaining: 37.1s\n",
      "270:\ttest: 0.4376758\tbest: 0.4733112 (72)\ttotal: 13.6s\tremaining: 36.6s\n",
      "Stopped by overfitting detector  (200 iterations wait)\n",
      "\n",
      "bestTest = 0.4733111897\n",
      "bestIteration = 72\n",
      "\n",
      "Shrink model to first 73 iterations.\n"
     ]
    },
    {
     "data": {
      "text/html": [
       "<div>\n",
       "<style scoped>\n",
       "    .dataframe tbody tr th:only-of-type {\n",
       "        vertical-align: middle;\n",
       "    }\n",
       "\n",
       "    .dataframe tbody tr th {\n",
       "        vertical-align: top;\n",
       "    }\n",
       "\n",
       "    .dataframe thead th {\n",
       "        text-align: right;\n",
       "    }\n",
       "</style>\n",
       "<table border=\"1\" class=\"dataframe\">\n",
       "  <thead>\n",
       "    <tr style=\"text-align: right;\">\n",
       "      <th></th>\n",
       "      <th>train</th>\n",
       "      <th>test</th>\n",
       "    </tr>\n",
       "  </thead>\n",
       "  <tbody>\n",
       "    <tr>\n",
       "      <th>AUC</th>\n",
       "      <td>0.670866</td>\n",
       "      <td>0.473311</td>\n",
       "    </tr>\n",
       "    <tr>\n",
       "      <th>Accuracy</th>\n",
       "      <td>0.835228</td>\n",
       "      <td>0.810811</td>\n",
       "    </tr>\n",
       "    <tr>\n",
       "      <th>F1</th>\n",
       "      <td>0.027091</td>\n",
       "      <td>0.078049</td>\n",
       "    </tr>\n",
       "    <tr>\n",
       "      <th>Precision</th>\n",
       "      <td>0.027091</td>\n",
       "      <td>0.112676</td>\n",
       "    </tr>\n",
       "    <tr>\n",
       "      <th>Recall</th>\n",
       "      <td>0.027091</td>\n",
       "      <td>0.059701</td>\n",
       "    </tr>\n",
       "  </tbody>\n",
       "</table>\n",
       "</div>"
      ],
      "text/plain": [
       "              train      test\n",
       "AUC        0.670866  0.473311\n",
       "Accuracy   0.835228  0.810811\n",
       "F1         0.027091  0.078049\n",
       "Precision  0.027091  0.112676\n",
       "Recall     0.027091  0.059701"
      ]
     },
     "metadata": {},
     "output_type": "display_data"
    },
    {
     "name": "stdout",
     "output_type": "stream",
     "text": [
      "|mean pred |0.086777|0.0878|\n"
     ]
    },
    {
     "data": {
      "text/plain": [
       "<AxesSubplot:ylabel='Frequency'>"
      ]
     },
     "execution_count": 173,
     "metadata": {},
     "output_type": "execute_result"
    },
    {
     "data": {
      "image/png": "[encoded data removed]",
      "text/plain": [
       "<Figure size 432x288 with 1 Axes>"
      ]
     },
     "metadata": {
      "needs_background": "light"
     },
     "output_type": "display_data"
    }
   ],
   "source": [
    "params = {\n",
    "    'eval_metric': 'AUC',\n",
    "    'early_stopping_rounds': 200,\n",
    "    'verbose': 10,\n",
    "}\n",
    "\n",
    "cb = CatBoostClassifier(**params)\n",
    "cb.fit(X=train_w2v, y=train_label_tok, eval_set=(test_w2v, test_label_tok))\n",
    "\n",
    "proba_train = cb.predict_proba(train_w2v)[:, 1]\n",
    "proba_test = cb.predict_proba(test_w2v)[:, 1]\n",
    "\n",
    "display(compute_metrics((train_label_tok, proba_train), (test_label_tok, proba_test)))\n",
    "\n",
    "print(f'|mean pred |{round(np.mean(proba_train), 6)}|{round(np.mean(proba_test), 6)}|')\n",
    "pd.Series(proba_test).plot.hist()"
   ]
  },
  {
   "cell_type": "markdown",
   "id": "285cfa99",
   "metadata": {},
   "source": [
    "## svm"
   ]
  },
  {
   "cell_type": "code",
   "execution_count": 174,
   "id": "51157c95",
   "metadata": {
    "ExecuteTime": {
     "end_time": "2022-01-07T21:08:19.564748Z",
     "start_time": "2022-01-07T21:07:39.746538Z"
    }
   },
   "outputs": [
    {
     "data": {
      "text/html": [
       "<div>\n",
       "<style scoped>\n",
       "    .dataframe tbody tr th:only-of-type {\n",
       "        vertical-align: middle;\n",
       "    }\n",
       "\n",
       "    .dataframe tbody tr th {\n",
       "        vertical-align: top;\n",
       "    }\n",
       "\n",
       "    .dataframe thead th {\n",
       "        text-align: right;\n",
       "    }\n",
       "</style>\n",
       "<table border=\"1\" class=\"dataframe\">\n",
       "  <thead>\n",
       "    <tr style=\"text-align: right;\">\n",
       "      <th></th>\n",
       "      <th>train</th>\n",
       "      <th>test</th>\n",
       "    </tr>\n",
       "  </thead>\n",
       "  <tbody>\n",
       "    <tr>\n",
       "      <th>AUC</th>\n",
       "      <td>0.466008</td>\n",
       "      <td>0.516720</td>\n",
       "    </tr>\n",
       "    <tr>\n",
       "      <th>Accuracy</th>\n",
       "      <td>0.849192</td>\n",
       "      <td>0.806807</td>\n",
       "    </tr>\n",
       "    <tr>\n",
       "      <th>F1</th>\n",
       "      <td>0.109541</td>\n",
       "      <td>0.102326</td>\n",
       "    </tr>\n",
       "    <tr>\n",
       "      <th>Precision</th>\n",
       "      <td>0.109541</td>\n",
       "      <td>0.135802</td>\n",
       "    </tr>\n",
       "    <tr>\n",
       "      <th>Recall</th>\n",
       "      <td>0.109541</td>\n",
       "      <td>0.082090</td>\n",
       "    </tr>\n",
       "  </tbody>\n",
       "</table>\n",
       "</div>"
      ],
      "text/plain": [
       "              train      test\n",
       "AUC        0.466008  0.516720\n",
       "Accuracy   0.849192  0.806807\n",
       "F1         0.109541  0.102326\n",
       "Precision  0.109541  0.135802\n",
       "Recall     0.109541  0.082090"
      ]
     },
     "metadata": {},
     "output_type": "display_data"
    },
    {
     "name": "stdout",
     "output_type": "stream",
     "text": [
      "|mean pred |0.084546|0.084497|\n"
     ]
    },
    {
     "data": {
      "text/plain": [
       "<AxesSubplot:ylabel='Frequency'>"
      ]
     },
     "execution_count": 174,
     "metadata": {},
     "output_type": "execute_result"
    },
    {
     "data": {
      "image/png": "[encoded data removed]",
      "text/plain": [
       "<Figure size 432x288 with 1 Axes>"
      ]
     },
     "metadata": {
      "needs_background": "light"
     },
     "output_type": "display_data"
    }
   ],
   "source": [
    "clf = SVC(probability=True)\n",
    "\n",
    "clf.fit(train_w2v, train_label_tok)\n",
    "\n",
    "proba_train = clf.predict_proba(train_w2v)[:, 1]\n",
    "proba_test = clf.predict_proba(test_w2v)[:, 1]\n",
    "\n",
    "display(compute_metrics((train_label_tok, proba_train), (test_label_tok, proba_test)))\n",
    "\n",
    "print(f'|mean pred |{round(np.mean(proba_train), 6)}|{round(np.mean(proba_test), 6)}|')\n",
    "pd.Series(proba_test).plot.hist()"
   ]
  },
  {
   "cell_type": "markdown",
   "id": "6240af85",
   "metadata": {},
   "source": [
    "# w2v 100 skip-gram"
   ]
  },
  {
   "cell_type": "markdown",
   "id": "e86330da",
   "metadata": {},
   "source": [
    "## prep data"
   ]
  },
  {
   "cell_type": "code",
   "execution_count": 244,
   "id": "fb656e84",
   "metadata": {
    "ExecuteTime": {
     "end_time": "2022-01-07T21:36:27.934232Z",
     "start_time": "2022-01-07T21:36:27.822712Z"
    }
   },
   "outputs": [
    {
     "data": {
      "text/plain": [
       "{'alpha': 0.025,\n",
       " 'cbow_mean': 1,\n",
       " 'epochs': 10,\n",
       " 'hs': 0,\n",
       " 'max_final_vocab': None,\n",
       " 'min_alpha': 0.0001,\n",
       " 'min_count': 5,\n",
       " 'model_name': 'w2v',\n",
       " 'negative': 5,\n",
       " 'ns_exponent': 0.75,\n",
       " 'sample': 0.001,\n",
       " 'sg': 1,\n",
       " 'vector_size': 250,\n",
       " 'window': 5,\n",
       " 'workers': 8}"
      ]
     },
     "execution_count": 244,
     "metadata": {},
     "output_type": "execute_result"
    }
   ],
   "source": [
    "emb.get_params()"
   ]
  },
  {
   "cell_type": "code",
   "execution_count": 253,
   "id": "f90839b7",
   "metadata": {
    "ExecuteTime": {
     "end_time": "2022-01-07T21:37:36.622679Z",
     "start_time": "2022-01-07T21:37:35.002631Z"
    },
    "scrolled": true
   },
   "outputs": [
    {
     "name": "stderr",
     "output_type": "stream",
     "text": [
      "INFO:2022-01-07 22:37:35:gensim.models.word2vec:collecting all words and their counts\n",
      "INFO:2022-01-07 22:37:35:gensim.models.word2vec:PROGRESS: at sentence #0, processed 0 words, keeping 0 word types\n",
      "INFO:2022-01-07 22:37:35:gensim.models.word2vec:PROGRESS: at sentence #10000, processed 104799 words, keeping 21734 word types\n",
      "INFO:2022-01-07 22:37:35:gensim.models.word2vec:collected 21764 word types from a corpus of 105046 raw words and 10026 sentences\n",
      "INFO:2022-01-07 22:37:35:gensim.utils:Word2Vec lifecycle event {'msg': 'max_final_vocab=5000 and min_count=5 resulted in calc_min_count=3, effective_min_count=5', 'datetime': '2022-01-07T22:37:35.125881', 'gensim': '4.1.2', 'python': '3.8.8 (tags/v3.8.8:024d805, Feb 19 2021, 13:18:16) [MSC v.1928 64 bit (AMD64)]', 'platform': 'Windows-10-10.0.19041-SP0', 'event': 'prepare_vocab'}\n",
      "INFO:2022-01-07 22:37:35:gensim.models.word2vec:Creating a fresh vocabulary\n",
      "INFO:2022-01-07 22:37:35:gensim.utils:Word2Vec lifecycle event {'msg': 'effective_min_count=5 retains 2518 unique words (11.56956441830546%% of original 21764, drops 19246)', 'datetime': '2022-01-07T22:37:35.140813', 'gensim': '4.1.2', 'python': '3.8.8 (tags/v3.8.8:024d805, Feb 19 2021, 13:18:16) [MSC v.1928 64 bit (AMD64)]', 'platform': 'Windows-10-10.0.19041-SP0', 'event': 'prepare_vocab'}\n",
      "INFO:2022-01-07 22:37:35:gensim.utils:Word2Vec lifecycle event {'msg': 'effective_min_count=5 leaves 76284 word corpus (72.6196142642271%% of original 105046, drops 28762)', 'datetime': '2022-01-07T22:37:35.141838', 'gensim': '4.1.2', 'python': '3.8.8 (tags/v3.8.8:024d805, Feb 19 2021, 13:18:16) [MSC v.1928 64 bit (AMD64)]', 'platform': 'Windows-10-10.0.19041-SP0', 'event': 'prepare_vocab'}\n",
      "INFO:2022-01-07 22:37:35:gensim.models.word2vec:deleting the raw counts dictionary of 21764 items\n",
      "INFO:2022-01-07 22:37:35:gensim.models.word2vec:sample=0.001 downsamples 45 most-common words\n",
      "INFO:2022-01-07 22:37:35:gensim.utils:Word2Vec lifecycle event {'msg': 'downsampling leaves estimated 54133.531426439586 word corpus (71.0%% of prior 76284)', 'datetime': '2022-01-07T22:37:35.158765', 'gensim': '4.1.2', 'python': '3.8.8 (tags/v3.8.8:024d805, Feb 19 2021, 13:18:16) [MSC v.1928 64 bit (AMD64)]', 'platform': 'Windows-10-10.0.19041-SP0', 'event': 'prepare_vocab'}\n",
      "INFO:2022-01-07 22:37:35:gensim.models.word2vec:estimated required memory for 2518 words and 250 dimensions: 6295000 bytes\n",
      "INFO:2022-01-07 22:37:35:gensim.models.word2vec:resetting layer weights\n",
      "INFO:2022-01-07 22:37:35:gensim.utils:Word2Vec lifecycle event {'update': False, 'trim_rule': 'None', 'datetime': '2022-01-07T22:37:35.186690', 'gensim': '4.1.2', 'python': '3.8.8 (tags/v3.8.8:024d805, Feb 19 2021, 13:18:16) [MSC v.1928 64 bit (AMD64)]', 'platform': 'Windows-10-10.0.19041-SP0', 'event': 'build_vocab'}\n",
      "INFO:2022-01-07 22:37:35:gensim.utils:Word2Vec lifecycle event {'msg': 'training model with 8 workers on 2518 vocabulary and 250 features, using sg=1 hs=0 sample=0.001 negative=5 window=5 shrink_windows=True', 'datetime': '2022-01-07T22:37:35.187742', 'gensim': '4.1.2', 'python': '3.8.8 (tags/v3.8.8:024d805, Feb 19 2021, 13:18:16) [MSC v.1928 64 bit (AMD64)]', 'platform': 'Windows-10-10.0.19041-SP0', 'event': 'train'}\n",
      "INFO:2022-01-07 22:37:35:gensim.models.word2vec:worker thread finished; awaiting finish of 7 more threads\n",
      "INFO:2022-01-07 22:37:35:gensim.models.word2vec:worker thread finished; awaiting finish of 6 more threads\n",
      "INFO:2022-01-07 22:37:35:gensim.models.word2vec:worker thread finished; awaiting finish of 5 more threads\n",
      "INFO:2022-01-07 22:37:35:gensim.models.word2vec:worker thread finished; awaiting finish of 4 more threads\n",
      "INFO:2022-01-07 22:37:35:gensim.models.word2vec:worker thread finished; awaiting finish of 3 more threads\n",
      "INFO:2022-01-07 22:37:35:gensim.models.word2vec:worker thread finished; awaiting finish of 2 more threads\n",
      "INFO:2022-01-07 22:37:35:gensim.models.word2vec:worker thread finished; awaiting finish of 1 more threads\n",
      "INFO:2022-01-07 22:37:35:gensim.models.word2vec:worker thread finished; awaiting finish of 0 more threads\n",
      "INFO:2022-01-07 22:37:35:gensim.models.word2vec:EPOCH - 1 : training on 105046 raw words (54166 effective words) took 0.1s, 555218 effective words/s\n",
      "INFO:2022-01-07 22:37:35:gensim.models.word2vec:worker thread finished; awaiting finish of 7 more threads\n",
      "INFO:2022-01-07 22:37:35:gensim.models.word2vec:worker thread finished; awaiting finish of 6 more threads\n",
      "INFO:2022-01-07 22:37:35:gensim.models.word2vec:worker thread finished; awaiting finish of 5 more threads\n",
      "INFO:2022-01-07 22:37:35:gensim.models.word2vec:worker thread finished; awaiting finish of 4 more threads\n",
      "INFO:2022-01-07 22:37:35:gensim.models.word2vec:worker thread finished; awaiting finish of 3 more threads\n",
      "INFO:2022-01-07 22:37:35:gensim.models.word2vec:worker thread finished; awaiting finish of 2 more threads\n",
      "INFO:2022-01-07 22:37:35:gensim.models.word2vec:worker thread finished; awaiting finish of 1 more threads\n",
      "INFO:2022-01-07 22:37:35:gensim.models.word2vec:worker thread finished; awaiting finish of 0 more threads\n",
      "INFO:2022-01-07 22:37:35:gensim.models.word2vec:EPOCH - 2 : training on 105046 raw words (54155 effective words) took 0.1s, 611243 effective words/s\n",
      "INFO:2022-01-07 22:37:35:gensim.models.word2vec:worker thread finished; awaiting finish of 7 more threads\n",
      "INFO:2022-01-07 22:37:35:gensim.models.word2vec:worker thread finished; awaiting finish of 6 more threads\n",
      "INFO:2022-01-07 22:37:35:gensim.models.word2vec:worker thread finished; awaiting finish of 5 more threads\n",
      "INFO:2022-01-07 22:37:35:gensim.models.word2vec:worker thread finished; awaiting finish of 4 more threads\n",
      "INFO:2022-01-07 22:37:35:gensim.models.word2vec:worker thread finished; awaiting finish of 3 more threads\n",
      "INFO:2022-01-07 22:37:35:gensim.models.word2vec:worker thread finished; awaiting finish of 2 more threads\n",
      "INFO:2022-01-07 22:37:35:gensim.models.word2vec:worker thread finished; awaiting finish of 1 more threads\n",
      "INFO:2022-01-07 22:37:35:gensim.models.word2vec:worker thread finished; awaiting finish of 0 more threads\n",
      "INFO:2022-01-07 22:37:35:gensim.models.word2vec:EPOCH - 3 : training on 105046 raw words (53977 effective words) took 0.1s, 523803 effective words/s\n",
      "INFO:2022-01-07 22:37:35:gensim.models.word2vec:worker thread finished; awaiting finish of 7 more threads\n",
      "INFO:2022-01-07 22:37:35:gensim.models.word2vec:worker thread finished; awaiting finish of 6 more threads\n",
      "INFO:2022-01-07 22:37:35:gensim.models.word2vec:worker thread finished; awaiting finish of 5 more threads\n",
      "INFO:2022-01-07 22:37:35:gensim.models.word2vec:worker thread finished; awaiting finish of 4 more threads\n",
      "INFO:2022-01-07 22:37:35:gensim.models.word2vec:worker thread finished; awaiting finish of 3 more threads\n",
      "INFO:2022-01-07 22:37:35:gensim.models.word2vec:worker thread finished; awaiting finish of 2 more threads\n",
      "INFO:2022-01-07 22:37:35:gensim.models.word2vec:worker thread finished; awaiting finish of 1 more threads\n",
      "INFO:2022-01-07 22:37:35:gensim.models.word2vec:worker thread finished; awaiting finish of 0 more threads\n",
      "INFO:2022-01-07 22:37:35:gensim.models.word2vec:EPOCH - 4 : training on 105046 raw words (54142 effective words) took 0.1s, 594356 effective words/s\n",
      "INFO:2022-01-07 22:37:35:gensim.models.word2vec:worker thread finished; awaiting finish of 7 more threads\n",
      "INFO:2022-01-07 22:37:35:gensim.models.word2vec:worker thread finished; awaiting finish of 6 more threads\n",
      "INFO:2022-01-07 22:37:35:gensim.models.word2vec:worker thread finished; awaiting finish of 5 more threads\n",
      "INFO:2022-01-07 22:37:35:gensim.models.word2vec:worker thread finished; awaiting finish of 4 more threads\n",
      "INFO:2022-01-07 22:37:35:gensim.models.word2vec:worker thread finished; awaiting finish of 3 more threads\n",
      "INFO:2022-01-07 22:37:35:gensim.models.word2vec:worker thread finished; awaiting finish of 2 more threads\n",
      "INFO:2022-01-07 22:37:35:gensim.models.word2vec:worker thread finished; awaiting finish of 1 more threads\n",
      "INFO:2022-01-07 22:37:35:gensim.models.word2vec:worker thread finished; awaiting finish of 0 more threads\n",
      "INFO:2022-01-07 22:37:35:gensim.models.word2vec:EPOCH - 5 : training on 105046 raw words (54102 effective words) took 0.1s, 574818 effective words/s\n"
     ]
    },
    {
     "name": "stderr",
     "output_type": "stream",
     "text": [
      "INFO:2022-01-07 22:37:35:gensim.utils:Word2Vec lifecycle event {'msg': 'training on 525230 raw words (270542 effective words) took 0.5s, 501949 effective words/s', 'datetime': '2022-01-07T22:37:35.727480', 'gensim': '4.1.2', 'python': '3.8.8 (tags/v3.8.8:024d805, Feb 19 2021, 13:18:16) [MSC v.1928 64 bit (AMD64)]', 'platform': 'Windows-10-10.0.19041-SP0', 'event': 'train'}\n",
      "INFO:2022-01-07 22:37:35:gensim.utils:Word2Vec lifecycle event {'params': 'Word2Vec(vocab=2518, vector_size=250, alpha=0.025)', 'datetime': '2022-01-07T22:37:35.727480', 'gensim': '4.1.2', 'python': '3.8.8 (tags/v3.8.8:024d805, Feb 19 2021, 13:18:16) [MSC v.1928 64 bit (AMD64)]', 'platform': 'Windows-10-10.0.19041-SP0', 'event': 'created'}\n"
     ]
    }
   ],
   "source": [
    "emb = W2VEmbedder(vector_size=250, sg=1, epochs=5, max_final_vocab=5000)\n",
    "\n",
    "\n",
    "emb.fit(train_tokens)\n",
    "train_w2v = emb.transform(train_tokens)\n",
    "test_w2v = emb.transform(test_tokens)"
   ]
  },
  {
   "cell_type": "markdown",
   "id": "5befcea5",
   "metadata": {},
   "source": [
    "## cb"
   ]
  },
  {
   "cell_type": "code",
   "execution_count": 257,
   "id": "1d1b6dd3",
   "metadata": {
    "ExecuteTime": {
     "end_time": "2022-01-07T21:38:08.376992Z",
     "start_time": "2022-01-07T21:38:02.487898Z"
    },
    "scrolled": true
   },
   "outputs": [
    {
     "name": "stdout",
     "output_type": "stream",
     "text": [
      "0:\ttest: 0.5206583\tbest: 0.5206583 (0)\ttotal: 52.3ms\tremaining: 52.3s\n",
      "10:\ttest: 0.5478820\tbest: 0.5478820 (10)\ttotal: 827ms\tremaining: 1m 14s\n",
      "20:\ttest: 0.5511172\tbest: 0.5644164 (18)\ttotal: 1.7s\tremaining: 1m 19s\n",
      "30:\ttest: 0.5448322\tbest: 0.5644164 (18)\ttotal: 2.47s\tremaining: 1m 17s\n",
      "40:\ttest: 0.5378699\tbest: 0.5644164 (18)\ttotal: 3.28s\tremaining: 1m 16s\n",
      "50:\ttest: 0.5342162\tbest: 0.5644164 (18)\ttotal: 4.05s\tremaining: 1m 15s\n",
      "60:\ttest: 0.5404624\tbest: 0.5644164 (18)\ttotal: 4.76s\tremaining: 1m 13s\n",
      "Stopped by overfitting detector  (50 iterations wait)\n",
      "\n",
      "bestTest = 0.5644163575\n",
      "bestIteration = 18\n",
      "\n",
      "Shrink model to first 19 iterations.\n"
     ]
    },
    {
     "data": {
      "text/html": [
       "<div>\n",
       "<style scoped>\n",
       "    .dataframe tbody tr th:only-of-type {\n",
       "        vertical-align: middle;\n",
       "    }\n",
       "\n",
       "    .dataframe tbody tr th {\n",
       "        vertical-align: top;\n",
       "    }\n",
       "\n",
       "    .dataframe thead th {\n",
       "        text-align: right;\n",
       "    }\n",
       "</style>\n",
       "<table border=\"1\" class=\"dataframe\">\n",
       "  <thead>\n",
       "    <tr style=\"text-align: right;\">\n",
       "      <th></th>\n",
       "      <th>train</th>\n",
       "      <th>test</th>\n",
       "    </tr>\n",
       "  </thead>\n",
       "  <tbody>\n",
       "    <tr>\n",
       "      <th>AUC</th>\n",
       "      <td>0.625901</td>\n",
       "      <td>0.564416</td>\n",
       "    </tr>\n",
       "    <tr>\n",
       "      <th>Accuracy</th>\n",
       "      <td>0.835428</td>\n",
       "      <td>0.807808</td>\n",
       "    </tr>\n",
       "    <tr>\n",
       "      <th>F1</th>\n",
       "      <td>0.028269</td>\n",
       "      <td>0.085714</td>\n",
       "    </tr>\n",
       "    <tr>\n",
       "      <th>Precision</th>\n",
       "      <td>0.028269</td>\n",
       "      <td>0.118421</td>\n",
       "    </tr>\n",
       "    <tr>\n",
       "      <th>Recall</th>\n",
       "      <td>0.028269</td>\n",
       "      <td>0.067164</td>\n",
       "    </tr>\n",
       "  </tbody>\n",
       "</table>\n",
       "</div>"
      ],
      "text/plain": [
       "              train      test\n",
       "AUC        0.625901  0.564416\n",
       "Accuracy   0.835428  0.807808\n",
       "F1         0.028269  0.085714\n",
       "Precision  0.028269  0.118421\n",
       "Recall     0.028269  0.067164"
      ]
     },
     "metadata": {},
     "output_type": "display_data"
    },
    {
     "name": "stdout",
     "output_type": "stream",
     "text": [
      "|mean pred |0.397805|0.397815|\n"
     ]
    },
    {
     "data": {
      "text/plain": [
       "<AxesSubplot:ylabel='Frequency'>"
      ]
     },
     "execution_count": 257,
     "metadata": {},
     "output_type": "execute_result"
    },
    {
     "data": {
      "image/png": "[encoded data removed]",
      "text/plain": [
       "<Figure size 432x288 with 1 Axes>"
      ]
     },
     "metadata": {
      "needs_background": "light"
     },
     "output_type": "display_data"
    }
   ],
   "source": [
    "params = {\n",
    "    'eval_metric': 'AUC',\n",
    "    'early_stopping_rounds': 50,\n",
    "    'verbose': 10,\n",
    "    'grow_policy': 'Depthwise', #'SymmetricTree', 'Depthwise', 'Lossguide'\n",
    "    'min_data_in_leaf': 10,\n",
    "    'learning_rate': 0.01,\n",
    "    'reg_lambda': 5\n",
    "}\n",
    "\n",
    "cb = CatBoostClassifier(**params)\n",
    "cb.fit(X=train_w2v, y=train_label_tok, eval_set=(test_w2v, test_label_tok))\n",
    "\n",
    "proba_train = cb.predict_proba(train_w2v)[:, 1]\n",
    "proba_test = cb.predict_proba(test_w2v)[:, 1]\n",
    "\n",
    "display(compute_metrics((train_label_tok, proba_train), (test_label_tok, proba_test)))\n",
    "\n",
    "print(f'|mean pred |{round(np.mean(proba_train), 6)}|{round(np.mean(proba_test), 6)}|')\n",
    "pd.Series(proba_test).plot.hist()"
   ]
  },
  {
   "cell_type": "code",
   "execution_count": null,
   "id": "87084bbd",
   "metadata": {},
   "outputs": [],
   "source": []
  }
 ],
 "metadata": {
  "kernelspec": {
   "display_name": "Python 3 (ipykernel)",
   "language": "python",
   "name": "python3"
  },
  "language_info": {
   "codemirror_mode": {
    "name": "ipython",
    "version": 3
   },
   "file_extension": ".py",
   "mimetype": "text/x-python",
   "name": "python",
   "nbconvert_exporter": "python",
   "pygments_lexer": "ipython3",
   "version": "3.8.8"
  },
  "toc": {
   "base_numbering": 1,
   "nav_menu": {},
   "number_sections": true,
   "sideBar": true,
   "skip_h1_title": false,
   "title_cell": "Table of Contents",
   "title_sidebar": "Contents",
   "toc_cell": false,
   "toc_position": {
    "height": "calc(100% - 180px)",
    "left": "10px",
    "top": "150px",
    "width": "288.295px"
   },
   "toc_section_display": true,
   "toc_window_display": true
  }
 },
 "nbformat": 4,
 "nbformat_minor": 5
}
